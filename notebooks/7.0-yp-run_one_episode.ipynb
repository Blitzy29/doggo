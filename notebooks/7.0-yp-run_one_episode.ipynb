{
 "cells": [
  {
   "cell_type": "code",
   "execution_count": 1,
   "metadata": {
    "ExecuteTime": {
     "end_time": "2020-05-18T13:56:50.123105Z",
     "start_time": "2020-05-18T13:56:50.117422Z"
    }
   },
   "outputs": [
    {
     "name": "stdout",
     "output_type": "stream",
     "text": [
      "/Users/admin/Projects/doggo/notebooks\n",
      "/Users/admin/Projects/doggo\n"
     ]
    }
   ],
   "source": [
    "import os\n",
    "print(os.getcwd())\n",
    "def update_working_directory():\n",
    "    from pathlib import Path\n",
    "    p = Path(os.getcwd()).parents[0]\n",
    "    os.chdir(p)\n",
    "    print(p)\n",
    "update_working_directory()"
   ]
  },
  {
   "cell_type": "code",
   "execution_count": 2,
   "metadata": {
    "ExecuteTime": {
     "end_time": "2020-05-18T13:56:51.269741Z",
     "start_time": "2020-05-18T13:56:50.507354Z"
    }
   },
   "outputs": [],
   "source": [
    "import json\n",
    "import dill\n",
    "import sys\n",
    "\n",
    "from src.features.rl_tools import select_best_action\n",
    "from src.features.rl_tools_during_training import save_models\n",
    "\n",
    "from src.data.env_dog import get_env_actions, env_reset, get_happiness, env_step\n",
    "from src.utils.plots import get_info_params\n",
    "from src.visualization.plot_happiness import plot_episode_happiness"
   ]
  },
  {
   "cell_type": "code",
   "execution_count": 3,
   "metadata": {
    "ExecuteTime": {
     "end_time": "2020-05-18T13:56:51.278151Z",
     "start_time": "2020-05-18T13:56:51.272170Z"
    }
   },
   "outputs": [
    {
     "data": {
      "text/plain": [
       "'sarsa_2'"
      ]
     },
     "execution_count": 3,
     "metadata": {},
     "output_type": "execute_result"
    }
   ],
   "source": [
    "method_id_path = 'value_based/sarsa/sarsa_2'\n",
    "method_id = method_id_path.split('/')[-1]\n",
    "method_id"
   ]
  },
  {
   "cell_type": "code",
   "execution_count": 4,
   "metadata": {
    "ExecuteTime": {
     "end_time": "2020-05-18T13:56:53.303576Z",
     "start_time": "2020-05-18T13:56:52.925054Z"
    }
   },
   "outputs": [],
   "source": [
    "# Parametrisation\n",
    "params = json.loads(open('src/models/run_one_episode.json').read())\n",
    "params_method = json.loads(open('src/models/{}.json'.format(method_id_path)).read())\n",
    "\n",
    "action_dict, n_actions = get_env_actions()\n",
    "\n",
    "# Variables\n",
    "\n",
    "if params_method['method'] == 'Double-Q-Learning':\n",
    "    with open(\"models/{}__Q1.pkl\".format(method_id), \"rb\") as input_file:\n",
    "        Q1 = dill.load(input_file)\n",
    "    with open(\"models/{}__Q2.pkl\".format(method_id), \"rb\") as input_file:\n",
    "        Q2 = dill.load(input_file)\n",
    "else:\n",
    "    with open(\"models/{}__Q.pkl\".format(method_id), \"rb\") as input_file:\n",
    "        Q = dill.load(input_file)\n"
   ]
  },
  {
   "cell_type": "code",
   "execution_count": 5,
   "metadata": {
    "ExecuteTime": {
     "end_time": "2020-05-18T13:56:53.744019Z",
     "start_time": "2020-05-18T13:56:53.740097Z"
    }
   },
   "outputs": [
    {
     "data": {
      "text/plain": [
       "172106"
      ]
     },
     "execution_count": 5,
     "metadata": {},
     "output_type": "execute_result"
    }
   ],
   "source": [
    "len(Q)"
   ]
  },
  {
   "cell_type": "code",
   "execution_count": 14,
   "metadata": {
    "ExecuteTime": {
     "end_time": "2020-05-18T13:58:20.501362Z",
     "start_time": "2020-05-18T13:58:20.495696Z"
    }
   },
   "outputs": [],
   "source": [
    "evo_episode = {\n",
    "    'n_episode_steps': 0\n",
    "    , 'done': False\n",
    "    , 'action': []\n",
    "    , 'action_taken': []\n",
    "    , 'reward': []\n",
    "    , 'happiness': []\n",
    "    , 'food': []\n",
    "    , 'inv_fat': []\n",
    "    , 'affection': []\n",
    "}\n",
    "\n",
    "# Start episode and get initial observation\n",
    "state = env_reset()\n",
    "evo_episode['happiness'].append(get_happiness(state))\n",
    "evo_episode['food'].append(state['food'])\n",
    "evo_episode['inv_fat'].append(1-state['fat'])\n",
    "evo_episode['affection'].append(state['affection'])"
   ]
  },
  {
   "cell_type": "code",
   "execution_count": 15,
   "metadata": {
    "ExecuteTime": {
     "end_time": "2020-05-18T13:58:20.690676Z",
     "start_time": "2020-05-18T13:58:20.679228Z"
    }
   },
   "outputs": [],
   "source": [
    "while (not evo_episode['done']) and (evo_episode['n_episode_steps'] < params['nmax_steps']):\n",
    "\n",
    "    # Get an action\n",
    "    if params_method['method'] == 'Double-Q-Learning':\n",
    "        action = select_best_action(Q_state=Q1[state['state_id']] + Q2[state['state_id']])\n",
    "    else:\n",
    "        action = select_best_action(Q_state=Q[state['state_id']])\n",
    "    evo_episode['action'].append(action)\n",
    "\n",
    "    # Perform a step\n",
    "    state, reward, evo_episode['done'], info = env_step(state, action)\n",
    "    evo_episode['reward'].append(reward)\n",
    "    evo_episode['happiness'].append(get_happiness(state))\n",
    "    if info['action_taken_while_not_possible']:\n",
    "        evo_episode['action_taken'].append(0)\n",
    "    else:\n",
    "        evo_episode['action_taken'].append(action)\n",
    "    evo_episode['food'].append(state['food'])\n",
    "    evo_episode['inv_fat'].append(1-state['fat'])\n",
    "    evo_episode['affection'].append(state['affection'])\n",
    "\n",
    "    # Update n_steps\n",
    "    evo_episode['n_episode_steps'] += 1\n"
   ]
  },
  {
   "cell_type": "code",
   "execution_count": 89,
   "metadata": {
    "ExecuteTime": {
     "end_time": "2020-05-18T13:53:01.084228Z",
     "start_time": "2020-05-18T13:53:01.080753Z"
    }
   },
   "outputs": [
    {
     "data": {
      "text/plain": [
       "-10"
      ]
     },
     "execution_count": 89,
     "metadata": {},
     "output_type": "execute_result"
    }
   ],
   "source": [
    "reward"
   ]
  },
  {
   "cell_type": "code",
   "execution_count": 88,
   "metadata": {
    "ExecuteTime": {
     "end_time": "2020-05-18T13:45:34.477216Z",
     "start_time": "2020-05-18T13:45:34.472805Z"
    }
   },
   "outputs": [
    {
     "data": {
      "text/plain": [
       "{'food': 1.0,\n",
       " 'fat': 1.0,\n",
       " 'affection': 0.57,\n",
       " 'last_action_taken': 2,\n",
       " 'minutes_since_last_action': 1,\n",
       " 'can_action_be_taken': True,\n",
       " 'state_id': '1.0000_1.0000_0.5700_True'}"
      ]
     },
     "execution_count": 88,
     "metadata": {},
     "output_type": "execute_result"
    }
   ],
   "source": [
    "state"
   ]
  },
  {
   "cell_type": "code",
   "execution_count": 82,
   "metadata": {
    "ExecuteTime": {
     "end_time": "2020-05-18T13:33:01.062566Z",
     "start_time": "2020-05-18T13:33:01.058360Z"
    }
   },
   "outputs": [],
   "source": [
    "evo_episode['avg_reward'] = sum(evo_episode['reward']) / evo_episode['n_episode_steps']\n",
    "evo_episode['n_steps'] = evo_episode['n_episode_steps']\n",
    "evo_episode['avg_happiness'] = sum(evo_episode['happiness']) / evo_episode['n_episode_steps']"
   ]
  },
  {
   "cell_type": "code",
   "execution_count": 83,
   "metadata": {
    "ExecuteTime": {
     "end_time": "2020-05-18T13:33:01.470071Z",
     "start_time": "2020-05-18T13:33:01.464375Z"
    }
   },
   "outputs": [
    {
     "data": {
      "text/plain": [
       "'method: SARSA - method_id: sarsa_2 - Avg Reward: 0.0407 -  \\n N-Steps: 157 - Avg Happiness: 0.2815'"
      ]
     },
     "execution_count": 83,
     "metadata": {},
     "output_type": "execute_result"
    }
   ],
   "source": [
    "info_params = get_info_params({\n",
    "    'method': params_method['method']\n",
    "    , 'method_id': method_id\n",
    "    , 'Avg Reward': round(evo_episode['avg_reward'], 4)\n",
    "    , 'N-Steps': evo_episode['n_steps']\n",
    "    , 'Avg Happiness': round(evo_episode['avg_happiness'], 4)\n",
    "})\n",
    "info_params"
   ]
  },
  {
   "cell_type": "code",
   "execution_count": 41,
   "metadata": {
    "ExecuteTime": {
     "end_time": "2020-05-18T12:51:24.702069Z",
     "start_time": "2020-05-18T12:51:20.168824Z"
    }
   },
   "outputs": [],
   "source": [
    "plot_episode_happiness(evo_episode, action_dict, method_id, info_params)"
   ]
  },
  {
   "cell_type": "code",
   "execution_count": 42,
   "metadata": {
    "ExecuteTime": {
     "end_time": "2020-05-18T12:51:24.709019Z",
     "start_time": "2020-05-18T12:51:24.704731Z"
    }
   },
   "outputs": [
    {
     "data": {
      "text/plain": [
       "dict_keys(['n_episode_steps', 'done', 'action', 'reward', 'happiness', 'avg_reward', 'n_steps', 'avg_happiness'])"
      ]
     },
     "execution_count": 42,
     "metadata": {},
     "output_type": "execute_result"
    }
   ],
   "source": [
    "evo_episode.keys()"
   ]
  },
  {
   "cell_type": "code",
   "execution_count": 43,
   "metadata": {
    "ExecuteTime": {
     "end_time": "2020-05-18T12:51:24.716595Z",
     "start_time": "2020-05-18T12:51:24.711814Z"
    }
   },
   "outputs": [],
   "source": [
    "save_models({'evo_episode':evo_episode}, method_id, final=True)"
   ]
  },
  {
   "cell_type": "code",
   "execution_count": 65,
   "metadata": {
    "ExecuteTime": {
     "end_time": "2020-05-18T13:22:03.873576Z",
     "start_time": "2020-05-18T13:22:03.869585Z"
    }
   },
   "outputs": [
    {
     "data": {
      "text/plain": [
       "dict_keys(['n_episode_steps', 'done', 'action', 'reward', 'happiness', 'avg_reward', 'n_steps', 'avg_happiness'])"
      ]
     },
     "execution_count": 65,
     "metadata": {},
     "output_type": "execute_result"
    }
   ],
   "source": [
    "evo_episode.keys()"
   ]
  },
  {
   "cell_type": "code",
   "execution_count": 20,
   "metadata": {
    "ExecuteTime": {
     "end_time": "2020-05-18T13:59:39.647194Z",
     "start_time": "2020-05-18T13:59:39.644330Z"
    }
   },
   "outputs": [],
   "source": [
    "method = method_id"
   ]
  },
  {
   "cell_type": "code",
   "execution_count": 85,
   "metadata": {
    "ExecuteTime": {
     "end_time": "2020-05-18T13:33:54.917683Z",
     "start_time": "2020-05-18T13:33:54.913697Z"
    }
   },
   "outputs": [
    {
     "data": {
      "text/plain": [
       "['r', 'g', 'b', 'k', 'darkorange', 'y', 'lime', 'c', 'm', '#acc2d9']"
      ]
     },
     "execution_count": 85,
     "metadata": {},
     "output_type": "execute_result"
    }
   ],
   "source": [
    "COLORS[:10]"
   ]
  },
  {
   "cell_type": "code",
   "execution_count": 22,
   "metadata": {
    "ExecuteTime": {
     "end_time": "2020-05-18T14:00:06.625838Z",
     "start_time": "2020-05-18T14:00:06.266981Z"
    }
   },
   "outputs": [
    {
     "data": {
      "image/png": "[encoded data removed]",
      "text/plain": [
       "<Figure size 1440x360 with 1 Axes>"
      ]
     },
     "metadata": {
      "needs_background": "light"
     },
     "output_type": "display_data"
    }
   ],
   "source": [
    "inv_action_dict = {v: k for k, v in action_dict.items()}\n",
    "\n",
    "HAPPINESS_patch = mpatches.Patch(color=COLORS[0], label='Happiness')\n",
    "\n",
    "WALKING_patch = mpatches.Patch(color=COLORS[inv_action_dict['WALKING']+3], label='Walking')\n",
    "EATING_patch = mpatches.Patch(color=COLORS[inv_action_dict['EATING']+3], label='Eating')\n",
    "PLAYING_patch = mpatches.Patch(color=COLORS[inv_action_dict['PLAYING']+3], label='Playing')\n",
    "\n",
    "FOOD_patch = mpatches.Patch(color=COLORS[1], label='Food')\n",
    "INV_FAT_patch = mpatches.Patch(color=COLORS[2], label='Fat (inv.)')\n",
    "AFFECTION_patch = mpatches.Patch(color=COLORS[3], label='Affection')\n",
    "\n",
    "\n",
    "fig = plt.figure(figsize=(20, 5))\n",
    "\n",
    "y = evo_episode['happiness']\n",
    "x = range(len(y))\n",
    "plt.plot(x, y, label='happiness', color=COLORS[0], linewidth=2)\n",
    "\n",
    "cnt=1\n",
    "for i_characteristic in ['food', 'inv_fat', 'affection']:\n",
    "    y = evo_episode[i_characteristic]\n",
    "    x = range(len(y))\n",
    "    plt.plot(x, y, label=i_characteristic, linewidth=0.5, color=COLORS[cnt])\n",
    "    cnt += 1\n",
    "            \n",
    "for i in range(len(evo_episode['action'])):\n",
    "    if evo_episode['action'][i] != 0:\n",
    "        plt.axvline(x=i, color=COLORS[evo_episode['action'][i]+3], linewidth=0.75, alpha=0.5,\n",
    "                    label=action_dict[evo_episode['action'][i]])\n",
    "    if evo_episode['action_taken'][i] != 0:\n",
    "        plt.axvline(x=i, color=COLORS[evo_episode['action_taken'][i]+3], linewidth=1, alpha=1,\n",
    "                    label=action_dict[evo_episode['action_taken'][i]])\n",
    "\n",
    "plt.title('{} - Happiness over time'.format(method))\n",
    "plt.ylim([-0.05, 1.05])\n",
    "plt.xlabel('Episode \\n' + info_params)\n",
    "plt.ylabel('Happiness')\n",
    "plt.legend(handles=[HAPPINESS_patch, FOOD_patch, INV_FAT_patch, AFFECTION_patch,\n",
    "                    WALKING_patch, EATING_patch, PLAYING_patch],\n",
    "           loc=\"upper left\", bbox_transform=fig.transFigure, ncol=4, fancybox=True, shadow=True, borderpad=1)\n",
    "plt.grid(True)\n",
    "plt.tight_layout()\n",
    "#plt.savefig('data/figures/{}__episode_happiness.png'.format(method), format='png', dpi=500)\n",
    "plt.show()\n",
    "#plt.close(fig)"
   ]
  },
  {
   "cell_type": "markdown",
   "metadata": {},
   "source": [
    "# Compare multiple episodes"
   ]
  },
  {
   "cell_type": "code",
   "execution_count": 53,
   "metadata": {
    "ExecuteTime": {
     "end_time": "2020-05-18T13:08:13.795414Z",
     "start_time": "2020-05-18T13:08:13.789414Z"
    }
   },
   "outputs": [
    {
     "name": "stdout",
     "output_type": "stream",
     "text": [
      "sarsa_1\n",
      "sarsa_2\n"
     ]
    }
   ],
   "source": [
    "list_methods = ['sarsa_1', 'sarsa_2']\n",
    "evo_episode__happiness = {}\n",
    "\n",
    "for method_id in list_methods:\n",
    "\n",
    "    print(method_id)\n",
    "    \n",
    "    with open(\"models/{}__evo_episode.pkl\".format(method_id), \"rb\") as input_file:\n",
    "        evo_episode = dill.load(input_file)\n",
    "\n",
    "    evo_episode__happiness[method_id] = evo_episode['happiness']\n"
   ]
  },
  {
   "cell_type": "code",
   "execution_count": 17,
   "metadata": {
    "ExecuteTime": {
     "end_time": "2020-05-18T13:59:15.408725Z",
     "start_time": "2020-05-18T13:59:15.405184Z"
    }
   },
   "outputs": [],
   "source": [
    "import matplotlib.pyplot as plt\n",
    "import matplotlib.patches as mpatches\n",
    "\n",
    "from src.utils.maths import get_avg_n_points\n",
    "from src.utils.plots import COLORS"
   ]
  },
  {
   "cell_type": "code",
   "execution_count": 18,
   "metadata": {
    "ExecuteTime": {
     "end_time": "2020-05-18T13:59:23.937034Z",
     "start_time": "2020-05-18T13:59:23.932875Z"
    }
   },
   "outputs": [
    {
     "data": {
      "text/plain": [
       "'n_episodes: 10000 - nmax_steps: 1440 - gamma: 0.95'"
      ]
     },
     "execution_count": 18,
     "metadata": {},
     "output_type": "execute_result"
    }
   ],
   "source": [
    "info_params_dict = {\n",
    "    \"n_episodes\": 10000\n",
    "    , \"nmax_steps\": 1440\n",
    "    , \"gamma\": 0.95\n",
    "}\n",
    "info_params = get_info_params(info_params_dict)\n",
    "info_params"
   ]
  },
  {
   "cell_type": "code",
   "execution_count": 59,
   "metadata": {
    "ExecuteTime": {
     "end_time": "2020-05-18T13:09:00.632925Z",
     "start_time": "2020-05-18T13:08:55.883031Z"
    }
   },
   "outputs": [],
   "source": [
    "fig = plt.figure()\n",
    "\n",
    "cnt = 0\n",
    "for method_id in list(evo_episode__happiness.keys()):\n",
    "\n",
    "    y = evo_episode__happiness[method_id]\n",
    "    x = range(len(y))\n",
    "\n",
    "    plt.plot(\n",
    "        x, y, label=method_id\n",
    "        , marker='', color=COLORS[cnt], linewidth=1, alpha=0.75\n",
    "    )\n",
    "    cnt += 1\n",
    "\n",
    "plt.title('Happiness over one episode')\n",
    "plt.ylim([-0.05, 1.05])\n",
    "plt.xlabel('Steps \\n ' + info_params)\n",
    "plt.ylabel('Happiness (smoothed)')\n",
    "plt.legend(bbox_to_anchor=(0.5, -0.10), loc=\"lower center\",\n",
    "           bbox_transform=fig.transFigure, ncol=4, fancybox=True, shadow=True, borderpad=1)\n",
    "plt.grid(True)\n",
    "plt.tight_layout()\n",
    "plt.savefig('data/figures/Comparison__episode.png', format='png', dpi=1000, bbox_inches='tight')\n",
    "# plt.show()\n",
    "plt.close(fig)"
   ]
  },
  {
   "cell_type": "code",
   "execution_count": 62,
   "metadata": {
    "ExecuteTime": {
     "end_time": "2020-05-18T13:20:28.486158Z",
     "start_time": "2020-05-18T13:20:28.482069Z"
    }
   },
   "outputs": [
    {
     "data": {
      "text/plain": [
       "0.038580645161290374"
      ]
     },
     "execution_count": 62,
     "metadata": {},
     "output_type": "execute_result"
    }
   ],
   "source": [
    "evo_episode['avg_reward']"
   ]
  },
  {
   "cell_type": "code",
   "execution_count": 63,
   "metadata": {
    "ExecuteTime": {
     "end_time": "2020-05-18T13:20:30.326758Z",
     "start_time": "2020-05-18T13:20:30.322049Z"
    }
   },
   "outputs": [
    {
     "data": {
      "text/plain": [
       "0.0386"
      ]
     },
     "execution_count": 63,
     "metadata": {},
     "output_type": "execute_result"
    }
   ],
   "source": [
    "round(evo_episode['avg_reward'], 4)"
   ]
  }
 ],
 "metadata": {
  "hide_input": false,
  "kernelspec": {
   "display_name": "doggo",
   "language": "python",
   "name": "doggo"
  },
  "language_info": {
   "codemirror_mode": {
    "name": "ipython",
    "version": 3
   },
   "file_extension": ".py",
   "mimetype": "text/x-python",
   "name": "python",
   "nbconvert_exporter": "python",
   "pygments_lexer": "ipython3",
   "version": "3.7.5"
  },
  "toc": {
   "base_numbering": 1,
   "nav_menu": {},
   "number_sections": true,
   "sideBar": true,
   "skip_h1_title": false,
   "title_cell": "Table of Contents",
   "title_sidebar": "Contents",
   "toc_cell": false,
   "toc_position": {},
   "toc_section_display": true,
   "toc_window_display": false
  }
 },
 "nbformat": 4,
 "nbformat_minor": 2
}
