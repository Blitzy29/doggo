{
 "cells": [
  {
   "cell_type": "code",
   "execution_count": 1,
   "metadata": {
    "ExecuteTime": {
     "end_time": "2020-05-18T08:50:50.821638Z",
     "start_time": "2020-05-18T08:50:50.814878Z"
    }
   },
   "outputs": [
    {
     "name": "stdout",
     "output_type": "stream",
     "text": [
      "/Users/admin/Projects/doggo/notebooks\n",
      "/Users/admin/Projects/doggo\n"
     ]
    }
   ],
   "source": [
    "import os\n",
    "print(os.getcwd())\n",
    "def update_working_directory():\n",
    "    from pathlib import Path\n",
    "    p = Path(os.getcwd()).parents[0]\n",
    "    os.chdir(p)\n",
    "    print(p)\n",
    "update_working_directory()"
   ]
  },
  {
   "cell_type": "code",
   "execution_count": 2,
   "metadata": {
    "ExecuteTime": {
     "end_time": "2020-05-18T08:50:51.628856Z",
     "start_time": "2020-05-18T08:50:51.217090Z"
    }
   },
   "outputs": [],
   "source": [
    "import dill\n",
    "\n",
    "from src.utils.plots import get_info_params\n",
    "\n",
    "from src.visualization.rl_plots_comparison import plot_comparison_evolution_reward, plot_comparison_evolution_steps\n",
    "from src.visualization.plot_happiness import plot_comparison_evolution_happiness"
   ]
  },
  {
   "cell_type": "code",
   "execution_count": 4,
   "metadata": {
    "ExecuteTime": {
     "end_time": "2020-05-18T08:51:05.579190Z",
     "start_time": "2020-05-18T08:51:05.574763Z"
    }
   },
   "outputs": [],
   "source": [
    "list_methods = ['sarsa_1', 'sarsa_2']\n",
    "\n",
    "info_params = get_info_params({\n",
    "    'method': list_methods\n",
    "    , \"n_episodes\": 1000\n",
    "    , 'nmax_steps': 1440\n",
    "    , \"gamma\": 0.95\n",
    "})"
   ]
  },
  {
   "cell_type": "code",
   "execution_count": 5,
   "metadata": {
    "ExecuteTime": {
     "end_time": "2020-05-18T08:51:10.909399Z",
     "start_time": "2020-05-18T08:51:10.864021Z"
    }
   },
   "outputs": [
    {
     "name": "stdout",
     "output_type": "stream",
     "text": [
      "sarsa_1\n",
      "sarsa_2\n"
     ]
    }
   ],
   "source": [
    "evo_training__evo_avg_reward_per_step = {}\n",
    "evo_training__evo_n_steps = {}\n",
    "evo_training__evo_avg_happiness = {}\n",
    "\n",
    "for method in list_methods:\n",
    "    print(method)\n",
    "    with open(\"models/{}__evo_training.pkl\".format(method), \"rb\") as input_file:\n",
    "        evo_training = dill.load(input_file)\n",
    "\n",
    "    evo_training__evo_avg_reward_per_step[method] = evo_training['evo_avg_reward_per_step']\n",
    "    evo_training__evo_n_steps[method] = evo_training['evo_n_steps']\n",
    "    evo_training__evo_avg_happiness[method] = evo_training['evo_avg_happiness']\n"
   ]
  },
  {
   "cell_type": "code",
   "execution_count": 7,
   "metadata": {
    "ExecuteTime": {
     "end_time": "2020-05-18T08:51:37.833735Z",
     "start_time": "2020-05-18T08:51:21.209974Z"
    }
   },
   "outputs": [
    {
     "name": "stdout",
     "output_type": "stream",
     "text": [
      "Reward\n",
      "Steps\n",
      "Happiness\n"
     ]
    }
   ],
   "source": [
    "print('Reward')\n",
    "plot_comparison_evolution_reward(evo_training__evo_avg_reward_per_step, info_params)\n",
    "print('Steps')\n",
    "plot_comparison_evolution_steps(evo_training__evo_n_steps, nmax_steps, info_params)\n",
    "print('Happiness')\n",
    "plot_comparison_evolution_happiness(evo_training__evo_avg_happiness, info_params)"
   ]
  },
  {
   "cell_type": "code",
   "execution_count": 9,
   "metadata": {
    "ExecuteTime": {
     "end_time": "2020-05-18T10:31:57.480886Z",
     "start_time": "2020-05-18T10:31:57.473279Z"
    }
   },
   "outputs": [
    {
     "data": {
      "text/plain": [
       "[1, 1, 1, 2, 2, 2, 3, 3, 3, 4, 4, 4, 5, 5, 5]"
      ]
     },
     "execution_count": 9,
     "metadata": {},
     "output_type": "execute_result"
    }
   ],
   "source": [
    "evolution_steps = [1,1,1,2,2,2,3,3,3,4,4,4,5,5,5]\n",
    "evolution_steps"
   ]
  },
  {
   "cell_type": "code",
   "execution_count": 15,
   "metadata": {
    "ExecuteTime": {
     "end_time": "2020-05-18T10:34:30.188716Z",
     "start_time": "2020-05-18T10:34:30.183719Z"
    }
   },
   "outputs": [
    {
     "data": {
      "text/plain": [
       "[1, 1.0, 2.0, 3.0, 4.0, 5.0, 5.0]"
      ]
     },
     "execution_count": 15,
     "metadata": {},
     "output_type": "execute_result"
    }
   ],
   "source": [
    "from src.utils.maths import get_avg_n_points\n",
    "avg_n_points = get_avg_n_points(evolution_steps, n_points=5)\n",
    "avg_n_points"
   ]
  },
  {
   "cell_type": "code",
   "execution_count": 14,
   "metadata": {
    "ExecuteTime": {
     "end_time": "2020-05-18T10:34:14.500407Z",
     "start_time": "2020-05-18T10:34:14.496128Z"
    }
   },
   "outputs": [
    {
     "data": {
      "text/plain": [
       "5"
      ]
     },
     "execution_count": 14,
     "metadata": {},
     "output_type": "execute_result"
    }
   ],
   "source": [
    "n_points_batch = len(avg_n_points) - 2\n",
    "n_points_batch"
   ]
  },
  {
   "cell_type": "code",
   "execution_count": 18,
   "metadata": {
    "ExecuteTime": {
     "end_time": "2020-05-18T10:35:20.691418Z",
     "start_time": "2020-05-18T10:35:20.686274Z"
    }
   },
   "outputs": [
    {
     "data": {
      "text/plain": [
       "3"
      ]
     },
     "execution_count": 18,
     "metadata": {},
     "output_type": "execute_result"
    }
   ],
   "source": [
    "import numpy as np\n",
    "n_points = 5\n",
    "n_moving_points = int(np.ceil(len(evolution_steps) / n_points))\n",
    "n_moving_points"
   ]
  },
  {
   "cell_type": "code",
   "execution_count": 19,
   "metadata": {
    "ExecuteTime": {
     "end_time": "2020-05-18T10:36:33.591051Z",
     "start_time": "2020-05-18T10:36:33.587000Z"
    }
   },
   "outputs": [
    {
     "name": "stdout",
     "output_type": "stream",
     "text": [
      "[1, 1, 1]\n",
      "[2, 2, 2]\n",
      "[3, 3, 3]\n",
      "[4, 4, 4]\n",
      "[5, 5, 5]\n"
     ]
    }
   ],
   "source": [
    "for i_point_batch in range(n_points_batch):\n",
    "    print(evolution_steps[i_point_batch*n_moving_points:(i_point_batch+1)*n_moving_points])"
   ]
  },
  {
   "cell_type": "code",
   "execution_count": 20,
   "metadata": {
    "ExecuteTime": {
     "end_time": "2020-05-18T10:37:34.818689Z",
     "start_time": "2020-05-18T10:37:34.815925Z"
    }
   },
   "outputs": [],
   "source": [
    "list_points = evolution_steps\n",
    "n_points = 5"
   ]
  },
  {
   "cell_type": "code",
   "execution_count": 22,
   "metadata": {
    "ExecuteTime": {
     "end_time": "2020-05-18T10:40:18.289807Z",
     "start_time": "2020-05-18T10:40:18.284994Z"
    }
   },
   "outputs": [],
   "source": [
    "def get_min_n_points(list_points, n_points):\n",
    "    n_moving_points = int(np.ceil(len(list_points) / n_points))\n",
    "    min_n_points = []\n",
    "    for i_point_batch in range(n_points):\n",
    "        point_batch = evolution_steps[i_point_batch*n_moving_points:(i_point_batch+1)*n_moving_points]\n",
    "        min_n_points.append(min(point_batch))\n",
    "    return [list_points[0]] + min_n_points + [list_points[-1]]"
   ]
  },
  {
   "cell_type": "code",
   "execution_count": 24,
   "metadata": {
    "ExecuteTime": {
     "end_time": "2020-05-18T10:40:36.624622Z",
     "start_time": "2020-05-18T10:40:36.619520Z"
    }
   },
   "outputs": [],
   "source": [
    "def get_max_n_points(list_points, n_points):\n",
    "    n_moving_points = int(np.ceil(len(list_points) / n_points))\n",
    "    min_n_points = []\n",
    "    for i_point_batch in range(n_points):\n",
    "        point_batch = evolution_steps[i_point_batch*n_moving_points:(i_point_batch+1)*n_moving_points]\n",
    "        min_n_points.append(max(point_batch))\n",
    "    return [list_points[0]] + min_n_points + [list_points[-1]]"
   ]
  },
  {
   "cell_type": "code",
   "execution_count": 23,
   "metadata": {
    "ExecuteTime": {
     "end_time": "2020-05-18T10:40:22.721341Z",
     "start_time": "2020-05-18T10:40:22.716344Z"
    }
   },
   "outputs": [
    {
     "data": {
      "text/plain": [
       "[1, 1, 2, 3, 4, 5, 5]"
      ]
     },
     "execution_count": 23,
     "metadata": {},
     "output_type": "execute_result"
    }
   ],
   "source": [
    "get_min_n_points(list_points, n_points)"
   ]
  },
  {
   "cell_type": "code",
   "execution_count": 25,
   "metadata": {
    "ExecuteTime": {
     "end_time": "2020-05-18T10:40:41.744164Z",
     "start_time": "2020-05-18T10:40:41.739285Z"
    }
   },
   "outputs": [
    {
     "data": {
      "text/plain": [
       "[1, 1, 2, 3, 4, 5, 5]"
      ]
     },
     "execution_count": 25,
     "metadata": {},
     "output_type": "execute_result"
    }
   ],
   "source": [
    "get_max_n_points(list_points, n_points)"
   ]
  },
  {
   "cell_type": "code",
   "execution_count": null,
   "metadata": {},
   "outputs": [],
   "source": []
  }
 ],
 "metadata": {
  "hide_input": false,
  "kernelspec": {
   "display_name": "doggo",
   "language": "python",
   "name": "doggo"
  },
  "language_info": {
   "codemirror_mode": {
    "name": "ipython",
    "version": 3
   },
   "file_extension": ".py",
   "mimetype": "text/x-python",
   "name": "python",
   "nbconvert_exporter": "python",
   "pygments_lexer": "ipython3",
   "version": "3.7.5"
  },
  "toc": {
   "base_numbering": 1,
   "nav_menu": {},
   "number_sections": true,
   "sideBar": true,
   "skip_h1_title": false,
   "title_cell": "Table of Contents",
   "title_sidebar": "Contents",
   "toc_cell": false,
   "toc_position": {},
   "toc_section_display": true,
   "toc_window_display": false
  }
 },
 "nbformat": 4,
 "nbformat_minor": 2
}
