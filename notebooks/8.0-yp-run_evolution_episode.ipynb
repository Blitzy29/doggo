{
 "cells": [
  {
   "cell_type": "code",
   "execution_count": 1,
   "metadata": {
    "ExecuteTime": {
     "end_time": "2020-05-25T10:35:22.529606Z",
     "start_time": "2020-05-25T10:35:22.523520Z"
    }
   },
   "outputs": [
    {
     "name": "stdout",
     "output_type": "stream",
     "text": [
      "/Users/admin/Projects/doggo/notebooks\n",
      "/Users/admin/Projects/doggo\n"
     ]
    }
   ],
   "source": [
    "import os\n",
    "print(os.getcwd())\n",
    "def update_working_directory():\n",
    "    from pathlib import Path\n",
    "    p = Path(os.getcwd()).parents[0]\n",
    "    os.chdir(p)\n",
    "    print(p)\n",
    "update_working_directory()"
   ]
  },
  {
   "cell_type": "code",
   "execution_count": 2,
   "metadata": {
    "ExecuteTime": {
     "end_time": "2020-05-25T10:35:24.360255Z",
     "start_time": "2020-05-25T10:35:23.922548Z"
    }
   },
   "outputs": [],
   "source": [
    "import dill\n",
    "import json\n",
    "import argparse\n",
    "\n",
    "from src.utils.plots import get_info_params\n",
    "\n",
    "from src.visualization.rl_plots_comparison import plot_comparison_evolution_reward, plot_comparison_evolution_steps\n",
    "from src.visualization.plot_happiness import plot_comparison_evolution_happiness, plot_comparison_evolution_episode\n"
   ]
  },
  {
   "cell_type": "code",
   "execution_count": 3,
   "metadata": {
    "ExecuteTime": {
     "end_time": "2020-05-25T10:35:25.717917Z",
     "start_time": "2020-05-25T10:35:25.714648Z"
    }
   },
   "outputs": [],
   "source": [
    "method_id_path = 'value_based/sarsa/sarsa_test'"
   ]
  },
  {
   "cell_type": "code",
   "execution_count": 4,
   "metadata": {
    "ExecuteTime": {
     "end_time": "2020-05-25T10:35:26.007141Z",
     "start_time": "2020-05-25T10:35:26.001925Z"
    }
   },
   "outputs": [],
   "source": [
    "method_id = method_id_path.split('/')[-1]\n",
    "params = json.loads(open('src/models/run_evolution_episode.json').read())\n",
    "params_method = json.loads(open('src/models/{}.json'.format(method_id_path)).read())"
   ]
  },
  {
   "cell_type": "code",
   "execution_count": 5,
   "metadata": {
    "ExecuteTime": {
     "end_time": "2020-05-25T10:35:26.319846Z",
     "start_time": "2020-05-25T10:35:26.316568Z"
    }
   },
   "outputs": [],
   "source": [
    "info_params_dict = {\n",
    "    \"nmax_steps\": params['nmax_steps']\n",
    "    , \"gamma\": params['gamma']\n",
    "}\n",
    "info_params = get_info_params(info_params_dict)"
   ]
  },
  {
   "cell_type": "code",
   "execution_count": 21,
   "metadata": {
    "ExecuteTime": {
     "end_time": "2020-05-25T10:41:05.759854Z",
     "start_time": "2020-05-25T10:41:05.756907Z"
    }
   },
   "outputs": [],
   "source": [
    "evo_episodes = []"
   ]
  },
  {
   "cell_type": "code",
   "execution_count": 24,
   "metadata": {
    "ExecuteTime": {
     "end_time": "2020-05-25T10:41:13.456755Z",
     "start_time": "2020-05-25T10:41:13.348089Z"
    }
   },
   "outputs": [],
   "source": [
    "for episode in range(-1,params['n_episodes'],10)[1:]:\n",
    "    \n",
    "    with open(\"data/interim/{}__evo_episode_{}.pkl\".format(method_id, episode), \"rb\") as input_file:\n",
    "        evo_episode = dill.load(input_file)\n",
    "\n",
    "    evo_episodes.append({'episode': episode, 'evo_episode': evo_episode['happiness']})"
   ]
  },
  {
   "cell_type": "code",
   "execution_count": 28,
   "metadata": {
    "ExecuteTime": {
     "end_time": "2020-05-25T10:49:15.818877Z",
     "start_time": "2020-05-25T10:41:28.154328Z"
    }
   },
   "outputs": [],
   "source": [
    "plot_evolution_episode(evo_episodes, info_params)"
   ]
  },
  {
   "cell_type": "code",
   "execution_count": null,
   "metadata": {},
   "outputs": [],
   "source": [
    "dataDir = 'data/figures/evolution_episode/'\n",
    "make_gif_evolution_episode(dataDir)"
   ]
  },
  {
   "cell_type": "code",
   "execution_count": null,
   "metadata": {},
   "outputs": [],
   "source": []
  }
 ],
 "metadata": {
  "hide_input": false,
  "kernelspec": {
   "display_name": "doggo",
   "language": "python",
   "name": "doggo"
  },
  "language_info": {
   "codemirror_mode": {
    "name": "ipython",
    "version": 3
   },
   "file_extension": ".py",
   "mimetype": "text/x-python",
   "name": "python",
   "nbconvert_exporter": "python",
   "pygments_lexer": "ipython3",
   "version": "3.7.5"
  },
  "toc": {
   "base_numbering": 1,
   "nav_menu": {},
   "number_sections": true,
   "sideBar": true,
   "skip_h1_title": false,
   "title_cell": "Table of Contents",
   "title_sidebar": "Contents",
   "toc_cell": false,
   "toc_position": {},
   "toc_section_display": true,
   "toc_window_display": false
  }
 },
 "nbformat": 4,
 "nbformat_minor": 2
}
