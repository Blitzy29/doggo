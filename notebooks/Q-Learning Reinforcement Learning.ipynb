{
 "cells": [
  {
   "cell_type": "markdown",
   "metadata": {},
   "source": [
    "Source:\n",
    "* [Geeks for Geeks - SARSA Reinforcement Learning](https://www.geeksforgeeks.org/sarsa-reinforcement-learning/)\n",
    "* [Towards Data Science - Reinforcement learning: Temporal-Difference, SARSA, Q-Learning & Expected SARSA in python](https://towardsdatascience.com/reinforcement-learning-temporal-difference-sarsa-q-learning-expected-sarsa-on-python-9fecfda7467e)\n",
    "* [A Name Not Yet Taken AB - SARSA Algorithm in Python](https://www.annytab.com/sarsa-algorithm-in-python/)"
   ]
  },
  {
   "cell_type": "markdown",
   "metadata": {},
   "source": [
    "# Importing the required libraries"
   ]
  },
  {
   "cell_type": "code",
   "execution_count": 1,
   "metadata": {
    "ExecuteTime": {
     "end_time": "2020-05-05T07:50:59.792978Z",
     "start_time": "2020-05-05T07:50:59.661764Z"
    }
   },
   "outputs": [],
   "source": [
    "import numpy as np\n",
    "import gym\n",
    "import time\n",
    "import math"
   ]
  },
  {
   "cell_type": "markdown",
   "metadata": {},
   "source": [
    "# Building the environment"
   ]
  },
  {
   "cell_type": "markdown",
   "metadata": {},
   "source": [
    "Environments preloaded into gym:\n",
    "* [FrozenLake-v0](https://gym.openai.com/envs/FrozenLake-v0/)\n",
    "* [Taxi-v3](https://gym.openai.com/envs/Taxi-v3/)"
   ]
  },
  {
   "cell_type": "code",
   "execution_count": 2,
   "metadata": {
    "ExecuteTime": {
     "end_time": "2020-05-05T07:51:00.943393Z",
     "start_time": "2020-05-05T07:51:00.619255Z"
    }
   },
   "outputs": [],
   "source": [
    "env_name = 'FrozenLake-v0'\n",
    "\n",
    "env = gym.make(env_name)"
   ]
  },
  {
   "cell_type": "markdown",
   "metadata": {},
   "source": [
    "# Defining utility functions to be used in the learning process"
   ]
  },
  {
   "cell_type": "markdown",
   "metadata": {},
   "source": [
    "## Initialising Q"
   ]
  },
  {
   "cell_type": "code",
   "execution_count": 3,
   "metadata": {
    "ExecuteTime": {
     "end_time": "2020-05-05T07:51:01.744700Z",
     "start_time": "2020-05-05T07:51:01.739668Z"
    }
   },
   "outputs": [],
   "source": [
    "def init_Q(n_states, n_actions, init_Q_type=\"ones\"):\n",
    "    \"\"\"\n",
    "    @param n_states the number of states\n",
    "    @param n_actions the number of actions\n",
    "    @param type random, ones or zeros for the initialization\n",
    "    \"\"\"\n",
    "    if init_Q_type == \"ones\":\n",
    "        return np.ones((n_states, n_actions))\n",
    "    elif init_Q_type == \"random\":\n",
    "        return np.random.random((n_states, n_actions))\n",
    "    elif init_Q_type == \"zeros\":\n",
    "        return np.zeros((n_states, n_actions))"
   ]
  },
  {
   "cell_type": "markdown",
   "metadata": {},
   "source": [
    "## Choose an action"
   ]
  },
  {
   "cell_type": "code",
   "execution_count": 4,
   "metadata": {
    "ExecuteTime": {
     "end_time": "2020-05-05T07:51:04.214382Z",
     "start_time": "2020-05-05T07:51:04.210903Z"
    }
   },
   "outputs": [],
   "source": [
    "# Numpy generator\n",
    "rng = np.random.default_rng()  # Create a default Generator."
   ]
  },
  {
   "cell_type": "code",
   "execution_count": 5,
   "metadata": {
    "ExecuteTime": {
     "end_time": "2020-05-05T07:51:04.605477Z",
     "start_time": "2020-05-05T07:51:04.601024Z"
    }
   },
   "outputs": [],
   "source": [
    "def epsilon_greedy(Q, state, n_actions, epsilon):\n",
    "    \"\"\"\n",
    "    @param Q Q values {state, action} -> value\n",
    "    @param epsilon for exploration\n",
    "    @param n_actions number of actions\n",
    "    @param state state at time t\n",
    "    \"\"\"\n",
    "    if rng.uniform(0, 1) < epsilon:\n",
    "        action = np.random.randint(0, n_actions)\n",
    "        #action = env.action_space.sample()\n",
    "    else:\n",
    "        action = np.argmax(Q[state, :])\n",
    "    return action"
   ]
  },
  {
   "cell_type": "markdown",
   "metadata": {},
   "source": [
    "## Update Q-matrice (state-action value function)"
   ]
  },
  {
   "cell_type": "code",
   "execution_count": 6,
   "metadata": {
    "ExecuteTime": {
     "end_time": "2020-05-05T07:51:07.215478Z",
     "start_time": "2020-05-05T07:51:07.210519Z"
    }
   },
   "outputs": [],
   "source": [
    "# Function to learn the Q-value \n",
    "def update(state1, action1, reward1, state2, action2, expected=False):\n",
    "    \n",
    "    predict = Q[state1, action1] \n",
    "    \n",
    "    target = reward1 + gamma * Q[state2, action2] \n",
    "    if expected:\n",
    "        expected_value = np.mean(Q[state2,:])\n",
    "        target = reward1 + gamma * expected_value\n",
    "    \n",
    "    Q[state1, action1] = Q[state1, action1] + alpha * (target - predict) "
   ]
  },
  {
   "cell_type": "markdown",
   "metadata": {},
   "source": [
    "## Updating parameters"
   ]
  },
  {
   "cell_type": "markdown",
   "metadata": {},
   "source": [
    "### Epsilon $\\epsilon$ - Exploration rate"
   ]
  },
  {
   "cell_type": "code",
   "execution_count": null,
   "metadata": {
    "ExecuteTime": {
     "end_time": "2020-05-04T14:45:21.581690Z",
     "start_time": "2020-05-04T14:45:21.578382Z"
    }
   },
   "outputs": [],
   "source": [
    "# Exploration rate\n",
    "\n",
    "def get_epsilon(episode, init_epsilon, divisor=25):\n",
    "    \n",
    "    n_epsilon = init_epsilon/(episode/1000+1)\n",
    "    # n_epsilon = min(1, 1.0 - math.log10((episode + 1) / divisor))\n",
    "    \n",
    "    return n_epsilon"
   ]
  },
  {
   "cell_type": "markdown",
   "metadata": {},
   "source": [
    "### Alpha $\\alpha$ - Learning rate"
   ]
  },
  {
   "cell_type": "code",
   "execution_count": null,
   "metadata": {
    "ExecuteTime": {
     "end_time": "2020-05-04T14:45:21.589225Z",
     "start_time": "2020-05-04T14:45:21.585984Z"
    }
   },
   "outputs": [],
   "source": [
    "# Learning rate\n",
    "\n",
    "def get_alpha(episode, init_alpha, divisor=25):\n",
    "    \n",
    "    n_alpha = init_alpha/(episode/1000+1)\n",
    "    # n_alpha = min(1.0, 1.0 - math.log10((episode + 1) / divisor))\n",
    "    \n",
    "    return n_alpha"
   ]
  },
  {
   "cell_type": "markdown",
   "metadata": {},
   "source": [
    "# Initializing different parameters"
   ]
  },
  {
   "cell_type": "code",
   "execution_count": null,
   "metadata": {
    "ExecuteTime": {
     "end_time": "2020-05-04T14:45:21.596569Z",
     "start_time": "2020-05-04T14:45:21.592512Z"
    }
   },
   "outputs": [],
   "source": [
    "# Defining the different parameters \n",
    "init_epsilon = 0.2 # trade-off exploration/exploitation - better if decreasing\n",
    "init_alpha = 0.2 # learning rate, better if decreasing\n",
    "\n",
    "# Specific to environment\n",
    "gamma = 0.95 # discount for future rewards (also called decay factor)\n",
    "n_states = env.observation_space.n\n",
    "n_actions = env.action_space.n\n",
    "\n",
    "# Episodes\n",
    "n_episodes = 1000000\n",
    "nmax_steps = 100 # maximum steps per episode\n",
    "\n",
    "# Initializing the Q-matrix \n",
    "Q = init_Q(n_states, n_actions, init_Q_type=\"zeros\")"
   ]
  },
  {
   "cell_type": "markdown",
   "metadata": {},
   "source": [
    "# Training the learning agent"
   ]
  },
  {
   "cell_type": "code",
   "execution_count": null,
   "metadata": {
    "ExecuteTime": {
     "end_time": "2020-05-04T14:45:21.601595Z",
     "start_time": "2020-05-04T14:45:21.599045Z"
    }
   },
   "outputs": [],
   "source": [
    "# Visualisation\n",
    "render = True"
   ]
  },
  {
   "cell_type": "code",
   "execution_count": null,
   "metadata": {
    "ExecuteTime": {
     "end_time": "2020-05-04T14:45:21.606954Z",
     "start_time": "2020-05-04T14:45:21.603726Z"
    }
   },
   "outputs": [],
   "source": [
    "# Initializing the reward\n",
    "evolution_reward = []"
   ]
  },
  {
   "cell_type": "code",
   "execution_count": null,
   "metadata": {
    "ExecuteTime": {
     "end_time": "2020-05-04T15:16:55.500249Z",
     "start_time": "2020-05-04T14:45:21.609268Z"
    }
   },
   "outputs": [],
   "source": [
    "# Starting the SARSA learning \n",
    "for episode in range(n_episodes):\n",
    "    \n",
    "    #print(f\"Episode: {episode}\")\n",
    "    \n",
    "    n_episode_steps = 0\n",
    "    episode_reward = 0\n",
    "    done = False\n",
    "    \n",
    "    state1 = env.reset()\n",
    "    \n",
    "    while (not done) and (n_episode_steps < nmax_steps):\n",
    "        \n",
    "        # Update parameters\n",
    "        epsilon = get_epsilon(episode, init_epsilon)\n",
    "        alpha = get_alpha(episode, init_alpha)\n",
    "        \n",
    "        # Choose an action\n",
    "        action1 = epsilon_greedy(Q, state1, n_actions, epsilon)\n",
    "        \n",
    "        # Visualizing the training\n",
    "        #if render:\n",
    "        #    env.render() \n",
    "        \n",
    "        # Getting the next state \n",
    "        state2, reward1, done, info = env.step(action1)\n",
    "        episode_reward += reward1\n",
    "  \n",
    "        # Q-Learning\n",
    "        # Choosing the next action \n",
    "        action2 = np.argmax(Q[state2, :])\n",
    "        # Learning the Q-value \n",
    "        update(state1, action1, reward1, state2, action2)\n",
    "  \n",
    "        # Updating the respective vaLues \n",
    "        state1 = state2 \n",
    "        # /!\\ action2 will become action1 in SARSA (we don't do another action) but not for Q-Learning.\n",
    "        # Maybe need to separate the functions\n",
    "        n_episode_steps += 1\n",
    "        \n",
    "    # At the end of learning process \n",
    "    if render:\n",
    "        #print(f\"This episode took {n_episode_steps} timesteps and reward {episode_reward}\")\n",
    "        print('Episode {0}, Score: {1}, Timesteps: {2}, Epsilon: {3}, Alpha: {4}'.format(\n",
    "            episode+1, episode_reward, n_episode_steps, epsilon, alpha))\n",
    "    \n",
    "    evolution_reward.append(episode_reward)"
   ]
  },
  {
   "cell_type": "markdown",
   "metadata": {},
   "source": [
    "For FrozenLake-v0: In the above output, the red mark determines the current position of the agent in the environment while the direction given in brackets gives the direction of movement that the agent will make next. Note that the agent stays at it’s position if goes out of bounds."
   ]
  },
  {
   "cell_type": "markdown",
   "metadata": {},
   "source": [
    "# Evaluating the performance"
   ]
  },
  {
   "cell_type": "markdown",
   "metadata": {},
   "source": [
    "## Mean reward"
   ]
  },
  {
   "cell_type": "code",
   "execution_count": null,
   "metadata": {
    "ExecuteTime": {
     "end_time": "2020-05-04T15:20:23.918379Z",
     "start_time": "2020-05-04T15:20:23.905899Z"
    }
   },
   "outputs": [],
   "source": [
    "# Evaluating the performance \n",
    "print (\"Performace : \", sum(evolution_reward)/n_episodes) \n",
    "\n",
    "# Visualizing the Q-matrix \n",
    "print(Q) "
   ]
  },
  {
   "cell_type": "code",
   "execution_count": 35,
   "metadata": {
    "ExecuteTime": {
     "end_time": "2020-05-05T08:01:31.954237Z",
     "start_time": "2020-05-05T08:01:31.949599Z"
    }
   },
   "outputs": [],
   "source": [
    "import numpy as np\n",
    "def running_mean(x, N):\n",
    "    cumsum = np.cumsum(np.insert(x, 0, 0)) \n",
    "    return (cumsum[N:] - cumsum[:-N]) / float(N)"
   ]
  },
  {
   "cell_type": "code",
   "execution_count": 37,
   "metadata": {
    "ExecuteTime": {
     "end_time": "2020-05-05T08:02:04.854341Z",
     "start_time": "2020-05-05T08:02:04.645963Z"
    }
   },
   "outputs": [
    {
     "data": {
      "text/plain": [
       "[<matplotlib.lines.Line2D at 0x11de27950>]"
      ]
     },
     "execution_count": 37,
     "metadata": {},
     "output_type": "execute_result"
    },
    {
     "data": {
      "image/png": "[encoded data removed]",
      "text/plain": [
       "<Figure size 432x288 with 1 Axes>"
      ]
     },
     "metadata": {
      "needs_background": "light"
     },
     "output_type": "display_data"
    }
   ],
   "source": [
    "import numpy as np\n",
    "import matplotlib.pyplot as plt\n",
    "\n",
    "y = running_mean(evolution_reward,1000)\n",
    "x = range(len(y))\n",
    "plt.plot(x, y)"
   ]
  },
  {
   "cell_type": "markdown",
   "metadata": {},
   "source": [
    "## Evaluation through episode"
   ]
  },
  {
   "cell_type": "code",
   "execution_count": null,
   "metadata": {
    "ExecuteTime": {
     "end_time": "2020-05-04T15:21:21.878139Z",
     "start_time": "2020-05-04T15:21:21.875519Z"
    }
   },
   "outputs": [],
   "source": [
    "# Variables\n",
    "episodes = 1000\n",
    "nmax_steps = 200\n",
    "total_reward = 0"
   ]
  },
  {
   "cell_type": "code",
   "execution_count": null,
   "metadata": {
    "ExecuteTime": {
     "end_time": "2020-05-04T15:21:23.551034Z",
     "start_time": "2020-05-04T15:21:22.425918Z"
    }
   },
   "outputs": [],
   "source": [
    "# Loop episodes\n",
    "for episode in range(episodes):\n",
    "\n",
    "    n_episode_steps = 0\n",
    "    episode_reward = 0\n",
    "    done = False\n",
    "    \n",
    "    # Start episode and get initial observation\n",
    "    state = env.reset()\n",
    "    \n",
    "    while (not done) and (n_episode_steps < nmax_steps):\n",
    "\n",
    "        # Get an action (0:Left, 1:Down, 2:Right, 3:Up)\n",
    "        action = np.argmax(Q[state,:])\n",
    "\n",
    "        # Perform a step\n",
    "        state, reward, done, info = env.step(action)\n",
    "\n",
    "        # Update score\n",
    "        episode_reward += reward\n",
    "        total_reward += reward\n",
    "\n",
    "        n_episode_steps += 1\n",
    "        \n",
    "    print('Episode {0}, Score: {1}, Timesteps: {2}'.format(\n",
    "        episode+1, episode_reward, n_episode_steps))\n",
    "\n",
    "\n",
    "# Close the environment\n",
    "env.close()\n",
    "\n",
    "# Print the score\n",
    "print('--- Evaluation ---')\n",
    "print ('Score: {0} / {1}'.format(total_reward, episodes))\n",
    "print()"
   ]
  },
  {
   "cell_type": "code",
   "execution_count": null,
   "metadata": {},
   "outputs": [],
   "source": []
  }
 ],
 "metadata": {
  "hide_input": false,
  "kernelspec": {
   "display_name": "doggo",
   "language": "python",
   "name": "doggo"
  },
  "language_info": {
   "codemirror_mode": {
    "name": "ipython",
    "version": 3
   },
   "file_extension": ".py",
   "mimetype": "text/x-python",
   "name": "python",
   "nbconvert_exporter": "python",
   "pygments_lexer": "ipython3",
   "version": "3.7.5"
  },
  "toc": {
   "base_numbering": 1,
   "nav_menu": {},
   "number_sections": true,
   "sideBar": true,
   "skip_h1_title": false,
   "title_cell": "Table of Contents",
   "title_sidebar": "Contents",
   "toc_cell": false,
   "toc_position": {},
   "toc_section_display": true,
   "toc_window_display": false
  }
 },
 "nbformat": 4,
 "nbformat_minor": 2
}
