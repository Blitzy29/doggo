{
 "cells": [
  {
   "cell_type": "code",
   "execution_count": 1,
   "metadata": {
    "ExecuteTime": {
     "end_time": "2020-05-11T14:26:28.010866Z",
     "start_time": "2020-05-11T14:26:28.005058Z"
    }
   },
   "outputs": [
    {
     "name": "stdout",
     "output_type": "stream",
     "text": [
      "/Users/admin/Projects/doggo/notebooks\n",
      "/Users/admin/Projects/doggo\n"
     ]
    }
   ],
   "source": [
    "import os\n",
    "print(os.getcwd())\n",
    "def update_working_directory():\n",
    "    from pathlib import Path\n",
    "    p = Path(os.getcwd()).parents[0]\n",
    "    os.chdir(p)\n",
    "    print(p)\n",
    "update_working_directory()"
   ]
  },
  {
   "cell_type": "markdown",
   "metadata": {},
   "source": [
    "# Importing the required libraries"
   ]
  },
  {
   "cell_type": "code",
   "execution_count": 2,
   "metadata": {
    "ExecuteTime": {
     "end_time": "2020-05-11T14:26:28.609506Z",
     "start_time": "2020-05-11T14:26:28.013578Z"
    }
   },
   "outputs": [],
   "source": [
    "import numpy as np\n",
    "import pandas as pd\n",
    "import gym\n",
    "import time\n",
    "import math\n",
    "import statistics\n",
    "from tqdm import tqdm\n",
    "import random\n",
    "from collections import defaultdict\n",
    "import matplotlib.pyplot as plt\n",
    "import dill"
   ]
  },
  {
   "cell_type": "markdown",
   "metadata": {},
   "source": [
    "# Building the environment"
   ]
  },
  {
   "cell_type": "markdown",
   "metadata": {},
   "source": [
    "## Parameters specific to the environment"
   ]
  },
  {
   "cell_type": "code",
   "execution_count": 3,
   "metadata": {
    "ExecuteTime": {
     "end_time": "2020-05-11T14:26:28.615564Z",
     "start_time": "2020-05-11T14:26:28.612797Z"
    }
   },
   "outputs": [],
   "source": [
    "decimals_state = 2\n",
    "gamma = 0.95 # discount for future rewards (also called decay factor)"
   ]
  },
  {
   "cell_type": "markdown",
   "metadata": {},
   "source": [
    "## Observation & Action spaces"
   ]
  },
  {
   "cell_type": "code",
   "execution_count": 4,
   "metadata": {
    "ExecuteTime": {
     "end_time": "2020-05-11T14:26:28.622374Z",
     "start_time": "2020-05-11T14:26:28.618027Z"
    }
   },
   "outputs": [
    {
     "name": "stdout",
     "output_type": "stream",
     "text": [
      "1030301 4\n"
     ]
    }
   ],
   "source": [
    "n_states = (10**decimals_state+1)**3 \n",
    "\n",
    "action_dict = {\n",
    "    0: 'NO ACTION',\n",
    "    1: 'WALKING',\n",
    "    2: 'EATING',\n",
    "    3: 'PLAYING'\n",
    "}\n",
    "n_actions= len(action_dict)\n",
    "\n",
    "print(n_states, n_actions)"
   ]
  },
  {
   "cell_type": "markdown",
   "metadata": {},
   "source": [
    "## Reset"
   ]
  },
  {
   "cell_type": "code",
   "execution_count": 5,
   "metadata": {
    "ExecuteTime": {
     "end_time": "2020-05-11T14:26:28.628475Z",
     "start_time": "2020-05-11T14:26:28.624463Z"
    }
   },
   "outputs": [],
   "source": [
    "def get_state_id(dog_state):\n",
    "    return '{:01.4f}_{:01.4f}_{:01.4f}_{}'.format(\n",
    "        dog_state['food'], dog_state['fat'], dog_state['affection'], dog_state['can_action_be_taken'])"
   ]
  },
  {
   "cell_type": "code",
   "execution_count": 6,
   "metadata": {
    "ExecuteTime": {
     "end_time": "2020-05-11T14:26:28.634565Z",
     "start_time": "2020-05-11T14:26:28.630676Z"
    }
   },
   "outputs": [],
   "source": [
    "def env_reset():\n",
    "    \n",
    "    dog_state = {\n",
    "        'food': 0.5,\n",
    "        'fat': 0,\n",
    "        'affection': 0.5,\n",
    "        'last_action_taken': 0,\n",
    "        'minutes_since_last_action': 0,\n",
    "        'can_action_be_taken': True\n",
    "        }\n",
    "    \n",
    "    dog_state['state_id'] = get_state_id(dog_state)\n",
    "    \n",
    "    return dog_state"
   ]
  },
  {
   "cell_type": "code",
   "execution_count": 7,
   "metadata": {
    "ExecuteTime": {
     "end_time": "2020-05-11T14:26:28.644097Z",
     "start_time": "2020-05-11T14:26:28.638893Z"
    }
   },
   "outputs": [
    {
     "data": {
      "text/plain": [
       "{'food': 0.5,\n",
       " 'fat': 0,\n",
       " 'affection': 0.5,\n",
       " 'last_action_taken': 0,\n",
       " 'minutes_since_last_action': 0,\n",
       " 'can_action_be_taken': True,\n",
       " 'state_id': '0.5000_0.0000_0.5000_True'}"
      ]
     },
     "execution_count": 7,
     "metadata": {},
     "output_type": "execute_result"
    }
   ],
   "source": [
    "env_reset()"
   ]
  },
  {
   "cell_type": "markdown",
   "metadata": {},
   "source": [
    "## Next state"
   ]
  },
  {
   "cell_type": "code",
   "execution_count": 8,
   "metadata": {
    "ExecuteTime": {
     "end_time": "2020-05-11T14:26:28.652584Z",
     "start_time": "2020-05-11T14:26:28.647744Z"
    }
   },
   "outputs": [],
   "source": [
    "WALKING_TIME = 15\n",
    "EATING_TIME = 1\n",
    "PLAYING_TIME = 4\n",
    "\n",
    "food_consumption_rate = 1.0 / (30 * 3600)\n",
    "affection_consumption_rate = 1.0 / (50 * 3600)\n",
    "walking_fat_converge_rate = 0.2\n",
    "walking_affection_converge_rate = 0.4\n",
    "playing_fat_converge_rate = 0.1\n",
    "playing_affection_converge_rate = 0.20\n",
    "eating_food_increase = 0.6\n",
    "eating_fat_increase = 0.25"
   ]
  },
  {
   "cell_type": "code",
   "execution_count": 9,
   "metadata": {
    "ExecuteTime": {
     "end_time": "2020-05-11T14:26:28.658908Z",
     "start_time": "2020-05-11T14:26:28.654881Z"
    }
   },
   "outputs": [],
   "source": [
    "def round_up(n, decimals=0):\n",
    "    multiplier = 10 ** decimals\n",
    "    return math.ceil(n * multiplier) / multiplier\n",
    "def round_down(n, decimals=0):\n",
    "    multiplier = 10 ** decimals\n",
    "    return math.floor(n * multiplier) / multiplier"
   ]
  },
  {
   "cell_type": "code",
   "execution_count": 10,
   "metadata": {
    "ExecuteTime": {
     "end_time": "2020-05-11T14:26:28.676342Z",
     "start_time": "2020-05-11T14:26:28.661484Z"
    }
   },
   "outputs": [],
   "source": [
    "def apply_decreasing_rate(value: float, rate: float) -> float:\n",
    "    \"\"\"\n",
    "    Apply a decreasing rate to a value\n",
    "    :param value: current value\n",
    "    :param rate: per second\n",
    "    :return: updated value\n",
    "    \"\"\"\n",
    "    return value - (60 * rate)\n",
    "\n",
    "def converge(value: float, target: float, ratio: float) -> float:\n",
    "    diff: float = (target - value) * ratio\n",
    "    return value + diff\n",
    "\n",
    "\n",
    "def update_food(dog_state):\n",
    "    update_food = apply_decreasing_rate(dog_state['food'], food_consumption_rate)\n",
    "    return round_down(max(0.0, update_food), decimals=decimals_state)\n",
    "\n",
    "def update_fat(dog_state):\n",
    "    update_fat = dog_state['fat']\n",
    "    return update_fat\n",
    "\n",
    "def update_affection(dog_state):\n",
    "    update_affection = apply_decreasing_rate(dog_state['affection'], affection_consumption_rate)\n",
    "    return round_down(max(0.0, update_affection), decimals=decimals_state)\n",
    "\n",
    "\n",
    "def update_if_walking(dog_state):\n",
    "    update_fat = round_down(converge(dog_state['fat'], 0.0, walking_fat_converge_rate), decimals=decimals_state)\n",
    "    update_affection = round_up(converge(dog_state['affection'], 1.0, walking_affection_converge_rate), decimals=decimals_state)\n",
    "    return (update_fat, update_affection)\n",
    "\n",
    "def update_if_feeding(dog_state):\n",
    "    update_food = round_up(min(dog_state['food'] + eating_food_increase, 1.0), decimals=decimals_state)\n",
    "    update_fat = round_up(min(dog_state['fat'] + eating_fat_increase, 1.0), decimals=decimals_state)\n",
    "    return (update_food, update_fat)\n",
    "\n",
    "def update_if_playing(dog_state):\n",
    "    update_fat = round_down(converge(dog_state['fat'], 0.0, playing_fat_converge_rate), decimals=decimals_state)\n",
    "    update_affection = round_up(converge(dog_state['affection'], 1.0, playing_affection_converge_rate), decimals=decimals_state)\n",
    "    return (update_fat, update_affection)\n",
    "\n",
    "\n",
    "def get_happiness(dog_state):\n",
    "    happiness = min(dog_state['food'], 1.0 - dog_state['fat'], dog_state['affection'])\n",
    "    return happiness\n",
    "\n",
    "\n",
    "def update_done(dog_state):\n",
    "    happiness = get_happiness(dog_state)\n",
    "    return happiness <= 0.0"
   ]
  },
  {
   "cell_type": "code",
   "execution_count": 11,
   "metadata": {
    "ExecuteTime": {
     "end_time": "2020-05-11T14:26:28.691940Z",
     "start_time": "2020-05-11T14:26:28.678955Z"
    }
   },
   "outputs": [],
   "source": [
    "# state2, reward1, done, info = env.step(action1)\n",
    "def env_step(state1, action):\n",
    "    \n",
    "    state2 = state1.copy()\n",
    "    reward_penalty = 0\n",
    "    \n",
    "    # Affect of time\n",
    "    state2['food'] = update_food(state2)\n",
    "    state2['fat'] = update_fat(state2)\n",
    "    state2['affection'] = update_affection(state2)\n",
    "    state2['minutes_since_last_action'] += 1 \n",
    "    \n",
    "    # Applying action\n",
    "    if action != 0:\n",
    "        if state2['can_action_be_taken']:\n",
    "            reward_penalty += 0.1\n",
    "            state2['can_action_be_taken'] = False\n",
    "            state2['minutes_since_last_action'] = 0\n",
    "            state2['last_action_taken'] = action\n",
    "        else:\n",
    "            reward_penalty += 0.5\n",
    "\n",
    "    # Affect of actions\n",
    "    if (state2['last_action_taken'] == 1) & (state2['minutes_since_last_action'] == WALKING_TIME):\n",
    "        state2['fat'], state2['affection'] = update_if_walking(state2)\n",
    "        state2['can_action_be_taken'] = True\n",
    "\n",
    "    if (state2['last_action_taken'] == 2) & (state2['minutes_since_last_action'] == EATING_TIME):\n",
    "        state2['food'], state2['fat'] = update_if_feeding(state2)\n",
    "        state2['can_action_be_taken'] = True\n",
    "\n",
    "    if (state2['last_action_taken'] == 3) & (state2['minutes_since_last_action'] == PLAYING_TIME):\n",
    "        state2['fat'], state2['affection'] = update_if_playing(state2)\n",
    "        state2['can_action_be_taken'] = True\n",
    "                    \n",
    "    done = update_done(state2)\n",
    "    if done:\n",
    "        reward = -10\n",
    "    else:\n",
    "        reward = min(state2['food'], 1.0 - state2['fat'], state2['affection']) - reward_penalty\n",
    "    \n",
    "    info = None\n",
    "    \n",
    "    state2['state_id'] = get_state_id(state2)\n",
    "    \n",
    "    return (state2, reward, done, info)"
   ]
  },
  {
   "cell_type": "markdown",
   "metadata": {},
   "source": [
    "## Render"
   ]
  },
  {
   "cell_type": "code",
   "execution_count": 12,
   "metadata": {
    "ExecuteTime": {
     "end_time": "2020-05-11T14:26:28.699122Z",
     "start_time": "2020-05-11T14:26:28.694977Z"
    }
   },
   "outputs": [],
   "source": [
    "def env_render(dog_state, action, Q):\n",
    "    print(dog_state)\n",
    "    print(action)\n",
    "    print(Q[dog_state['state_id']])"
   ]
  },
  {
   "cell_type": "markdown",
   "metadata": {},
   "source": [
    "# Defining utility functions to be used in the learning process"
   ]
  },
  {
   "cell_type": "markdown",
   "metadata": {},
   "source": [
    "## Initialising Q"
   ]
  },
  {
   "cell_type": "code",
   "execution_count": 13,
   "metadata": {
    "ExecuteTime": {
     "end_time": "2020-05-11T14:26:28.706792Z",
     "start_time": "2020-05-11T14:26:28.702052Z"
    }
   },
   "outputs": [],
   "source": [
    "def init_Q(n_actions, init_Q_type=\"ones\"):\n",
    "    \"\"\"\n",
    "    @param n_actions the number of actions\n",
    "    @param type random, ones or zeros for the initialization\n",
    "    \"\"\"\n",
    "    if init_Q_type == \"ones\":\n",
    "        default_Q_values = np.ones(n_actions)\n",
    "    elif init_Q_type == \"random\":\n",
    "        default_Q_values = np.random.random(n_actions)\n",
    "    elif init_Q_type == \"zeros\":\n",
    "        default_Q_values = np.zeros(n_actions)\n",
    "    \n",
    "    def get_default_Q_values():\n",
    "        return default_Q_values\n",
    "\n",
    "    return defaultdict(get_default_Q_values)"
   ]
  },
  {
   "cell_type": "markdown",
   "metadata": {},
   "source": [
    "## Initialising N"
   ]
  },
  {
   "cell_type": "code",
   "execution_count": 14,
   "metadata": {
    "ExecuteTime": {
     "end_time": "2020-05-11T14:26:28.713998Z",
     "start_time": "2020-05-11T14:26:28.709258Z"
    }
   },
   "outputs": [],
   "source": [
    "def init_N(n_actions):\n",
    "    \"\"\"\n",
    "    @param n_actions the number of actions\n",
    "    \"\"\"\n",
    "    default_N_values = np.zeros(n_actions)\n",
    "    \n",
    "    def get_default_N_values():\n",
    "        return default_N_values\n",
    "\n",
    "    return defaultdict(get_default_N_values)"
   ]
  },
  {
   "cell_type": "markdown",
   "metadata": {},
   "source": [
    "## Choose an action"
   ]
  },
  {
   "cell_type": "code",
   "execution_count": 15,
   "metadata": {
    "ExecuteTime": {
     "end_time": "2020-05-11T14:26:28.719875Z",
     "start_time": "2020-05-11T14:26:28.716193Z"
    }
   },
   "outputs": [],
   "source": [
    "# Numpy generator\n",
    "rng = np.random.default_rng()  # Create a default Generator."
   ]
  },
  {
   "cell_type": "code",
   "execution_count": 16,
   "metadata": {
    "ExecuteTime": {
     "end_time": "2020-05-11T14:26:28.725793Z",
     "start_time": "2020-05-11T14:26:28.722210Z"
    }
   },
   "outputs": [],
   "source": [
    "def select_best_action(Q_state):\n",
    "    winner = np.argwhere(Q_state == np.amax(Q_state))\n",
    "    winner_list = winner.flatten().tolist()\n",
    "    action = random.choice(winner_list)\n",
    "    return action"
   ]
  },
  {
   "cell_type": "markdown",
   "metadata": {
    "heading_collapsed": true
   },
   "source": [
    "### $\\epsilon$-Greedy"
   ]
  },
  {
   "cell_type": "code",
   "execution_count": 17,
   "metadata": {
    "ExecuteTime": {
     "end_time": "2020-05-11T14:26:28.733126Z",
     "start_time": "2020-05-11T14:26:28.728590Z"
    },
    "hidden": true
   },
   "outputs": [],
   "source": [
    "def epsilon_greedy(Q, state_id, n_actions, epsilon):\n",
    "    \"\"\"\n",
    "    @param Q Q values {state, action} -> value\n",
    "    @param epsilon for exploration\n",
    "    @param n_actions number of actions\n",
    "    @param state state at time t\n",
    "    \"\"\"\n",
    "    if rng.uniform(0, 1) < epsilon:\n",
    "        action = np.random.randint(0, n_actions)\n",
    "    else:\n",
    "        action = select_best_action(Q[state_id])\n",
    "    \n",
    "    return action"
   ]
  },
  {
   "cell_type": "markdown",
   "metadata": {},
   "source": [
    "## Discounted reward"
   ]
  },
  {
   "cell_type": "code",
   "execution_count": 18,
   "metadata": {
    "ExecuteTime": {
     "end_time": "2020-05-11T14:26:28.741912Z",
     "start_time": "2020-05-11T14:26:28.736663Z"
    }
   },
   "outputs": [],
   "source": [
    "def get_discounted_reward(t, l_rewards_episode, gamma):\n",
    "    l_discounted_reward_episode = [t_prime_reward*(gamma**t_prime) for (t_prime, t_prime_reward) in enumerate(l_rewards_episode[t:])]\n",
    "    G_k_t = sum(l_discounted_reward_episode)\n",
    "    return G_k_t\n",
    "\n",
    "def add_discounted_reward(steps_episode, gamma):\n",
    "    l_rewards_episode = [step_episode['reward'] for step_episode in steps_episode]\n",
    "    for (t, step_episode) in enumerate(steps_episode):\n",
    "        step_episode['discounted_reward'] = get_discounted_reward(t, l_rewards_episode, gamma)"
   ]
  },
  {
   "cell_type": "markdown",
   "metadata": {
    "heading_collapsed": true
   },
   "source": [
    "## Update N-matrice"
   ]
  },
  {
   "cell_type": "code",
   "execution_count": 19,
   "metadata": {
    "ExecuteTime": {
     "end_time": "2020-05-11T14:26:28.754453Z",
     "start_time": "2020-05-11T14:26:28.748350Z"
    },
    "hidden": true
   },
   "outputs": [],
   "source": [
    "def update_N_MC(N, step_episode, method_monte_carlo, states_already_visited=[]):\n",
    "    \n",
    "    state_id = step_episode['state']['state_id']\n",
    "    action = step_episode['action']\n",
    "    \n",
    "    previous_N_value_state = N[state_id].copy()\n",
    "    \n",
    "    if method_monte_carlo == 'first_visit':\n",
    "        if not state_id in states_already_visited:\n",
    "            new_N_value = N[state_id][action] + 1\n",
    "            previous_N_value_state[action] = new_N_value\n",
    "    \n",
    "    if method_monte_carlo == 'every_visit':\n",
    "        new_N_value = N[state_id][action] + 1\n",
    "        previous_N_value_state[action] = new_N_value\n",
    "\n",
    "    N[state_id] = previous_N_value_state"
   ]
  },
  {
   "cell_type": "markdown",
   "metadata": {},
   "source": [
    "## Update Q-matrice (state-action value function)"
   ]
  },
  {
   "cell_type": "markdown",
   "metadata": {},
   "source": [
    "### Monte-Carlo"
   ]
  },
  {
   "cell_type": "code",
   "execution_count": 20,
   "metadata": {
    "ExecuteTime": {
     "end_time": "2020-05-11T14:26:28.763891Z",
     "start_time": "2020-05-11T14:26:28.757322Z"
    }
   },
   "outputs": [],
   "source": [
    "def update_Q_MC(Q, N, step_episode, method_monte_carlo, states_already_visited=[]):\n",
    "    \n",
    "    state_id = step_episode['state']['state_id']\n",
    "    action = step_episode['action']\n",
    "    G_k_t = step_episode['discounted_reward']\n",
    "    \n",
    "    previous_Q_value_state = Q[state_id].copy()\n",
    "    \n",
    "    if method_monte_carlo == 'first_visit':\n",
    "        if not state_id in states_already_visited:\n",
    "            new_Q_value = Q[state_id][action] + (G_k_t - Q[state_id][action]) / N[state_id][action]\n",
    "            previous_Q_value_state[action] = new_Q_value\n",
    "    \n",
    "    if method_monte_carlo == 'every_visit':\n",
    "        new_Q_value = Q[state_id][action] + (G_k_t - Q[state_id][action]) / N[state_id][action]\n",
    "        previous_Q_value_state[action] = new_Q_value\n",
    "\n",
    "    Q[state_id] = previous_Q_value_state"
   ]
  },
  {
   "cell_type": "markdown",
   "metadata": {},
   "source": [
    "### SARSA"
   ]
  },
  {
   "cell_type": "code",
   "execution_count": 21,
   "metadata": {
    "ExecuteTime": {
     "end_time": "2020-05-11T14:26:28.772310Z",
     "start_time": "2020-05-11T14:26:28.766077Z"
    }
   },
   "outputs": [],
   "source": [
    "# Function to learn the Q-value  - Is it temporal-difference?\n",
    "def update_Q_SARSA(Q, state1_id, action1, reward1, state2_id, action2, expected=False):\n",
    "    \n",
    "    previous_Q_value_state1 = Q[state1_id].copy()\n",
    "    \n",
    "    predict = Q[state1_id][action1] \n",
    "    \n",
    "    target = reward1 + gamma * Q[state2_id][action2] \n",
    "    if expected:\n",
    "        expected_value = np.mean(Q[state2_id])\n",
    "        target = reward1 + gamma * expected_value\n",
    "    \n",
    "    new_Q_value = Q[state1_id][action1] + alpha * (target - predict)\n",
    "    previous_Q_value_state1[action1] = new_Q_value\n",
    "    \n",
    "    Q[state1_id] = previous_Q_value_state1\n",
    "        \n",
    "    return Q"
   ]
  },
  {
   "cell_type": "markdown",
   "metadata": {},
   "source": [
    "### Q-learning"
   ]
  },
  {
   "cell_type": "code",
   "execution_count": 22,
   "metadata": {
    "ExecuteTime": {
     "end_time": "2020-05-11T14:26:28.779105Z",
     "start_time": "2020-05-11T14:26:28.774383Z"
    }
   },
   "outputs": [],
   "source": [
    "# Function to learn the Q-value \n",
    "def update_Q_Qlearning(Q, state1_id, action1, reward1, state2_id, action2, expected=False):\n",
    "    \n",
    "    previous_Q_value_state1 = Q[state1_id].copy()\n",
    "    \n",
    "    predict = Q[state1_id][action1] \n",
    "    \n",
    "    target = reward1 + gamma * Q[state2_id][action2] \n",
    "    \n",
    "    new_Q_value = Q[state1_id][action1] + alpha * (target - predict)\n",
    "    previous_Q_value_state1[action1] = new_Q_value\n",
    "    \n",
    "    Q[state1_id] = previous_Q_value_state1\n",
    "    \n",
    "    return Q"
   ]
  },
  {
   "cell_type": "markdown",
   "metadata": {},
   "source": [
    "## Updating parameters"
   ]
  },
  {
   "cell_type": "markdown",
   "metadata": {},
   "source": [
    "### Epsilon $\\epsilon$ - Exploration rate"
   ]
  },
  {
   "cell_type": "code",
   "execution_count": 89,
   "metadata": {
    "ExecuteTime": {
     "end_time": "2020-05-11T15:18:48.520746Z",
     "start_time": "2020-05-11T15:18:48.517894Z"
    }
   },
   "outputs": [],
   "source": [
    "def get_epsilon(episode, init_epsilon):\n",
    "    \n",
    "    n_epsilon = init_epsilon/(episode*10+1)\n",
    "    \n",
    "    return n_epsilon"
   ]
  },
  {
   "cell_type": "markdown",
   "metadata": {},
   "source": [
    "### Alpha $\\alpha$ - Learning rate"
   ]
  },
  {
   "cell_type": "code",
   "execution_count": 90,
   "metadata": {
    "ExecuteTime": {
     "end_time": "2020-05-11T15:18:49.121539Z",
     "start_time": "2020-05-11T15:18:49.118537Z"
    }
   },
   "outputs": [],
   "source": [
    "def get_alpha(episode, init_alpha):\n",
    "    \n",
    "    n_alpha = init_alpha/(episode*10+1)\n",
    "    \n",
    "    return n_alpha"
   ]
  },
  {
   "cell_type": "markdown",
   "metadata": {},
   "source": [
    "## Plots Reward / Steps / Happiness"
   ]
  },
  {
   "cell_type": "code",
   "execution_count": 25,
   "metadata": {
    "ExecuteTime": {
     "end_time": "2020-05-11T14:26:28.794989Z",
     "start_time": "2020-05-11T14:26:28.791219Z"
    }
   },
   "outputs": [],
   "source": [
    "import matplotlib.colors as colors\n",
    "\n",
    "def get_list_colors():\n",
    "    colors_list = ['r','g','b','k','darkorange','y','lime','c','m'] + list(colors._colors_full_map.values())\n",
    "    return colors_list\n",
    "\n",
    "colors = get_list_colors()"
   ]
  },
  {
   "cell_type": "code",
   "execution_count": 26,
   "metadata": {
    "ExecuteTime": {
     "end_time": "2020-05-11T14:26:28.800702Z",
     "start_time": "2020-05-11T14:26:28.797012Z"
    }
   },
   "outputs": [],
   "source": [
    "import numpy as np\n",
    "def running_mean(x, N):\n",
    "    cumsum = np.cumsum(np.insert(x, 0, 0)) \n",
    "    return (cumsum[N:] - cumsum[:-N]) / float(N)"
   ]
  },
  {
   "cell_type": "markdown",
   "metadata": {},
   "source": [
    "### Reward"
   ]
  },
  {
   "cell_type": "code",
   "execution_count": 27,
   "metadata": {
    "ExecuteTime": {
     "end_time": "2020-05-11T14:26:28.809776Z",
     "start_time": "2020-05-11T14:26:28.802696Z"
    },
    "scrolled": true
   },
   "outputs": [],
   "source": [
    "import numpy as np\n",
    "import matplotlib.pyplot as plt\n",
    "\n",
    "def plot_evolution_reward(evolution_reward, method_name):\n",
    "    \n",
    "    n_moving_points = int(np.ceil(len(evolution_reward)/100))\n",
    "    y = running_mean(evolution_reward,n_moving_points)\n",
    "    x = range(len(y))\n",
    "\n",
    "    info_parameters = '{} method - {} steps \\n {} init_epsilon - {} init_alpha - {} gamma - {} nmax_steps'.format(\n",
    "        method_name, len(evolution_reward), init_epsilon, init_alpha, gamma, nmax_steps)\n",
    "    \n",
    "    plt.plot(x, y)\n",
    "    plt.title('Evolution of Avg Reward per step per episode over time \\n (smoothed over window size {})'.format(n_moving_points))\n",
    "    plt.xlabel('Episode \\n '+ info_parameters)\n",
    "    plt.ylabel('Avg Reward per step per episode (Smoothed)')\n",
    "    plt.grid(True)\n",
    "    plt.tight_layout()\n",
    "    plt.savefig('data/figures/{}__reward.png'.format(method_name), format='png', dpi=500)\n",
    "    plt.show()"
   ]
  },
  {
   "cell_type": "code",
   "execution_count": 28,
   "metadata": {
    "ExecuteTime": {
     "end_time": "2020-05-11T14:26:28.821960Z",
     "start_time": "2020-05-11T14:26:28.812055Z"
    }
   },
   "outputs": [],
   "source": [
    "def plot_comparison_evolution_reward(evo_training__evo_avg_reward_per_step):\n",
    "\n",
    "    n_episodes = len(list(evo_training__evo_avg_reward_per_step.values())[0])\n",
    "    info_parameters = 'All methods - {} episodes \\n {} init_epsilon - {} init_alpha - {} gamma - {} nmax_steps'.format(\n",
    "        n_episodes, init_epsilon, init_alpha, gamma, nmax_steps)\n",
    "\n",
    "    fig = plt.figure()\n",
    "    cnt=0\n",
    "    for method in list(evo_training__evo_avg_reward_per_step.keys()):\n",
    "\n",
    "        n_moving_points = int(np.ceil(len(evo_training__evo_avg_reward_per_step[method])/20))\n",
    "        y = running_mean(evo_training__evo_avg_reward_per_step[method], n_moving_points)\n",
    "        x = range(len(y))\n",
    "\n",
    "        plt.plot(\n",
    "            x\n",
    "            , y\n",
    "            , label=method\n",
    "            , marker='', color=colors[cnt], linewidth=1, alpha=0.75\n",
    "        )\n",
    "        cnt += 1\n",
    "\n",
    "    plt.title('Evolution of Avg Reward per step per episode over time \\n (smoothed over window size {})'.format(n_moving_points))\n",
    "    plt.xlabel('Episode \\n '+ info_parameters)\n",
    "    plt.ylabel('Avg Reward per step \\n per episode (Smoothed)')\n",
    "    plt.legend(bbox_to_anchor=(0.5,-0.10), loc=\"lower center\", \n",
    "                bbox_transform=fig.transFigure, ncol=4, fancybox=True, shadow=True, borderpad=1)\n",
    "    plt.grid(True)\n",
    "    plt.tight_layout()\n",
    "    plt.savefig('data/figures/Comparison__reward.png', format='png', dpi=500)\n",
    "    plt.show()"
   ]
  },
  {
   "cell_type": "markdown",
   "metadata": {},
   "source": [
    "### Number of steps"
   ]
  },
  {
   "cell_type": "code",
   "execution_count": 29,
   "metadata": {
    "ExecuteTime": {
     "end_time": "2020-05-11T14:26:28.831205Z",
     "start_time": "2020-05-11T14:26:28.824006Z"
    }
   },
   "outputs": [],
   "source": [
    "import numpy as np\n",
    "import matplotlib.pyplot as plt\n",
    "\n",
    "def plot_evolution_steps(evolution_steps, method_name):\n",
    "    \n",
    "    n_moving_points = int(np.ceil(len(evolution_steps)/100))\n",
    "    y = running_mean(evolution_steps,n_moving_points)\n",
    "    x = range(len(y))\n",
    "\n",
    "    info_parameters = '{} method - {} steps \\n {} init_epsilon - {} init_alpha - {} gamma - {} nmax_steps'.format(\n",
    "        method_name, len(evolution_steps), init_epsilon, init_alpha, gamma, nmax_steps)\n",
    "    \n",
    "    plt.plot(x, y)\n",
    "    plt.title('Episode Length over time \\n (smoothed over window size {})'.format(n_moving_points))\n",
    "    plt.axhline(nmax_steps, color = 'r')\n",
    "    plt.axhline(0, color = 'b')\n",
    "    plt.ylim([-10, nmax_steps*1.05])\n",
    "    plt.xlabel('Episode \\n '+ info_parameters)\n",
    "    plt.ylabel('Episode Length (Smoothed)')\n",
    "    plt.grid(True)\n",
    "    plt.tight_layout()\n",
    "    plt.savefig('data/figures/{}__steps.png'.format(method_name), format='png', dpi=500)\n",
    "    plt.show()"
   ]
  },
  {
   "cell_type": "code",
   "execution_count": 30,
   "metadata": {
    "ExecuteTime": {
     "end_time": "2020-05-11T14:26:28.843240Z",
     "start_time": "2020-05-11T14:26:28.833304Z"
    }
   },
   "outputs": [],
   "source": [
    "def plot_comparison_evolution_steps(evo_training__evo_n_steps):\n",
    "\n",
    "    n_episodes = len(list(evo_training__evo_n_steps.values())[0])\n",
    "    info_parameters = 'All methods - {} episodes \\n {} init_epsilon - {} init_alpha - {} gamma - {} nmax_steps'.format(\n",
    "        n_episodes, init_epsilon, init_alpha, gamma, nmax_steps)\n",
    "\n",
    "    fig = plt.figure()\n",
    "    cnt=0\n",
    "    for method in list(evo_training__evo_n_steps.keys()):\n",
    "\n",
    "        n_moving_points = int(np.ceil(len(evo_training__evo_n_steps[method])/20))\n",
    "        y = running_mean(evo_training__evo_n_steps[method], n_moving_points)\n",
    "        x = range(len(y))\n",
    "\n",
    "        plt.plot(\n",
    "            x, y, label=method\n",
    "            , marker='', color=colors[cnt], linewidth=1, alpha=0.75\n",
    "        )\n",
    "        cnt += 1\n",
    "\n",
    "    plt.title('Episode Length over time \\n (smoothed over window size {})'.format(n_moving_points))\n",
    "    plt.axhline(nmax_steps, color = 'r')\n",
    "    plt.axhline(0, color = 'b')\n",
    "    plt.ylim([-10, nmax_steps*1.05])\n",
    "    plt.xlabel('Episode \\n '+ info_parameters)\n",
    "    plt.ylabel('Episode Length (Smoothed)')\n",
    "    plt.legend(bbox_to_anchor=(0.5,-0.10), loc=\"lower center\", \n",
    "            bbox_transform=fig.transFigure, ncol=4, fancybox=True, shadow=True, borderpad=1)\n",
    "    plt.grid(True)\n",
    "    plt.tight_layout()\n",
    "    plt.savefig('data/figures/Comparison__steps.png', format='png', dpi=500)\n",
    "    plt.show()"
   ]
  },
  {
   "cell_type": "markdown",
   "metadata": {},
   "source": [
    "### Happiness"
   ]
  },
  {
   "cell_type": "code",
   "execution_count": 31,
   "metadata": {
    "ExecuteTime": {
     "end_time": "2020-05-11T14:26:28.852423Z",
     "start_time": "2020-05-11T14:26:28.845294Z"
    }
   },
   "outputs": [],
   "source": [
    "import numpy as np\n",
    "import matplotlib.pyplot as plt\n",
    "\n",
    "def plot_evolution_happiness(evolution_happiness_all, method_name):\n",
    "    \n",
    "    n_moving_points = int(np.ceil(len(evolution_happiness_all)/100))\n",
    "    y = running_mean(evolution_happiness_all,n_moving_points)\n",
    "    x = range(len(y))\n",
    "\n",
    "    info_parameters = '{} method - {} steps \\n {} init_epsilon - {} init_alpha - {} gamma - {} nmax_steps'.format(\n",
    "        method_name, len(evolution_happiness_all), init_epsilon, init_alpha, gamma, nmax_steps)\n",
    "    \n",
    "    plt.plot(x, y)\n",
    "    plt.title('Happiness over time \\n (smoothed over window size {})'.format(n_moving_points))\n",
    "    plt.ylim([-0.05, 1.05])\n",
    "    plt.xlabel('Episode \\n '+ info_parameters)\n",
    "    plt.ylabel('Happiness (Smoothed)')\n",
    "    plt.grid(True)\n",
    "    plt.tight_layout()\n",
    "    plt.savefig('data/figures/{}__happiness.png'.format(method_name), format='png', dpi=500)\n",
    "    plt.show()"
   ]
  },
  {
   "cell_type": "code",
   "execution_count": 32,
   "metadata": {
    "ExecuteTime": {
     "end_time": "2020-05-11T14:26:28.863562Z",
     "start_time": "2020-05-11T14:26:28.854514Z"
    }
   },
   "outputs": [],
   "source": [
    "def plot_comparison_evolution_happiness(evo_training__evo_avg_happiness):\n",
    "\n",
    "    n_episodes = len(list(evo_training__evo_avg_happiness.values())[0])\n",
    "    info_parameters = 'All methods - {} episodes \\n {} init_epsilon - {} init_alpha - {} gamma - {} nmax_steps'.format(\n",
    "        n_episodes, init_epsilon, init_alpha, gamma, nmax_steps)\n",
    "\n",
    "    fig = plt.figure()\n",
    "    cnt=0\n",
    "    for method in list(evo_training__evo_avg_happiness.keys()):\n",
    "\n",
    "        n_moving_points = int(np.ceil(len(evo_training__evo_avg_happiness[method])/20))\n",
    "        y = running_mean(evo_training__evo_avg_happiness[method], n_moving_points)\n",
    "        x = range(len(y))\n",
    "\n",
    "        plt.plot(\n",
    "            x, y, label=method\n",
    "            , marker='', color=colors[cnt], linewidth=1, alpha=0.75\n",
    "        )\n",
    "        cnt += 1\n",
    "\n",
    "    plt.title('Happiness over time \\n (smoothed over window size {})'.format(n_moving_points))\n",
    "    plt.ylim([-0.05, 1.05])\n",
    "    plt.xlabel('Episode \\n '+ info_parameters)\n",
    "    plt.ylabel('Happiness (Smoothed)')\n",
    "    plt.legend(bbox_to_anchor=(0.5,-0.10), loc=\"lower center\", \n",
    "            bbox_transform=fig.transFigure, ncol=4, fancybox=True, shadow=True, borderpad=1)\n",
    "    plt.grid(True)\n",
    "    plt.tight_layout()\n",
    "    plt.savefig('data/figures/Comparison__happiness.png', format='png', dpi=500)\n",
    "    plt.show()"
   ]
  },
  {
   "cell_type": "markdown",
   "metadata": {},
   "source": [
    "# Parametrisation"
   ]
  },
  {
   "cell_type": "code",
   "execution_count": 96,
   "metadata": {
    "ExecuteTime": {
     "end_time": "2020-05-11T15:20:01.254552Z",
     "start_time": "2020-05-11T15:20:01.251075Z"
    }
   },
   "outputs": [],
   "source": [
    "# Defining the different parameters\n",
    "init_epsilon = 0.1 # trade-off exploration/exploitation\n",
    "init_alpha = 0.5 # learning rate\n",
    "init_Q_type = 'ones'\n",
    "\n",
    "# Episodes\n",
    "n_episodes = 1000\n",
    "nmax_steps = 60*24 # maximum steps per episode"
   ]
  },
  {
   "cell_type": "markdown",
   "metadata": {
    "heading_collapsed": true
   },
   "source": [
    "# Training the learning agent - Monte-Carlo - every visit"
   ]
  },
  {
   "cell_type": "code",
   "execution_count": null,
   "metadata": {
    "ExecuteTime": {
     "end_time": "2020-05-11T13:50:52.169042Z",
     "start_time": "2020-05-11T13:50:52.165726Z"
    },
    "hidden": true
   },
   "outputs": [],
   "source": [
    "method = 'MC'\n",
    "method_monte_carlo = 'every_visit' # every_visit or first_visit\n",
    "\n",
    "method_name = method + '_' + method_monte_carlo"
   ]
  },
  {
   "cell_type": "markdown",
   "metadata": {
    "hidden": true
   },
   "source": [
    "## Initialisation"
   ]
  },
  {
   "cell_type": "code",
   "execution_count": null,
   "metadata": {
    "ExecuteTime": {
     "end_time": "2020-05-11T13:50:52.173565Z",
     "start_time": "2020-05-11T13:50:52.170854Z"
    },
    "hidden": true
   },
   "outputs": [],
   "source": [
    "# Initializing the Q-matrix \n",
    "Q = init_Q(n_actions, init_Q_type)\n",
    "N = init_N(n_actions)"
   ]
  },
  {
   "cell_type": "code",
   "execution_count": null,
   "metadata": {
    "ExecuteTime": {
     "end_time": "2020-05-11T13:50:52.179416Z",
     "start_time": "2020-05-11T13:50:52.175546Z"
    },
    "hidden": true
   },
   "outputs": [],
   "source": [
    "# Visualisation\n",
    "(render_episode, render_training) = (False, False)\n",
    "n_episodes_plot = int(np.ceil(n_episodes/100))"
   ]
  },
  {
   "cell_type": "code",
   "execution_count": null,
   "metadata": {
    "ExecuteTime": {
     "end_time": "2020-05-11T13:50:52.184485Z",
     "start_time": "2020-05-11T13:50:52.181420Z"
    },
    "hidden": true
   },
   "outputs": [],
   "source": [
    "# Initializing the reward\n",
    "evo_training = {\n",
    "    'evo_avg_reward_per_step': []\n",
    "    , 'evo_n_steps': []\n",
    "    , 'evo_avg_happiness': []\n",
    "}"
   ]
  },
  {
   "cell_type": "markdown",
   "metadata": {
    "hidden": true
   },
   "source": [
    "## Training"
   ]
  },
  {
   "cell_type": "code",
   "execution_count": null,
   "metadata": {
    "ExecuteTime": {
     "end_time": "2020-05-11T13:51:54.876281Z",
     "start_time": "2020-05-11T13:50:52.186671Z"
    },
    "hidden": true
   },
   "outputs": [],
   "source": [
    "# Starting the SARSA learning \n",
    "for episode in tqdm(range(n_episodes)):\n",
    "    \n",
    "    (n_episode_steps, done) = (0, False)\n",
    "    evo_episode = {\n",
    "        'episode_sum_reward': 0\n",
    "        , 'evolution_sum_happiness': 0\n",
    "    }\n",
    "    \n",
    "    # Update parameters\n",
    "    epsilon = get_epsilon(episode, init_epsilon)\n",
    "    alpha = get_alpha(episode, init_alpha)\n",
    "    \n",
    "    \n",
    "    # Get episode\n",
    "    steps_episode = []\n",
    "\n",
    "    state1 = env_reset()\n",
    "    evo_episode['evolution_sum_happiness'] += get_happiness(state1)\n",
    "    action1 = epsilon_greedy(Q, state1['state_id'], n_actions, init_epsilon)\n",
    "\n",
    "    while (not done) and (n_episode_steps < nmax_steps):\n",
    "\n",
    "        # Getting the next state \n",
    "        state2, reward1, done, info = env_step(state1, action1)\n",
    "        evo_episode['episode_sum_reward'] += reward1\n",
    "        evo_episode['evolution_sum_happiness'] += get_happiness(state2)\n",
    "        \n",
    "        steps_episode.append({\n",
    "            'state': state1,\n",
    "            'action': action1,\n",
    "            'reward' : reward1})\n",
    "\n",
    "        # Choosing the next action\n",
    "        action2 = epsilon_greedy(Q, state2['state_id'], n_actions, epsilon)\n",
    "\n",
    "        # Updating the respective values \n",
    "        state1 = state2 \n",
    "        action1 = action2\n",
    "        n_episode_steps += 1\n",
    "    \n",
    "    \n",
    "    # Add discounted reward\n",
    "    add_discounted_reward(steps_episode, gamma)\n",
    "\n",
    "    \n",
    "    # Update N and Q\n",
    "    states_already_visited = []\n",
    "    for step_episode in steps_episode:\n",
    "        update_N_MC(N, step_episode, method_monte_carlo, states_already_visited)\n",
    "        update_Q_MC(Q, N, step_episode, method_monte_carlo, states_already_visited)\n",
    "        states_already_visited.append(step_episode['state']['state_id'])\n",
    "\n",
    "\n",
    "    # At the end of learning process \n",
    "    if render_episode:\n",
    "        print('Episode {0}, Score: {1}, Timesteps: {2}, Epsilon: {3}, Alpha: {4}'.format(\n",
    "            episode+1, episode_reward, n_episode_steps, epsilon, alpha))\n",
    "    \n",
    "    evo_training['evo_avg_reward_per_step'].append(evo_episode['episode_sum_reward'] / n_episode_steps)\n",
    "    evo_training['evo_n_steps'].append(n_episode_steps)\n",
    "    evo_training['evo_avg_happiness'].append(evo_episode['evolution_sum_happiness'] / n_episode_steps)\n",
    "    \n",
    "    if ((episode+1) % n_episodes_plot == 0) | (episode == (n_episodes-1)):\n",
    "        \n",
    "        with open('data/interim/{}__Q.pkl'.format(method_name), 'wb') as file:\n",
    "            dill.dump(Q, file)\n",
    "\n",
    "        with open('data/interim/{}__N.pkl'.format(method_name), 'wb') as file:\n",
    "            dill.dump(N, file)\n",
    "\n",
    "        with open('data/interim/{}__evo_training.pkl'.format(method_name), 'wb') as file:\n",
    "            dill.dump(evo_training, file)\n",
    "\n",
    "with open('models/{}__Q.pkl'.format(method_name), 'wb') as file:\n",
    "    dill.dump(Q, file)\n",
    "\n",
    "with open('models/{}__N.pkl'.format(method_name), 'wb') as file:\n",
    "    dill.dump(N, file)\n",
    "\n",
    "with open('models/{}__evo_training.pkl'.format(method_name), 'wb') as file:\n",
    "    dill.dump(evo_training, file)"
   ]
  },
  {
   "cell_type": "code",
   "execution_count": null,
   "metadata": {
    "ExecuteTime": {
     "end_time": "2020-05-11T13:51:58.975113Z",
     "start_time": "2020-05-11T13:51:54.878593Z"
    },
    "hidden": true
   },
   "outputs": [],
   "source": [
    "plot_evolution_reward(evo_training['evo_avg_reward_per_step'], method_name)\n",
    "plot_evolution_steps(evo_training['evo_n_steps'], method_name)\n",
    "plot_evolution_happiness(evo_training['evo_avg_happiness'], method_name)"
   ]
  },
  {
   "cell_type": "markdown",
   "metadata": {
    "heading_collapsed": true
   },
   "source": [
    "# Training the learning agent - Monte-Carlo - first visit"
   ]
  },
  {
   "cell_type": "code",
   "execution_count": null,
   "metadata": {
    "ExecuteTime": {
     "end_time": "2020-05-11T13:51:58.980748Z",
     "start_time": "2020-05-11T13:51:58.977298Z"
    },
    "hidden": true
   },
   "outputs": [],
   "source": [
    "method = 'MC'\n",
    "method_monte_carlo = 'first_visit' # every_visit or first_visit\n",
    "\n",
    "method_name = method + '_' + method_monte_carlo"
   ]
  },
  {
   "cell_type": "markdown",
   "metadata": {
    "hidden": true
   },
   "source": [
    "## Initialisation"
   ]
  },
  {
   "cell_type": "code",
   "execution_count": null,
   "metadata": {
    "ExecuteTime": {
     "end_time": "2020-05-11T13:51:58.993420Z",
     "start_time": "2020-05-11T13:51:58.983094Z"
    },
    "hidden": true
   },
   "outputs": [],
   "source": [
    "# Initializing the Q-matrix \n",
    "Q = init_Q(n_actions, init_Q_type)\n",
    "N = init_N(n_actions)"
   ]
  },
  {
   "cell_type": "code",
   "execution_count": null,
   "metadata": {
    "ExecuteTime": {
     "end_time": "2020-05-11T13:51:58.998810Z",
     "start_time": "2020-05-11T13:51:58.995586Z"
    },
    "hidden": true
   },
   "outputs": [],
   "source": [
    "# Visualisation\n",
    "(render_episode, render_training) = (False, False)\n",
    "n_episodes_plot = int(np.ceil(n_episodes/100))"
   ]
  },
  {
   "cell_type": "code",
   "execution_count": null,
   "metadata": {
    "ExecuteTime": {
     "end_time": "2020-05-11T13:51:59.004016Z",
     "start_time": "2020-05-11T13:51:59.001003Z"
    },
    "hidden": true
   },
   "outputs": [],
   "source": [
    "# Initializing the reward\n",
    "evo_training = {\n",
    "    'evo_avg_reward_per_step': []\n",
    "    , 'evo_n_steps': []\n",
    "    , 'evo_avg_happiness': []\n",
    "}"
   ]
  },
  {
   "cell_type": "markdown",
   "metadata": {
    "hidden": true
   },
   "source": [
    "## Training"
   ]
  },
  {
   "cell_type": "code",
   "execution_count": null,
   "metadata": {
    "ExecuteTime": {
     "end_time": "2020-05-11T13:53:02.636930Z",
     "start_time": "2020-05-11T13:51:59.006213Z"
    },
    "hidden": true
   },
   "outputs": [],
   "source": [
    "# Starting the SARSA learning \n",
    "for episode in tqdm(range(n_episodes)):\n",
    "    \n",
    "    (n_episode_steps, done) = (0, False)\n",
    "    evo_episode = {\n",
    "        'episode_sum_reward': 0\n",
    "        , 'evolution_sum_happiness': 0\n",
    "    }\n",
    "    \n",
    "    # Update parameters\n",
    "    epsilon = get_epsilon(episode, init_epsilon)\n",
    "    alpha = get_alpha(episode, init_alpha)\n",
    "    \n",
    "    \n",
    "    # Get episode\n",
    "    steps_episode = []\n",
    "\n",
    "    state1 = env_reset()\n",
    "    evo_episode['evolution_sum_happiness'] += get_happiness(state1)\n",
    "    action1 = epsilon_greedy(Q, state1['state_id'], n_actions, init_epsilon)\n",
    "\n",
    "    while (not done) and (n_episode_steps < nmax_steps):\n",
    "\n",
    "        # Getting the next state \n",
    "        state2, reward1, done, info = env_step(state1, action1)\n",
    "        evo_episode['episode_sum_reward'] += reward1\n",
    "        evo_episode['evolution_sum_happiness'] += get_happiness(state2)\n",
    "        \n",
    "        steps_episode.append({\n",
    "            'state': state1,\n",
    "            'action': action1,\n",
    "            'reward' : reward1})\n",
    "\n",
    "        # Choosing the next action\n",
    "        action2 = epsilon_greedy(Q, state2['state_id'], n_actions, epsilon)\n",
    "\n",
    "        # Updating the respective values \n",
    "        state1 = state2 \n",
    "        action1 = action2\n",
    "        n_episode_steps += 1\n",
    "    \n",
    "    \n",
    "    # Add discounted reward\n",
    "    add_discounted_reward(steps_episode, gamma)\n",
    "\n",
    "    \n",
    "    # Update N and Q\n",
    "    states_already_visited = []\n",
    "    for step_episode in steps_episode:\n",
    "        update_N_MC(N, step_episode, method_monte_carlo, states_already_visited)\n",
    "        update_Q_MC(Q, N, step_episode, method_monte_carlo, states_already_visited)\n",
    "        states_already_visited.append(step_episode['state']['state_id'])\n",
    "\n",
    "\n",
    "    # At the end of learning process \n",
    "    if render_episode:\n",
    "        print('Episode {0}, Score: {1}, Timesteps: {2}, Epsilon: {3}, Alpha: {4}'.format(\n",
    "            episode+1, episode_reward, n_episode_steps, epsilon, alpha))\n",
    "    \n",
    "    evo_training['evo_avg_reward_per_step'].append(evo_episode['episode_sum_reward'] / n_episode_steps)\n",
    "    evo_training['evo_n_steps'].append(n_episode_steps)\n",
    "    evo_training['evo_avg_happiness'].append(evo_episode['evolution_sum_happiness'] / n_episode_steps)\n",
    "    \n",
    "    if ((episode+1) % n_episodes_plot == 0) | (episode == (n_episodes-1)):\n",
    "        \n",
    "        with open('data/interim/{}__Q.pkl'.format(method_name), 'wb') as file:\n",
    "            dill.dump(Q, file)\n",
    "\n",
    "        with open('data/interim/{}__N.pkl'.format(method_name), 'wb') as file:\n",
    "            dill.dump(N, file)\n",
    "\n",
    "        with open('data/interim/{}__evo_training.pkl'.format(method_name), 'wb') as file:\n",
    "            dill.dump(evo_training, file)\n",
    "\n",
    "with open('models/{}__Q.pkl'.format(method_name), 'wb') as file:\n",
    "    dill.dump(Q, file)\n",
    "\n",
    "with open('models/{}__N.pkl'.format(method_name), 'wb') as file:\n",
    "    dill.dump(N, file)\n",
    "\n",
    "with open('models/{}__evo_training.pkl'.format(method_name), 'wb') as file:\n",
    "    dill.dump(evo_training, file)"
   ]
  },
  {
   "cell_type": "code",
   "execution_count": null,
   "metadata": {
    "ExecuteTime": {
     "end_time": "2020-05-11T13:53:06.689150Z",
     "start_time": "2020-05-11T13:53:02.639223Z"
    },
    "hidden": true
   },
   "outputs": [],
   "source": [
    "plot_evolution_reward(evo_training['evo_avg_reward_per_step'], method_name)\n",
    "plot_evolution_steps(evo_training['evo_n_steps'], method_name)\n",
    "plot_evolution_happiness(evo_training['evo_avg_happiness'], method_name)"
   ]
  },
  {
   "cell_type": "markdown",
   "metadata": {},
   "source": [
    "# Training the learning agent - SARSA"
   ]
  },
  {
   "cell_type": "code",
   "execution_count": 82,
   "metadata": {
    "ExecuteTime": {
     "end_time": "2020-05-11T15:17:40.156547Z",
     "start_time": "2020-05-11T15:17:40.153965Z"
    }
   },
   "outputs": [],
   "source": [
    "method = 'SARSA'\n",
    "method_name = method"
   ]
  },
  {
   "cell_type": "markdown",
   "metadata": {},
   "source": [
    "## Initialisation"
   ]
  },
  {
   "cell_type": "code",
   "execution_count": 97,
   "metadata": {
    "ExecuteTime": {
     "end_time": "2020-05-11T15:20:05.041859Z",
     "start_time": "2020-05-11T15:20:05.035369Z"
    }
   },
   "outputs": [],
   "source": [
    "# Initializing the Q-matrix \n",
    "Q = init_Q(n_actions, init_Q_type)"
   ]
  },
  {
   "cell_type": "code",
   "execution_count": 98,
   "metadata": {
    "ExecuteTime": {
     "end_time": "2020-05-11T15:20:05.301408Z",
     "start_time": "2020-05-11T15:20:05.298221Z"
    }
   },
   "outputs": [],
   "source": [
    "# Visualisation\n",
    "(render_episode, render_training) = (False, False)\n",
    "n_episodes_plot = int(np.ceil(n_episodes/100))"
   ]
  },
  {
   "cell_type": "code",
   "execution_count": 99,
   "metadata": {
    "ExecuteTime": {
     "end_time": "2020-05-11T15:20:05.559447Z",
     "start_time": "2020-05-11T15:20:05.556550Z"
    }
   },
   "outputs": [],
   "source": [
    "# Initializing the reward\n",
    "evo_training = {\n",
    "    'evo_avg_reward_per_step': []\n",
    "    , 'evo_n_steps': []\n",
    "    , 'evo_avg_happiness': []\n",
    "}"
   ]
  },
  {
   "cell_type": "markdown",
   "metadata": {},
   "source": [
    "## Training"
   ]
  },
  {
   "cell_type": "code",
   "execution_count": 100,
   "metadata": {
    "ExecuteTime": {
     "end_time": "2020-05-11T15:20:56.168487Z",
     "start_time": "2020-05-11T15:20:06.139752Z"
    }
   },
   "outputs": [
    {
     "name": "stderr",
     "output_type": "stream",
     "text": [
      "100%|██████████| 1000/1000 [00:49<00:00, 20.21it/s]\n"
     ]
    }
   ],
   "source": [
    "# Starting the SARSA learning \n",
    "for episode in tqdm(range(n_episodes)):\n",
    "    \n",
    "    (n_episode_steps, done) = (0, False)\n",
    "    evo_episode = {\n",
    "        'episode_sum_reward': 0\n",
    "        , 'evolution_sum_happiness': 0\n",
    "    }\n",
    "    \n",
    "    # Update parameters\n",
    "    epsilon = get_epsilon(episode, init_epsilon)\n",
    "    alpha = get_alpha(episode, init_alpha)\n",
    "    \n",
    "    \n",
    "    # Get episode\n",
    "\n",
    "    state1 = env_reset()\n",
    "    evo_episode['evolution_sum_happiness'] += get_happiness(state1)\n",
    "    action1 = epsilon_greedy(Q, state1['state_id'], n_actions, init_epsilon)\n",
    "\n",
    "    while (not done) and (n_episode_steps < nmax_steps):\n",
    "\n",
    "        # Getting the next state \n",
    "        state2, reward1, done, info = env_step(state1, action1)\n",
    "        evo_episode['episode_sum_reward'] += reward1\n",
    "        evo_episode['evolution_sum_happiness'] += get_happiness(state2)\n",
    "        \n",
    "        # Choosing the next action\n",
    "        action2 = epsilon_greedy(Q, state2['state_id'], n_actions, epsilon)\n",
    "\n",
    "        # Learning the Q-value\n",
    "        Q = update_Q_SARSA(Q,state1['state_id'], action1, reward1, state2['state_id'], action2)\n",
    "        \n",
    "        # Updating the respective values \n",
    "        state1 = state2 \n",
    "        action1 = action2\n",
    "        n_episode_steps += 1\n",
    "    \n",
    "\n",
    "    # At the end of learning process \n",
    "    if render_episode:\n",
    "        print('Episode {0}, Score: {1}, Timesteps: {2}, Epsilon: {3}, Alpha: {4}'.format(\n",
    "            episode+1, episode_reward, n_episode_steps, epsilon, alpha))\n",
    "    \n",
    "    evo_training['evo_avg_reward_per_step'].append(evo_episode['episode_sum_reward'] / n_episode_steps)\n",
    "    evo_training['evo_n_steps'].append(n_episode_steps)\n",
    "    evo_training['evo_avg_happiness'].append(evo_episode['evolution_sum_happiness'] / n_episode_steps)\n",
    "    \n",
    "    if ((episode+1) % n_episodes_plot == 0) | (episode == (n_episodes-1)):\n",
    "        \n",
    "        with open('data/interim/{}__Q.pkl'.format(method_name), 'wb') as file:\n",
    "            dill.dump(Q, file)\n",
    "\n",
    "        with open('data/interim/{}__evo_training.pkl'.format(method_name), 'wb') as file:\n",
    "            dill.dump(evo_training, file)\n",
    "            \n",
    "with open('models/{}__Q.pkl'.format(method_name), 'wb') as file:\n",
    "    dill.dump(Q, file)\n",
    "\n",
    "with open('models/{}__evo_training.pkl'.format(method_name), 'wb') as file:\n",
    "    dill.dump(evo_training, file)"
   ]
  },
  {
   "cell_type": "code",
   "execution_count": 101,
   "metadata": {
    "ExecuteTime": {
     "end_time": "2020-05-11T15:21:00.269739Z",
     "start_time": "2020-05-11T15:20:56.171128Z"
    }
   },
   "outputs": [
    {
     "data": {
      "image/png": "[encoded data removed]",
      "text/plain": [
       "<Figure size 432x288 with 1 Axes>"
      ]
     },
     "metadata": {
      "needs_background": "light"
     },
     "output_type": "display_data"
    },
    {
     "data": {
      "image/png": "[encoded data removed]",
      "text/plain": [
       "<Figure size 432x288 with 1 Axes>"
      ]
     },
     "metadata": {
      "needs_background": "light"
     },
     "output_type": "display_data"
    },
    {
     "data": {
      "image/png": "[encoded data removed]",
      "text/plain": [
       "<Figure size 432x288 with 1 Axes>"
      ]
     },
     "metadata": {
      "needs_background": "light"
     },
     "output_type": "display_data"
    }
   ],
   "source": [
    "plot_evolution_reward(evo_training['evo_avg_reward_per_step'], method_name)\n",
    "plot_evolution_steps(evo_training['evo_n_steps'], method_name)\n",
    "plot_evolution_happiness(evo_training['evo_avg_happiness'], method_name)"
   ]
  },
  {
   "cell_type": "code",
   "execution_count": 88,
   "metadata": {
    "ExecuteTime": {
     "end_time": "2020-05-11T15:18:36.395136Z",
     "start_time": "2020-05-11T15:18:36.192174Z"
    }
   },
   "outputs": [
    {
     "data": {
      "text/plain": [
       "defaultdict(<function __main__.init_Q.<locals>.get_default_Q_values()>,\n",
       "            {'0.5000_0.0000_0.5000_True': array([1.4805496 , 1.35582416, 1.34502012, 1.3834116 ]),\n",
       "             '0.4900_0.0000_0.4900_True': array([1.       , 1.4010835, 1.       , 1.       ]),\n",
       "             '0.4800_0.0000_0.4800_False': array([1.519669  , 0.95069108, 0.99      , 0.99246001]),\n",
       "             '0.4700_0.0000_0.4700_False': array([1.        , 0.9775    , 0.955     , 1.30698315]),\n",
       "             '0.4600_0.0000_0.4600_False': array([1.59012311, 0.95      , 1.        , 1.        ]),\n",
       "             '0.4500_0.0000_0.4500_False': array([1.36749491, 1.        , 1.        , 0.945     ]),\n",
       "             '0.4400_0.0000_0.4400_False': array([1.       , 1.       , 1.1834298, 0.94     ]),\n",
       "             '0.4300_0.0000_0.4300_False': array([1.51353866, 1.        , 1.        , 1.        ]),\n",
       "             '0.4200_0.0000_0.4200_False': array([1.40570578, 0.93      , 1.        , 1.        ]),\n",
       "             '0.4100_0.0000_0.4100_False': array([1.29422926, 0.985     , 0.990625  , 0.925     ]),\n",
       "             '0.4000_0.0000_0.4000_False': array([1.        , 0.999675  , 1.1293894 , 0.92047085]),\n",
       "             '0.3900_0.0000_0.3900_False': array([1.48193651, 1.        , 1.        , 1.        ]),\n",
       "             '0.3800_0.0000_0.3800_False': array([1.43448342, 0.91      , 1.        , 1.        ]),\n",
       "             '0.3700_0.0000_0.3700_False': array([1.43108802, 0.99525   , 0.905     , 0.99792187]),\n",
       "             '0.3600_0.0000_0.3600_False': array([1.39723056, 1.        , 1.        , 1.        ]),\n",
       "             '0.3500_0.0000_0.3500_False': array([1.28807193, 0.979     , 0.895     , 1.        ]),\n",
       "             '0.3400_0.0000_0.3400_False': array([1.22049475, 0.89      , 1.        , 1.        ]),\n",
       "             '0.3300_0.0000_0.6000_True': array([1.        , 1.19060736, 1.        , 1.        ]),\n",
       "             '0.3200_0.0000_0.5900_False': array([1.22753659, 0.88      , 1.        , 0.987875  ]),\n",
       "             '0.3100_0.0000_0.5800_False': array([1.28087618, 0.99722891, 1.        , 1.        ]),\n",
       "             '0.3000_0.0000_0.5700_False': array([1.23538049, 1.        , 1.        , 1.        ]),\n",
       "             '0.2900_0.0000_0.5600_False': array([1.18848823, 0.865     , 0.98345   , 1.        ]),\n",
       "             '0.2800_0.0000_0.5500_False': array([1.20293539, 1.        , 1.        , 1.        ]),\n",
       "             '0.2700_0.0000_0.5400_False': array([1.13152556, 1.        , 0.855     , 0.971     ]),\n",
       "             '0.2600_0.0000_0.5300_False': array([1.12294549, 0.85      , 0.97      , 0.98125   ]),\n",
       "             '0.2500_0.0000_0.5200_False': array([1.13401167, 0.9821732 , 0.845     , 0.969     ]),\n",
       "             '0.2400_0.0000_0.5100_False': array([1.16223276, 0.84      , 1.        , 1.        ]),\n",
       "             '0.2300_0.0000_0.5000_False': array([1.16477353, 1.        , 1.        , 1.        ]),\n",
       "             '0.2200_0.0000_0.4900_False': array([1.11973995, 0.83      , 1.        , 1.        ]),\n",
       "             '0.2100_0.0000_0.4800_False': array([1.11835942, 1.        , 0.825     , 1.        ]),\n",
       "             '0.2000_0.0000_0.4700_False': array([1.12475997, 1.        , 1.        , 0.82      ]),\n",
       "             '0.1900_0.0000_0.4600_False': array([1.1223181, 1.       , 1.       , 1.       ]),\n",
       "             '0.1800_0.0000_0.4500_False': array([1.07383304, 1.        , 1.        , 0.81      ]),\n",
       "             '0.1700_0.0000_0.6700_True': array([1.        , 1.03401733, 1.        , 1.        ]),\n",
       "             '0.1600_0.0000_0.6600_False': array([1.08799782, 1.        , 0.8       , 1.        ]),\n",
       "             '0.1500_0.0000_0.6500_False': array([1.08508337, 1.        , 1.        , 1.        ]),\n",
       "             '0.1400_0.0000_0.6400_False': array([1.05597638, 1.        , 1.        , 0.79      ]),\n",
       "             '0.1300_0.0000_0.6300_False': array([1.05127643, 0.785     , 0.95985   , 0.97508438]),\n",
       "             '0.1200_0.0000_0.6200_False': array([1.05396801, 1.        , 1.        , 1.        ]),\n",
       "             '0.1100_0.0000_0.6100_False': array([1.02990404, 1.        , 0.955     , 0.775     ]),\n",
       "             '0.1000_0.0000_0.6000_False': array([1.02244842, 0.77      , 0.97125   , 0.954     ]),\n",
       "             '0.0900_0.0000_0.5900_False': array([1.0167445, 1.       , 0.953    , 0.765    ]),\n",
       "             '0.0800_0.0000_0.5800_False': array([1.01063687, 1.        , 0.76      , 0.94064051]),\n",
       "             '0.0700_0.0000_0.5700_False': array([1.00424945, 0.755     , 0.951     , 0.969375  ]),\n",
       "             '0.0600_0.0000_0.5600_False': array([0.99804261, 0.98214286, 0.95      , 0.75      ]),\n",
       "             '0.0500_0.0000_0.5500_False': array([0.99042457, 0.745     , 0.968125  , 0.949     ]),\n",
       "             '0.0400_0.0000_0.5400_False': array([0.97582567, 0.948     , 0.74      , 0.9675    ]),\n",
       "             '0.0300_0.0000_0.5300_False': array([0.93533869, 0.93546495, 0.93546477, 0.93534799]),\n",
       "             '0.0200_0.0000_0.5200_False': array([0.69326422, 0.69317423, 0.69301438, 0.69301618]),\n",
       "             '0.0100_0.0000_0.7100_True': array([-1.29484255, -1.2948008 , -4.025     , -1.29481889]),\n",
       "             '0.0000_0.0000_0.7000_False': array([1., 1., 1., 1.]),\n",
       "             '0.4900_0.0000_0.4900_False': array([1.62758627, 0.99044167, 0.99125   , 0.973     ]),\n",
       "             '0.4500_0.0000_0.5700_True': array([1.34080003, 1.        , 1.        , 1.        ]),\n",
       "             '0.4400_0.0000_0.5600_True': array([1.        , 1.        , 1.        , 1.23834313]),\n",
       "             '0.4300_0.0000_0.5500_False': array([1.22829723, 0.99071429, 0.98375   , 0.9675    ]),\n",
       "             '0.4200_0.0000_0.5400_False': array([1.24526542, 0.965     , 0.9825    , 1.        ]),\n",
       "             '0.4100_0.0000_0.5300_False': array([1.24430412, 1.        , 1.        , 0.9625    ]),\n",
       "             '0.4000_0.0000_0.5200_False': array([1.21516786, 0.98682813, 0.99393638, 0.96      ]),\n",
       "             '0.3900_0.0000_0.6100_True': array([1.        , 1.        , 1.        , 1.20305203]),\n",
       "             '0.3800_0.0000_0.6000_False': array([1.20207365, 0.9775    , 0.955     , 1.        ]),\n",
       "             '0.3700_0.0000_0.5900_False': array([1.19780444, 0.98897321, 0.97625   , 0.9525    ]),\n",
       "             '0.3600_0.0000_0.5800_False': array([1.21298021, 1.        , 1.        , 0.95      ]),\n",
       "             '0.3500_0.0000_0.5700_False': array([1.2029773, 0.9475   , 0.97375  , 0.98975  ]),\n",
       "             '0.3400_0.0000_0.6500_True': array([1.23972205, 1.        , 1.        , 1.0225    ]),\n",
       "             '0.3300_0.0000_0.6400_True': array([1.20760632, 1.        , 1.        , 1.        ]),\n",
       "             '0.3200_0.0000_0.6300_True': array([1.        , 1.        , 1.13884982, 1.        ]),\n",
       "             '0.3100_0.0000_0.6200_False': array([1.        , 1.17559817, 0.981875  , 1.        ]),\n",
       "             '0.9000_0.2500_0.6100_True': array([1.46503033, 1.        , 1.        , 1.        ]),\n",
       "             '0.8900_0.2500_0.6000_True': array([1.       , 1.4118793, 1.       , 1.       ]),\n",
       "             '0.8800_0.2500_0.5900_False': array([1.4394114, 1.       , 1.       , 1.       ]),\n",
       "             '0.8700_0.2500_0.5800_False': array([1.32453787, 1.        , 1.        , 1.        ]),\n",
       "             '0.8600_0.2500_0.5700_False': array([1.        , 1.        , 1.02282299, 1.        ]),\n",
       "             '0.8500_0.2500_0.5600_False': array([1.        , 1.        , 1.09171555, 1.        ]),\n",
       "             '0.8400_0.2500_0.5500_False': array([1.35571081, 1.        , 0.9975    , 1.        ]),\n",
       "             '0.8300_0.2500_0.5400_False': array([1.36862858, 1.        , 1.        , 1.        ]),\n",
       "             '0.8200_0.2500_0.5300_False': array([1.29299353, 1.        , 0.99270976, 1.        ]),\n",
       "             '0.8100_0.2500_0.5200_False': array([1.27898066, 0.99      , 1.        , 0.99714286]),\n",
       "             '0.8000_0.2500_0.5100_False': array([1.28980856, 1.        , 0.9875    , 1.        ]),\n",
       "             '0.7900_0.2500_0.5000_False': array([1.27839363, 0.985     , 1.        , 1.        ]),\n",
       "             '0.7800_0.2500_0.4900_False': array([1.25077125, 1.        , 1.        , 0.9825    ]),\n",
       "             '0.7700_0.2500_0.4800_False': array([1.18435188, 0.99428571, 0.98      , 0.9955744 ]),\n",
       "             '0.7600_0.2500_0.4700_False': array([1.        , 1.        , 1.05326284, 0.9775    ]),\n",
       "             '0.7500_0.2500_0.4600_False': array([1.29951296, 1.        , 1.        , 1.        ]),\n",
       "             '0.7400_0.2500_0.4500_False': array([1.        , 1.19411253, 1.        , 1.        ]),\n",
       "             '0.7300_0.2000_0.6700_True': array([1.        , 1.        , 1.        , 1.36519538]),\n",
       "             '0.7200_0.2000_0.6600_False': array([1.        , 1.1931714 , 1.00325941, 1.        ]),\n",
       "             '0.7100_0.2000_0.6500_False': array([1.39161748, 1.        , 1.        , 1.        ]),\n",
       "             '0.7000_0.2000_0.6400_False': array([1.        , 1.10434603, 1.        , 1.        ]),\n",
       "             '0.6900_0.2000_0.6300_False': array([1.        , 1.19689667, 1.        , 1.        ]),\n",
       "             '0.6800_0.1800_0.7000_True': array([1.        , 1.00037706, 1.34572878, 1.        ]),\n",
       "             '0.6700_0.1800_0.6900_False': array([1.        , 1.10421972, 1.        , 1.        ]),\n",
       "             '1.0000_0.4300_0.6800_True': array([1.        , 1.26396824, 1.        , 1.        ]),\n",
       "             '0.9900_0.4300_0.6700_False': array([1.        , 1.        , 1.01789813, 1.        ]),\n",
       "             '0.9800_0.4300_0.6600_False': array([1.        , 1.        , 1.01845516, 1.        ]),\n",
       "             '0.9700_0.4300_0.6500_False': array([1.        , 1.        , 1.        , 1.02269586]),\n",
       "             '0.9600_0.4300_0.6400_False': array([1.        , 1.        , 1.04742591, 1.        ]),\n",
       "             '0.9500_0.4300_0.6300_False': array([1.        , 1.        , 1.        , 1.15110104]),\n",
       "             '0.9400_0.4300_0.6200_False': array([1.43346843, 1.        , 1.        , 1.        ]),\n",
       "             '0.9300_0.4300_0.6100_False': array([1.32548239, 1.        , 1.        , 1.        ]),\n",
       "             '0.9200_0.4300_0.6000_False': array([1.        , 1.        , 1.        , 1.01774014]),\n",
       "             '0.9100_0.4300_0.5900_False': array([1.        , 1.        , 1.        , 1.01732151]),\n",
       "             '0.9000_0.4300_0.5800_False': array([1.        , 1.        , 1.        , 1.01619944]),\n",
       "             '0.8900_0.4300_0.5700_False': array([1.        , 1.01858988, 1.        , 1.        ]),\n",
       "             '0.8800_0.4300_0.5600_False': array([1.        , 1.06671273, 1.        , 1.        ]),\n",
       "             '0.8700_0.4300_0.5500_False': array([1.24756022, 1.        , 1.        , 0.9975    ]),\n",
       "             '0.8600_0.4300_0.5400_False': array([1.        , 1.05070712, 0.995     , 1.        ]),\n",
       "             '0.8500_0.4300_0.5300_False': array([1.        , 1.        , 1.        , 1.23485331]),\n",
       "             '0.8400_0.3400_0.7200_True': array([1.53451765, 1.        , 1.        , 1.        ]),\n",
       "             '0.8300_0.3400_0.7100_True': array([1.49640502, 1.        , 1.        , 1.        ]),\n",
       "             '0.8200_0.3400_0.7000_True': array([1.       , 1.       , 1.       , 1.3693161]),\n",
       "             '0.8100_0.3400_0.6900_False': array([1.        , 1.        , 1.20558772, 1.        ]),\n",
       "             '0.8000_0.3400_0.6800_False': array([1.41166468, 1.        , 1.00093234, 1.        ]),\n",
       "             '0.7900_0.3400_0.6700_False': array([1.        , 1.        , 1.        , 1.13895518]),\n",
       "             '0.7800_0.3400_0.6600_False': array([1.        , 1.00103757, 1.27106739, 1.        ]),\n",
       "             '0.7700_0.3000_0.7200_True': array([1.57740683, 1.        , 1.        , 1.        ]),\n",
       "             '0.7600_0.3000_0.7100_True': array([1.56614575, 1.        , 1.        , 1.        ]),\n",
       "             '0.7500_0.3000_0.7000_True': array([1.51541085, 1.        , 1.        , 1.        ]),\n",
       "             '0.7400_0.3000_0.6900_True': array([1.        , 1.        , 1.        , 1.35869554]),\n",
       "             '0.7300_0.3000_0.6800_False': array([1.       , 1.       , 1.       , 1.1046261]),\n",
       "             '0.7200_0.3000_0.6700_False': array([1.        , 1.        , 1.        , 1.10237867]),\n",
       "             '0.7100_0.3000_0.6600_False': array([1.        , 1.        , 1.12824673, 1.        ]),\n",
       "             '0.7000_0.3000_0.6500_False': array([1.        , 1.        , 1.        , 1.24963133]),\n",
       "             '0.6900_0.2700_0.7200_True': array([1.50710841, 1.        , 1.        , 1.        ]),\n",
       "             '0.6800_0.2700_0.7100_True': array([1.        , 1.35457854, 1.        , 1.        ]),\n",
       "             '0.6700_0.2700_0.7000_False': array([1.        , 1.        , 1.12481989, 1.        ]),\n",
       "             '0.6600_0.2700_0.6900_False': array([1.        , 1.22381847, 1.        , 1.        ]),\n",
       "             '0.6500_0.2700_0.6800_False': array([1.5219985, 1.       , 1.       , 1.       ]),\n",
       "             '0.6400_0.2700_0.6700_False': array([1.5087897, 1.       , 1.       , 1.       ]),\n",
       "             '0.6300_0.2700_0.6600_False': array([1.47485496, 1.        , 1.        , 1.        ]),\n",
       "             '0.6200_0.2700_0.6500_False': array([1.3610808, 1.       , 1.       , 1.       ]),\n",
       "             '0.6100_0.2700_0.6400_False': array([1.01722989, 1.        , 1.        , 1.06521599]),\n",
       "             '0.6000_0.2700_0.6300_False': array([1.        , 1.        , 1.        , 1.14028872]),\n",
       "             '0.5900_0.2700_0.6200_False': array([1.33219891, 1.        , 1.        , 1.        ]),\n",
       "             '0.5800_0.2700_0.6100_False': array([1.        , 1.        , 1.        , 1.02442969]),\n",
       "             '0.5700_0.2700_0.6000_False': array([1.        , 1.06568934, 1.        , 1.        ]),\n",
       "             '0.5600_0.2700_0.5900_False': array([1.24706631, 1.        , 1.        , 1.        ]),\n",
       "             '0.5500_0.2700_0.5800_False': array([1.        , 0.9975    , 1.10115986, 1.        ]),\n",
       "             '0.5400_0.2700_0.5700_False': array([1.30987527, 1.        , 1.        , 1.        ]),\n",
       "             '0.5300_0.2700_0.5600_False': array([1.        , 0.9925    , 1.        , 1.06568345]),\n",
       "             '0.5200_0.2100_0.7300_True': array([1.        , 1.        , 1.        , 1.23736111]),\n",
       "             '0.5100_0.2100_0.7200_False': array([1.       , 1.       , 1.0729635, 0.9875   ]),\n",
       "             '0.5000_0.2100_0.7100_False': array([1.28612257, 1.        , 1.        , 1.        ]),\n",
       "             '0.4900_0.2100_0.7000_False': array([1.        , 0.9825    , 1.07803535, 1.        ]),\n",
       "             '0.4800_0.2100_0.6900_False': array([1.35674993, 1.        , 1.        , 1.        ]),\n",
       "             '0.4700_0.1800_0.7500_True': array([1.314406  , 1.        , 1.00911765, 1.        ]),\n",
       "             '0.4600_0.1800_0.7400_True': array([1.        , 1.        , 1.21354581, 1.        ]),\n",
       "             '0.4500_0.1800_0.7300_False': array([1.        , 1.        , 1.        , 1.14596711]),\n",
       "             '1.0000_0.4300_0.7200_True': array([1.44044625, 1.        , 1.        , 1.        ]),\n",
       "             '0.9900_0.4300_0.7100_True': array([1.40435178, 1.        , 1.        , 1.        ]),\n",
       "             '0.9800_0.4300_0.7000_True': array([1.        , 1.        , 1.28300667, 1.        ]),\n",
       "             '0.9700_0.4300_0.6900_False': array([1.13938219, 0.9425    , 0.98645536, 0.98994593]),\n",
       "             '1.0000_0.6800_0.6800_True': array([1.        , 1.        , 1.10547843, 1.        ]),\n",
       "             '0.9900_0.6800_0.6700_False': array([1.01182427, 0.88      , 1.        , 1.        ]),\n",
       "             '1.0000_0.9300_0.6600_True': array([1.01084905, 0.99428571, 0.98      , 1.        ]),\n",
       "             '0.9900_0.9300_0.6500_False': array([ 1.00142857,  1.        , -1.5125    ,  1.        ]),\n",
       "             '1.0000_1.0000_0.6400_True': array([1., 1., 1., 1.]),\n",
       "             '1.0000_0.2500_0.4800_True': array([1.31969957, 1.        , 1.        , 1.        ]),\n",
       "             '0.9900_0.2500_0.4700_True': array([1.30735171, 1.        , 1.        , 1.        ]),\n",
       "             '0.9800_0.2500_0.4600_True': array([1.2771444, 1.       , 1.       , 1.       ]),\n",
       "             '0.9700_0.2500_0.4500_True': array([1.        , 1.        , 1.20006653, 1.        ]),\n",
       "             '0.9600_0.2500_0.4400_False': array([1.19831787, 0.98      , 0.9935625 , 0.99702813]),\n",
       "             '1.0000_0.5000_0.4300_True': array([1.        , 1.20473163, 1.        , 1.        ]),\n",
       "             '0.9900_0.5000_0.4200_False': array([1.23282385, 1.        , 0.97666667, 0.99996398]),\n",
       "             '0.9800_0.5000_0.4100_False': array([1.24098567, 1.        , 0.999876  , 1.        ]),\n",
       "             '0.9700_0.5000_0.4000_False': array([1.20258693, 1.        , 1.        , 0.97333333]),\n",
       "             '0.9600_0.5000_0.3900_False': array([1.18865908, 1.        , 1.        , 0.97166667]),\n",
       "             '0.9500_0.5000_0.3800_False': array([1.16804117, 0.985     , 1.        , 0.97      ]),\n",
       "             '0.9400_0.5000_0.3700_False': array([1.16690028, 0.98416667, 0.96833333, 1.        ]),\n",
       "             '0.9300_0.5000_0.3600_False': array([1.1768797 , 0.99993815, 0.96666667, 0.98715972]),\n",
       "             '0.9200_0.5000_0.3500_False': array([1.19134271, 1.        , 1.        , 1.        ]),\n",
       "             '0.9100_0.5000_0.3400_False': array([1.14563222, 1.        , 0.98166667, 0.96333333]),\n",
       "             '0.9000_0.5000_0.3300_False': array([1.13946712, 0.98083333, 0.96166667, 1.        ]),\n",
       "             '0.8900_0.5000_0.3200_False': array([1.13928553, 0.98914   , 0.98      , 0.96      ]),\n",
       "             '0.8800_0.5000_0.3100_False': array([1.16631219, 1.        , 1.        , 0.95833333]),\n",
       "             '0.8700_0.5000_0.3000_False': array([1.17534181, 1.        , 1.        , 1.        ]),\n",
       "             '0.8600_0.5000_0.2900_False': array([1.14508631, 1.        , 1.        , 1.        ]),\n",
       "             '0.8500_0.5000_0.2800_False': array([1.00248837, 1.00585101, 1.08958964, 1.        ]),\n",
       "             '0.8400_0.4000_0.5700_True': array([1.        , 1.        , 1.        , 1.29478992]),\n",
       "             '0.8300_0.4000_0.5600_False': array([1.28621215, 1.        , 1.        , 1.        ]),\n",
       "             '0.8200_0.4000_0.5500_False': array([1.25471175, 1.        , 0.99833333, 0.99916667]),\n",
       "             '0.8100_0.4000_0.5400_False': array([1.23398558, 0.99925694, 0.99666667, 1.        ]),\n",
       "             '0.8000_0.4000_0.5300_False': array([1.        , 1.15227873, 1.        , 1.        ]),\n",
       "             '0.7900_0.3600_0.6200_True': array([1.3895983, 1.       , 1.       , 1.       ]),\n",
       "             '0.7800_0.3600_0.6100_True': array([1.        , 1.        , 1.        , 1.25738431]),\n",
       "             '0.7700_0.3600_0.6000_False': array([1.        , 1.02903904, 1.        , 1.        ]),\n",
       "             '0.7600_0.3600_0.5900_False': array([1.        , 1.02729274, 1.        , 1.        ]),\n",
       "             '0.7500_0.3600_0.5800_False': array([1.        , 1.        , 1.05239056, 1.        ]),\n",
       "             '0.7400_0.3600_0.5700_False': array([1.00081459, 1.        , 1.1751165 , 1.        ]),\n",
       "             '0.7300_0.3200_0.6500_True': array([1.41270188, 1.        , 1.        , 1.        ]),\n",
       "             '0.7200_0.3200_0.6400_True': array([1.       , 1.2806954, 1.       , 1.       ]),\n",
       "             '0.7100_0.3200_0.6300_False': array([1.        , 1.        , 1.        , 1.05398225]),\n",
       "             '0.7000_0.3200_0.6200_False': array([1.        , 1.        , 1.        , 1.06169375]),\n",
       "             '0.6900_0.3200_0.6100_False': array([1.        , 1.        , 1.        , 1.12269529]),\n",
       "             '0.6800_0.3200_0.6000_False': array([1.30773122, 1.        , 1.        , 1.        ]),\n",
       "             '0.6700_0.3200_0.5900_False': array([1.       , 1.       , 1.       , 1.0385171]),\n",
       "             '0.6600_0.3200_0.5800_False': array([1.        , 1.        , 1.09947582, 1.00031936]),\n",
       "             '0.6500_0.3200_0.5700_False': array([1.28517268, 1.        , 1.        , 1.        ]),\n",
       "             '0.6400_0.3200_0.5600_False': array([1.        , 1.        , 1.01917428, 1.        ]),\n",
       "             '0.6300_0.3200_0.5500_False': array([1.        , 1.09837173, 0.99833333, 1.        ]),\n",
       "             '0.6200_0.3200_0.5400_False': array([1.36644938, 1.        , 1.        , 1.        ]),\n",
       "             '0.6100_0.3200_0.5300_False': array([1.35741571, 1.        , 1.        , 1.        ]),\n",
       "             '0.6000_0.3200_0.5200_False': array([1.34209074, 1.        , 1.        , 1.        ]),\n",
       "             '0.5900_0.3200_0.5100_False': array([1.3043426, 1.       , 1.       , 1.       ]),\n",
       "             '0.5800_0.3200_0.5000_False': array([1.22089556, 1.        , 1.        , 0.99      ]),\n",
       "             '0.5700_0.3200_0.4900_False': array([1.        , 1.        , 1.07737753, 1.        ]),\n",
       "             '0.5600_0.2500_0.6900_True': array([1.        , 1.        , 1.        , 1.23912237]),\n",
       "             '0.5500_0.2500_0.6800_False': array([1.        , 0.99833333, 1.        , 1.08973805]),\n",
       "             '0.5400_0.2500_0.6700_False': array([1.33361514, 1.        , 1.        , 1.        ]),\n",
       "             '0.5300_0.2500_0.6600_False': array([1.28742052, 1.        , 1.        , 0.995     ]),\n",
       "             '0.5200_0.2500_0.6500_False': array([1.28583739, 1.        , 0.99333333, 1.        ]),\n",
       "             '0.5100_0.2200_0.7200_True': array([1.        , 1.26258104, 1.        , 1.        ]),\n",
       "             '0.5000_0.2200_0.7100_False': array([1.28460721, 0.99      , 1.        , 1.        ]),\n",
       "             '0.4900_0.2200_0.7000_False': array([1.28048675, 1.        , 1.        , 1.        ]),\n",
       "             '0.4800_0.2200_0.6900_False': array([1.21583216, 0.99762292, 0.99333333, 0.98666667]),\n",
       "             '0.4700_0.2200_0.6800_False': array([1.23492698, 0.985     , 1.        , 1.        ]),\n",
       "             '0.4600_0.2200_0.6700_False': array([1.22438476, 0.98333333, 0.9968125 , 0.99937396]),\n",
       "             '0.4500_0.2200_0.6600_False': array([1.26711666, 1.        , 1.        , 1.        ]),\n",
       "             '0.4400_0.2200_0.6500_False': array([1.21531327, 1.        , 1.        , 0.98      ]),\n",
       "             '0.4300_0.2200_0.6400_False': array([1.18471184, 0.97833333, 0.98731944, 1.        ]),\n",
       "             '0.4200_0.2200_0.6300_False': array([1.17193932, 0.99455671, 0.993     , 0.96694444]),\n",
       "             '0.4100_0.2200_0.6200_False': array([1.20590888, 1.        , 0.99198611, 0.975     ]),\n",
       "             '0.4000_0.2200_0.6100_False': array([1.21875368, 1.        , 1.        , 1.        ]),\n",
       "             '0.3900_0.2200_0.6000_False': array([1.15665218, 0.9915    , 0.98583333, 0.97166667]),\n",
       "             '0.3800_0.2200_0.5900_False': array([1.15217959, 0.991     , 0.985     , 0.97      ]),\n",
       "             '0.3700_0.2200_0.5800_False': array([1.1491354 , 0.96833333, 0.9905    , 0.98416667]),\n",
       "             '0.3600_0.2200_0.5700_False': array([1.14909727, 0.9921309 , 0.96666667, 0.98584028]),\n",
       "             '0.3500_0.1700_0.7400_True': array([1.        , 1.134937  , 1.00327111, 1.        ]),\n",
       "             '0.3400_0.1700_0.7300_False': array([1.14676653, 0.96333333, 0.98166667, 1.        ]),\n",
       "             '0.3300_0.1700_0.7200_False': array([1.13723697, 0.96166667, 1.        , 0.98083333]),\n",
       "             '0.3200_0.1700_0.7100_False': array([1.14106392, 0.96      , 0.99080382, 0.98329861]),\n",
       "             '0.3100_0.1700_0.7000_False': array([1.16709394, 1.        , 1.        , 1.        ]),\n",
       "             '0.3000_0.1700_0.6900_False': array([1.13004828, 1.        , 0.95666667, 1.        ]),\n",
       "             '0.2900_0.1700_0.6800_False': array([1.10923252, 0.9865    , 0.955     , 0.97726443]),\n",
       "             '0.2800_0.1700_0.6700_False': array([1.11911134, 0.98835521, 0.9794375 , 0.95333333]),\n",
       "             '0.2700_0.1700_0.6600_False': array([1.14062847, 1.        , 1.        , 1.        ]),\n",
       "             '0.2600_0.1700_0.6500_False': array([1.11168643, 1.        , 1.        , 0.95      ]),\n",
       "             '0.2500_0.1700_0.6400_False': array([1.10570543, 0.97654167, 0.94833333, 0.9866253 ]),\n",
       "             '0.2400_0.1700_0.6300_False': array([1.13300346, 1.        , 1.        , 1.        ]),\n",
       "             '0.2300_0.1700_0.6200_False': array([1.12325403, 1.        , 1.        , 1.        ]),\n",
       "             '0.2200_0.1700_0.6100_False': array([1.10806266, 1.        , 1.        , 1.        ]),\n",
       "             '0.2100_0.1700_0.6000_False': array([1.08893224, 0.94166667, 1.        , 1.        ]),\n",
       "             '0.2000_0.1700_0.5900_False': array([1.09190239, 0.94      , 1.        , 1.        ]),\n",
       "             '0.1900_0.1300_0.7500_True': array([1.        , 1.        , 1.13466669, 1.        ]),\n",
       "             '0.1800_0.1300_0.7400_False': array([1.42692852, 1.        , 1.        , 1.        ]),\n",
       "             '0.7700_0.3800_0.7300_True': array([1.4110178, 1.       , 1.       , 1.       ]),\n",
       "             '0.7600_0.3800_0.7200_True': array([1.        , 1.35611386, 1.        , 1.        ]),\n",
       "             '0.7500_0.3800_0.7100_False': array([1.32906606, 1.        , 1.        , 1.        ]),\n",
       "             '0.7400_0.3800_0.7000_False': array([1.        , 1.        , 1.        , 1.07002254]),\n",
       "             '0.7300_0.3800_0.6900_False': array([1.        , 1.        , 1.13620437, 1.        ]),\n",
       "             '0.7200_0.3800_0.6800_False': array([1.32596124, 1.        , 1.        , 1.0003173 ]),\n",
       "             '0.7100_0.3800_0.6700_False': array([1.        , 1.05550282, 1.        , 1.        ]),\n",
       "             '0.7000_0.3800_0.6600_False': array([1.        , 1.07047334, 1.        , 1.        ]),\n",
       "             '0.6900_0.3800_0.6500_False': array([1.        , 1.13977312, 1.        , 1.        ]),\n",
       "             '0.6800_0.3800_0.6400_False': array([1.34616724, 1.        , 1.        , 1.        ]),\n",
       "             '0.6700_0.3800_0.6300_False': array([1.       , 1.       , 1.       , 1.1542233]),\n",
       "             '0.6600_0.3800_0.6200_False': array([1.4177214, 1.       , 1.       , 1.       ]),\n",
       "             '0.6500_0.3800_0.6100_False': array([1.39322618, 1.        , 1.        , 1.        ]),\n",
       "             '0.6400_0.3800_0.6000_False': array([1.304416, 1.      , 1.      , 1.      ]),\n",
       "             '0.6300_0.3800_0.5900_False': array([1.        , 1.        , 1.04188918, 1.        ]),\n",
       "             '0.6200_0.3800_0.5800_False': array([1.        , 1.        , 1.12502243, 1.        ]),\n",
       "             '0.6100_0.3800_0.5700_False': array([1.41230288, 1.        , 1.        , 1.        ]),\n",
       "             '0.6000_0.3000_0.7400_True': array([1.40021804, 1.        , 1.        , 1.        ]),\n",
       "             '0.5900_0.3000_0.7300_True': array([1.36985338, 1.        , 1.        , 1.        ]),\n",
       "             '0.5800_0.3000_0.7200_True': array([1.       , 1.       , 1.2857307, 1.       ]),\n",
       "             '0.5700_0.3000_0.7100_False': array([1.23556157, 1.        , 1.        , 0.98166667]),\n",
       "             '1.0000_0.5600_0.7000_True': array([1.       , 1.       , 1.       , 1.2124105]),\n",
       "             '0.9900_0.5600_0.6900_False': array([1.23316551, 1.        , 1.        , 0.98166667]),\n",
       "             '0.9800_0.5600_0.6800_False': array([1.24098543, 1.        , 0.98166667, 1.        ]),\n",
       "             '0.9700_0.5600_0.6700_False': array([1.27112626, 1.        , 0.98166667, 1.        ]),\n",
       "             '0.9600_0.5600_0.6600_False': array([1.33464662, 1.        , 1.        , 1.        ]),\n",
       "             '0.9500_0.5000_0.7200_True': array([1.31156638, 1.        , 1.        , 1.        ]),\n",
       "             '0.9400_0.5000_0.7100_True': array([1.       , 1.2374575, 1.       , 1.       ]),\n",
       "             '0.9300_0.5000_0.7000_False': array([1.22598032, 1.        , 0.98819444, 1.        ]),\n",
       "             '0.9200_0.5000_0.6900_False': array([1.2210277 , 0.99928125, 0.99583333, 0.99166667]),\n",
       "             '0.9100_0.5000_0.6800_False': array([1.21553497, 1.        , 0.99166789, 1.        ]),\n",
       "             '0.9000_0.5000_0.6700_False': array([1.        , 1.        , 0.99166667, 1.05801856]),\n",
       "             '0.8900_0.5000_0.6600_False': array([1.28537437, 1.        , 1.        , 1.        ]),\n",
       "             '0.8800_0.5000_0.6500_False': array([1.20487989, 0.99583333, 0.99166667, 0.9975    ]),\n",
       "             '0.8700_0.5000_0.6400_False': array([1.17971243, 0.99166667, 0.99758411, 0.99583333]),\n",
       "             '0.8600_0.5000_0.6300_False': array([1.        , 1.        , 0.99166667, 1.05966953]),\n",
       "             '0.8500_0.5000_0.6200_False': array([1.2937675, 1.       , 1.       , 1.       ]),\n",
       "             '0.8400_0.5000_0.6100_False': array([1.23134921, 0.99583333, 0.99166667, 1.        ]),\n",
       "             '0.8300_0.5000_0.6000_False': array([1.23501188, 1.        , 0.99583333, 0.99166667]),\n",
       "             '0.8200_0.5000_0.5900_False': array([1.25075938, 0.99166667, 1.        , 0.99583333]),\n",
       "             '0.8100_0.5000_0.5800_False': array([1.2841489 , 0.99166667, 1.        , 1.        ]),\n",
       "             '0.8000_0.5000_0.5700_False': array([1.27211883, 1.        , 1.00002072, 1.        ]),\n",
       "             '0.7900_0.5000_0.5600_False': array([1.02417979, 1.        , 1.13134188, 1.        ]),\n",
       "             '0.7800_0.4000_0.7300_True': array([1.37864925, 1.        , 1.        , 1.        ]),\n",
       "             '0.7700_0.4000_0.7200_True': array([1.        , 1.        , 1.        , 1.25700883]),\n",
       "             '0.7600_0.4000_0.7100_False': array([1.        , 1.        , 1.        , 1.04082406]),\n",
       "             '0.7500_0.4000_0.7000_False': array([1.        , 1.        , 1.        , 1.05877908]),\n",
       "             '0.7400_0.4000_0.6900_False': array([1.        , 1.        , 1.        , 1.14564274]),\n",
       "             '0.7300_0.4000_0.6800_False': array([1.42611432, 1.        , 1.        , 1.        ]),\n",
       "             '0.7200_0.3600_0.7400_True': array([1.3859784, 1.0245   , 1.       , 1.       ]),\n",
       "             '0.7100_0.3600_0.7300_True': array([1.        , 1.27461237, 1.        , 1.        ]),\n",
       "             '0.7000_0.3600_0.7200_False': array([1.        , 1.06830545, 1.        , 1.        ]),\n",
       "             '0.6900_0.3600_0.7100_False': array([1.        , 1.07061319, 1.        , 1.        ]),\n",
       "             '0.6800_0.3600_0.7000_False': array([1.        , 1.        , 1.08555832, 1.        ]),\n",
       "             '0.6700_0.3600_0.6900_False': array([1.        , 1.        , 1.        , 1.15458831]),\n",
       "             '0.6600_0.3600_0.6800_False': array([1.35869947, 1.        , 1.        , 1.        ]),\n",
       "             '0.6500_0.3600_0.6700_False': array([1.        , 1.        , 1.        , 1.15207334]),\n",
       "             '0.6400_0.3600_0.6600_False': array([1.34876196, 1.        , 1.        , 1.        ]),\n",
       "             '0.6300_0.3600_0.6500_False': array([1.        , 1.        , 1.13438288, 1.        ]),\n",
       "             '0.6200_0.3600_0.6400_False': array([1.3164169, 1.       , 1.       , 1.       ]),\n",
       "             '0.6100_0.3600_0.6300_False': array([1.        , 1.03552672, 1.        , 1.        ]),\n",
       "             '0.6000_0.3600_0.6200_False': array([1.       , 1.       , 1.       , 1.0302675]),\n",
       "             '0.5900_0.3600_0.6100_False': array([1.        , 1.03755543, 1.        , 1.        ]),\n",
       "             '0.5800_0.3600_0.6000_False': array([1.        , 1.        , 1.09830449, 1.        ]),\n",
       "             '0.5700_0.3600_0.5900_False': array([1.29122844, 1.        , 1.        , 1.        ]),\n",
       "             '0.5600_0.3600_0.5800_False': array([1.        , 1.06688561, 1.        , 1.        ]),\n",
       "             '0.5500_0.2800_0.7500_True': array([1.       , 1.       , 1.       , 1.2576837]),\n",
       "             '0.5400_0.2800_0.7400_False': array([1.2485113 , 0.99666667, 1.        , 1.        ]),\n",
       "             '0.5300_0.2800_0.7300_False': array([1.22320323, 1.        , 0.9975    , 0.995     ]),\n",
       "             '0.5200_0.2800_0.7200_False': array([1.202542  , 1.        , 0.99333333, 1.        ]),\n",
       "             '0.5100_0.2800_0.7100_False': array([1.        , 0.99166667, 1.        , 1.03710629]),\n",
       "             '0.5000_0.2500_0.7600_True': array([1.        , 1.        , 1.        , 1.22599366]),\n",
       "             '0.4900_0.2500_0.7500_False': array([1.22331766, 0.98833333, 1.        , 1.        ]),\n",
       "             '0.4800_0.2500_0.7400_False': array([1.20627992, 1.        , 0.98666667, 0.99333333]),\n",
       "             '0.4700_0.2500_0.7300_False': array([1.22473817, 0.985     , 1.        , 1.        ]),\n",
       "             '0.4600_0.2500_0.7200_False': array([1.22417548, 0.98333333, 1.        , 1.        ]),\n",
       "             '0.4500_0.2200_0.7700_True': array([1.        , 1.        , 1.21251966, 1.        ]),\n",
       "             '0.4400_0.2200_0.7600_False': array([1.27749427, 1.        , 1.        , 0.99666667]),\n",
       "             '1.0000_0.4700_0.7500_True': array([1.        , 1.        , 1.        , 1.27929697]),\n",
       "             '0.9900_0.4700_0.7400_False': array([1.30433397, 1.        , 1.        , 1.        ]),\n",
       "             '0.9800_0.4700_0.7300_False': array([1.24454194, 1.        , 1.        , 0.99666667]),\n",
       "             '0.9700_0.4700_0.7200_False': array([1.1977573 , 1.        , 0.99872917, 0.99666667]),\n",
       "             '0.9600_0.4700_0.7100_False': array([1.        , 1.        , 1.        , 1.08567457]),\n",
       "             '0.9500_0.4200_0.7600_True': array([1.       , 1.       , 1.2586784, 1.       ]),\n",
       "             '0.9400_0.4200_0.7500_False': array([1.15193641, 1.        , 0.96333333, 1.        ]),\n",
       "             '1.0000_0.6700_0.7400_True': array([1.        , 1.12709966, 1.        , 1.        ]),\n",
       "             '0.9900_0.6700_0.7300_False': array([1.15326513, 1.        , 0.96333333, 1.        ]),\n",
       "             '0.9800_0.6700_0.7200_False': array([1.15619046, 1.        , 0.96333333, 1.        ]),\n",
       "             '0.9700_0.6700_0.7100_False': array([1.16590899, 1.        , 0.96333333, 1.        ]),\n",
       "             '0.9600_0.6700_0.7000_False': array([1.17512631, 1.        , 1.        , 1.        ]),\n",
       "             '0.9500_0.6700_0.6900_False': array([1.14771273, 0.96333333, 0.98536111, 1.        ]),\n",
       "             '0.9400_0.6700_0.6800_False': array([1.16715918, 1.        , 1.        , 1.        ]),\n",
       "             '0.9300_0.6700_0.6700_False': array([1.11887356, 0.98166667, 0.96333333, 0.99      ]),\n",
       "             '0.9200_0.6700_0.6600_False': array([1.12646089, 0.99      , 0.96333333, 0.98166667]),\n",
       "             '0.9100_0.6700_0.6500_False': array([1.15350681, 1.        , 0.96333333, 0.98536111]),\n",
       "             '0.9000_0.6700_0.6400_False': array([1.19133952, 1.        , 1.        , 1.        ]),\n",
       "             '0.8900_0.6700_0.6300_False': array([1.16765092, 1.        , 1.        , 1.        ]),\n",
       "             '0.8800_0.6700_0.6200_False': array([1.12062305, 0.96333333, 0.98166667, 0.99      ]),\n",
       "             '0.8700_0.6700_0.6100_False': array([1.12393352, 0.98166667, 1.        , 0.96333333]),\n",
       "             '0.8600_0.6700_0.6000_False': array([1.10323646, 0.98166667, 0.96333333, 0.99      ]),\n",
       "             '0.8500_0.6700_0.5900_False': array([1.        , 1.04315914, 0.98666667, 0.998875  ]),\n",
       "             '0.8400_0.5300_0.7500_True': array([1.29249266, 1.        , 1.        , 1.        ]),\n",
       "             '0.8300_0.5300_0.7400_True': array([1.2695479, 1.       , 1.       , 1.       ]),\n",
       "             '0.8200_0.5300_0.7300_True': array([1.        , 1.        , 1.17943826, 1.        ]),\n",
       "             '0.8100_0.5300_0.7200_False': array([1.06718536, 0.945     , 0.9857137 , 0.97342361]),\n",
       "             '1.0000_0.7800_0.7100_True': array([1.05142121, 1.        , 0.99710277, 1.        ]),\n",
       "             '0.9900_0.7800_0.7000_False': array([ 0.1625    ,  0.34118635, -0.675     ,  0.2918402 ]),\n",
       "             '1.0000_1.0000_0.6900_True': array([1., 1., 1., 1.]),\n",
       "             '0.3300_0.0000_0.6400_False': array([1.03375, 1.     , 1.     , 1.     ]),\n",
       "             '0.3200_0.0000_0.6300_False': array([1.        , 0.97178125, 1.        , 1.        ]),\n",
       "             '0.3000_0.0000_0.6100_False': array([1.    , 0.9675, 1.    , 1.    ]),\n",
       "             '0.2900_0.0000_0.6800_True': array([1.     , 1.01625, 1.     , 1.     ]),\n",
       "             '0.2800_0.0000_0.6700_False': array([1.0275, 1.    , 1.    , 1.    ]),\n",
       "             '0.2700_0.0000_0.6600_False': array([1.     , 1.     , 1.     , 0.96375]),\n",
       "             '0.2600_0.0000_0.6500_False': array([1.    , 1.    , 0.9625, 1.    ]),\n",
       "             '0.2500_0.0000_0.6400_False': array([1.     , 0.96125, 1.     , 1.     ]),\n",
       "             '0.2400_0.0000_0.6300_False': array([1.  , 1.  , 0.96, 1.  ]),\n",
       "             '0.2300_0.0000_0.6200_False': array([1.     , 1.     , 1.     , 0.95875]),\n",
       "             '0.2200_0.0000_0.6100_False': array([1.    , 1.    , 0.9575, 1.    ]),\n",
       "             '0.2100_0.0000_0.6000_False': array([1.     , 1.     , 0.95625, 1.     ]),\n",
       "             '0.2000_0.0000_0.5900_False': array([1.   , 0.955, 1.   , 1.   ]),\n",
       "             '0.1900_0.0000_0.5800_False': array([1.     , 0.95375, 1.     , 1.     ]),\n",
       "             '0.1800_0.0000_0.5700_False': array([1.    , 0.9525, 1.    , 1.    ]),\n",
       "             '0.1700_0.0000_0.5600_False': array([1.     , 1.     , 0.95125, 1.     ]),\n",
       "             '0.1600_0.0000_0.5500_False': array([1.0125, 1.    , 1.    , 1.    ]),\n",
       "             '0.1500_0.0000_0.5400_False': array([1.     , 0.94875, 1.     , 1.     ]),\n",
       "             '0.1400_0.0000_0.5300_False': array([1.    , 1.    , 0.9475, 1.    ]),\n",
       "             '0.1300_0.0000_0.7200_True': array([1.     , 1.     , 1.     , 0.99625]),\n",
       "             '0.1200_0.0000_0.7100_False': array([1.   , 0.945, 1.   , 1.   ]),\n",
       "             '0.1100_0.0000_0.7000_False': array([1.00625, 1.     , 1.     , 1.     ]),\n",
       "             '0.1000_0.0000_0.6900_False': array([1.    , 0.9425, 1.    , 1.    ]),\n",
       "             '0.0900_0.0000_0.6800_False': array([1.00375, 1.     , 1.     , 1.     ]),\n",
       "             '0.0800_0.0000_0.7400_True': array([1.0025, 1.    , 1.    , 1.    ]),\n",
       "             '0.0700_0.0000_0.7300_True': array([1.     , 0.98875, 1.     , 1.     ]),\n",
       "             '0.0600_0.0000_0.7200_False': array([1.    , 0.9375, 1.    , 1.    ]),\n",
       "             '0.0500_0.0000_0.7100_False': array([1.     , 1.     , 1.     , 0.93625]),\n",
       "             '0.0400_0.0000_0.7000_False': array([0.9975, 1.    , 1.    , 1.    ]),\n",
       "             '0.0300_0.0000_0.6900_False': array([1.     , 1.     , 1.     , 0.93375]),\n",
       "             '0.0200_0.0000_0.6800_False': array([1.    , 0.9325, 1.    , 1.    ]),\n",
       "             '0.0100_0.0000_0.6700_False': array([ 1.     ,  1.     , -0.25625,  1.     ]),\n",
       "             '0.0000_0.0000_0.6600_False': array([1., 1., 1., 1.]),\n",
       "             '0.9800_0.9300_0.6400_False': array([1.00142857, 1.        , 1.        , 1.        ]),\n",
       "             '0.9700_0.9300_0.6300_False': array([0.44301587, 0.98668834, 0.98153846, 1.        ]),\n",
       "             '0.9600_0.9300_0.6200_False': array([0.76209141, 0.98961972, 0.99082434, 0.96571429]),\n",
       "             '0.9500_0.9300_0.6100_False': array([0.83579522, 1.        , 1.        , 1.        ]),\n",
       "             '0.9400_0.9300_0.6000_False': array([0.86505718, 0.98538462, 0.98229531, 0.96571429]),\n",
       "             '0.9300_0.9300_0.5900_False': array([0.91558892, 0.96571429, 0.99593554, 1.        ]),\n",
       "             '0.9200_0.9300_0.5800_False': array([0.92208895, 0.98670437, 0.96571429, 0.9843066 ]),\n",
       "             '0.9100_0.9300_0.5700_False': array([0.94616107, 1.        , 1.        , 1.        ]),\n",
       "             '0.9000_0.9300_0.5600_False': array([1.00151554, 0.98666667, 0.96571429, 0.99077938]),\n",
       "             '0.8900_0.9300_0.5500_False': array([1.00200463, 1.        , 0.96571429, 1.        ]),\n",
       "             '0.8800_0.9300_0.5400_False': array([1.00043236, 0.98666667, 0.99076923, 0.96571429]),\n",
       "             '0.8700_0.9300_0.5300_False': array([1.00045105, 0.99077938, 0.96571429, 0.98666667]),\n",
       "             '0.8600_0.9300_0.5200_False': array([0.94487368, 0.96571429, 0.99733571, 1.        ]),\n",
       "             '0.8500_0.9300_0.5100_False': array([1.00056683, 0.97928571, 0.99077938, 0.98666667]),\n",
       "             '0.8400_0.7400_0.7000_True': array([1.        , 1.        , 1.        , 1.00785714]),\n",
       "             '0.8300_0.7400_0.6900_False': array([1.        , 1.        , 1.        , 0.97928571]),\n",
       "             '0.8200_0.7400_0.6800_False': array([1.        , 1.        , 1.        , 0.97928571]),\n",
       "             '0.8100_0.7400_0.6700_False': array([1.        , 1.        , 1.        , 0.97928571]),\n",
       "             '0.8000_0.7400_0.6600_False': array([1.        , 1.        , 0.985     , 0.99974739]),\n",
       "             '0.7900_0.6600_0.7200_True': array([1.02071429, 1.        , 1.        , 1.        ]),\n",
       "             '0.7800_0.6600_0.7100_True': array([1.        , 1.        , 1.        , 1.01357143]),\n",
       "             '0.7700_0.6600_0.7000_False': array([1.   , 0.985, 1.   , 1.   ]),\n",
       "             '0.7600_0.6600_0.6900_False': array([1.   , 1.   , 1.   , 0.985]),\n",
       "             '0.7500_0.6600_0.6800_False': array([1.   , 1.   , 1.   , 0.985]),\n",
       "             '0.7400_0.6600_0.6700_False': array([1.        , 0.99863636, 0.99      , 0.99989458]),\n",
       "             '0.7300_0.5900_0.7300_True': array([1.        , 1.01857143, 1.        , 1.        ]),\n",
       "             '0.7200_0.5900_0.7200_False': array([1.  , 1.  , 0.99, 1.  ]),\n",
       "             '0.7100_0.5900_0.7100_False': array([1.  , 1.  , 0.99, 1.  ]),\n",
       "             '0.7000_0.5900_0.7000_False': array([1.02620158, 1.        , 1.        , 1.        ]),\n",
       "             '0.6900_0.5900_0.6900_False': array([1.00052478, 1.        , 0.99      , 1.        ]),\n",
       "             '0.6800_0.5900_0.6800_False': array([1.        , 0.99      , 0.99983153, 1.        ]),\n",
       "             '0.6700_0.5900_0.6700_False': array([1.02620158, 1.        , 1.        , 1.        ]),\n",
       "             '0.6600_0.5900_0.6600_False': array([1.        , 0.99      , 0.99979592, 1.        ]),\n",
       "             '0.6500_0.5900_0.6500_False': array([1.        , 1.        , 0.99983153, 0.99      ]),\n",
       "             '0.6400_0.5900_0.6400_False': array([1.02623719, 1.        , 1.        , 1.        ]),\n",
       "             '0.6300_0.5900_0.6300_False': array([1.02620158, 1.        , 1.        , 1.        ]),\n",
       "             '0.6200_0.5900_0.6200_False': array([1.        , 0.99      , 0.99979592, 1.        ]),\n",
       "             '0.6100_0.5900_0.6100_False': array([1.        , 1.        , 0.99      , 0.99979592]),\n",
       "             '0.6000_0.5900_0.6000_False': array([1.00052478, 1.        , 0.99      , 1.        ]),\n",
       "             '0.5900_0.5900_0.5900_False': array([1.00052478, 1.        , 1.        , 0.99      ]),\n",
       "             '0.5800_0.5900_0.5800_False': array([1.        , 0.99979592, 0.99857143, 1.        ]),\n",
       "             '0.5700_0.4700_0.7500_True': array([1.0351398, 1.       , 1.       , 1.       ]),\n",
       "             '0.5600_0.4700_0.7400_True': array([1.0351398, 1.       , 1.       , 1.       ]),\n",
       "             '0.5500_0.4700_0.7300_True': array([1.03581464, 1.        , 1.        , 1.        ]),\n",
       "             '0.5400_0.4700_0.7200_True': array([1.        , 1.        , 1.        , 1.02828641]),\n",
       "             '0.5300_0.4700_0.7100_False': array([1.        , 0.99785714, 0.99994643, 0.99995741]),\n",
       "             '0.5200_0.4700_0.7000_False': array([1.00149079, 1.        , 0.99714286, 1.        ]),\n",
       "             '0.5100_0.4700_0.6900_False': array([1.        , 0.99642857, 0.99991071, 0.99992711]),\n",
       "             '0.5000_0.4700_0.6800_False': array([1.        , 0.99994594, 0.99993284, 0.99571429]),\n",
       "             '0.4900_0.4200_0.7400_True': array([1.        , 1.02456451, 1.        , 1.        ]),\n",
       "             '0.4800_0.4200_0.7300_False': array([1.        , 0.99990682, 0.99992488, 0.99428571]),\n",
       "             '0.4700_0.4200_0.7200_False': array([1.03051955, 1.        , 1.        , 1.        ]),\n",
       "             '0.4600_0.4200_0.7100_False': array([1.00062256, 0.99986869, 1.        , 0.99285714]),\n",
       "             '0.4500_0.4200_0.7000_False': array([1.02903173, 1.        , 1.        , 1.        ]),\n",
       "             '0.4400_0.4200_0.6900_False': array([1.00123152, 0.99142857, 1.        , 1.        ]),\n",
       "             '0.4300_0.4200_0.6800_False': array([1.        , 0.99976786, 0.99071429, 0.9998105 ]),\n",
       "             '0.4200_0.4200_0.6700_False': array([1.00056026, 0.99979241, 0.99      , 1.        ]),\n",
       "             '0.4100_0.4200_0.6600_False': array([1.02612888, 1.        , 1.        , 1.        ]),\n",
       "             '0.4000_0.4200_0.6500_False': array([1.02538222, 1.        , 1.        , 1.        ]),\n",
       "             '0.3900_0.4200_0.6400_False': array([1.02456451, 1.        , 1.        , 1.        ]),\n",
       "             '0.3800_0.4200_0.6300_False': array([1.00046729, 0.98714286, 0.99967857, 1.        ]),\n",
       "             '0.3700_0.4200_0.6200_False': array([1.00107137, 1.        , 1.        , 0.98642857]),\n",
       "             '0.3600_0.4200_0.6100_False': array([1.02239582, 1.        , 1.        , 1.        ]),\n",
       "             '0.3500_0.4200_0.6000_False': array([1.021587, 1.      , 1.      , 1.      ]),\n",
       "             '0.3400_0.4200_0.5900_False': array([1.00042537, 0.99962774, 1.        , 0.98428571]),\n",
       "             '0.3300_0.3300_0.7500_True': array([1.        , 1.01265513, 1.        , 1.        ]),\n",
       "             '0.3200_0.3300_0.7400_False': array([1.00089817, 1.        , 0.98285714, 1.        ]),\n",
       "             '0.3100_0.3300_0.7300_False': array([1.01860948, 1.        , 1.        , 1.        ]),\n",
       "             '0.3000_0.3300_0.7200_False': array([1.00035042, 1.        , 0.99953571, 0.98142857]),\n",
       "             '0.2900_0.3300_0.7100_False': array([1.00074539, 0.98071429, 1.        , 1.        ]),\n",
       "             '0.2800_0.3300_0.7000_False': array([1.        , 0.98      , 0.9995    , 0.99959236]),\n",
       "             '0.2700_0.3300_0.6900_False': array([1.00068058, 0.97928571, 1.        , 1.        ]),\n",
       "             '0.2600_0.3300_0.6800_False': array([1.        , 0.99946429, 0.99956268, 0.97857143]),\n",
       "             '0.2500_0.3300_0.6700_False': array([1.00027697, 1.        , 0.97785714, 0.99944643]),\n",
       "             '0.2400_0.3300_0.6600_False': array([1.0002796 , 1.        , 0.97714286, 0.99944917]),\n",
       "             '0.2300_0.3300_0.6500_False': array([1.01265445, 1.        , 1.        , 1.        ]),\n",
       "             '0.2200_0.3300_0.6400_False': array([1.        , 0.99950437, 0.97571429, 0.99939286]),\n",
       "             '0.2100_0.3300_0.6300_False': array([1.00021866, 0.975     , 0.999375  , 1.        ]),\n",
       "             '0.2000_0.3300_0.6200_False': array([1.        , 0.97428571, 0.99947522, 0.99935714]),\n",
       "             '0.1900_0.3300_0.6100_False': array([1.0001895 , 0.99933929, 1.        , 0.97357143]),\n",
       "             '0.1800_0.3300_0.6000_False': array([1.        , 0.9994572 , 0.97285714, 0.99933476]),\n",
       "             '0.1700_0.2600_0.7600_True': array([1.00818842, 1.        , 1.        , 1.        ]),\n",
       "             '0.1600_0.2600_0.7500_True': array([1.00032408, 1.        , 1.        , 1.        ]),\n",
       "             '0.1500_0.2600_0.7400_False': array([1.00642857, 1.        , 1.        , 1.        ]),\n",
       "             '0.1400_0.2600_0.7300_False': array([1.00585542, 1.        , 1.        , 1.        ]),\n",
       "             '0.1300_0.2600_0.7200_False': array([1.00511607, 1.        , 1.        , 1.        ]),\n",
       "             '0.1200_0.2600_0.7100_False': array([1.        , 0.99991254, 0.96857143, 0.99921429]),\n",
       "             '0.1100_0.2300_0.7600_True': array([1.00357143, 1.        , 1.        , 1.        ]),\n",
       "             '0.1000_0.2300_0.7500_True': array([1.        , 1.        , 1.        , 0.99571429]),\n",
       "             '0.0900_0.2300_0.7400_False': array([1.00214286, 1.        , 1.        , 1.        ]),\n",
       "             '0.0800_0.2300_0.7300_False': array([1.        , 1.        , 1.        , 0.96571429]),\n",
       "             '0.0700_0.2300_0.7200_False': array([1.   , 1.   , 1.   , 0.965]),\n",
       "             '0.0600_0.2300_0.7100_False': array([1., 1., 1., 1.]),\n",
       "             '0.0500_0.2000_0.7600_True': array([1.        , 0.99214286, 1.        , 1.        ]),\n",
       "             '0.0400_0.2000_0.7500_False': array([1.        , 1.        , 0.96285714, 1.        ]),\n",
       "             '0.0300_0.2000_0.7400_False': array([1.        , 1.        , 1.        , 0.96214286]),\n",
       "             '0.0200_0.2000_0.7300_False': array([1.        , 1.        , 1.        , 0.96142857]),\n",
       "             '0.0100_0.2000_0.7200_False': array([1.        , 1.        , 1.        , 0.28214286]),\n",
       "             '0.0000_0.2000_0.7100_False': array([1., 1., 1., 1.]),\n",
       "             '0.9900_0.9300_0.6500_True': array([1.01009759, 1.        , 1.        , 1.        ]),\n",
       "             '0.9800_0.9300_0.6400_True': array([1.00824429, 0.99777778, 0.99563095, 0.99692308]),\n",
       "             '1.0000_1.0000_0.6200_True': array([1., 1., 1., 1.]),\n",
       "             '0.7100_0.3600_0.7300_False': array([1.        , 1.        , 1.        , 1.00556578]),\n",
       "             '0.5600_0.2800_0.7500_True': array([1.  , 1.  , 1.02, 1.  ]),\n",
       "             '0.5500_0.2800_0.7400_False': array([1.021, 1.   , 1.   , 1.   ]),\n",
       "             '1.0000_0.5300_0.7300_True': array([1.   , 1.016, 1.   , 1.   ]),\n",
       "             '0.9900_0.5300_0.7200_False': array([1.   , 1.   , 0.996, 1.   ]),\n",
       "             '0.9800_0.5300_0.7100_False': array([1.   , 1.   , 0.996, 1.   ]),\n",
       "             '0.9700_0.5300_0.7000_False': array([1.021, 1.   , 1.   , 1.   ]),\n",
       "             '0.9600_0.5300_0.6900_False': array([1.   , 1.   , 1.   , 0.996]),\n",
       "             '0.9500_0.5300_0.6800_False': array([1.   , 1.   , 1.   , 0.996]),\n",
       "             '0.9400_0.5300_0.6700_False': array([1.   , 0.996, 1.   , 1.   ]),\n",
       "             '0.9300_0.5300_0.6600_False': array([1.   , 0.996, 1.   , 1.   ]),\n",
       "             '0.9200_0.5300_0.6500_False': array([1.021, 1.   , 1.   , 1.   ]),\n",
       "             '0.9100_0.5300_0.6400_False': array([1.   , 1.   , 1.   , 0.996]),\n",
       "             '0.9000_0.5300_0.6300_False': array([1.   , 1.   , 0.996, 1.   ]),\n",
       "             '0.8900_0.5300_0.6200_False': array([1.021, 1.   , 1.   , 1.   ]),\n",
       "             '0.8800_0.5300_0.6100_False': array([1.   , 0.996, 1.   , 1.   ]),\n",
       "             '0.8700_0.5300_0.6000_False': array([1.021, 1.   , 1.   , 1.   ]),\n",
       "             '0.8600_0.5300_0.5900_False': array([1.   , 0.996, 1.   , 1.   ]),\n",
       "             '0.8500_0.5300_0.5800_False': array([1.0265, 1.    , 1.    , 1.    ]),\n",
       "             '0.8400_0.4200_0.7500_True': array([1.    , 1.    , 1.    , 1.0215]),\n",
       "             '0.8300_0.4200_0.7400_False': array([1.0265, 1.    , 1.    , 1.    ]),\n",
       "             '0.8200_0.4200_0.7300_False': array([1.    , 1.    , 1.    , 1.0015]),\n",
       "             '0.8100_0.4200_0.7200_False': array([1.0265, 1.    , 1.    , 1.    ]),\n",
       "             '0.8000_0.4200_0.7100_False': array([1.029, 1.   , 1.   , 1.   ]),\n",
       "             '0.7900_0.3700_0.7600_True': array([1.   , 1.   , 1.024, 1.   ]),\n",
       "             '0.7800_0.3700_0.7500_False': array([1.0165, 1.    , 1.    , 1.    ]),\n",
       "             '1.0000_0.6200_0.7400_True': array([1.        , 1.        , 1.        , 1.03331946]),\n",
       "             '0.9900_0.6200_0.7300_False': array([1.01660841, 0.99346154, 0.99757143, 0.9915    ]),\n",
       "             '0.9800_0.6200_0.7200_False': array([1.02088621, 0.99346154, 1.        , 0.9915    ]),\n",
       "             '0.9700_0.6200_0.7100_False': array([1.0167648 , 0.99346154, 0.99757143, 0.9915    ]),\n",
       "             '0.9600_0.6200_0.7000_False': array([1.02689661, 0.995     , 0.99670192, 1.        ]),\n",
       "             '0.9500_0.5500_0.7600_True': array([1.        , 1.        , 1.04319229, 1.        ]),\n",
       "             '0.9400_0.5500_0.7500_False': array([1.00816673, 0.9868125 , 0.99517989, 0.9825    ]),\n",
       "             '1.0000_0.8000_0.7400_True': array([1.02336196, 1.        , 1.        , 1.        ]),\n",
       "             '0.9900_0.8000_0.7300_True': array([1.02246982, 1.        , 1.        , 1.        ]),\n",
       "             '0.9800_0.8000_0.7200_True': array([1.        , 1.        , 1.        , 1.00764714]),\n",
       "             '0.9700_0.8000_0.7100_False': array([1.01101103, 0.9868125 , 0.9825    , 1.        ]),\n",
       "             '0.9600_0.8000_0.7000_False': array([1.02335097, 1.        , 1.        , 1.        ]),\n",
       "             '0.9500_0.8000_0.6900_False': array([1.02230625, 1.        , 1.        , 1.        ]),\n",
       "             '0.9400_0.8000_0.6800_False': array([1.01286897, 0.9865    , 0.99629554, 0.98985288]),\n",
       "             '0.9300_0.7200_0.7400_True': array([1.        , 1.02005514, 1.        , 1.        ]),\n",
       "             '0.9200_0.7200_0.7300_False': array([1.02371525, 1.        , 1.        , 0.9865    ]),\n",
       "             '0.9100_0.7200_0.7200_False': array([1.01251587, 0.98961538, 0.99614286, 0.9865    ]),\n",
       "             '0.9000_0.7200_0.7100_False': array([1.0162144 , 0.9865    , 1.        , 0.98961538]),\n",
       "             '0.8900_0.7200_0.7000_False': array([1.02594532, 1.        , 1.        , 0.9865    ]),\n",
       "             '0.8800_0.7200_0.6900_False': array([1.03618948, 1.        , 1.        , 1.        ]),\n",
       "             '0.8700_0.7200_0.6800_False': array([1.03440798, 1.        , 1.        , 1.        ]),\n",
       "             '0.8600_0.7200_0.6700_False': array([1.01334902, 0.98961538, 0.9865    , 0.99626291]),\n",
       "             '0.8500_0.7200_0.6600_False': array([1.02480332, 1.        , 0.9865    , 1.        ]),\n",
       "             '0.8400_0.7200_0.6500_False': array([1.02428828, 1.        , 0.9865    , 1.        ]),\n",
       "             '0.8300_0.7200_0.6400_False': array([1.01723902, 0.9865    , 1.        , 0.99003558]),\n",
       "             '0.8200_0.7200_0.6300_False': array([1.03439757, 1.        , 1.        , 1.        ]),\n",
       "             '0.8100_0.7200_0.6200_False': array([1.01289578, 0.99614286, 0.98961538, 0.9865    ]),\n",
       "             '0.8000_0.7200_0.6100_False': array([1.01600953, 1.        , 0.98961538, 0.9865    ]),\n",
       "             '0.7900_0.7200_0.6000_False': array([1.01634144, 0.9865    , 0.98961538, 1.        ]),\n",
       "             '0.7800_0.7200_0.5900_False': array([1.02742593, 0.994     , 0.99589615, 1.        ]),\n",
       "             '0.7700_0.5700_0.7500_True': array([1.        , 1.        , 1.        , 1.04156242]),\n",
       "             '0.7600_0.5700_0.7400_False': array([1.02065086, 0.99538462, 0.99828571, 0.994     ]),\n",
       "             '0.7500_0.5700_0.7300_False': array([1.02579012, 0.994     , 1.        , 0.99538462]),\n",
       "             '0.7400_0.5700_0.7200_False': array([1.0256307 , 1.        , 0.994     , 0.99538462]),\n",
       "             '0.7300_0.5700_0.7100_False': array([1.02516728, 0.997     , 0.99831346, 0.99954217]),\n",
       "             '0.7200_0.5100_0.7600_True': array([1.        , 1.        , 1.        , 1.05177226]),\n",
       "             '0.7100_0.5100_0.7500_False': array([1.04538816, 0.997     , 1.        , 1.        ]),\n",
       "             '0.7000_0.5100_0.7400_False': array([1.0248464 , 0.997     , 0.99938492, 0.99769231]),\n",
       "             '0.6900_0.5100_0.7300_False': array([1.04937384, 1.        , 0.997     , 1.        ]),\n",
       "             '0.6800_0.5100_0.7200_False': array([1.07694493, 1.        , 1.        , 1.        ]),\n",
       "             '0.6700_0.4500_0.7700_True': array([1.        , 1.05887524, 1.        , 1.        ]),\n",
       "             '0.6600_0.4500_0.7600_False': array([1.       , 1.       , 1.       , 1.0044201]),\n",
       "             '0.6500_0.4500_0.7500_False': array([1.07399856, 1.        , 1.        , 1.        ]),\n",
       "             '0.6400_0.4500_0.7400_False': array([1.0268244, 1.       , 1.       , 1.       ]),\n",
       "             '0.6300_0.4500_0.7300_False': array([1.02715689, 1.        , 1.        , 1.        ]),\n",
       "             '0.6200_0.4500_0.7200_False': array([1.03299828, 1.        , 1.        , 1.        ]),\n",
       "             '0.6100_0.4500_0.7100_False': array([1.        , 1.00000017, 1.        , 1.        ]),\n",
       "             '0.6000_0.4500_0.7000_False': array([1.        , 1.        , 1.        , 1.00001593]),\n",
       "             '0.5900_0.4500_0.6900_False': array([1.        , 1.        , 1.        , 1.00097524]),\n",
       "             '0.5800_0.4500_0.6800_False': array([1.03509526, 1.        , 1.        , 1.        ]),\n",
       "             '0.5700_0.4500_0.6700_False': array([1.05097552, 1.        , 1.        , 1.        ]),\n",
       "             '0.5600_0.4500_0.6600_False': array([1.        , 1.00095757, 1.        , 1.        ]),\n",
       "             '0.5500_0.4500_0.6500_False': array([1.03448834, 0.99961538, 0.9995    , 1.        ]),\n",
       "             '0.5400_0.4500_0.6400_False': array([1.05308429, 0.999     , 1.        , 1.        ]),\n",
       "             '0.5300_0.4500_0.6300_False': array([1.06992335, 1.        , 1.        , 1.        ]),\n",
       "             '0.5200_0.4500_0.6200_False': array([1.0328844 , 0.99910096, 0.998     , 1.        ]),\n",
       "             '0.5100_0.3600_0.7700_True': array([1.        , 1.        , 1.05288409, 1.        ]),\n",
       "             '0.5000_0.3600_0.7600_False': array([1.03677213, 1.        , 0.992     , 1.        ]),\n",
       "             '1.0000_0.6100_0.7500_True': array([1.        , 1.        , 1.03534519, 1.        ]),\n",
       "             '0.9900_0.6100_0.7400_False': array([1.00493095, 0.9795    , 0.98423077, 0.99414286]),\n",
       "             '1.0000_0.8600_0.7300_True': array([1.00776064, 0.99974186, 0.9995    , 0.99961538]),\n",
       "             '0.9900_0.8600_0.7200_False': array([1.00678994, 1.        , 1.        , 0.4975    ]),\n",
       "             '1.0000_1.0000_0.7100_True': array([1., 1., 1., 1.]),\n",
       "             '0.3400_0.0000_0.6100_True': array([1.      , 1.      , 1.103307, 1.      ]),\n",
       "             '0.3300_0.0000_0.6000_False': array([1.        , 1.        , 1.        , 1.07727138]),\n",
       "             '0.9200_0.2500_0.5900_True': array([1.        , 1.21213752, 1.        , 1.        ]),\n",
       "             '0.9100_0.2500_0.5800_False': array([1.0007586 , 1.        , 1.        , 1.02322571]),\n",
       "             '0.9000_0.2500_0.5700_False': array([1.        , 1.07665121, 1.        , 1.        ]),\n",
       "             '0.8900_0.2500_0.5600_False': array([1.3023524 , 1.        , 1.00101501, 1.        ]),\n",
       "             '0.8800_0.2500_0.5500_False': array([1.29974497, 1.        , 1.        , 1.        ]),\n",
       "             '0.8700_0.2500_0.5400_False': array([1.27888819, 0.99916667, 0.999375  , 1.00063827]),\n",
       "             '0.8600_0.2500_0.5300_False': array([1.28849323, 1.        , 1.        , 0.99875   ]),\n",
       "             '0.8500_0.2500_0.5200_False': array([1.28514611, 1.        , 1.        , 1.        ]),\n",
       "             '0.8400_0.2500_0.5100_False': array([1.26433661, 0.99791667, 1.        , 1.00011392]),\n",
       "             '0.8300_0.2500_0.5000_False': array([1.25484163, 0.9986569 , 0.9975    , 0.99938509]),\n",
       "             '0.8200_0.2500_0.4900_False': array([1.25975386, 1.        , 1.        , 1.        ]),\n",
       "             '0.8100_0.2500_0.4800_False': array([1.23376015, 0.9975    , 0.9984    , 0.99666667]),\n",
       "             '0.8000_0.2500_0.4700_False': array([1.23390746, 0.9984375 , 0.9971875 , 0.99625   ]),\n",
       "             '0.7900_0.2500_0.4600_False': array([1.23613834, 1.        , 1.        , 0.99583333]),\n",
       "             '0.7800_0.2500_0.4500_False': array([1.21133077, 0.99541667, 1.        , 1.        ]),\n",
       "             '0.7700_0.2500_0.4400_False': array([1.        , 1.        , 1.        , 1.14567733]),\n",
       "             '0.7600_0.2000_0.6600_True': array([1.35656845, 1.        , 1.        , 1.        ]),\n",
       "             '0.7500_0.2000_0.6500_True': array([1.        , 1.        , 1.24828599, 1.        ]),\n",
       "             '0.7400_0.2000_0.6400_False': array([1.       , 1.0640931, 1.       , 1.       ]),\n",
       "             '1.0000_0.4500_0.6300_True': array([1.        , 1.25309644, 1.        , 1.        ]),\n",
       "             '0.9900_0.4500_0.6200_False': array([1.23040259, 1.        , 1.        , 1.        ]),\n",
       "             '0.9800_0.4500_0.6100_False': array([1.        , 1.        , 1.        , 1.00203825]),\n",
       "             '0.9700_0.4500_0.6000_False': array([1.        , 1.01447834, 1.        , 1.        ]),\n",
       "             '0.9600_0.4500_0.5900_False': array([1.       , 1.       , 1.0793759, 1.       ]),\n",
       "             '0.9500_0.4500_0.5800_False': array([1.3153234, 1.       , 1.       , 1.       ]),\n",
       "             '0.9400_0.4500_0.5700_False': array([1.30646305, 1.        , 1.        , 1.        ]),\n",
       "             '0.9300_0.4500_0.5600_False': array([1.30225191, 1.        , 1.        , 1.        ]),\n",
       "             '0.9200_0.4500_0.5500_False': array([1.27275833, 0.9998    , 0.99958333, 0.9996875 ]),\n",
       "             '0.9100_0.4500_0.5400_False': array([1.27298257, 0.99916667, 0.99987906, 0.999375  ]),\n",
       "             '0.9000_0.4500_0.5300_False': array([1.27603841, 1.        , 0.99875   , 1.00019757]),\n",
       "             '0.8900_0.4500_0.5200_False': array([1.26246347, 0.99875   , 1.        , 0.99833333]),\n",
       "             '0.8800_0.4500_0.5100_False': array([1.260157  , 0.9995987 , 0.99898177, 0.99791667]),\n",
       "             '0.8700_0.4500_0.5000_False': array([1.2615104, 1.       , 1.       , 1.       ]),\n",
       "             '0.8600_0.4500_0.4900_False': array([1.21239461, 0.99708333, 0.99873398, 0.99792383]),\n",
       "             '0.8500_0.4500_0.4800_False': array([1.        , 1.12621456, 1.        , 1.        ]),\n",
       "             '0.8400_0.3600_0.6900_True': array([1.        , 1.        , 1.        , 1.33267386]),\n",
       "             '0.8300_0.3600_0.6800_False': array([1.38109959, 1.        , 1.        , 1.        ]),\n",
       "             '0.8200_0.3600_0.6700_False': array([1.38206327, 1.        , 1.        , 1.        ]),\n",
       "             '0.8100_0.3600_0.6600_False': array([1.38687424, 1.        , 1.        , 1.        ]),\n",
       "             '0.8000_0.3600_0.6500_False': array([1.40250461, 1.        , 1.        , 1.        ]),\n",
       "             '0.7900_0.3200_0.7200_True': array([1.38221285, 1.        , 1.        , 1.        ]),\n",
       "             '0.7800_0.3200_0.7100_True': array([1.        , 1.        , 1.30211087, 1.        ]),\n",
       "             '0.7700_0.3200_0.7000_False': array([1.20334173, 0.99627148, 0.99776738, 0.99458333]),\n",
       "             '1.0000_0.5800_0.6900_True': array([1.       , 1.1796072, 1.       , 1.       ]),\n",
       "             '0.9900_0.5800_0.6800_False': array([1.21501465, 0.9959375 , 0.99458333, 1.        ]),\n",
       "             '0.9800_0.5800_0.6700_False': array([1.22119328, 0.99639518, 1.        , 0.99458333]),\n",
       "             '0.9700_0.5800_0.6600_False': array([1.22897903, 1.        , 1.        , 1.        ]),\n",
       "             '0.9600_0.5800_0.6500_False': array([1.21916693, 0.99458333, 0.9959375 , 1.        ]),\n",
       "             '0.9500_0.5800_0.6400_False': array([1.23003768, 1.        , 0.99458333, 1.        ]),\n",
       "             '0.9400_0.5800_0.6300_False': array([1.23585572, 1.        , 1.        , 1.        ]),\n",
       "             '0.9300_0.5800_0.6200_False': array([1.22689392, 1.        , 1.        , 1.        ]),\n",
       "             '0.9200_0.5800_0.6100_False': array([1.21061552, 1.        , 0.9959375 , 0.99458333]),\n",
       "             '0.9100_0.5800_0.6000_False': array([1.20939026, 0.99458333, 0.9959375 , 0.9974    ]),\n",
       "             '0.9000_0.5800_0.5900_False': array([1.21569408, 1.        , 0.9959375 , 0.99458333]),\n",
       "             '0.8900_0.5800_0.5800_False': array([1.21685098, 1.        , 0.99458333, 1.        ]),\n",
       "             '0.8800_0.5800_0.5700_False': array([1.20848392, 0.99458333, 0.9974    , 0.9959375 ]),\n",
       "             '0.8700_0.5800_0.5600_False': array([1.21443442, 0.99458333, 1.        , 0.9959375 ]),\n",
       "             '0.8600_0.5800_0.5500_False': array([1.22883882, 0.9959375 , 0.9977001 , 0.99458333]),\n",
       "             '0.8500_0.5800_0.5400_False': array([1.28255211, 0.99958333, 1.        , 1.        ]),\n",
       "             '0.8400_0.4600_0.7200_True': array([1.        , 1.        , 1.21972934, 1.        ]),\n",
       "             '0.8300_0.4600_0.7100_False': array([1.13871981, 0.99217188, 0.98916667, 0.99512985]),\n",
       "             '1.0000_0.7100_0.7000_True': array([1.13431422, 1.        , 1.        , 1.        ]),\n",
       "             '0.9900_0.7100_0.6900_True': array([1.        , 1.        , 1.06635634, 1.        ]),\n",
       "             '0.9800_0.7100_0.6800_False': array([0.99451842, 0.9840625 , 0.99177419, 0.97875   ]),\n",
       "             '1.0000_0.9600_0.6700_True': array([0.99504542, 0.99498097, 0.9950033 , 0.99497347]),\n",
       "             '0.9900_0.9600_0.6600_False': array([0.91311373, 0.90951367, 0.91295592, 0.83790323]),\n",
       "             '0.9800_0.9600_0.6500_False': array([0.86735197, 0.91460097, 0.91547797, 0.9192043 ]),\n",
       "             '0.9700_0.9600_0.6400_False': array([0.86026726, 0.92748663, 0.92466971, 0.92344153]),\n",
       "             '0.9600_0.9600_0.6300_False': array([0.89463508, 0.93265164, 0.93085101, 0.93254162]),\n",
       "             '0.9500_0.9600_0.6200_False': array([0.89658663, 0.94842375, 0.94847774, 0.94461738]),\n",
       "             '0.9400_0.9600_0.6100_False': array([0.91263351, 0.94992858, 0.95162662, 0.95157958]),\n",
       "             '0.9300_0.9600_0.6000_False': array([0.92839612, 0.95767634, 0.95827225, 0.95590995]),\n",
       "             '0.9200_0.9600_0.5900_False': array([0.93015156, 0.96739771, 0.96410602, 0.96714474]),\n",
       "             '0.9100_0.9600_0.5800_False': array([0.94875211, 0.96453203, 0.96460638, 0.96246537]),\n",
       "             '0.9000_0.9600_0.5700_False': array([0.95001907, 0.97295342, 0.97250505, 0.97281552]),\n",
       "             '0.8900_0.9600_0.5600_False': array([0.96608991, 0.96889107, 0.97110394, 0.97123535]),\n",
       "             '0.8800_0.9600_0.5500_False': array([0.96993758, 0.97406326, 0.97744436, 0.97767609]),\n",
       "             '0.8700_0.9600_0.5400_False': array([0.97403195, 0.97407569, 0.9752312 , 0.97538408]),\n",
       "             '0.8600_0.9600_0.5300_False': array([0.98174107, 0.97686821, 0.97875   , 0.98162354]),\n",
       "             '0.8500_0.9600_0.5200_False': array([0.98874184, 0.99032993, 0.9902157 , 0.9870901 ]),\n",
       "             '0.8400_0.7600_0.7100_True': array([1.        , 1.        , 1.00395133, 1.        ]),\n",
       "             '0.8300_0.7600_0.7000_False': array([0.99393116, 0.99304017, 0.58125   , 0.98923219]),\n",
       "             '0.9300_0.8300_0.6800_True': array([1.        , 1.00076923, 1.        , 1.        ]),\n",
       "             '0.9200_0.8300_0.6700_False': array([1.        , 1.        , 1.        , 0.98538462]),\n",
       "             '0.9100_0.8300_0.6600_False': array([1.        , 0.98538462, 0.99183445, 1.        ]),\n",
       "             '0.9000_0.8300_0.6500_False': array([1.00712375, 1.        , 1.        , 1.        ]),\n",
       "             '0.8900_0.8300_0.6400_False': array([0.90518868, 0.99173913, 1.        , 0.98538462]),\n",
       "             '0.8800_0.8300_0.6300_False': array([1.00111058, 1.        , 0.99369565, 0.98538462]),\n",
       "             '0.8700_0.8300_0.6200_False': array([1.0056456, 1.       , 1.       , 1.       ]),\n",
       "             '0.8600_0.8300_0.6100_False': array([1.        , 1.        , 0.99660714, 0.98538462]),\n",
       "             '0.8500_0.8300_0.6000_False': array([1.        , 1.        , 0.99741071, 0.98538462]),\n",
       "             '0.8400_0.8300_0.5900_False': array([1.        , 0.98538462, 1.        , 1.        ]),\n",
       "             '0.8300_0.8300_0.5800_False': array([1.        , 0.98538462, 1.        , 1.        ]),\n",
       "             '0.8200_0.8300_0.5700_False': array([1.        , 1.        , 1.        , 0.98538462]),\n",
       "             '0.8100_0.8300_0.5600_False': array([1.        , 1.        , 1.        , 0.98538462]),\n",
       "             '0.8000_0.8300_0.5500_False': array([1.00461538, 1.        , 1.        , 1.        ]),\n",
       "             '0.7900_0.8300_0.5400_False': array([1.        , 1.        , 1.        , 0.98538462]),\n",
       "             '0.7800_0.8300_0.5300_False': array([1.        , 0.99192308, 1.        , 1.        ]),\n",
       "             '0.7700_0.6600_0.7200_True': array([1.        , 1.        , 1.00730769, 1.        ]),\n",
       "             '0.7600_0.6600_0.7100_False': array([1.        , 1.        , 1.        , 0.98230769]),\n",
       "             '1.0000_0.9100_0.7000_True': array([1.00243041, 1.        , 1.        , 1.        ]),\n",
       "             '0.9900_0.9100_0.6900_True': array([1.00005935, 0.99869565, 1.        , 0.99769231]),\n",
       "             '0.9800_0.9100_0.6800_False': array([1.        , 0.98230769, 0.99      , 1.        ]),\n",
       "             '0.9700_0.9100_0.6700_False': array([1.        , 0.99      , 0.98230769, 0.99931889]),\n",
       "             '0.9600_0.9100_0.6600_False': array([1.00104731, 0.98230769, 1.        , 1.        ]),\n",
       "             '0.9500_0.9100_0.6500_False': array([1.00618737, 1.        , 1.        , 1.        ]),\n",
       "             '0.9400_0.8100_0.7200_True': array([1.00547647, 1.        , 1.        , 1.        ]),\n",
       "             '0.9300_0.8100_0.7100_True': array([1.        , 1.        , 1.        , 1.00162157]),\n",
       "             '0.9200_0.8100_0.7000_False': array([1.00030204, 1.        , 1.        , 0.98615385]),\n",
       "             '0.9100_0.8100_0.6900_False': array([1.        , 0.99975709, 0.98615385, 0.99946588]),\n",
       "             '0.9000_0.8100_0.6800_False': array([1.        , 0.98615385, 0.99975731, 0.99946588]),\n",
       "             '0.8900_0.8100_0.6700_False': array([1.00050658, 1.        , 1.        , 0.98961538]),\n",
       "             '0.8800_0.7200_0.7300_True': array([1.        , 1.        , 1.00526968, 1.        ]),\n",
       "             '0.8700_0.7200_0.7200_False': array([0.99997033, 0.99964909, 1.        , 0.98      ]),\n",
       "             '1.0000_0.9700_0.7100_True': array([0.9999354 , 0.99538462, 0.99982196, 0.9999018 ]),\n",
       "             '0.9900_0.9700_0.7000_False': array([0.98508902, 0.99957447, 0.98      , 1.        ]),\n",
       "             '0.9800_0.9700_0.6900_False': array([0.99923077, 0.99904059, 0.99321862, 0.99957447]),\n",
       "             '0.9700_0.9700_0.6800_False': array([0.9999631 , 0.98      , 0.9996291 , 0.99957447]),\n",
       "             '0.9600_0.9700_0.6700_False': array([0.99998573, 0.99904059, 0.9996563 , 0.98      ]),\n",
       "             '0.9500_0.9700_0.6600_False': array([0.99998573, 1.        , 0.98      , 0.99904059]),\n",
       "             '0.9400_0.9700_0.6500_False': array([0.99923077, 0.99904059, 0.99970043, 1.        ]),\n",
       "             '0.9300_0.9700_0.6400_False': array([1.        , 0.98      , 1.        , 0.99904059]),\n",
       "             '0.9200_0.9700_0.6300_False': array([1.        , 1.        , 0.99904059, 0.98      ]),\n",
       "             '0.9100_0.9700_0.6200_False': array([1.        , 0.99904059, 1.        , 0.98      ]),\n",
       "             '0.9000_0.9700_0.6100_False': array([1.        , 1.        , 0.99904059, 0.98      ]),\n",
       "             '0.8900_0.9700_0.6000_False': array([0.99923077, 1.        , 0.99904059, 1.        ]),\n",
       "             '0.8800_0.9700_0.5900_False': array([0.99923077, 1.        , 0.99904059, 1.        ]),\n",
       "             '0.8700_0.9700_0.5800_False': array([0.99923077, 1.        , 0.99904059, 1.        ]),\n",
       "             '0.8600_0.9700_0.5700_False': array([1.        , 0.99904059, 0.98      , 1.        ]),\n",
       "             '0.8500_0.9700_0.5600_False': array([1.        , 0.99904059, 1.        , 0.98769231]),\n",
       "             '0.8400_0.7700_0.7300_True': array([1.        , 1.00307692, 1.        , 1.        ]),\n",
       "             '0.8300_0.7700_0.7200_False': array([1.        , 0.98769231, 1.        , 1.        ]),\n",
       "             '0.8200_0.7700_0.7100_False': array([1.        , 1.        , 1.        , 0.98769231]),\n",
       "             '0.8100_0.7700_0.7000_False': array([1.        , 1.        , 1.        , 0.98769231]),\n",
       "             '0.8000_0.7700_0.6900_False': array([1.00692308, 1.        , 1.        , 1.        ]),\n",
       "             '0.7900_0.7700_0.6800_False': array([1.        , 1.        , 1.        , 0.98769231]),\n",
       "             '0.7800_0.7700_0.6700_False': array([1.        , 0.98769231, 1.        , 1.        ]),\n",
       "             '0.7700_0.7700_0.6600_False': array([1.        , 0.98769231, 1.        , 1.        ]),\n",
       "             '0.7600_0.7700_0.6500_False': array([1.        , 1.        , 1.        , 0.98769231]),\n",
       "             '0.7500_0.7700_0.6400_False': array([1.        , 0.98769231, 1.        , 1.        ]),\n",
       "             '0.7400_0.7700_0.6300_False': array([1.        , 1.        , 0.98769231, 1.        ]),\n",
       "             '0.7300_0.7700_0.6200_False': array([1.        , 1.        , 1.        , 0.98769231]),\n",
       "             '0.7200_0.7700_0.6100_False': array([0.98968172, 0.98769231, 1.        , 1.        ]),\n",
       "             '0.7100_0.7700_0.6000_False': array([1.        , 1.        , 1.        , 0.98769231]),\n",
       "             '0.7000_0.7700_0.5900_False': array([1.00692308, 1.        , 1.        , 1.        ]),\n",
       "             '0.6900_0.7700_0.5800_False': array([1.        , 0.99384615, 1.        , 1.        ]),\n",
       "             '0.6800_0.6100_0.7500_True': array([1.        , 1.        , 1.00923077, 1.        ]),\n",
       "             '0.6700_0.6100_0.7400_False': array([1.        , 0.98423077, 1.        , 1.        ]),\n",
       "             '0.9800_0.8600_0.7100_False': array([0.86105926, 1.        , 1.        , 0.98423077]),\n",
       "             '0.9700_0.8600_0.7000_False': array([1.0016284 , 0.98423077, 0.98423077, 0.99414286]),\n",
       "             '0.9600_0.8600_0.6900_False': array([1.00286283, 0.98423077, 1.        , 0.98769231]),\n",
       "             '0.9500_0.7700_0.7500_True': array([1.00692308, 1.        , 1.        , 1.        ]),\n",
       "             '0.9400_0.7700_0.7400_True': array([1.        , 1.00417582, 1.        , 1.        ]),\n",
       "             '0.9300_0.7700_0.7300_False': array([1.        , 1.        , 0.98769231, 0.99552253]),\n",
       "             '0.9200_0.7700_0.7200_False': array([1.01109247, 1.        , 1.        , 1.        ]),\n",
       "             '0.9100_0.7700_0.7100_False': array([1.01109167, 1.        , 1.        , 1.        ]),\n",
       "             '0.9000_0.7700_0.7000_False': array([1.01091886, 1.        , 1.        , 1.        ]),\n",
       "             '0.8900_0.7700_0.6900_False': array([1.        , 0.99716547, 0.99542857, 0.98769231]),\n",
       "             '0.8800_0.7700_0.6800_False': array([1.00432842, 1.        , 0.98769231, 1.        ]),\n",
       "             '0.8700_0.7700_0.6700_False': array([1.01091886, 1.        , 1.        , 1.        ]),\n",
       "             '0.8600_0.7700_0.6600_False': array([1.00168684, 1.        , 0.98769231, 0.99552253]),\n",
       "             '0.8500_0.7700_0.6500_False': array([1.01091886, 1.        , 1.        , 1.        ]),\n",
       "             '0.8400_0.7700_0.6400_False': array([1.        , 0.99714286, 0.98769231, 0.99542857]),\n",
       "             '0.8300_0.7700_0.6300_False': array([1.00160714, 0.99542857, 0.98769231, 1.        ]),\n",
       "             '0.8200_0.7700_0.6200_False': array([1.        , 0.99552253, 0.98769231, 0.99722335]),\n",
       "             '0.8100_0.7700_0.6100_False': array([1.01109167, 1.        , 1.        , 1.        ]),\n",
       "             '0.8000_0.7700_0.6000_False': array([1.01096112, 1.        , 1.        , 1.        ]),\n",
       "             '0.7900_0.7700_0.5900_False': array([1.00654507, 1.        , 0.99384615, 1.        ]),\n",
       "             '0.7800_0.6100_0.7500_True': array([1.        , 1.01252747, 1.        , 1.        ]),\n",
       "             '0.7700_0.6100_0.7400_False': array([1.00503462, 1.        , 0.99384615, 1.        ]),\n",
       "             '0.7600_0.6100_0.7300_False': array([1.01792473, 1.        , 1.        , 1.        ]),\n",
       "             '0.7500_0.6100_0.7200_False': array([1.01774725, 1.        , 1.        , 1.        ]),\n",
       "             '0.7400_0.6100_0.7100_False': array([1.        , 1.        , 0.99771429, 0.99384615]),\n",
       "             '0.7300_0.6100_0.7000_False': array([1.        , 0.99771429, 0.99384615, 1.        ]),\n",
       "             '0.7200_0.6100_0.6900_False': array([1.        , 1.        , 0.99384615, 0.99789176]),\n",
       "             '0.7100_0.6100_0.6800_False': array([1.01774725, 1.        , 1.        , 1.        ]),\n",
       "             '0.7000_0.6100_0.6700_False': array([1.00485714, 0.99384615, 1.        , 1.        ]),\n",
       "             '0.6900_0.6100_0.6600_False': array([1.00503462, 1.        , 0.99384615, 1.        ]),\n",
       "             '0.6800_0.6100_0.6500_False': array([1.01774725, 1.        , 1.        , 1.        ]),\n",
       "             '0.6700_0.6100_0.6400_False': array([1.        , 0.99789176, 0.99384615, 1.        ]),\n",
       "             '0.6600_0.6100_0.6300_False': array([1.01792473, 1.        , 1.        , 1.        ]),\n",
       "             '0.6500_0.6100_0.6200_False': array([1.01774725, 1.        , 1.        , 1.        ]),\n",
       "             '0.6400_0.6100_0.6100_False': array([1.        , 1.        , 0.99771429, 0.99384615]),\n",
       "             '0.6300_0.6100_0.6000_False': array([1.        , 1.        , 0.99976456, 0.99884615]),\n",
       "             '0.6200_0.4800_0.7600_True': array([1.        , 1.        , 1.        , 1.01955852]),\n",
       "             '0.6100_0.4800_0.7500_False': array([1.02453297, 1.        , 1.        , 1.        ]),\n",
       "             '0.6000_0.4800_0.7400_False': array([1.        , 0.99957143, 1.        , 0.99884615]),\n",
       "             '0.5900_0.4800_0.7300_False': array([1.        , 1.        , 0.99884615, 0.99958187]),\n",
       "             '0.5800_0.4800_0.7200_False': array([1.        , 1.        , 1.00125797, 1.        ]),\n",
       "             '0.5700_0.4300_0.7700_True': array([1.       , 1.       , 1.0214011, 1.       ]),\n",
       "             '0.5600_0.4300_0.7600_False': array([1.        , 1.        , 0.99680302, 0.99115385]),\n",
       "             '1.0000_0.6800_0.7500_True': array([1.        , 1.        , 1.        , 1.00949783]),\n",
       "             '0.9900_0.6800_0.7400_False': array([1.00486526, 1.        , 0.99115385, 1.        ]),\n",
       "             '0.9800_0.6800_0.7300_False': array([1.00103725, 1.        , 0.99115385, 0.99671429]),\n",
       "             '0.9700_0.6800_0.7200_False': array([1.00510637, 1.        , 0.99115385, 1.        ]),\n",
       "             '0.9600_0.6800_0.7100_False': array([1.01914161, 1.        , 1.        , 1.        ]),\n",
       "             '0.9500_0.6100_0.7600_True': array([1.        , 1.        , 1.        , 1.01444804]),\n",
       "             '0.9400_0.6100_0.7500_False': array([1.00131191, 0.99927469, 0.99384615, 0.99771429]),\n",
       "             '0.9300_0.6100_0.7400_False': array([1.00801052, 1.        , 0.99384615, 1.        ]),\n",
       "             '0.9200_0.6100_0.7300_False': array([1.0204753, 1.       , 1.       , 1.       ]),\n",
       "             '0.9100_0.6100_0.7200_False': array([1.00364191, 0.9989283 , 0.99653846, 1.        ]),\n",
       "             '0.9000_0.5400_0.7700_True': array([1.02507402, 1.        , 1.        , 1.        ]),\n",
       "             '0.8900_0.5400_0.7600_True': array([1.0249793, 1.       , 1.       , 1.       ]),\n",
       "             '0.8800_0.5400_0.7500_True': array([1.        , 1.01905245, 1.        , 1.        ]),\n",
       "             '0.8700_0.5400_0.7400_False': array([1.02468207, 1.        , 1.        , 1.        ]),\n",
       "             '0.8600_0.5400_0.7300_False': array([1.0015809 , 0.99960544, 0.99653846, 0.99871429]),\n",
       "             '0.8500_0.5400_0.7200_False': array([1.00927634, 1.        , 0.99653846, 1.        ]),\n",
       "             '0.8400_0.5400_0.7100_False': array([1.00351749, 0.99871429, 0.99653846, 1.        ]),\n",
       "             '0.8300_0.5400_0.7000_False': array([1.00965975, 1.        , 0.99653846, 1.        ]),\n",
       "             '0.8200_0.5400_0.6900_False': array([1.02468906, 1.        , 1.        , 1.        ]),\n",
       "             '0.8100_0.5400_0.6800_False': array([1.00351544, 0.99871429, 1.        , 0.99653846]),\n",
       "             '0.8000_0.5400_0.6700_False': array([1.00927625, 1.        , 1.        , 0.99653846]),\n",
       "             '0.7900_0.5400_0.6600_False': array([1.00346856, 0.99653846, 1.        , 0.99871429]),\n",
       "             '0.7800_0.5400_0.6500_False': array([1.00346166, 1.        , 0.99653846, 0.99871429]),\n",
       "             '0.7700_0.5400_0.6400_False': array([1.00163658, 0.99967444, 0.99653846, 0.9989283 ]),\n",
       "             '0.7600_0.5400_0.6300_False': array([1.02468896, 1.        , 1.        , 1.        ]),\n",
       "             '0.7500_0.5400_0.6200_False': array([1.00346858, 1.        , 0.99871429, 0.99653846]),\n",
       "             '0.7400_0.5400_0.6100_False': array([1.00347246, 0.99872473, 1.        , 0.99653846]),\n",
       "             '0.7300_0.5400_0.6000_False': array([1.        , 1.00160402, 1.        , 1.        ]),\n",
       "             '0.7200_0.4300_0.7600_True': array([1.        , 1.02530572, 1.        , 1.        ]),\n",
       "             '0.7100_0.4300_0.7500_False': array([1.        , 1.00169924, 1.        , 1.        ]),\n",
       "             '0.7000_0.4300_0.7400_False': array([1.03132574, 1.        , 1.        , 1.        ]),\n",
       "             '0.6900_0.4300_0.7300_False': array([1.        , 1.        , 1.00170174, 1.        ]),\n",
       "             '0.6800_0.4300_0.7200_False': array([1.03179932, 1.        , 1.        , 1.        ]),\n",
       "             '0.6700_0.4300_0.7100_False': array([1.03132323, 1.        , 1.        , 1.        ]),\n",
       "             '0.6600_0.4300_0.7000_False': array([1.        , 1.        , 1.00122315, 1.        ]),\n",
       "             '0.6500_0.4300_0.6900_False': array([1.        , 1.        , 1.00122315, 1.        ]),\n",
       "             '0.6400_0.4300_0.6800_False': array([1.        , 1.00122315, 1.        , 1.        ]),\n",
       "             '0.6300_0.4300_0.6700_False': array([1.        , 1.        , 1.        , 1.00122315]),\n",
       "             '0.6200_0.4300_0.6600_False': array([1.        , 1.00122565, 1.        , 1.        ]),\n",
       "             '0.6100_0.4300_0.6500_False': array([1.        , 1.        , 1.00169924, 1.        ]),\n",
       "             '0.6000_0.4300_0.6400_False': array([1.03132323, 1.        , 1.        , 1.        ]),\n",
       "             '0.5900_0.4300_0.6300_False': array([1.       , 1.       , 1.       , 1.0012231]),\n",
       "             '0.5800_0.4300_0.6200_False': array([1.        , 1.00121553, 1.        , 1.        ]),\n",
       "             '0.5700_0.4300_0.6100_False': array([1.        , 1.00098463, 1.        , 1.        ]),\n",
       "             '0.5600_0.3400_0.7600_True': array([1.        , 1.        , 1.02441507, 1.        ]),\n",
       "             '0.5500_0.3400_0.7500_False': array([1.02141039, 1.        , 1.        , 1.        ]),\n",
       "             '1.0000_0.6000_0.7400_True': array([1.        , 1.        , 1.        , 1.02515937]),\n",
       "             '0.9900_0.6000_0.7300_False': array([1.02214523, 1.        , 0.99423077, 1.        ]),\n",
       "             '0.9800_0.6000_0.7200_False': array([1.01740903, 0.99423077, 1.        , 0.99785714]),\n",
       "             '0.9700_0.6000_0.7100_False': array([1.01843782, 0.99807115, 0.99423077, 1.        ]),\n",
       "             '0.9600_0.6000_0.7000_False': array([1.04151762, 1.        , 1.        , 1.        ]),\n",
       "             '0.9500_0.5400_0.7600_True': array([1.       , 1.       , 1.       , 1.0308986]),\n",
       "             '0.9400_0.5400_0.7500_False': array([1.02063994, 1.        , 0.99653846, 0.99871429]),\n",
       "             '0.9300_0.5400_0.7400_False': array([1.02620405, 1.        , 0.99653846, 1.        ]),\n",
       "             '0.9200_0.5400_0.7300_False': array([1.02578916, 1.        , 1.        , 0.99653846]),\n",
       "             '0.9100_0.5400_0.7200_False': array([1.0173913 , 0.99983354, 0.99884615, 0.99976456]),\n",
       "             '0.9000_0.4800_0.7700_True': array([1.        , 1.        , 1.        , 1.03663423]),\n",
       "             '0.8900_0.4800_0.7600_False': array([1.01687646, 0.99884615, 0.99957143, 0.99957143]),\n",
       "             '0.8800_0.4800_0.7500_False': array([1.02365115, 1.        , 0.99957143, 0.99884615]),\n",
       "             '0.8700_0.4800_0.7400_False': array([1.02938555, 1.        , 0.99884615, 1.        ]),\n",
       "             '0.8600_0.4800_0.7300_False': array([1.        , 1.00357946, 1.        , 1.        ]),\n",
       "             '0.8500_0.4300_0.7800_True': array([1.        , 1.04138597, 1.        , 1.        ]),\n",
       "             '0.8400_0.4300_0.7700_False': array([1.        , 1.        , 1.        , 1.00204596]),\n",
       "             '0.8300_0.4300_0.7600_False': array([1.        , 1.        , 1.00208666, 1.        ]),\n",
       "             '0.8200_0.4300_0.7500_False': array([1.        , 1.        , 1.        , 1.00396297]),\n",
       "             '0.8100_0.4300_0.7400_False': array([1.05122111, 1.        , 1.        , 1.        ]),\n",
       "             '0.8000_0.4300_0.7300_False': array([1.       , 1.0020454, 1.       , 1.       ]),\n",
       "             '0.7900_0.4300_0.7200_False': array([1.        , 1.        , 1.00204541, 1.        ]),\n",
       "             '0.7800_0.4300_0.7100_False': array([1.        , 1.        , 1.00204596, 1.        ]),\n",
       "             '0.7700_0.4300_0.7000_False': array([1.        , 1.        , 1.00208721, 1.        ]),\n",
       "             '0.7600_0.4300_0.6900_False': array([1.        , 1.        , 1.        , 1.00400422]),\n",
       "             '0.7500_0.4300_0.6800_False': array([1.05313868, 1.        , 1.        , 1.        ]),\n",
       "             '0.7400_0.4300_0.6700_False': array([1.05122111, 1.        , 1.        , 1.        ]),\n",
       "             '0.7300_0.4300_0.6600_False': array([1.        , 1.        , 1.        , 1.00204551]),\n",
       "             '0.7200_0.4300_0.6500_False': array([1.        , 1.        , 1.00205349, 1.        ]),\n",
       "             '0.7100_0.4300_0.6400_False': array([1.        , 1.00243979, 1.        , 1.        ]),\n",
       "             '0.7000_0.4300_0.6300_False': array([1.        , 1.        , 1.01320029, 1.        ]),\n",
       "             '0.6900_0.3400_0.7800_True': array([1.06195947, 1.        , 1.        , 1.        ]),\n",
       "             '0.6800_0.3400_0.7700_True': array([1.        , 1.        , 1.        , 1.05058944]),\n",
       "             '0.6700_0.3400_0.7600_False': array([1.        , 1.        , 1.        , 1.01120969]),\n",
       "             '0.6600_0.3400_0.7500_False': array([1.        , 1.        , 1.01018742, 1.        ]),\n",
       "             '0.6500_0.3400_0.7400_False': array([1.        , 1.00919728, 1.        , 1.        ]),\n",
       "             '0.6400_0.3400_0.7300_False': array([1.        , 1.        , 1.00967564, 1.        ]),\n",
       "             '0.6300_0.3000_0.7800_True': array([1.     , 1.     , 1.     , 1.04646]),\n",
       "             '0.6200_0.3000_0.7700_False': array([1.        , 1.        , 1.00613743, 1.        ]),\n",
       "             '0.6100_0.3000_0.7600_False': array([1.        , 1.        , 1.        , 1.00699148]),\n",
       "             '0.6000_0.3000_0.7500_False': array([1.05325951, 1.        , 1.        , 1.        ]),\n",
       "             '0.5900_0.3000_0.7400_False': array([1.        , 1.        , 1.00456629, 1.        ]),\n",
       "             '0.5800_0.2700_0.7900_True': array([1.        , 1.        , 1.04174664, 1.        ]),\n",
       "             '0.5700_0.2700_0.7800_False': array([1.02207624, 1.        , 0.99730769, 0.99917225]),\n",
       "             '1.0000_0.5200_0.7700_True': array([1.        , 1.03410697, 1.        , 1.        ]),\n",
       "             '0.9900_0.5200_0.7600_False': array([1.04251734, 1.        , 1.        , 1.        ]),\n",
       "             '0.9800_0.5200_0.7500_False': array([1.01562935, 0.99730769, 0.99908337, 0.999     ]),\n",
       "             '0.9700_0.5200_0.7400_False': array([1.02700635, 0.99730769, 1.        , 1.        ]),\n",
       "             '0.9600_0.5200_0.7300_False': array([1.01545554, 0.999     , 0.999     , 0.99730769]),\n",
       "             '0.9500_0.5200_0.7200_False': array([1.02241019, 0.99922445, 1.        , 0.99730769]),\n",
       "             '0.9400_0.5200_0.7100_False': array([1.04395071, 1.        , 1.        , 1.        ]),\n",
       "             '0.9300_0.5200_0.7000_False': array([1.04299887, 1.        , 1.        , 1.        ]),\n",
       "             '0.9200_0.5200_0.6900_False': array([1.02748489, 0.99730769, 1.        , 1.        ]),\n",
       "             '0.9100_0.5200_0.6800_False': array([1.02720668, 1.        , 1.        , 0.99730769]),\n",
       "             '0.9000_0.5200_0.6700_False': array([1.02136013, 0.99730769, 1.        , 0.999     ]),\n",
       "             '0.8900_0.5200_0.6600_False': array([1.02117298, 0.99730769, 0.999     , 1.        ]),\n",
       "             '0.8800_0.5200_0.6500_False': array([1.01615734, 0.99922445, 0.99930461, 0.99730769]),\n",
       "             '0.8700_0.5200_0.6400_False': array([1.04274253, 1.        , 1.        , 1.        ]),\n",
       "             '0.8600_0.5200_0.6300_False': array([1.02277876, 0.99928187, 1.        , 0.99730769]),\n",
       "             '0.8500_0.5200_0.6200_False': array([1.05484237, 1.        , 1.        , 1.        ]),\n",
       "             '0.8400_0.4100_0.7700_True': array([1.        , 1.04539019, 1.        , 1.        ]),\n",
       "             '0.8300_0.4100_0.7600_False': array([1.05518409, 1.        , 1.        , 1.        ]),\n",
       "             '0.8200_0.4100_0.7500_False': array([1.05326707, 1.        , 1.        , 1.        ]),\n",
       "             '0.8100_0.4100_0.7400_False': array([1.        , 1.        , 1.        , 1.00413261]),\n",
       "             '0.8000_0.4100_0.7300_False': array([1.        , 1.        , 1.00604963, 1.        ]),\n",
       "             '0.7900_0.4100_0.7200_False': array([1.05518464, 1.        , 1.        , 1.        ]),\n",
       "             '0.7800_0.4100_0.7100_False': array([1.05330832, 1.        , 1.        , 1.        ]),\n",
       "             '0.7700_0.4100_0.7000_False': array([1.        , 1.        , 1.        , 1.00604963]),\n",
       "             '0.7600_0.4100_0.6900_False': array([1.05518464, 1.        , 1.        , 1.        ]),\n",
       "             '0.7500_0.4100_0.6800_False': array([1.05330777, 1.        , 1.        , 1.        ]),\n",
       "             '0.7400_0.4100_0.6700_False': array([1.        , 1.        , 1.        , 1.00600837]),\n",
       "             '0.7300_0.4100_0.6600_False': array([1.05326652, 1.        , 1.        , 1.        ]),\n",
       "             '0.7200_0.4100_0.6500_False': array([1.        , 1.00409146, 1.        , 1.        ]),\n",
       "             '0.7100_0.4100_0.6400_False': array([1.        , 1.        , 1.        , 1.00414013]),\n",
       "             '0.7000_0.4100_0.6300_False': array([1.        , 1.00640191, 1.        , 1.        ]),\n",
       "             '0.6900_0.4100_0.6200_False': array([1.06438192, 1.        , 1.        , 1.        ]),\n",
       "             '0.6800_0.3200_0.7700_True': array([1.0629834, 1.       , 1.       , 1.       ]),\n",
       "             '0.6700_0.3200_0.7600_True': array([1.        , 1.        , 1.        , 1.05246782]),\n",
       "             '0.6600_0.3200_0.7500_False': array([1.05936325, 1.        , 1.        , 1.        ]),\n",
       "             '0.6500_0.3200_0.7400_False': array([1.        , 1.00920597, 1.        , 1.        ]),\n",
       "             '0.6400_0.3200_0.7300_False': array([1.        , 1.01009219, 1.        , 1.        ]),\n",
       "             '0.6300_0.3200_0.7200_False': array([1.05783498, 1.        , 1.        , 1.        ]),\n",
       "             '0.6200_0.2800_0.7700_True': array([1.        , 1.        , 1.04594963, 1.        ]),\n",
       "             '0.6100_0.2800_0.7600_False': array([1.02742209, 1.        , 0.99692308, 1.        ]),\n",
       "             '1.0000_0.5300_0.7500_True': array([1.        , 1.        , 1.        , 1.03310543]),\n",
       "             '0.9900_0.5300_0.7400_False': array([1.04244745, 1.        , 1.        , 1.        ]),\n",
       "             '0.9800_0.5300_0.7300_False': array([1.03605034, 1.        , 0.99885714, 1.        ]),\n",
       "             '0.9700_0.5300_0.7200_False': array([1.01597262, 0.99920057, 0.99910769, 0.99692308]),\n",
       "             '0.9600_0.5300_0.7100_False': array([1.04908091, 1.        , 1.        , 1.        ]),\n",
       "             '0.9500_0.4700_0.7600_True': array([1.04866809, 1.        , 1.        , 1.        ]),\n",
       "             '0.9400_0.4700_0.7500_True': array([1.        , 1.03761955, 1.        , 1.        ]),\n",
       "             '0.9300_0.4700_0.7400_False': array([1.01700007, 0.99971429, 0.99971429, 0.99923077]),\n",
       "             '0.9200_0.4700_0.7300_False': array([1.0167649 , 0.99971429, 0.99971429, 0.99923077]),\n",
       "             '0.9100_0.4700_0.7200_False': array([1.        , 1.00064075, 0.99923077, 0.99996484]),\n",
       "             '0.9000_0.4700_0.7100_False': array([1.04802723, 1.        , 1.        , 1.        ]),\n",
       "             '0.8900_0.4700_0.7000_False': array([1.03177761, 0.99923077, 1.        , 1.        ]),\n",
       "             '0.8800_0.4700_0.6900_False': array([1.04906168, 1.        , 1.        , 1.        ]),\n",
       "             '0.8700_0.4700_0.6800_False': array([1.04802681, 1.        , 1.        , 1.        ]),\n",
       "             '0.8600_0.4700_0.6700_False': array([1.03174954, 1.        , 1.        , 0.99923077]),\n",
       "             '0.8500_0.4700_0.6600_False': array([1.04799254, 1.        , 1.        , 1.        ]),\n",
       "             '0.8400_0.4700_0.6500_False': array([1.03037662, 1.        , 1.        , 0.99923077]),\n",
       "             '0.8300_0.4700_0.6400_False': array([1.02416382, 0.99971429, 1.        , 0.99923077]),\n",
       "             '0.8200_0.4700_0.6300_False': array([1.0306756 , 1.        , 0.99923077, 1.        ]),\n",
       "             '0.8100_0.4700_0.6200_False': array([1.02991298, 1.        , 0.99923077, 1.        ]),\n",
       "             '0.8000_0.4700_0.6100_False': array([1.        , 1.00101865, 0.99923077, 1.        ]),\n",
       "             '0.7900_0.4700_0.6000_False': array([1.05891306, 1.        , 1.        , 1.        ]),\n",
       "             '0.7800_0.3700_0.7600_True': array([1.        , 1.        , 1.04853423, 1.        ]),\n",
       "             '0.7700_0.3700_0.7500_False': array([1.03437218, 1.        , 1.        , 1.        ]),\n",
       "             '0.9500_0.8600_0.6800_False': array([1.0008172 , 0.98423077, 0.99547033, 0.99633929]),\n",
       "             '0.9400_0.8600_0.6700_False': array([0.9387736 , 1.        , 0.99772646, 0.98423077]),\n",
       "             '0.9300_0.8600_0.6600_False': array([0.95433464, 0.99900863, 0.99845164, 0.98423077]),\n",
       "             '0.9200_0.8600_0.6500_False': array([1.00185628, 1.        , 1.        , 0.98423077]),\n",
       "             '0.9100_0.8600_0.6400_False': array([1.00157882, 1.        , 0.99636865, 0.98423077]),\n",
       "             '0.9000_0.8600_0.6300_False': array([0.98244652, 1.        , 1.        , 0.99909734]),\n",
       "             '0.8900_0.8600_0.6200_False': array([0.98202529, 0.98423077, 0.99633929, 0.99826755]),\n",
       "             '0.8800_0.8600_0.6100_False': array([0.99208628, 0.98423077, 0.99633929, 0.99867098]),\n",
       "             '0.8700_0.8600_0.6000_False': array([0.99291915, 0.99636865, 0.98423077, 0.99850642]),\n",
       "             '0.8600_0.8600_0.5900_False': array([0.99975841, 1.        , 1.        , 1.        ]),\n",
       "             '0.8500_0.8600_0.5800_False': array([1.01198946, 1.        , 1.        , 1.        ]),\n",
       "             '0.8400_0.6800_0.7500_True': array([1.        , 1.        , 1.00653846, 1.        ]),\n",
       "             '0.8300_0.6800_0.7400_False': array([1.        , 1.        , 1.        , 0.98153846]),\n",
       "             '1.0000_0.9300_0.7300_True': array([1.00076923, 1.        , 1.        , 1.        ]),\n",
       "             '0.9900_0.9300_0.7200_True': array([1.        , 1.        , 0.99692308, 1.        ]),\n",
       "             '0.9800_0.9300_0.7100_False': array([1.        , 1.        , 0.61346154, 1.        ]),\n",
       "             '1.0000_1.0000_0.7000_True': array([1., 1., 1., 1.]),\n",
       "             '0.0000_0.0000_0.7000_True': array([1., 1., 1., 1.]),\n",
       "             '0.9500_0.8600_0.7000_True': array([1.00057296, 0.99998201, 0.99998592, 0.9996875 ]),\n",
       "             '0.9400_0.8600_0.6900_False': array([0.98584507, 0.9871875 , 0.99926259, 1.        ]),\n",
       "             '0.9300_0.8600_0.6800_False': array([1.        , 1.        , 0.9871875 , 0.99926259]),\n",
       "             '0.9200_0.8600_0.6700_False': array([0.85049716, 0.9974375 , 0.99926126, 0.99474359]),\n",
       "             '0.9100_0.8600_0.6600_False': array([0.97258644, 0.99474359, 0.99848824, 0.99      ]),\n",
       "             '0.9000_0.7700_0.7200_True': array([1.    , 1.    , 1.0025, 1.    ]),\n",
       "             '0.8900_0.7700_0.7100_False': array([0.6859375, 1.       , 1.       , 1.       ]),\n",
       "             '0.4600_0.1800_0.7400_False': array([1.01529412, 1.        , 1.        , 1.        ]),\n",
       "             '1.0000_0.4300_0.7300_True': array([1.        , 1.        , 1.01235294, 1.        ]),\n",
       "             '0.9900_0.4300_0.7200_False': array([1.        , 1.        , 1.        , 0.99323529]),\n",
       "             '1.0000_0.6800_0.7100_True': array([1.009201, 1.      , 1.      , 1.      ]),\n",
       "             '0.9900_0.6800_0.7000_True': array([1.00918795, 1.        , 1.        , 1.        ]),\n",
       "             '0.9800_0.6800_0.6900_True': array([1.        , 1.        , 1.        , 1.00577103]),\n",
       "             '0.9700_0.6800_0.6800_False': array([1.00126168, 0.99323529, 1.        , 1.        ]),\n",
       "             '0.9600_0.6800_0.6700_False': array([1.        , 1.        , 0.99323529, 0.99892523]),\n",
       "             '0.9500_0.6800_0.6600_False': array([1.        , 1.        , 0.99323529, 0.99892523]),\n",
       "             '0.9400_0.6800_0.6500_False': array([1.        , 0.99929673, 0.99529412, 1.        ]),\n",
       "             '0.9300_0.6100_0.7200_True': array([1.01158645, 1.        , 1.        , 1.        ]),\n",
       "             '0.9200_0.6100_0.7100_True': array([1.01157339, 1.        , 1.        , 1.        ]),\n",
       "             '0.9100_0.6100_0.7000_True': array([1.        , 1.        , 1.00814733, 1.        ]),\n",
       "             '0.9000_0.6100_0.6900_False': array([1.00042056, 1.        , 1.        , 0.98794118]),\n",
       "             '1.0000_0.8600_0.6800_True': array([1.00005668, 0.9999937 , 0.99970588, 0.99995327]),\n",
       "             '0.9900_0.8600_0.6700_False': array([1.        , 0.99974181, 0.70441176, 0.99808411]),\n",
       "             '1.0000_1.0000_0.6600_True': array([1., 1., 1., 1.]),\n",
       "             '0.8400_0.9300_0.5000_False': array([0.94741732, 1.        , 1.        , 0.99745142]),\n",
       "             '0.8300_0.9300_0.4900_False': array([1.00101558, 1.        , 0.99194444, 1.        ]),\n",
       "             '0.8200_0.7400_0.6900_True': array([1.        , 1.00305556, 1.        , 1.        ]),\n",
       "             '0.8100_0.7400_0.6800_False': array([1.00598324, 1.        , 1.        , 1.        ]),\n",
       "             '0.8000_0.7400_0.6700_False': array([1.00015419, 0.99194444, 1.        , 1.        ]),\n",
       "             '0.7900_0.7400_0.6600_False': array([1.00015419, 1.        , 0.99194444, 1.        ]),\n",
       "             '0.7800_0.7400_0.6500_False': array([1.00015419, 1.        , 1.        , 0.99194444]),\n",
       "             '0.7700_0.7400_0.6400_False': array([1.        , 1.        , 0.99194444, 0.99979115]),\n",
       "             '0.7600_0.7400_0.6300_False': array([1.00598324, 1.        , 1.        , 1.        ]),\n",
       "             '0.7500_0.7400_0.6200_False': array([1.00015825, 0.99194444, 1.        , 1.        ]),\n",
       "             '0.7400_0.7400_0.6100_False': array([1.00598727, 1.        , 1.        , 1.        ]),\n",
       "             '0.7300_0.7400_0.6000_False': array([1.00593131, 1.        , 1.        , 1.        ]),\n",
       "             '0.7200_0.7400_0.5900_False': array([1.0059873, 1.       , 1.       , 1.       ]),\n",
       "             '0.7100_0.7400_0.5800_False': array([1.00598324, 1.        , 1.        , 1.        ]),\n",
       "             '0.7000_0.7400_0.5700_False': array([1.        , 0.99194444, 1.        , 0.99978708]),\n",
       "             '0.6900_0.7400_0.5600_False': array([1.        , 0.99194444, 1.        , 0.99989721]),\n",
       "             '0.6800_0.7400_0.5500_False': array([1.        , 1.        , 0.99194444, 1.        ]),\n",
       "             '0.6700_0.7400_0.5400_False': array([1.        , 1.        , 1.        , 0.99611111]),\n",
       "             '0.6600_0.5900_0.7200_True': array([1.01, 1.  , 1.  , 1.  ]),\n",
       "             '0.6500_0.5900_0.7100_True': array([1.        , 1.00744619, 1.        , 1.        ]),\n",
       "             '0.6400_0.5900_0.7000_False': array([1.0048831 , 1.        , 1.        , 0.99611111]),\n",
       "             '0.6300_0.5900_0.6900_False': array([1.01030488, 1.        , 1.        , 1.        ]),\n",
       "             '0.6200_0.5900_0.6800_False': array([1.00031359, 1.        , 0.99611111, 1.        ]),\n",
       "             '0.6100_0.5900_0.6700_False': array([1.00031359, 1.        , 0.99611111, 1.        ]),\n",
       "             '0.6000_0.5900_0.6600_False': array([1.        , 0.99611111, 0.99987805, 1.        ]),\n",
       "             '0.5900_0.5900_0.6500_False': array([1.00032186, 1.        , 1.        , 0.99611111]),\n",
       "             '0.5800_0.5900_0.6400_False': array([1.01031315, 1.        , 1.        , 1.        ]),\n",
       "             '0.5700_0.5900_0.6300_False': array([1.01031315, 1.        , 1.        , 1.        ]),\n",
       "             '0.5600_0.5900_0.6200_False': array([1.01030488, 1.        , 1.        , 1.        ]),\n",
       "             '0.5500_0.5900_0.6100_False': array([1.        , 0.99611111, 0.99987805, 1.        ]),\n",
       "             '0.5400_0.5900_0.6000_False': array([1.        , 1.        , 0.99611111, 0.99987805]),\n",
       "             '0.5300_0.5900_0.5900_False': array([1.00031359, 0.99611111, 1.        , 1.        ]),\n",
       "             '0.5200_0.5900_0.5800_False': array([1.        , 0.99987805, 0.99611111, 1.        ]),\n",
       "             '0.5100_0.5900_0.5700_False': array([1.00031359, 0.99611111, 1.        , 1.        ]),\n",
       "             '0.5000_0.5900_0.5600_False': array([1.        , 0.99833333, 1.        , 0.99995532]),\n",
       "             ...})"
      ]
     },
     "execution_count": 88,
     "metadata": {},
     "output_type": "execute_result"
    }
   ],
   "source": [
    "Q"
   ]
  },
  {
   "cell_type": "markdown",
   "metadata": {},
   "source": [
    "# Training the learning agent - Q-learning"
   ]
  },
  {
   "cell_type": "code",
   "execution_count": 40,
   "metadata": {
    "ExecuteTime": {
     "end_time": "2020-05-11T14:30:00.529170Z",
     "start_time": "2020-05-11T14:30:00.526092Z"
    }
   },
   "outputs": [],
   "source": [
    "method = 'Q-Learning'\n",
    "method_name = method"
   ]
  },
  {
   "cell_type": "markdown",
   "metadata": {},
   "source": [
    "## Initialisation"
   ]
  },
  {
   "cell_type": "code",
   "execution_count": 41,
   "metadata": {
    "ExecuteTime": {
     "end_time": "2020-05-11T14:30:00.542902Z",
     "start_time": "2020-05-11T14:30:00.531985Z"
    }
   },
   "outputs": [],
   "source": [
    "# Initializing the Q-matrix \n",
    "Q = init_Q(n_actions, init_Q_type)"
   ]
  },
  {
   "cell_type": "code",
   "execution_count": 42,
   "metadata": {
    "ExecuteTime": {
     "end_time": "2020-05-11T14:30:00.548113Z",
     "start_time": "2020-05-11T14:30:00.544837Z"
    }
   },
   "outputs": [],
   "source": [
    "# Visualisation\n",
    "(render_episode, render_training) = (False, False)\n",
    "n_episodes_plot = int(np.ceil(n_episodes/100))"
   ]
  },
  {
   "cell_type": "code",
   "execution_count": 43,
   "metadata": {
    "ExecuteTime": {
     "end_time": "2020-05-11T14:30:00.553444Z",
     "start_time": "2020-05-11T14:30:00.550236Z"
    }
   },
   "outputs": [],
   "source": [
    "# Initializing the reward\n",
    "evo_training = {\n",
    "    'evo_avg_reward_per_step': []\n",
    "    , 'evo_n_steps': []\n",
    "    , 'evo_avg_happiness': []\n",
    "}"
   ]
  },
  {
   "cell_type": "markdown",
   "metadata": {},
   "source": [
    "## Training"
   ]
  },
  {
   "cell_type": "code",
   "execution_count": 44,
   "metadata": {
    "ExecuteTime": {
     "end_time": "2020-05-11T14:40:35.763326Z",
     "start_time": "2020-05-11T14:30:00.556065Z"
    }
   },
   "outputs": [
    {
     "name": "stderr",
     "output_type": "stream",
     "text": [
      "100%|██████████| 10000/10000 [10:28<00:00, 15.91it/s]\n"
     ]
    }
   ],
   "source": [
    "# Starting the SARSA learning \n",
    "for episode in tqdm(range(n_episodes)):\n",
    "    \n",
    "    (n_episode_steps, done) = (0, False)\n",
    "    evo_episode = {\n",
    "        'episode_sum_reward': 0\n",
    "        , 'evolution_sum_happiness': 0\n",
    "    }\n",
    "    \n",
    "    # Update parameters\n",
    "    epsilon = get_epsilon(episode, init_epsilon)\n",
    "    alpha = get_alpha(episode, init_alpha)\n",
    "    \n",
    "    \n",
    "    # Get episode\n",
    "\n",
    "    state1 = env_reset()\n",
    "    evo_episode['evolution_sum_happiness'] += get_happiness(state1)\n",
    "\n",
    "    while (not done) and (n_episode_steps < nmax_steps):\n",
    "        \n",
    "        # Choose an action\n",
    "        action1 = epsilon_greedy(Q, state1['state_id'], n_actions, init_epsilon)\n",
    "\n",
    "        # Getting the next state \n",
    "        state2, reward1, done, info = env_step(state1, action1)\n",
    "        evo_episode['episode_sum_reward'] += reward1\n",
    "        evo_episode['evolution_sum_happiness'] += get_happiness(state2)\n",
    "        \n",
    "\n",
    "        # Q-Learning\n",
    "        # Choosing the next action \n",
    "        action2 = select_best_action(Q[state2['state_id']])\n",
    "        # Learning the Q-value\n",
    "        Q = update_Q_Qlearning(Q, state1['state_id'], action1, reward1, state2['state_id'], action2)\n",
    "        \n",
    "        # Updating the respective values \n",
    "        state1 = state2\n",
    "        n_episode_steps += 1\n",
    "    \n",
    "\n",
    "    # At the end of learning process \n",
    "    if render_episode:\n",
    "        print('Episode {0}, Score: {1}, Timesteps: {2}, Epsilon: {3}, Alpha: {4}'.format(\n",
    "            episode+1, episode_reward, n_episode_steps, epsilon, alpha))\n",
    "    \n",
    "    evo_training['evo_avg_reward_per_step'].append(evo_episode['episode_sum_reward'] / n_episode_steps)\n",
    "    evo_training['evo_n_steps'].append(n_episode_steps)\n",
    "    evo_training['evo_avg_happiness'].append(evo_episode['evolution_sum_happiness'] / n_episode_steps)\n",
    "    \n",
    "    if ((episode+1) % n_episodes_plot == 0) | (episode == (n_episodes-1)):\n",
    "        \n",
    "        with open('data/interim/{}__Q.pkl'.format(method_name), 'wb') as file:\n",
    "            dill.dump(Q, file)\n",
    "\n",
    "        with open('data/interim/{}__evo_training.pkl'.format(method_name), 'wb') as file:\n",
    "            dill.dump(evo_training, file)\n",
    "\n",
    "with open('models/{}__Q.pkl'.format(method_name), 'wb') as file:\n",
    "    dill.dump(Q, file)\n",
    "with open('models/{}__evo_training.pkl'.format(method_name), 'wb') as file:\n",
    "    dill.dump(evo_training, file)"
   ]
  },
  {
   "cell_type": "code",
   "execution_count": 45,
   "metadata": {
    "ExecuteTime": {
     "end_time": "2020-05-11T14:40:39.999483Z",
     "start_time": "2020-05-11T14:40:35.767388Z"
    }
   },
   "outputs": [
    {
     "data": {
      "image/png": "[encoded data removed]",
      "text/plain": [
       "<Figure size 432x288 with 1 Axes>"
      ]
     },
     "metadata": {
      "needs_background": "light"
     },
     "output_type": "display_data"
    },
    {
     "data": {
      "image/png": "[encoded data removed]",
      "text/plain": [
       "<Figure size 432x288 with 1 Axes>"
      ]
     },
     "metadata": {
      "needs_background": "light"
     },
     "output_type": "display_data"
    },
    {
     "data": {
      "image/png": "[encoded data removed]",
      "text/plain": [
       "<Figure size 432x288 with 1 Axes>"
      ]
     },
     "metadata": {
      "needs_background": "light"
     },
     "output_type": "display_data"
    }
   ],
   "source": [
    "plot_evolution_reward(evo_training['evo_avg_reward_per_step'], method_name)\n",
    "plot_evolution_steps(evo_training['evo_n_steps'], method_name)\n",
    "plot_evolution_happiness(evo_training['evo_avg_happiness'], method_name)"
   ]
  },
  {
   "cell_type": "markdown",
   "metadata": {},
   "source": [
    "# Comparison"
   ]
  },
  {
   "cell_type": "code",
   "execution_count": 46,
   "metadata": {
    "ExecuteTime": {
     "end_time": "2020-05-11T14:40:40.005806Z",
     "start_time": "2020-05-11T14:40:40.002495Z"
    }
   },
   "outputs": [],
   "source": [
    "# list_methods = ['MC_every_visit','MC_first_visit', 'SARSA','Q-Learning']\n",
    "list_methods = ['SARSA','Q-Learning']"
   ]
  },
  {
   "cell_type": "markdown",
   "metadata": {},
   "source": [
    "## Evolution of Reward / Steps / Happiness"
   ]
  },
  {
   "cell_type": "code",
   "execution_count": 47,
   "metadata": {
    "ExecuteTime": {
     "end_time": "2020-05-11T14:40:40.016632Z",
     "start_time": "2020-05-11T14:40:40.008120Z"
    }
   },
   "outputs": [],
   "source": [
    "evo_training__evo_avg_reward_per_step = {}\n",
    "evo_training__evo_n_steps = {}\n",
    "evo_training__evo_avg_happiness = {}\n",
    "\n",
    "for method in list_methods:\n",
    "    with open(\"models/{}__evo_training.pkl\".format(method), \"rb\") as input_file:\n",
    "        evo_training = dill.load(input_file)\n",
    "\n",
    "    evo_training__evo_avg_reward_per_step[method] = evo_training['evo_avg_reward_per_step']\n",
    "    evo_training__evo_n_steps[method] = evo_training['evo_n_steps']\n",
    "    evo_training__evo_avg_happiness[method] = evo_training['evo_avg_happiness']"
   ]
  },
  {
   "cell_type": "code",
   "execution_count": 48,
   "metadata": {
    "ExecuteTime": {
     "end_time": "2020-05-11T14:40:44.148679Z",
     "start_time": "2020-05-11T14:40:40.018591Z"
    }
   },
   "outputs": [
    {
     "data": {
      "image/png": "[encoded data removed]",
      "text/plain": [
       "<Figure size 432x288 with 1 Axes>"
      ]
     },
     "metadata": {
      "needs_background": "light"
     },
     "output_type": "display_data"
    },
    {
     "data": {
      "image/png": "[encoded data removed]",
      "text/plain": [
       "<Figure size 432x288 with 1 Axes>"
      ]
     },
     "metadata": {
      "needs_background": "light"
     },
     "output_type": "display_data"
    },
    {
     "data": {
      "image/png": "[encoded data removed]",
      "text/plain": [
       "<Figure size 432x288 with 1 Axes>"
      ]
     },
     "metadata": {
      "needs_background": "light"
     },
     "output_type": "display_data"
    }
   ],
   "source": [
    "plot_comparison_evolution_reward(evo_training__evo_avg_reward_per_step)\n",
    "plot_comparison_evolution_steps(evo_training__evo_n_steps)\n",
    "plot_comparison_evolution_happiness(evo_training__evo_avg_happiness)"
   ]
  },
  {
   "cell_type": "markdown",
   "metadata": {},
   "source": [
    "## Simulated episodes"
   ]
  },
  {
   "cell_type": "code",
   "execution_count": 49,
   "metadata": {
    "ExecuteTime": {
     "end_time": "2020-05-11T14:40:44.154376Z",
     "start_time": "2020-05-11T14:40:44.151162Z"
    }
   },
   "outputs": [],
   "source": [
    "# Variables\n",
    "episodes = 1000\n",
    "nmax_steps = 200000\n",
    "render_episode = False"
   ]
  },
  {
   "cell_type": "code",
   "execution_count": 50,
   "metadata": {
    "ExecuteTime": {
     "end_time": "2020-05-11T14:41:15.475603Z",
     "start_time": "2020-05-11T14:40:44.156731Z"
    }
   },
   "outputs": [
    {
     "name": "stderr",
     "output_type": "stream",
     "text": [
      "100%|██████████| 1000/1000 [00:05<00:00, 190.50it/s]\n"
     ]
    },
    {
     "name": "stdout",
     "output_type": "stream",
     "text": [
      "--- Evaluation ---\n",
      "Method SARSA \n",
      "    Avg Reward:         0000.10708 +/- 0000.00000 \n",
      "    Avg Steps:          0120.00000 +/- 0000.00000 \n",
      "    Avg Happiness:      0000.21042 +/- 0000.00000\n",
      "\n"
     ]
    },
    {
     "name": "stderr",
     "output_type": "stream",
     "text": [
      "100%|██████████| 1000/1000 [00:25<00:00, 39.07it/s]"
     ]
    },
    {
     "name": "stdout",
     "output_type": "stream",
     "text": [
      "--- Evaluation ---\n",
      "Method Q-Learning \n",
      "    Avg Reward:         0000.24309 +/- 0000.02077 \n",
      "    Avg Steps:          0718.63800 +/- 10937.13860 \n",
      "    Avg Happiness:      0000.45918 +/- 0000.05085\n",
      "\n"
     ]
    },
    {
     "name": "stderr",
     "output_type": "stream",
     "text": [
      "\n"
     ]
    }
   ],
   "source": [
    "for method in list_methods:\n",
    "\n",
    "    with open(\"models/{}__Q.pkl\".format(method), \"rb\") as input_file:\n",
    "        Q = dill.load(input_file)\n",
    "\n",
    "    evo_method = {\n",
    "        'avg_reward': []\n",
    "        , 'n_steps': []\n",
    "        , 'avg_happiness': []\n",
    "    }\n",
    "\n",
    "    # Loop episodes\n",
    "    for episode in tqdm(range(episodes)):\n",
    "\n",
    "        (n_episode_steps, done) = (0, False)\n",
    "        evo_episode = {\n",
    "            'episode_sum_reward': 0\n",
    "            , 'evolution_sum_happiness': 0\n",
    "        }\n",
    "\n",
    "        # Start episode and get initial observation\n",
    "        state = env_reset()\n",
    "        evo_episode['evolution_sum_happiness'] += get_happiness(state)\n",
    "\n",
    "        while (not done) and (n_episode_steps < nmax_steps):\n",
    "\n",
    "            # Get an action\n",
    "            action = select_best_action(Q_state = Q[state['state_id']])\n",
    "\n",
    "            # Perform a step\n",
    "            state, reward, done, info = env_step(state, action)\n",
    "            evo_episode['episode_sum_reward'] += reward\n",
    "            evo_episode['evolution_sum_happiness'] += get_happiness(state)\n",
    "\n",
    "            # Update n_steps\n",
    "            n_episode_steps += 1\n",
    "\n",
    "        if render_episode:\n",
    "            print('Episode {0}, Avg Reward: {1}, Timesteps: {2}, Avg Happiness: {3}'.format(\n",
    "                episode+1\n",
    "                , evo_episode['episode_sum_reward'] / n_episode_steps\n",
    "                , n_episode_steps\n",
    "                , evo_episode['evolution_sum_happiness'] / n_episode_steps))\n",
    "\n",
    "        evo_method['avg_reward'].append(evo_episode['episode_sum_reward'] / n_episode_steps)\n",
    "        evo_method['n_steps'].append(n_episode_steps)\n",
    "        evo_method['avg_happiness'].append(evo_episode['evolution_sum_happiness'] / n_episode_steps)\n",
    "\n",
    "    # Print the score\n",
    "    print('--- Evaluation ---')\n",
    "    print ('Method {} \\n    Avg {:15} {:010.5f} +/- {:010.5f} \\n    Avg {:15} {:010.5f} +/- {:010.5f} \\n    Avg {:15} {:010.5f} +/- {:010.5f}'.format(\n",
    "        method\n",
    "        , 'Reward:', np.mean(evo_method['avg_reward']), statistics.stdev(evo_method['avg_reward'])\n",
    "        , 'Steps:', np.mean(evo_method['n_steps']), statistics.stdev(evo_method['n_steps'])\n",
    "        , 'Happiness:', np.mean(evo_method['avg_happiness']), statistics.stdev(evo_method['avg_happiness'])\n",
    "    ))\n",
    "    print()"
   ]
  },
  {
   "cell_type": "code",
   "execution_count": 51,
   "metadata": {
    "ExecuteTime": {
     "end_time": "2020-05-11T15:11:07.739386Z",
     "start_time": "2020-05-11T15:11:07.523585Z"
    }
   },
   "outputs": [
    {
     "data": {
      "text/plain": [
       "defaultdict(<function __main__.get_default_Q_values()>,\n",
       "            {'0.4900_0.0000_0.4900_False': array([1.41940454, 1.06310146, 1.07384788, 1.05186421]),\n",
       "             '0.5000_0.0000_0.5000_True': array([1.30675264, 1.44203022, 1.5194488 , 1.42653748]),\n",
       "             '1.0000_0.2500_0.4800_True': array([1.12646123, 1.205814  , 1.16909067, 1.0919119 ]),\n",
       "             '0.9900_0.2500_0.4700_False': array([1.13743932, 0.95428679, 0.98773062, 0.99538943]),\n",
       "             '0.9800_0.2500_0.4600_False': array([1.06506728, 0.94932108, 0.98724343, 0.99322067]),\n",
       "             '0.9700_0.2500_0.4500_False': array([1.09084684, 1.01169318, 0.96870155, 1.01672255]),\n",
       "             '0.9600_0.2500_0.4400_False': array([1.23198076, 0.99543174, 0.99608083, 0.99218489]),\n",
       "             '0.9500_0.2500_0.4300_False': array([1.0808818 , 1.00307686, 1.00593213, 0.94400347]),\n",
       "             '0.9400_0.2500_0.4200_False': array([1.20333658, 0.99211893, 0.99109356, 0.99391855]),\n",
       "             '0.9300_0.2500_0.4100_False': array([1.03559384, 0.92219615, 0.98882247, 0.98725973]),\n",
       "             '0.9200_0.2500_0.4000_False': array([1.02459117, 1.00008833, 0.92590041, 1.00024797]),\n",
       "             '0.9100_0.2500_0.3900_False': array([1.17844323, 0.99108005, 0.98470723, 0.98756565]),\n",
       "             '0.9000_0.2500_0.3800_False': array([1.03014391, 0.99097535, 0.90280073, 0.98717844]),\n",
       "             '0.8900_0.2500_0.3700_False': array([1.02441101, 0.98116399, 0.98377874, 0.90123216]),\n",
       "             '0.8800_0.2500_0.3600_False': array([1.01561664, 0.97707435, 0.98492866, 0.8943176 ]),\n",
       "             '0.8700_0.2500_0.3500_False': array([1.01984544, 0.9823687 , 0.98172387, 0.88991052]),\n",
       "             '0.8600_0.2500_0.3400_False': array([1.03252273, 0.88231111, 0.98775213, 0.99052823]),\n",
       "             '0.8500_0.2500_0.3300_False': array([1.04114456, 1.01256219, 0.99707955, 1.02715796]),\n",
       "             '0.8400_0.2000_0.6000_True': array([1.02301811, 1.02034064, 1.01677808, 1.23402671]),\n",
       "             '0.8300_0.2000_0.5900_False': array([1.01107052, 1.00161056, 1.01629328, 1.00079853]),\n",
       "             '0.8200_0.2000_0.5800_False': array([1.03234713, 1.01291524, 1.00249087, 1.00214247]),\n",
       "             '0.8100_0.2000_0.5700_False': array([1.06589536, 1.02150215, 1.01455054, 1.01641882]),\n",
       "             '0.8000_0.2000_0.5600_False': array([1.30549867, 1.00341448, 1.00799224, 1.00559112]),\n",
       "             '0.7900_0.1800_0.6400_True': array([1.01035265, 1.01302224, 1.24626559, 1.01404347]),\n",
       "             '0.7800_0.1800_0.6300_False': array([1.26436318, 1.00138335, 1.00145646, 1.00214434]),\n",
       "             '1.0000_0.4300_0.6200_True': array([1.0080266 , 1.21207943, 1.00298593, 1.00474701]),\n",
       "             '0.9900_0.4300_0.6100_False': array([1.00118976, 0.9993032 , 1.0000886 , 1.00965202]),\n",
       "             '0.9800_0.4300_0.6000_False': array([1.0029415 , 1.00043368, 0.99950574, 1.01003529]),\n",
       "             '0.9700_0.4300_0.5900_False': array([1.00682243, 1.00014272, 1.01013523, 1.00021489]),\n",
       "             '0.9600_0.4300_0.5800_False': array([1.00344441, 1.01031201, 1.00045916, 1.00015466]),\n",
       "             '0.9500_0.4300_0.5700_False': array([1.00292769, 1.00012585, 1.00013741, 1.00501777]),\n",
       "             '0.9400_0.4300_0.5600_False': array([1.00092107, 1.00015017, 1.00000478, 1.00000046]),\n",
       "             '0.9300_0.4300_0.5500_False': array([1.00069932, 0.99496754, 0.99995218, 0.99997528]),\n",
       "             '0.9200_0.4300_0.5400_False': array([1.00179352, 0.99986687, 0.98996186, 0.99996599]),\n",
       "             '0.9100_0.4300_0.5300_False': array([1.0017536 , 0.99993995, 0.98496845, 0.99976949]),\n",
       "             '0.9000_0.4300_0.5200_False': array([1.00305126, 0.999913  , 0.97989983, 0.99990594]),\n",
       "             '0.8900_0.4300_0.5100_False': array([1.00127167, 0.9995322 , 0.99990392, 0.97494719]),\n",
       "             '0.8800_0.4300_0.5000_False': array([1.00112632, 0.99961534, 0.96984869, 0.99987587]),\n",
       "             '0.8700_0.4300_0.4900_False': array([1.00204374, 0.96476925, 0.99992439, 0.99975642]),\n",
       "             '0.8600_0.4300_0.4800_False': array([1.0040417 , 0.9999279 , 0.99990391, 0.96002072]),\n",
       "             '0.8500_0.4300_0.4700_False': array([1.00393333, 0.99979948, 1.05554806, 1.00089495]),\n",
       "             '0.8400_0.3400_0.6800_True': array([1.00293507, 1.00040472, 1.00094396, 1.25571525]),\n",
       "             '0.8300_0.3400_0.6700_False': array([1.00162441, 1.05541047, 1.00055327, 1.00021415]),\n",
       "             '0.8200_0.3400_0.6600_False': array([1.30210145, 1.00048044, 1.00015937, 1.00012728]),\n",
       "             '0.8100_0.3400_0.6500_False': array([1.00415717, 1.00016753, 1.04523089, 1.00060435]),\n",
       "             '0.8000_0.3400_0.6400_False': array([1.00102   , 1.00077304, 1.00022886, 1.07532072]),\n",
       "             '0.7900_0.3000_0.7100_True': array([1.0001594 , 1.00042862, 1.000738  , 1.27506547]),\n",
       "             '0.7800_0.3000_0.7000_False': array([1.00102046, 1.07007225, 0.99993939, 0.99997883]),\n",
       "             '0.7700_0.3000_0.6900_False': array([1.00208313, 1.00013456, 1.06504401, 1.00050346]),\n",
       "             '0.7600_0.3000_0.6800_False': array([1.00167972, 1.00047902, 1.00019446, 1.06008893]),\n",
       "             '0.7500_0.3000_0.6700_False': array([1.000297  , 1.0003717 , 1.09001899, 1.00022829]),\n",
       "             '0.7400_0.2700_0.7300_True': array([1.33515756, 1.        , 1.00003059, 1.00018413]),\n",
       "             '0.7300_0.2700_0.7200_True': array([1.00044668, 1.00054123, 1.00024137, 1.28019582]),\n",
       "             '0.7200_0.2700_0.7100_False': array([1.00079612, 1.0750093 , 1.00003133, 1.00016806]),\n",
       "             '0.7100_0.2700_0.7000_False': array([1.00061672, 1.        , 1.00016695, 1.07027766]),\n",
       "             '0.7000_0.2700_0.6900_False': array([1.00060012, 1.06525179, 1.00010707, 1.00006135]),\n",
       "             '0.6900_0.2700_0.6800_False': array([1.00023006, 1.00031278, 1.00010957, 1.06503048]),\n",
       "             '0.6800_0.2400_0.7400_True': array([1.0004168 , 1.00285714, 1.26017302, 1.00015748]),\n",
       "             '0.6700_0.2400_0.7300_False': array([1.00013388, 0.98000854, 1.00067479, 1.00006878]),\n",
       "             '1.0000_0.4900_0.7200_True': array([1.00038682, 1.18025063, 1.00138944, 1.00036094]),\n",
       "             '0.9900_0.4900_0.7100_False': array([1.00056168, 0.99996832, 0.97944793, 0.99981638]),\n",
       "             '0.9800_0.4900_0.7000_False': array([1.00039163, 0.99987926, 0.99999023, 0.97999206]),\n",
       "             '0.9700_0.4900_0.6900_False': array([1.00019664, 0.99992339, 0.99999306, 0.97999153]),\n",
       "             '0.9600_0.4900_0.6800_False': array([1.00029951, 0.99996041, 0.99998968, 0.98001523]),\n",
       "             '0.9500_0.4900_0.6700_False': array([1.00002478, 0.9999749 , 0.99998385, 0.97998668]),\n",
       "             '0.9400_0.4900_0.6600_False': array([1.00002656, 0.99996605, 0.9999825 , 0.97999234]),\n",
       "             '0.9300_0.4900_0.6500_False': array([1.00002657, 0.97999499, 0.99996235, 0.99998009]),\n",
       "             '0.9200_0.4900_0.6400_False': array([1.0001404 , 0.99999579, 0.99997159, 0.97998748]),\n",
       "             '0.9100_0.4900_0.6300_False': array([1.00019517, 0.97998889, 0.99999578, 0.99997356]),\n",
       "             '0.9000_0.4900_0.6200_False': array([1.00025346, 0.9999759 , 0.99998975, 0.9799934 ]),\n",
       "             '0.8900_0.4900_0.6100_False': array([1.00064882, 1.0000605 , 1.00000975, 0.98007953]),\n",
       "             '0.8800_0.4900_0.6000_False': array([1.23019471, 0.9999855 , 0.99999794, 0.9999805 ]),\n",
       "             '0.8700_0.4900_0.5900_False': array([1.0002042 , 0.99998632, 0.97999178, 0.99997802]),\n",
       "             '0.8600_0.4900_0.5800_False': array([1.00021338, 0.99999021, 0.99999631, 0.98000119]),\n",
       "             '0.8500_0.4900_0.5700_False': array([1.0007229 , 1.03005504, 1.00008338, 0.99999575]),\n",
       "             '0.8400_0.3900_0.7400_True': array([1.00027099, 1.0001396 , 1.23015205, 1.        ]),\n",
       "             '0.8300_0.3900_0.7300_False': array([1.00008107, 1.00001706, 0.9050296 , 1.00001464]),\n",
       "             '1.0000_0.6400_0.7200_True': array([1.15537678, 1.00185463, 1.00067156, 1.00344861]),\n",
       "             '0.9900_0.6400_0.7100_True': array([1.15587547, 1.0001468 , 1.00002509, 1.0000448 ]),\n",
       "             '0.9800_0.6400_0.7000_True': array([1.00002656, 1.00080321, 1.105     , 1.        ]),\n",
       "             '0.9700_0.6400_0.6900_False': array([1.03283988, 0.99905607, 0.99959546, 0.99766924]),\n",
       "             '1.0000_0.8900_0.6800_True': array([1.00010917, 0.99998094, 0.99996359, 0.98000013]),\n",
       "             '0.9900_0.8900_0.6700_False': array([1.01936954, 0.99628652, 0.99849583, 0.99388976]),\n",
       "             '0.9800_0.8900_0.6600_False': array([1.02941985, 0.99951227, 0.99896511, 0.99962906]),\n",
       "             '0.9700_0.8900_0.6500_False': array([1.00014752, 0.9997427 , 0.99953078, 0.77995229]),\n",
       "             '0.9600_0.8900_0.6400_False': array([1.0750285 , 0.99990274, 0.99930173, 0.99975696]),\n",
       "             '0.9500_0.8000_0.7100_True': array([1.07503752, 1.00000333, 1.00000506, 1.00000995]),\n",
       "             '0.9400_0.8000_0.7000_True': array([1.        , 1.00000803, 1.02502339, 1.0000029 ]),\n",
       "             '0.9300_0.8000_0.6900_False': array([-4.02366428,  0.99894366,  0.99484948,  0.99671995]),\n",
       "             '1.0000_1.0000_0.6800_True': array([1., 1., 1., 1.]),\n",
       "             '0.4800_0.0000_0.4800_False': array([1.30119084, 1.01418292, 1.01041213, 1.01970643]),\n",
       "             '0.4700_0.0000_0.4700_False': array([1.23616744, 0.99437883, 1.0000946 , 0.99148509]),\n",
       "             '0.4600_0.0000_0.4600_False': array([1.19943398, 0.99242809, 0.99422224, 0.97396477]),\n",
       "             '0.4500_0.0000_0.4500_False': array([1.16056724, 1.00655981, 0.98478219, 1.00803213]),\n",
       "             '0.4400_0.0000_0.4400_False': array([1.19767573, 0.98346568, 0.98560683, 0.98421365]),\n",
       "             '0.4300_0.0000_0.4300_False': array([1.10744657, 0.98400468, 0.95707477, 0.98461907]),\n",
       "             '0.4200_0.0000_0.4200_False': array([1.12240432, 0.99074393, 0.96759713, 0.99520982]),\n",
       "             '0.4100_0.0000_0.4100_False': array([1.15464467, 0.97158559, 0.97512643, 0.97340355]),\n",
       "             '0.4000_0.0000_0.4000_False': array([1.09645347, 0.94006687, 0.98125476, 0.97521321]),\n",
       "             '0.3900_0.0000_0.3900_False': array([1.10594223, 0.9708494 , 0.96928114, 0.93866501]),\n",
       "             '0.3800_0.0000_0.3800_False': array([1.09508604, 0.99209816, 0.95210143, 0.9829602 ]),\n",
       "             '0.3700_0.0000_0.3700_False': array([1.17728923, 0.98422029, 0.98174518, 0.98336165]),\n",
       "             '0.3600_0.0000_0.3600_False': array([1.15436181, 0.96069997, 0.96813126, 0.97015061]),\n",
       "             '0.3500_0.0000_0.3500_False': array([1.08951324, 0.91952065, 0.95989008, 0.96528814]),\n",
       "             '0.3400_0.0000_0.6100_True': array([1.06410707, 1.0768981 , 1.04583225, 1.03226897]),\n",
       "             '0.3300_0.0000_0.6000_False': array([1.06107355, 0.94309609, 0.98749544, 0.99453969]),\n",
       "             '0.3200_0.0000_0.5900_False': array([1.10401435, 0.9736463 , 0.97189258, 0.98380699]),\n",
       "             '0.3100_0.0000_0.5800_False': array([1.11358207, 0.97147581, 0.9736154 , 0.97728412]),\n",
       "             '0.3000_0.0000_0.5700_False': array([1.08980163, 0.96177417, 0.95152719, 0.96945949]),\n",
       "             '0.2900_0.0000_0.5600_False': array([1.03061635, 0.96595205, 0.90487072, 0.97866324]),\n",
       "             '0.2800_0.0000_0.5500_False': array([1.03428565, 0.98082711, 0.98064672, 0.90685309]),\n",
       "             '0.2700_0.0000_0.5400_False': array([1.01221762, 0.95355914, 0.90787954, 0.97905912]),\n",
       "             '0.2600_0.0000_0.5300_False': array([1.02056755, 0.98062108, 0.97345219, 0.904482  ]),\n",
       "             '0.2500_0.0000_0.5200_False': array([1.06443254, 0.9830822 , 0.95763079, 0.97908435]),\n",
       "             '0.2400_0.0000_0.5100_False': array([1.02767994, 0.98242433, 0.96483426, 0.90726788]),\n",
       "             '0.2300_0.0000_0.5000_False': array([1.05933869, 0.97904078, 0.96405639, 0.97419162]),\n",
       "             '0.2200_0.0000_0.4900_False': array([1.0119995 , 0.97599926, 0.8879276 , 0.96445678]),\n",
       "             '0.2100_0.0000_0.4800_False': array([1.0482603 , 0.95891291, 0.95996646, 0.97996855]),\n",
       "             '0.2000_0.0000_0.4700_False': array([1.01803237, 0.95870827, 0.88994662, 0.97667063]),\n",
       "             '0.1900_0.0000_0.4600_False': array([1.01340082, 0.89059443, 0.96699123, 0.95205392]),\n",
       "             '0.1800_0.0000_0.6700_True': array([1.00941784, 1.00109222, 1.00105198, 1.00588967]),\n",
       "             '0.1700_0.0000_0.6600_False': array([1.01027865, 0.9984062 , 0.9935426 , 0.89717084]),\n",
       "             '0.1600_0.0000_0.6500_False': array([1.00317998, 0.99472858, 0.89002084, 0.98541567]),\n",
       "             '0.1500_0.0000_0.6400_False': array([1.00457887, 0.97411591, 0.88910936, 0.99018012]),\n",
       "             '0.1400_0.0000_0.6300_False': array([1.00444027, 0.98419419, 0.88607435, 0.98639643]),\n",
       "             '0.1300_0.0000_0.7000_True': array([1.00164211, 1.00332538, 0.99607095, 1.00380128]),\n",
       "             '0.1200_0.0000_0.6900_False': array([1.16021704, 0.99668969, 0.99320781, 0.99317917]),\n",
       "             '0.7100_0.2500_0.6800_True': array([1.00237932, 1.13282069, 1.00634194, 1.00318688]),\n",
       "             '0.7000_0.2500_0.6700_False': array([1.00164751, 1.0281367 , 1.00129494, 1.00039304]),\n",
       "             '0.6900_0.2500_0.6600_False': array([1.15230321, 1.00076411, 1.0014108 , 1.00196989]),\n",
       "             '0.6800_0.2500_0.6500_False': array([1.15255338, 1.00113192, 1.00316394, 1.00228959]),\n",
       "             '0.6700_0.2500_0.6400_False': array([1.1492812 , 1.00036187, 1.00074319, 1.00177372]),\n",
       "             '0.6600_0.2500_0.6300_False': array([1.00402623, 1.0013495 , 1.01773988, 1.00064164]),\n",
       "             '0.6500_0.2500_0.6200_False': array([1.00334277, 1.00151085, 1.00115424, 1.01561008]),\n",
       "             '0.6400_0.2500_0.6100_False': array([1.13944279, 1.00084549, 1.00046722, 1.00091971]),\n",
       "             '0.6300_0.2500_0.6000_False': array([1.13755129, 1.00014084, 1.0000892 , 1.00023082]),\n",
       "             '0.6200_0.2500_0.5900_False': array([1.0025474 , 1.00758154, 1.00015825, 1.0001039 ]),\n",
       "             '0.6100_0.2500_0.5800_False': array([1.00319878, 1.00007083, 1.00007336, 1.00505375]),\n",
       "             '0.6000_0.2500_0.5700_False': array([1.00146286, 1.00307724, 1.00052211, 1.00048894]),\n",
       "             '0.5900_0.2500_0.5600_False': array([1.12617823, 1.0002598 , 1.00041875, 1.00077109]),\n",
       "             '0.5800_0.2500_0.5500_False': array([1.12470486, 0.99996866, 0.99997355, 0.9999817 ]),\n",
       "             '0.5700_0.2500_0.5400_False': array([1.00200351, 0.99492632, 0.99996585, 0.99993013]),\n",
       "             '0.5600_0.2500_0.5300_False': array([1.00165704, 1.00009433, 1.00018973, 1.0000475 ]),\n",
       "             '0.5500_0.2000_0.7200_True': array([1.00045352, 1.09885147, 1.01201492, 1.00076248]),\n",
       "             '0.5400_0.2000_0.7100_False': array([1.12042629, 0.99993836, 0.99998192, 0.99999469]),\n",
       "             '0.5300_0.2000_0.7000_False': array([1.00042259, 0.99247933, 0.99994367, 0.99988384]),\n",
       "             '0.5200_0.2000_0.6900_False': array([1.00107218, 0.9904199 , 1.00017438, 1.00012709]),\n",
       "             '0.5100_0.2000_0.6800_False': array([1.11485048, 0.99990293, 0.999938  , 0.99994033]),\n",
       "             '0.5000_0.2000_0.6700_False': array([1.00120658, 1.00010292, 1.00012128, 0.98503928]),\n",
       "             '0.4900_0.2000_0.6600_False': array([1.10921896, 0.99993968, 0.99993179, 0.99991768]),\n",
       "             '0.4800_0.2000_0.6500_False': array([1.00163048, 0.9999194 , 0.9799188 , 0.99988817]),\n",
       "             '0.4700_0.2000_0.6400_False': array([1.0008287 , 1.00000359, 1.00000883, 0.97759533]),\n",
       "             '0.4600_0.2000_0.6300_False': array([1.10012213, 0.99991334, 0.99951298, 0.99986261]),\n",
       "             '0.4500_0.2000_0.6200_False': array([1.00180178, 0.97244931, 0.99989919, 0.99984346]),\n",
       "             '0.4400_0.2000_0.6100_False': array([1.00036246, 0.9998997 , 0.96979032, 0.99958918]),\n",
       "             '0.4300_0.2000_0.6000_False': array([1.00136191, 0.96729197, 0.99987547, 0.99989607]),\n",
       "             '0.4200_0.2000_0.5900_False': array([1.00076542, 0.99993358, 0.99983118, 0.96461066]),\n",
       "             '0.4100_0.2000_0.5800_False': array([1.00123469, 0.9623644 , 0.99993444, 0.99971642]),\n",
       "             '0.4000_0.2000_0.5700_False': array([1.00063399, 0.99961166, 0.99981319, 0.95994808]),\n",
       "             '0.3900_0.1600_0.7400_True': array([1.00094824, 1.00115344, 1.05752732, 1.00008806]),\n",
       "             '0.3800_0.1600_0.7300_False': array([1.00086301, 0.99912162, 0.99980611, 1.00986459]),\n",
       "             '0.9700_0.4100_0.7200_True': array([1.00010583, 1.        , 1.00008537, 1.11003162]),\n",
       "             '0.9600_0.4100_0.7100_False': array([1.13512118, 1.00002332, 1.00004942, 0.99999387]),\n",
       "             '0.9500_0.4100_0.7000_False': array([1.13510766, 1.00000342, 1.00001314, 1.00001094]),\n",
       "             '0.9400_0.4100_0.6900_False': array([1.00016305, 0.999948  , 1.00000423, 1.01001007]),\n",
       "             '0.9300_0.4100_0.6800_False': array([1.        , 1.00001316, 1.00000784, 1.02251659]),\n",
       "             '0.9200_0.3600_0.7400_True': array([1.        , 1.        , 1.        , 1.12252683]),\n",
       "             '0.9100_0.3600_0.7300_False': array([1.00009858, 1.02252018, 1.00006559, 1.00001927]),\n",
       "             '0.9000_0.3600_0.7200_False': array([1.0003288 , 1.00001781, 1.0000126 , 1.02253955]),\n",
       "             '0.8900_0.3600_0.7100_False': array([1.0010365 , 0.99970585, 1.00001987, 1.00007407]),\n",
       "             '0.8800_0.3600_0.7000_False': array([1.15760882, 1.00006276, 1.00002151, 1.00003537]),\n",
       "             '0.8700_0.3200_0.7600_True': array([1.00008306, 1.1325    , 1.00003441, 1.        ]),\n",
       "             '0.8600_0.3200_0.7500_False': array([1.        , 1.        , 0.99999858, 1.0325    ]),\n",
       "             '0.8500_0.3200_0.7400_False': array([1.    , 1.    , 1.0325, 1.    ]),\n",
       "             '0.8400_0.3200_0.7300_False': array([1.00031847, 1.        , 1.00077984, 1.0325    ]),\n",
       "             '0.8300_0.3200_0.7200_False': array([1.00118909, 1.03009791, 1.00105791, 1.00008148]),\n",
       "             '0.8200_0.3200_0.7100_False': array([1.00140409, 1.000147  , 1.03432991, 1.00004732]),\n",
       "             '0.8100_0.3200_0.7000_False': array([1.16069227, 1.00016023, 1.00023205, 1.0003569 ]),\n",
       "             '0.8000_0.3200_0.6900_False': array([1.00030286, 1.00013826, 1.03283091, 1.00029988]),\n",
       "             '0.7900_0.3200_0.6800_False': array([1.00043479, 1.00001614, 1.03017324, 1.00024774]),\n",
       "             '0.7800_0.3200_0.6700_False': array([1.00068453, 1.02750998, 1.00014861, 1.00015415]),\n",
       "             '0.7700_0.3200_0.6600_False': array([1.00124674, 0.99995728, 1.00013884, 1.02509542]),\n",
       "             '0.7600_0.3200_0.6500_False': array([1.0011878 , 1.02273644, 1.00014522, 1.00008696]),\n",
       "             '0.7500_0.3200_0.6400_False': array([1.00050383, 1.00017233, 1.02007658, 1.00027933]),\n",
       "             '0.7400_0.3200_0.6300_False': array([1.00023959, 1.0176306 , 1.00020546, 1.00006913]),\n",
       "             '0.7300_0.3200_0.6200_False': array([1.00021432, 1.01507876, 1.00007139, 1.00026872]),\n",
       "             '0.7200_0.3200_0.6100_False': array([1.00124839, 1.0400035 , 1.00008359, 1.00001844]),\n",
       "             '0.7100_0.2500_0.7600_True': array([1.        , 1.13753722, 1.        , 1.        ]),\n",
       "             '0.7000_0.2500_0.7500_False': array([1.16      , 1.        , 1.        , 1.00003483]),\n",
       "             '0.6900_0.2500_0.7400_False': array([1.00010721, 1.0325    , 1.00001828, 1.        ]),\n",
       "             '0.6800_0.2500_0.7300_False': array([1.155     , 1.00002016, 1.00000963, 1.        ]),\n",
       "             '0.6700_0.2500_0.7200_False': array([1.00048114, 1.00002996, 1.02749074, 1.00011237]),\n",
       "             '0.6600_0.2500_0.7100_False': array([1.00052972, 0.99988595, 1.0000311 , 1.02501452]),\n",
       "             '0.6500_0.2500_0.7000_False': array([1.00004017, 1.00005272, 1.02298278, 1.00003957]),\n",
       "             '0.6400_0.2500_0.6900_False': array([1.0010907 , 1.00034269, 1.0202714 , 1.00116502]),\n",
       "             '0.6300_0.2500_0.6800_False': array([1.14491444, 1.00059948, 1.00027936, 1.00005188]),\n",
       "             '0.6200_0.2500_0.6700_False': array([1.0023432 , 1.01513252, 1.00060472, 1.0001153 ]),\n",
       "             '0.6100_0.2500_0.6600_False': array([1.00164707, 1.00032896, 1.01380706, 1.00052276]),\n",
       "             '0.6000_0.2500_0.6500_False': array([1.13598456, 1.00013906, 1.0001808 , 1.00032924]),\n",
       "             '0.5900_0.2500_0.6400_False': array([1.00455969, 1.00799601, 1.00037985, 1.00033957]),\n",
       "             '0.5800_0.2500_0.6300_False': array([1.13287692, 1.00061974, 1.00030903, 1.00037874]),\n",
       "             '0.5700_0.2500_0.6200_False': array([1.12882582, 1.00001511, 1.0000775 , 1.00002168]),\n",
       "             '0.5600_0.2500_0.6100_False': array([1.00045145, 1.00000136, 1.00000193, 1.00000206]),\n",
       "             '0.5500_0.2000_0.7600_True': array([1.1225    , 1.00002572, 1.00010225, 1.00002247]),\n",
       "             '0.5400_0.2000_0.7500_True': array([1.12      , 1.        , 1.        , 1.00001941]),\n",
       "             '0.5300_0.2000_0.7400_True': array([1.1175    , 1.00003186, 1.00002894, 1.0003264 ]),\n",
       "             '0.5200_0.2000_0.7300_True': array([1.00003421, 1.09      , 1.        , 1.00004808]),\n",
       "             '0.5100_0.2000_0.7200_False': array([1.00039851, 0.98749503, 0.99999283, 0.99999435]),\n",
       "             '0.5000_0.2000_0.7100_False': array([1.00029046, 0.98496311, 0.99998738, 0.99999607]),\n",
       "             '0.4900_0.2000_0.7000_False': array([1.0005101 , 1.00000915, 0.99999564, 0.98250998]),\n",
       "             '0.4800_0.2000_0.6900_False': array([1.10503674, 0.99999464, 1.00000104, 1.00000394]),\n",
       "             '0.4700_0.2000_0.6800_False': array([1.10254489, 0.99999407, 0.99997251, 0.9999853 ]),\n",
       "             '0.4600_0.2000_0.6700_False': array([1.0000584 , 0.99997849, 0.97499506, 0.99999109]),\n",
       "             '0.4500_0.2000_0.6600_False': array([1.00003475, 0.99999275, 0.99999053, 0.97248226]),\n",
       "             '0.4400_0.2000_0.6500_False': array([1.0000403 , 0.99999023, 0.99999789, 0.97      ]),\n",
       "             '0.4300_0.2000_0.6400_False': array([1.09259095, 1.        , 0.99999604, 0.99999707]),\n",
       "             '0.4200_0.2000_0.6300_False': array([1.09003146, 0.99999135, 1.        , 1.        ]),\n",
       "             '0.4100_0.2000_0.6200_False': array([1.0875    , 0.99999011, 1.        , 0.99997372]),\n",
       "             '0.4000_0.2000_0.6100_False': array([1.        , 1.        , 0.95997898, 0.99998946]),\n",
       "             '0.3900_0.2000_0.6000_False': array([1.00005782, 1.        , 0.9575    , 1.        ]),\n",
       "             '0.3800_0.2000_0.5900_False': array([1.00002758, 0.955     , 1.        , 0.99999052]),\n",
       "             '0.3700_0.2000_0.5800_False': array([1.07752071, 1.        , 1.        , 1.        ]),\n",
       "             '0.3600_0.1600_0.7500_True': array([1.00034236, 1.05008073, 1.        , 1.00006184]),\n",
       "             '0.3500_0.1600_0.7400_False': array([1.00004027, 0.99986361, 1.        , 0.94744521]),\n",
       "             '0.3400_0.1600_0.7300_False': array([1.00010835, 0.94497628, 0.99995185, 0.99979504]),\n",
       "             '0.3300_0.1600_0.7200_False': array([1.06774549, 0.99979833, 0.99996713, 0.99997482]),\n",
       "             '0.3200_0.1600_0.7100_False': array([1.00029545, 0.94001239, 0.99976891, 0.99994695]),\n",
       "             '0.3100_0.1600_0.7000_False': array([1.00005525, 0.99976471, 0.93736434, 0.99989891]),\n",
       "             '0.3000_0.1600_0.6900_False': array([1.        , 0.99977762, 0.99983006, 0.93490944]),\n",
       "             '0.2900_0.1600_0.6800_False': array([1.00006393, 0.93239765, 0.9999431 , 0.99983068]),\n",
       "             '0.2800_0.1600_0.6700_False': array([1.05500947, 0.99975734, 0.99995081, 0.99979617]),\n",
       "             '0.2700_0.1600_0.6600_False': array([1.        , 0.92734473, 0.99995139, 0.99982691]),\n",
       "             '0.2600_0.1600_0.6500_False': array([1.05001168, 0.99998279, 0.99977835, 0.99971409]),\n",
       "             '0.2500_0.1600_0.6400_False': array([1.00019434, 0.9999663 , 0.99978285, 0.92248976]),\n",
       "             '0.2400_0.1600_0.6300_False': array([1.04501889, 0.99994598, 0.99974849, 0.99982466]),\n",
       "             '0.2300_0.1600_0.6200_False': array([1.04263698, 0.99979996, 1.        , 0.99995144]),\n",
       "             '0.2200_0.1600_0.6100_False': array([1.00012145, 1.        , 0.99998025, 0.91475696]),\n",
       "             '0.2100_0.1600_0.6000_False': array([1.00011029, 0.99972784, 0.99994199, 0.91247661]),\n",
       "             '0.2000_0.1200_0.7600_True': array([1.03506698, 1.00018273, 1.00001738, 1.00040862]),\n",
       "             '0.1900_0.1200_0.7500_True': array([1.00000755, 1.00002637, 1.00753671, 1.00000288]),\n",
       "             '0.1800_0.1200_0.7400_False': array([1.00125931, 1.0197622 , 0.99844296, 1.00001626]),\n",
       "             '0.7700_0.3700_0.7300_True': array([1.00024891, 1.12004393, 1.00018741, 1.00062978]),\n",
       "             '0.7600_0.3700_0.7200_False': array([1.00011518, 1.00003321, 1.0202036 , 1.00002345]),\n",
       "             '0.7500_0.3700_0.7100_False': array([1.00022584, 1.00025066, 1.00007807, 1.0200463 ]),\n",
       "             '0.7400_0.3700_0.7000_False': array([1.00028084, 1.00024886, 1.00005375, 1.02002641]),\n",
       "             '0.7300_0.3700_0.6900_False': array([1.00135961, 1.00008343, 1.02001614, 1.00005977]),\n",
       "             '0.7200_0.3700_0.6800_False': array([1.00004331, 1.00000929, 1.00008273, 1.02012046]),\n",
       "             '0.7100_0.3700_0.6700_False': array([1.00015291, 1.02029251, 1.00010763, 1.00006702]),\n",
       "             '0.7000_0.3700_0.6600_False': array([1.14564354, 1.00009069, 1.00007161, 1.00012693]),\n",
       "             '0.6900_0.3700_0.6500_False': array([1.14511316, 1.00000527, 1.00012449, 1.00008825]),\n",
       "             '0.6800_0.3700_0.6400_False': array([1.00021883, 1.00033875, 1.00007749, 1.02004161]),\n",
       "             '0.6700_0.3700_0.6300_False': array([1.142612  , 1.00003824, 1.00012845, 1.00001872]),\n",
       "             '0.6600_0.3700_0.6200_False': array([1.00014703, 1.01529604, 1.0000833 , 1.0000221 ]),\n",
       "             '0.6500_0.3700_0.6100_False': array([1.1376759 , 1.00000313, 1.00008169, 1.00003632]),\n",
       "             '0.6400_0.3700_0.6000_False': array([1.000166  , 1.00005467, 1.0000376 , 1.0101376 ]),\n",
       "             '0.6300_0.3700_0.5900_False': array([1.13261219, 1.00000804, 1.00001889, 1.00005663]),\n",
       "             '0.6200_0.3700_0.5800_False': array([1.14009472, 1.00002211, 1.        , 1.        ]),\n",
       "             '0.6100_0.2900_0.7500_True': array([1.13773651, 1.00061022, 1.00004024, 1.00023751]),\n",
       "             '0.6000_0.2900_0.7400_True': array([1.00004134, 1.11      , 1.        , 1.00031637]),\n",
       "             '0.5900_0.2900_0.7300_False': array([1.00103013, 1.00019832, 1.00019065, 1.00820456]),\n",
       "             '0.5800_0.2900_0.7200_False': array([1.13161988, 1.00004173, 1.00004134, 1.00000736]),\n",
       "             '0.5700_0.2900_0.7100_False': array([1.00131974, 1.00000497, 1.00004486, 1.00250478]),\n",
       "             '0.5600_0.2900_0.7000_False': array([1.0005293 , 1.00000087, 1.00000195, 1.00000297]),\n",
       "             '0.5500_0.2900_0.6900_False': array([1.00311474, 0.99749815, 0.99999885, 0.99999798]),\n",
       "             '0.5400_0.2900_0.6800_False': array([1.00017405, 0.99999807, 0.99490418, 0.99999849]),\n",
       "             '0.5300_0.2900_0.6700_False': array([1.000081  , 0.99999097, 0.99244537, 0.99987903]),\n",
       "             '0.5200_0.2900_0.6600_False': array([1.00002571, 0.98996685, 0.99977716, 0.9999928 ]),\n",
       "             '0.5100_0.2900_0.6500_False': array([1.00007181, 0.98758435, 1.00007422, 1.00022803]),\n",
       "             '0.5000_0.2900_0.6400_False': array([1.11001864, 0.99999674, 0.99967675, 0.99991884]),\n",
       "             '0.4900_0.2900_0.6300_False': array([1.00180291, 0.98248716, 0.99985974, 0.99996555]),\n",
       "             '0.4800_0.2900_0.6200_False': array([1.00010681, 0.97991951, 0.99959027, 0.99998309]),\n",
       "             '0.4700_0.2900_0.6100_False': array([1.00043529, 0.97715913, 0.99999503, 0.99996211]),\n",
       "             '0.4600_0.2900_0.6000_False': array([1.00003864, 1.        , 0.99988147, 0.97499453]),\n",
       "             '0.4500_0.2900_0.5900_False': array([1.0975, 1.    , 1.    , 1.    ]),\n",
       "             '0.4400_0.2300_0.7500_True': array([1.09501941, 1.00002055, 1.        , 1.00037869]),\n",
       "             '0.4300_0.2300_0.7400_True': array([1.00002535, 1.00001503, 1.0675    , 1.        ]),\n",
       "             '0.4200_0.2300_0.7300_False': array([1.0003871 , 0.99991918, 0.99985234, 0.99232846]),\n",
       "             '1.0000_0.4800_0.7200_True': array([1.00022707, 1.00012363, 1.09253458, 1.0048374 ]),\n",
       "             '0.9900_0.4800_0.7100_False': array([1.00007232, 0.99998405, 0.93000993, 0.99960885]),\n",
       "             '1.0000_0.7300_0.7000_True': array([1.00645956, 1.00027759, 1.00080518, 1.03111192]),\n",
       "             '0.9900_0.7300_0.6900_False': array([1.00027525, 0.9285308 , 0.99971444, 0.99760673]),\n",
       "             '0.9800_0.7300_0.6800_False': array([1.05572432, 0.99920939, 0.99742827, 0.99897892]),\n",
       "             '0.9700_0.7300_0.6700_False': array([1.00031959, 0.92704593, 0.99870941, 0.99949019]),\n",
       "             '0.9600_0.7300_0.6600_False': array([1.0751578 , 0.99894732, 0.99925998, 0.98781867]),\n",
       "             '0.9500_0.6500_0.7200_True': array([1.00085484, 1.00063892, 1.00021916, 1.05098479]),\n",
       "             '0.9400_0.6500_0.7100_False': array([1.0000467 , 0.94959722, 0.99986374, 0.9989478 ]),\n",
       "             '0.9300_0.6500_0.7000_False': array([1.07543686, 0.99972811, 0.99914014, 0.9985153 ]),\n",
       "             '0.9200_0.6500_0.6900_False': array([1.00018384, 0.99983453, 0.94916583, 0.99863767]),\n",
       "             '0.9100_0.6500_0.6800_False': array([1.00059659, 0.96709478, 0.99993646, 0.99913918]),\n",
       "             '0.9000_0.5800_0.7400_True': array([1.00067794, 1.06770933, 1.00174049, 1.        ]),\n",
       "             '0.8900_0.5800_0.7300_False': array([1.00074693, 0.96744987, 0.99987472, 0.99989404]),\n",
       "             '0.8800_0.5800_0.7200_False': array([1.00024574, 0.96740105, 0.99987027, 0.99985356]),\n",
       "             '0.8700_0.5800_0.7100_False': array([1.00074597, 0.99977888, 0.96749366, 0.99997333]),\n",
       "             '0.8600_0.5800_0.7000_False': array([1.00003885, 1.        , 0.99983584, 0.9675    ]),\n",
       "             '0.8500_0.5800_0.6900_False': array([1.09278219, 0.99999154, 1.        , 0.99959558]),\n",
       "             '0.8400_0.5800_0.6800_False': array([1.00004531, 0.9675    , 0.9997379 , 0.99986782]),\n",
       "             '0.8300_0.5800_0.6700_False': array([1.00076999, 0.9998671 , 0.9674755 , 0.99999257]),\n",
       "             '0.8200_0.5800_0.6600_False': array([1.00004266, 0.96747942, 0.99999759, 0.99994027]),\n",
       "             '0.8100_0.5800_0.6500_False': array([1.09251806, 0.99999227, 0.99931404, 0.99998515]),\n",
       "             '0.8000_0.5800_0.6400_False': array([1.00011919, 0.96718083, 0.99975519, 0.99999227]),\n",
       "             '0.7900_0.5800_0.6300_False': array([1.        , 0.96737083, 0.99974852, 0.99971842]),\n",
       "             '0.7800_0.5800_0.6200_False': array([1.00016493, 0.999486  , 0.96749369, 0.9999849 ]),\n",
       "             '0.7700_0.5800_0.6100_False': array([1.00054768, 0.96730343, 0.99999262, 0.99999261]),\n",
       "             '0.7600_0.5800_0.6000_False': array([1.00077003, 0.96740013, 0.99994977, 0.99998522]),\n",
       "             '0.7500_0.5800_0.5900_False': array([1.00071539, 0.99749272, 0.99999227, 0.99973275]),\n",
       "             '0.7400_0.4600_0.7500_True': array([1.12252996, 1.00042107, 1.00006527, 1.        ]),\n",
       "             '0.7300_0.4600_0.7400_True': array([1.00003188, 1.09790249, 1.00002356, 1.00015199]),\n",
       "             '0.7200_0.4600_0.7300_False': array([1.00004335, 0.99999939, 0.99748668, 0.99996992]),\n",
       "             '0.7100_0.4600_0.7200_False': array([1.00071991, 0.99999846, 0.99749796, 0.99998161]),\n",
       "             '0.7000_0.4600_0.7100_False': array([1.00008942, 0.99997761, 0.99998792, 0.99749896]),\n",
       "             '0.6900_0.4600_0.7000_False': array([1.00020514, 0.99753071, 1.00017537, 1.00015369]),\n",
       "             '0.6800_0.4600_0.6900_False': array([1.12253207, 1.00012177, 1.0001344 , 1.00009614]),\n",
       "             '0.6700_0.4600_0.6800_False': array([1.1229016 , 1.00000278, 0.99998782, 0.99999031]),\n",
       "             '0.6600_0.4600_0.6700_False': array([1.0001713 , 0.99997356, 1.        , 0.99749864]),\n",
       "             '0.6500_0.4600_0.6600_False': array([1.00097673, 0.99999794, 0.99749912, 0.99999035]),\n",
       "             '0.6400_0.4600_0.6500_False': array([1.00003802, 0.99998787, 0.99998777, 0.99749473]),\n",
       "             '0.6300_0.4600_0.6400_False': array([1.00056833, 0.99998766, 0.99999858, 0.99754912]),\n",
       "             '0.6200_0.4600_0.6300_False': array([1.0000742 , 0.99998661, 0.99749235, 1.        ]),\n",
       "             '0.6100_0.4600_0.6200_False': array([1.00060414, 0.99998849, 0.9975    , 0.99999803]),\n",
       "             '0.6000_0.4600_0.6100_False': array([1.00050523, 0.99749036, 0.99999861, 0.99999858]),\n",
       "             '0.5900_0.4600_0.6000_False': array([1.        , 1.00003103, 0.99749628, 1.00000162]),\n",
       "             '0.5800_0.4600_0.5900_False': array([1.0001109 , 1.0000091 , 1.00001037, 1.00512862]),\n",
       "             '0.5700_0.3600_0.7500_True': array([1.00105792, 1.00012505, 1.00074815, 1.10256964]),\n",
       "             '0.5600_0.3600_0.7400_False': array([1.00044429, 1.00000018, 0.99997004, 0.99979327]),\n",
       "             '0.5500_0.3600_0.7300_False': array([1.00044578, 0.999984  , 0.99997792, 0.99749569]),\n",
       "             '0.5400_0.3600_0.7200_False': array([1.0003208 , 0.99994116, 0.99498665, 0.99998615]),\n",
       "             '0.5300_0.3600_0.7100_False': array([1.00033914, 0.99249257, 0.99991349, 0.99999858]),\n",
       "             '0.5200_0.3200_0.7600_True': array([1.00135319, 1.00069328, 1.09068765, 1.00192451]),\n",
       "             '0.5100_0.3200_0.7500_False': array([1.09336303, 0.99983388, 0.99990388, 0.99993329]),\n",
       "             '1.0000_0.5800_0.7400_True': array([1.1127825 , 1.0214892 , 1.00267186, 1.00294769]),\n",
       "             '0.9900_0.5800_0.7300_True': array([1.01303568, 1.00114671, 1.07203479, 1.00062039]),\n",
       "             '0.9800_0.5800_0.7200_False': array([1.0317955 , 0.98351496, 0.99899057, 0.99925847]),\n",
       "             '1.0000_0.8300_0.7100_True': array([1.00054459, 1.00071234, 1.00030484, 1.00530345]),\n",
       "             '0.9900_0.8300_0.7000_False': array([0.98124868, 0.87496211, 0.96471342, 0.88616064]),\n",
       "             '0.9800_0.8300_0.6900_False': array([0.9991974 , 0.90272926, 0.99673498, 0.97808669]),\n",
       "             '0.9700_0.8300_0.6800_False': array([1.00030969, 0.99020991, 0.89674574, 0.99651842]),\n",
       "             '0.9600_0.8300_0.6700_False': array([1.0004281 , 0.92724385, 0.987827  , 0.99156286]),\n",
       "             '0.9500_0.7400_0.7300_True': array([1.05296533, 1.00222183, 1.00005211, 1.00013169]),\n",
       "             '0.9400_0.7400_0.7200_True': array([1.00021431, 1.00033758, 1.02754554, 1.00006518]),\n",
       "             '0.9300_0.7400_0.7100_False': array([1.00075532, 0.86467475, 0.9994562 , 0.99466084]),\n",
       "             '1.0000_0.9900_0.7000_True': array([0.99989211, 0.96453905, 0.99953823, 0.99969762]),\n",
       "             '0.9900_0.9900_0.6900_False': array([0.99262281, 0.98621685, 0.99624956, 0.85530626]),\n",
       "             '0.9800_0.9900_0.6800_False': array([0.99989483, 0.99938603, 0.86286507, 0.99867357]),\n",
       "             '0.9700_0.9900_0.6700_False': array([0.9999056 , 0.99912385, 0.99969487, 0.86316623]),\n",
       "             '0.9600_0.9900_0.6600_False': array([0.99999673, 0.99959748, 0.99883442, 0.86302105]),\n",
       "             '0.9500_0.9900_0.6500_False': array([0.99999213, 0.999585  , 0.99913125, 0.86337576]),\n",
       "             '0.9400_0.9900_0.6400_False': array([0.99986374, 0.9998779 , 0.86475101, 0.99890771]),\n",
       "             '0.9300_0.9900_0.6300_False': array([0.98998573, 0.99730629, 0.99966212, 0.99990513]),\n",
       "             '0.9200_0.9900_0.6200_False': array([0.9898946 , 0.99952812, 0.99909635, 0.99988704]),\n",
       "             '0.9100_0.9900_0.6100_False': array([0.99998825, 0.99824709, 0.86466215, 0.99897594]),\n",
       "             '0.9000_0.9900_0.6000_False': array([0.9999295 , 0.86478728, 0.99984336, 0.99800673]),\n",
       "             '0.8900_0.9900_0.5900_False': array([0.99998846, 0.99973436, 0.99970873, 0.86299713]),\n",
       "             '0.8800_0.9900_0.5800_False': array([0.99998276, 0.99744361, 0.86480205, 0.99966939]),\n",
       "             '0.8700_0.9900_0.5700_False': array([0.99998396, 0.99962164, 0.99759367, 0.86471261]),\n",
       "             '0.8600_0.9900_0.5600_False': array([0.99996863, 0.99821836, 0.99904429, 0.86483125]),\n",
       "             '0.8500_0.9900_0.5500_False': array([1.00006826, 0.91432916, 0.99986573, 0.99961387]),\n",
       "             '0.8400_0.7900_0.7300_True': array([1.04013539, 1.0000137 , 1.00005616, 1.00021024]),\n",
       "             '0.8300_0.7900_0.7200_True': array([1.00003992, 1.0000194 , 1.00002024, 1.01507821]),\n",
       "             '0.8200_0.7900_0.7100_False': array([0.99740718, 0.91491561, 0.99991243, 0.99984974]),\n",
       "             '0.8100_0.7900_0.7000_False': array([1.00029978, 0.99987405, 0.91420036, 0.99869278]),\n",
       "             '0.8000_0.7900_0.6900_False': array([1.00092174, 0.99985793, 0.91483855, 0.99985969]),\n",
       "             '0.7900_0.7900_0.6800_False': array([1.0000648 , 0.93491329, 0.99964274, 0.9999295 ]),\n",
       "             '0.7800_0.7100_0.7400_True': array([1.06008365, 1.00000826, 1.00003235, 1.00020026]),\n",
       "             '0.7700_0.7100_0.7300_True': array([1.06009021, 1.00003242, 1.00012149, 1.0000098 ]),\n",
       "             '0.7600_0.7100_0.7200_True': array([1.        , 1.03504855, 1.00001272, 1.00003785]),\n",
       "             '0.7500_0.7100_0.7100_False': array([1.06011309, 0.99978158, 0.99960749, 0.99947166]),\n",
       "             '0.7400_0.7100_0.7000_False': array([1.0600902 , 0.99989372, 0.99997213, 0.99968903]),\n",
       "             '0.7300_0.7100_0.6900_False': array([1.06013555, 0.99994745, 0.99995204, 0.99994879]),\n",
       "             '0.7200_0.7100_0.6800_False': array([1.00003348, 0.93487701, 0.99994111, 0.99995668]),\n",
       "             '0.7100_0.7100_0.6700_False': array([1.00003432, 0.99998467, 0.9998685 , 0.93493441]),\n",
       "             '0.7000_0.7100_0.6600_False': array([1.00003785, 0.99989699, 0.935     , 0.99987257]),\n",
       "             '0.6900_0.7100_0.6500_False': array([1.00008859, 0.99998467, 0.99993447, 0.93492901]),\n",
       "             '0.6800_0.7100_0.6400_False': array([1.0001148 , 0.93496463, 0.99997553, 0.99994302]),\n",
       "             '0.6700_0.7100_0.6300_False': array([1.06005337, 0.99993316, 0.99994921, 0.99992323]),\n",
       "             '0.6600_0.7100_0.6200_False': array([1.00007823, 0.93494927, 0.99997751, 0.9999034 ]),\n",
       "             '0.6500_0.7100_0.6100_False': array([1.00007921, 0.99988384, 0.9999638 , 0.93497504]),\n",
       "             '0.6400_0.7100_0.6000_False': array([1.00009594, 0.99999217, 0.93498876, 0.99990192]),\n",
       "             '0.6300_0.7100_0.5900_False': array([1.06      , 0.99996292, 0.99993668, 0.99995634]),\n",
       "             '0.6200_0.7100_0.5800_False': array([1.00005845, 0.99997476, 1.        , 0.93498905]),\n",
       "             '0.6100_0.7100_0.5700_False': array([1.        , 0.97249924, 1.        , 0.99998998]),\n",
       "             '0.6000_0.5600_0.7400_True': array([1.        , 1.00007063, 1.00001628, 1.0725    ]),\n",
       "             '0.5900_0.5600_0.7300_False': array([1.        , 0.97248137, 0.99999049, 0.99995051]),\n",
       "             '0.5800_0.5600_0.7200_False': array([1.00011976, 1.        , 0.9725    , 0.99997477]),\n",
       "             '0.5700_0.5600_0.7100_False': array([1.00009498, 0.9999764 , 0.9725    , 0.99999059]),\n",
       "             '0.5600_0.5600_0.7000_False': array([1.        , 1.        , 0.99998108, 0.98747006]),\n",
       "             '0.5500_0.5000_0.7600_True': array([1.        , 1.0875    , 1.00003053, 1.        ]),\n",
       "             '0.5400_0.5000_0.7500_False': array([1.1125    , 1.        , 0.99998104, 1.        ]),\n",
       "             '0.5300_0.5000_0.7400_False': array([1.    , 1.    , 0.9875, 1.    ]),\n",
       "             '0.5200_0.5000_0.7300_False': array([1.11251958, 1.        , 0.99999572, 1.        ]),\n",
       "             '0.5100_0.5000_0.7200_False': array([1.00002611, 0.98749679, 1.        , 1.        ]),\n",
       "             '0.5000_0.5000_0.7100_False': array([1.        , 1.00000244, 0.985     , 1.0000036 ]),\n",
       "             '0.4900_0.5000_0.7000_False': array([1.1075    , 1.        , 0.99999401, 0.99999594]),\n",
       "             '0.4800_0.5000_0.6900_False': array([1.        , 1.        , 0.98      , 0.99999536]),\n",
       "             '0.4700_0.5000_0.6800_False': array([1.        , 1.        , 0.99999478, 0.9775    ]),\n",
       "             '0.4600_0.5000_0.6700_False': array([1.        , 0.99999957, 0.975     , 1.        ]),\n",
       "             '0.4500_0.5000_0.6600_False': array([1.0975    , 1.        , 0.99999885, 1.        ]),\n",
       "             '0.4400_0.5000_0.6500_False': array([1.095     , 1.        , 1.        , 0.99999304]),\n",
       "             '0.4300_0.5000_0.6400_False': array([1.        , 0.99999246, 1.        , 0.9675    ]),\n",
       "             '0.4200_0.5000_0.6300_False': array([1.        , 0.99999188, 1.        , 0.965     ]),\n",
       "             '0.4100_0.5000_0.6200_False': array([1.00002031, 1.        , 1.        , 0.9625    ]),\n",
       "             '0.4000_0.5000_0.6100_False': array([1.        , 1.        , 0.96      , 0.99999072]),\n",
       "             '0.3900_0.4000_0.7600_True': array([1.0825    , 1.        , 1.00001353, 1.        ]),\n",
       "             '0.3800_0.4000_0.7500_True': array([1.00002463, 1.05502928, 1.        , 1.        ]),\n",
       "             '0.3700_0.4000_0.7400_False': array([1.        , 0.99996629, 0.9525    , 1.        ]),\n",
       "             '0.3600_0.4000_0.7300_False': array([1.        , 0.94998845, 1.        , 0.99996451]),\n",
       "             '0.3500_0.4000_0.7200_False': array([1.        , 0.99994658, 1.        , 0.9475    ]),\n",
       "             '0.3400_0.4000_0.7100_False': array([1.00007123, 1.        , 1.        , 0.945     ]),\n",
       "             '0.3300_0.4000_0.7000_False': array([1.        , 0.9999823 , 1.        , 0.94248035]),\n",
       "             '0.3200_0.4000_0.6900_False': array([1.065     , 1.        , 0.99995742, 1.        ]),\n",
       "             '0.3100_0.4000_0.6800_False': array([1.00004436, 1.        , 1.        , 0.9375    ]),\n",
       "             '0.3000_0.4000_0.6700_False': array([1.        , 0.935     , 0.99995387, 1.        ]),\n",
       "             '0.2900_0.4000_0.6600_False': array([1.00005008, 0.9325    , 1.        , 1.        ]),\n",
       "             '0.2800_0.4000_0.6500_False': array([1.055     , 1.        , 0.99995032, 1.        ]),\n",
       "             '0.2700_0.4000_0.6400_False': array([1.        , 0.92746141, 1.        , 1.        ]),\n",
       "             '0.2600_0.4000_0.6300_False': array([1.        , 1.        , 0.925     , 0.99995478]),\n",
       "             '0.2500_0.4000_0.6200_False': array([1.0475  , 1.      , 1.      , 0.999945]),\n",
       "             '0.2400_0.4000_0.6100_False': array([1.        , 1.        , 0.91996458, 1.        ]),\n",
       "             '0.2300_0.4000_0.6000_False': array([1.0425    , 0.99994398, 1.        , 1.        ]),\n",
       "             '0.2200_0.3200_0.7600_True': array([1.        , 1.        , 1.015     , 1.00001065]),\n",
       "             '0.2100_0.3200_0.7500_False': array([1.       , 0.9675   , 0.9999379, 1.       ]),\n",
       "             '0.8000_0.5800_0.7400_True': array([1.    , 1.    , 1.    , 1.0675]),\n",
       "             '0.7900_0.5800_0.7300_False': array([1.0925, 1.    , 1.    , 1.    ]),\n",
       "             '0.7800_0.5800_0.7200_False': array([1.        , 0.9675    , 1.        , 0.99998991]),\n",
       "             '0.7700_0.5800_0.7100_False': array([1.        , 0.99999196, 0.9675    , 0.999996  ]),\n",
       "             '0.7600_0.5800_0.7000_False': array([1.1075    , 0.99994463, 0.99998992, 0.999375  ]),\n",
       "             '0.7500_0.5200_0.7600_True': array([1.1075, 1.    , 1.    , 1.    ]),\n",
       "             '0.7400_0.5200_0.7500_True': array([1.0001281 , 1.0825    , 1.00022794, 1.        ]),\n",
       "             '0.7300_0.5200_0.7400_False': array([1.000083  , 1.        , 0.99992577, 0.9825    ]),\n",
       "             '0.7200_0.5200_0.7300_False': array([1.        , 0.98248437, 0.99982489, 0.99999396]),\n",
       "             '0.7100_0.5200_0.7200_False': array([1.        , 0.98249547, 0.99997915, 0.99846154]),\n",
       "             '0.7000_0.5200_0.7100_False': array([1.        , 1.        , 0.98247984, 1.        ]),\n",
       "             '0.6900_0.5200_0.7000_False': array([1.        , 0.99997907, 0.9825    , 1.        ]),\n",
       "             '0.6800_0.5200_0.6900_False': array([1.00009966, 0.98248437, 1.        , 1.        ]),\n",
       "             '0.6700_0.5200_0.6800_False': array([1.00012805, 0.99998378, 0.9825    , 1.        ]),\n",
       "             '0.6600_0.5200_0.6700_False': array([1.        , 0.9825    , 0.99998378, 0.99997915]),\n",
       "             '0.6500_0.5200_0.6600_False': array([1.        , 0.9825    , 1.        , 0.99997684]),\n",
       "             '0.6400_0.5200_0.6500_False': array([1.        , 1.        , 0.99997915, 0.9825    ]),\n",
       "             '0.6300_0.5200_0.6400_False': array([1.        , 1.        , 0.9825    , 0.99997915]),\n",
       "             '0.6200_0.5200_0.6300_False': array([1.00012805, 1.        , 0.9825    , 1.        ]),\n",
       "             '0.6100_0.5200_0.6200_False': array([1.        , 1.        , 0.98248437, 1.        ]),\n",
       "             '0.6000_0.5200_0.6100_False': array([1.00016554, 0.9825    , 1.        , 1.        ]),\n",
       "             '0.5900_0.5200_0.6000_False': array([1.1325    , 1.        , 1.        , 0.99997915]),\n",
       "             '0.5800_0.4100_0.7600_True': array([1.13004968, 1.00014501, 1.00262728, 1.00012502]),\n",
       "             '0.5700_0.4100_0.7500_True': array([1.        , 1.0015492 , 1.10283595, 1.00012272]),\n",
       "             '0.5600_0.4100_0.7400_False': array([1.00252628, 0.94751563, 1.00000001, 1.        ]),\n",
       "             '1.0000_0.6600_0.7300_True': array([1.07417949, 1.00169256, 1.00261495, 1.00339124]),\n",
       "             '0.9900_0.6600_0.7200_True': array([1.00143621, 1.04759197, 1.0000998 , 1.00005661]),\n",
       "             '0.9800_0.6600_0.7100_False': array([1.00186384, 0.99695614, 0.94661186, 0.9996669 ]),\n",
       "             '0.9700_0.6600_0.7000_False': array([1.00253892, 0.99799427, 0.94705958, 0.9990541 ]),\n",
       "             '0.9600_0.6600_0.6900_False': array([1.07395887, 0.99867541, 0.99808754, 0.99901527]),\n",
       "             '0.9500_0.6600_0.6800_False': array([1.00105246, 0.99903979, 0.9992346 , 0.94723506]),\n",
       "             '0.9400_0.6600_0.6700_False': array([1.00073384, 0.9992049 , 0.94701134, 0.99890916]),\n",
       "             '0.9300_0.6600_0.6600_False': array([1.00125664, 0.99964276, 0.99914313, 0.94700325]),\n",
       "             '0.9200_0.6600_0.6500_False': array([1.0010333 , 0.99901208, 0.99943318, 0.94713505]),\n",
       "             '0.9100_0.6600_0.6400_False': array([1.00028106, 0.99938788, 0.99946015, 0.94711723]),\n",
       "             '0.9000_0.6600_0.6300_False': array([1.07300253, 0.99914596, 0.99893392, 0.99966146]),\n",
       "             '0.8900_0.6600_0.6200_False': array([1.0011557 , 0.99895574, 0.9996719 , 0.94709915]),\n",
       "             '0.8800_0.6600_0.6100_False': array([1.00107381, 0.99971959, 0.94711028, 0.99883644]),\n",
       "             '0.8700_0.6600_0.6000_False': array([1.00123539, 0.947198  , 0.99912395, 0.99943072]),\n",
       "             '0.8600_0.6600_0.5900_False': array([1.00130042, 0.99956076, 0.9994416 , 0.94729035]),\n",
       "             '0.8500_0.6600_0.5800_False': array([1.0735455 , 0.9998129 , 0.99983266, 0.99978234]),\n",
       "             '0.8400_0.6600_0.5700_False': array([1.10770922, 0.99974603, 0.99976769, 0.99998017]),\n",
       "             '0.8300_0.5200_0.7400_True': array([1.10980143, 1.00099783, 1.00091818, 1.00064125]),\n",
       "             '0.8200_0.5200_0.7300_True': array([1.11120159, 1.00099125, 1.00147449, 1.00016469]),\n",
       "             '0.8100_0.5200_0.7200_True': array([1.00021056, 1.0825    , 1.00004301, 1.00307007]),\n",
       "             '0.8000_0.5200_0.7100_False': array([1.00918403, 1.00047591, 0.98272212, 1.00330986]),\n",
       "             '0.7900_0.5200_0.7000_False': array([1.10848424, 0.99906936, 0.99283833, 0.99964839]),\n",
       "             '0.7800_0.5200_0.6900_False': array([1.00228278, 0.98228435, 0.99281619, 0.9992265 ]),\n",
       "             '0.7700_0.5200_0.6800_False': array([1.00259364, 0.99294246, 0.98253445, 0.999907  ]),\n",
       "             '0.7600_0.5200_0.6700_False': array([1.04516405, 0.99985834, 0.98247338, 0.99994351]),\n",
       "             '0.7500_0.5200_0.6600_False': array([1.04458427, 0.99989631, 0.99975182, 0.98226673]),\n",
       "             '0.7400_0.5200_0.6500_False': array([1.00262621, 1.00331425, 1.00029948, 0.98283903]),\n",
       "             '0.7300_0.5200_0.6400_False': array([1.15052742, 1.00038421, 1.00038636, 1.00014957]),\n",
       "             '0.7200_0.5200_0.6300_False': array([1.15121112, 1.00023084, 1.00031116, 1.00014731]),\n",
       "             '0.7100_0.5200_0.6200_False': array([1.14064266, 0.99964162, 0.99988746, 0.99971551]),\n",
       "             '0.7000_0.5200_0.6100_False': array([1.0015103 , 0.99296401, 0.98249664, 0.99994429]),\n",
       "             '0.6900_0.5200_0.6000_False': array([1.05564572, 0.98272858, 1.00024983, 1.00019614]),\n",
       "             '0.6800_0.5200_0.5900_False': array([1.10770831, 0.99985466, 1.00006074, 1.00000532]),\n",
       "             '0.6700_0.5200_0.5800_False': array([1.00003792, 0.98251481, 1.0000069 , 1.00009327]),\n",
       "             '0.6600_0.5200_0.5700_False': array([1.       , 1.01     , 0.9999942, 1.       ]),\n",
       "             '0.6500_0.4100_0.7400_True': array([1.00034239, 1.00008897, 1.11019787, 1.00005797]),\n",
       "             '0.6400_0.4100_0.7300_False': array([1.00022629, 1.00010869, 1.00005515, 0.94757056]),\n",
       "             '1.0000_0.6600_0.7200_True': array([1.00500025, 1.00206004, 1.00068877, 1.04869442]),\n",
       "             '0.9900_0.6600_0.7100_False': array([1.00143696, 0.99864397, 0.94617597, 0.99901574]),\n",
       "             '0.9800_0.6600_0.7000_False': array([1.00073984, 0.9987451 , 0.9468325 , 0.99895003]),\n",
       "             '0.9700_0.6600_0.6900_False': array([1.07429201, 0.99692807, 0.99903273, 0.99945107]),\n",
       "             '0.9600_0.6600_0.6800_False': array([1.00672316, 0.99960652, 0.99923953, 0.964372  ]),\n",
       "             '0.9500_0.5900_0.7400_True': array([1.09049556, 1.00004091, 1.00158343, 1.00016222]),\n",
       "             '0.9400_0.5900_0.7300_True': array([1.0004027 , 1.00035179, 1.00010956, 1.06502063]),\n",
       "             '0.9300_0.5900_0.7200_False': array([1.00054532, 0.99991241, 0.96491509, 0.99993715]),\n",
       "             '0.9200_0.5900_0.7100_False': array([1.00009663, 0.99994139, 0.96482321, 0.99994741]),\n",
       "             '0.9100_0.5900_0.7000_False': array([1.0001324 , 0.99997492, 0.96498557, 0.99999289]),\n",
       "             '0.9000_0.5900_0.6900_False': array([1.105     , 0.99998239, 0.99997036, 0.99980529]),\n",
       "             '0.8900_0.5300_0.7500_True': array([1.10505656, 1.00007103, 1.00009596, 1.00013144]),\n",
       "             '0.8800_0.5300_0.7400_True': array([1.00006076, 1.        , 1.08001406, 1.        ]),\n",
       "             '0.8700_0.5300_0.7300_False': array([1.00003582, 0.99993824, 0.99938927, 0.91750081]),\n",
       "             '1.0000_0.7800_0.7200_True': array([1.00158796, 1.01761908, 1.00064981, 1.0002659 ]),\n",
       "             '0.9900_0.7800_0.7100_False': array([0.99681712, 0.9947915 , 0.86901185, 0.96295891]),\n",
       "             '0.9800_0.7800_0.7000_False': array([1.03841327, 0.99748882, 0.99830371, 0.93989727]),\n",
       "             '0.9700_0.7800_0.6900_False': array([0.99911797, 0.99936264, 0.99826488, 0.91716261]),\n",
       "             '0.9600_0.7800_0.6800_False': array([1.00024574, 0.9994893 , 0.99932873, 0.91684073]),\n",
       "             '0.9500_0.7800_0.6700_False': array([1.00028055, 0.91720275, 0.9999121 , 0.99958254]),\n",
       "             '0.9400_0.7800_0.6600_False': array([1.00023212, 0.91742154, 0.99954048, 0.99972156]),\n",
       "             '0.9300_0.7800_0.6500_False': array([0.99922246, 0.9161007 , 0.9997673 , 0.999723  ]),\n",
       "             '0.9200_0.7800_0.6400_False': array([1.00019377, 0.99942329, 0.91738906, 0.99974358]),\n",
       "             '0.9100_0.7800_0.6300_False': array([1.00009384, 0.99985784, 0.91710532, 0.99950824]),\n",
       "             '0.9000_0.7800_0.6200_False': array([1.00023001, 0.91740284, 0.99970735, 0.99953478]),\n",
       "             '0.8900_0.7800_0.6100_False': array([1.00018699, 0.99965586, 0.99983947, 0.91725028]),\n",
       "             '0.8800_0.7800_0.6000_False': array([1.04263082, 0.99982236, 0.99950906, 0.99974089]),\n",
       "             '0.8700_0.7800_0.5900_False': array([1.00013513, 0.99964337, 0.99984621, 0.91713002]),\n",
       "             '0.8600_0.7800_0.5800_False': array([1.00024567, 0.99968225, 0.91728234, 0.99981877]),\n",
       "             '0.8500_0.7800_0.5700_False': array([1.00034509, 0.95739234, 0.99977286, 0.9997189 ]),\n",
       "             '0.8400_0.6200_0.7400_True': array([1.08265871, 1.00020331, 1.00013299, 1.00010464]),\n",
       "             '0.8300_0.6200_0.7300_True': array([1.0826658 , 1.00009199, 1.00022004, 1.        ]),\n",
       "             '0.8200_0.6200_0.7200_True': array([1.        , 1.0000241 , 1.05751018, 1.00017698]),\n",
       "             '0.8100_0.6200_0.7100_False': array([1.0002838 , 0.99992662, 0.99983514, 0.89497639]),\n",
       "             '1.0000_0.8700_0.7000_True': array([1.00010904, 0.99497707, 0.99997897, 0.99997354]),\n",
       "             '0.9900_0.8700_0.6900_False': array([0.99777506, 0.89172296, 0.99604292, 0.99833222]),\n",
       "             '0.9800_0.8700_0.6800_False': array([0.99466884, 0.8934745 , 0.99894755, 0.99961442]),\n",
       "             '0.9700_0.8700_0.6700_False': array([1.00006446, 0.99957205, 0.89474465, 0.99968357]),\n",
       "             '0.9600_0.8700_0.6600_False': array([1.02013622, 0.99975191, 0.9996724 , 0.99984455]),\n",
       "             '0.9500_0.8700_0.6500_False': array([1.02003359, 0.99995186, 0.99922773, 0.99957742]),\n",
       "             '0.9400_0.8700_0.6400_False': array([1.02004753, 0.99983389, 0.99981889, 0.99977438]),\n",
       "             '0.9300_0.8700_0.6300_False': array([1.02004324, 0.99989368, 0.99997285, 0.99955635]),\n",
       "             '0.9200_0.8700_0.6200_False': array([1.00005268, 0.89480305, 0.9998251 , 0.99983427]),\n",
       "             '0.9100_0.8700_0.6100_False': array([1.00005709, 0.99993651, 0.99968964, 0.89484534]),\n",
       "             '0.9000_0.8700_0.6000_False': array([1.00005495, 0.89477093, 0.99997799, 0.99973613]),\n",
       "             '0.8900_0.8700_0.5900_False': array([1.0000481 , 0.99975181, 0.99986998, 0.89481323]),\n",
       "             '0.8800_0.8700_0.5800_False': array([1.0000385 , 0.99963344, 0.89480872, 0.99994171]),\n",
       "             '0.8700_0.8700_0.5700_False': array([1.02001331, 0.99974115, 0.99974257, 0.99974389]),\n",
       "             '0.8600_0.8700_0.5600_False': array([1.02002811, 0.99968649, 0.99994391, 0.9996864 ]),\n",
       "             '0.8500_0.8700_0.5500_False': array([1.0001644 , 0.9998866 , 0.93990469, 0.99988519]),\n",
       "             '0.8400_0.6900_0.7300_True': array([1.00051594, 1.00004374, 1.04039278, 1.00005608]),\n",
       "             '0.8300_0.6900_0.7200_False': array([1.000049  , 0.87725039, 0.99944245, 0.99995105]),\n",
       "             '1.0000_0.9400_0.7100_True': array([1.00258714, 0.99974441, 0.99910838, 0.99789169]),\n",
       "             '0.9900_0.9400_0.7000_True': array([1.00250617, 0.99986812, 0.99984892, 0.99954426]),\n",
       "             '0.9800_0.9400_0.6900_True': array([1.0025005 , 0.99998233, 1.        , 0.99996752]),\n",
       "             '0.9700_0.9400_0.6800_True': array([1.        , 1.        , 0.97749559, 1.        ]),\n",
       "             '0.9600_0.9400_0.6700_False': array([ 1.00208465,  0.99803592,  0.99925216, -1.50841776]),\n",
       "             '1.0000_1.0000_0.6600_True': array([1., 1., 1., 1.]),\n",
       "             '1.0000_0.5000_0.4600_True': array([1.08738686, 1.06646775, 1.01374932, 1.01878361]),\n",
       "             '0.9900_0.5000_0.4500_True': array([1.06779108, 1.00343345, 1.00351735, 1.00730032]),\n",
       "             '0.9800_0.5000_0.4400_True': array([1.00125165, 1.00072326, 1.00045861, 1.0469302 ]),\n",
       "             '0.9700_0.5000_0.4300_False': array([1.07315476, 0.97332706, 0.99547737, 0.9960297 ]),\n",
       "             '0.9600_0.5000_0.4200_False': array([1.01823192, 0.97613964, 0.99346487, 0.9755152 ]),\n",
       "             '0.9500_0.5000_0.4100_False': array([1.02025865, 0.98766132, 0.96012816, 0.9982735 ]),\n",
       "             '0.9400_0.5000_0.4000_False': array([1.00353774, 0.99583148, 0.9837846 , 0.98236682]),\n",
       "             '0.9300_0.4500_0.5200_True': array([1.07671734, 1.00014132, 1.00007683, 1.00005578]),\n",
       "             '0.9200_0.4500_0.5100_True': array([1.00031345, 1.00013559, 1.00005179, 1.05833333]),\n",
       "             '0.9100_0.4500_0.5000_False': array([1.07364386, 0.99999163, 0.99998316, 0.9999788 ]),\n",
       "             '0.9000_0.4500_0.4900_False': array([1.        , 0.98828521, 0.9999404 , 0.99996536]),\n",
       "             '0.8900_0.4500_0.4800_False': array([1.00014482, 0.99997956, 0.99995213, 0.98663522]),\n",
       "             '0.8800_0.4500_0.4700_False': array([1.00011676, 0.99998184, 0.99992395, 1.00327953]),\n",
       "             '0.8700_0.4000_0.5700_True': array([1.        , 1.00004467, 1.06833333, 1.00004704]),\n",
       "             '0.8600_0.4000_0.5600_False': array([1.00023525, 1.00000005, 0.96673723, 1.00000014]),\n",
       "             '1.0000_0.6500_0.5500_True': array([1.00044285, 1.00044671, 1.03377196, 1.00047885]),\n",
       "             '0.9900_0.6500_0.5400_False': array([1.00030039, 0.99956574, 0.92484907, 0.99960571]),\n",
       "             '1.0000_0.9000_0.5300_True': array([1.00000707, 0.99165234, 0.99968971, 0.99993387]),\n",
       "             '0.9900_0.9000_0.5200_False': array([0.99770444, 0.92465529, 0.94051301, 0.99931508]),\n",
       "             '0.9800_0.9000_0.5100_False': array([1.00833787, 0.99989149, 0.99940792, 1.        ]),\n",
       "             '0.9700_0.9000_0.5000_False': array([1.0000214 , 0.99988742, 0.92492869, 0.99957742]),\n",
       "             '0.9600_0.9000_0.4900_False': array([1.00000818, 0.99961385, 0.92495558, 0.99981169]),\n",
       "             '0.9500_0.9000_0.4800_False': array([1.00834312, 1.        , 0.99988743, 1.        ]),\n",
       "             '0.9400_0.9000_0.4700_False': array([1.00001175, 0.99994912, 1.        , 0.92495918]),\n",
       "             '0.9300_0.9000_0.4600_False': array([1.        , 0.99994555, 0.925     , 0.99989973]),\n",
       "             '0.9200_0.9000_0.4500_False': array([1.        , 0.99989657, 0.925     , 0.99994871]),\n",
       "             '0.9100_0.9000_0.4400_False': array([1.00000544, 1.        , 0.99994871, 0.92495462]),\n",
       "             '0.9000_0.9000_0.4300_False': array([1.00001114, 0.99994555, 0.925     , 1.        ]),\n",
       "             '0.8900_0.9000_0.4200_False': array([1.00000701, 0.99990149, 1.        , 0.925     ]),\n",
       "             '0.8800_0.9000_0.4100_False': array([1.00833333, 0.99994555, 1.        , 0.99989973]),\n",
       "             '0.8700_0.9000_0.4000_False': array([1.        , 0.99994555, 0.92495726, 0.99995101]),\n",
       "             '0.8600_0.9000_0.3900_False': array([1.00001149, 0.99994871, 1.        , 0.925     ]),\n",
       "             '0.8500_0.9000_0.3800_False': array([1.        , 0.99996982, 1.        , 0.95495445]),\n",
       "             '0.8400_0.7200_0.6300_True': array([1.00009123, 1.00928571, 1.00002677, 1.02167847]),\n",
       "             '0.8300_0.7200_0.6200_False': array([1.00014664, 0.99958401, 0.98023394, 0.95492778]),\n",
       "             '0.8200_0.7200_0.6100_False': array([1.00030725, 0.98033024, 0.95481498, 0.99983495]),\n",
       "             '0.8100_0.7200_0.6000_False': array([1.01649579, 0.95453261, 0.99959994, 0.99985416]),\n",
       "             '0.8000_0.7200_0.5900_False': array([1.00046942, 0.99984563, 0.96807706, 0.98060968]),\n",
       "             '0.7900_0.6400_0.6700_True': array([1.00002526, 1.00014624, 1.03502618, 1.00002286]),\n",
       "             '0.7800_0.6400_0.6600_False': array([1.00001882, 0.9259514 , 0.99945029, 0.99982843]),\n",
       "             '1.0000_0.8900_0.6500_True': array([1.0100644 , 0.99997763, 0.99985621, 0.99997922]),\n",
       "             '0.9900_0.8900_0.6400_True': array([1.00000932, 0.99998288, 0.99997179, 0.99333333]),\n",
       "             '0.9800_0.8900_0.6300_False': array([1.00000939, 0.99984511, 0.9265303 , 0.99264572]),\n",
       "             '0.9700_0.8900_0.6200_False': array([1.01001314, 0.99938452, 1.        , 1.        ]),\n",
       "             '0.9600_0.8900_0.6100_False': array([1.00002444, 0.99992154, 0.99965205, 0.92657643]),\n",
       "             '0.9500_0.8900_0.6000_False': array([1.02500914, 0.99978929, 0.99997737, 0.99984545]),\n",
       "             '0.9400_0.8000_0.6800_True': array([1.        , 1.00833333, 1.        , 1.        ]),\n",
       "             '0.9300_0.8000_0.6700_False': array([1.00008396, 0.99977245, 0.94161694, 0.99976208]),\n",
       "             '0.9200_0.8000_0.6600_False': array([1.02503157, 0.99974742, 0.99988509, 0.99972246]),\n",
       "             '0.9100_0.8000_0.6500_False': array([1.00009278, 0.94155839, 0.99994464, 0.9996778 ]),\n",
       "             '0.9000_0.8000_0.6400_False': array([1.02506966, 0.99969538, 0.99988407, 0.99988219]),\n",
       "             '0.8900_0.8000_0.6300_False': array([1.0000765 , 0.99982986, 0.99981183, 0.94151742]),\n",
       "             '0.8800_0.8000_0.6200_False': array([1.02504801, 0.99972878, 0.99991638, 0.99975584]),\n",
       "             '0.8700_0.8000_0.6100_False': array([1.00015168, 0.99980968, 0.94157488, 0.99992101]),\n",
       "             '0.8600_0.8000_0.6000_False': array([1.00014754, 0.99982384, 0.9416166 , 0.99984703]),\n",
       "             '0.8500_0.8000_0.5900_False': array([1.0001821 , 0.99992721, 0.99991374, 0.94154379]),\n",
       "             '0.8400_0.8000_0.5800_False': array([1.        , 0.99996242, 0.94166667, 0.99995249]),\n",
       "             '0.8300_0.8000_0.5700_False': array([1.        , 1.        , 0.94166667, 1.        ]),\n",
       "             '0.8200_0.8000_0.5600_False': array([1.025, 1.   , 1.   , 1.   ]),\n",
       "             '0.8100_0.8000_0.5500_False': array([1.        , 1.        , 1.        , 0.94166667]),\n",
       "             '0.8000_0.8000_0.5400_False': array([1.        , 1.        , 0.94166667, 1.        ]),\n",
       "             '0.7900_0.8000_0.5300_False': array([1.        , 1.        , 1.        , 0.96833333]),\n",
       "             '0.7800_0.6400_0.7200_True': array([1.05169361, 1.00017776, 1.00016932, 1.00011874]),\n",
       "             '0.7700_0.6400_0.7100_True': array([1.00004762, 1.035     , 1.        , 1.0000194 ]),\n",
       "             '0.7600_0.6400_0.7000_False': array([1.00013834, 0.96830059, 0.99995153, 0.99983675]),\n",
       "             '0.7500_0.6400_0.6900_False': array([1.05172404, 0.99987517, 0.99981997, 0.99987225]),\n",
       "             '0.7400_0.6400_0.6800_False': array([1.00027574, 0.9999928 , 0.96830032, 0.9998618 ]),\n",
       "             '0.7300_0.6400_0.6700_False': array([1.05184918, 0.99994939, 0.99991644, 0.99998903]),\n",
       "             '0.7200_0.6400_0.6600_False': array([1.00004856, 0.99999062, 0.96830036, 0.99986149]),\n",
       "             '0.7100_0.6400_0.6500_False': array([1.05176322, 0.99993914, 0.99984936, 1.        ]),\n",
       "             '0.7000_0.6400_0.6400_False': array([1.00004155, 0.99993827, 0.96823211, 0.99992615]),\n",
       "             '0.6900_0.6400_0.6300_False': array([1.00002929, 0.9999607 , 0.9999268 , 0.96820681]),\n",
       "             '0.6800_0.6400_0.6200_False': array([1.0003685 , 0.99998024, 0.96830742, 0.99998834]),\n",
       "             '0.6700_0.6400_0.6100_False': array([1.05187966, 0.99992525, 0.99999187, 0.99997837]),\n",
       "             '0.6600_0.6400_0.6000_False': array([1.05173844, 0.99995539, 0.99998426, 0.99984362]),\n",
       "             '0.6500_0.6400_0.5900_False': array([1.00006302, 0.96827293, 0.9999673 , 0.99987428]),\n",
       "             '0.6400_0.6400_0.5800_False': array([1.00003941, 0.99996191, 0.99985459, 0.96832631]),\n",
       "             '0.6300_0.6400_0.5700_False': array([1.00003648, 1.        , 1.        , 0.96830515]),\n",
       "             '0.6200_0.6400_0.5600_False': array([1.07335102, 1.        , 1.        , 1.        ]),\n",
       "             '0.6100_0.5100_0.7300_True': array([1.        , 1.        , 1.05666667, 1.        ]),\n",
       "             '0.6000_0.5100_0.7200_False': array([1.00222122, 0.94833124, 0.99999087, 1.        ]),\n",
       "             '1.0000_0.7600_0.7100_True': array([1.00094712, 1.00026483, 1.00019016, 1.01558977]),\n",
       "             '0.9900_0.7600_0.7000_False': array([0.99255667, 0.99823131, 0.94228956, 0.99413387]),\n",
       "             '0.9800_0.7600_0.6900_False': array([1.00049742, 0.99921556, 0.94753139, 0.99649948]),\n",
       "             '0.9700_0.7600_0.6800_False': array([1.00014239, 0.94631124, 0.99986997, 0.99956517]),\n",
       "             '0.9600_0.7600_0.6700_False': array([1.04528631, 0.96737754, 0.9996355 , 0.99845672]),\n",
       "             '0.9500_0.6800_0.7300_True': array([1.0002306 , 1.00008408, 1.00002808, 1.0295309 ]),\n",
       "             '0.9400_0.6800_0.7200_False': array([1.04506846, 0.99996501, 0.9999673 , 0.99848988]),\n",
       "             '0.9300_0.6800_0.7100_False': array([1.00006005, 0.99974088, 0.96161993, 0.9985271 ]),\n",
       "             '0.9200_0.6800_0.7000_False': array([1.00208643, 0.96153991, 0.99993956, 0.99991202]),\n",
       "             '0.9100_0.6800_0.6900_False': array([1.05673587, 0.9991383 , 0.99997474, 0.99975903]),\n",
       "             '0.9000_0.6100_0.7500_True': array([1.        , 1.00154046, 1.04001514, 1.        ]),\n",
       "             '0.8900_0.6100_0.7400_False': array([1.        , 0.99898719, 1.        , 0.93163266]),\n",
       "             '1.0000_0.8600_0.7300_True': array([1.00020659, 0.99819913, 0.99988361, 0.99990352]),\n",
       "             '0.9900_0.8600_0.7200_False': array([0.98336578, 0.98508701, 0.88307814, 0.98656869]),\n",
       "             '0.9800_0.8600_0.7100_False': array([1.01599023, 0.9952447 , 0.99630851, 0.99809047]),\n",
       "             '0.9700_0.8600_0.7000_False': array([1.01597103, 0.99831183, 0.9991958 , 0.99571023]),\n",
       "             '0.9600_0.8600_0.6900_False': array([1.00127314, 0.99657373, 0.99881449, 0.93098767]),\n",
       "             '0.9500_0.8600_0.6800_False': array([1.01508107, 0.9990587 , 0.99939659, 0.99588559]),\n",
       "             '0.9400_0.8600_0.6700_False': array([1.01504684, 0.99950107, 0.99935803, 0.99539032]),\n",
       "             '0.9300_0.8600_0.6600_False': array([1.01510838, 0.99587591, 0.99863056, 0.9997496 ]),\n",
       "             '0.9200_0.8600_0.6500_False': array([1.00032057, 0.93127832, 0.99599655, 0.99953599]),\n",
       "             '0.9100_0.8600_0.6400_False': array([1.00088756, 0.99964145, 0.99914968, 0.93072881]),\n",
       "             '0.9000_0.8600_0.6300_False': array([1.00008795, 0.9988537 , 0.99947509, 0.92826683]),\n",
       "             '0.8900_0.8600_0.6200_False': array([1.01575957, 0.99868966, 0.99957576, 0.99961061]),\n",
       "             '0.8800_0.8600_0.6100_False': array([1.00021923, 0.99965225, 0.92782453, 0.99972236]),\n",
       "             '0.8700_0.8600_0.6000_False': array([1.00007517, 0.93066689, 0.99579109, 0.99951464]),\n",
       "             '0.8600_0.8600_0.5900_False': array([1.00110213, 0.93148498, 0.99968965, 0.99931794]),\n",
       "             '0.8500_0.8600_0.5800_False': array([1.00050794, 0.99979484, 0.9995403 , 0.95998675]),\n",
       "             '0.8400_0.6800_0.7500_True': array([1.00178299, 1.03010922, 1.0012989 , 1.0007719 ]),\n",
       "             '0.8300_0.6800_0.7400_False': array([1.0028401 , 0.99927187, 0.9965625 , 0.96103377]),\n",
       "             '0.8200_0.6800_0.7300_False': array([1.00110539, 0.99859898, 0.9961751 , 0.96086265]),\n",
       "             '0.8100_0.6800_0.7200_False': array([1.00174564, 0.95915639, 0.99948771, 0.9984462 ]),\n",
       "             '0.8000_0.6800_0.7100_False': array([1.00085801, 0.99825418, 0.99669315, 0.96124551]),\n",
       "             '0.7900_0.6800_0.7000_False': array([1.00163278, 0.9971801 , 0.99907782, 0.96138012]),\n",
       "             '0.7800_0.6800_0.6900_False': array([1.00116734, 0.99976154, 0.95970256, 0.99985956]),\n",
       "             '0.7700_0.6800_0.6800_False': array([1.04722582, 0.99901095, 0.99974785, 0.99917951]),\n",
       "             '0.7600_0.6800_0.6700_False': array([1.00029814, 0.96074777, 0.99771006, 0.99912972]),\n",
       "             '0.7500_0.6800_0.6600_False': array([1.00078662, 0.99737056, 0.96092802, 0.99984791]),\n",
       "             '0.7400_0.6800_0.6500_False': array([1.00018823, 0.9981364 , 0.99953355, 0.96079958]),\n",
       "             '0.7300_0.6800_0.6400_False': array([1.04518195, 0.99678367, 0.999934  , 0.9991481 ]),\n",
       "             '0.7200_0.6800_0.6300_False': array([1.0019981 , 0.99982597, 0.95982123, 0.99975821]),\n",
       "             '0.7100_0.6800_0.6200_False': array([1.00261994, 0.99939355, 0.96053942, 0.9998657 ]),\n",
       "             '0.7000_0.6800_0.6100_False': array([1.00039623, 0.99805657, 0.96104465, 0.99987865]),\n",
       "             '0.6900_0.6800_0.6000_False': array([1.06912821, 0.99992174, 0.99983182, 0.99912804]),\n",
       "             '0.6800_0.5400_0.7600_True': array([1.00058658, 1.00029409, 1.05179997, 1.00397975]),\n",
       "             '0.6700_0.5400_0.7500_False': array([1.03055825, 0.99993161, 0.99978924, 0.99990315]),\n",
       "             '1.0000_0.7900_0.7400_True': array([1.00127584, 1.01023141, 1.00071211, 1.000707  ]),\n",
       "             '0.9900_0.7900_0.7300_False': array([0.97528105, 0.98614339, 0.91772832, 0.93881255]),\n",
       "             '0.9800_0.7900_0.7200_False': array([1.02150877, 0.99675245, 0.99441999, 0.99498152]),\n",
       "             '0.9700_0.7900_0.7100_False': array([1.00096973, 0.99773075, 0.941804  , 0.99648663]),\n",
       "             '0.9600_0.7900_0.7000_False': array([1.00033917, 0.94141063, 0.99747062, 0.99754768]),\n",
       "             '0.9500_0.7900_0.6900_False': array([1.00061194, 0.9989885 , 0.99919183, 0.94274379]),\n",
       "             '0.9400_0.7900_0.6800_False': array([1.0002585 , 0.99732899, 0.93805698, 0.99882307]),\n",
       "             '0.9300_0.7900_0.6700_False': array([0.98803928, 0.99967766, 0.99692663, 0.94246282]),\n",
       "             '0.9200_0.7900_0.6600_False': array([1.00142237, 0.94298159, 0.98421879, 0.99929452]),\n",
       "             '0.9100_0.7900_0.6500_False': array([1.02765796, 0.99938366, 0.99914726, 0.99958539]),\n",
       "             '0.9000_0.7900_0.6400_False': array([1.00020994, 0.99897729, 0.94272875, 0.99780069]),\n",
       "             '0.8900_0.7900_0.6300_False': array([1.00045261, 0.94262251, 0.99830295, 0.99931875]),\n",
       "             '0.8800_0.7900_0.6200_False': array([1.02690032, 0.99920872, 0.99918276, 0.99786854]),\n",
       "             '0.8700_0.7900_0.6100_False': array([1.00040204, 0.9412241 , 0.99955562, 0.99949598]),\n",
       "             '0.8600_0.7900_0.6000_False': array([1.00037664, 0.99815567, 0.99919234, 0.94259774]),\n",
       "             '0.8500_0.7900_0.5900_False': array([1.0010605 , 0.99930416, 0.99961271, 0.96959333]),\n",
       "             '0.8400_0.6300_0.7500_True': array([1.00086259, 1.00051614, 1.001061  , 1.03734758]),\n",
       "             '0.8300_0.6300_0.7400_False': array([1.00070556, 0.9997435 , 0.9982269 , 0.96948238]),\n",
       "             '0.8200_0.6300_0.7300_False': array([1.00122522, 0.99964299, 0.9698165 , 0.99976035]),\n",
       "             '0.8100_0.6300_0.7200_False': array([1.05576675, 0.99933113, 0.99950914, 0.99924913]),\n",
       "             '0.8000_0.6300_0.7100_False': array([1.00313705, 0.99946491, 0.9995929 , 0.98152812]),\n",
       "             '0.7900_0.5600_0.7600_True': array([1.00077629, 1.00098611, 1.00041163, 1.04878574]),\n",
       "             '0.7800_0.5600_0.7500_False': array([1.0002778 , 0.98135452, 0.99979111, 0.99965446]),\n",
       "             '0.7700_0.5600_0.7400_False': array([1.0018073 , 0.99965838, 0.98155934, 0.99971235]),\n",
       "             '0.7600_0.5600_0.7300_False': array([1.00142615, 0.99970122, 0.99977853, 0.98142152]),\n",
       "             '0.7500_0.5600_0.7200_False': array([1.00060433, 0.99142981, 0.99974037, 0.99977415]),\n",
       "             '0.7400_0.5000_0.7700_True': array([1.07519273, 1.00007174, 1.00031665, 1.00026003]),\n",
       "             '0.7300_0.5000_0.7600_True': array([1.0003089 , 1.00051936, 1.05886924, 1.00037224]),\n",
       "             '0.7200_0.5000_0.7500_False': array([1.00081756, 0.99992344, 0.99993625, 0.94995632]),\n",
       "             '1.0000_0.7500_0.7400_True': array([1.00632712, 1.00111241, 1.01713419, 1.00049335]),\n",
       "             '0.9900_0.7500_0.7300_False': array([ 0.97314318,  0.98376712, -0.67597213,  0.98945825]),\n",
       "             '1.0000_1.0000_0.7200_True': array([1., 1., 1., 1.]),\n",
       "             '0.4500_0.0000_0.5700_True': array([1.12703045, 1.05416975, 1.08220039, 1.06715735]),\n",
       "             '0.4400_0.0000_0.5600_True': array([1.04585217, 1.06136585, 1.02919907, 1.06110601]),\n",
       "             '0.4300_0.0000_0.5500_False': array([1.10299813, 0.9777547 , 0.98720866, 0.98787856]),\n",
       "             '0.4200_0.0000_0.5400_False': array([1.07482091, 0.97624967, 0.96948878, 0.9783642 ]),\n",
       "             '0.4100_0.0000_0.5300_False': array([1.05828048, 0.96729832, 0.97365927, 0.97308031]),\n",
       "             '0.4000_0.0000_0.5200_False': array([1.0569893 , 0.97832166, 0.98630998, 0.96375589]),\n",
       "             '0.3900_0.0000_0.5100_False': array([1.0259747 , 0.98644558, 0.98322677, 0.96478639]),\n",
       "             '0.3800_0.0000_0.5000_False': array([1.02486869, 0.96799342, 0.98163371, 0.98889421]),\n",
       "             '0.3700_0.0000_0.4900_False': array([1.03183221, 0.96586052, 0.98754112, 0.98772231]),\n",
       "             '0.3600_0.0000_0.4800_False': array([1.02680107, 0.95950128, 0.98922737, 0.98755536]),\n",
       "             '0.3500_0.0000_0.4700_False': array([1.01809555, 0.98641901, 0.9586353 , 0.98282576]),\n",
       "             '0.3400_0.0000_0.4600_False': array([1.02250969, 0.98371402, 0.98130155, 0.96187891]),\n",
       "             '0.3300_0.0000_0.4500_False': array([1.01743886, 0.98162733, 0.95452161, 0.98521617]),\n",
       "             '0.3200_0.0000_0.4400_False': array([1.02238   , 0.98475519, 0.95521468, 0.98677646]),\n",
       "             '0.3100_0.0000_0.4300_False': array([1.04725839, 0.98457578, 0.98037369, 0.97949602]),\n",
       "             '0.3000_0.0000_0.4200_False': array([1.01939272, 0.98482528, 0.95180981, 0.9796177 ]),\n",
       "             '0.2900_0.0000_0.4100_False': array([1.04004302, 0.99066244, 0.9940265 , 0.994542  ]),\n",
       "             '0.2800_0.0000_0.6400_True': array([1.01358328, 1.01171888, 1.00789249, 1.02232518]),\n",
       "             '0.2700_0.0000_0.6300_False': array([1.02780374, 0.97513613, 0.98042446, 0.94332775]),\n",
       "             '0.2600_0.0000_0.6200_False': array([1.01383325, 0.93225277, 0.98288838, 0.96935542]),\n",
       "             '0.2500_0.0000_0.6100_False': array([1.01949667, 0.96912093, 0.93979933, 0.97437207]),\n",
       "             '0.2400_0.0000_0.6000_False': array([1.00964948, 0.98226216, 0.97431159, 0.94036303]),\n",
       "             '0.2300_0.0000_0.6800_True': array([1.00361383, 1.00095041, 1.01012243, 1.00097964]),\n",
       "             '0.2200_0.0000_0.6700_False': array([1.00448903, 0.99829156, 0.9978543 , 1.01302946]),\n",
       "             '0.8100_0.2500_0.6600_True': array([1.07624522, 1.00126438, 1.00458005, 1.00244599]),\n",
       "             '0.8000_0.2500_0.6500_True': array([1.07775   , 1.00168529, 1.0017349 , 1.00086762]),\n",
       "             '0.7900_0.2500_0.6400_True': array([1.00213485, 1.06178853, 1.00093913, 1.00161681]),\n",
       "             '0.7800_0.2500_0.6300_False': array([1.0736036 , 1.00025981, 1.00017982, 1.00060849]),\n",
       "             '0.7700_0.2500_0.6200_False': array([1.00170013, 1.000489  , 1.00038791, 1.00792716]),\n",
       "             '0.7600_0.2500_0.6100_False': array([1.00314415, 1.00032533, 1.00642995, 1.00016164]),\n",
       "             '0.7500_0.2500_0.6000_False': array([1.00092791, 1.00542839, 1.00034088, 1.00064288]),\n",
       "             '0.7400_0.2500_0.5900_False': array([1.0683293 , 1.0000409 , 1.00009789, 1.00011077]),\n",
       "             '0.7300_0.2500_0.5800_False': array([1.00094052, 1.00020454, 1.00270227, 1.00039144]),\n",
       "             '0.7200_0.2500_0.5700_False': array([1.06413368, 1.00003176, 1.00005926, 1.00001708]),\n",
       "             '0.7100_0.2500_0.5600_False': array([1.00133576, 1.00001417, 1.00000108, 1.00000186]),\n",
       "             '0.7000_0.2500_0.5500_False': array([1.00131691, 0.99871409, 0.99998011, 0.99997762]),\n",
       "             '0.6900_0.2500_0.5400_False': array([1.00049072, 0.99746287, 0.99992811, 0.99991438]),\n",
       "             '0.6800_0.2500_0.5300_False': array([1.000713  , 0.99983359, 0.99994243, 0.99619938]),\n",
       "             '0.6700_0.2500_0.5200_False': array([1.00139455, 0.99495588, 0.99982928, 0.99990371]),\n",
       "             '0.6600_0.2500_0.5100_False': array([1.00172495, 0.9999717 , 0.99366783, 0.99997243]),\n",
       "             '0.6500_0.2500_0.5000_False': array([1.00221476, 0.99256597, 1.00004901, 0.99998649]),\n",
       "             '0.6400_0.2500_0.4900_False': array([1.00194934, 1.00003877, 0.99994696, 1.00999661]),\n",
       "             '0.6300_0.2000_0.6900_True': array([1.00148849, 1.00059217, 1.05888002, 1.00022639]),\n",
       "             '0.6200_0.2000_0.6800_False': array([1.00072124, 1.00006954, 1.00004454, 1.00004428]),\n",
       "             '1.0000_0.4500_0.6700_True': array([1.00130256, 1.00231696, 1.00208723, 1.05057911]),\n",
       "             '0.9900_0.4500_0.6600_False': array([1.00051131, 0.99967532, 0.99933891, 0.99977501]),\n",
       "             '0.9800_0.4500_0.6500_False': array([1.00031414, 0.99970437, 0.99995777, 1.00000173]),\n",
       "             '0.9700_0.4500_0.6400_False': array([1.00213187, 0.9998553 , 1.00000947, 1.00000727]),\n",
       "             '0.9600_0.4500_0.6300_False': array([1.00073587, 1.00003249, 1.00004852, 1.00630155]),\n",
       "             '0.9500_0.4000_0.7000_True': array([1.00025964, 1.00004578, 1.00002647, 1.05665931]),\n",
       "             '0.9400_0.4000_0.6900_False': array([1.0003609 , 1.00625546, 1.00000249, 1.00002319]),\n",
       "             '0.9300_0.4000_0.6800_False': array([1.00039083, 1.00001802, 1.00628088, 0.99999005]),\n",
       "             '0.9200_0.4000_0.6700_False': array([1.00040717, 0.99999992, 1.00005942, 1.00633233]),\n",
       "             '0.9100_0.4000_0.6600_False': array([1.07390464, 1.00002379, 1.00007825, 1.00008353]),\n",
       "             '0.9000_0.3600_0.7200_True': array([1.00032624, 1.00003585, 1.06401009, 1.00022996]),\n",
       "             '1.0000_0.6100_0.7000_True': array([1.00102133, 1.00281231, 1.00083399, 1.03068959]),\n",
       "             '0.9900_0.6100_0.6900_False': array([1.00071247, 0.9977867 , 0.99977256, 0.97954491]),\n",
       "             '0.9800_0.6100_0.6800_False': array([1.00059924, 0.9783925 , 0.99972258, 0.99953367]),\n",
       "             '0.9700_0.6100_0.6700_False': array([1.00419381, 0.99972596, 0.97979264, 0.99968857]),\n",
       "             '0.9600_0.6100_0.6600_False': array([1.00096804, 0.99984036, 0.98712864, 0.99976708]),\n",
       "             '0.9500_0.5400_0.7200_True': array([1.00082709, 1.03902369, 1.00130425, 1.0006243 ]),\n",
       "             '0.9400_0.5400_0.7100_False': array([1.0004606 , 0.98817761, 0.99952311, 0.99971743]),\n",
       "             '0.9300_0.5400_0.7000_False': array([1.00042413, 0.9886145 , 0.99980688, 0.99983238]),\n",
       "             '0.9200_0.5400_0.6900_False': array([1.00060054, 0.99996354, 0.98871889, 0.99996614]),\n",
       "             '0.9100_0.5400_0.6800_False': array([1.05168876, 0.99996357, 0.99990705, 0.99991699]),\n",
       "             '0.9000_0.5400_0.6700_False': array([1.00011053, 0.99997277, 0.98872329, 0.99992903]),\n",
       "             '0.8900_0.5400_0.6600_False': array([1.00020661, 0.98873145, 0.99995629, 0.99997217]),\n",
       "             '0.8800_0.5400_0.6500_False': array([1.00025546, 0.99997055, 0.98872154, 0.99998618]),\n",
       "             '0.8700_0.5400_0.6400_False': array([1.00007258, 0.98869234, 0.99995737, 0.9999926 ]),\n",
       "             '0.8600_0.5400_0.6300_False': array([1.00005693, 0.98871174, 0.99995179, 0.99997276]),\n",
       "             '0.8500_0.5400_0.6200_False': array([1.00025115, 0.99997576, 0.99997384, 0.988727  ]),\n",
       "             '0.8400_0.5400_0.6100_False': array([1.0001457 , 0.9999564 , 0.98872296, 0.99994996]),\n",
       "             '0.8300_0.5400_0.6000_False': array([1.00007009, 0.99975808, 0.99992309, 0.98871201]),\n",
       "             '0.8200_0.5400_0.5900_False': array([1.0002278 , 0.99986946, 0.98871437, 0.9999852 ]),\n",
       "             '0.8100_0.5400_0.5800_False': array([1.00012299, 0.99997804, 0.99997361, 0.988702  ]),\n",
       "             '0.8000_0.5400_0.5700_False': array([1.00017838, 1.00248153, 1.00001507, 1.00004539]),\n",
       "             '0.7900_0.4300_0.7400_True': array([1.0653436 , 1.00172095, 1.00072626, 1.00027751]),\n",
       "             '0.7800_0.4300_0.7300_True': array([1.00034152, 1.05321168, 1.00006177, 1.00021222]),\n",
       "             '0.7700_0.4300_0.7200_False': array([1.00264986, 1.00001615, 1.00006594, 1.0024764 ]),\n",
       "             '0.7600_0.4300_0.7100_False': array([1.00304899, 1.0024665 , 1.00002802, 1.00002552]),\n",
       "             '0.7500_0.4300_0.7000_False': array([1.00115579, 1.00009282, 1.00252986, 1.00002647]),\n",
       "             '0.7400_0.4300_0.6900_False': array([1.0001116 , 1.0000669 , 1.00010593, 1.00254153]),\n",
       "             '0.7300_0.4300_0.6800_False': array([1.00090057, 1.00260858, 1.00000689, 1.00004658]),\n",
       "             '0.7200_0.4300_0.6700_False': array([1.00342375, 1.00010091, 1.00253255, 1.00015379]),\n",
       "             '0.7100_0.4300_0.6600_False': array([1.06646403, 1.00004588, 1.00006788, 1.00035765]),\n",
       "             '0.7000_0.4300_0.6500_False': array([1.06605019, 1.00005301, 1.00034509, 1.00009597]),\n",
       "             '0.6900_0.4300_0.6400_False': array([1.06670381, 1.0000209 , 1.00002488, 1.00007033]),\n",
       "             '0.6800_0.4300_0.6300_False': array([1.00042055, 1.00034133, 1.00251038, 1.00028397]),\n",
       "             '0.6700_0.4300_0.6200_False': array([1.06714841, 1.00004174, 1.00003023, 1.00001175]),\n",
       "             '0.6600_0.4300_0.6100_False': array([1.00032148, 1.00275749, 1.00000761, 1.00004249]),\n",
       "             '0.6500_0.4300_0.6000_False': array([1.0010969 , 1.00255334, 1.00003681, 1.00028785]),\n",
       "             '0.6400_0.4300_0.5900_False': array([1.06516282, 1.00029311, 1.00001097, 1.00007665]),\n",
       "             '0.6300_0.4300_0.5800_False': array([1.00120399, 1.        , 1.00875979, 1.00001464]),\n",
       "             '0.6200_0.3400_0.7500_True': array([1.00234046, 1.0005636 , 1.05908075, 1.00136549]),\n",
       "             '0.6100_0.3400_0.7400_False': array([1.00164708, 0.98137984, 1.00007294, 0.99993633]),\n",
       "             '1.0000_0.6000_0.7300_True': array([1.04792186, 1.00402704, 1.0039703 , 1.00217609]),\n",
       "             '0.9900_0.6000_0.7200_True': array([1.00151892, 1.00084416, 1.03171102, 1.00078061]),\n",
       "             '0.9800_0.6000_0.7100_False': array([1.0159869 , 0.99869187, 0.99907632, 0.99897863]),\n",
       "             '1.0000_0.8500_0.7000_True': array([1.00036009, 0.99999941, 0.99999948, 0.99999907]),\n",
       "             '0.9900_0.8500_0.6900_False': array([-0.32034121,  0.99443858,  0.99538771,  0.99880398]),\n",
       "             '0.9900_0.5000_0.4500_False': array([1.03685777, 0.99579329, 0.98219937, 0.99285252]),\n",
       "             '0.9800_0.5000_0.4400_False': array([1.03544678, 0.99871401, 0.98817101, 0.99767446]),\n",
       "             '0.9300_0.5000_0.3900_False': array([1.03605827, 0.99291366, 0.99666976, 0.98701584]),\n",
       "             '0.9200_0.5000_0.3800_False': array([1.00329932, 0.9822614 , 0.98071278, 0.99613378]),\n",
       "             '0.9100_0.5000_0.3700_False': array([1.02491179, 0.99841829, 0.99890544, 0.97327447]),\n",
       "             '0.9000_0.5000_0.3600_False': array([1.02400481, 0.9781196 , 0.99318021, 0.99571754]),\n",
       "             '0.8900_0.5000_0.3500_False': array([1.01048437, 0.99522092, 0.98290256, 0.97772423]),\n",
       "             '0.8800_0.5000_0.3400_False': array([1.00378434, 0.97635535, 0.97537624, 0.99763421]),\n",
       "             '0.8700_0.5000_0.3300_False': array([1.00479358, 0.982413  , 0.99003248, 0.97495123]),\n",
       "             '0.8600_0.5000_0.3200_False': array([1.00222897, 0.97421535, 0.97211433, 0.9978793 ]),\n",
       "             '0.8500_0.5000_0.3100_False': array([1.0073451 , 1.00365879, 0.99856185, 1.00624809]),\n",
       "             '0.8400_0.4000_0.5800_True': array([1.01793227, 1.04848124, 1.03952377, 1.00713029]),\n",
       "             '0.8300_0.4000_0.5700_False': array([1.05413117, 0.9997876 , 0.99873848, 0.98571068]),\n",
       "             '0.8200_0.4000_0.5600_False': array([1.00275194, 1.00120142, 1.0002961 , 1.00132544]),\n",
       "             '0.8100_0.4000_0.5500_False': array([1.06310156, 0.99990495, 0.99991115, 0.99972666]),\n",
       "             '0.8000_0.4000_0.5400_False': array([1.00401005, 1.00076334, 0.99867062, 1.00088576]),\n",
       "             '0.7900_0.4000_0.5300_False': array([1.05925992, 0.99977854, 0.99998559, 0.99997169]),\n",
       "             '0.7800_0.4000_0.5200_False': array([1.00190484, 0.99965764, 0.9988167 , 0.99587511]),\n",
       "             '0.7700_0.4000_0.5100_False': array([1.00422732, 0.99977725, 0.9985745 , 0.99487575]),\n",
       "             '0.7600_0.4000_0.5000_False': array([1.00100055, 0.99828617, 0.99972982, 0.99345836]),\n",
       "             '0.7500_0.4000_0.4900_False': array([1.00173385, 0.99991775, 0.99216616, 0.99992936]),\n",
       "             '0.7400_0.4000_0.4800_False': array([1.04306868, 0.99976109, 0.99920472, 0.99771308]),\n",
       "             '0.7300_0.4000_0.4700_False': array([1.00411631, 0.99736628, 0.99975272, 0.99081349]),\n",
       "             '0.7200_0.4000_0.4600_False': array([1.01170515, 0.9990997 , 0.99984587, 0.98968515]),\n",
       "             '0.7100_0.4000_0.4500_False': array([1.01312533, 0.99992027, 0.99979031, 0.988371  ]),\n",
       "             '0.7000_0.4000_0.4400_False': array([1.04155158, 0.99967144, 0.99673038, 0.99977927]),\n",
       "             '0.6900_0.4000_0.4300_False': array([1.01125863, 0.99997644, 1.01253692, 1.00021586]),\n",
       "             '0.6800_0.3200_0.6600_True': array([1.06092617, 1.00132906, 1.0008103 , 1.00470886]),\n",
       "             '0.6700_0.3200_0.6500_True': array([1.00026929, 1.00026331, 1.0006634 , 1.0611063 ]),\n",
       "             '0.6600_0.3200_0.6400_False': array([1.00245531, 1.00378437, 1.00124692, 1.00826089]),\n",
       "             '0.6500_0.3200_0.6300_False': array([1.05810339, 1.00084422, 1.00224906, 1.00029338]),\n",
       "             '0.6400_0.3200_0.6200_False': array([1.01639003, 1.00082373, 1.000201  , 1.00616955]),\n",
       "             '0.6300_0.3200_0.6100_False': array([1.00180706, 1.00009035, 1.00310595, 1.00712525]),\n",
       "             '0.6200_0.2800_0.6800_True': array([1.01612596, 1.00229038, 1.00045612, 1.04622527]),\n",
       "             '0.6100_0.2800_0.6700_False': array([1.0028549 , 1.00012313, 1.00022825, 1.00534937]),\n",
       "             '0.6000_0.2800_0.6600_False': array([1.00146034, 1.00018327, 1.00005965, 1.0045095 ]),\n",
       "             '0.5900_0.2800_0.6500_False': array([1.00063148, 1.00350871, 1.00018655, 1.00312248]),\n",
       "             '0.5800_0.2800_0.6400_False': array([1.06678189, 1.00030604, 1.00009652, 1.00006076]),\n",
       "             '0.5700_0.2500_0.7100_True': array([1.00023081, 1.00015895, 1.04103856, 1.00070934]),\n",
       "             '0.5600_0.2500_0.7000_False': array([1.00192224, 1.00000021, 0.99501604, 1.00000036]),\n",
       "             '1.0000_0.5000_0.6900_True': array([1.04588427, 1.00078802, 1.00057403, 1.00041552]),\n",
       "             '0.9900_0.5000_0.6800_True': array([1.04527906, 1.000103  , 1.00011515, 1.00025064]),\n",
       "             '0.9800_0.5000_0.6700_True': array([1.00028658, 1.        , 1.        , 1.035     ]),\n",
       "             '0.9700_0.5000_0.6600_False': array([1.00062893, 0.99997488, 0.99498743, 0.99988748]),\n",
       "             '0.9600_0.5000_0.6500_False': array([1.00065076, 0.99499907, 1.00000005, 0.99999594]),\n",
       "             '0.9500_0.5000_0.6400_False': array([1.04535788, 0.99995371, 0.99997224, 0.99996123]),\n",
       "             '0.9400_0.5000_0.6300_False': array([1.00084004, 0.99999682, 0.99998423, 0.99995335]),\n",
       "             '0.9300_0.4500_0.7000_True': array([1.        , 1.04003499, 1.00123038, 1.00019632]),\n",
       "             '0.9200_0.4500_0.6900_False': array([1.0010158 , 1.00000359, 0.99998667, 1.00000149]),\n",
       "             '0.9100_0.4500_0.6800_False': array([1.00217274, 1.00027423, 1.00002164, 1.00000008]),\n",
       "             '0.9000_0.4500_0.6700_False': array([1.00023888, 1.00000098, 1.00004623, 1.00002721]),\n",
       "             '0.8900_0.4500_0.6600_False': array([1.00184614, 1.00000012, 1.00000353, 1.00000006]),\n",
       "             '0.8800_0.4500_0.6500_False': array([1.00014364, 1.00001169, 1.00004637, 1.00016013]),\n",
       "             '0.8700_0.4500_0.6400_False': array([1.05145863, 1.00000012, 1.00000019, 1.00000006]),\n",
       "             '0.8600_0.4500_0.6300_False': array([1.00046961, 1.00000002, 1.00000002, 1.00000001]),\n",
       "             '0.8500_0.4500_0.6200_False': array([1.00013752, 1.00000935, 1.        , 1.00000001]),\n",
       "             '0.8400_0.4500_0.6100_False': array([1.00008188, 1.00000459, 1.00000011, 1.00000009]),\n",
       "             '0.8300_0.4500_0.6000_False': array([1.00034398, 1.00000764, 1.00002029, 1.00015955]),\n",
       "             '0.8200_0.4500_0.5900_False': array([1.05015945, 1.00000006, 1.00000006, 1.00000613]),\n",
       "             '0.8100_0.4500_0.5800_False': array([1.0003204 , 1.        , 1.00000005, 1.00000016]),\n",
       "             '0.8000_0.4500_0.5700_False': array([1.00011241, 1.        , 1.00003915, 1.00030387]),\n",
       "             '0.7900_0.4500_0.5600_False': array([1.00006738, 1.00001223, 1.00001363, 1.00000445]),\n",
       "             '0.7800_0.4500_0.5500_False': array([1.059     , 1.        , 1.00001219, 1.        ]),\n",
       "             '0.7700_0.3600_0.7300_True': array([1.05950154, 1.00014131, 1.00006717, 1.00051349]),\n",
       "             '0.7600_0.3600_0.7200_True': array([1.059     , 1.0003933 , 1.00006913, 1.00457567]),\n",
       "             '0.7500_0.3600_0.7100_True': array([1.   , 1.049, 1.   , 1.   ]),\n",
       "             '0.7400_0.3600_0.7000_False': array([1.00691648, 1.00943143, 1.00032253, 1.00007484]),\n",
       "             '0.7300_0.3600_0.6900_False': array([1.06031143, 1.0010508 , 1.00027685, 1.00005883]),\n",
       "             '0.7200_0.3600_0.6800_False': array([1.00620128, 1.0003867 , 1.00009698, 1.00903598]),\n",
       "             '0.7100_0.3600_0.6700_False': array([1.00085549, 1.00018967, 1.00004522, 1.00917989]),\n",
       "             '0.7000_0.3600_0.6600_False': array([1.00052537, 1.00918417, 1.00022982, 1.00030565]),\n",
       "             '0.6900_0.3600_0.6500_False': array([1.05939098, 1.00008316, 1.00017081, 1.00024321]),\n",
       "             '0.6800_0.3600_0.6400_False': array([1.00042186, 1.00008239, 1.00028292, 1.00807004]),\n",
       "             '0.6700_0.3600_0.6300_False': array([1.00041147, 1.0002722 , 1.00011566, 1.00723401]),\n",
       "             '0.6600_0.3600_0.6200_False': array([1.05629269, 1.00015268, 1.00013848, 1.0000564 ]),\n",
       "             '0.6500_0.3600_0.6100_False': array([1.        , 1.0050562 , 1.0001262 , 1.00011708]),\n",
       "             '0.6400_0.3600_0.6000_False': array([1.00183543, 1.00002811, 1.00011077, 1.0040606 ]),\n",
       "             '0.6300_0.3600_0.5900_False': array([1.05334156, 1.00011036, 1.00001567, 1.00001797]),\n",
       "             '0.6200_0.3600_0.5800_False': array([1.00008503, 1.00000672, 1.00001768, 1.00200622]),\n",
       "             '0.6100_0.3600_0.5700_False': array([1.        , 1.00000387, 1.00003626, 1.001     ]),\n",
       "             '0.6000_0.3600_0.5600_False': array([1.   , 1.004, 1.   , 1.   ]),\n",
       "             '0.5900_0.2800_0.7300_True': array([1.00005586, 1.043     , 1.        , 1.00002717]),\n",
       "             '0.5800_0.2800_0.7200_False': array([1.00063181, 1.00209156, 1.00002637, 1.00002933]),\n",
       "             '0.5700_0.2800_0.7100_False': array([1.00132581, 1.00101575, 1.00000876, 1.00002399]),\n",
       "             '0.5600_0.2800_0.7000_False': array([1.00125495, 1.00000012, 1.00000012, 1.00000031]),\n",
       "             '0.5500_0.2800_0.6900_False': array([1.00062323, 1.00003739, 1.00006012, 0.99902079]),\n",
       "             '0.5400_0.2800_0.6800_False': array([1.04812251, 1.00005666, 1.00003061, 1.0000175 ]),\n",
       "             '0.5300_0.2800_0.6700_False': array([1.04749513, 0.99998158, 0.99994005, 0.99997906]),\n",
       "             '0.5200_0.2800_0.6600_False': array([1.00019965, 0.99598259, 0.99996578, 0.99989168]),\n",
       "             '0.5100_0.2800_0.6500_False': array([1.00027569, 0.99999885, 0.99997889, 0.99499625]),\n",
       "             '0.5000_0.2800_0.6400_False': array([1.04434115, 0.9999766 , 0.99984816, 0.99995916]),\n",
       "             '0.4900_0.2800_0.6300_False': array([1.00090483, 0.9999489 , 0.9999736 , 0.99291963]),\n",
       "             '0.4800_0.2800_0.6200_False': array([1.00006448, 0.99979863, 0.99191701, 0.99995209]),\n",
       "             '0.4700_0.2800_0.6100_False': array([1.00003722, 0.99998508, 0.99096988, 0.99983798]),\n",
       "             '0.4600_0.2800_0.6000_False': array([1.04      , 0.99994802, 0.99998389, 0.9999918 ]),\n",
       "             '0.4500_0.2800_0.5900_False': array([1.        , 0.99998841, 1.        , 0.989     ]),\n",
       "             '0.4400_0.2800_0.5800_False': array([1.00004005, 1.        , 0.988     , 1.        ]),\n",
       "             '0.4300_0.2200_0.7500_True': array([1.03704273, 1.00003793, 1.        , 1.        ]),\n",
       "             '0.4200_0.2200_0.7400_True': array([1.        , 1.00003167, 1.026     , 1.00002795]),\n",
       "             '0.4100_0.2200_0.7300_False': array([1.00547737, 0.99795406, 0.99995111, 0.99979923]),\n",
       "             '1.0000_0.4700_0.7200_True': array([1.04879927, 1.00041428, 1.00077602, 1.00063597]),\n",
       "             '0.9900_0.4700_0.7100_True': array([1.00043385, 1.038     , 1.00029896, 1.00004371]),\n",
       "             '0.9800_0.4700_0.7000_False': array([1.04856703, 0.99997898, 0.99999492, 0.99988913]),\n",
       "             '0.9700_0.4700_0.6900_False': array([1.00048935, 0.9999927 , 0.99997941, 0.99785104]),\n",
       "             '0.9600_0.4700_0.6800_False': array([1.000551  , 1.00001745, 1.00000536, 0.99799928]),\n",
       "             '0.9500_0.4700_0.6700_False': array([1.00014647, 0.99799721, 0.99998906, 0.99999407]),\n",
       "             '0.9400_0.4700_0.6600_False': array([1.00005348, 1.00000091, 0.99799503, 0.99998907]),\n",
       "             '0.9300_0.4700_0.6500_False': array([1.00013526, 0.9979957 , 0.99999188, 0.99999354]),\n",
       "             '0.9200_0.4700_0.6400_False': array([1.00016961, 0.99999632, 0.99798808, 0.99999894]),\n",
       "             '0.9100_0.4700_0.6300_False': array([1.00015508, 0.99799564, 0.99999553, 0.99999069]),\n",
       "             '0.9000_0.4700_0.6200_False': array([1.00008905, 0.99799191, 0.99999746, 0.99999034]),\n",
       "             '0.8900_0.4700_0.6100_False': array([1.00039372, 0.99999851, 0.99799809, 0.99999496]),\n",
       "             '0.8800_0.4700_0.6000_False': array([1.00013316, 0.99998847, 0.99799517, 0.99999738]),\n",
       "             '0.8700_0.4700_0.5900_False': array([1.00012838, 0.99999595, 0.99999145, 0.99799368]),\n",
       "             '0.8600_0.4700_0.5800_False': array([1.00029423, 0.99799801, 0.99999274, 0.99999671]),\n",
       "             '0.8500_0.4700_0.5700_False': array([1.00022063, 1.00000762, 1.00004018, 0.99801158]),\n",
       "             '0.8400_0.4700_0.5600_False': array([1.0000255 , 1.008     , 0.99999777, 1.        ]),\n",
       "             '0.8300_0.3700_0.7300_True': array([1.0000693 , 1.04829373, 1.0000693 , 1.00003826]),\n",
       "             '0.8200_0.3700_0.7200_False': array([1.00027095, 1.00801054, 1.        , 1.00002055]),\n",
       "             '0.8100_0.3700_0.7100_False': array([1.00015767, 1.00802636, 1.00005566, 1.00004464]),\n",
       "             '0.8000_0.3700_0.7000_False': array([1.0582869 , 1.00003585, 1.00001047, 1.00001799]),\n",
       "             '0.7900_0.3700_0.6900_False': array([1.00046252, 1.00003558, 1.00801889, 1.00000946]),\n",
       "             '0.7800_0.3700_0.6800_False': array([1.05816638, 1.00003007, 1.00002566, 1.00001837]),\n",
       "             '0.7700_0.3700_0.6700_False': array([1.00011876, 1.0080353 , 1.00001519, 1.00002349]),\n",
       "             '0.7600_0.3700_0.6600_False': array([1.00011475, 1.00001285, 1.00809349, 1.00001015]),\n",
       "             '0.7500_0.3700_0.6500_False': array([1.05810428, 1.00005964, 1.00001514, 1.0000476 ]),\n",
       "             '0.7400_0.3700_0.6400_False': array([1.05815013, 1.00003931, 1.00004728, 1.00002426]),\n",
       "             '0.7300_0.3700_0.6300_False': array([1.05728074, 1.00000555, 1.0000153 , 1.00002042]),\n",
       "             '0.7200_0.3700_0.6200_False': array([1.0004091 , 1.00601597, 1.00002185, 1.00000823]),\n",
       "             '0.7100_0.3700_0.6100_False': array([1.05505959, 1.00000512, 1.00003209, 1.00001482]),\n",
       "             '0.7000_0.3700_0.6000_False': array([1.00015225, 1.00000866, 1.00001754, 1.00400756]),\n",
       "             '0.6900_0.3700_0.5900_False': array([1.00006068, 1.0000342 , 1.00300956, 1.00002286]),\n",
       "             '0.6800_0.3700_0.5800_False': array([1.        , 1.00007859, 1.01203259, 1.        ]),\n",
       "             '0.6700_0.2900_0.7500_True': array([1.00136102, 1.00015605, 1.00019097, 1.05136068]),\n",
       "             '0.6600_0.2900_0.7400_False': array([1.06043501, 1.00005823, 1.000211  , 1.00002317]),\n",
       "             '0.6500_0.2900_0.7300_False': array([1.00159001, 1.00007135, 1.00001745, 1.00905409]),\n",
       "             '0.6400_0.2900_0.7200_False': array([1.00051593, 1.00811329, 1.00007463, 1.00002871]),\n",
       "             '0.6300_0.2900_0.7100_False': array([1.00039619, 1.00013169, 1.00013851, 1.00704612]),\n",
       "             '0.6200_0.2600_0.7600_True': array([1.        , 1.04614243, 1.00018648, 1.0001436 ]),\n",
       "             '0.6100_0.2600_0.7500_False': array([1.00039711, 1.00505889, 1.00003326, 1.0000157 ]),\n",
       "             '0.6000_0.2600_0.7400_False': array([1.05438639, 1.00003094, 1.00001499, 1.00000686]),\n",
       "             '0.5900_0.2600_0.7300_False': array([1.00002687, 1.00001761, 1.00300412, 1.00003055]),\n",
       "             '0.5800_0.2600_0.7200_False': array([1.00010195, 1.0020076 , 1.        , 1.00001998]),\n",
       "             '0.5700_0.2600_0.7100_False': array([1.00009948, 1.        , 1.00001006, 1.00100057]),\n",
       "             '0.5600_0.2600_0.7000_False': array([1.00040662, 1.00000008, 1.00000002, 1.        ]),\n",
       "             '0.5500_0.2600_0.6900_False': array([1.00035249, 1.        , 0.99899799, 0.99999846]),\n",
       "             '0.5400_0.2600_0.6800_False': array([1.00038097, 0.99999885, 0.99999712, 0.99799796]),\n",
       "             '0.5300_0.2600_0.6700_False': array([1.00012497, 0.9999985 , 0.99699661, 0.99998   ]),\n",
       "             '0.5200_0.2600_0.6600_False': array([1.00034986, 0.99599329, 0.99999361, 1.        ]),\n",
       "             '0.5100_0.2600_0.6500_False': array([1.00039559, 1.        , 0.99499966, 0.99999839]),\n",
       "             '0.5000_0.2600_0.6400_False': array([1.04408982, 0.99999899, 0.99999646, 0.99998723]),\n",
       "             '0.4900_0.2600_0.6300_False': array([1.043     , 0.99998925, 0.99998509, 0.99994798]),\n",
       "             '0.4800_0.2600_0.6200_False': array([1.00005004, 0.99199449, 0.99999178, 0.99993534]),\n",
       "             '0.4700_0.2600_0.6100_False': array([1.        , 1.        , 0.99099295, 0.99998738]),\n",
       "             '0.4600_0.2000_0.7600_True': array([1.00012303, 1.00018577, 1.03014575, 1.00011689]),\n",
       "             '0.4500_0.2000_0.7500_False': array([1.00015863, 0.99984217, 0.99996654, 0.99997915]),\n",
       "             '1.0000_0.4500_0.7400_True': array([1.00194858, 1.00035266, 1.00238532, 1.04036027]),\n",
       "             '0.9900_0.4500_0.7300_False': array([1.00025441, 0.99985289, 0.99883241, 0.99992646]),\n",
       "             '0.9800_0.4500_0.7200_False': array([1.00093694, 0.99995873, 0.99997627, 0.99991299]),\n",
       "             '0.9700_0.4500_0.7100_False': array([1.00144397, 1.0000025 , 0.99986869, 0.99995807]),\n",
       "             '0.9600_0.4500_0.7000_False': array([1.00115724, 1.00500436, 1.00003691, 1.00002253]),\n",
       "             '0.9500_0.4000_0.7600_True': array([1.00013309, 1.00020878, 1.04523288, 1.00015575]),\n",
       "             '0.9400_0.4000_0.7500_False': array([1.00015575, 0.97995018, 0.99998547, 1.00000399]),\n",
       "             '1.0000_0.6500_0.7400_True': array([1.00308178, 1.02115777, 1.00284409, 1.00154325]),\n",
       "             '0.9900_0.6500_0.7300_False': array([1.03065563, 0.99810111, 0.99713961, 0.99754625]),\n",
       "             '0.9800_0.6500_0.7200_False': array([1.0016488 , 0.99830785, 0.99915607, 0.97916991]),\n",
       "             '0.9700_0.6500_0.7100_False': array([1.03091248, 0.99878402, 0.99910447, 0.9988564 ]),\n",
       "             '0.9600_0.6500_0.7000_False': array([1.00150353, 0.97928529, 0.99961958, 0.99888416]),\n",
       "             '0.9500_0.6500_0.6900_False': array([1.03090622, 0.99914397, 0.9997516 , 0.99949931]),\n",
       "             '0.9400_0.6500_0.6800_False': array([1.00162382, 0.99974274, 0.97981586, 0.99972338]),\n",
       "             '0.9300_0.6500_0.6700_False': array([1.03064484, 0.99985779, 0.99968863, 0.99929888]),\n",
       "             '0.9200_0.6500_0.6600_False': array([1.03094843, 0.99944744, 0.99961775, 0.9996863 ]),\n",
       "             '0.9100_0.6500_0.6500_False': array([1.00104824, 0.99966171, 0.99970851, 0.97959631]),\n",
       "             '0.9000_0.6500_0.6400_False': array([1.00050152, 0.99960583, 0.97965858, 0.99934672]),\n",
       "             '0.8900_0.6500_0.6300_False': array([1.00040896, 0.99934732, 0.99938104, 0.9798198 ]),\n",
       "             '0.8800_0.6500_0.6200_False': array([1.00055797, 0.97946412, 0.99952766, 0.99969589]),\n",
       "             '0.8700_0.6500_0.6100_False': array([1.00086923, 0.99957078, 0.97958651, 0.99972315]),\n",
       "             '0.8600_0.6500_0.6000_False': array([1.00071238, 0.97949066, 0.99963056, 0.99966514]),\n",
       "             '0.8500_0.6500_0.5900_False': array([1.00056755, 0.99262219, 0.99983549, 0.99977586]),\n",
       "             '0.8400_0.5200_0.7500_True': array([1.00406428, 1.0354001 , 1.00246126, 1.00695072]),\n",
       "             '0.8300_0.5200_0.7400_False': array([1.00776437, 0.9923401 , 0.99919555, 0.99879263]),\n",
       "             '0.8200_0.5200_0.7300_False': array([1.00380909, 0.99941495, 0.9916663 , 0.99959796]),\n",
       "             '0.8100_0.5200_0.7200_False': array([1.01061589, 0.99973115, 0.99229814, 0.99968459]),\n",
       "             '0.6800_0.4100_0.7600_True': array([1.00220038, 1.00136281, 1.04505637, 1.00095852]),\n",
       "             '0.6700_0.4100_0.7500_False': array([1.02952701, 0.99992868, 0.99987454, 0.99997003]),\n",
       "             '1.0000_0.6600_0.7400_True': array([1.00532491, 1.0043238 , 1.02263599, 1.00793651]),\n",
       "             '0.9900_0.6600_0.7300_False': array([1.00204155, 0.99830505, 0.98577104, 0.95065427]),\n",
       "             '1.0000_0.9100_0.7200_True': array([1.00429039, 0.99964083, 0.99956633, 0.99930046]),\n",
       "             '0.9900_0.9100_0.7100_True': array([1.00406597, 0.99996491, 0.99987197, 0.99983438]),\n",
       "             '0.9800_0.9100_0.7000_True': array([1.0000023 , 0.994     , 0.99993548, 0.99995797]),\n",
       "             '0.9700_0.9100_0.6900_False': array([1.00003424, 0.99823672, 0.94991707, 0.98594855]),\n",
       "             '0.9600_0.9100_0.6800_False': array([1.00023177, 0.998253  , 0.95026478, 0.99844774]),\n",
       "             '0.9500_0.9100_0.6700_False': array([1.00006332, 0.95345177, 0.99770273, 0.99928055]),\n",
       "             '0.9400_0.9100_0.6600_False': array([1.00010781, 0.99982157, 0.95308279, 0.99914109]),\n",
       "             '0.9300_0.9100_0.6500_False': array([1.00004283, 0.9985251 , 0.99967108, 0.9533198 ]),\n",
       "             '0.9200_0.9100_0.6400_False': array([1.00010575, 0.99862742, 0.95363072, 0.9998562 ]),\n",
       "             '0.9100_0.9100_0.6300_False': array([1.00412741, 0.99940657, 0.99940367, 0.99976654]),\n",
       "             '0.9000_0.9100_0.6200_False': array([1.00002235, 0.95335778, 0.99882043, 0.99909798]),\n",
       "             '0.8900_0.9100_0.6100_False': array([1.0001247 , 0.99948786, 0.95331897, 0.99965065]),\n",
       "             '0.8800_0.9100_0.6000_False': array([1.00013408, 0.99955244, 0.99946276, 0.95352761]),\n",
       "             '0.8700_0.9100_0.5900_False': array([1.00002363, 0.99784298, 0.99978853, 0.9536314 ]),\n",
       "             ...})"
      ]
     },
     "execution_count": 51,
     "metadata": {},
     "output_type": "execute_result"
    }
   ],
   "source": [
    "Q"
   ]
  },
  {
   "cell_type": "code",
   "execution_count": 54,
   "metadata": {
    "ExecuteTime": {
     "end_time": "2020-05-11T15:11:28.949668Z",
     "start_time": "2020-05-11T15:11:28.945493Z"
    }
   },
   "outputs": [
    {
     "data": {
      "text/plain": [
       "0.0001"
      ]
     },
     "execution_count": 54,
     "metadata": {},
     "output_type": "execute_result"
    }
   ],
   "source": [
    "epsilon"
   ]
  },
  {
   "cell_type": "code",
   "execution_count": null,
   "metadata": {},
   "outputs": [],
   "source": []
  }
 ],
 "metadata": {
  "hide_input": false,
  "kernelspec": {
   "display_name": "doggo",
   "language": "python",
   "name": "doggo"
  },
  "language_info": {
   "codemirror_mode": {
    "name": "ipython",
    "version": 3
   },
   "file_extension": ".py",
   "mimetype": "text/x-python",
   "name": "python",
   "nbconvert_exporter": "python",
   "pygments_lexer": "ipython3",
   "version": "3.7.5"
  },
  "toc": {
   "base_numbering": 1,
   "nav_menu": {},
   "number_sections": true,
   "sideBar": true,
   "skip_h1_title": false,
   "title_cell": "Table of Contents",
   "title_sidebar": "Contents",
   "toc_cell": false,
   "toc_position": {},
   "toc_section_display": true,
   "toc_window_display": false
  }
 },
 "nbformat": 4,
 "nbformat_minor": 2
}
