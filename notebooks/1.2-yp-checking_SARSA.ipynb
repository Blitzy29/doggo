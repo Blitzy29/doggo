{
 "cells": [
  {
   "cell_type": "code",
   "execution_count": 1,
   "metadata": {
    "ExecuteTime": {
     "end_time": "2020-05-14T07:48:47.313674Z",
     "start_time": "2020-05-14T07:48:47.308143Z"
    }
   },
   "outputs": [
    {
     "name": "stdout",
     "output_type": "stream",
     "text": [
      "/Users/admin/Projects/doggo/notebooks\n",
      "/Users/admin/Projects/doggo\n"
     ]
    }
   ],
   "source": [
    "import os\n",
    "print(os.getcwd())\n",
    "def update_working_directory():\n",
    "    from pathlib import Path\n",
    "    p = Path(os.getcwd()).parents[0]\n",
    "    os.chdir(p)\n",
    "    print(p)\n",
    "update_working_directory()"
   ]
  },
  {
   "cell_type": "code",
   "execution_count": 2,
   "metadata": {
    "ExecuteTime": {
     "end_time": "2020-05-14T07:48:48.635943Z",
     "start_time": "2020-05-14T07:48:47.818661Z"
    }
   },
   "outputs": [],
   "source": [
    "import numpy as np\n",
    "from tqdm import tqdm\n",
    "import json\n",
    "import sys\n",
    "\n",
    "from src.data.env_dog import get_env_actions, get_env_space, env_reset, get_happiness, env_step, env_render\n",
    "\n",
    "from src.features.rl_tools import init_Q, init_steps_per_state, get_epsilon, get_alpha, epsilon_greedy, update_steps_per_state\n",
    "from src.features.rl_tools_during_training import get_default_checking, launch_checking, save_models, display_analyse_Q\n",
    "\n",
    "from src.features.rl_tools_sarsa import update_Q_SARSA\n",
    "\n",
    "from src.utils.plots import get_info_params\n",
    "from src.visualization.rl_plots_evolution import plot_evolution_reward, plot_evolution_steps\n",
    "from src.visualization.plot_happiness import plot_evolution_happiness"
   ]
  },
  {
   "cell_type": "code",
   "execution_count": 3,
   "metadata": {
    "ExecuteTime": {
     "end_time": "2020-05-14T07:48:48.641682Z",
     "start_time": "2020-05-14T07:48:48.638253Z"
    }
   },
   "outputs": [],
   "source": [
    "method = 'sarsa'\n",
    "\n",
    "# Parametrisation\n",
    "params = json.loads(open('src/models/{}.json'.format(method)).read())\n",
    "print(params)"
   ]
  },
  {
   "cell_type": "code",
   "execution_count": 5,
   "metadata": {
    "ExecuteTime": {
     "end_time": "2020-05-14T07:48:49.326874Z",
     "start_time": "2020-05-14T07:48:49.322425Z"
    }
   },
   "outputs": [],
   "source": [
    "info_params = get_info_params({\n",
    "    'method': params['method']\n",
    "    , 'n_episodes': 0\n",
    "    , 'nmax_steps': params['nmax_steps']\n",
    "    , 'init_epsilon': params['init_epsilon']\n",
    "    , 'init_alpha': params['init_alpha']\n",
    "    , 'gamma': params['gamma']\n",
    "})"
   ]
  },
  {
   "cell_type": "code",
   "execution_count": 6,
   "metadata": {
    "ExecuteTime": {
     "end_time": "2020-05-14T07:48:49.887876Z",
     "start_time": "2020-05-14T07:48:49.882522Z"
    }
   },
   "outputs": [],
   "source": [
    "# Initializing environment\n",
    "action_dict, n_actions = get_env_actions()\n",
    "_, n_states = get_env_space()\n",
    "\n",
    "# Initializing the Q-matrix\n",
    "Q = init_Q(n_actions, params['init_Q_type'])\n",
    "Q_saved = Q.copy()\n",
    "\n",
    "steps_per_state = init_steps_per_state()\n",
    "\n",
    "# Visualisation\n",
    "n_episodes_save = int(np.ceil(params['n_episodes'] / 100))\n",
    "\n",
    "# Initializing the reward\n",
    "evo_training = {\n",
    "    'evo_avg_reward_per_step': []\n",
    "    , 'evo_n_steps': []\n",
    "    , 'evo_avg_happiness': []\n",
    "    , 'checking': get_default_checking()\n",
    "}"
   ]
  },
  {
   "cell_type": "code",
   "execution_count": 7,
   "metadata": {
    "ExecuteTime": {
     "end_time": "2020-05-14T07:49:10.557230Z",
     "start_time": "2020-05-14T07:48:50.792573Z"
    }
   },
   "outputs": [
    {
     "name": "stderr",
     "output_type": "stream",
     "text": [
      "  0%|          | 19/10000 [00:00<01:48, 91.74it/s] "
     ]
    },
    {
     "name": "stdout",
     "output_type": "stream",
     "text": [
      "Episode 1, Avg Reward : -19.755, Timesteps: 50, Epsilon: 0.1, Alpha: 0.5\n",
      "Episode 2, Avg Reward : -19.755, Timesteps: 50, Epsilon: 0.09090909090909091, Alpha: 0.45454545454545453\n",
      "Episode 3, Avg Reward : -19.755, Timesteps: 50, Epsilon: 0.1, Alpha: 0.4166666666666667\n",
      "Episode 4, Avg Reward : -3.180353356890459, Timesteps: 283, Epsilon: 0.1, Alpha: 0.3846153846153846\n",
      "Episode 5, Avg Reward : -8.743727272727272, Timesteps: 110, Epsilon: 0.1, Alpha: 0.35714285714285715\n",
      "Episode 6, Avg Reward : -6.8408633093525175, Timesteps: 139, Epsilon: 0.1, Alpha: 0.3333333333333333\n",
      "Episode 7, Avg Reward : -8.735272727272728, Timesteps: 110, Epsilon: 0.1, Alpha: 0.3125\n",
      "Episode 8, Avg Reward : -3.180353356890459, Timesteps: 283, Epsilon: 0.09090909090909091, Alpha: 0.29411764705882354\n",
      "Episode 9, Avg Reward : -11.894878048780487, Timesteps: 82, Epsilon: 0.1, Alpha: 0.2777777777777778\n",
      "Episode 10, Avg Reward : -19.755, Timesteps: 50, Epsilon: 0.08333333333333334, Alpha: 0.2631578947368421\n",
      "Episode 11, Avg Reward : -4.777512953367875, Timesteps: 193, Epsilon: 0.1, Alpha: 0.25\n",
      "Episode 12, Avg Reward : -19.755, Timesteps: 50, Epsilon: 0.1, Alpha: 0.23809523809523808\n",
      "Episode 13, Avg Reward : -19.755, Timesteps: 50, Epsilon: 0.1, Alpha: 0.22727272727272727\n",
      "Episode 14, Avg Reward : -2.641752265861027, Timesteps: 331, Epsilon: 0.1, Alpha: 0.2173913043478261\n",
      "Episode 15, Avg Reward : -4.622786069651741, Timesteps: 201, Epsilon: 0.1, Alpha: 0.20833333333333334\n",
      "Episode 16, Avg Reward : -3.180353356890459, Timesteps: 283, Epsilon: 0.08333333333333334, Alpha: 0.2\n",
      "Episode 17, Avg Reward : -3.4199239543726234, Timesteps: 263, Epsilon: 0.09090909090909091, Alpha: 0.1923076923076923\n",
      "Episode 18, Avg Reward : -5.40017441860465, Timesteps: 172, Epsilon: 0.1, Alpha: 0.18518518518518517\n",
      "Episode 19, Avg Reward : -2.875709677419354, Timesteps: 310, Epsilon: 0.09090909090909091, Alpha: 0.17857142857142858\n",
      "Episode 20, Avg Reward : -5.075611111111112, Timesteps: 180, Epsilon: 0.1, Alpha: 0.1724137931034483\n",
      "Episode 21, Avg Reward : -3.4997674418604645, Timesteps: 258, Epsilon: 0.08333333333333334, Alpha: 0.16666666666666666\n",
      "Episode 22, Avg Reward : -5.338465909090909, Timesteps: 176, Epsilon: 0.09090909090909091, Alpha: 0.16129032258064516\n"
     ]
    },
    {
     "name": "stderr",
     "output_type": "stream",
     "text": [
      "  0%|          | 32/10000 [00:00<02:20, 70.76it/s]"
     ]
    },
    {
     "name": "stdout",
     "output_type": "stream",
     "text": [
      "Episode 23, Avg Reward : -3.9892241379310347, Timesteps: 232, Epsilon: 0.1, Alpha: 0.15625\n",
      "Episode 24, Avg Reward : -3.151958041958042, Timesteps: 286, Epsilon: 0.07692307692307693, Alpha: 0.15151515151515152\n",
      "Episode 25, Avg Reward : -3.989353448275862, Timesteps: 232, Epsilon: 0.1, Alpha: 0.14705882352941177\n",
      "Episode 26, Avg Reward : -5.021989247311828, Timesteps: 186, Epsilon: 0.07142857142857144, Alpha: 0.14285714285714285\n",
      "Episode 27, Avg Reward : -3.647103174603175, Timesteps: 252, Epsilon: 0.09090909090909091, Alpha: 0.1388888888888889\n",
      "Episode 28, Avg Reward : -6.067388535031847, Timesteps: 157, Epsilon: 0.08333333333333334, Alpha: 0.13513513513513511\n",
      "Episode 29, Avg Reward : -3.6937246963562753, Timesteps: 247, Epsilon: 0.07692307692307693, Alpha: 0.13157894736842105\n",
      "Episode 30, Avg Reward : -3.6273122529644266, Timesteps: 253, Epsilon: 0.1, Alpha: 0.12820512820512822\n",
      "Episode 31, Avg Reward : -6.225882352941176, Timesteps: 153, Epsilon: 0.09090909090909091, Alpha: 0.125\n",
      "Episode 32, Avg Reward : -1.6940495867768595, Timesteps: 484, Epsilon: 0.07142857142857144, Alpha: 0.12195121951219513\n",
      "Episode 33, Avg Reward : -19.755, Timesteps: 50, Epsilon: 0.09090909090909091, Alpha: 0.11904761904761904\n",
      "Episode 34, Avg Reward : -2.4783333333333335, Timesteps: 360, Epsilon: 0.08333333333333334, Alpha: 0.11627906976744186\n",
      "Episode 35, Avg Reward : -1.312122807017544, Timesteps: 570, Epsilon: 0.08333333333333334, Alpha: 0.11363636363636363\n",
      "Episode 36, Avg Reward : -3.180353356890459, Timesteps: 283, Epsilon: 0.07692307692307693, Alpha: 0.1111111111111111"
     ]
    },
    {
     "name": "stderr",
     "output_type": "stream",
     "text": [
      "  0%|          | 44/10000 [00:00<02:49, 58.90it/s]"
     ]
    },
    {
     "name": "stdout",
     "output_type": "stream",
     "text": [
      "\n",
      "Episode 37, Avg Reward : -3.3921052631578945, Timesteps: 266, Epsilon: 0.08333333333333334, Alpha: 0.10869565217391305\n",
      "Episode 38, Avg Reward : -7.259318181818181, Timesteps: 132, Epsilon: 0.07692307692307693, Alpha: 0.10638297872340426\n",
      "Episode 39, Avg Reward : -3.3161992619926193, Timesteps: 271, Epsilon: 0.07692307692307693, Alpha: 0.10416666666666667\n",
      "Episode 40, Avg Reward : -5.630710059171597, Timesteps: 169, Epsilon: 0.07142857142857144, Alpha: 0.1020408163265306\n",
      "Episode 41, Avg Reward : -3.2337366548042707, Timesteps: 281, Epsilon: 0.1, Alpha: 0.1\n",
      "Episode 42, Avg Reward : -5.328983050847458, Timesteps: 177, Epsilon: 0.07142857142857144, Alpha: 0.09803921568627452\n",
      "Episode 43, Avg Reward : -1.920294784580498, Timesteps: 441, Epsilon: 0.06666666666666667, Alpha: 0.09615384615384615\n",
      "Episode 44, Avg Reward : -2.8624193548387096, Timesteps: 310, Epsilon: 0.0625, Alpha: 0.09433962264150944\n",
      "Episode 45, Avg Reward : -1.5710556621880993, Timesteps: 521, Epsilon: 0.1, Alpha: 0.09259259259259259\n",
      "Episode 46, Avg Reward : -2.646084337349398, Timesteps: 332, Epsilon: 0.06666666666666667, Alpha: 0.09090909090909091\n",
      "Episode 47, Avg Reward : -7.023333333333334, Timesteps: 135, Epsilon: 0.0625, Alpha: 0.08928571428571429\n"
     ]
    },
    {
     "name": "stderr",
     "output_type": "stream",
     "text": [
      "  1%|          | 55/10000 [00:00<03:47, 43.69it/s]"
     ]
    },
    {
     "name": "stdout",
     "output_type": "stream",
     "text": [
      "Episode 48, Avg Reward : -1.6826441351888664, Timesteps: 503, Epsilon: 0.07692307692307693, Alpha: 0.08771929824561403\n",
      "Episode 49, Avg Reward : -2.0114285714285716, Timesteps: 420, Epsilon: 0.05882352941176471, Alpha: 0.08620689655172414\n",
      "Episode 50, Avg Reward : -3.3828195488721806, Timesteps: 266, Epsilon: 0.05882352941176471, Alpha: 0.0847457627118644\n",
      "Episode 51, Avg Reward : -2.57067055393586, Timesteps: 343, Epsilon: 0.1, Alpha: 0.08333333333333333\n",
      "Episode 52, Avg Reward : -4.679547738693468, Timesteps: 199, Epsilon: 0.05555555555555556, Alpha: 0.0819672131147541\n",
      "Episode 53, Avg Reward : -1.9802088167053367, Timesteps: 431, Epsilon: 0.052631578947368425, Alpha: 0.08064516129032258\n",
      "Episode 54, Avg Reward : -2.6922560975609753, Timesteps: 328, Epsilon: 0.1, Alpha: 0.07936507936507936\n",
      "Episode 55, Avg Reward : -1.018845598845601, Timesteps: 693, Epsilon: 0.1, Alpha: 0.078125\n",
      "Episode 56, Avg Reward : -8.19965811965812, Timesteps: 117, Epsilon: 0.06666666666666667, Alpha: 0.07692307692307693\n"
     ]
    },
    {
     "name": "stderr",
     "output_type": "stream",
     "text": [
      "\r",
      "  1%|          | 60/10000 [00:01<03:40, 45.18it/s]"
     ]
    },
    {
     "name": "stdout",
     "output_type": "stream",
     "text": [
      "Episode 57, Avg Reward : -3.1755123674911663, Timesteps: 283, Epsilon: 0.1, Alpha: 0.07575757575757576\n",
      "Episode 58, Avg Reward : -3.4159701492537318, Timesteps: 268, Epsilon: 0.05, Alpha: 0.07462686567164178\n",
      "Episode 59, Avg Reward : -7.65368, Timesteps: 125, Epsilon: 0.1, Alpha: 0.07352941176470588\n",
      "Episode 60, Avg Reward : -1.6055905511811026, Timesteps: 508, Epsilon: 0.0625, Alpha: 0.07246376811594203\n",
      "Episode 61, Avg Reward : -4.679547738693468, Timesteps: 199, Epsilon: 0.047619047619047616, Alpha: 0.07142857142857142\n",
      "Episode 62, Avg Reward : -1.155515695067265, Timesteps: 669, Epsilon: 0.09090909090909091, Alpha: 0.07042253521126761\n",
      "Episode 63, Avg Reward : -2.051722488038277, Timesteps: 418, Epsilon: 0.1, Alpha: 0.06944444444444445\n",
      "Episode 64, Avg Reward : -2.9733443708609273, Timesteps: 302, Epsilon: 0.05555555555555556, Alpha: 0.0684931506849315\n",
      "Episode 65, Avg Reward : -4.001206896551724, Timesteps: 232, Epsilon: 0.1, Alpha: 0.06756756756756756"
     ]
    },
    {
     "name": "stderr",
     "output_type": "stream",
     "text": [
      "  1%|          | 70/10000 [00:01<04:09, 39.84it/s]"
     ]
    },
    {
     "name": "stdout",
     "output_type": "stream",
     "text": [
      "\n",
      "Episode 66, Avg Reward : -3.180353356890459, Timesteps: 283, Epsilon: 0.1, Alpha: 0.06666666666666667\n",
      "Episode 67, Avg Reward : -5.791524390243901, Timesteps: 164, Epsilon: 0.06666666666666667, Alpha: 0.06578947368421052\n",
      "Episode 68, Avg Reward : -1.5727447216890589, Timesteps: 521, Epsilon: 0.1, Alpha: 0.06493506493506493\n",
      "Episode 69, Avg Reward : -3.180353356890459, Timesteps: 283, Epsilon: 0.07142857142857144, Alpha: 0.06410256410256411\n",
      "Episode 70, Avg Reward : -1.0707988587731805, Timesteps: 701, Epsilon: 0.07142857142857144, Alpha: 0.06329113924050632\n",
      "Episode 71, Avg Reward : -2.2379328165374672, Timesteps: 387, Epsilon: 0.06666666666666667, Alpha: 0.0625\n",
      "Episode 72, Avg Reward : -3.2814748201438864, Timesteps: 278, Epsilon: 0.045454545454545456, Alpha: 0.0617283950617284\n"
     ]
    },
    {
     "name": "stderr",
     "output_type": "stream",
     "text": [
      "  1%|          | 83/10000 [00:01<04:31, 36.57it/s]"
     ]
    },
    {
     "name": "stdout",
     "output_type": "stream",
     "text": [
      "Episode 73, Avg Reward : -1.5467424242424246, Timesteps: 528, Epsilon: 0.04347826086956522, Alpha: 0.06097560975609757\n",
      "Episode 74, Avg Reward : -1.8010389610389606, Timesteps: 462, Epsilon: 0.1, Alpha: 0.06024096385542168\n",
      "Episode 75, Avg Reward : -1.5437404580152665, Timesteps: 524, Epsilon: 0.04166666666666667, Alpha: 0.05952380952380952\n",
      "Episode 76, Avg Reward : -3.9892241379310347, Timesteps: 232, Epsilon: 0.09090909090909091, Alpha: 0.058823529411764705\n",
      "Episode 77, Avg Reward : -1.7828017241379308, Timesteps: 464, Epsilon: 0.09090909090909091, Alpha: 0.05813953488372093\n",
      "Episode 78, Avg Reward : -1.2503338632750405, Timesteps: 629, Epsilon: 0.052631578947368425, Alpha: 0.0574712643678161\n",
      "Episode 79, Avg Reward : -5.5953846153846145, Timesteps: 169, Epsilon: 0.08333333333333334, Alpha: 0.056818181818181816\n",
      "Episode 80, Avg Reward : -1.7732908704883223, Timesteps: 471, Epsilon: 0.08333333333333334, Alpha: 0.056179775280898875\n",
      "Episode 81, Avg Reward : -1.6681174089068818, Timesteps: 494, Epsilon: 0.1, Alpha: 0.05555555555555555\n",
      "Episode 82, Avg Reward : -1.5565648854961827, Timesteps: 524, Epsilon: 0.0625, Alpha: 0.054945054945054944\n",
      "Episode 83, Avg Reward : -8.701727272727274, Timesteps: 110, Epsilon: 0.09090909090909091, Alpha: 0.05434782608695653\n"
     ]
    },
    {
     "name": "stderr",
     "output_type": "stream",
     "text": [
      "\r",
      "  1%|          | 87/10000 [00:01<05:06, 32.39it/s]"
     ]
    },
    {
     "name": "stdout",
     "output_type": "stream",
     "text": [
      "Episode 84, Avg Reward : -1.7386723768736623, Timesteps: 467, Epsilon: 0.05, Alpha: 0.05376344086021505\n",
      "Episode 85, Avg Reward : -1.7785470085470085, Timesteps: 468, Epsilon: 0.05882352941176471, Alpha: 0.05319148936170213\n",
      "Episode 86, Avg Reward : -2.566109510086455, Timesteps: 347, Epsilon: 0.047619047619047616, Alpha: 0.05263157894736842\n",
      "Episode 87, Avg Reward : -0.8827941176470577, Timesteps: 816, Epsilon: 0.05555555555555556, Alpha: 0.052083333333333336\n",
      "Episode 88, Avg Reward : -2.852475884244373, Timesteps: 311, Epsilon: 0.052631578947368425, Alpha: 0.051546391752577324\n",
      "Episode 89, Avg Reward : -6.471836734693877, Timesteps: 147, Epsilon: 0.045454545454545456, Alpha: 0.0510204081632653\n",
      "Episode 90, Avg Reward : -0.8784577723378216, Timesteps: 817, Epsilon: 0.04, Alpha: 0.050505050505050504\n"
     ]
    },
    {
     "name": "stderr",
     "output_type": "stream",
     "text": [
      "  1%|          | 95/10000 [00:02<05:28, 30.19it/s]"
     ]
    },
    {
     "name": "stdout",
     "output_type": "stream",
     "text": [
      "Episode 91, Avg Reward : -1.5467424242424246, Timesteps: 528, Epsilon: 0.038461538461538464, Alpha: 0.05\n",
      "Episode 92, Avg Reward : -0.9133844189016602, Timesteps: 783, Epsilon: 0.037037037037037035, Alpha: 0.04950495049504951\n",
      "Episode 93, Avg Reward : -1.2901652892561983, Timesteps: 605, Epsilon: 0.09090909090909091, Alpha: 0.04901960784313726\n",
      "Episode 94, Avg Reward : -1.5467424242424246, Timesteps: 528, Epsilon: 0.03571428571428572, Alpha: 0.04854368932038835\n",
      "Episode 95, Avg Reward : -3.3610074626865667, Timesteps: 268, Epsilon: 0.034482758620689655, Alpha: 0.04807692307692307\n",
      "Episode 96, Avg Reward : -7.65368, Timesteps: 125, Epsilon: 0.09090909090909091, Alpha: 0.047619047619047616\n",
      "Episode 97, Avg Reward : -3.992652173913043, Timesteps: 230, Epsilon: 0.05, Alpha: 0.04716981132075472\n"
     ]
    },
    {
     "name": "stderr",
     "output_type": "stream",
     "text": [
      "  1%|          | 104/10000 [00:02<04:47, 34.44it/s]"
     ]
    },
    {
     "name": "stdout",
     "output_type": "stream",
     "text": [
      "Episode 98, Avg Reward : -1.6067058823529412, Timesteps: 510, Epsilon: 0.03333333333333333, Alpha: 0.04672897196261683\n",
      "Episode 99, Avg Reward : -4.238211009174313, Timesteps: 218, Epsilon: 0.03225806451612903, Alpha: 0.046296296296296294\n",
      "Episode 100, Avg Reward : -1.4929670329670335, Timesteps: 546, Epsilon: 0.03125, Alpha: 0.04587155963302752\n",
      "Episode 101, Avg Reward : -1.6741869918699184, Timesteps: 492, Epsilon: 0.030303030303030307, Alpha: 0.045454545454545456\n",
      "Episode 102, Avg Reward : -3.7181300813008127, Timesteps: 246, Epsilon: 0.1, Alpha: 0.04504504504504505\n",
      "Episode 103, Avg Reward : -5.35784090909091, Timesteps: 176, Epsilon: 0.029411764705882356, Alpha: 0.044642857142857144\n",
      "Episode 104, Avg Reward : -1.4873636363636358, Timesteps: 550, Epsilon: 0.07692307692307693, Alpha: 0.04424778761061947\n",
      "Episode 105, Avg Reward : -2.527528735632184, Timesteps: 348, Epsilon: 0.0625, Alpha: 0.043859649122807015\n",
      "Episode 106, Avg Reward : -0.773789237668161, Timesteps: 892, Epsilon: 0.047619047619047616, Alpha: 0.043478260869565216\n"
     ]
    },
    {
     "name": "stderr",
     "output_type": "stream",
     "text": [
      "  1%|          | 112/10000 [00:02<04:58, 33.09it/s]"
     ]
    },
    {
     "name": "stdout",
     "output_type": "stream",
     "text": [
      "Episode 107, Avg Reward : -1.5727447216890589, Timesteps: 521, Epsilon: 0.1, Alpha: 0.04310344827586207\n",
      "Episode 108, Avg Reward : -2.048992805755396, Timesteps: 417, Epsilon: 0.09090909090909091, Alpha: 0.042735042735042736\n",
      "Episode 109, Avg Reward : -1.543686200378072, Timesteps: 529, Epsilon: 0.045454545454545456, Alpha: 0.0423728813559322\n",
      "Episode 110, Avg Reward : -8.735272727272728, Timesteps: 110, Epsilon: 0.08333333333333334, Alpha: 0.04201680672268907\n",
      "Episode 111, Avg Reward : -2.852475884244373, Timesteps: 311, Epsilon: 0.04347826086956522, Alpha: 0.041666666666666664\n",
      "Episode 112, Avg Reward : -1.6324554455445528, Timesteps: 505, Epsilon: 0.04166666666666667, Alpha: 0.04132231404958678\n",
      "Episode 113, Avg Reward : -1.5470454545454548, Timesteps: 528, Epsilon: 0.04, Alpha: 0.04098360655737705\n",
      "Episode 114, Avg Reward : -1.543686200378072, Timesteps: 529, Epsilon: 0.038461538461538464, Alpha: 0.04065040650406504"
     ]
    },
    {
     "name": "stderr",
     "output_type": "stream",
     "text": [
      "  1%|          | 119/10000 [00:02<06:07, 26.88it/s]"
     ]
    },
    {
     "name": "stdout",
     "output_type": "stream",
     "text": [
      "\n",
      "Episode 115, Avg Reward : -1.543686200378072, Timesteps: 529, Epsilon: 0.037037037037037035, Alpha: 0.04032258064516129\n",
      "Episode 116, Avg Reward : 0.48420833333332947, Timesteps: 1440, Epsilon: 0.02127659574468085, Alpha: 0.04\n",
      "Episode 117, Avg Reward : -1.0446473029045649, Timesteps: 723, Epsilon: 0.07142857142857144, Alpha: 0.03968253968253968\n",
      "Episode 118, Avg Reward : -2.097941176470588, Timesteps: 408, Epsilon: 0.03571428571428572, Alpha: 0.03937007874015748\n",
      "Episode 119, Avg Reward : -1.7310187110187123, Timesteps: 481, Epsilon: 0.034482758620689655, Alpha: 0.0390625\n",
      "Episode 120, Avg Reward : -19.755, Timesteps: 50, Epsilon: 0.07692307692307693, Alpha: 0.03875968992248062\n",
      "Episode 121, Avg Reward : -19.755, Timesteps: 50, Epsilon: 0.07142857142857144, Alpha: 0.038461538461538464\n",
      "Episode 122, Avg Reward : -19.755, Timesteps: 50, Epsilon: 0.06666666666666667, Alpha: 0.03816793893129771\n",
      "Episode 123, Avg Reward : -19.755, Timesteps: 50, Epsilon: 0.0625, Alpha: 0.03787878787878788\n",
      "Episode 124, Avg Reward : -19.755, Timesteps: 50, Epsilon: 0.05882352941176471, Alpha: 0.03759398496240601\n",
      "Episode 125, Avg Reward : -19.755, Timesteps: 50, Epsilon: 0.05555555555555556, Alpha: 0.03731343283582089\n",
      "Episode 126, Avg Reward : -19.755, Timesteps: 50, Epsilon: 0.052631578947368425, Alpha: 0.037037037037037035\n",
      "Episode 127, Avg Reward : -19.755, Timesteps: 50, Epsilon: 0.05, Alpha: 0.03676470588235294\n",
      "Episode 128, Avg Reward : -19.755, Timesteps: 50, Epsilon: 0.047619047619047616, Alpha: 0.03649635036496351\n",
      "Episode 129, Avg Reward : -19.755, Timesteps: 50, Epsilon: 0.045454545454545456, Alpha: 0.036231884057971016\n",
      "Episode 130, Avg Reward : -19.755, Timesteps: 50, Epsilon: 0.04347826086956522, Alpha: 0.03597122302158273\n",
      "Episode 131, Avg Reward : -19.755, Timesteps: 50, Epsilon: 0.04166666666666667, Alpha: 0.03571428571428571"
     ]
    },
    {
     "name": "stderr",
     "output_type": "stream",
     "text": [
      "  2%|▏         | 156/10000 [00:03<03:32, 46.36it/s]"
     ]
    },
    {
     "name": "stdout",
     "output_type": "stream",
     "text": [
      "\n",
      "Episode 132, Avg Reward : -19.755, Timesteps: 50, Epsilon: 0.04, Alpha: 0.03546099290780142\n",
      "Episode 133, Avg Reward : -19.755, Timesteps: 50, Epsilon: 0.038461538461538464, Alpha: 0.035211267605633804\n",
      "Episode 134, Avg Reward : -19.755, Timesteps: 50, Epsilon: 0.037037037037037035, Alpha: 0.03496503496503496\n",
      "Episode 135, Avg Reward : -19.755, Timesteps: 50, Epsilon: 0.03571428571428572, Alpha: 0.034722222222222224\n",
      "Episode 136, Avg Reward : -19.755, Timesteps: 50, Epsilon: 0.034482758620689655, Alpha: 0.034482758620689655\n",
      "Episode 137, Avg Reward : -19.755, Timesteps: 50, Epsilon: 0.03333333333333333, Alpha: 0.03424657534246575\n",
      "Episode 138, Avg Reward : -19.755, Timesteps: 50, Epsilon: 0.03225806451612903, Alpha: 0.034013605442176874\n",
      "Episode 139, Avg Reward : -19.755, Timesteps: 50, Epsilon: 0.03125, Alpha: 0.03378378378378378\n",
      "Episode 140, Avg Reward : -1.5252149532710284, Timesteps: 535, Epsilon: 0.028571428571428574, Alpha: 0.03355704697986577\n",
      "Episode 141, Avg Reward : -19.755, Timesteps: 50, Epsilon: 0.030303030303030307, Alpha: 0.03333333333333333\n",
      "Episode 142, Avg Reward : -19.755, Timesteps: 50, Epsilon: 0.029411764705882356, Alpha: 0.033112582781456956\n",
      "Episode 143, Avg Reward : -19.755, Timesteps: 50, Epsilon: 0.028571428571428574, Alpha: 0.03289473684210526\n",
      "Episode 144, Avg Reward : -19.755, Timesteps: 50, Epsilon: 0.02777777777777778, Alpha: 0.032679738562091505\n",
      "Episode 145, Avg Reward : -19.755, Timesteps: 50, Epsilon: 0.02702702702702703, Alpha: 0.032467532467532464\n",
      "Episode 146, Avg Reward : -6.017658227848101, Timesteps: 158, Epsilon: 0.02777777777777778, Alpha: 0.03225806451612903\n",
      "Episode 147, Avg Reward : -19.755, Timesteps: 50, Epsilon: 0.026315789473684213, Alpha: 0.032051282051282055\n",
      "Episode 148, Avg Reward : -19.755, Timesteps: 50, Epsilon: 0.025641025641025644, Alpha: 0.03184713375796178\n",
      "Episode 149, Avg Reward : -19.755, Timesteps: 50, Epsilon: 0.025, Alpha: 0.03164556962025316\n",
      "Episode 150, Avg Reward : -19.755, Timesteps: 50, Epsilon: 0.02439024390243903, Alpha: 0.031446540880503145\n",
      "Episode 151, Avg Reward : -2.8125632911392406, Timesteps: 316, Epsilon: 0.03333333333333333, Alpha: 0.03125\n",
      "Episode 152, Avg Reward : -19.755, Timesteps: 50, Epsilon: 0.023809523809523808, Alpha: 0.03105590062111801\n",
      "Episode 153, Avg Reward : -19.755, Timesteps: 50, Epsilon: 0.023255813953488375, Alpha: 0.0308641975308642\n",
      "Episode 154, Avg Reward : -19.755, Timesteps: 50, Epsilon: 0.022727272727272728, Alpha: 0.03067484662576687\n",
      "Episode 155, Avg Reward : -19.755, Timesteps: 50, Epsilon: 0.022222222222222223, Alpha: 0.030487804878048783\n",
      "Episode 156, Avg Reward : -1.5727447216890589, Timesteps: 521, Epsilon: 0.09090909090909091, Alpha: 0.030303030303030304\n",
      "Episode 157, Avg Reward : -19.755, Timesteps: 50, Epsilon: 0.02173913043478261, Alpha: 0.03012048192771084\n",
      "Episode 158, Avg Reward : -19.755, Timesteps: 50, Epsilon: 0.02127659574468085, Alpha: 0.029940119760479042\n",
      "Episode 159, Avg Reward : -19.755, Timesteps: 50, Epsilon: 0.020833333333333336, Alpha: 0.02976190476190476\n",
      "Episode 160, Avg Reward : -19.755, Timesteps: 50, Epsilon: 0.02040816326530612, Alpha: 0.02958579881656805\n",
      "Episode 161, Avg Reward : -4.616965174129352, Timesteps: 201, Epsilon: 0.03225806451612903, Alpha: 0.029411764705882353\n",
      "Episode 162, Avg Reward : -19.755, Timesteps: 50, Epsilon: 0.02, Alpha: 0.029239766081871343\n",
      "Episode 163, Avg Reward : -19.755, Timesteps: 50, Epsilon: 0.019607843137254905, Alpha: 0.029069767441860465\n",
      "Episode 164, Avg Reward : -19.755, Timesteps: 50, Epsilon: 0.019230769230769232, Alpha: 0.028901734104046242\n",
      "Episode 165, Avg Reward : -19.755, Timesteps: 50, Epsilon: 0.01886792452830189, Alpha: 0.02873563218390805"
     ]
    },
    {
     "name": "stderr",
     "output_type": "stream",
     "text": [
      "  2%|▏         | 182/10000 [00:03<02:33, 64.04it/s]"
     ]
    },
    {
     "name": "stdout",
     "output_type": "stream",
     "text": [
      "\n",
      "Episode 166, Avg Reward : -1.5165555555555548, Timesteps: 540, Epsilon: 0.09090909090909091, Alpha: 0.02857142857142857\n",
      "Episode 167, Avg Reward : -19.755, Timesteps: 50, Epsilon: 0.018518518518518517, Alpha: 0.028409090909090908\n",
      "Episode 168, Avg Reward : -19.755, Timesteps: 50, Epsilon: 0.018181818181818184, Alpha: 0.02824858757062147\n",
      "Episode 169, Avg Reward : -19.755, Timesteps: 50, Epsilon: 0.01785714285714286, Alpha: 0.028089887640449437\n",
      "Episode 170, Avg Reward : -19.755, Timesteps: 50, Epsilon: 0.017543859649122806, Alpha: 0.02793296089385475\n",
      "Episode 171, Avg Reward : -19.755, Timesteps: 50, Epsilon: 0.017241379310344827, Alpha: 0.027777777777777776\n",
      "Episode 172, Avg Reward : -1.4900183486238536, Timesteps: 545, Epsilon: 0.02702702702702703, Alpha: 0.027624309392265192\n",
      "Episode 173, Avg Reward : -19.755, Timesteps: 50, Epsilon: 0.01694915254237288, Alpha: 0.027472527472527472\n",
      "Episode 174, Avg Reward : -19.755, Timesteps: 50, Epsilon: 0.016666666666666666, Alpha: 0.0273224043715847\n",
      "Episode 175, Avg Reward : -19.755, Timesteps: 50, Epsilon: 0.01639344262295082, Alpha: 0.027173913043478264\n",
      "Episode 176, Avg Reward : -19.755, Timesteps: 50, Epsilon: 0.016129032258064516, Alpha: 0.02702702702702703\n",
      "Episode 177, Avg Reward : -2.2928415300546447, Timesteps: 366, Epsilon: 0.1, Alpha: 0.026881720430107524\n",
      "Episode 178, Avg Reward : -1.5727447216890589, Timesteps: 521, Epsilon: 0.1, Alpha: 0.026737967914438502\n",
      "Episode 179, Avg Reward : -19.755, Timesteps: 50, Epsilon: 0.015873015873015876, Alpha: 0.026595744680851064\n",
      "Episode 180, Avg Reward : -19.755, Timesteps: 50, Epsilon: 0.015625, Alpha: 0.026455026455026457\n",
      "Episode 181, Avg Reward : -19.755, Timesteps: 50, Epsilon: 0.015384615384615385, Alpha: 0.02631578947368421\n",
      "Episode 182, Avg Reward : -19.755, Timesteps: 50, Epsilon: 0.015151515151515154, Alpha: 0.026178010471204185\n",
      "Episode 183, Avg Reward : 0.49004861111110815, Timesteps: 1440, Epsilon: 0.01388888888888889, Alpha: 0.026041666666666668\n",
      "Episode 184, Avg Reward : -19.755, Timesteps: 50, Epsilon: 0.014925373134328358, Alpha: 0.025906735751295335\n",
      "Episode 185, Avg Reward : -19.755, Timesteps: 50, Epsilon: 0.014705882352941178, Alpha: 0.025773195876288662\n",
      "Episode 186, Avg Reward : -19.755, Timesteps: 50, Epsilon: 0.014492753623188406, Alpha: 0.02564102564102564"
     ]
    },
    {
     "name": "stderr",
     "output_type": "stream",
     "text": [
      "  2%|▏         | 202/10000 [00:03<02:28, 66.13it/s]"
     ]
    },
    {
     "name": "stdout",
     "output_type": "stream",
     "text": [
      "\n",
      "Episode 187, Avg Reward : -1.5252149532710284, Timesteps: 535, Epsilon: 0.026315789473684213, Alpha: 0.02551020408163265\n",
      "Episode 188, Avg Reward : -19.755, Timesteps: 50, Epsilon: 0.014285714285714287, Alpha: 0.025380710659898477\n",
      "Episode 189, Avg Reward : -19.755, Timesteps: 50, Epsilon: 0.014084507042253523, Alpha: 0.025252525252525252\n",
      "Episode 190, Avg Reward : -19.755, Timesteps: 50, Epsilon: 0.01388888888888889, Alpha: 0.02512562814070352\n",
      "Episode 191, Avg Reward : -19.755, Timesteps: 50, Epsilon: 0.013698630136986302, Alpha: 0.025\n",
      "Episode 192, Avg Reward : -1.4677495462794914, Timesteps: 551, Epsilon: 0.025641025641025644, Alpha: 0.02487562189054726\n",
      "Episode 193, Avg Reward : -19.755, Timesteps: 50, Epsilon: 0.013513513513513514, Alpha: 0.024752475247524754\n",
      "Episode 194, Avg Reward : -19.755, Timesteps: 50, Epsilon: 0.013333333333333334, Alpha: 0.02463054187192118\n",
      "Episode 195, Avg Reward : -19.755, Timesteps: 50, Epsilon: 0.013157894736842106, Alpha: 0.02450980392156863\n",
      "Episode 196, Avg Reward : -19.755, Timesteps: 50, Epsilon: 0.012987012987012988, Alpha: 0.024390243902439025\n",
      "Episode 197, Avg Reward : -0.9585416666666667, Timesteps: 768, Epsilon: 0.04347826086956522, Alpha: 0.024271844660194174\n",
      "Episode 198, Avg Reward : -19.755, Timesteps: 50, Epsilon: 0.012820512820512822, Alpha: 0.024154589371980676\n",
      "Episode 199, Avg Reward : -19.755, Timesteps: 50, Epsilon: 0.012658227848101266, Alpha: 0.024038461538461536\n",
      "Episode 200, Avg Reward : -19.755, Timesteps: 50, Epsilon: 0.0125, Alpha: 0.023923444976076555\n",
      "Episode 201, Avg Reward : -19.755, Timesteps: 50, Epsilon: 0.01234567901234568, Alpha: 0.023809523809523808\n",
      "Episode 202, Avg Reward : -1.952096774193549, Timesteps: 434, Epsilon: 0.03125, Alpha: 0.023696682464454975\n",
      "Episode 203, Avg Reward : -19.755, Timesteps: 50, Epsilon: 0.012195121951219514, Alpha: 0.02358490566037736\n",
      "Episode 204, Avg Reward : -19.755, Timesteps: 50, Epsilon: 0.012048192771084336, Alpha: 0.023474178403755867\n",
      "Episode 205, Avg Reward : -19.755, Timesteps: 50, Epsilon: 0.011904761904761904, Alpha: 0.023364485981308414\n",
      "Episode 206, Avg Reward : -19.755, Timesteps: 50, Epsilon: 0.011764705882352941, Alpha: 0.023255813953488372\n",
      "Episode 207, Avg Reward : -1.5252149532710284, Timesteps: 535, Epsilon: 0.025, Alpha: 0.023148148148148147\n",
      "Episode 208, Avg Reward : -19.755, Timesteps: 50, Epsilon: 0.011627906976744188, Alpha: 0.02304147465437788\n",
      "Episode 209, Avg Reward : -19.755, Timesteps: 50, Epsilon: 0.01149425287356322, Alpha: 0.02293577981651376\n",
      "Episode 210, Avg Reward : -1.5252149532710284, Timesteps: 535, Epsilon: 0.02439024390243903, Alpha: 0.022831050228310504"
     ]
    },
    {
     "name": "stderr",
     "output_type": "stream",
     "text": [
      "  2%|▏         | 221/10000 [00:03<02:08, 76.25it/s]"
     ]
    },
    {
     "name": "stdout",
     "output_type": "stream",
     "text": [
      "\n",
      "Episode 211, Avg Reward : -19.755, Timesteps: 50, Epsilon: 0.011363636363636364, Alpha: 0.022727272727272728\n",
      "Episode 212, Avg Reward : -19.755, Timesteps: 50, Epsilon: 0.011235955056179775, Alpha: 0.02262443438914027\n",
      "Episode 213, Avg Reward : -19.755, Timesteps: 50, Epsilon: 0.011111111111111112, Alpha: 0.022522522522522525\n",
      "Episode 214, Avg Reward : -19.755, Timesteps: 50, Epsilon: 0.01098901098901099, Alpha: 0.02242152466367713\n",
      "Episode 215, Avg Reward : -19.755, Timesteps: 50, Epsilon: 0.010869565217391306, Alpha: 0.022321428571428572\n",
      "Episode 216, Avg Reward : -1.391906412478337, Timesteps: 577, Epsilon: 0.023809523809523808, Alpha: 0.022222222222222223\n",
      "Episode 217, Avg Reward : -19.755, Timesteps: 50, Epsilon: 0.01075268817204301, Alpha: 0.022123893805309734\n",
      "Episode 218, Avg Reward : -19.755, Timesteps: 50, Epsilon: 0.010638297872340425, Alpha: 0.022026431718061675\n",
      "Episode 219, Avg Reward : -19.755, Timesteps: 50, Epsilon: 0.010526315789473684, Alpha: 0.021929824561403508\n",
      "Episode 220, Avg Reward : -19.755, Timesteps: 50, Epsilon: 0.010416666666666668, Alpha: 0.02183406113537118\n",
      "Episode 221, Avg Reward : -1.5189013035381755, Timesteps: 537, Epsilon: 0.04166666666666667, Alpha: 0.021739130434782608\n",
      "Episode 222, Avg Reward : -19.755, Timesteps: 50, Epsilon: 0.010309278350515465, Alpha: 0.021645021645021644\n",
      "Episode 223, Avg Reward : -19.755, Timesteps: 50, Epsilon: 0.01020408163265306, Alpha: 0.021551724137931036\n",
      "Episode 224, Avg Reward : -19.755, Timesteps: 50, Epsilon: 0.010101010101010102, Alpha: 0.02145922746781116\n",
      "Episode 225, Avg Reward : -7.125895522388059, Timesteps: 134, Epsilon: 0.030303030303030307, Alpha: 0.021367521367521368\n",
      "Episode 226, Avg Reward : -19.755, Timesteps: 50, Epsilon: 0.01, Alpha: 0.02127659574468085\n",
      "Episode 227, Avg Reward : -19.755, Timesteps: 50, Epsilon: 0.009900990099009901, Alpha: 0.0211864406779661\n",
      "Episode 228, Avg Reward : -19.755, Timesteps: 50, Epsilon: 0.009803921568627453, Alpha: 0.02109704641350211\n",
      "Episode 229, Avg Reward : -19.755, Timesteps: 50, Epsilon: 0.009708737864077669, Alpha: 0.021008403361344536\n",
      "Episode 230, Avg Reward : -19.755, Timesteps: 50, Epsilon: 0.009615384615384616, Alpha: 0.020920502092050212\n",
      "Episode 231, Avg Reward : -3.180353356890459, Timesteps: 283, Epsilon: 0.06666666666666667, Alpha: 0.020833333333333332\n",
      "Episode 232, Avg Reward : -19.755, Timesteps: 50, Epsilon: 0.009523809523809525, Alpha: 0.02074688796680498\n",
      "Episode 233, Avg Reward : -19.755, Timesteps: 50, Epsilon: 0.009433962264150945, Alpha: 0.02066115702479339\n",
      "Episode 234, Avg Reward : -19.755, Timesteps: 50, Epsilon: 0.009345794392523366, Alpha: 0.0205761316872428\n"
     ]
    },
    {
     "name": "stderr",
     "output_type": "stream",
     "text": [
      "  2%|▏         | 249/10000 [00:04<01:44, 93.13it/s]"
     ]
    },
    {
     "name": "stdout",
     "output_type": "stream",
     "text": [
      "Episode 235, Avg Reward : -1.5189013035381755, Timesteps: 537, Epsilon: 0.04, Alpha: 0.020491803278688527\n",
      "Episode 236, Avg Reward : -19.755, Timesteps: 50, Epsilon: 0.009259259259259259, Alpha: 0.02040816326530612\n",
      "Episode 237, Avg Reward : -19.755, Timesteps: 50, Epsilon: 0.009174311926605505, Alpha: 0.02032520325203252\n",
      "Episode 238, Avg Reward : -19.755, Timesteps: 50, Epsilon: 0.009090909090909092, Alpha: 0.020242914979757085\n",
      "Episode 239, Avg Reward : -2.1440249999999996, Timesteps: 400, Epsilon: 0.023255813953488375, Alpha: 0.020161290322580645\n",
      "Episode 240, Avg Reward : -19.755, Timesteps: 50, Epsilon: 0.009009009009009009, Alpha: 0.020080321285140562\n",
      "Episode 241, Avg Reward : -19.755, Timesteps: 50, Epsilon: 0.00892857142857143, Alpha: 0.02\n",
      "Episode 242, Avg Reward : -19.755, Timesteps: 50, Epsilon: 0.008849557522123894, Alpha: 0.0199203187250996\n",
      "Episode 243, Avg Reward : -19.755, Timesteps: 50, Epsilon: 0.008771929824561403, Alpha: 0.01984126984126984\n",
      "Episode 244, Avg Reward : -3.180353356890459, Timesteps: 283, Epsilon: 0.09090909090909091, Alpha: 0.019762845849802372\n",
      "Episode 245, Avg Reward : -19.755, Timesteps: 50, Epsilon: 0.008695652173913044, Alpha: 0.01968503937007874\n",
      "Episode 246, Avg Reward : -19.755, Timesteps: 50, Epsilon: 0.008620689655172414, Alpha: 0.0196078431372549\n",
      "Episode 247, Avg Reward : -19.755, Timesteps: 50, Epsilon: 0.008547008547008548, Alpha: 0.01953125\n",
      "Episode 248, Avg Reward : -19.755, Timesteps: 50, Epsilon: 0.00847457627118644, Alpha: 0.019455252918287938\n",
      "Episode 249, Avg Reward : -2.0542105263157895, Timesteps: 418, Epsilon: 0.1, Alpha: 0.01937984496124031\n",
      "Episode 250, Avg Reward : -19.755, Timesteps: 50, Epsilon: 0.008403361344537815, Alpha: 0.019305019305019305\n",
      "Episode 251, Avg Reward : -19.755, Timesteps: 50, Epsilon: 0.008333333333333333, Alpha: 0.019230769230769232\n",
      "Episode 252, Avg Reward : -19.755, Timesteps: 50, Epsilon: 0.008264462809917356, Alpha: 0.019157088122605363\n",
      "Episode 253, Avg Reward : -3.180353356890459, Timesteps: 283, Epsilon: 0.0625, Alpha: 0.019083969465648856\n",
      "Episode 254, Avg Reward : -19.755, Timesteps: 50, Epsilon: 0.00819672131147541, Alpha: 0.019011406844106463\n",
      "Episode 255, Avg Reward : -19.755, Timesteps: 50, Epsilon: 0.008130081300813007, Alpha: 0.01893939393939394\n",
      "Episode 256, Avg Reward : -19.755, Timesteps: 50, Epsilon: 0.008064516129032258, Alpha: 0.018867924528301886\n",
      "Episode 257, Avg Reward : -19.755, Timesteps: 50, Epsilon: 0.008, Alpha: 0.018796992481203006\n",
      "Episode 258, Avg Reward : -3.180353356890459, Timesteps: 283, Epsilon: 0.05882352941176471, Alpha: 0.018726591760299626\n",
      "Episode 259, Avg Reward : -19.755, Timesteps: 50, Epsilon: 0.007936507936507938, Alpha: 0.018656716417910446\n",
      "Episode 260, Avg Reward : -19.755, Timesteps: 50, Epsilon: 0.007874015748031498, Alpha: 0.01858736059479554\n",
      "Episode 261, Avg Reward : -19.755, Timesteps: 50, Epsilon: 0.0078125, Alpha: 0.018518518518518517\n",
      "Episode 262, Avg Reward : -3.180353356890459, Timesteps: 283, Epsilon: 0.09090909090909091, Alpha: 0.01845018450184502"
     ]
    },
    {
     "name": "stderr",
     "output_type": "stream",
     "text": [
      "  3%|▎         | 276/10000 [00:04<01:32, 104.77it/s]"
     ]
    },
    {
     "name": "stdout",
     "output_type": "stream",
     "text": [
      "\n",
      "Episode 263, Avg Reward : -19.755, Timesteps: 50, Epsilon: 0.007751937984496124, Alpha: 0.01838235294117647\n",
      "Episode 264, Avg Reward : -19.755, Timesteps: 50, Epsilon: 0.007692307692307693, Alpha: 0.018315018315018316\n",
      "Episode 265, Avg Reward : -19.755, Timesteps: 50, Epsilon: 0.0076335877862595426, Alpha: 0.018248175182481754\n",
      "Episode 266, Avg Reward : -19.755, Timesteps: 50, Epsilon: 0.09090909090909091, Alpha: 0.01818181818181818\n",
      "Episode 267, Avg Reward : -19.755, Timesteps: 50, Epsilon: 0.007575757575757577, Alpha: 0.018115942028985508\n",
      "Episode 268, Avg Reward : -3.180353356890459, Timesteps: 283, Epsilon: 0.05555555555555556, Alpha: 0.018050541516245487\n",
      "Episode 269, Avg Reward : -19.755, Timesteps: 50, Epsilon: 0.007518796992481203, Alpha: 0.017985611510791366\n",
      "Episode 270, Avg Reward : -19.755, Timesteps: 50, Epsilon: 0.007462686567164179, Alpha: 0.01792114695340502\n",
      "Episode 271, Avg Reward : -19.755, Timesteps: 50, Epsilon: 0.007407407407407408, Alpha: 0.017857142857142856\n",
      "Episode 272, Avg Reward : -3.180353356890459, Timesteps: 283, Epsilon: 0.052631578947368425, Alpha: 0.01779359430604982\n",
      "Episode 273, Avg Reward : -19.755, Timesteps: 50, Epsilon: 0.007352941176470589, Alpha: 0.01773049645390071\n",
      "Episode 274, Avg Reward : -19.755, Timesteps: 50, Epsilon: 0.007299270072992701, Alpha: 0.0176678445229682\n",
      "Episode 275, Avg Reward : -19.755, Timesteps: 50, Epsilon: 0.007246376811594203, Alpha: 0.017605633802816902\n",
      "Episode 276, Avg Reward : -1.5189013035381755, Timesteps: 537, Epsilon: 0.038461538461538464, Alpha: 0.017543859649122806\n",
      "Episode 277, Avg Reward : -19.755, Timesteps: 50, Epsilon: 0.007194244604316547, Alpha: 0.01748251748251748\n",
      "Episode 278, Avg Reward : -19.755, Timesteps: 50, Epsilon: 0.0071428571428571435, Alpha: 0.017421602787456445\n",
      "Episode 279, Avg Reward : -19.755, Timesteps: 50, Epsilon: 0.007092198581560284, Alpha: 0.017361111111111112\n",
      "Episode 280, Avg Reward : -19.755, Timesteps: 50, Epsilon: 0.007042253521126762, Alpha: 0.01730103806228374\n",
      "Episode 281, Avg Reward : -3.180353356890459, Timesteps: 283, Epsilon: 0.05, Alpha: 0.017241379310344827\n",
      "Episode 282, Avg Reward : -19.755, Timesteps: 50, Epsilon: 0.006993006993006993, Alpha: 0.017182130584192438\n",
      "Episode 283, Avg Reward : -19.755, Timesteps: 50, Epsilon: 0.006944444444444445, Alpha: 0.017123287671232876\n",
      "Episode 284, Avg Reward : -19.755, Timesteps: 50, Epsilon: 0.006896551724137932, Alpha: 0.017064846416382253\n",
      "Episode 285, Avg Reward : -3.180353356890459, Timesteps: 283, Epsilon: 0.08333333333333334, Alpha: 0.017006802721088437\n",
      "Episode 286, Avg Reward : -19.755, Timesteps: 50, Epsilon: 0.006849315068493151, Alpha: 0.01694915254237288\n",
      "Episode 287, Avg Reward : -19.755, Timesteps: 50, Epsilon: 0.006802721088435375, Alpha: 0.01689189189189189\n",
      "Episode 288, Avg Reward : -19.755, Timesteps: 50, Epsilon: 0.006756756756756757, Alpha: 0.016835016835016835\n",
      "Episode 289, Avg Reward : -19.755, Timesteps: 50, Epsilon: 0.006711409395973154, Alpha: 0.016778523489932886\n",
      "Episode 290, Avg Reward : -3.180353356890459, Timesteps: 283, Epsilon: 0.07692307692307693, Alpha: 0.016722408026755852"
     ]
    },
    {
     "name": "stderr",
     "output_type": "stream",
     "text": [
      "  3%|▎         | 303/10000 [00:04<01:22, 117.05it/s]"
     ]
    },
    {
     "name": "stdout",
     "output_type": "stream",
     "text": [
      "\n",
      "Episode 291, Avg Reward : -19.755, Timesteps: 50, Epsilon: 0.006666666666666667, Alpha: 0.016666666666666666\n",
      "Episode 292, Avg Reward : -19.755, Timesteps: 50, Epsilon: 0.006622516556291392, Alpha: 0.01661129568106312\n",
      "Episode 293, Avg Reward : -19.755, Timesteps: 50, Epsilon: 0.006578947368421053, Alpha: 0.016556291390728478\n",
      "Episode 294, Avg Reward : -3.180353356890459, Timesteps: 283, Epsilon: 0.047619047619047616, Alpha: 0.0165016501650165\n",
      "Episode 295, Avg Reward : -19.755, Timesteps: 50, Epsilon: 0.006535947712418301, Alpha: 0.01644736842105263\n",
      "Episode 296, Avg Reward : -19.755, Timesteps: 50, Epsilon: 0.006493506493506494, Alpha: 0.01639344262295082\n",
      "Episode 297, Avg Reward : -19.755, Timesteps: 50, Epsilon: 0.08333333333333334, Alpha: 0.016339869281045753\n",
      "Episode 298, Avg Reward : -19.755, Timesteps: 50, Epsilon: 0.0064516129032258064, Alpha: 0.016286644951140065\n",
      "Episode 299, Avg Reward : -3.180353356890459, Timesteps: 283, Epsilon: 0.045454545454545456, Alpha: 0.016233766233766232\n",
      "Episode 300, Avg Reward : -19.755, Timesteps: 50, Epsilon: 0.006410256410256411, Alpha: 0.016181229773462785\n",
      "Episode 301, Avg Reward : -19.755, Timesteps: 50, Epsilon: 0.006369426751592357, Alpha: 0.016129032258064516\n",
      "Episode 302, Avg Reward : -19.755, Timesteps: 50, Epsilon: 0.006329113924050633, Alpha: 0.01607717041800643\n",
      "Episode 303, Avg Reward : -3.240215827338129, Timesteps: 278, Epsilon: 0.06666666666666667, Alpha: 0.016025641025641028\n",
      "Episode 304, Avg Reward : -19.755, Timesteps: 50, Epsilon: 0.006289308176100629, Alpha: 0.01597444089456869\n",
      "Episode 305, Avg Reward : -19.755, Timesteps: 50, Epsilon: 0.00625, Alpha: 0.01592356687898089\n",
      "Episode 306, Avg Reward : -19.755, Timesteps: 50, Epsilon: 0.006211180124223602, Alpha: 0.015873015873015872\n",
      "Episode 307, Avg Reward : -19.755, Timesteps: 50, Epsilon: 0.00617283950617284, Alpha: 0.01582278481012658\n",
      "Episode 308, Avg Reward : -3.180353356890459, Timesteps: 283, Epsilon: 0.04347826086956522, Alpha: 0.015772870662460567\n",
      "Episode 309, Avg Reward : -19.755, Timesteps: 50, Epsilon: 0.006134969325153374, Alpha: 0.015723270440251572\n",
      "Episode 310, Avg Reward : -19.755, Timesteps: 50, Epsilon: 0.07692307692307693, Alpha: 0.015673981191222573\n",
      "Episode 311, Avg Reward : -19.755, Timesteps: 50, Epsilon: 0.006097560975609757, Alpha: 0.015625\n",
      "Episode 312, Avg Reward : -0.8326143024618989, Timesteps: 853, Epsilon: 0.029411764705882356, Alpha: 0.01557632398753894"
     ]
    },
    {
     "name": "stderr",
     "output_type": "stream",
     "text": [
      "  3%|▎         | 330/10000 [00:04<01:29, 108.34it/s]"
     ]
    },
    {
     "name": "stdout",
     "output_type": "stream",
     "text": [
      "\n",
      "Episode 313, Avg Reward : -19.755, Timesteps: 50, Epsilon: 0.006060606060606061, Alpha: 0.015527950310559004\n",
      "Episode 314, Avg Reward : -19.755, Timesteps: 50, Epsilon: 0.006024096385542168, Alpha: 0.015479876160990714\n",
      "Episode 315, Avg Reward : -19.755, Timesteps: 50, Epsilon: 0.005988023952095809, Alpha: 0.0154320987654321\n",
      "Episode 316, Avg Reward : -3.180353356890459, Timesteps: 283, Epsilon: 0.04166666666666667, Alpha: 0.015384615384615385\n",
      "Episode 317, Avg Reward : -19.755, Timesteps: 50, Epsilon: 0.005952380952380952, Alpha: 0.015337423312883436\n",
      "Episode 318, Avg Reward : -19.755, Timesteps: 50, Epsilon: 0.00591715976331361, Alpha: 0.015290519877675839\n",
      "Episode 319, Avg Reward : -19.755, Timesteps: 50, Epsilon: 0.0058823529411764705, Alpha: 0.015243902439024392\n",
      "Episode 320, Avg Reward : -19.755, Timesteps: 50, Epsilon: 0.005847953216374269, Alpha: 0.015197568389057751\n",
      "Episode 321, Avg Reward : -3.180353356890459, Timesteps: 283, Epsilon: 0.04, Alpha: 0.015151515151515152\n",
      "Episode 322, Avg Reward : -19.755, Timesteps: 50, Epsilon: 0.005813953488372094, Alpha: 0.015105740181268881\n",
      "Episode 323, Avg Reward : -19.755, Timesteps: 50, Epsilon: 0.07142857142857144, Alpha: 0.01506024096385542\n",
      "Episode 324, Avg Reward : -19.755, Timesteps: 50, Epsilon: 0.005780346820809248, Alpha: 0.015015015015015017\n",
      "Episode 325, Avg Reward : -3.180353356890459, Timesteps: 283, Epsilon: 0.038461538461538464, Alpha: 0.014970059880239521\n",
      "Episode 326, Avg Reward : -19.755, Timesteps: 50, Epsilon: 0.00574712643678161, Alpha: 0.014925373134328358\n",
      "Episode 327, Avg Reward : -19.755, Timesteps: 50, Epsilon: 0.005714285714285714, Alpha: 0.01488095238095238\n",
      "Episode 328, Avg Reward : -19.755, Timesteps: 50, Epsilon: 0.005681818181818182, Alpha: 0.014836795252225518\n",
      "Episode 329, Avg Reward : -19.755, Timesteps: 50, Epsilon: 0.005649717514124295, Alpha: 0.014792899408284025\n",
      "Episode 330, Avg Reward : -1.0543909348441929, Timesteps: 706, Epsilon: 0.022727272727272728, Alpha: 0.014749262536873156\n",
      "Episode 331, Avg Reward : -19.755, Timesteps: 50, Epsilon: 0.0056179775280898875, Alpha: 0.014705882352941176\n",
      "Episode 332, Avg Reward : -19.755, Timesteps: 50, Epsilon: 0.005586592178770951, Alpha: 0.014662756598240468\n",
      "Episode 333, Avg Reward : -19.755, Timesteps: 50, Epsilon: 0.005555555555555556, Alpha: 0.014619883040935672\n",
      "Episode 334, Avg Reward : -3.180353356890459, Timesteps: 283, Epsilon: 0.07142857142857144, Alpha: 0.01457725947521866\n",
      "Episode 335, Avg Reward : -19.755, Timesteps: 50, Epsilon: 0.0055248618784530384, Alpha: 0.014534883720930232\n",
      "Episode 336, Avg Reward : -19.755, Timesteps: 50, Epsilon: 0.06666666666666667, Alpha: 0.014492753623188406\n",
      "Episode 337, Avg Reward : -19.755, Timesteps: 50, Epsilon: 0.005494505494505495, Alpha: 0.014450867052023121\n",
      "Episode 338, Avg Reward : -3.180353356890459, Timesteps: 283, Epsilon: 0.037037037037037035, Alpha: 0.01440922190201729\n",
      "Episode 339, Avg Reward : -19.755, Timesteps: 50, Epsilon: 0.00546448087431694, Alpha: 0.014367816091954025"
     ]
    },
    {
     "name": "stderr",
     "output_type": "stream",
     "text": [
      "  4%|▎         | 356/10000 [00:05<01:26, 111.67it/s]"
     ]
    },
    {
     "name": "stdout",
     "output_type": "stream",
     "text": [
      "\n",
      "Episode 340, Avg Reward : -19.755, Timesteps: 50, Epsilon: 0.005434782608695653, Alpha: 0.014326647564469915\n",
      "Episode 341, Avg Reward : -19.755, Timesteps: 50, Epsilon: 0.005405405405405406, Alpha: 0.014285714285714285\n",
      "Episode 342, Avg Reward : -19.755, Timesteps: 50, Epsilon: 0.005376344086021505, Alpha: 0.014245014245014245\n",
      "Episode 343, Avg Reward : -3.180353356890459, Timesteps: 283, Epsilon: 0.06666666666666667, Alpha: 0.014204545454545454\n",
      "Episode 344, Avg Reward : -19.755, Timesteps: 50, Epsilon: 0.005347593582887701, Alpha: 0.0141643059490085\n",
      "Episode 345, Avg Reward : -19.755, Timesteps: 50, Epsilon: 0.005319148936170213, Alpha: 0.014124293785310734\n",
      "Episode 346, Avg Reward : -19.755, Timesteps: 50, Epsilon: 0.005291005291005292, Alpha: 0.014084507042253521\n",
      "Episode 347, Avg Reward : -3.180353356890459, Timesteps: 283, Epsilon: 0.03571428571428572, Alpha: 0.014044943820224719\n",
      "Episode 348, Avg Reward : -19.755, Timesteps: 50, Epsilon: 0.005263157894736842, Alpha: 0.014005602240896357\n",
      "Episode 349, Avg Reward : -19.755, Timesteps: 50, Epsilon: 0.0625, Alpha: 0.013966480446927375\n",
      "Episode 350, Avg Reward : -19.755, Timesteps: 50, Epsilon: 0.005235602094240838, Alpha: 0.01392757660167131\n",
      "Episode 351, Avg Reward : -19.755, Timesteps: 50, Epsilon: 0.005208333333333334, Alpha: 0.013888888888888888\n",
      "Episode 352, Avg Reward : -2.6346706586826354, Timesteps: 334, Epsilon: 0.028571428571428574, Alpha: 0.013850415512465374\n",
      "Episode 353, Avg Reward : -19.755, Timesteps: 50, Epsilon: 0.0051813471502590676, Alpha: 0.013812154696132596\n",
      "Episode 354, Avg Reward : -19.755, Timesteps: 50, Epsilon: 0.005154639175257733, Alpha: 0.013774104683195593\n",
      "Episode 355, Avg Reward : -19.755, Timesteps: 50, Epsilon: 0.005128205128205128, Alpha: 0.013736263736263736\n",
      "Episode 356, Avg Reward : -1.5189013035381755, Timesteps: 537, Epsilon: 0.037037037037037035, Alpha: 0.0136986301369863\n",
      "Episode 357, Avg Reward : -19.755, Timesteps: 50, Epsilon: 0.00510204081632653, Alpha: 0.01366120218579235\n",
      "Episode 358, Avg Reward : -19.755, Timesteps: 50, Epsilon: 0.005076142131979696, Alpha: 0.013623978201634876\n",
      "Episode 359, Avg Reward : -19.755, Timesteps: 50, Epsilon: 0.005050505050505051, Alpha: 0.013586956521739132\n",
      "Episode 360, Avg Reward : -3.180353356890459, Timesteps: 283, Epsilon: 0.034482758620689655, Alpha: 0.013550135501355014\n",
      "Episode 361, Avg Reward : -19.755, Timesteps: 50, Epsilon: 0.0050251256281407045, Alpha: 0.013513513513513514\n",
      "Episode 362, Avg Reward : -19.755, Timesteps: 50, Epsilon: 0.05882352941176471, Alpha: 0.013477088948787061\n",
      "Episode 363, Avg Reward : -19.755, Timesteps: 50, Epsilon: 0.005, Alpha: 0.013440860215053762\n",
      "Episode 364, Avg Reward : -19.755, Timesteps: 50, Epsilon: 0.004975124378109453, Alpha: 0.013404825737265416\n",
      "Episode 365, Avg Reward : -3.180353356890459, Timesteps: 283, Epsilon: 0.03333333333333333, Alpha: 0.013368983957219251"
     ]
    },
    {
     "name": "stderr",
     "output_type": "stream",
     "text": [
      "  4%|▍         | 386/10000 [00:05<01:15, 127.38it/s]"
     ]
    },
    {
     "name": "stdout",
     "output_type": "stream",
     "text": [
      "\n",
      "Episode 366, Avg Reward : -19.755, Timesteps: 50, Epsilon: 0.0049504950495049506, Alpha: 0.013333333333333334\n",
      "Episode 367, Avg Reward : -19.755, Timesteps: 50, Epsilon: 0.0049261083743842365, Alpha: 0.013297872340425532\n",
      "Episode 368, Avg Reward : -19.755, Timesteps: 50, Epsilon: 0.004901960784313726, Alpha: 0.01326259946949602\n",
      "Episode 369, Avg Reward : -5.5360588235294115, Timesteps: 170, Epsilon: 0.1, Alpha: 0.013227513227513229\n",
      "Episode 370, Avg Reward : -19.755, Timesteps: 50, Epsilon: 0.004878048780487805, Alpha: 0.013192612137203167\n",
      "Episode 371, Avg Reward : -19.755, Timesteps: 50, Epsilon: 0.0048543689320388345, Alpha: 0.013157894736842105\n",
      "Episode 372, Avg Reward : -19.755, Timesteps: 50, Epsilon: 0.004830917874396136, Alpha: 0.013123359580052493\n",
      "Episode 373, Avg Reward : -19.755, Timesteps: 50, Epsilon: 0.004807692307692308, Alpha: 0.013089005235602092\n",
      "Episode 374, Avg Reward : -5.338465909090909, Timesteps: 176, Epsilon: 0.022222222222222223, Alpha: 0.013054830287206267\n",
      "Episode 375, Avg Reward : -19.755, Timesteps: 50, Epsilon: 0.05555555555555556, Alpha: 0.013020833333333334\n",
      "Episode 376, Avg Reward : -19.755, Timesteps: 50, Epsilon: 0.004784688995215312, Alpha: 0.012987012987012988\n",
      "Episode 377, Avg Reward : -19.755, Timesteps: 50, Epsilon: 0.004761904761904762, Alpha: 0.012953367875647668\n",
      "Episode 378, Avg Reward : -19.755, Timesteps: 50, Epsilon: 0.004739336492890996, Alpha: 0.012919896640826873\n",
      "Episode 379, Avg Reward : -3.180353356890459, Timesteps: 283, Epsilon: 0.03225806451612903, Alpha: 0.012886597938144331\n",
      "Episode 380, Avg Reward : -19.755, Timesteps: 50, Epsilon: 0.004716981132075472, Alpha: 0.012853470437017995\n",
      "Episode 381, Avg Reward : -19.755, Timesteps: 50, Epsilon: 0.004694835680751174, Alpha: 0.01282051282051282\n",
      "Episode 382, Avg Reward : -19.755, Timesteps: 50, Epsilon: 0.004672897196261683, Alpha: 0.01278772378516624\n",
      "Episode 383, Avg Reward : -3.180353356890459, Timesteps: 283, Epsilon: 0.03125, Alpha: 0.012755102040816325\n",
      "Episode 384, Avg Reward : -19.755, Timesteps: 50, Epsilon: 0.004651162790697674, Alpha: 0.012722646310432571\n",
      "Episode 385, Avg Reward : -19.755, Timesteps: 50, Epsilon: 0.004629629629629629, Alpha: 0.012690355329949238\n",
      "Episode 386, Avg Reward : -19.755, Timesteps: 50, Epsilon: 0.004608294930875576, Alpha: 0.012658227848101266\n",
      "Episode 387, Avg Reward : -4.84890625, Timesteps: 192, Epsilon: 0.02777777777777778, Alpha: 0.012626262626262626\n",
      "Episode 388, Avg Reward : -19.755, Timesteps: 50, Epsilon: 0.052631578947368425, Alpha: 0.012594458438287152\n",
      "Episode 389, Avg Reward : -19.755, Timesteps: 50, Epsilon: 0.0045871559633027525, Alpha: 0.01256281407035176\n",
      "Episode 390, Avg Reward : -19.755, Timesteps: 50, Epsilon: 0.004566210045662101, Alpha: 0.012531328320802006\n",
      "Episode 391, Avg Reward : -19.755, Timesteps: 50, Epsilon: 0.004545454545454546, Alpha: 0.0125\n",
      "Episode 392, Avg Reward : -1.5189013035381755, Timesteps: 537, Epsilon: 0.03571428571428572, Alpha: 0.012468827930174562\n",
      "Episode 393, Avg Reward : -19.755, Timesteps: 50, Epsilon: 0.004524886877828054, Alpha: 0.01243781094527363\n",
      "Episode 394, Avg Reward : -19.755, Timesteps: 50, Epsilon: 0.0045045045045045045, Alpha: 0.01240694789081886\n",
      "Episode 395, Avg Reward : -19.755, Timesteps: 50, Epsilon: 0.004484304932735426, Alpha: 0.012376237623762377\n",
      "Episode 396, Avg Reward : -3.180353356890459, Timesteps: 283, Epsilon: 0.030303030303030307, Alpha: 0.012345679012345678"
     ]
    },
    {
     "name": "stderr",
     "output_type": "stream",
     "text": [
      "  4%|▍         | 413/10000 [00:05<01:25, 111.77it/s]"
     ]
    },
    {
     "name": "stdout",
     "output_type": "stream",
     "text": [
      "\n",
      "Episode 397, Avg Reward : -19.755, Timesteps: 50, Epsilon: 0.004464285714285715, Alpha: 0.01231527093596059\n",
      "Episode 398, Avg Reward : -19.755, Timesteps: 50, Epsilon: 0.0044444444444444444, Alpha: 0.012285012285012284\n",
      "Episode 399, Avg Reward : -19.755, Timesteps: 50, Epsilon: 0.004424778761061947, Alpha: 0.012254901960784315\n",
      "Episode 400, Avg Reward : -3.180353356890459, Timesteps: 283, Epsilon: 0.0625, Alpha: 0.012224938875305624\n",
      "Episode 401, Avg Reward : -19.755, Timesteps: 50, Epsilon: 0.05, Alpha: 0.012195121951219513\n",
      "Episode 402, Avg Reward : -19.755, Timesteps: 50, Epsilon: 0.004405286343612335, Alpha: 0.0121654501216545\n",
      "Episode 403, Avg Reward : -19.755, Timesteps: 50, Epsilon: 0.0043859649122807015, Alpha: 0.012135922330097087\n",
      "Episode 404, Avg Reward : -19.755, Timesteps: 50, Epsilon: 0.0043668122270742364, Alpha: 0.012106537530266345\n",
      "Episode 405, Avg Reward : -3.180353356890459, Timesteps: 283, Epsilon: 0.029411764705882356, Alpha: 0.012077294685990338\n",
      "Episode 406, Avg Reward : -19.755, Timesteps: 50, Epsilon: 0.004347826086956522, Alpha: 0.012048192771084338\n",
      "Episode 407, Avg Reward : -19.755, Timesteps: 50, Epsilon: 0.004329004329004329, Alpha: 0.012019230769230768\n",
      "Episode 408, Avg Reward : -19.755, Timesteps: 50, Epsilon: 0.004310344827586207, Alpha: 0.011990407673860911\n",
      "Episode 409, Avg Reward : -0.7799001109877914, Timesteps: 901, Epsilon: 0.02173913043478261, Alpha: 0.011961722488038277\n",
      "Episode 410, Avg Reward : -19.755, Timesteps: 50, Epsilon: 0.004291845493562232, Alpha: 0.011933174224343675\n",
      "Episode 411, Avg Reward : -19.755, Timesteps: 50, Epsilon: 0.004273504273504274, Alpha: 0.011904761904761904\n",
      "Episode 412, Avg Reward : -19.755, Timesteps: 50, Epsilon: 0.00425531914893617, Alpha: 0.011876484560570071\n",
      "Episode 413, Avg Reward : -3.180353356890459, Timesteps: 283, Epsilon: 0.028571428571428574, Alpha: 0.011848341232227487\n",
      "Episode 414, Avg Reward : -19.755, Timesteps: 50, Epsilon: 0.047619047619047616, Alpha: 0.011820330969267141\n",
      "Episode 415, Avg Reward : -19.755, Timesteps: 50, Epsilon: 0.00423728813559322, Alpha: 0.01179245283018868\n",
      "Episode 416, Avg Reward : -19.755, Timesteps: 50, Epsilon: 0.0042194092827004225, Alpha: 0.011764705882352941\n",
      "Episode 417, Avg Reward : -19.755, Timesteps: 50, Epsilon: 0.004201680672268907, Alpha: 0.011737089201877934\n",
      "Episode 418, Avg Reward : -3.180353356890459, Timesteps: 283, Epsilon: 0.02777777777777778, Alpha: 0.011709601873536299\n",
      "Episode 419, Avg Reward : -19.755, Timesteps: 50, Epsilon: 0.004184100418410042, Alpha: 0.011682242990654207\n",
      "Episode 420, Avg Reward : -19.755, Timesteps: 50, Epsilon: 0.004166666666666667, Alpha: 0.011655011655011656"
     ]
    },
    {
     "name": "stderr",
     "output_type": "stream",
     "text": [
      "  4%|▍         | 441/10000 [00:05<01:19, 119.88it/s]"
     ]
    },
    {
     "name": "stdout",
     "output_type": "stream",
     "text": [
      "\n",
      "Episode 421, Avg Reward : -19.755, Timesteps: 50, Epsilon: 0.004149377593360996, Alpha: 0.011627906976744186\n",
      "Episode 422, Avg Reward : -3.180353356890459, Timesteps: 283, Epsilon: 0.02702702702702703, Alpha: 0.01160092807424594\n",
      "Episode 423, Avg Reward : -19.755, Timesteps: 50, Epsilon: 0.004132231404958678, Alpha: 0.011574074074074073\n",
      "Episode 424, Avg Reward : -19.755, Timesteps: 50, Epsilon: 0.00411522633744856, Alpha: 0.011547344110854504\n",
      "Episode 425, Avg Reward : -19.755, Timesteps: 50, Epsilon: 0.004098360655737705, Alpha: 0.01152073732718894\n",
      "Episode 426, Avg Reward : -1.515762081784387, Timesteps: 538, Epsilon: 0.05882352941176471, Alpha: 0.011494252873563218\n",
      "Episode 427, Avg Reward : -19.755, Timesteps: 50, Epsilon: 0.045454545454545456, Alpha: 0.01146788990825688\n",
      "Episode 428, Avg Reward : -19.755, Timesteps: 50, Epsilon: 0.004081632653061225, Alpha: 0.011441647597254004\n",
      "Episode 429, Avg Reward : -19.755, Timesteps: 50, Epsilon: 0.004065040650406504, Alpha: 0.011415525114155252\n",
      "Episode 430, Avg Reward : -19.755, Timesteps: 50, Epsilon: 0.004048582995951417, Alpha: 0.011389521640091117\n",
      "Episode 431, Avg Reward : -3.180353356890459, Timesteps: 283, Epsilon: 0.05882352941176471, Alpha: 0.011363636363636364\n",
      "Episode 432, Avg Reward : -19.755, Timesteps: 50, Epsilon: 0.004032258064516129, Alpha: 0.011337868480725623\n",
      "Episode 433, Avg Reward : -19.755, Timesteps: 50, Epsilon: 0.004016064257028113, Alpha: 0.011312217194570135\n",
      "Episode 434, Avg Reward : -19.755, Timesteps: 50, Epsilon: 0.004, Alpha: 0.011286681715575621\n",
      "Episode 435, Avg Reward : -3.180353356890459, Timesteps: 283, Epsilon: 0.026315789473684213, Alpha: 0.011261261261261262\n",
      "Episode 436, Avg Reward : -19.755, Timesteps: 50, Epsilon: 0.00398406374501992, Alpha: 0.011235955056179775\n",
      "Episode 437, Avg Reward : -19.755, Timesteps: 50, Epsilon: 0.003968253968253969, Alpha: 0.011210762331838564\n",
      "Episode 438, Avg Reward : -19.755, Timesteps: 50, Epsilon: 0.003952569169960474, Alpha: 0.011185682326621923\n",
      "Episode 439, Avg Reward : -3.180353356890459, Timesteps: 283, Epsilon: 0.025641025641025644, Alpha: 0.011160714285714286\n",
      "Episode 440, Avg Reward : -19.755, Timesteps: 50, Epsilon: 0.04347826086956522, Alpha: 0.011135857461024499\n",
      "Episode 441, Avg Reward : -19.755, Timesteps: 50, Epsilon: 0.003937007874015749, Alpha: 0.011111111111111112\n",
      "Episode 442, Avg Reward : -19.755, Timesteps: 50, Epsilon: 0.00392156862745098, Alpha: 0.011086474501108647\n",
      "Episode 443, Avg Reward : -7.850901639344261, Timesteps: 122, Epsilon: 0.05555555555555556, Alpha: 0.011061946902654867\n",
      "Episode 444, Avg Reward : -19.755, Timesteps: 50, Epsilon: 0.00390625, Alpha: 0.011037527593818985\n",
      "Episode 445, Avg Reward : -19.755, Timesteps: 50, Epsilon: 0.003891050583657588, Alpha: 0.011013215859030838\n",
      "Episode 446, Avg Reward : -19.755, Timesteps: 50, Epsilon: 0.003875968992248062, Alpha: 0.01098901098901099\n",
      "Episode 447, Avg Reward : -19.755, Timesteps: 50, Epsilon: 0.0038610038610038615, Alpha: 0.010964912280701754\n",
      "Episode 448, Avg Reward : -3.180353356890459, Timesteps: 283, Epsilon: 0.025, Alpha: 0.010940919037199124"
     ]
    },
    {
     "name": "stderr",
     "output_type": "stream",
     "text": [
      "  5%|▍         | 467/10000 [00:06<01:26, 110.45it/s]"
     ]
    },
    {
     "name": "stdout",
     "output_type": "stream",
     "text": [
      "\n",
      "Episode 449, Avg Reward : -19.755, Timesteps: 50, Epsilon: 0.0038461538461538464, Alpha: 0.01091703056768559\n",
      "Episode 450, Avg Reward : -19.755, Timesteps: 50, Epsilon: 0.0038314176245210726, Alpha: 0.010893246187363835\n",
      "Episode 451, Avg Reward : -19.755, Timesteps: 50, Epsilon: 0.0038167938931297713, Alpha: 0.010869565217391304\n",
      "Episode 452, Avg Reward : -1.515762081784387, Timesteps: 538, Epsilon: 0.052631578947368425, Alpha: 0.010845986984815618\n",
      "Episode 453, Avg Reward : -19.755, Timesteps: 50, Epsilon: 0.0038022813688212928, Alpha: 0.010822510822510822\n",
      "Episode 454, Avg Reward : -19.755, Timesteps: 50, Epsilon: 0.04166666666666667, Alpha: 0.010799136069114472\n",
      "Episode 455, Avg Reward : -19.755, Timesteps: 50, Epsilon: 0.0037878787878787884, Alpha: 0.010775862068965518\n",
      "Episode 456, Avg Reward : -3.180600706713781, Timesteps: 283, Epsilon: 0.02439024390243903, Alpha: 0.010752688172043012\n",
      "Episode 457, Avg Reward : -19.755, Timesteps: 50, Epsilon: 0.0037735849056603774, Alpha: 0.01072961373390558\n",
      "Episode 458, Avg Reward : -19.755, Timesteps: 50, Epsilon: 0.0037593984962406013, Alpha: 0.010706638115631691\n",
      "Episode 459, Avg Reward : -2.391898016997167, Timesteps: 353, Epsilon: 0.05555555555555556, Alpha: 0.010683760683760684\n",
      "Episode 460, Avg Reward : -19.755, Timesteps: 50, Epsilon: 0.0037453183520599256, Alpha: 0.010660980810234541\n",
      "Episode 461, Avg Reward : -19.755, Timesteps: 50, Epsilon: 0.0037313432835820895, Alpha: 0.010638297872340425\n",
      "Episode 462, Avg Reward : -3.3780898876404497, Timesteps: 267, Epsilon: 0.034482758620689655, Alpha: 0.010615711252653927\n",
      "Episode 463, Avg Reward : -19.755, Timesteps: 50, Epsilon: 0.003717472118959108, Alpha: 0.01059322033898305\n",
      "Episode 464, Avg Reward : -19.755, Timesteps: 50, Epsilon: 0.003703703703703704, Alpha: 0.010570824524312896\n",
      "Episode 465, Avg Reward : -2.8573442622950824, Timesteps: 305, Epsilon: 0.023809523809523808, Alpha: 0.010548523206751054\n",
      "Episode 466, Avg Reward : -19.755, Timesteps: 50, Epsilon: 0.0036900369003690036, Alpha: 0.010526315789473684\n",
      "Episode 467, Avg Reward : -3.180353356890459, Timesteps: 283, Epsilon: 0.023255813953488375, Alpha: 0.010504201680672268\n",
      "Episode 468, Avg Reward : -19.755, Timesteps: 50, Epsilon: 0.0036764705882352945, Alpha: 0.010482180293501047\n",
      "Episode 469, Avg Reward : -19.755, Timesteps: 50, Epsilon: 0.04, Alpha: 0.010460251046025106\n",
      "Episode 470, Avg Reward : -19.755, Timesteps: 50, Epsilon: 0.003663003663003663, Alpha: 0.010438413361169102\n",
      "Episode 471, Avg Reward : -1.515762081784387, Timesteps: 538, Epsilon: 0.05, Alpha: 0.010416666666666666\n",
      "Episode 472, Avg Reward : -19.755, Timesteps: 50, Epsilon: 0.0036496350364963507, Alpha: 0.010395010395010394\n",
      "Episode 473, Avg Reward : -19.755, Timesteps: 50, Epsilon: 0.0036363636363636364, Alpha: 0.01037344398340249\n",
      "Episode 474, Avg Reward : -19.755, Timesteps: 50, Epsilon: 0.0036231884057971015, Alpha: 0.010351966873706004\n",
      "Episode 475, Avg Reward : -3.180353356890459, Timesteps: 283, Epsilon: 0.022727272727272728, Alpha: 0.010330578512396695"
     ]
    },
    {
     "name": "stderr",
     "output_type": "stream",
     "text": [
      "  5%|▍         | 493/10000 [00:06<01:24, 112.87it/s]"
     ]
    },
    {
     "name": "stdout",
     "output_type": "stream",
     "text": [
      "\n",
      "Episode 476, Avg Reward : -19.755, Timesteps: 50, Epsilon: 0.0036101083032490976, Alpha: 0.010309278350515464\n",
      "Episode 477, Avg Reward : -19.755, Timesteps: 50, Epsilon: 0.0035971223021582736, Alpha: 0.0102880658436214\n",
      "Episode 478, Avg Reward : -19.755, Timesteps: 50, Epsilon: 0.003584229390681004, Alpha: 0.01026694045174538\n",
      "Episode 479, Avg Reward : -19.755, Timesteps: 50, Epsilon: 0.0035714285714285718, Alpha: 0.010245901639344263\n",
      "Episode 480, Avg Reward : -3.992931034482758, Timesteps: 232, Epsilon: 0.1, Alpha: 0.010224948875255624\n",
      "Episode 481, Avg Reward : -19.755, Timesteps: 50, Epsilon: 0.0035587188612099642, Alpha: 0.01020408163265306\n",
      "Episode 482, Avg Reward : -19.755, Timesteps: 50, Epsilon: 0.038461538461538464, Alpha: 0.010183299389002037\n",
      "Episode 483, Avg Reward : -19.755, Timesteps: 50, Epsilon: 0.003546099290780142, Alpha: 0.01016260162601626\n",
      "Episode 484, Avg Reward : -3.180353356890459, Timesteps: 283, Epsilon: 0.022222222222222223, Alpha: 0.010141987829614604\n",
      "Episode 485, Avg Reward : -19.755, Timesteps: 50, Epsilon: 0.0035335689045936395, Alpha: 0.010121457489878543\n",
      "Episode 486, Avg Reward : -19.755, Timesteps: 50, Epsilon: 0.037037037037037035, Alpha: 0.010101010101010102\n",
      "Episode 487, Avg Reward : -19.755, Timesteps: 50, Epsilon: 0.003521126760563381, Alpha: 0.010080645161290322\n",
      "Episode 488, Avg Reward : -3.180353356890459, Timesteps: 283, Epsilon: 0.02173913043478261, Alpha: 0.01006036217303823\n",
      "Episode 489, Avg Reward : -19.755, Timesteps: 50, Epsilon: 0.0035087719298245615, Alpha: 0.010040160642570281\n",
      "Episode 490, Avg Reward : -19.755, Timesteps: 50, Epsilon: 0.0034965034965034965, Alpha: 0.01002004008016032\n",
      "Episode 491, Avg Reward : -19.755, Timesteps: 50, Epsilon: 0.0034843205574912896, Alpha: 0.01\n",
      "Episode 492, Avg Reward : -19.755, Timesteps: 50, Epsilon: 0.0034722222222222225, Alpha: 0.00998003992015968\n",
      "Episode 493, Avg Reward : -1.5252149532710284, Timesteps: 535, Epsilon: 0.02127659574468085, Alpha: 0.0099601593625498\n",
      "Episode 494, Avg Reward : -19.755, Timesteps: 50, Epsilon: 0.003460207612456748, Alpha: 0.009940357852882704\n",
      "Episode 495, Avg Reward : -19.755, Timesteps: 50, Epsilon: 0.003448275862068966, Alpha: 0.00992063492063492\n",
      "Episode 496, Avg Reward : -19.755, Timesteps: 50, Epsilon: 0.003436426116838488, Alpha: 0.009900990099009901\n",
      "Episode 497, Avg Reward : -19.755, Timesteps: 50, Epsilon: 0.0034246575342465756, Alpha: 0.009881422924901186\n",
      "Episode 498, Avg Reward : -3.180353356890459, Timesteps: 283, Epsilon: 0.02127659574468085, Alpha: 0.009861932938856016\n",
      "Episode 499, Avg Reward : -19.755, Timesteps: 50, Epsilon: 0.0034129692832764505, Alpha: 0.00984251968503937\n",
      "Episode 500, Avg Reward : -19.755, Timesteps: 50, Epsilon: 0.0034013605442176874, Alpha: 0.009823182711198428\n",
      "Episode 501, Avg Reward : -19.755, Timesteps: 50, Epsilon: 0.0033898305084745766, Alpha: 0.00980392156862745\n",
      "Episode 502, Avg Reward : -4.721116751269035, Timesteps: 197, Epsilon: 0.05882352941176471, Alpha: 0.009784735812133072\n",
      "Episode 503, Avg Reward : -19.755, Timesteps: 50, Epsilon: 0.0033783783783783786, Alpha: 0.009765625"
     ]
    },
    {
     "name": "stderr",
     "output_type": "stream",
     "text": [
      "  5%|▌         | 522/10000 [00:06<01:16, 123.11it/s]"
     ]
    },
    {
     "name": "stdout",
     "output_type": "stream",
     "text": [
      "\n",
      "Episode 504, Avg Reward : -19.755, Timesteps: 50, Epsilon: 0.0033670033670033673, Alpha: 0.009746588693957116\n",
      "Episode 505, Avg Reward : -19.755, Timesteps: 50, Epsilon: 0.08333333333333334, Alpha: 0.009727626459143969\n",
      "Episode 506, Avg Reward : -19.755, Timesteps: 50, Epsilon: 0.003355704697986577, Alpha: 0.009708737864077669\n",
      "Episode 507, Avg Reward : -3.180353356890459, Timesteps: 283, Epsilon: 0.052631578947368425, Alpha: 0.009689922480620155\n",
      "Episode 508, Avg Reward : -19.755, Timesteps: 50, Epsilon: 0.003344481605351171, Alpha: 0.00967117988394584\n",
      "Episode 509, Avg Reward : -19.755, Timesteps: 50, Epsilon: 0.0033333333333333335, Alpha: 0.009652509652509652\n",
      "Episode 510, Avg Reward : -19.755, Timesteps: 50, Epsilon: 0.0033222591362126247, Alpha: 0.009633911368015415\n",
      "Episode 511, Avg Reward : -3.180353356890459, Timesteps: 283, Epsilon: 0.020833333333333336, Alpha: 0.009615384615384616\n",
      "Episode 512, Avg Reward : -19.755, Timesteps: 50, Epsilon: 0.03571428571428572, Alpha: 0.009596928982725527\n",
      "Episode 513, Avg Reward : -19.755, Timesteps: 50, Epsilon: 0.003311258278145696, Alpha: 0.009578544061302681\n",
      "Episode 514, Avg Reward : -19.755, Timesteps: 50, Epsilon: 0.0033003300330033004, Alpha: 0.009560229445506692\n",
      "Episode 515, Avg Reward : -2.872258064516129, Timesteps: 310, Epsilon: 0.02702702702702703, Alpha: 0.009541984732824428\n",
      "Episode 516, Avg Reward : -19.755, Timesteps: 50, Epsilon: 0.0032894736842105266, Alpha: 0.009523809523809525\n",
      "Episode 517, Avg Reward : -19.755, Timesteps: 50, Epsilon: 0.003278688524590164, Alpha: 0.009505703422053232\n",
      "Episode 518, Avg Reward : -19.755, Timesteps: 50, Epsilon: 0.034482758620689655, Alpha: 0.009487666034155597\n",
      "Episode 519, Avg Reward : -19.755, Timesteps: 50, Epsilon: 0.0032679738562091504, Alpha: 0.00946969696969697\n",
      "Episode 520, Avg Reward : -3.180353356890459, Timesteps: 283, Epsilon: 0.05, Alpha: 0.00945179584120983\n",
      "Episode 521, Avg Reward : -19.755, Timesteps: 50, Epsilon: 0.003257328990228013, Alpha: 0.009433962264150943\n",
      "Episode 522, Avg Reward : -19.755, Timesteps: 50, Epsilon: 0.003246753246753247, Alpha: 0.009416195856873822\n",
      "Episode 523, Avg Reward : -19.755, Timesteps: 50, Epsilon: 0.003236245954692557, Alpha: 0.009398496240601503\n",
      "Episode 524, Avg Reward : -1.5406415094339627, Timesteps: 530, Epsilon: 0.03333333333333333, Alpha: 0.009380863039399626\n",
      "Episode 525, Avg Reward : -19.755, Timesteps: 50, Epsilon: 0.0032258064516129032, Alpha: 0.009363295880149813\n",
      "Episode 526, Avg Reward : -19.755, Timesteps: 50, Epsilon: 0.003215434083601286, Alpha: 0.009345794392523364\n",
      "Episode 527, Avg Reward : -19.755, Timesteps: 50, Epsilon: 0.0032051282051282055, Alpha: 0.009328358208955223\n",
      "Episode 528, Avg Reward : -3.180353356890459, Timesteps: 283, Epsilon: 0.02040816326530612, Alpha: 0.009310986964618248"
     ]
    },
    {
     "name": "stderr",
     "output_type": "stream",
     "text": [
      "  5%|▌         | 548/10000 [00:06<01:22, 115.25it/s]"
     ]
    },
    {
     "name": "stdout",
     "output_type": "stream",
     "text": [
      "\n",
      "Episode 529, Avg Reward : -19.755, Timesteps: 50, Epsilon: 0.0031948881789137383, Alpha: 0.00929368029739777\n",
      "Episode 530, Avg Reward : -19.755, Timesteps: 50, Epsilon: 0.0031847133757961785, Alpha: 0.00927643784786642\n",
      "Episode 531, Avg Reward : -19.755, Timesteps: 50, Epsilon: 0.0031746031746031746, Alpha: 0.009259259259259259\n",
      "Episode 532, Avg Reward : -3.180353356890459, Timesteps: 283, Epsilon: 0.02, Alpha: 0.009242144177449167\n",
      "Episode 533, Avg Reward : -19.755, Timesteps: 50, Epsilon: 0.0031645569620253164, Alpha: 0.00922509225092251\n",
      "Episode 534, Avg Reward : -19.755, Timesteps: 50, Epsilon: 0.003154574132492114, Alpha: 0.009208103130755065\n",
      "Episode 535, Avg Reward : -19.755, Timesteps: 50, Epsilon: 0.0031446540880503146, Alpha: 0.009191176470588236\n",
      "Episode 536, Avg Reward : -19.755, Timesteps: 50, Epsilon: 0.03333333333333333, Alpha: 0.009174311926605505\n",
      "Episode 537, Avg Reward : -3.180353356890459, Timesteps: 283, Epsilon: 0.019607843137254905, Alpha: 0.009157509157509158\n",
      "Episode 538, Avg Reward : -19.755, Timesteps: 50, Epsilon: 0.0031347962382445144, Alpha: 0.009140767824497258\n",
      "Episode 539, Avg Reward : -19.755, Timesteps: 50, Epsilon: 0.003125, Alpha: 0.009124087591240877\n",
      "Episode 540, Avg Reward : -19.755, Timesteps: 50, Epsilon: 0.003115264797507788, Alpha: 0.009107468123861567\n",
      "Episode 541, Avg Reward : -1.515762081784387, Timesteps: 538, Epsilon: 0.047619047619047616, Alpha: 0.00909090909090909\n",
      "Episode 542, Avg Reward : -19.755, Timesteps: 50, Epsilon: 0.003105590062111801, Alpha: 0.009074410163339383\n",
      "Episode 543, Avg Reward : -19.755, Timesteps: 50, Epsilon: 0.003095975232198143, Alpha: 0.009057971014492754\n",
      "Episode 544, Avg Reward : -19.755, Timesteps: 50, Epsilon: 0.00308641975308642, Alpha: 0.009041591320072333\n",
      "Episode 545, Avg Reward : -3.180353356890459, Timesteps: 283, Epsilon: 0.019230769230769232, Alpha: 0.009025270758122744\n",
      "Episode 546, Avg Reward : -19.755, Timesteps: 50, Epsilon: 0.003076923076923077, Alpha: 0.009009009009009009\n",
      "Episode 547, Avg Reward : -19.755, Timesteps: 50, Epsilon: 0.03225806451612903, Alpha: 0.008992805755395683\n",
      "Episode 548, Avg Reward : -19.755, Timesteps: 50, Epsilon: 0.003067484662576687, Alpha: 0.008976660682226212\n",
      "Episode 549, Avg Reward : -3.180353356890459, Timesteps: 283, Epsilon: 0.01886792452830189, Alpha: 0.00896057347670251\n",
      "Episode 550, Avg Reward : -19.755, Timesteps: 50, Epsilon: 0.0030581039755351682, Alpha: 0.008944543828264758\n",
      "Episode 551, Avg Reward : -19.755, Timesteps: 50, Epsilon: 0.0030487804878048786, Alpha: 0.008928571428571428\n",
      "Episode 552, Avg Reward : -19.755, Timesteps: 50, Epsilon: 0.0030395136778115506, Alpha: 0.008912655971479501\n",
      "Episode 553, Avg Reward : -3.180353356890459, Timesteps: 283, Epsilon: 0.018518518518518517, Alpha: 0.00889679715302491\n",
      "Episode 554, Avg Reward : -19.755, Timesteps: 50, Epsilon: 0.0030303030303030303, Alpha: 0.008880994671403198\n",
      "Episode 555, Avg Reward : -19.755, Timesteps: 50, Epsilon: 0.0030211480362537764, Alpha: 0.008865248226950355\n",
      "Episode 556, Avg Reward : -19.755, Timesteps: 50, Epsilon: 0.003012048192771084, Alpha: 0.008849557522123894\n",
      "Episode 557, Avg Reward : -19.755, Timesteps: 50, Epsilon: 0.0030030030030030034, Alpha: 0.0088339222614841\n",
      "Episode 558, Avg Reward : -3.180353356890459, Timesteps: 283, Epsilon: 0.047619047619047616, Alpha: 0.008818342151675485\n",
      "Episode 559, Avg Reward : -19.755, Timesteps: 50, Epsilon: 0.0029940119760479044, Alpha: 0.008802816901408451"
     ]
    },
    {
     "name": "stderr",
     "output_type": "stream",
     "text": [
      "  6%|▌         | 574/10000 [00:06<01:23, 112.68it/s]"
     ]
    },
    {
     "name": "stdout",
     "output_type": "stream",
     "text": [
      "\n",
      "Episode 560, Avg Reward : -19.755, Timesteps: 50, Epsilon: 0.0029850746268656717, Alpha: 0.008787346221441126\n",
      "Episode 561, Avg Reward : -19.755, Timesteps: 50, Epsilon: 0.002976190476190476, Alpha: 0.008771929824561403\n",
      "Episode 562, Avg Reward : -1.515762081784387, Timesteps: 538, Epsilon: 0.045454545454545456, Alpha: 0.008756567425569177\n",
      "Episode 563, Avg Reward : -19.755, Timesteps: 50, Epsilon: 0.002967359050445104, Alpha: 0.00874125874125874\n",
      "Episode 564, Avg Reward : -19.755, Timesteps: 50, Epsilon: 0.03125, Alpha: 0.008726003490401396\n",
      "Episode 565, Avg Reward : -19.755, Timesteps: 50, Epsilon: 0.002958579881656805, Alpha: 0.008710801393728223\n",
      "Episode 566, Avg Reward : -3.180353356890459, Timesteps: 283, Epsilon: 0.018181818181818184, Alpha: 0.008695652173913044\n",
      "Episode 567, Avg Reward : -19.755, Timesteps: 50, Epsilon: 0.0029498525073746317, Alpha: 0.008680555555555556\n",
      "Episode 568, Avg Reward : -19.755, Timesteps: 50, Epsilon: 0.0029411764705882353, Alpha: 0.008665511265164644\n",
      "Episode 569, Avg Reward : -19.755, Timesteps: 50, Epsilon: 0.002932551319648094, Alpha: 0.00865051903114187\n",
      "Episode 570, Avg Reward : -3.180353356890459, Timesteps: 283, Epsilon: 0.01785714285714286, Alpha: 0.008635578583765112\n",
      "Episode 571, Avg Reward : -19.755, Timesteps: 50, Epsilon: 0.0029239766081871343, Alpha: 0.008620689655172414\n",
      "Episode 572, Avg Reward : -19.755, Timesteps: 50, Epsilon: 0.002915451895043732, Alpha: 0.008605851979345954\n",
      "Episode 573, Avg Reward : -19.755, Timesteps: 50, Epsilon: 0.002906976744186047, Alpha: 0.008591065292096219\n",
      "Episode 574, Avg Reward : -3.180353356890459, Timesteps: 283, Epsilon: 0.017543859649122806, Alpha: 0.008576329331046312\n",
      "Episode 575, Avg Reward : -19.755, Timesteps: 50, Epsilon: 0.030303030303030307, Alpha: 0.008561643835616438\n",
      "Episode 576, Avg Reward : -19.755, Timesteps: 50, Epsilon: 0.002898550724637681, Alpha: 0.008547008547008548\n",
      "Episode 577, Avg Reward : -19.755, Timesteps: 50, Epsilon: 0.002890173410404624, Alpha: 0.008532423208191127\n",
      "Episode 578, Avg Reward : -19.755, Timesteps: 50, Epsilon: 0.002881844380403458, Alpha: 0.008517887563884156\n",
      "Episode 579, Avg Reward : -3.180353356890459, Timesteps: 283, Epsilon: 0.017241379310344827, Alpha: 0.008503401360544218\n",
      "Episode 580, Avg Reward : -19.755, Timesteps: 50, Epsilon: 0.002873563218390805, Alpha: 0.008488964346349746\n",
      "Episode 581, Avg Reward : -19.755, Timesteps: 50, Epsilon: 0.002865329512893983, Alpha: 0.00847457627118644\n",
      "Episode 582, Avg Reward : -19.755, Timesteps: 50, Epsilon: 0.002857142857142857, Alpha: 0.008460236886632826\n"
     ]
    },
    {
     "name": "stderr",
     "output_type": "stream",
     "text": [
      "  6%|▌         | 599/10000 [00:07<01:23, 112.04it/s]"
     ]
    },
    {
     "name": "stdout",
     "output_type": "stream",
     "text": [
      "Episode 583, Avg Reward : -0.7517424242424241, Timesteps: 924, Epsilon: 0.04347826086956522, Alpha: 0.008445945945945945\n",
      "Episode 584, Avg Reward : -19.755, Timesteps: 50, Epsilon: 0.002849002849002849, Alpha: 0.008431703204047217\n",
      "Episode 585, Avg Reward : -19.755, Timesteps: 50, Epsilon: 0.002840909090909091, Alpha: 0.008417508417508417\n",
      "Episode 586, Avg Reward : -19.755, Timesteps: 50, Epsilon: 0.0028328611898017003, Alpha: 0.008403361344537815\n",
      "Episode 587, Avg Reward : -3.180353356890459, Timesteps: 283, Epsilon: 0.01694915254237288, Alpha: 0.008389261744966443\n",
      "Episode 588, Avg Reward : -19.755, Timesteps: 50, Epsilon: 0.0028248587570621473, Alpha: 0.008375209380234505\n",
      "Episode 589, Avg Reward : -19.755, Timesteps: 50, Epsilon: 0.0028169014084507044, Alpha: 0.008361204013377926\n",
      "Episode 590, Avg Reward : -19.755, Timesteps: 50, Epsilon: 0.0028089887640449437, Alpha: 0.008347245409015025\n",
      "Episode 591, Avg Reward : -3.180353356890459, Timesteps: 283, Epsilon: 0.016666666666666666, Alpha: 0.008333333333333333\n",
      "Episode 592, Avg Reward : -19.755, Timesteps: 50, Epsilon: 0.0028011204481792717, Alpha: 0.008319467554076539\n",
      "Episode 593, Avg Reward : -19.755, Timesteps: 50, Epsilon: 0.029411764705882356, Alpha: 0.00830564784053156\n",
      "Episode 594, Avg Reward : -19.755, Timesteps: 50, Epsilon: 0.0027932960893854754, Alpha: 0.008291873963515755\n",
      "Episode 595, Avg Reward : -3.180353356890459, Timesteps: 283, Epsilon: 0.045454545454545456, Alpha: 0.008278145695364239\n",
      "Episode 596, Avg Reward : -19.755, Timesteps: 50, Epsilon: 0.0027855153203342623, Alpha: 0.008264462809917356\n",
      "Episode 597, Avg Reward : -19.755, Timesteps: 50, Epsilon: 0.002777777777777778, Alpha: 0.00825082508250825\n",
      "Episode 598, Avg Reward : -19.755, Timesteps: 50, Epsilon: 0.002770083102493075, Alpha: 0.008237232289950576\n",
      "Episode 599, Avg Reward : -19.755, Timesteps: 50, Epsilon: 0.0027624309392265192, Alpha: 0.008223684210526315\n",
      "Episode 600, Avg Reward : -3.180353356890459, Timesteps: 283, Epsilon: 0.01639344262295082, Alpha: 0.008210180623973728\n",
      "Episode 601, Avg Reward : -19.755, Timesteps: 50, Epsilon: 0.002754820936639119, Alpha: 0.00819672131147541\n",
      "Episode 602, Avg Reward : -19.755, Timesteps: 50, Epsilon: 0.0027472527472527475, Alpha: 0.008183306055646482\n",
      "Episode 603, Avg Reward : -19.755, Timesteps: 50, Epsilon: 0.0027397260273972603, Alpha: 0.008169934640522876\n",
      "Episode 604, Avg Reward : -19.755, Timesteps: 50, Epsilon: 0.028571428571428574, Alpha: 0.008156606851549756\n",
      "Episode 605, Avg Reward : -0.7718385650224222, Timesteps: 892, Epsilon: 0.016129032258064516, Alpha: 0.008143322475570033"
     ]
    },
    {
     "name": "stderr",
     "output_type": "stream",
     "text": [
      "  6%|▌         | 622/10000 [00:07<01:30, 103.16it/s]"
     ]
    },
    {
     "name": "stdout",
     "output_type": "stream",
     "text": [
      "\n",
      "Episode 606, Avg Reward : -19.755, Timesteps: 50, Epsilon: 0.00273224043715847, Alpha: 0.008130081300813009\n",
      "Episode 607, Avg Reward : -19.755, Timesteps: 50, Epsilon: 0.0027247956403269754, Alpha: 0.008116883116883116\n",
      "Episode 608, Avg Reward : -19.755, Timesteps: 50, Epsilon: 0.0027173913043478264, Alpha: 0.008103727714748784\n",
      "Episode 609, Avg Reward : -3.180353356890459, Timesteps: 283, Epsilon: 0.015873015873015876, Alpha: 0.008090614886731393\n",
      "Episode 610, Avg Reward : -19.755, Timesteps: 50, Epsilon: 0.002710027100271003, Alpha: 0.008077544426494346\n",
      "Episode 611, Avg Reward : -19.755, Timesteps: 50, Epsilon: 0.002702702702702703, Alpha: 0.008064516129032258\n",
      "Episode 612, Avg Reward : -19.755, Timesteps: 50, Epsilon: 0.0026954177897574125, Alpha: 0.008051529790660225\n",
      "Episode 613, Avg Reward : -3.180353356890459, Timesteps: 283, Epsilon: 0.015625, Alpha: 0.008038585209003215\n",
      "Episode 614, Avg Reward : -19.755, Timesteps: 50, Epsilon: 0.0026881720430107525, Alpha: 0.008025682182985555\n",
      "Episode 615, Avg Reward : -19.755, Timesteps: 50, Epsilon: 0.0026809651474530836, Alpha: 0.008012820512820514\n",
      "Episode 616, Avg Reward : -19.755, Timesteps: 50, Epsilon: 0.0026737967914438505, Alpha: 0.008\n",
      "Episode 617, Avg Reward : -1.5126345083487946, Timesteps: 539, Epsilon: 0.07692307692307693, Alpha: 0.007987220447284345\n",
      "Episode 618, Avg Reward : -19.755, Timesteps: 50, Epsilon: 0.02777777777777778, Alpha: 0.007974481658692184\n",
      "Episode 619, Avg Reward : -19.755, Timesteps: 50, Epsilon: 0.002666666666666667, Alpha: 0.007961783439490446\n",
      "Episode 620, Avg Reward : -19.755, Timesteps: 50, Epsilon: 0.0026595744680851063, Alpha: 0.00794912559618442\n",
      "Episode 621, Avg Reward : -3.180353356890459, Timesteps: 283, Epsilon: 0.015384615384615385, Alpha: 0.007936507936507936\n",
      "Episode 622, Avg Reward : -19.755, Timesteps: 50, Epsilon: 0.002652519893899204, Alpha: 0.00792393026941363\n",
      "Episode 623, Avg Reward : -19.755, Timesteps: 50, Epsilon: 0.002645502645502646, Alpha: 0.00791139240506329\n",
      "Episode 624, Avg Reward : -19.755, Timesteps: 50, Epsilon: 0.0026385224274406336, Alpha: 0.007898894154818327\n",
      "Episode 625, Avg Reward : -3.180353356890459, Timesteps: 283, Epsilon: 0.015151515151515154, Alpha: 0.007886435331230283\n",
      "Episode 626, Avg Reward : -19.755, Timesteps: 50, Epsilon: 0.002631578947368421, Alpha: 0.007874015748031496\n",
      "Episode 627, Avg Reward : -19.755, Timesteps: 50, Epsilon: 0.0026246719160104987, Alpha: 0.007861635220125786\n",
      "Episode 628, Avg Reward : -19.755, Timesteps: 50, Epsilon: 0.002617801047120419, Alpha: 0.007849293563579277\n",
      "Episode 629, Avg Reward : -2.6884290030211484, Timesteps: 331, Epsilon: 0.014925373134328358, Alpha: 0.007836990595611286"
     ]
    },
    {
     "name": "stderr",
     "output_type": "stream",
     "text": [
      "  6%|▋         | 646/10000 [00:07<01:27, 106.51it/s]"
     ]
    },
    {
     "name": "stdout",
     "output_type": "stream",
     "text": [
      "\n",
      "Episode 630, Avg Reward : -19.755, Timesteps: 50, Epsilon: 0.0026109660574412537, Alpha: 0.00782472613458529\n",
      "Episode 631, Avg Reward : -19.755, Timesteps: 50, Epsilon: 0.002604166666666667, Alpha: 0.0078125\n",
      "Episode 632, Avg Reward : -19.755, Timesteps: 50, Epsilon: 0.0025974025974025974, Alpha: 0.0078003120124804995\n",
      "Episode 633, Avg Reward : -19.755, Timesteps: 50, Epsilon: 0.0025906735751295338, Alpha: 0.00778816199376947\n",
      "Episode 634, Avg Reward : -3.180353356890459, Timesteps: 283, Epsilon: 0.014705882352941178, Alpha: 0.007776049766718507\n",
      "Episode 635, Avg Reward : -19.755, Timesteps: 50, Epsilon: 0.002583979328165375, Alpha: 0.007763975155279502\n",
      "Episode 636, Avg Reward : -19.755, Timesteps: 50, Epsilon: 0.02702702702702703, Alpha: 0.007751937984496124\n",
      "Episode 637, Avg Reward : -19.755, Timesteps: 50, Epsilon: 0.0025773195876288664, Alpha: 0.007739938080495357\n",
      "Episode 638, Avg Reward : -1.3353433835845903, Timesteps: 597, Epsilon: 0.04166666666666667, Alpha: 0.0077279752704791345\n",
      "Episode 639, Avg Reward : -19.755, Timesteps: 50, Epsilon: 0.0025706940874035992, Alpha: 0.00771604938271605\n",
      "Episode 640, Avg Reward : -19.755, Timesteps: 50, Epsilon: 0.002564102564102564, Alpha: 0.007704160246533127\n",
      "Episode 641, Avg Reward : -19.755, Timesteps: 50, Epsilon: 0.0025575447570332483, Alpha: 0.007692307692307693\n",
      "Episode 642, Avg Reward : -19.755, Timesteps: 50, Epsilon: 0.002551020408163265, Alpha: 0.007680491551459294\n",
      "Episode 643, Avg Reward : -3.180353356890459, Timesteps: 283, Epsilon: 0.04347826086956522, Alpha: 0.007668711656441718\n",
      "Episode 644, Avg Reward : -19.755, Timesteps: 50, Epsilon: 0.002544529262086514, Alpha: 0.007656967840735069\n",
      "Episode 645, Avg Reward : -19.755, Timesteps: 50, Epsilon: 0.002538071065989848, Alpha: 0.0076452599388379195\n",
      "Episode 646, Avg Reward : -3.180353356890459, Timesteps: 283, Epsilon: 0.014492753623188406, Alpha: 0.007633587786259542\n",
      "Episode 647, Avg Reward : -19.755, Timesteps: 50, Epsilon: 0.002531645569620253, Alpha: 0.007621951219512196\n",
      "Episode 648, Avg Reward : -19.755, Timesteps: 50, Epsilon: 0.0025252525252525255, Alpha: 0.0076103500761035\n",
      "Episode 649, Avg Reward : -19.755, Timesteps: 50, Epsilon: 0.0025188916876574307, Alpha: 0.007598784194528876\n",
      "Episode 650, Avg Reward : -3.180353356890459, Timesteps: 283, Epsilon: 0.014285714285714287, Alpha: 0.007587253414264036\n",
      "Episode 651, Avg Reward : -19.755, Timesteps: 50, Epsilon: 0.0025125628140703522, Alpha: 0.007575757575757576\n",
      "Episode 652, Avg Reward : -19.755, Timesteps: 50, Epsilon: 0.0025062656641604013, Alpha: 0.007564296520423602\n",
      "Episode 653, Avg Reward : -19.755, Timesteps: 50, Epsilon: 0.0025, Alpha: 0.007552870090634441\n",
      "Episode 654, Avg Reward : -1.5126345083487946, Timesteps: 539, Epsilon: 0.07142857142857144, Alpha: 0.007541478129713424"
     ]
    },
    {
     "name": "stderr",
     "output_type": "stream",
     "text": [
      "  7%|▋         | 672/10000 [00:07<01:22, 113.71it/s]"
     ]
    },
    {
     "name": "stdout",
     "output_type": "stream",
     "text": [
      "\n",
      "Episode 655, Avg Reward : -19.755, Timesteps: 50, Epsilon: 0.026315789473684213, Alpha: 0.00753012048192771\n",
      "Episode 656, Avg Reward : -19.755, Timesteps: 50, Epsilon: 0.0024937655860349127, Alpha: 0.007518796992481203\n",
      "Episode 657, Avg Reward : -19.755, Timesteps: 50, Epsilon: 0.0024875621890547263, Alpha: 0.007507507507507508\n",
      "Episode 658, Avg Reward : -3.180353356890459, Timesteps: 283, Epsilon: 0.014084507042253523, Alpha: 0.0074962518740629685\n",
      "Episode 659, Avg Reward : -19.755, Timesteps: 50, Epsilon: 0.025641025641025644, Alpha: 0.0074850299401197605\n",
      "Episode 660, Avg Reward : -19.755, Timesteps: 50, Epsilon: 0.002481389578163772, Alpha: 0.007473841554559043\n",
      "Episode 661, Avg Reward : -19.755, Timesteps: 50, Epsilon: 0.0024752475247524753, Alpha: 0.007462686567164179\n",
      "Episode 662, Avg Reward : -3.180353356890459, Timesteps: 283, Epsilon: 0.01388888888888889, Alpha: 0.00745156482861401\n",
      "Episode 663, Avg Reward : -19.755, Timesteps: 50, Epsilon: 0.0024691358024691358, Alpha: 0.00744047619047619\n",
      "Episode 664, Avg Reward : -19.755, Timesteps: 50, Epsilon: 0.0024630541871921183, Alpha: 0.007429420505200595\n",
      "Episode 665, Avg Reward : -19.755, Timesteps: 50, Epsilon: 0.002457002457002457, Alpha: 0.007418397626112759\n",
      "Episode 666, Avg Reward : -19.755, Timesteps: 50, Epsilon: 0.002450980392156863, Alpha: 0.007407407407407408\n",
      "Episode 667, Avg Reward : -3.180353356890459, Timesteps: 283, Epsilon: 0.08333333333333334, Alpha: 0.007396449704142012\n",
      "Episode 668, Avg Reward : -19.755, Timesteps: 50, Epsilon: 0.002444987775061125, Alpha: 0.007385524372230428\n",
      "Episode 669, Avg Reward : -19.755, Timesteps: 50, Epsilon: 0.0024390243902439024, Alpha: 0.007374631268436578\n",
      "Episode 670, Avg Reward : -19.755, Timesteps: 50, Epsilon: 0.0024330900243309003, Alpha: 0.0073637702503681875\n",
      "Episode 671, Avg Reward : -3.180353356890459, Timesteps: 283, Epsilon: 0.04166666666666667, Alpha: 0.007352941176470588\n",
      "Episode 672, Avg Reward : -19.755, Timesteps: 50, Epsilon: 0.0024271844660194173, Alpha: 0.007342143906020559\n",
      "Episode 673, Avg Reward : -19.755, Timesteps: 50, Epsilon: 0.002421307506053269, Alpha: 0.007331378299120234\n",
      "Episode 674, Avg Reward : -19.755, Timesteps: 50, Epsilon: 0.002415458937198068, Alpha: 0.007320644216691069\n",
      "Episode 675, Avg Reward : -3.180353356890459, Timesteps: 283, Epsilon: 0.013698630136986302, Alpha: 0.007309941520467836\n",
      "Episode 676, Avg Reward : -19.755, Timesteps: 50, Epsilon: 0.0024096385542168677, Alpha: 0.0072992700729927005\n",
      "Episode 677, Avg Reward : -19.755, Timesteps: 50, Epsilon: 0.002403846153846154, Alpha: 0.00728862973760933\n",
      "Episode 678, Avg Reward : -19.755, Timesteps: 50, Epsilon: 0.002398081534772182, Alpha: 0.00727802037845706\n",
      "Episode 679, Avg Reward : -1.2443898573692556, Timesteps: 631, Epsilon: 0.026315789473684213, Alpha: 0.007267441860465116"
     ]
    },
    {
     "name": "stderr",
     "output_type": "stream",
     "text": [
      "  7%|▋         | 699/10000 [00:08<01:22, 112.72it/s]"
     ]
    },
    {
     "name": "stdout",
     "output_type": "stream",
     "text": [
      "\n",
      "Episode 680, Avg Reward : -19.755, Timesteps: 50, Epsilon: 0.002392344497607656, Alpha: 0.007256894049346879\n",
      "Episode 681, Avg Reward : -19.755, Timesteps: 50, Epsilon: 0.002386634844868735, Alpha: 0.007246376811594203\n",
      "Episode 682, Avg Reward : -19.755, Timesteps: 50, Epsilon: 0.002380952380952381, Alpha: 0.007235890014471781\n",
      "Episode 683, Avg Reward : -2.470561797752809, Timesteps: 356, Epsilon: 0.020833333333333336, Alpha: 0.0072254335260115606\n",
      "Episode 684, Avg Reward : -19.755, Timesteps: 50, Epsilon: 0.0023752969121140144, Alpha: 0.007215007215007215\n",
      "Episode 685, Avg Reward : -19.755, Timesteps: 50, Epsilon: 0.025, Alpha: 0.007204610951008645\n",
      "Episode 686, Avg Reward : -19.755, Timesteps: 50, Epsilon: 0.002369668246445498, Alpha: 0.007194244604316547\n",
      "Episode 687, Avg Reward : -3.180353356890459, Timesteps: 283, Epsilon: 0.013513513513513514, Alpha: 0.007183908045977012\n",
      "Episode 688, Avg Reward : -19.755, Timesteps: 50, Epsilon: 0.0023640661938534283, Alpha: 0.007173601147776184\n",
      "Episode 689, Avg Reward : -19.755, Timesteps: 50, Epsilon: 0.02439024390243903, Alpha: 0.0071633237822349575\n",
      "Episode 690, Avg Reward : -19.755, Timesteps: 50, Epsilon: 0.002358490566037736, Alpha: 0.007153075822603719\n",
      "Episode 691, Avg Reward : -7.850901639344261, Timesteps: 122, Epsilon: 0.04, Alpha: 0.007142857142857143\n",
      "Episode 692, Avg Reward : -19.755, Timesteps: 50, Epsilon: 0.0023529411764705885, Alpha: 0.007132667617689016\n",
      "Episode 693, Avg Reward : -19.755, Timesteps: 50, Epsilon: 0.002347417840375587, Alpha: 0.007122507122507123\n",
      "Episode 694, Avg Reward : -19.755, Timesteps: 50, Epsilon: 0.00234192037470726, Alpha: 0.007112375533428165\n",
      "Episode 695, Avg Reward : -2.150519801980198, Timesteps: 404, Epsilon: 0.05555555555555556, Alpha: 0.007102272727272727\n",
      "Episode 696, Avg Reward : -19.755, Timesteps: 50, Epsilon: 0.0023364485981308414, Alpha: 0.0070921985815602835\n",
      "Episode 697, Avg Reward : -19.755, Timesteps: 50, Epsilon: 0.002331002331002331, Alpha: 0.00708215297450425\n",
      "Episode 698, Avg Reward : -19.755, Timesteps: 50, Epsilon: 0.002325581395348837, Alpha: 0.007072135785007072\n",
      "Episode 699, Avg Reward : -3.180353356890459, Timesteps: 283, Epsilon: 0.013333333333333334, Alpha: 0.007062146892655367\n",
      "Episode 700, Avg Reward : -19.755, Timesteps: 50, Epsilon: 0.002320185614849188, Alpha: 0.007052186177715091\n",
      "Episode 701, Avg Reward : -19.755, Timesteps: 50, Epsilon: 0.0023148148148148147, Alpha: 0.007042253521126761\n",
      "Episode 702, Avg Reward : -19.755, Timesteps: 50, Epsilon: 0.002309468822170901, Alpha: 0.007032348804500704\n",
      "Episode 703, Avg Reward : -3.180353356890459, Timesteps: 283, Epsilon: 0.013157894736842106, Alpha: 0.007022471910112359\n",
      "Episode 704, Avg Reward : -19.755, Timesteps: 50, Epsilon: 0.002304147465437788, Alpha: 0.007012622720897616\n",
      "Episode 705, Avg Reward : -19.755, Timesteps: 50, Epsilon: 0.0022988505747126436, Alpha: 0.007002801120448179\n",
      "Episode 706, Avg Reward : -19.755, Timesteps: 50, Epsilon: 0.0022935779816513763, Alpha: 0.006993006993006993\n",
      "Episode 707, Avg Reward : -19.755, Timesteps: 50, Epsilon: 0.002288329519450801, Alpha: 0.006983240223463688\n"
     ]
    },
    {
     "name": "stderr",
     "output_type": "stream",
     "text": [
      "  7%|▋         | 725/10000 [00:08<01:19, 116.59it/s]"
     ]
    },
    {
     "name": "stdout",
     "output_type": "stream",
     "text": [
      "Episode 708, Avg Reward : -1.5126345083487946, Timesteps: 539, Epsilon: 0.06666666666666667, Alpha: 0.00697350069735007\n",
      "Episode 709, Avg Reward : -19.755, Timesteps: 50, Epsilon: 0.0022831050228310505, Alpha: 0.006963788300835655\n",
      "Episode 710, Avg Reward : -19.755, Timesteps: 50, Epsilon: 0.0022779043280182236, Alpha: 0.006954102920723226\n",
      "Episode 711, Avg Reward : -19.755, Timesteps: 50, Epsilon: 0.002272727272727273, Alpha: 0.006944444444444444\n",
      "Episode 712, Avg Reward : -3.180353356890459, Timesteps: 283, Epsilon: 0.012987012987012988, Alpha: 0.006934812760055479\n",
      "Episode 713, Avg Reward : -19.755, Timesteps: 50, Epsilon: 0.0022675736961451248, Alpha: 0.006925207756232687\n",
      "Episode 714, Avg Reward : -19.755, Timesteps: 50, Epsilon: 0.002262443438914027, Alpha: 0.006915629322268327\n",
      "Episode 715, Avg Reward : -19.755, Timesteps: 50, Epsilon: 0.023809523809523808, Alpha: 0.006906077348066298\n",
      "Episode 716, Avg Reward : -19.755, Timesteps: 50, Epsilon: 0.0022573363431151244, Alpha: 0.006896551724137931\n",
      "Episode 717, Avg Reward : -3.180353356890459, Timesteps: 283, Epsilon: 0.012820512820512822, Alpha: 0.006887052341597796\n",
      "Episode 718, Avg Reward : -19.755, Timesteps: 50, Epsilon: 0.0022522522522522522, Alpha: 0.0068775790921595595\n",
      "Episode 719, Avg Reward : -19.755, Timesteps: 50, Epsilon: 0.023255813953488375, Alpha: 0.006868131868131868\n",
      "Episode 720, Avg Reward : -19.755, Timesteps: 50, Epsilon: 0.0022471910112359553, Alpha: 0.006858710562414266\n",
      "Episode 721, Avg Reward : -3.180353356890459, Timesteps: 283, Epsilon: 0.012658227848101266, Alpha: 0.00684931506849315\n",
      "Episode 722, Avg Reward : -19.755, Timesteps: 50, Epsilon: 0.002242152466367713, Alpha: 0.006839945280437757\n",
      "Episode 723, Avg Reward : -19.755, Timesteps: 50, Epsilon: 0.0022371364653243847, Alpha: 0.006830601092896175\n",
      "Episode 724, Avg Reward : -19.755, Timesteps: 50, Epsilon: 0.0022321428571428575, Alpha: 0.0068212824010914054\n",
      "Episode 725, Avg Reward : -3.180353356890459, Timesteps: 283, Epsilon: 0.0125, Alpha: 0.006811989100817438\n",
      "Episode 726, Avg Reward : -19.755, Timesteps: 50, Epsilon: 0.0022271714922049, Alpha: 0.006802721088435374\n",
      "Episode 727, Avg Reward : -19.755, Timesteps: 50, Epsilon: 0.0022222222222222222, Alpha: 0.006793478260869566\n",
      "Episode 728, Avg Reward : -19.755, Timesteps: 50, Epsilon: 0.0022172949002217295, Alpha: 0.006784260515603799\n",
      "Episode 729, Avg Reward : -1.5727447216890589, Timesteps: 521, Epsilon: 0.1, Alpha: 0.006775067750677507\n",
      "Episode 730, Avg Reward : -19.755, Timesteps: 50, Epsilon: 0.0022123893805309734, Alpha: 0.006765899864682002\n",
      "Episode 731, Avg Reward : -19.755, Timesteps: 50, Epsilon: 0.0022075055187637973, Alpha: 0.006756756756756757\n",
      "Episode 732, Avg Reward : -19.755, Timesteps: 50, Epsilon: 0.0022026431718061676, Alpha: 0.006747638326585695\n",
      "Episode 733, Avg Reward : -3.180353356890459, Timesteps: 283, Epsilon: 0.04, Alpha: 0.0067385444743935305\n",
      "Episode 734, Avg Reward : -19.755, Timesteps: 50, Epsilon: 0.002197802197802198, Alpha: 0.006729475100942127"
     ]
    },
    {
     "name": "stderr",
     "output_type": "stream",
     "text": [
      "  7%|▋         | 749/10000 [00:08<01:20, 114.68it/s]"
     ]
    },
    {
     "name": "stdout",
     "output_type": "stream",
     "text": [
      "\n",
      "Episode 735, Avg Reward : -19.755, Timesteps: 50, Epsilon: 0.0021929824561403508, Alpha: 0.006720430107526881\n",
      "Episode 736, Avg Reward : -19.755, Timesteps: 50, Epsilon: 0.002188183807439825, Alpha: 0.006711409395973154\n",
      "Episode 737, Avg Reward : -3.180353356890459, Timesteps: 283, Epsilon: 0.01234567901234568, Alpha: 0.006702412868632708\n",
      "Episode 738, Avg Reward : -19.755, Timesteps: 50, Epsilon: 0.022727272727272728, Alpha: 0.006693440428380187\n",
      "Episode 739, Avg Reward : -19.755, Timesteps: 50, Epsilon: 0.0021834061135371182, Alpha: 0.0066844919786096255\n",
      "Episode 740, Avg Reward : -19.755, Timesteps: 50, Epsilon: 0.002178649237472767, Alpha: 0.006675567423230974\n",
      "Episode 741, Avg Reward : -3.180353356890459, Timesteps: 283, Epsilon: 0.012195121951219514, Alpha: 0.006666666666666667\n",
      "Episode 742, Avg Reward : -19.755, Timesteps: 50, Epsilon: 0.002173913043478261, Alpha: 0.006657789613848203\n",
      "Episode 743, Avg Reward : -19.755, Timesteps: 50, Epsilon: 0.0021691973969631237, Alpha: 0.006648936170212766\n",
      "Episode 744, Avg Reward : -19.755, Timesteps: 50, Epsilon: 0.0021645021645021645, Alpha: 0.006640106241699867\n",
      "Episode 745, Avg Reward : -1.5126345083487946, Timesteps: 539, Epsilon: 0.0625, Alpha: 0.00663129973474801\n",
      "Episode 746, Avg Reward : -19.755, Timesteps: 50, Epsilon: 0.0021598272138228943, Alpha: 0.006622516556291391\n",
      "Episode 747, Avg Reward : -19.755, Timesteps: 50, Epsilon: 0.0021551724137931034, Alpha: 0.006613756613756614\n",
      "Episode 748, Avg Reward : -19.755, Timesteps: 50, Epsilon: 0.07692307692307693, Alpha: 0.006605019815059445\n",
      "Episode 749, Avg Reward : -19.755, Timesteps: 50, Epsilon: 0.002150537634408602, Alpha: 0.006596306068601583\n",
      "Episode 750, Avg Reward : -3.180353356890459, Timesteps: 283, Epsilon: 0.012048192771084336, Alpha: 0.006587615283267457\n",
      "Episode 751, Avg Reward : -19.755, Timesteps: 50, Epsilon: 0.002145922746781116, Alpha: 0.006578947368421052\n",
      "Episode 752, Avg Reward : -19.755, Timesteps: 50, Epsilon: 0.0021413276231263384, Alpha: 0.00657030223390276\n",
      "Episode 753, Avg Reward : -19.755, Timesteps: 50, Epsilon: 0.002136752136752137, Alpha: 0.006561679790026247\n",
      "Episode 754, Avg Reward : -3.180353356890459, Timesteps: 283, Epsilon: 0.038461538461538464, Alpha: 0.006553079947575361\n",
      "Episode 755, Avg Reward : -19.755, Timesteps: 50, Epsilon: 0.0021321961620469087, Alpha: 0.006544502617801046\n",
      "Episode 756, Avg Reward : -19.755, Timesteps: 50, Epsilon: 0.002127659574468085, Alpha: 0.006535947712418301\n",
      "Episode 757, Avg Reward : -19.755, Timesteps: 50, Epsilon: 0.0021231422505307855, Alpha: 0.006527415143603134\n",
      "Episode 758, Avg Reward : -3.180353356890459, Timesteps: 283, Epsilon: 0.011904761904761904, Alpha: 0.006518904823989569"
     ]
    },
    {
     "name": "stderr",
     "output_type": "stream",
     "text": [
      "  8%|▊         | 774/10000 [00:08<01:21, 113.22it/s]"
     ]
    },
    {
     "name": "stdout",
     "output_type": "stream",
     "text": [
      "\n",
      "Episode 759, Avg Reward : -19.755, Timesteps: 50, Epsilon: 0.022222222222222223, Alpha: 0.006510416666666667\n",
      "Episode 760, Avg Reward : -19.755, Timesteps: 50, Epsilon: 0.00211864406779661, Alpha: 0.006501950585175552\n",
      "Episode 761, Avg Reward : -19.755, Timesteps: 50, Epsilon: 0.0021141649048625794, Alpha: 0.006493506493506494\n",
      "Episode 762, Avg Reward : -3.180353356890459, Timesteps: 283, Epsilon: 0.011764705882352941, Alpha: 0.00648508430609598\n",
      "Episode 763, Avg Reward : -19.755, Timesteps: 50, Epsilon: 0.0021097046413502112, Alpha: 0.006476683937823834\n",
      "Episode 764, Avg Reward : -19.755, Timesteps: 50, Epsilon: 0.002105263157894737, Alpha: 0.00646830530401035\n",
      "Episode 765, Avg Reward : -19.755, Timesteps: 50, Epsilon: 0.0021008403361344537, Alpha: 0.006459948320413436\n",
      "Episode 766, Avg Reward : -19.755, Timesteps: 50, Epsilon: 0.0020964360587002098, Alpha: 0.0064516129032258064\n",
      "Episode 767, Avg Reward : -0.9958847184986603, Timesteps: 746, Epsilon: 0.011627906976744188, Alpha: 0.0064432989690721655\n",
      "Episode 768, Avg Reward : -19.755, Timesteps: 50, Epsilon: 0.002092050209205021, Alpha: 0.006435006435006435\n",
      "Episode 769, Avg Reward : -19.755, Timesteps: 50, Epsilon: 0.0020876826722338207, Alpha: 0.006426735218508998\n",
      "Episode 770, Avg Reward : -19.755, Timesteps: 50, Epsilon: 0.02173913043478261, Alpha: 0.006418485237483953\n",
      "Episode 771, Avg Reward : -3.180353356890459, Timesteps: 283, Epsilon: 0.01149425287356322, Alpha: 0.00641025641025641\n",
      "Episode 772, Avg Reward : -19.755, Timesteps: 50, Epsilon: 0.0020833333333333333, Alpha: 0.006402048655569783\n",
      "Episode 773, Avg Reward : -19.755, Timesteps: 50, Epsilon: 0.002079002079002079, Alpha: 0.00639386189258312\n",
      "Episode 774, Avg Reward : -19.755, Timesteps: 50, Epsilon: 0.002074688796680498, Alpha: 0.006385696040868455\n",
      "Episode 775, Avg Reward : -3.180353356890459, Timesteps: 283, Epsilon: 0.011363636363636364, Alpha: 0.0063775510204081625\n",
      "Episode 776, Avg Reward : -19.755, Timesteps: 50, Epsilon: 0.002070393374741201, Alpha: 0.006369426751592357\n",
      "Episode 777, Avg Reward : -19.755, Timesteps: 50, Epsilon: 0.002066115702479339, Alpha: 0.0063613231552162855\n",
      "Episode 778, Avg Reward : -19.755, Timesteps: 50, Epsilon: 0.002061855670103093, Alpha: 0.0063532401524777635\n",
      "Episode 779, Avg Reward : -3.180353356890459, Timesteps: 283, Epsilon: 0.07692307692307693, Alpha: 0.006345177664974619\n",
      "Episode 780, Avg Reward : -19.755, Timesteps: 50, Epsilon: 0.00205761316872428, Alpha: 0.0063371356147021544\n",
      "Episode 781, Avg Reward : -19.755, Timesteps: 50, Epsilon: 0.002053388090349076, Alpha: 0.006329113924050633\n",
      "Episode 782, Avg Reward : -19.755, Timesteps: 50, Epsilon: 0.0020491803278688526, Alpha: 0.006321112515802782\n"
     ]
    },
    {
     "name": "stderr",
     "output_type": "stream",
     "text": [
      "  8%|▊         | 798/10000 [00:08<01:23, 109.91it/s]"
     ]
    },
    {
     "name": "stdout",
     "output_type": "stream",
     "text": [
      "Episode 783, Avg Reward : -1.0745518207282914, Timesteps: 714, Epsilon: 0.02040816326530612, Alpha: 0.006313131313131313\n",
      "Episode 784, Avg Reward : -19.755, Timesteps: 50, Epsilon: 0.002044989775051125, Alpha: 0.006305170239596469\n",
      "Episode 785, Avg Reward : -19.755, Timesteps: 50, Epsilon: 0.0020408163265306124, Alpha: 0.006297229219143576\n",
      "Episode 786, Avg Reward : -19.755, Timesteps: 50, Epsilon: 0.0020366598778004076, Alpha: 0.006289308176100629\n",
      "Episode 787, Avg Reward : -3.180353356890459, Timesteps: 283, Epsilon: 0.011235955056179775, Alpha: 0.00628140703517588\n",
      "Episode 788, Avg Reward : -19.755, Timesteps: 50, Epsilon: 0.002032520325203252, Alpha: 0.006273525721455458\n",
      "Episode 789, Avg Reward : -19.755, Timesteps: 50, Epsilon: 0.02127659574468085, Alpha: 0.006265664160401003\n",
      "Episode 790, Avg Reward : -19.755, Timesteps: 50, Epsilon: 0.0020283975659229213, Alpha: 0.006257822277847309\n",
      "Episode 791, Avg Reward : -3.0304761904761905, Timesteps: 294, Epsilon: 0.05882352941176471, Alpha: 0.00625\n",
      "Episode 792, Avg Reward : -19.755, Timesteps: 50, Epsilon: 0.0020242914979757085, Alpha: 0.006242197253433209\n",
      "Episode 793, Avg Reward : -19.755, Timesteps: 50, Epsilon: 0.00202020202020202, Alpha: 0.006234413965087281\n",
      "Episode 794, Avg Reward : -19.755, Timesteps: 50, Epsilon: 0.0020161290322580645, Alpha: 0.006226650062266501\n",
      "Episode 795, Avg Reward : -3.180353356890459, Timesteps: 283, Epsilon: 0.011111111111111112, Alpha: 0.006218905472636815\n",
      "Episode 796, Avg Reward : -19.755, Timesteps: 50, Epsilon: 0.002012072434607646, Alpha: 0.006211180124223602\n",
      "Episode 797, Avg Reward : -19.755, Timesteps: 50, Epsilon: 0.0020080321285140565, Alpha: 0.00620347394540943\n",
      "Episode 798, Avg Reward : -19.755, Timesteps: 50, Epsilon: 0.0020040080160320644, Alpha: 0.006195786864931846\n",
      "Episode 799, Avg Reward : -3.180353356890459, Timesteps: 283, Epsilon: 0.01098901098901099, Alpha: 0.006188118811881188\n",
      "Episode 800, Avg Reward : -19.755, Timesteps: 50, Epsilon: 0.002, Alpha: 0.006180469715698393\n",
      "Episode 801, Avg Reward : -19.755, Timesteps: 50, Epsilon: 0.0019960079840319364, Alpha: 0.006172839506172839\n",
      "Episode 802, Avg Reward : -19.755, Timesteps: 50, Epsilon: 0.00199203187250996, Alpha: 0.006165228113440197\n",
      "Episode 803, Avg Reward : -3.180353356890459, Timesteps: 283, Epsilon: 0.010869565217391306, Alpha: 0.006157635467980295\n",
      "Episode 804, Avg Reward : -19.755, Timesteps: 50, Epsilon: 0.001988071570576541, Alpha: 0.006150061500615006\n",
      "Episode 805, Avg Reward : -19.755, Timesteps: 50, Epsilon: 0.0019841269841269845, Alpha: 0.006142506142506142\n",
      "Episode 806, Avg Reward : -19.755, Timesteps: 50, Epsilon: 0.0019801980198019802, Alpha: 0.006134969325153374\n"
     ]
    },
    {
     "name": "stderr",
     "output_type": "stream",
     "text": [
      "  8%|▊         | 823/10000 [00:09<01:21, 112.63it/s]"
     ]
    },
    {
     "name": "stdout",
     "output_type": "stream",
     "text": [
      "Episode 807, Avg Reward : -1.1827424242424247, Timesteps: 660, Epsilon: 0.1, Alpha: 0.006127450980392158\n",
      "Episode 808, Avg Reward : -19.755, Timesteps: 50, Epsilon: 0.001976284584980237, Alpha: 0.006119951040391676\n",
      "Episode 809, Avg Reward : -19.755, Timesteps: 50, Epsilon: 0.020833333333333336, Alpha: 0.006112469437652812\n",
      "Episode 810, Avg Reward : -19.755, Timesteps: 50, Epsilon: 0.0019723865877712033, Alpha: 0.006105006105006105\n",
      "Episode 811, Avg Reward : -3.180353356890459, Timesteps: 283, Epsilon: 0.037037037037037035, Alpha: 0.006097560975609756\n",
      "Episode 812, Avg Reward : -19.755, Timesteps: 50, Epsilon: 0.0019685039370078744, Alpha: 0.006090133982947625\n",
      "Episode 813, Avg Reward : -19.755, Timesteps: 50, Epsilon: 0.02040816326530612, Alpha: 0.00608272506082725\n",
      "Episode 814, Avg Reward : -19.755, Timesteps: 50, Epsilon: 0.001964636542239686, Alpha: 0.006075334143377886\n",
      "Episode 815, Avg Reward : -3.180353356890459, Timesteps: 283, Epsilon: 0.01075268817204301, Alpha: 0.006067961165048544\n",
      "Episode 816, Avg Reward : -19.755, Timesteps: 50, Epsilon: 0.00196078431372549, Alpha: 0.006060606060606061\n",
      "Episode 817, Avg Reward : -19.755, Timesteps: 50, Epsilon: 0.0019569471624266144, Alpha: 0.006053268765133173\n",
      "Episode 818, Avg Reward : -19.755, Timesteps: 50, Epsilon: 0.001953125, Alpha: 0.006045949214026602\n",
      "Episode 819, Avg Reward : -19.755, Timesteps: 50, Epsilon: 0.0019493177387914231, Alpha: 0.006038647342995169\n",
      "Episode 820, Avg Reward : -3.180353356890459, Timesteps: 283, Epsilon: 0.010638297872340425, Alpha: 0.006031363088057901\n",
      "Episode 821, Avg Reward : -19.755, Timesteps: 50, Epsilon: 0.001945525291828794, Alpha: 0.006024096385542169\n",
      "Episode 822, Avg Reward : -19.755, Timesteps: 50, Epsilon: 0.0019417475728155341, Alpha: 0.006016847172081829\n",
      "Episode 823, Avg Reward : -19.755, Timesteps: 50, Epsilon: 0.001937984496124031, Alpha: 0.006009615384615384\n",
      "Episode 824, Avg Reward : -0.877772277227724, Timesteps: 808, Epsilon: 0.03225806451612903, Alpha: 0.006002400960384154\n",
      "Episode 825, Avg Reward : -19.755, Timesteps: 50, Epsilon: 0.0019342359767891683, Alpha: 0.005995203836930456\n",
      "Episode 826, Avg Reward : -19.755, Timesteps: 50, Epsilon: 0.0019305019305019308, Alpha: 0.005988023952095809\n",
      "Episode 827, Avg Reward : -19.755, Timesteps: 50, Epsilon: 0.001926782273603083, Alpha: 0.005980861244019139\n",
      "Episode 828, Avg Reward : -3.180353356890459, Timesteps: 283, Epsilon: 0.010526315789473684, Alpha: 0.005973715651135005\n",
      "Episode 829, Avg Reward : -19.755, Timesteps: 50, Epsilon: 0.0019230769230769232, Alpha: 0.0059665871121718375"
     ]
    },
    {
     "name": "stderr",
     "output_type": "stream",
     "text": [
      "  8%|▊         | 846/10000 [00:09<01:26, 105.53it/s]"
     ]
    },
    {
     "name": "stdout",
     "output_type": "stream",
     "text": [
      "\n",
      "Episode 830, Avg Reward : -19.755, Timesteps: 50, Epsilon: 0.0019193857965451057, Alpha: 0.0059594755661501785\n",
      "Episode 831, Avg Reward : -19.755, Timesteps: 50, Epsilon: 0.0019157088122605363, Alpha: 0.005952380952380952\n",
      "Episode 832, Avg Reward : -3.180353356890459, Timesteps: 283, Epsilon: 0.010416666666666668, Alpha: 0.005945303210463734\n",
      "Episode 833, Avg Reward : -19.755, Timesteps: 50, Epsilon: 0.02, Alpha: 0.0059382422802850355\n",
      "Episode 834, Avg Reward : -19.755, Timesteps: 50, Epsilon: 0.0019120458891013386, Alpha: 0.005931198102016607\n",
      "Episode 835, Avg Reward : -19.755, Timesteps: 50, Epsilon: 0.0019083969465648856, Alpha: 0.005924170616113744\n",
      "Episode 836, Avg Reward : -3.180353356890459, Timesteps: 283, Epsilon: 0.03571428571428572, Alpha: 0.005917159763313609\n",
      "Episode 837, Avg Reward : -19.755, Timesteps: 50, Epsilon: 0.0019047619047619048, Alpha: 0.0059101654846335705\n",
      "Episode 838, Avg Reward : -19.755, Timesteps: 50, Epsilon: 0.0019011406844106464, Alpha: 0.0059031877213695395\n",
      "Episode 839, Avg Reward : -19.755, Timesteps: 50, Epsilon: 0.0018975332068311196, Alpha: 0.00589622641509434\n",
      "Episode 840, Avg Reward : -3.180353356890459, Timesteps: 283, Epsilon: 0.010309278350515465, Alpha: 0.005889281507656065\n",
      "Episode 841, Avg Reward : -19.755, Timesteps: 50, Epsilon: 0.0018939393939393942, Alpha: 0.0058823529411764705\n",
      "Episode 842, Avg Reward : -19.755, Timesteps: 50, Epsilon: 0.001890359168241966, Alpha: 0.005875440658049354\n",
      "Episode 843, Avg Reward : -19.755, Timesteps: 50, Epsilon: 0.0018867924528301887, Alpha: 0.005868544600938967\n",
      "Episode 844, Avg Reward : -2.097941176470588, Timesteps: 408, Epsilon: 0.025641025641025644, Alpha: 0.005861664712778429\n",
      "Episode 845, Avg Reward : -19.755, Timesteps: 50, Epsilon: 0.0018832391713747647, Alpha: 0.0058548009367681494\n",
      "Episode 846, Avg Reward : -19.755, Timesteps: 50, Epsilon: 0.0018796992481203006, Alpha: 0.005847953216374269\n",
      "Episode 847, Avg Reward : -19.755, Timesteps: 50, Epsilon: 0.0018761726078799252, Alpha: 0.0058411214953271035\n",
      "Episode 848, Avg Reward : -0.4387636932707366, Timesteps: 1278, Epsilon: 0.01020408163265306, Alpha: 0.005834305717619603"
     ]
    },
    {
     "name": "stderr",
     "output_type": "stream",
     "text": [
      "  9%|▊         | 867/10000 [00:09<01:48, 84.32it/s] "
     ]
    },
    {
     "name": "stdout",
     "output_type": "stream",
     "text": [
      "\n",
      "Episode 849, Avg Reward : -19.755, Timesteps: 50, Epsilon: 0.0018726591760299628, Alpha: 0.005827505827505828\n",
      "Episode 850, Avg Reward : -19.755, Timesteps: 50, Epsilon: 0.001869158878504673, Alpha: 0.005820721769499417\n",
      "Episode 851, Avg Reward : -19.755, Timesteps: 50, Epsilon: 0.0018656716417910447, Alpha: 0.005813953488372093\n",
      "Episode 852, Avg Reward : -3.180353356890459, Timesteps: 283, Epsilon: 0.010101010101010102, Alpha: 0.005807200929152149\n",
      "Episode 853, Avg Reward : -19.755, Timesteps: 50, Epsilon: 0.019607843137254905, Alpha: 0.00580046403712297\n",
      "Episode 854, Avg Reward : -19.755, Timesteps: 50, Epsilon: 0.00186219739292365, Alpha: 0.005793742757821553\n",
      "Episode 855, Avg Reward : -19.755, Timesteps: 50, Epsilon: 0.001858736059479554, Alpha: 0.005787037037037037\n",
      "Episode 856, Avg Reward : -3.180353356890459, Timesteps: 283, Epsilon: 0.01, Alpha: 0.005780346820809248\n",
      "Episode 857, Avg Reward : -19.755, Timesteps: 50, Epsilon: 0.001855287569573284, Alpha: 0.005773672055427252\n",
      "Episode 858, Avg Reward : -19.755, Timesteps: 50, Epsilon: 0.001851851851851852, Alpha: 0.0057670126874279125\n",
      "Episode 859, Avg Reward : -19.755, Timesteps: 50, Epsilon: 0.0018484288354898336, Alpha: 0.00576036866359447\n",
      "Episode 860, Avg Reward : -1.8283620689655173, Timesteps: 464, Epsilon: 0.03125, Alpha: 0.00575373993095512\n",
      "Episode 861, Avg Reward : -19.755, Timesteps: 50, Epsilon: 0.0018450184501845018, Alpha: 0.005747126436781609\n",
      "Episode 862, Avg Reward : -19.755, Timesteps: 50, Epsilon: 0.0018416206261510132, Alpha: 0.0057405281285878304\n",
      "Episode 863, Avg Reward : -19.755, Timesteps: 50, Epsilon: 0.0018382352941176473, Alpha: 0.00573394495412844\n",
      "Episode 864, Avg Reward : -0.6547834645669293, Timesteps: 1016, Epsilon: 0.09090909090909091, Alpha: 0.00572737686139748\n",
      "Episode 865, Avg Reward : -19.755, Timesteps: 50, Epsilon: 0.001834862385321101, Alpha: 0.005720823798627002\n",
      "Episode 866, Avg Reward : -19.755, Timesteps: 50, Epsilon: 0.0018315018315018315, Alpha: 0.005714285714285714\n",
      "Episode 867, Avg Reward : -19.755, Timesteps: 50, Epsilon: 0.0018281535648994515, Alpha: 0.005707762557077626\n",
      "Episode 868, Avg Reward : -3.180353356890459, Timesteps: 283, Epsilon: 0.009900990099009901, Alpha: 0.005701254275940707\n",
      "Episode 869, Avg Reward : -19.755, Timesteps: 50, Epsilon: 0.0018248175182481753, Alpha: 0.0056947608200455585\n",
      "Episode 870, Avg Reward : -19.755, Timesteps: 50, Epsilon: 0.0018214936247723135, Alpha: 0.005688282138794084\n",
      "Episode 871, Avg Reward : -19.755, Timesteps: 50, Epsilon: 0.0018181818181818182, Alpha: 0.005681818181818182\n",
      "Episode 872, Avg Reward : -3.180353356890459, Timesteps: 283, Epsilon: 0.009803921568627453, Alpha: 0.005675368898978434"
     ]
    },
    {
     "name": "stderr",
     "output_type": "stream",
     "text": [
      "  9%|▉         | 891/10000 [00:09<01:34, 96.03it/s]"
     ]
    },
    {
     "name": "stdout",
     "output_type": "stream",
     "text": [
      "\n",
      "Episode 873, Avg Reward : -19.755, Timesteps: 50, Epsilon: 0.0018148820326678767, Alpha: 0.005668934240362812\n",
      "Episode 874, Avg Reward : -19.755, Timesteps: 50, Epsilon: 0.0018115942028985507, Alpha: 0.005662514156285391\n",
      "Episode 875, Avg Reward : -19.755, Timesteps: 50, Epsilon: 0.0018083182640144667, Alpha: 0.005656108597285068\n",
      "Episode 876, Avg Reward : -3.180353356890459, Timesteps: 283, Epsilon: 0.009708737864077669, Alpha: 0.005649717514124294\n",
      "Episode 877, Avg Reward : -19.755, Timesteps: 50, Epsilon: 0.0018050541516245488, Alpha: 0.0056433408577878106\n",
      "Episode 878, Avg Reward : -19.755, Timesteps: 50, Epsilon: 0.019230769230769232, Alpha: 0.005636978579481398\n",
      "Episode 879, Avg Reward : -19.755, Timesteps: 50, Epsilon: 0.0018018018018018018, Alpha: 0.005630630630630631\n",
      "Episode 880, Avg Reward : -3.180353356890459, Timesteps: 283, Epsilon: 0.009615384615384616, Alpha: 0.00562429696287964\n",
      "Episode 881, Avg Reward : -19.755, Timesteps: 50, Epsilon: 0.0017985611510791368, Alpha: 0.0056179775280898875\n",
      "Episode 882, Avg Reward : -19.755, Timesteps: 50, Epsilon: 0.01886792452830189, Alpha: 0.0056116722783389455\n",
      "Episode 883, Avg Reward : -19.755, Timesteps: 50, Epsilon: 0.0017953321364452424, Alpha: 0.005605381165919282\n",
      "Episode 884, Avg Reward : -1.2775934959349582, Timesteps: 615, Epsilon: 0.034482758620689655, Alpha: 0.005599104143337066\n",
      "Episode 885, Avg Reward : -19.755, Timesteps: 50, Epsilon: 0.001792114695340502, Alpha: 0.005592841163310961\n",
      "Episode 886, Avg Reward : -19.755, Timesteps: 50, Epsilon: 0.001788908765652952, Alpha: 0.00558659217877095\n",
      "Episode 887, Avg Reward : -19.755, Timesteps: 50, Epsilon: 0.0017857142857142859, Alpha: 0.005580357142857143\n",
      "Episode 888, Avg Reward : -3.180353356890459, Timesteps: 283, Epsilon: 0.009523809523809525, Alpha: 0.005574136008918617\n",
      "Episode 889, Avg Reward : -19.755, Timesteps: 50, Epsilon: 0.0017825311942959003, Alpha: 0.005567928730512249\n",
      "Episode 890, Avg Reward : -19.755, Timesteps: 50, Epsilon: 0.0017793594306049821, Alpha: 0.005561735261401557\n",
      "Episode 891, Avg Reward : -19.755, Timesteps: 50, Epsilon: 0.0017761989342806397, Alpha: 0.005555555555555556\n",
      "Episode 892, Avg Reward : -3.180353356890459, Timesteps: 283, Epsilon: 0.009433962264150945, Alpha: 0.0055493895671476145\n",
      "Episode 893, Avg Reward : -19.755, Timesteps: 50, Epsilon: 0.001773049645390071, Alpha: 0.005543237250554323\n",
      "Episode 894, Avg Reward : -19.755, Timesteps: 50, Epsilon: 0.018518518518518517, Alpha: 0.005537098560354375\n",
      "Episode 895, Avg Reward : -19.755, Timesteps: 50, Epsilon: 0.001769911504424779, Alpha: 0.0055309734513274336\n"
     ]
    },
    {
     "name": "stderr",
     "output_type": "stream",
     "text": [
      "  9%|▉         | 915/10000 [00:10<01:32, 98.03it/s]"
     ]
    },
    {
     "name": "stdout",
     "output_type": "stream",
     "text": [
      "Episode 896, Avg Reward : -0.7096020408163259, Timesteps: 980, Epsilon: 0.09090909090909091, Alpha: 0.0055248618784530384\n",
      "Episode 897, Avg Reward : -19.755, Timesteps: 50, Epsilon: 0.0017667844522968198, Alpha: 0.005518763796909493\n",
      "Episode 898, Avg Reward : -19.755, Timesteps: 50, Epsilon: 0.001763668430335097, Alpha: 0.005512679162072767\n",
      "Episode 899, Avg Reward : -19.755, Timesteps: 50, Epsilon: 0.0017605633802816904, Alpha: 0.005506607929515419\n",
      "Episode 900, Avg Reward : -3.180353356890459, Timesteps: 283, Epsilon: 0.009345794392523366, Alpha: 0.0055005500550055\n",
      "Episode 901, Avg Reward : -19.755, Timesteps: 50, Epsilon: 0.001757469244288225, Alpha: 0.005494505494505495\n",
      "Episode 902, Avg Reward : -19.755, Timesteps: 50, Epsilon: 0.0017543859649122807, Alpha: 0.005488474204171241\n",
      "Episode 903, Avg Reward : -19.755, Timesteps: 50, Epsilon: 0.0017513134851138354, Alpha: 0.005482456140350877\n",
      "Episode 904, Avg Reward : -3.180353356890459, Timesteps: 283, Epsilon: 0.009259259259259259, Alpha: 0.00547645125958379\n",
      "Episode 905, Avg Reward : -19.755, Timesteps: 50, Epsilon: 0.0017482517482517483, Alpha: 0.005470459518599562\n",
      "Episode 906, Avg Reward : -19.755, Timesteps: 50, Epsilon: 0.0017452006980802795, Alpha: 0.00546448087431694\n",
      "Episode 907, Avg Reward : -19.755, Timesteps: 50, Epsilon: 0.0017421602787456448, Alpha: 0.005458515283842795\n",
      "Episode 908, Avg Reward : -3.180353356890459, Timesteps: 283, Epsilon: 0.009174311926605505, Alpha: 0.0054525627044711015\n",
      "Episode 909, Avg Reward : -19.755, Timesteps: 50, Epsilon: 0.0017391304347826088, Alpha: 0.0054466230936819175\n",
      "Episode 910, Avg Reward : -19.755, Timesteps: 50, Epsilon: 0.0017361111111111112, Alpha: 0.005440696409140369\n",
      "Episode 911, Avg Reward : -19.755, Timesteps: 50, Epsilon: 0.0017331022530329288, Alpha: 0.005434782608695652\n",
      "Episode 912, Avg Reward : -3.180353356890459, Timesteps: 283, Epsilon: 0.009090909090909092, Alpha: 0.005428881650380022\n",
      "Episode 913, Avg Reward : -19.755, Timesteps: 50, Epsilon: 0.001730103806228374, Alpha: 0.005422993492407809\n",
      "Episode 914, Avg Reward : -19.755, Timesteps: 50, Epsilon: 0.0017271157167530226, Alpha: 0.005417118093174431\n",
      "Episode 915, Avg Reward : -19.755, Timesteps: 50, Epsilon: 0.001724137931034483, Alpha: 0.005411255411255411\n",
      "Episode 916, Avg Reward : -1.2927759740259743, Timesteps: 616, Epsilon: 0.08333333333333334, Alpha: 0.005405405405405406\n",
      "Episode 917, Avg Reward : -19.755, Timesteps: 50, Epsilon: 0.0017211703958691911, Alpha: 0.005399568034557236\n",
      "Episode 918, Avg Reward : -19.755, Timesteps: 50, Epsilon: 0.001718213058419244, Alpha: 0.005393743257820927\n",
      "Episode 919, Avg Reward : -19.755, Timesteps: 50, Epsilon: 0.018181818181818184, Alpha: 0.005387931034482759\n"
     ]
    },
    {
     "name": "stderr",
     "output_type": "stream",
     "text": [
      "  9%|▉         | 937/10000 [00:10<01:35, 95.05it/s]"
     ]
    },
    {
     "name": "stdout",
     "output_type": "stream",
     "text": [
      "Episode 920, Avg Reward : -2.0735380835380837, Timesteps: 407, Epsilon: 0.0625, Alpha: 0.005382131324004305\n",
      "Episode 921, Avg Reward : -19.755, Timesteps: 50, Epsilon: 0.0017152658662092626, Alpha: 0.005376344086021506\n",
      "Episode 922, Avg Reward : -19.755, Timesteps: 50, Epsilon: 0.0017123287671232878, Alpha: 0.0053705692803437165\n",
      "Episode 923, Avg Reward : -19.755, Timesteps: 50, Epsilon: 0.0017094017094017094, Alpha: 0.00536480686695279\n",
      "Episode 924, Avg Reward : -19.755, Timesteps: 50, Epsilon: 0.0017064846416382253, Alpha: 0.0053590568060021436\n",
      "Episode 925, Avg Reward : -3.6743775100401606, Timesteps: 249, Epsilon: 0.030303030303030307, Alpha: 0.0053533190578158455\n",
      "Episode 926, Avg Reward : -19.755, Timesteps: 50, Epsilon: 0.0017035775127768314, Alpha: 0.0053475935828877\n",
      "Episode 927, Avg Reward : -19.755, Timesteps: 50, Epsilon: 0.01785714285714286, Alpha: 0.005341880341880342\n",
      "Episode 928, Avg Reward : -19.755, Timesteps: 50, Epsilon: 0.0017006802721088437, Alpha: 0.005336179295624333\n",
      "Episode 929, Avg Reward : -3.180353356890459, Timesteps: 283, Epsilon: 0.03333333333333333, Alpha: 0.005330490405117271\n",
      "Episode 930, Avg Reward : -19.755, Timesteps: 50, Epsilon: 0.0016977928692699493, Alpha: 0.005324813631522897\n",
      "Episode 931, Avg Reward : -19.755, Timesteps: 50, Epsilon: 0.0016949152542372883, Alpha: 0.005319148936170213\n",
      "Episode 932, Avg Reward : -19.755, Timesteps: 50, Epsilon: 0.0016920473773265653, Alpha: 0.005313496280552604\n",
      "Episode 933, Avg Reward : -3.180353356890459, Timesteps: 283, Epsilon: 0.009009009009009009, Alpha: 0.005307855626326964\n",
      "Episode 934, Avg Reward : -19.755, Timesteps: 50, Epsilon: 0.0016891891891891893, Alpha: 0.005302226935312832\n",
      "Episode 935, Avg Reward : -19.755, Timesteps: 50, Epsilon: 0.0016863406408094436, Alpha: 0.005296610169491525\n",
      "Episode 936, Avg Reward : -19.755, Timesteps: 50, Epsilon: 0.0016835016835016836, Alpha: 0.005291005291005291\n",
      "Episode 937, Avg Reward : -1.1591031390134527, Timesteps: 669, Epsilon: 0.00892857142857143, Alpha: 0.005285412262156448\n",
      "Episode 938, Avg Reward : -19.755, Timesteps: 50, Epsilon: 0.0016806722689075631, Alpha: 0.005279831045406547\n",
      "Episode 939, Avg Reward : -19.755, Timesteps: 50, Epsilon: 0.0016778523489932886, Alpha: 0.005274261603375527\n",
      "Episode 940, Avg Reward : -19.755, Timesteps: 50, Epsilon: 0.0016750418760469012, Alpha: 0.005268703898840885\n",
      "Episode 941, Avg Reward : -1.1177985611510795, Timesteps: 695, Epsilon: 0.02, Alpha: 0.005263157894736842\n"
     ]
    },
    {
     "name": "stderr",
     "output_type": "stream",
     "text": [
      " 10%|▉         | 960/10000 [00:10<01:29, 100.76it/s]"
     ]
    },
    {
     "name": "stdout",
     "output_type": "stream",
     "text": [
      "Episode 942, Avg Reward : -19.755, Timesteps: 50, Epsilon: 0.0016722408026755855, Alpha: 0.005257623554153523\n",
      "Episode 943, Avg Reward : -19.755, Timesteps: 50, Epsilon: 0.001669449081803005, Alpha: 0.005252100840336134\n",
      "Episode 944, Avg Reward : -3.180353356890459, Timesteps: 283, Epsilon: 0.008849557522123894, Alpha: 0.005246589716684156\n",
      "Episode 945, Avg Reward : -19.755, Timesteps: 50, Epsilon: 0.0016666666666666668, Alpha: 0.0052410901467505235\n",
      "Episode 946, Avg Reward : -19.755, Timesteps: 50, Epsilon: 0.0016638935108153079, Alpha: 0.005235602094240838\n",
      "Episode 947, Avg Reward : -19.755, Timesteps: 50, Epsilon: 0.0016611295681063123, Alpha: 0.005230125523012553\n",
      "Episode 948, Avg Reward : -3.180353356890459, Timesteps: 283, Epsilon: 0.008771929824561403, Alpha: 0.00522466039707419\n",
      "Episode 949, Avg Reward : -19.755, Timesteps: 50, Epsilon: 0.0016583747927031512, Alpha: 0.005219206680584551\n",
      "Episode 950, Avg Reward : -19.755, Timesteps: 50, Epsilon: 0.001655629139072848, Alpha: 0.005213764337851929\n",
      "Episode 951, Avg Reward : -19.755, Timesteps: 50, Epsilon: 0.0016528925619834713, Alpha: 0.005208333333333333\n",
      "Episode 952, Avg Reward : -3.180353356890459, Timesteps: 283, Epsilon: 0.07142857142857144, Alpha: 0.005202913631633715\n",
      "Episode 953, Avg Reward : -19.755, Timesteps: 50, Epsilon: 0.017543859649122806, Alpha: 0.005197505197505197\n",
      "Episode 954, Avg Reward : -19.755, Timesteps: 50, Epsilon: 0.0016501650165016502, Alpha: 0.005192107995846314\n",
      "Episode 955, Avg Reward : -19.755, Timesteps: 50, Epsilon: 0.0016474464579901153, Alpha: 0.005186721991701245\n",
      "Episode 956, Avg Reward : -3.180353356890459, Timesteps: 283, Epsilon: 0.03225806451612903, Alpha: 0.0051813471502590676\n",
      "Episode 957, Avg Reward : -19.755, Timesteps: 50, Epsilon: 0.0016447368421052633, Alpha: 0.005175983436853002\n",
      "Episode 958, Avg Reward : -19.755, Timesteps: 50, Epsilon: 0.0016420361247947456, Alpha: 0.005170630816959669\n",
      "Episode 959, Avg Reward : -19.755, Timesteps: 50, Epsilon: 0.001639344262295082, Alpha: 0.005165289256198347\n",
      "Episode 960, Avg Reward : -3.180353356890459, Timesteps: 283, Epsilon: 0.008695652173913044, Alpha: 0.005159958720330237\n",
      "Episode 961, Avg Reward : -19.755, Timesteps: 50, Epsilon: 0.0016366612111292963, Alpha: 0.005154639175257732\n",
      "Episode 962, Avg Reward : -19.755, Timesteps: 50, Epsilon: 0.0016339869281045752, Alpha: 0.005149330587023687\n",
      "Episode 963, Avg Reward : -19.755, Timesteps: 50, Epsilon: 0.0016313213703099511, Alpha: 0.0051440329218107\n",
      "Episode 964, Avg Reward : -5.35784090909091, Timesteps: 176, Epsilon: 0.019607843137254905, Alpha: 0.0051387461459403904\n",
      "Episode 965, Avg Reward : -19.755, Timesteps: 50, Epsilon: 0.017241379310344827, Alpha: 0.00513347022587269\n",
      "Episode 966, Avg Reward : -19.755, Timesteps: 50, Epsilon: 0.0016286644951140066, Alpha: 0.005128205128205128\n",
      "Episode 967, Avg Reward : -19.755, Timesteps: 50, Epsilon: 0.0016260162601626016, Alpha: 0.005122950819672132\n",
      "Episode 968, Avg Reward : -1.2545295055821375, Timesteps: 627, Epsilon: 0.025, Alpha: 0.005117707267144319\n",
      "Episode 969, Avg Reward : -19.755, Timesteps: 50, Epsilon: 0.0016233766233766235, Alpha: 0.005112474437627812"
     ]
    },
    {
     "name": "stderr",
     "output_type": "stream",
     "text": [
      " 10%|▉         | 985/10000 [00:10<01:22, 109.51it/s]"
     ]
    },
    {
     "name": "stdout",
     "output_type": "stream",
     "text": [
      "\n",
      "Episode 970, Avg Reward : -19.755, Timesteps: 50, Epsilon: 0.0016207455429497568, Alpha: 0.005107252298263534\n",
      "Episode 971, Avg Reward : -19.755, Timesteps: 50, Epsilon: 0.0016181229773462784, Alpha: 0.00510204081632653\n",
      "Episode 972, Avg Reward : -3.180353356890459, Timesteps: 283, Epsilon: 0.008620689655172414, Alpha: 0.0050968399592252805\n",
      "Episode 973, Avg Reward : -19.755, Timesteps: 50, Epsilon: 0.0016155088852988692, Alpha: 0.0050916496945010185\n",
      "Episode 974, Avg Reward : -19.755, Timesteps: 50, Epsilon: 0.0016129032258064516, Alpha: 0.00508646998982706\n",
      "Episode 975, Avg Reward : -19.755, Timesteps: 50, Epsilon: 0.001610305958132045, Alpha: 0.00508130081300813\n",
      "Episode 976, Avg Reward : -3.180353356890459, Timesteps: 283, Epsilon: 0.008547008547008548, Alpha: 0.005076142131979695\n",
      "Episode 977, Avg Reward : -19.755, Timesteps: 50, Epsilon: 0.001607717041800643, Alpha: 0.005070993914807302\n",
      "Episode 978, Avg Reward : -19.755, Timesteps: 50, Epsilon: 0.001605136436597111, Alpha: 0.005065856129685917\n",
      "Episode 979, Avg Reward : -19.755, Timesteps: 50, Epsilon: 0.0016025641025641027, Alpha: 0.005060728744939271\n",
      "Episode 980, Avg Reward : -3.180353356890459, Timesteps: 283, Epsilon: 0.06666666666666667, Alpha: 0.005055611729019211\n",
      "Episode 981, Avg Reward : -19.755, Timesteps: 50, Epsilon: 0.0016, Alpha: 0.005050505050505051\n",
      "Episode 982, Avg Reward : -19.755, Timesteps: 50, Epsilon: 0.0015974440894568692, Alpha: 0.005045408678102927\n",
      "Episode 983, Avg Reward : -19.755, Timesteps: 50, Epsilon: 0.001594896331738437, Alpha: 0.005040322580645161\n",
      "Episode 984, Avg Reward : -3.180353356890459, Timesteps: 283, Epsilon: 0.00847457627118644, Alpha: 0.005035246727089627\n",
      "Episode 985, Avg Reward : -19.755, Timesteps: 50, Epsilon: 0.0015923566878980893, Alpha: 0.005030181086519115\n",
      "Episode 986, Avg Reward : -19.755, Timesteps: 50, Epsilon: 0.01694915254237288, Alpha: 0.005025125628140704\n",
      "Episode 987, Avg Reward : -19.755, Timesteps: 50, Epsilon: 0.001589825119236884, Alpha: 0.0050200803212851405\n",
      "Episode 988, Avg Reward : -1.174992412746586, Timesteps: 659, Epsilon: 0.029411764705882356, Alpha: 0.0050150451354062184\n",
      "Episode 989, Avg Reward : -19.755, Timesteps: 50, Epsilon: 0.0015873015873015873, Alpha: 0.00501002004008016\n",
      "Episode 990, Avg Reward : -19.755, Timesteps: 50, Epsilon: 0.001584786053882726, Alpha: 0.005005005005005005\n",
      "Episode 991, Avg Reward : -19.755, Timesteps: 50, Epsilon: 0.0015822784810126582, Alpha: 0.005\n"
     ]
    },
    {
     "name": "stderr",
     "output_type": "stream",
     "text": [
      " 10%|█         | 1010/10000 [00:11<01:20, 111.44it/s]"
     ]
    },
    {
     "name": "stdout",
     "output_type": "stream",
     "text": [
      "Episode 992, Avg Reward : -3.989353448275862, Timesteps: 232, Epsilon: 0.09090909090909091, Alpha: 0.004995004995004995\n",
      "Episode 993, Avg Reward : -19.755, Timesteps: 50, Epsilon: 0.0015797788309636653, Alpha: 0.00499001996007984\n",
      "Episode 994, Avg Reward : -19.755, Timesteps: 50, Epsilon: 0.001577287066246057, Alpha: 0.004985044865403789\n",
      "Episode 995, Avg Reward : -19.755, Timesteps: 50, Epsilon: 0.0015748031496062994, Alpha: 0.0049800796812749\n",
      "Episode 996, Avg Reward : -3.180353356890459, Timesteps: 283, Epsilon: 0.008403361344537815, Alpha: 0.004975124378109453\n",
      "Episode 997, Avg Reward : -19.755, Timesteps: 50, Epsilon: 0.0015723270440251573, Alpha: 0.004970178926441352\n",
      "Episode 998, Avg Reward : -19.755, Timesteps: 50, Epsilon: 0.0015698587127158557, Alpha: 0.004965243296921549\n",
      "Episode 999, Avg Reward : -19.755, Timesteps: 50, Epsilon: 0.016666666666666666, Alpha: 0.00496031746031746\n",
      "Episode 1000, Avg Reward : -3.180353356890459, Timesteps: 283, Epsilon: 0.008333333333333333, Alpha: 0.004955401387512388\n",
      "Episode 1001, Avg Reward : -19.755, Timesteps: 50, Epsilon: 0.0015673981191222572, Alpha: 0.0049504950495049506\n",
      "Episode 1002, Avg Reward : -19.755, Timesteps: 50, Epsilon: 0.001564945226917058, Alpha: 0.004945598417408507\n",
      "Episode 1003, Avg Reward : -19.755, Timesteps: 50, Epsilon: 0.0015625, Alpha: 0.004940711462450593\n",
      "Episode 1004, Avg Reward : -3.180353356890459, Timesteps: 283, Epsilon: 0.008264462809917356, Alpha: 0.004935834155972359\n",
      "Episode 1005, Avg Reward : -19.755, Timesteps: 50, Epsilon: 0.0015600624024961001, Alpha: 0.004930966469428008\n",
      "Episode 1006, Avg Reward : -19.755, Timesteps: 50, Epsilon: 0.001557632398753894, Alpha: 0.0049261083743842365\n",
      "Episode 1007, Avg Reward : -3.180353356890459, Timesteps: 283, Epsilon: 0.03125, Alpha: 0.004921259842519685\n",
      "Episode 1008, Avg Reward : -19.755, Timesteps: 50, Epsilon: 0.0015552099533437016, Alpha: 0.004916420845624385\n",
      "Episode 1009, Avg Reward : -19.755, Timesteps: 50, Epsilon: 0.0015527950310559005, Alpha: 0.004911591355599214\n",
      "Episode 1010, Avg Reward : -19.755, Timesteps: 50, Epsilon: 0.0015503875968992248, Alpha: 0.004906771344455348\n",
      "Episode 1011, Avg Reward : -2.0180093676814996, Timesteps: 427, Epsilon: 0.052631578947368425, Alpha: 0.004901960784313725\n",
      "Episode 1012, Avg Reward : -19.755, Timesteps: 50, Epsilon: 0.0015479876160990715, Alpha: 0.004897159647404506\n",
      "Episode 1013, Avg Reward : -19.755, Timesteps: 50, Epsilon: 0.0015455950540958269, Alpha: 0.004892367906066536\n",
      "Episode 1014, Avg Reward : -19.755, Timesteps: 50, Epsilon: 0.00154320987654321, Alpha: 0.004887585532746823\n",
      "Episode 1015, Avg Reward : -3.180353356890459, Timesteps: 283, Epsilon: 0.00819672131147541, Alpha: 0.0048828125\n",
      "Episode 1016, Avg Reward : -19.755, Timesteps: 50, Epsilon: 0.0015408320493066256, Alpha: 0.004878048780487805\n",
      "Episode 1017, Avg Reward : -19.755, Timesteps: 50, Epsilon: 0.0015384615384615385, Alpha: 0.004873294346978558\n",
      "Episode 1018, Avg Reward : -19.755, Timesteps: 50, Epsilon: 0.001536098310291859, Alpha: 0.00486854917234664\n",
      "Episode 1019, Avg Reward : -3.180353356890459, Timesteps: 283, Epsilon: 0.008130081300813007, Alpha: 0.0048638132295719845\n",
      "Episode 1020, Avg Reward : -19.755, Timesteps: 50, Epsilon: 0.0015337423312883436, Alpha: 0.004859086491739553"
     ]
    },
    {
     "name": "stderr",
     "output_type": "stream",
     "text": [
      " 10%|█         | 1034/10000 [00:11<01:19, 113.20it/s]"
     ]
    },
    {
     "name": "stdout",
     "output_type": "stream",
     "text": [
      "\n",
      "Episode 1021, Avg Reward : -19.755, Timesteps: 50, Epsilon: 0.01639344262295082, Alpha: 0.0048543689320388345\n",
      "Episode 1022, Avg Reward : -19.755, Timesteps: 50, Epsilon: 0.0015313935681470138, Alpha: 0.004849660523763337\n",
      "Episode 1023, Avg Reward : -3.180353356890459, Timesteps: 283, Epsilon: 0.008064516129032258, Alpha: 0.0048449612403100775\n",
      "Episode 1024, Avg Reward : -19.755, Timesteps: 50, Epsilon: 0.0015290519877675841, Alpha: 0.00484027105517909\n",
      "Episode 1025, Avg Reward : -19.755, Timesteps: 50, Epsilon: 0.0015267175572519084, Alpha: 0.00483558994197292\n",
      "Episode 1026, Avg Reward : -19.755, Timesteps: 50, Epsilon: 0.0015243902439024393, Alpha: 0.004830917874396135\n",
      "Episode 1027, Avg Reward : -2.133706467661692, Timesteps: 402, Epsilon: 0.02439024390243903, Alpha: 0.004826254826254826\n",
      "Episode 1028, Avg Reward : -19.755, Timesteps: 50, Epsilon: 0.0015220700152207, Alpha: 0.0048216007714561235\n",
      "Episode 1029, Avg Reward : -19.755, Timesteps: 50, Epsilon: 0.0015197568389057753, Alpha: 0.004816955684007708\n",
      "Episode 1030, Avg Reward : -19.755, Timesteps: 50, Epsilon: 0.0015174506828528073, Alpha: 0.004812319538017324\n",
      "Episode 1031, Avg Reward : -19.755, Timesteps: 50, Epsilon: 0.0015151515151515152, Alpha: 0.004807692307692308\n",
      "Episode 1032, Avg Reward : -3.180353356890459, Timesteps: 283, Epsilon: 0.008, Alpha: 0.004803073967339097\n",
      "Episode 1033, Avg Reward : -19.755, Timesteps: 50, Epsilon: 0.016129032258064516, Alpha: 0.0047984644913627635\n",
      "Episode 1034, Avg Reward : -19.755, Timesteps: 50, Epsilon: 0.0015128593040847204, Alpha: 0.004793863854266539\n",
      "Episode 1035, Avg Reward : -19.755, Timesteps: 50, Epsilon: 0.0015105740181268882, Alpha: 0.004789272030651341\n",
      "Episode 1036, Avg Reward : -3.180353356890459, Timesteps: 283, Epsilon: 0.007936507936507938, Alpha: 0.004784688995215311\n",
      "Episode 1037, Avg Reward : -19.755, Timesteps: 50, Epsilon: 0.0015082956259426848, Alpha: 0.004780114722753346\n",
      "Episode 1038, Avg Reward : -19.755, Timesteps: 50, Epsilon: 0.001506024096385542, Alpha: 0.004775549188156638\n",
      "Episode 1039, Avg Reward : -19.755, Timesteps: 50, Epsilon: 0.0015037593984962407, Alpha: 0.004770992366412214\n",
      "Episode 1040, Avg Reward : -3.180353356890459, Timesteps: 283, Epsilon: 0.007874015748031498, Alpha: 0.004766444232602478\n",
      "Episode 1041, Avg Reward : -19.755, Timesteps: 50, Epsilon: 0.0015015015015015017, Alpha: 0.004761904761904762\n",
      "Episode 1042, Avg Reward : -19.755, Timesteps: 50, Epsilon: 0.0014992503748125937, Alpha: 0.004757373929590866\n",
      "Episode 1043, Avg Reward : -19.755, Timesteps: 50, Epsilon: 0.0014970059880239522, Alpha: 0.004752851711026616\n",
      "Episode 1044, Avg Reward : -3.180353356890459, Timesteps: 283, Epsilon: 0.0078125, Alpha: 0.004748338081671415\n",
      "Episode 1045, Avg Reward : -19.755, Timesteps: 50, Epsilon: 0.0014947683109118087, Alpha: 0.004743833017077799\n",
      "Episode 1046, Avg Reward : -19.755, Timesteps: 50, Epsilon: 0.0014925373134328358, Alpha: 0.004739336492890996\n",
      "Episode 1047, Avg Reward : -19.755, Timesteps: 50, Epsilon: 0.001490312965722802, Alpha: 0.004734848484848485\n"
     ]
    },
    {
     "name": "stderr",
     "output_type": "stream",
     "text": [
      " 11%|█         | 1060/10000 [00:11<01:19, 112.84it/s]"
     ]
    },
    {
     "name": "stdout",
     "output_type": "stream",
     "text": [
      "Episode 1048, Avg Reward : -1.5396981132075476, Timesteps: 530, Epsilon: 0.028571428571428574, Alpha: 0.004730368968779565\n",
      "Episode 1049, Avg Reward : -19.755, Timesteps: 50, Epsilon: 0.001488095238095238, Alpha: 0.004725897920604915\n",
      "Episode 1050, Avg Reward : -19.755, Timesteps: 50, Epsilon: 0.001485884101040119, Alpha: 0.004721435316336166\n",
      "Episode 1051, Avg Reward : -3.180353356890459, Timesteps: 283, Epsilon: 0.007751937984496124, Alpha: 0.0047169811320754715\n",
      "Episode 1052, Avg Reward : -19.755, Timesteps: 50, Epsilon: 0.001483679525222552, Alpha: 0.004712535344015081\n",
      "Episode 1053, Avg Reward : -19.755, Timesteps: 50, Epsilon: 0.0014814814814814816, Alpha: 0.004708097928436911\n",
      "Episode 1054, Avg Reward : -19.755, Timesteps: 50, Epsilon: 0.0014792899408284025, Alpha: 0.004703668861712136\n",
      "Episode 1055, Avg Reward : -3.379250936329588, Timesteps: 267, Epsilon: 0.038461538461538464, Alpha: 0.004699248120300752\n",
      "Episode 1056, Avg Reward : -19.755, Timesteps: 50, Epsilon: 0.015873015873015876, Alpha: 0.004694835680751174\n",
      "Episode 1057, Avg Reward : -19.755, Timesteps: 50, Epsilon: 0.0014771048744460858, Alpha: 0.004690431519699813\n",
      "Episode 1058, Avg Reward : -19.755, Timesteps: 50, Epsilon: 0.0014749262536873158, Alpha: 0.004686035613870665\n",
      "Episode 1059, Avg Reward : -3.180353356890459, Timesteps: 283, Epsilon: 0.030303030303030307, Alpha: 0.0046816479400749065\n",
      "Episode 1060, Avg Reward : -19.755, Timesteps: 50, Epsilon: 0.0014727540500736377, Alpha: 0.004677268475210477\n",
      "Episode 1061, Avg Reward : -19.755, Timesteps: 50, Epsilon: 0.0014705882352941176, Alpha: 0.004672897196261682\n",
      "Episode 1062, Avg Reward : -19.755, Timesteps: 50, Epsilon: 0.0014684287812041117, Alpha: 0.004668534080298786\n",
      "Episode 1063, Avg Reward : -3.180353356890459, Timesteps: 283, Epsilon: 0.007692307692307693, Alpha: 0.0046641791044776115\n",
      "Episode 1064, Avg Reward : -19.755, Timesteps: 50, Epsilon: 0.001466275659824047, Alpha: 0.004659832246039143\n",
      "Episode 1065, Avg Reward : -19.755, Timesteps: 50, Epsilon: 0.0014641288433382138, Alpha: 0.004655493482309124\n",
      "Episode 1066, Avg Reward : -19.755, Timesteps: 50, Epsilon: 0.0014619883040935672, Alpha: 0.004651162790697674\n"
     ]
    },
    {
     "name": "stderr",
     "output_type": "stream",
     "text": [
      " 11%|█         | 1083/10000 [00:11<01:29, 99.72it/s] "
     ]
    },
    {
     "name": "stdout",
     "output_type": "stream",
     "text": [
      "Episode 1067, Avg Reward : -0.4655221518987357, Timesteps: 1264, Epsilon: 0.1, Alpha: 0.004646840148698885\n",
      "Episode 1068, Avg Reward : -19.755, Timesteps: 50, Epsilon: 0.0014598540145985403, Alpha: 0.004642525533890436\n",
      "Episode 1069, Avg Reward : -19.755, Timesteps: 50, Epsilon: 0.001457725947521866, Alpha: 0.00463821892393321\n",
      "Episode 1070, Avg Reward : -19.755, Timesteps: 50, Epsilon: 0.001455604075691412, Alpha: 0.004633920296570899\n",
      "Episode 1071, Avg Reward : -3.180353356890459, Timesteps: 283, Epsilon: 0.0076335877862595426, Alpha: 0.004629629629629629\n",
      "Episode 1072, Avg Reward : -19.755, Timesteps: 50, Epsilon: 0.0014534883720930235, Alpha: 0.004625346901017576\n",
      "Episode 1073, Avg Reward : -19.755, Timesteps: 50, Epsilon: 0.015625, Alpha: 0.004621072088724584\n",
      "Episode 1074, Avg Reward : -19.755, Timesteps: 50, Epsilon: 0.001451378809869376, Alpha: 0.0046168051708217915\n",
      "Episode 1075, Avg Reward : -3.180353356890459, Timesteps: 283, Epsilon: 0.007575757575757577, Alpha: 0.004612546125461255\n",
      "Episode 1076, Avg Reward : -19.755, Timesteps: 50, Epsilon: 0.0014492753623188406, Alpha: 0.004608294930875576\n",
      "Episode 1077, Avg Reward : -19.755, Timesteps: 50, Epsilon: 0.0014471780028943561, Alpha: 0.004604051565377533\n",
      "Episode 1078, Avg Reward : -19.755, Timesteps: 50, Epsilon: 0.001445086705202312, Alpha: 0.004599816007359705\n",
      "Episode 1079, Avg Reward : -3.180353356890459, Timesteps: 283, Epsilon: 0.007518796992481203, Alpha: 0.004595588235294118\n",
      "Episode 1080, Avg Reward : -19.755, Timesteps: 50, Epsilon: 0.0014430014430014432, Alpha: 0.004591368227731864\n",
      "Episode 1081, Avg Reward : -19.755, Timesteps: 50, Epsilon: 0.001440922190201729, Alpha: 0.0045871559633027525\n",
      "Episode 1082, Avg Reward : -19.755, Timesteps: 50, Epsilon: 0.015384615384615385, Alpha: 0.00458295142071494\n",
      "Episode 1083, Avg Reward : -1.543686200378072, Timesteps: 529, Epsilon: 0.023809523809523808, Alpha: 0.004578754578754579\n",
      "Episode 1084, Avg Reward : -19.755, Timesteps: 50, Epsilon: 0.0014388489208633094, Alpha: 0.004574565416285453\n",
      "Episode 1085, Avg Reward : -19.755, Timesteps: 50, Epsilon: 0.0014367816091954025, Alpha: 0.004570383912248629\n",
      "Episode 1086, Avg Reward : -19.755, Timesteps: 50, Epsilon: 0.0014347202295552368, Alpha: 0.0045662100456621\n",
      "Episode 1087, Avg Reward : -3.180353356890459, Timesteps: 283, Epsilon: 0.007462686567164179, Alpha: 0.0045620437956204385\n",
      "Episode 1088, Avg Reward : -19.755, Timesteps: 50, Epsilon: 0.0014326647564469916, Alpha: 0.004557885141294439\n",
      "Episode 1089, Avg Reward : -19.755, Timesteps: 50, Epsilon: 0.001430615164520744, Alpha: 0.004553734061930784\n",
      "Episode 1090, Avg Reward : -3.180353356890459, Timesteps: 283, Epsilon: 0.007407407407407408, Alpha: 0.004549590536851683\n",
      "Episode 1091, Avg Reward : -19.755, Timesteps: 50, Epsilon: 0.0014285714285714286, Alpha: 0.004545454545454545\n",
      "Episode 1092, Avg Reward : -19.755, Timesteps: 50, Epsilon: 0.0014265335235378034, Alpha: 0.004541326067211626\n",
      "Episode 1093, Avg Reward : -19.755, Timesteps: 50, Epsilon: 0.0014245014245014246, Alpha: 0.004537205081669692\n",
      "Episode 1094, Avg Reward : -3.180353356890459, Timesteps: 283, Epsilon: 0.029411764705882356, Alpha: 0.004533091568449683\n",
      "Episode 1095, Avg Reward : -19.755, Timesteps: 50, Epsilon: 0.001422475106685633, Alpha: 0.004528985507246377"
     ]
    },
    {
     "name": "stderr",
     "output_type": "stream",
     "text": [
      " 11%|█         | 1107/10000 [00:12<01:27, 101.73it/s]"
     ]
    },
    {
     "name": "stdout",
     "output_type": "stream",
     "text": [
      "\n",
      "Episode 1096, Avg Reward : -19.755, Timesteps: 50, Epsilon: 0.0014204545454545455, Alpha: 0.004524886877828055\n",
      "Episode 1097, Avg Reward : -19.755, Timesteps: 50, Epsilon: 0.0014184397163120568, Alpha: 0.0045207956600361665\n",
      "Episode 1098, Avg Reward : -3.180353356890459, Timesteps: 283, Epsilon: 0.007352941176470589, Alpha: 0.004516711833785004\n",
      "Episode 1099, Avg Reward : -19.755, Timesteps: 50, Epsilon: 0.0014164305949008501, Alpha: 0.004512635379061372\n",
      "Episode 1100, Avg Reward : -19.755, Timesteps: 50, Epsilon: 0.0014144271570014145, Alpha: 0.004508566275924256\n",
      "Episode 1101, Avg Reward : -19.755, Timesteps: 50, Epsilon: 0.0014124293785310737, Alpha: 0.0045045045045045045\n",
      "Episode 1102, Avg Reward : -1.0973304473304475, Timesteps: 693, Epsilon: 0.037037037037037035, Alpha: 0.004500450045004501\n",
      "Episode 1103, Avg Reward : -19.755, Timesteps: 50, Epsilon: 0.0014104372355430183, Alpha: 0.0044964028776978415\n",
      "Episode 1104, Avg Reward : -19.755, Timesteps: 50, Epsilon: 0.0014084507042253522, Alpha: 0.004492362982929021\n",
      "Episode 1105, Avg Reward : -19.755, Timesteps: 50, Epsilon: 0.0014064697609001409, Alpha: 0.004488330341113106\n",
      "Episode 1106, Avg Reward : -3.180353356890459, Timesteps: 283, Epsilon: 0.007299270072992701, Alpha: 0.004484304932735426\n",
      "Episode 1107, Avg Reward : -19.755, Timesteps: 50, Epsilon: 0.0014044943820224719, Alpha: 0.004480286738351255\n",
      "Episode 1108, Avg Reward : -19.755, Timesteps: 50, Epsilon: 0.0014025245441795233, Alpha: 0.004476275738585497\n",
      "Episode 1109, Avg Reward : -19.755, Timesteps: 50, Epsilon: 0.0014005602240896359, Alpha: 0.004472271914132379\n",
      "Episode 1110, Avg Reward : -3.180353356890459, Timesteps: 283, Epsilon: 0.007246376811594203, Alpha: 0.004468275245755138\n",
      "Episode 1111, Avg Reward : -19.755, Timesteps: 50, Epsilon: 0.0013986013986013986, Alpha: 0.004464285714285714\n",
      "Episode 1112, Avg Reward : -19.755, Timesteps: 50, Epsilon: 0.0013966480446927377, Alpha: 0.0044603033006244425\n",
      "Episode 1113, Avg Reward : -19.755, Timesteps: 50, Epsilon: 0.015151515151515154, Alpha: 0.004456327985739751\n",
      "Episode 1114, Avg Reward : -3.180353356890459, Timesteps: 283, Epsilon: 0.007194244604316547, Alpha: 0.004452359750667854\n",
      "Episode 1115, Avg Reward : -19.755, Timesteps: 50, Epsilon: 0.001394700139470014, Alpha: 0.004448398576512455\n",
      "Episode 1116, Avg Reward : -19.755, Timesteps: 50, Epsilon: 0.0013927576601671311, Alpha: 0.0044444444444444444\n",
      "Episode 1117, Avg Reward : -19.755, Timesteps: 50, Epsilon: 0.014925373134328358, Alpha: 0.004440497335701599\n",
      "Episode 1118, Avg Reward : -1.0065814266487216, Timesteps: 743, Epsilon: 0.1, Alpha: 0.0044365572315882874"
     ]
    },
    {
     "name": "stderr",
     "output_type": "stream",
     "text": [
      " 11%|█▏        | 1131/10000 [00:12<01:23, 105.97it/s]"
     ]
    },
    {
     "name": "stdout",
     "output_type": "stream",
     "text": [
      "\n",
      "Episode 1119, Avg Reward : -19.755, Timesteps: 50, Epsilon: 0.0013908205841446453, Alpha: 0.004432624113475178\n",
      "Episode 1120, Avg Reward : -19.755, Timesteps: 50, Epsilon: 0.001388888888888889, Alpha: 0.004428697962798937\n",
      "Episode 1121, Avg Reward : -3.180353356890459, Timesteps: 283, Epsilon: 0.028571428571428574, Alpha: 0.004424778761061947\n",
      "Episode 1122, Avg Reward : -19.755, Timesteps: 50, Epsilon: 0.001386962552011096, Alpha: 0.004420866489832007\n",
      "Episode 1123, Avg Reward : -19.755, Timesteps: 50, Epsilon: 0.0013850415512465374, Alpha: 0.00441696113074205\n",
      "Episode 1124, Avg Reward : -19.755, Timesteps: 50, Epsilon: 0.0013831258644536654, Alpha: 0.0044130626654898504\n",
      "Episode 1125, Avg Reward : -3.180353356890459, Timesteps: 283, Epsilon: 0.0071428571428571435, Alpha: 0.004409171075837742\n",
      "Episode 1126, Avg Reward : -19.755, Timesteps: 50, Epsilon: 0.0013812154696132596, Alpha: 0.004405286343612335\n",
      "Episode 1127, Avg Reward : -19.755, Timesteps: 50, Epsilon: 0.0013793103448275863, Alpha: 0.0044014084507042256\n",
      "Episode 1128, Avg Reward : -19.755, Timesteps: 50, Epsilon: 0.0013774104683195595, Alpha: 0.004397537379067722\n",
      "Episode 1129, Avg Reward : -3.180353356890459, Timesteps: 283, Epsilon: 0.007092198581560284, Alpha: 0.004393673110720563\n",
      "Episode 1130, Avg Reward : -19.755, Timesteps: 50, Epsilon: 0.001375515818431912, Alpha: 0.004389815627743635\n",
      "Episode 1131, Avg Reward : -19.755, Timesteps: 50, Epsilon: 0.0013736263736263737, Alpha: 0.0043859649122807015\n",
      "Episode 1132, Avg Reward : -19.755, Timesteps: 50, Epsilon: 0.0013717421124828531, Alpha: 0.0043821209465381246\n",
      "Episode 1133, Avg Reward : -3.180353356890459, Timesteps: 283, Epsilon: 0.007042253521126762, Alpha: 0.0043782837127845885\n",
      "Episode 1134, Avg Reward : -19.755, Timesteps: 50, Epsilon: 0.0013698630136986301, Alpha: 0.004374453193350831\n",
      "Episode 1135, Avg Reward : -19.755, Timesteps: 50, Epsilon: 0.0013679890560875515, Alpha: 0.00437062937062937\n",
      "Episode 1136, Avg Reward : -19.755, Timesteps: 50, Epsilon: 0.001366120218579235, Alpha: 0.004366812227074236\n",
      "Episode 1137, Avg Reward : -19.755, Timesteps: 50, Epsilon: 0.0013642564802182813, Alpha: 0.004363001745200698\n",
      "Episode 1138, Avg Reward : -1.4680685920577623, Timesteps: 554, Epsilon: 0.023255813953488375, Alpha: 0.004359197907585004\n",
      "Episode 1139, Avg Reward : -19.755, Timesteps: 50, Epsilon: 0.0013623978201634877, Alpha: 0.004355400696864111\n",
      "Episode 1140, Avg Reward : -19.755, Timesteps: 50, Epsilon: 0.001360544217687075, Alpha: 0.004351610095735422\n",
      "Episode 1141, Avg Reward : -19.755, Timesteps: 50, Epsilon: 0.0013586956521739132, Alpha: 0.004347826086956522\n",
      "Episode 1142, Avg Reward : -3.180353356890459, Timesteps: 283, Epsilon: 0.006993006993006993, Alpha: 0.004344048653344918"
     ]
    },
    {
     "name": "stderr",
     "output_type": "stream",
     "text": [
      " 12%|█▏        | 1153/10000 [00:12<01:26, 102.70it/s]"
     ]
    },
    {
     "name": "stdout",
     "output_type": "stream",
     "text": [
      "\n",
      "Episode 1143, Avg Reward : -19.755, Timesteps: 50, Epsilon: 0.00135685210312076, Alpha: 0.004340277777777778\n",
      "Episode 1144, Avg Reward : -19.755, Timesteps: 50, Epsilon: 0.0013550135501355016, Alpha: 0.004336513443191674\n",
      "Episode 1145, Avg Reward : -19.755, Timesteps: 50, Epsilon: 0.0013531799729364004, Alpha: 0.004332755632582322\n",
      "Episode 1146, Avg Reward : -3.180353356890459, Timesteps: 283, Epsilon: 0.006944444444444445, Alpha: 0.004329004329004329\n",
      "Episode 1147, Avg Reward : -19.755, Timesteps: 50, Epsilon: 0.0013513513513513514, Alpha: 0.004325259515570935\n",
      "Episode 1148, Avg Reward : -19.755, Timesteps: 50, Epsilon: 0.0013495276653171392, Alpha: 0.004321521175453759\n",
      "Episode 1149, Avg Reward : -3.180353356890459, Timesteps: 283, Epsilon: 0.006896551724137932, Alpha: 0.004317789291882556\n",
      "Episode 1150, Avg Reward : -19.755, Timesteps: 50, Epsilon: 0.014705882352941178, Alpha: 0.004314063848144953\n",
      "Episode 1151, Avg Reward : -19.755, Timesteps: 50, Epsilon: 0.0013477088948787063, Alpha: 0.004310344827586207\n",
      "Episode 1152, Avg Reward : -19.755, Timesteps: 50, Epsilon: 0.0013458950201884255, Alpha: 0.004306632213608958\n",
      "Episode 1153, Avg Reward : -1.4006920415224915, Timesteps: 578, Epsilon: 0.019230769230769232, Alpha: 0.004302925989672977\n",
      "Episode 1154, Avg Reward : -19.755, Timesteps: 50, Epsilon: 0.014492753623188406, Alpha: 0.004299226139294927\n",
      "Episode 1155, Avg Reward : -19.755, Timesteps: 50, Epsilon: 0.0013440860215053762, Alpha: 0.0042955326460481094\n",
      "Episode 1156, Avg Reward : -19.755, Timesteps: 50, Epsilon: 0.001342281879194631, Alpha: 0.004291845493562232\n",
      "Episode 1157, Avg Reward : -3.180353356890459, Timesteps: 283, Epsilon: 0.006849315068493151, Alpha: 0.004288164665523156\n",
      "Episode 1158, Avg Reward : -19.755, Timesteps: 50, Epsilon: 0.0013404825737265418, Alpha: 0.004284490145672665\n",
      "Episode 1159, Avg Reward : -19.755, Timesteps: 50, Epsilon: 0.0013386880856760374, Alpha: 0.004280821917808219\n",
      "Episode 1160, Avg Reward : -19.755, Timesteps: 50, Epsilon: 0.0013368983957219253, Alpha: 0.00427715996578272\n",
      "Episode 1161, Avg Reward : -3.180353356890459, Timesteps: 283, Epsilon: 0.006802721088435375, Alpha: 0.004273504273504274\n",
      "Episode 1162, Avg Reward : -19.755, Timesteps: 50, Epsilon: 0.0013351134846461949, Alpha: 0.004269854824935952\n",
      "Episode 1163, Avg Reward : -19.755, Timesteps: 50, Epsilon: 0.0013333333333333335, Alpha: 0.004266211604095563\n",
      "Episode 1164, Avg Reward : -19.755, Timesteps: 50, Epsilon: 0.0013315579227696406, Alpha: 0.004262574595055414\n",
      "Episode 1165, Avg Reward : -3.180353356890459, Timesteps: 283, Epsilon: 0.006756756756756757, Alpha: 0.004258943781942078"
     ]
    },
    {
     "name": "stderr",
     "output_type": "stream",
     "text": [
      " 12%|█▏        | 1179/10000 [00:12<01:22, 107.06it/s]"
     ]
    },
    {
     "name": "stdout",
     "output_type": "stream",
     "text": [
      "\n",
      "Episode 1166, Avg Reward : -19.755, Timesteps: 50, Epsilon: 0.0013297872340425532, Alpha: 0.00425531914893617\n",
      "Episode 1167, Avg Reward : -19.755, Timesteps: 50, Epsilon: 0.0013280212483399736, Alpha: 0.004251700680272109\n",
      "Episode 1168, Avg Reward : -19.755, Timesteps: 50, Epsilon: 0.001326259946949602, Alpha: 0.004248088360237893\n",
      "Episode 1169, Avg Reward : -3.180353356890459, Timesteps: 283, Epsilon: 0.02777777777777778, Alpha: 0.004244482173174873\n",
      "Episode 1170, Avg Reward : -19.755, Timesteps: 50, Epsilon: 0.0013245033112582781, Alpha: 0.004240882103477523\n",
      "Episode 1171, Avg Reward : -19.755, Timesteps: 50, Epsilon: 0.001322751322751323, Alpha: 0.00423728813559322\n",
      "Episode 1172, Avg Reward : -19.755, Timesteps: 50, Epsilon: 0.001321003963011889, Alpha: 0.004233700254022015\n",
      "Episode 1173, Avg Reward : -1.2095981452859352, Timesteps: 647, Epsilon: 0.05555555555555556, Alpha: 0.004230118443316413\n",
      "Episode 1174, Avg Reward : -19.755, Timesteps: 50, Epsilon: 0.0013192612137203168, Alpha: 0.00422654268808115\n",
      "Episode 1175, Avg Reward : -19.755, Timesteps: 50, Epsilon: 0.0013175230566534915, Alpha: 0.004222972972972972\n",
      "Episode 1176, Avg Reward : -3.180353356890459, Timesteps: 283, Epsilon: 0.006711409395973154, Alpha: 0.004219409282700422\n",
      "Episode 1177, Avg Reward : -19.755, Timesteps: 50, Epsilon: 0.0013157894736842105, Alpha: 0.0042158516020236085\n",
      "Episode 1178, Avg Reward : -19.755, Timesteps: 50, Epsilon: 0.0013140604467805521, Alpha: 0.004212299915754001\n",
      "Episode 1179, Avg Reward : -19.755, Timesteps: 50, Epsilon: 0.0013123359580052493, Alpha: 0.004208754208754209\n",
      "Episode 1180, Avg Reward : -3.179858657243816, Timesteps: 283, Epsilon: 0.006666666666666667, Alpha: 0.004205214465937763\n",
      "Episode 1181, Avg Reward : -19.755, Timesteps: 50, Epsilon: 0.0013106159895150723, Alpha: 0.004201680672268907\n",
      "Episode 1182, Avg Reward : -19.755, Timesteps: 50, Epsilon: 0.0013089005235602095, Alpha: 0.0041981528127623844\n",
      "Episode 1183, Avg Reward : -19.755, Timesteps: 50, Epsilon: 0.0013071895424836603, Alpha: 0.0041946308724832215\n",
      "Episode 1184, Avg Reward : -3.180353356890459, Timesteps: 283, Epsilon: 0.006622516556291392, Alpha: 0.004191114836546521\n",
      "Episode 1185, Avg Reward : -19.755, Timesteps: 50, Epsilon: 0.0013054830287206269, Alpha: 0.0041876046901172526\n",
      "Episode 1186, Avg Reward : -19.755, Timesteps: 50, Epsilon: 0.014285714285714287, Alpha: 0.0041841004184100415\n",
      "Episode 1187, Avg Reward : -19.755, Timesteps: 50, Epsilon: 0.001303780964797914, Alpha: 0.004180602006688963\n"
     ]
    },
    {
     "name": "stderr",
     "output_type": "stream",
     "text": [
      " 12%|█▏        | 1202/10000 [00:12<01:24, 104.31it/s]"
     ]
    },
    {
     "name": "stdout",
     "output_type": "stream",
     "text": [
      "Episode 1188, Avg Reward : -0.7919209039548032, Timesteps: 885, Epsilon: 0.052631578947368425, Alpha: 0.004177109440267335\n",
      "Episode 1189, Avg Reward : -19.755, Timesteps: 50, Epsilon: 0.0013020833333333335, Alpha: 0.004173622704507512\n",
      "Episode 1190, Avg Reward : -19.755, Timesteps: 50, Epsilon: 0.014084507042253523, Alpha: 0.004170141784820684\n",
      "Episode 1191, Avg Reward : -19.755, Timesteps: 50, Epsilon: 0.0013003901170351106, Alpha: 0.004166666666666667\n",
      "Episode 1192, Avg Reward : -3.180353356890459, Timesteps: 283, Epsilon: 0.02702702702702703, Alpha: 0.004163197335553705\n",
      "Episode 1193, Avg Reward : -19.755, Timesteps: 50, Epsilon: 0.0012987012987012987, Alpha: 0.004159733777038269\n",
      "Episode 1194, Avg Reward : -19.755, Timesteps: 50, Epsilon: 0.001297016861219196, Alpha: 0.004156275976724855\n",
      "Episode 1195, Avg Reward : -19.755, Timesteps: 50, Epsilon: 0.0012953367875647669, Alpha: 0.00415282392026578\n",
      "Episode 1196, Avg Reward : -3.180353356890459, Timesteps: 283, Epsilon: 0.006578947368421053, Alpha: 0.004149377593360996\n",
      "Episode 1197, Avg Reward : -19.755, Timesteps: 50, Epsilon: 0.00129366106080207, Alpha: 0.0041459369817578775\n",
      "Episode 1198, Avg Reward : -19.755, Timesteps: 50, Epsilon: 0.0012919896640826874, Alpha: 0.004142502071251036\n",
      "Episode 1199, Avg Reward : -3.180353356890459, Timesteps: 283, Epsilon: 0.006535947712418301, Alpha: 0.0041390728476821195\n",
      "Episode 1200, Avg Reward : -19.755, Timesteps: 50, Epsilon: 0.0012903225806451613, Alpha: 0.0041356492969396195\n",
      "Episode 1201, Avg Reward : -19.755, Timesteps: 50, Epsilon: 0.0012886597938144332, Alpha: 0.004132231404958678\n",
      "Episode 1202, Avg Reward : -19.755, Timesteps: 50, Epsilon: 0.001287001287001287, Alpha: 0.004128819157720892\n",
      "Episode 1203, Avg Reward : -4.0925, Timesteps: 220, Epsilon: 0.02777777777777778, Alpha: 0.004125412541254125\n",
      "Episode 1204, Avg Reward : -19.755, Timesteps: 50, Epsilon: 0.0012853470437017996, Alpha: 0.004122011541632316\n",
      "Episode 1205, Avg Reward : -19.755, Timesteps: 50, Epsilon: 0.0012836970474967907, Alpha: 0.004118616144975288\n",
      "Episode 1206, Avg Reward : -19.755, Timesteps: 50, Epsilon: 0.001282051282051282, Alpha: 0.00411522633744856\n",
      "Episode 1207, Avg Reward : -3.180353356890459, Timesteps: 283, Epsilon: 0.006493506493506494, Alpha: 0.004111842105263158\n",
      "Episode 1208, Avg Reward : -19.755, Timesteps: 50, Epsilon: 0.0012804097311139566, Alpha: 0.004108463434675432\n",
      "Episode 1209, Avg Reward : -19.755, Timesteps: 50, Epsilon: 0.0012787723785166241, Alpha: 0.004105090311986864\n",
      "Episode 1210, Avg Reward : -19.755, Timesteps: 50, Epsilon: 0.001277139208173691, Alpha: 0.004101722723543888\n",
      "Episode 1211, Avg Reward : -1.2095981452859352, Timesteps: 647, Epsilon: 0.05, Alpha: 0.004098360655737705"
     ]
    },
    {
     "name": "stderr",
     "output_type": "stream",
     "text": [
      " 12%|█▏        | 1226/10000 [00:13<01:29, 97.62it/s] "
     ]
    },
    {
     "name": "stdout",
     "output_type": "stream",
     "text": [
      "\n",
      "Episode 1212, Avg Reward : -19.755, Timesteps: 50, Epsilon: 0.0012755102040816326, Alpha: 0.004095004095004095\n",
      "Episode 1213, Avg Reward : -19.755, Timesteps: 50, Epsilon: 0.0012738853503184715, Alpha: 0.004091653027823241\n",
      "Episode 1214, Avg Reward : -19.755, Timesteps: 50, Epsilon: 0.001272264631043257, Alpha: 0.004088307440719542\n",
      "Episode 1215, Avg Reward : -3.180353356890459, Timesteps: 283, Epsilon: 0.0064516129032258064, Alpha: 0.004084967320261438\n",
      "Episode 1216, Avg Reward : -19.755, Timesteps: 50, Epsilon: 0.0012706480304955528, Alpha: 0.004081632653061225\n",
      "Episode 1217, Avg Reward : -19.755, Timesteps: 50, Epsilon: 0.001269035532994924, Alpha: 0.004078303425774878\n",
      "Episode 1218, Avg Reward : -19.755, Timesteps: 50, Epsilon: 0.0012674271229404308, Alpha: 0.004074979625101874\n",
      "Episode 1219, Avg Reward : -3.180353356890459, Timesteps: 283, Epsilon: 0.006410256410256411, Alpha: 0.004071661237785016\n",
      "Episode 1220, Avg Reward : -19.755, Timesteps: 50, Epsilon: 0.0012658227848101266, Alpha: 0.0040683482506102524\n",
      "Episode 1221, Avg Reward : -19.755, Timesteps: 50, Epsilon: 0.0012642225031605564, Alpha: 0.0040650406504065045\n",
      "Episode 1222, Avg Reward : -3.180353356890459, Timesteps: 283, Epsilon: 0.006369426751592357, Alpha: 0.004061738424045492\n",
      "Episode 1223, Avg Reward : -19.755, Timesteps: 50, Epsilon: 0.01388888888888889, Alpha: 0.004058441558441558\n",
      "Episode 1224, Avg Reward : -19.755, Timesteps: 50, Epsilon: 0.0012626262626262627, Alpha: 0.0040551500405515\n",
      "Episode 1225, Avg Reward : -19.755, Timesteps: 50, Epsilon: 0.001261034047919294, Alpha: 0.004051863857374392\n",
      "Episode 1226, Avg Reward : -0.9398245614035088, Timesteps: 798, Epsilon: 0.022727272727272728, Alpha: 0.004048582995951417\n",
      "Episode 1227, Avg Reward : -19.755, Timesteps: 50, Epsilon: 0.0012594458438287153, Alpha: 0.004045307443365696\n",
      "Episode 1228, Avg Reward : -19.755, Timesteps: 50, Epsilon: 0.013698630136986302, Alpha: 0.004042037186742118\n",
      "Episode 1229, Avg Reward : -19.755, Timesteps: 50, Epsilon: 0.001257861635220126, Alpha: 0.004038772213247173\n",
      "Episode 1230, Avg Reward : -3.180353356890459, Timesteps: 283, Epsilon: 0.006329113924050633, Alpha: 0.004035512510088781\n",
      "Episode 1231, Avg Reward : -19.755, Timesteps: 50, Epsilon: 0.0012562814070351761, Alpha: 0.004032258064516129\n",
      "Episode 1232, Avg Reward : -19.755, Timesteps: 50, Epsilon: 0.0012547051442910917, Alpha: 0.004029008863819501\n",
      "Episode 1233, Avg Reward : -19.755, Timesteps: 50, Epsilon: 0.0012531328320802006, Alpha: 0.004025764895330112\n",
      "Episode 1234, Avg Reward : -3.180353356890459, Timesteps: 283, Epsilon: 0.006289308176100629, Alpha: 0.004022526146419952"
     ]
    },
    {
     "name": "stderr",
     "output_type": "stream",
     "text": [
      " 12%|█▎        | 1250/10000 [00:13<01:38, 88.99it/s] "
     ]
    },
    {
     "name": "stdout",
     "output_type": "stream",
     "text": [
      "\n",
      "Episode 1235, Avg Reward : -19.755, Timesteps: 50, Epsilon: 0.0012515644555694619, Alpha: 0.0040192926045016075\n",
      "Episode 1236, Avg Reward : -19.755, Timesteps: 50, Epsilon: 0.00125, Alpha: 0.004016064257028112\n",
      "Episode 1237, Avg Reward : -19.755, Timesteps: 50, Epsilon: 0.001248439450686642, Alpha: 0.004012841091492777\n",
      "Episode 1238, Avg Reward : -19.755, Timesteps: 50, Epsilon: 0.0012468827930174563, Alpha: 0.00400962309542903\n",
      "Episode 1239, Avg Reward : -3.180353356890459, Timesteps: 283, Epsilon: 0.00625, Alpha: 0.004006410256410257\n",
      "Episode 1240, Avg Reward : -19.755, Timesteps: 50, Epsilon: 0.0012453300124533003, Alpha: 0.0040032025620496394\n",
      "Episode 1241, Avg Reward : -19.755, Timesteps: 50, Epsilon: 0.0012437810945273632, Alpha: 0.004\n",
      "Episode 1242, Avg Reward : -19.755, Timesteps: 50, Epsilon: 0.0012422360248447205, Alpha: 0.003996802557953637\n",
      "Episode 1243, Avg Reward : -0.8315850815850816, Timesteps: 858, Epsilon: 0.026315789473684213, Alpha: 0.003993610223642172\n",
      "Episode 1244, Avg Reward : -19.755, Timesteps: 50, Epsilon: 0.001240694789081886, Alpha: 0.0039904229848363925\n",
      "Episode 1245, Avg Reward : -19.755, Timesteps: 50, Epsilon: 0.0012391573729863693, Alpha: 0.003987240829346092\n",
      "Episode 1246, Avg Reward : -0.9053004807692305, Timesteps: 832, Epsilon: 0.02702702702702703, Alpha: 0.00398406374501992\n",
      "Episode 1247, Avg Reward : -19.755, Timesteps: 50, Epsilon: 0.0012376237623762376, Alpha: 0.003980891719745223\n",
      "Episode 1248, Avg Reward : -19.755, Timesteps: 50, Epsilon: 0.0012360939431396785, Alpha: 0.003977724741447892\n",
      "Episode 1249, Avg Reward : -19.755, Timesteps: 50, Epsilon: 0.0012345679012345679, Alpha: 0.00397456279809221\n",
      "Episode 1250, Avg Reward : -3.180353356890459, Timesteps: 283, Epsilon: 0.006211180124223602, Alpha: 0.003971405877680699\n",
      "Episode 1251, Avg Reward : -19.755, Timesteps: 50, Epsilon: 0.0012330456226880397, Alpha: 0.003968253968253968\n",
      "Episode 1252, Avg Reward : -19.755, Timesteps: 50, Epsilon: 0.0012315270935960591, Alpha: 0.003965107057890563\n",
      "Episode 1253, Avg Reward : -19.755, Timesteps: 50, Epsilon: 0.0012300123001230013, Alpha: 0.003961965134706815\n"
     ]
    },
    {
     "name": "stderr",
     "output_type": "stream",
     "text": [
      "\r",
      " 13%|█▎        | 1262/10000 [00:13<01:44, 83.92it/s]"
     ]
    },
    {
     "name": "stdout",
     "output_type": "stream",
     "text": [
      "Episode 1254, Avg Reward : -3.180353356890459, Timesteps: 283, Epsilon: 0.00617283950617284, Alpha: 0.003958828186856691\n",
      "Episode 1255, Avg Reward : -19.755, Timesteps: 50, Epsilon: 0.0012285012285012285, Alpha: 0.003955696202531645\n",
      "Episode 1256, Avg Reward : -19.755, Timesteps: 50, Epsilon: 0.001226993865030675, Alpha: 0.003952569169960474\n",
      "Episode 1257, Avg Reward : -19.755, Timesteps: 50, Epsilon: 0.0012254901960784316, Alpha: 0.003949447077409163\n",
      "Episode 1258, Avg Reward : -3.180353356890459, Timesteps: 283, Epsilon: 0.006134969325153374, Alpha: 0.003946329913180742\n",
      "Episode 1259, Avg Reward : -19.755, Timesteps: 50, Epsilon: 0.0012239902080783355, Alpha: 0.003943217665615142\n",
      "Episode 1260, Avg Reward : -19.755, Timesteps: 50, Epsilon: 0.013513513513513514, Alpha: 0.003940110323089046\n",
      "Episode 1261, Avg Reward : -19.755, Timesteps: 50, Epsilon: 0.0012224938875305626, Alpha: 0.003937007874015748\n",
      "Episode 1262, Avg Reward : -0.4396637309847894, Timesteps: 1249, Epsilon: 0.03571428571428572, Alpha: 0.003933910306845004\n",
      "Episode 1263, Avg Reward : -19.755, Timesteps: 50, Epsilon: 0.001221001221001221, Alpha: 0.003930817610062893\n",
      "Episode 1264, Avg Reward : -19.755, Timesteps: 50, Epsilon: 0.0012195121951219512, Alpha: 0.003927729772191673\n",
      "Episode 1265, Avg Reward : -3.180353356890459, Timesteps: 283, Epsilon: 0.025641025641025644, Alpha: 0.003924646781789639\n",
      "Episode 1266, Avg Reward : -19.755, Timesteps: 50, Epsilon: 0.013333333333333334, Alpha: 0.00392156862745098\n",
      "Episode 1267, Avg Reward : -19.755, Timesteps: 50, Epsilon: 0.0012180267965895251, Alpha: 0.003918495297805643\n",
      "Episode 1268, Avg Reward : -19.755, Timesteps: 50, Epsilon: 0.0012165450121654502, Alpha: 0.003915426781519186\n",
      "Episode 1269, Avg Reward : -3.180353356890459, Timesteps: 283, Epsilon: 0.006097560975609757, Alpha: 0.003912363067292645\n",
      "Episode 1270, Avg Reward : -19.755, Timesteps: 50, Epsilon: 0.0012150668286755773, Alpha: 0.003909304143862392\n",
      "Episode 1271, Avg Reward : -19.755, Timesteps: 50, Epsilon: 0.0012135922330097086, Alpha: 0.00390625\n",
      "Episode 1272, Avg Reward : -19.755, Timesteps: 50, Epsilon: 0.0012121212121212121, Alpha: 0.0039032006245121\n",
      "Episode 1273, Avg Reward : -3.180353356890459, Timesteps: 283, Epsilon: 0.006060606060606061, Alpha: 0.0039001560062402497"
     ]
    },
    {
     "name": "stderr",
     "output_type": "stream",
     "text": [
      " 13%|█▎        | 1287/10000 [00:13<01:30, 96.53it/s]"
     ]
    },
    {
     "name": "stdout",
     "output_type": "stream",
     "text": [
      "\n",
      "Episode 1274, Avg Reward : -19.755, Timesteps: 50, Epsilon: 0.0012106537530266344, Alpha: 0.0038971161340607945\n",
      "Episode 1275, Avg Reward : -19.755, Timesteps: 50, Epsilon: 0.0012091898428053204, Alpha: 0.003894080996884735\n",
      "Episode 1276, Avg Reward : -19.755, Timesteps: 50, Epsilon: 0.001207729468599034, Alpha: 0.0038910505836575876\n",
      "Episode 1277, Avg Reward : -1.3940554592720975, Timesteps: 577, Epsilon: 0.01886792452830189, Alpha: 0.0038880248833592537\n",
      "Episode 1278, Avg Reward : -19.755, Timesteps: 50, Epsilon: 0.0012062726176115801, Alpha: 0.0038850038850038854\n",
      "Episode 1279, Avg Reward : -19.755, Timesteps: 50, Epsilon: 0.0012048192771084338, Alpha: 0.003881987577639751\n",
      "Episode 1280, Avg Reward : -19.755, Timesteps: 50, Epsilon: 0.0012033694344163659, Alpha: 0.003878975950349108\n",
      "Episode 1281, Avg Reward : -3.180353356890459, Timesteps: 283, Epsilon: 0.006024096385542168, Alpha: 0.003875968992248062\n",
      "Episode 1282, Avg Reward : -19.755, Timesteps: 50, Epsilon: 0.001201923076923077, Alpha: 0.0038729666924864447\n",
      "Episode 1283, Avg Reward : -19.755, Timesteps: 50, Epsilon: 0.0012004801920768309, Alpha: 0.0038699690402476785\n",
      "Episode 1284, Avg Reward : -3.180353356890459, Timesteps: 283, Epsilon: 0.005988023952095809, Alpha: 0.003866976024748646\n",
      "Episode 1285, Avg Reward : -19.755, Timesteps: 50, Epsilon: 0.001199040767386091, Alpha: 0.0038639876352395673\n",
      "Episode 1286, Avg Reward : -19.755, Timesteps: 50, Epsilon: 0.0011976047904191617, Alpha: 0.003861003861003861\n",
      "Episode 1287, Avg Reward : -19.755, Timesteps: 50, Epsilon: 0.001196172248803828, Alpha: 0.003858024691358025\n",
      "Episode 1288, Avg Reward : -3.180353356890459, Timesteps: 283, Epsilon: 0.005952380952380952, Alpha: 0.0038550501156515036\n",
      "Episode 1289, Avg Reward : -19.755, Timesteps: 50, Epsilon: 0.0011947431302270011, Alpha: 0.0038520801232665635\n",
      "Episode 1290, Avg Reward : -19.755, Timesteps: 50, Epsilon: 0.0011933174224343676, Alpha: 0.0038491147036181675\n",
      "Episode 1291, Avg Reward : -19.755, Timesteps: 50, Epsilon: 0.0011918951132300357, Alpha: 0.0038461538461538464\n",
      "Episode 1292, Avg Reward : -3.180353356890459, Timesteps: 283, Epsilon: 0.00591715976331361, Alpha: 0.0038431975403535744\n",
      "Episode 1293, Avg Reward : -19.755, Timesteps: 50, Epsilon: 0.0011904761904761906, Alpha: 0.003840245775729647\n",
      "Episode 1294, Avg Reward : -19.755, Timesteps: 50, Epsilon: 0.0011890606420927468, Alpha: 0.003837298541826554\n",
      "Episode 1295, Avg Reward : -19.755, Timesteps: 50, Epsilon: 0.0011876484560570072, Alpha: 0.003834355828220859\n"
     ]
    },
    {
     "name": "stderr",
     "output_type": "stream",
     "text": [
      " 13%|█▎        | 1311/10000 [00:14<01:26, 100.30it/s]"
     ]
    },
    {
     "name": "stdout",
     "output_type": "stream",
     "text": [
      "Episode 1296, Avg Reward : -1.2070370370370374, Timesteps: 648, Epsilon: 0.08333333333333334, Alpha: 0.0038314176245210726\n",
      "Episode 1297, Avg Reward : -19.755, Timesteps: 50, Epsilon: 0.0011862396204033216, Alpha: 0.0038284839203675345\n",
      "Episode 1298, Avg Reward : -19.755, Timesteps: 50, Epsilon: 0.013157894736842106, Alpha: 0.003825554705432288\n",
      "Episode 1299, Avg Reward : -19.755, Timesteps: 50, Epsilon: 0.001184834123222749, Alpha: 0.0038226299694189597\n",
      "Episode 1300, Avg Reward : -5.999299363057324, Timesteps: 157, Epsilon: 0.1, Alpha: 0.003819709702062643\n",
      "Episode 1301, Avg Reward : -19.755, Timesteps: 50, Epsilon: 0.001183431952662722, Alpha: 0.003816793893129771\n",
      "Episode 1302, Avg Reward : -19.755, Timesteps: 50, Epsilon: 0.0011820330969267141, Alpha: 0.003813882532418002\n",
      "Episode 1303, Avg Reward : -3.180353356890459, Timesteps: 283, Epsilon: 0.0058823529411764705, Alpha: 0.003810975609756098\n",
      "Episode 1304, Avg Reward : -19.755, Timesteps: 50, Epsilon: 0.012987012987012988, Alpha: 0.0038080731150038076\n",
      "Episode 1305, Avg Reward : -19.755, Timesteps: 50, Epsilon: 0.0011806375442739079, Alpha: 0.00380517503805175\n",
      "Episode 1306, Avg Reward : -19.755, Timesteps: 50, Epsilon: 0.001179245283018868, Alpha: 0.0038022813688212928\n",
      "Episode 1307, Avg Reward : -3.180353356890459, Timesteps: 283, Epsilon: 0.005847953216374269, Alpha: 0.003799392097264438\n",
      "Episode 1308, Avg Reward : -19.755, Timesteps: 50, Epsilon: 0.001177856301531213, Alpha: 0.003796507213363706\n",
      "Episode 1309, Avg Reward : -19.755, Timesteps: 50, Epsilon: 0.0011764705882352942, Alpha: 0.003793626707132018\n",
      "Episode 1310, Avg Reward : -19.755, Timesteps: 50, Epsilon: 0.001175088131609871, Alpha: 0.0037907505686125853\n",
      "Episode 1311, Avg Reward : -3.180353356890459, Timesteps: 283, Epsilon: 0.005813953488372094, Alpha: 0.003787878787878788\n",
      "Episode 1312, Avg Reward : -19.755, Timesteps: 50, Epsilon: 0.0011737089201877935, Alpha: 0.003785011355034065\n",
      "Episode 1313, Avg Reward : -19.755, Timesteps: 50, Epsilon: 0.001172332942555686, Alpha: 0.003782148260211801\n",
      "Episode 1314, Avg Reward : -19.755, Timesteps: 50, Epsilon: 0.00117096018735363, Alpha: 0.0037792894935752075\n",
      "Episode 1315, Avg Reward : -1.4957194899817847, Timesteps: 549, Epsilon: 0.08333333333333334, Alpha: 0.0037764350453172203\n",
      "Episode 1316, Avg Reward : -19.755, Timesteps: 50, Epsilon: 0.0011695906432748538, Alpha: 0.0037735849056603774\n",
      "Episode 1317, Avg Reward : -19.755, Timesteps: 50, Epsilon: 0.0011682242990654207, Alpha: 0.003770739064856712\n",
      "Episode 1318, Avg Reward : -19.755, Timesteps: 50, Epsilon: 0.0011668611435239208, Alpha: 0.0037678975131876418\n",
      "Episode 1319, Avg Reward : -3.180353356890459, Timesteps: 283, Epsilon: 0.025, Alpha: 0.003765060240963855\n",
      "Episode 1320, Avg Reward : -19.755, Timesteps: 50, Epsilon: 0.0011655011655011655, Alpha: 0.003762227238525207\n",
      "Episode 1321, Avg Reward : -19.755, Timesteps: 50, Epsilon: 0.0011641443538998836, Alpha: 0.0037593984962406013"
     ]
    },
    {
     "name": "stderr",
     "output_type": "stream",
     "text": [
      " 13%|█▎        | 1334/10000 [00:14<01:25, 101.44it/s]"
     ]
    },
    {
     "name": "stdout",
     "output_type": "stream",
     "text": [
      "\n",
      "Episode 1322, Avg Reward : -3.180353356890459, Timesteps: 283, Epsilon: 0.005780346820809248, Alpha: 0.003756574004507889\n",
      "Episode 1323, Avg Reward : -19.755, Timesteps: 50, Epsilon: 0.0011627906976744186, Alpha: 0.003753753753753754\n",
      "Episode 1324, Avg Reward : -19.755, Timesteps: 50, Epsilon: 0.00116144018583043, Alpha: 0.003750937734433608\n",
      "Episode 1325, Avg Reward : -19.755, Timesteps: 50, Epsilon: 0.001160092807424594, Alpha: 0.0037481259370314842\n",
      "Episode 1326, Avg Reward : -3.180353356890459, Timesteps: 283, Epsilon: 0.00574712643678161, Alpha: 0.003745318352059925\n",
      "Episode 1327, Avg Reward : -19.755, Timesteps: 50, Epsilon: 0.0011587485515643107, Alpha: 0.0037425149700598802\n",
      "Episode 1328, Avg Reward : -19.755, Timesteps: 50, Epsilon: 0.0011574074074074073, Alpha: 0.0037397157816005987\n",
      "Episode 1329, Avg Reward : -19.755, Timesteps: 50, Epsilon: 0.0011560693641618498, Alpha: 0.0037369207772795215\n",
      "Episode 1330, Avg Reward : -3.180353356890459, Timesteps: 283, Epsilon: 0.005714285714285714, Alpha: 0.0037341299477221808\n",
      "Episode 1331, Avg Reward : -19.755, Timesteps: 50, Epsilon: 0.0011547344110854505, Alpha: 0.0037313432835820895\n",
      "Episode 1332, Avg Reward : -19.755, Timesteps: 50, Epsilon: 0.0011534025374855825, Alpha: 0.0037285607755406414\n",
      "Episode 1333, Avg Reward : -19.755, Timesteps: 50, Epsilon: 0.001152073732718894, Alpha: 0.003725782414307005\n",
      "Episode 1334, Avg Reward : -1.1996319018404908, Timesteps: 652, Epsilon: 0.022222222222222223, Alpha: 0.003723008190618019\n",
      "Episode 1335, Avg Reward : -19.755, Timesteps: 50, Epsilon: 0.0011507479861910242, Alpha: 0.003720238095238095\n",
      "Episode 1336, Avg Reward : -19.755, Timesteps: 50, Epsilon: 0.0011494252873563218, Alpha: 0.0037174721189591076\n",
      "Episode 1337, Avg Reward : -19.755, Timesteps: 50, Epsilon: 0.012820512820512822, Alpha: 0.0037147102526002974\n",
      "Episode 1338, Avg Reward : -19.755, Timesteps: 50, Epsilon: 0.0011481056257175663, Alpha: 0.0037119524870081666\n",
      "Episode 1339, Avg Reward : -3.180353356890459, Timesteps: 283, Epsilon: 0.005681818181818182, Alpha: 0.0037091988130563795\n",
      "Episode 1340, Avg Reward : -19.755, Timesteps: 50, Epsilon: 0.0011467889908256881, Alpha: 0.0037064492216456633\n",
      "Episode 1341, Avg Reward : -19.755, Timesteps: 50, Epsilon: 0.001145475372279496, Alpha: 0.003703703703703704\n",
      "Episode 1342, Avg Reward : -3.180353356890459, Timesteps: 283, Epsilon: 0.005649717514124295, Alpha: 0.0037009622501850484\n",
      "Episode 1343, Avg Reward : -19.755, Timesteps: 50, Epsilon: 0.012658227848101266, Alpha: 0.003698224852071006\n",
      "Episode 1344, Avg Reward : -19.755, Timesteps: 50, Epsilon: 0.0011441647597254005, Alpha: 0.0036954915003695487\n",
      "Episode 1345, Avg Reward : -19.755, Timesteps: 50, Epsilon: 0.001142857142857143, Alpha: 0.003692762186115214\n"
     ]
    },
    {
     "name": "stderr",
     "output_type": "stream",
     "text": [
      " 14%|█▎        | 1360/10000 [00:14<01:21, 106.27it/s]"
     ]
    },
    {
     "name": "stdout",
     "output_type": "stream",
     "text": [
      "Episode 1346, Avg Reward : -3.180353356890459, Timesteps: 283, Epsilon: 0.0056179775280898875, Alpha: 0.0036900369003690036\n",
      "Episode 1347, Avg Reward : -19.755, Timesteps: 50, Epsilon: 0.0011415525114155253, Alpha: 0.003687315634218289\n",
      "Episode 1348, Avg Reward : -19.755, Timesteps: 50, Epsilon: 0.0011402508551881414, Alpha: 0.003684598378776714\n",
      "Episode 1349, Avg Reward : -19.755, Timesteps: 50, Epsilon: 0.0011389521640091118, Alpha: 0.0036818851251840938\n",
      "Episode 1350, Avg Reward : -1.2095981452859352, Timesteps: 647, Epsilon: 0.047619047619047616, Alpha: 0.003679175864606328\n",
      "Episode 1351, Avg Reward : -19.755, Timesteps: 50, Epsilon: 0.0011376564277588168, Alpha: 0.003676470588235294\n",
      "Episode 1352, Avg Reward : -19.755, Timesteps: 50, Epsilon: 0.0011363636363636365, Alpha: 0.0036737692872887582\n",
      "Episode 1353, Avg Reward : -19.755, Timesteps: 50, Epsilon: 0.001135073779795687, Alpha: 0.0036710719530102793\n",
      "Episode 1354, Avg Reward : -3.180353356890459, Timesteps: 283, Epsilon: 0.02439024390243903, Alpha: 0.003668378576669112\n",
      "Episode 1355, Avg Reward : -19.755, Timesteps: 50, Epsilon: 0.09090909090909091, Alpha: 0.003665689149560117\n",
      "Episode 1356, Avg Reward : -19.755, Timesteps: 50, Epsilon: 0.0011337868480725624, Alpha: 0.003663003663003663\n",
      "Episode 1357, Avg Reward : -19.755, Timesteps: 50, Epsilon: 0.0011325028312570782, Alpha: 0.0036603221083455345\n",
      "Episode 1358, Avg Reward : -19.755, Timesteps: 50, Epsilon: 0.0011312217194570135, Alpha: 0.00365764447695684\n",
      "Episode 1359, Avg Reward : -3.180353356890459, Timesteps: 283, Epsilon: 0.005586592178770951, Alpha: 0.003654970760233918\n",
      "Episode 1360, Avg Reward : -19.755, Timesteps: 50, Epsilon: 0.0011299435028248588, Alpha: 0.0036523009495982466\n",
      "Episode 1361, Avg Reward : -19.755, Timesteps: 50, Epsilon: 0.0011286681715575622, Alpha: 0.0036496350364963502\n",
      "Episode 1362, Avg Reward : -3.180353356890459, Timesteps: 283, Epsilon: 0.005555555555555556, Alpha: 0.0036469730123997084\n",
      "Episode 1363, Avg Reward : -19.755, Timesteps: 50, Epsilon: 0.0011273957158962795, Alpha: 0.003644314868804665\n",
      "Episode 1364, Avg Reward : -19.755, Timesteps: 50, Epsilon: 0.0011261261261261261, Alpha: 0.0036416605972323375\n",
      "Episode 1365, Avg Reward : -19.755, Timesteps: 50, Epsilon: 0.001124859392575928, Alpha: 0.00363901018922853\n",
      "Episode 1366, Avg Reward : -1.6067058823529412, Timesteps: 510, Epsilon: 0.018518518518518517, Alpha: 0.0036363636363636364\n",
      "Episode 1367, Avg Reward : -19.755, Timesteps: 50, Epsilon: 0.0011235955056179776, Alpha: 0.003633720930232558\n",
      "Episode 1368, Avg Reward : -19.755, Timesteps: 50, Epsilon: 0.001122334455667789, Alpha: 0.0036310820624546117"
     ]
    },
    {
     "name": "stderr",
     "output_type": "stream",
     "text": [
      " 14%|█▍        | 1385/10000 [00:14<01:16, 112.97it/s]"
     ]
    },
    {
     "name": "stdout",
     "output_type": "stream",
     "text": [
      "\n",
      "Episode 1369, Avg Reward : -19.755, Timesteps: 50, Epsilon: 0.0011210762331838565, Alpha: 0.0036284470246734394\n",
      "Episode 1370, Avg Reward : -3.180353356890459, Timesteps: 283, Epsilon: 0.0055248618784530384, Alpha: 0.003625815808556925\n",
      "Episode 1371, Avg Reward : -19.755, Timesteps: 50, Epsilon: 0.08333333333333334, Alpha: 0.0036231884057971015\n",
      "Episode 1372, Avg Reward : -19.755, Timesteps: 50, Epsilon: 0.0011198208286674132, Alpha: 0.003620564808110065\n",
      "Episode 1373, Avg Reward : -19.755, Timesteps: 50, Epsilon: 0.0011185682326621924, Alpha: 0.0036179450072358903\n",
      "Episode 1374, Avg Reward : -19.755, Timesteps: 50, Epsilon: 0.00111731843575419, Alpha: 0.0036153289949385392\n",
      "Episode 1375, Avg Reward : -3.180353356890459, Timesteps: 283, Epsilon: 0.005494505494505495, Alpha: 0.0036127167630057803\n",
      "Episode 1376, Avg Reward : -19.755, Timesteps: 50, Epsilon: 0.0011160714285714287, Alpha: 0.0036101083032490976\n",
      "Episode 1377, Avg Reward : -19.755, Timesteps: 50, Epsilon: 0.0011148272017837235, Alpha: 0.0036075036075036075\n",
      "Episode 1378, Avg Reward : -3.180353356890459, Timesteps: 283, Epsilon: 0.023809523809523808, Alpha: 0.0036049026676279743\n",
      "Episode 1379, Avg Reward : -19.755, Timesteps: 50, Epsilon: 0.0125, Alpha: 0.0036023054755043226\n",
      "Episode 1380, Avg Reward : -19.755, Timesteps: 50, Epsilon: 0.00111358574610245, Alpha: 0.0035997120230381566\n",
      "Episode 1381, Avg Reward : -19.755, Timesteps: 50, Epsilon: 0.0011123470522803114, Alpha: 0.0035971223021582736\n",
      "Episode 1382, Avg Reward : -3.180353356890459, Timesteps: 283, Epsilon: 0.00546448087431694, Alpha: 0.0035945363048166786\n",
      "Episode 1383, Avg Reward : -19.755, Timesteps: 50, Epsilon: 0.0011111111111111111, Alpha: 0.003591954022988506\n",
      "Episode 1384, Avg Reward : -19.755, Timesteps: 50, Epsilon: 0.01234567901234568, Alpha: 0.003589375448671931\n",
      "Episode 1385, Avg Reward : -19.755, Timesteps: 50, Epsilon: 0.001109877913429523, Alpha: 0.003586800573888092\n",
      "Episode 1386, Avg Reward : -1.6067058823529412, Timesteps: 510, Epsilon: 0.018181818181818184, Alpha: 0.0035842293906810036\n",
      "Episode 1387, Avg Reward : -19.755, Timesteps: 50, Epsilon: 0.0011086474501108647, Alpha: 0.0035816618911174787\n",
      "Episode 1388, Avg Reward : -19.755, Timesteps: 50, Epsilon: 0.001107419712070875, Alpha: 0.003579098067287044\n",
      "Episode 1389, Avg Reward : -19.755, Timesteps: 50, Epsilon: 0.0011061946902654867, Alpha: 0.0035765379113018594\n",
      "Episode 1390, Avg Reward : -3.180353356890459, Timesteps: 283, Epsilon: 0.005434782608695653, Alpha: 0.0035739814152966403\n",
      "Episode 1391, Avg Reward : -19.755, Timesteps: 50, Epsilon: 0.0011049723756906078, Alpha: 0.0035714285714285713\n",
      "Episode 1392, Avg Reward : -19.755, Timesteps: 50, Epsilon: 0.0011037527593818987, Alpha: 0.003568879371877231"
     ]
    },
    {
     "name": "stderr",
     "output_type": "stream",
     "text": [
      " 14%|█▍        | 1409/10000 [00:14<01:21, 105.48it/s]"
     ]
    },
    {
     "name": "stdout",
     "output_type": "stream",
     "text": [
      "\n",
      "Episode 1393, Avg Reward : -3.180353356890459, Timesteps: 283, Epsilon: 0.005405405405405406, Alpha: 0.003566333808844508\n",
      "Episode 1394, Avg Reward : -19.755, Timesteps: 50, Epsilon: 0.0011025358324145535, Alpha: 0.0035637918745545258\n",
      "Episode 1395, Avg Reward : -19.755, Timesteps: 50, Epsilon: 0.0011013215859030838, Alpha: 0.0035612535612535613\n",
      "Episode 1396, Avg Reward : -19.755, Timesteps: 50, Epsilon: 0.0011001100110011, Alpha: 0.0035587188612099642\n",
      "Episode 1397, Avg Reward : -3.180353356890459, Timesteps: 283, Epsilon: 0.005376344086021505, Alpha: 0.0035561877667140826\n",
      "Episode 1398, Avg Reward : -19.755, Timesteps: 50, Epsilon: 0.001098901098901099, Alpha: 0.003553660270078181\n",
      "Episode 1399, Avg Reward : -19.755, Timesteps: 50, Epsilon: 0.0010976948408342481, Alpha: 0.0035511363636363635\n",
      "Episode 1400, Avg Reward : -19.755, Timesteps: 50, Epsilon: 0.0010964912280701754, Alpha: 0.0035486160397444995\n",
      "Episode 1401, Avg Reward : -1.6067058823529412, Timesteps: 510, Epsilon: 0.01785714285714286, Alpha: 0.0035460992907801418\n",
      "Episode 1402, Avg Reward : -19.755, Timesteps: 50, Epsilon: 0.0010952902519167581, Alpha: 0.0035435861091424525\n",
      "Episode 1403, Avg Reward : -19.755, Timesteps: 50, Epsilon: 0.0010940919037199124, Alpha: 0.003541076487252125\n",
      "Episode 1404, Avg Reward : -19.755, Timesteps: 50, Epsilon: 0.001092896174863388, Alpha: 0.003538570417551309\n",
      "Episode 1405, Avg Reward : -3.180353356890459, Timesteps: 283, Epsilon: 0.005347593582887701, Alpha: 0.003536067892503536\n",
      "Episode 1406, Avg Reward : -19.755, Timesteps: 50, Epsilon: 0.0010917030567685591, Alpha: 0.0035335689045936395\n",
      "Episode 1407, Avg Reward : -19.755, Timesteps: 50, Epsilon: 0.0010905125408942203, Alpha: 0.0035310734463276836\n",
      "Episode 1408, Avg Reward : -19.755, Timesteps: 50, Epsilon: 0.0010893246187363835, Alpha: 0.0035285815102328866\n",
      "Episode 1409, Avg Reward : -3.180353356890459, Timesteps: 283, Epsilon: 0.005319148936170213, Alpha: 0.0035260930888575456\n",
      "Episode 1410, Avg Reward : -19.755, Timesteps: 50, Epsilon: 0.001088139281828074, Alpha: 0.003523608174770965\n",
      "Episode 1411, Avg Reward : -19.755, Timesteps: 50, Epsilon: 0.0010869565217391304, Alpha: 0.0035211267605633804\n",
      "Episode 1412, Avg Reward : -3.180353356890459, Timesteps: 283, Epsilon: 0.005291005291005292, Alpha: 0.0035186488388458835\n",
      "Episode 1413, Avg Reward : -19.755, Timesteps: 50, Epsilon: 0.0010857763300760044, Alpha: 0.003516174402250352\n",
      "Episode 1414, Avg Reward : -19.755, Timesteps: 50, Epsilon: 0.012195121951219514, Alpha: 0.0035137034434293743\n",
      "Episode 1415, Avg Reward : -19.755, Timesteps: 50, Epsilon: 0.0010845986984815619, Alpha: 0.0035112359550561797\n",
      "Episode 1416, Avg Reward : -3.180353356890459, Timesteps: 283, Epsilon: 0.005263157894736842, Alpha: 0.0035087719298245615"
     ]
    },
    {
     "name": "stderr",
     "output_type": "stream",
     "text": [
      " 14%|█▍        | 1435/10000 [00:15<01:17, 110.97it/s]"
     ]
    },
    {
     "name": "stdout",
     "output_type": "stream",
     "text": [
      "\n",
      "Episode 1417, Avg Reward : -19.755, Timesteps: 50, Epsilon: 0.0010834236186348864, Alpha: 0.003506311360448808\n",
      "Episode 1418, Avg Reward : -19.755, Timesteps: 50, Epsilon: 0.0010822510822510823, Alpha: 0.0035038542396636303\n",
      "Episode 1419, Avg Reward : -19.755, Timesteps: 50, Epsilon: 0.001081081081081081, Alpha: 0.0035014005602240893\n",
      "Episode 1420, Avg Reward : -1.6067058823529412, Timesteps: 510, Epsilon: 0.017543859649122806, Alpha: 0.003498950314905528\n",
      "Episode 1421, Avg Reward : -19.755, Timesteps: 50, Epsilon: 0.0010799136069114472, Alpha: 0.0034965034965034965\n",
      "Episode 1422, Avg Reward : -19.755, Timesteps: 50, Epsilon: 0.0010787486515641857, Alpha: 0.0034940600978336828\n",
      "Episode 1423, Avg Reward : -19.755, Timesteps: 50, Epsilon: 0.0010775862068965517, Alpha: 0.003491620111731844\n",
      "Episode 1424, Avg Reward : -7.4843307086614175, Timesteps: 127, Epsilon: 0.02173913043478261, Alpha: 0.003489183531053733\n",
      "Episode 1425, Avg Reward : -19.755, Timesteps: 50, Epsilon: 0.001076426264800861, Alpha: 0.003486750348675035\n",
      "Episode 1426, Avg Reward : -19.755, Timesteps: 50, Epsilon: 0.001075268817204301, Alpha: 0.003484320557491289\n",
      "Episode 1427, Avg Reward : -3.180353356890459, Timesteps: 283, Epsilon: 0.005235602094240838, Alpha: 0.0034818941504178276\n",
      "Episode 1428, Avg Reward : -19.755, Timesteps: 50, Epsilon: 0.0010741138560687435, Alpha: 0.003479471120389701\n",
      "Episode 1429, Avg Reward : -19.755, Timesteps: 50, Epsilon: 0.012048192771084336, Alpha: 0.003477051460361613\n",
      "Episode 1430, Avg Reward : -19.755, Timesteps: 50, Epsilon: 0.001072961373390558, Alpha: 0.0034746351633078527\n",
      "Episode 1431, Avg Reward : -3.180353356890459, Timesteps: 283, Epsilon: 0.023255813953488375, Alpha: 0.003472222222222222\n",
      "Episode 1432, Avg Reward : -19.755, Timesteps: 50, Epsilon: 0.0010718113612004287, Alpha: 0.003469812630117974\n",
      "Episode 1433, Avg Reward : -19.755, Timesteps: 50, Epsilon: 0.0010706638115631692, Alpha: 0.0034674063800277394\n",
      "Episode 1434, Avg Reward : -19.755, Timesteps: 50, Epsilon: 0.0010695187165775401, Alpha: 0.003465003465003465\n",
      "Episode 1435, Avg Reward : -3.180353356890459, Timesteps: 283, Epsilon: 0.005208333333333334, Alpha: 0.0034626038781163434\n",
      "Episode 1436, Avg Reward : -19.755, Timesteps: 50, Epsilon: 0.0010683760683760685, Alpha: 0.0034602076124567475\n",
      "Episode 1437, Avg Reward : -19.755, Timesteps: 50, Epsilon: 0.0010672358591248667, Alpha: 0.0034578146611341635\n",
      "Episode 1438, Avg Reward : -19.755, Timesteps: 50, Epsilon: 0.0010660980810234544, Alpha: 0.0034554250172771253\n"
     ]
    },
    {
     "name": "stderr",
     "output_type": "stream",
     "text": [
      " 15%|█▍        | 1458/10000 [00:15<01:35, 89.17it/s] "
     ]
    },
    {
     "name": "stdout",
     "output_type": "stream",
     "text": [
      "Episode 1439, Avg Reward : 0.47361805555555264, Timesteps: 1440, Epsilon: 0.010309278350515465, Alpha: 0.003453038674033149\n",
      "Episode 1440, Avg Reward : -19.755, Timesteps: 50, Epsilon: 0.0010649627263045794, Alpha: 0.003450655624568668\n",
      "Episode 1441, Avg Reward : -19.755, Timesteps: 50, Epsilon: 0.0010638297872340426, Alpha: 0.0034482758620689655\n",
      "Episode 1442, Avg Reward : -19.755, Timesteps: 50, Epsilon: 0.0010626992561105209, Alpha: 0.0034458993797381117\n",
      "Episode 1443, Avg Reward : -3.180353356890459, Timesteps: 283, Epsilon: 0.0051813471502590676, Alpha: 0.003443526170798898\n",
      "Episode 1444, Avg Reward : -19.755, Timesteps: 50, Epsilon: 0.0010615711252653928, Alpha: 0.003441156228492773\n",
      "Episode 1445, Avg Reward : -19.755, Timesteps: 50, Epsilon: 0.0010604453870625664, Alpha: 0.0034387895460797797\n",
      "Episode 1446, Avg Reward : -19.755, Timesteps: 50, Epsilon: 0.001059322033898305, Alpha: 0.003436426116838488\n",
      "Episode 1447, Avg Reward : -3.180353356890459, Timesteps: 283, Epsilon: 0.005154639175257733, Alpha: 0.003434065934065934\n",
      "Episode 1448, Avg Reward : -19.755, Timesteps: 50, Epsilon: 0.0010582010582010583, Alpha: 0.0034317089910775567\n",
      "Episode 1449, Avg Reward : -19.755, Timesteps: 50, Epsilon: 0.0010570824524312897, Alpha: 0.003429355281207133\n",
      "Episode 1450, Avg Reward : -19.755, Timesteps: 50, Epsilon: 0.0010559662090813093, Alpha: 0.003427004797806717\n",
      "Episode 1451, Avg Reward : -3.180353356890459, Timesteps: 283, Epsilon: 0.005128205128205128, Alpha: 0.003424657534246575\n",
      "Episode 1452, Avg Reward : -19.755, Timesteps: 50, Epsilon: 0.0010548523206751056, Alpha: 0.003422313483915127\n",
      "Episode 1453, Avg Reward : -19.755, Timesteps: 50, Epsilon: 0.011904761904761904, Alpha: 0.0034199726402188786\n",
      "Episode 1454, Avg Reward : -19.755, Timesteps: 50, Epsilon: 0.001053740779768177, Alpha: 0.003417634996582365\n",
      "Episode 1455, Avg Reward : -3.180353356890459, Timesteps: 283, Epsilon: 0.022727272727272728, Alpha: 0.0034153005464480873\n",
      "Episode 1456, Avg Reward : -19.755, Timesteps: 50, Epsilon: 0.0010526315789473684, Alpha: 0.0034129692832764505\n",
      "Episode 1457, Avg Reward : -19.755, Timesteps: 50, Epsilon: 0.0010515247108307047, Alpha: 0.0034106412005457027\n",
      "Episode 1458, Avg Reward : -0.7313111111111118, Timesteps: 900, Epsilon: 0.017241379310344827, Alpha: 0.003408316291751875\n",
      "Episode 1459, Avg Reward : -19.755, Timesteps: 50, Epsilon: 0.0010504201680672268, Alpha: 0.003405994550408719\n",
      "Episode 1460, Avg Reward : -19.755, Timesteps: 50, Epsilon: 0.001049317943336831, Alpha: 0.0034036759700476512\n",
      "Episode 1461, Avg Reward : -19.755, Timesteps: 50, Epsilon: 0.0010482180293501049, Alpha: 0.003401360544217687\n"
     ]
    },
    {
     "name": "stderr",
     "output_type": "stream",
     "text": [
      " 15%|█▍        | 1482/10000 [00:15<01:25, 99.83it/s]"
     ]
    },
    {
     "name": "stdout",
     "output_type": "stream",
     "text": [
      "Episode 1462, Avg Reward : -3.180353356890459, Timesteps: 283, Epsilon: 0.00510204081632653, Alpha: 0.003399048266485384\n",
      "Episode 1463, Avg Reward : -19.755, Timesteps: 50, Epsilon: 0.0010471204188481676, Alpha: 0.003396739130434783\n",
      "Episode 1464, Avg Reward : -19.755, Timesteps: 50, Epsilon: 0.0010460251046025106, Alpha: 0.003394433129667345\n",
      "Episode 1465, Avg Reward : -19.755, Timesteps: 50, Epsilon: 0.0010449320794148381, Alpha: 0.0033921302578018993\n",
      "Episode 1466, Avg Reward : -3.180353356890459, Timesteps: 283, Epsilon: 0.005076142131979696, Alpha: 0.003389830508474576\n",
      "Episode 1467, Avg Reward : -19.755, Timesteps: 50, Epsilon: 0.0010438413361169103, Alpha: 0.0033875338753387536\n",
      "Episode 1468, Avg Reward : -19.755, Timesteps: 50, Epsilon: 0.0010427528675703858, Alpha: 0.003385240352064997\n",
      "Episode 1469, Avg Reward : -19.755, Timesteps: 50, Epsilon: 0.011764705882352941, Alpha: 0.003382949932341001\n",
      "Episode 1470, Avg Reward : -3.180353356890459, Timesteps: 283, Epsilon: 0.005050505050505051, Alpha: 0.0033806626098715348\n",
      "Episode 1471, Avg Reward : -19.755, Timesteps: 50, Epsilon: 0.0010416666666666667, Alpha: 0.0033783783783783786\n",
      "Episode 1472, Avg Reward : -19.755, Timesteps: 50, Epsilon: 0.001040582726326743, Alpha: 0.0033760972316002704\n",
      "Episode 1473, Avg Reward : -1.6032876712328767, Timesteps: 511, Epsilon: 0.02127659574468085, Alpha: 0.0033738191632928477\n",
      "Episode 1474, Avg Reward : -19.755, Timesteps: 50, Epsilon: 0.0010395010395010396, Alpha: 0.0033715441672285905\n",
      "Episode 1475, Avg Reward : -19.755, Timesteps: 50, Epsilon: 0.001038421599169263, Alpha: 0.0033692722371967652\n",
      "Episode 1476, Avg Reward : -19.755, Timesteps: 50, Epsilon: 0.001037344398340249, Alpha: 0.003367003367003367\n",
      "Episode 1477, Avg Reward : -3.180353356890459, Timesteps: 283, Epsilon: 0.0050251256281407045, Alpha: 0.0033647375504710633\n",
      "Episode 1478, Avg Reward : -19.755, Timesteps: 50, Epsilon: 0.0010362694300518134, Alpha: 0.0033624747814391394\n",
      "Episode 1479, Avg Reward : -19.755, Timesteps: 50, Epsilon: 0.0010351966873706005, Alpha: 0.0033602150537634405\n",
      "Episode 1480, Avg Reward : -19.755, Timesteps: 50, Epsilon: 0.001034126163391934, Alpha: 0.0033579583613163196\n",
      "Episode 1481, Avg Reward : -3.180353356890459, Timesteps: 283, Epsilon: 0.005, Alpha: 0.003355704697986577\n",
      "Episode 1482, Avg Reward : -19.755, Timesteps: 50, Epsilon: 0.0010330578512396695, Alpha: 0.00335345405767941\n",
      "Episode 1483, Avg Reward : -19.755, Timesteps: 50, Epsilon: 0.0010319917440660474, Alpha: 0.003351206434316354\n",
      "Episode 1484, Avg Reward : -3.180353356890459, Timesteps: 283, Epsilon: 0.004975124378109453, Alpha: 0.0033489618218352306\n",
      "Episode 1485, Avg Reward : -19.755, Timesteps: 50, Epsilon: 0.0010309278350515464, Alpha: 0.0033467202141900937\n",
      "Episode 1486, Avg Reward : -19.755, Timesteps: 50, Epsilon: 0.0010298661174047376, Alpha: 0.0033444816053511705\n",
      "Episode 1487, Avg Reward : -19.755, Timesteps: 50, Epsilon: 0.00102880658436214, Alpha: 0.0033422459893048127\n",
      "Episode 1488, Avg Reward : -1.6032876712328767, Timesteps: 511, Epsilon: 0.020833333333333336, Alpha: 0.0033400133600534404\n",
      "Episode 1489, Avg Reward : -19.755, Timesteps: 50, Epsilon: 0.0010277492291880781, Alpha: 0.003337783711615487\n",
      "Episode 1490, Avg Reward : -19.755, Timesteps: 50, Epsilon: 0.001026694045174538, Alpha: 0.00333555703802535"
     ]
    },
    {
     "name": "stderr",
     "output_type": "stream",
     "text": [
      " 15%|█▌        | 1506/10000 [00:15<01:18, 108.21it/s]"
     ]
    },
    {
     "name": "stdout",
     "output_type": "stream",
     "text": [
      "\n",
      "Episode 1491, Avg Reward : -19.755, Timesteps: 50, Epsilon: 0.0010256410256410256, Alpha: 0.0033333333333333335\n",
      "Episode 1492, Avg Reward : -3.180353356890459, Timesteps: 283, Epsilon: 0.022222222222222223, Alpha: 0.0033311125916055963\n",
      "Episode 1493, Avg Reward : -19.755, Timesteps: 50, Epsilon: 0.0010245901639344263, Alpha: 0.0033288948069241015\n",
      "Episode 1494, Avg Reward : -19.755, Timesteps: 50, Epsilon: 0.011627906976744188, Alpha: 0.00332667997338656\n",
      "Episode 1495, Avg Reward : -19.755, Timesteps: 50, Epsilon: 0.0010235414534288639, Alpha: 0.003324468085106383\n",
      "Episode 1496, Avg Reward : -3.180353356890459, Timesteps: 283, Epsilon: 0.0049504950495049506, Alpha: 0.0033222591362126247\n",
      "Episode 1497, Avg Reward : -19.755, Timesteps: 50, Epsilon: 0.0010224948875255625, Alpha: 0.0033200531208499337\n",
      "Episode 1498, Avg Reward : -19.755, Timesteps: 50, Epsilon: 0.0010214504596527069, Alpha: 0.0033178500331785005\n",
      "Episode 1499, Avg Reward : -3.180353356890459, Timesteps: 283, Epsilon: 0.0049261083743842365, Alpha: 0.003315649867374005\n",
      "Episode 1500, Avg Reward : -19.755, Timesteps: 50, Epsilon: 0.0010204081632653062, Alpha: 0.0033134526176275677\n",
      "Episode 1501, Avg Reward : -19.755, Timesteps: 50, Epsilon: 0.0010193679918450561, Alpha: 0.0033112582781456954\n",
      "Episode 1502, Avg Reward : -19.755, Timesteps: 50, Epsilon: 0.0010183299389002038, Alpha: 0.0033090668431502318\n",
      "Episode 1503, Avg Reward : -3.180353356890459, Timesteps: 283, Epsilon: 0.004901960784313726, Alpha: 0.003306878306878307\n",
      "Episode 1504, Avg Reward : -19.755, Timesteps: 50, Epsilon: 0.0010172939979654122, Alpha: 0.0033046926635822865\n",
      "Episode 1505, Avg Reward : -19.755, Timesteps: 50, Epsilon: 0.001016260162601626, Alpha: 0.0033025099075297223\n",
      "Episode 1506, Avg Reward : -19.755, Timesteps: 50, Epsilon: 0.0010152284263959391, Alpha: 0.0033003300330033004\n",
      "Episode 1507, Avg Reward : -1.6032876712328767, Timesteps: 511, Epsilon: 0.02040816326530612, Alpha: 0.0032981530343007917\n",
      "Episode 1508, Avg Reward : -19.755, Timesteps: 50, Epsilon: 0.0010141987829614606, Alpha: 0.0032959789057350037\n",
      "Episode 1509, Avg Reward : -19.755, Timesteps: 50, Epsilon: 0.0010131712259371835, Alpha: 0.0032938076416337285\n",
      "Episode 1510, Avg Reward : -19.755, Timesteps: 50, Epsilon: 0.01149425287356322, Alpha: 0.0032916392363396972\n",
      "Episode 1511, Avg Reward : -3.180353356890459, Timesteps: 283, Epsilon: 0.004878048780487805, Alpha: 0.003289473684210526\n",
      "Episode 1512, Avg Reward : -19.755, Timesteps: 50, Epsilon: 0.0010121457489878543, Alpha: 0.003287310979618672\n",
      "Episode 1513, Avg Reward : -19.755, Timesteps: 50, Epsilon: 0.0010111223458038423, Alpha: 0.00328515111695138\n",
      "Episode 1514, Avg Reward : -3.180353356890459, Timesteps: 283, Epsilon: 0.0048543689320388345, Alpha: 0.0032829940906106366\n"
     ]
    },
    {
     "name": "stderr",
     "output_type": "stream",
     "text": [
      " 15%|█▌        | 1529/10000 [00:16<01:21, 104.09it/s]"
     ]
    },
    {
     "name": "stdout",
     "output_type": "stream",
     "text": [
      "Episode 1515, Avg Reward : -19.755, Timesteps: 50, Epsilon: 0.00101010101010101, Alpha: 0.0032808398950131233\n",
      "Episode 1516, Avg Reward : -19.755, Timesteps: 50, Epsilon: 0.0010090817356205853, Alpha: 0.003278688524590164\n",
      "Episode 1517, Avg Reward : -19.755, Timesteps: 50, Epsilon: 0.0010080645161290322, Alpha: 0.0032765399737876805\n",
      "Episode 1518, Avg Reward : -3.180353356890459, Timesteps: 283, Epsilon: 0.004830917874396136, Alpha: 0.003274394237066143\n",
      "Episode 1519, Avg Reward : -19.755, Timesteps: 50, Epsilon: 0.0010070493454179255, Alpha: 0.003272251308900523\n",
      "Episode 1520, Avg Reward : -19.755, Timesteps: 50, Epsilon: 0.001006036217303823, Alpha: 0.0032701111837802484\n",
      "Episode 1521, Avg Reward : -19.755, Timesteps: 50, Epsilon: 0.0010050251256281408, Alpha: 0.0032679738562091504\n",
      "Episode 1522, Avg Reward : -1.6032876712328767, Timesteps: 511, Epsilon: 0.02, Alpha: 0.0032658393207054214\n",
      "Episode 1523, Avg Reward : -19.755, Timesteps: 50, Epsilon: 0.0010040160642570282, Alpha: 0.003263707571801567\n",
      "Episode 1524, Avg Reward : -19.755, Timesteps: 50, Epsilon: 0.0010030090270812437, Alpha: 0.0032615786040443573\n",
      "Episode 1525, Avg Reward : -3.180353356890459, Timesteps: 283, Epsilon: 0.004807692307692308, Alpha: 0.0032594524119947846\n",
      "Episode 1526, Avg Reward : -19.755, Timesteps: 50, Epsilon: 0.0010020040080160322, Alpha: 0.003257328990228013\n",
      "Episode 1527, Avg Reward : -19.755, Timesteps: 50, Epsilon: 0.001001001001001001, Alpha: 0.0032552083333333335\n",
      "Episode 1528, Avg Reward : -19.755, Timesteps: 50, Epsilon: 0.001, Alpha: 0.0032530904359141188\n",
      "Episode 1529, Avg Reward : -3.180353356890459, Timesteps: 283, Epsilon: 0.004784688995215312, Alpha: 0.003250975292587776\n",
      "Episode 1530, Avg Reward : -19.755, Timesteps: 50, Epsilon: 0.0009990009990009992, Alpha: 0.003248862897985705\n",
      "Episode 1531, Avg Reward : -19.755, Timesteps: 50, Epsilon: 0.0009980039920159682, Alpha: 0.003246753246753247\n",
      "Episode 1532, Avg Reward : -19.755, Timesteps: 50, Epsilon: 0.0009970089730807579, Alpha: 0.003244646333549643\n",
      "Episode 1533, Avg Reward : -3.180353356890459, Timesteps: 283, Epsilon: 0.004761904761904762, Alpha: 0.00324254215304799\n",
      "Episode 1534, Avg Reward : -19.755, Timesteps: 50, Epsilon: 0.00099601593625498, Alpha: 0.003240440699935191\n",
      "Episode 1535, Avg Reward : -19.755, Timesteps: 50, Epsilon: 0.0009950248756218907, Alpha: 0.003238341968911917\n",
      "Episode 1536, Avg Reward : -19.755, Timesteps: 50, Epsilon: 0.011363636363636364, Alpha: 0.003236245954692557\n",
      "Episode 1537, Avg Reward : -3.180353356890459, Timesteps: 283, Epsilon: 0.02173913043478261, Alpha: 0.003234152652005175\n",
      "Episode 1538, Avg Reward : -19.755, Timesteps: 50, Epsilon: 0.0009940357852882705, Alpha: 0.0032320620555914676\n",
      "Episode 1539, Avg Reward : -19.755, Timesteps: 50, Epsilon: 0.0009930486593843098, Alpha: 0.003229974160206718\n",
      "Episode 1540, Avg Reward : -1.6032876712328767, Timesteps: 511, Epsilon: 0.019607843137254905, Alpha: 0.0032278889606197547"
     ]
    },
    {
     "name": "stderr",
     "output_type": "stream",
     "text": [
      " 16%|█▌        | 1553/10000 [00:16<01:16, 109.95it/s]"
     ]
    },
    {
     "name": "stdout",
     "output_type": "stream",
     "text": [
      "\n",
      "Episode 1541, Avg Reward : -19.755, Timesteps: 50, Epsilon: 0.0009920634920634922, Alpha: 0.0032258064516129032\n",
      "Episode 1542, Avg Reward : -19.755, Timesteps: 50, Epsilon: 0.0009910802775024777, Alpha: 0.0032237266279819474\n",
      "Episode 1543, Avg Reward : -19.755, Timesteps: 50, Epsilon: 0.0009900990099009901, Alpha: 0.0032216494845360827\n",
      "Episode 1544, Avg Reward : -19.755, Timesteps: 50, Epsilon: 0.0009891196834817015, Alpha: 0.003219575016097875\n",
      "Episode 1545, Avg Reward : -3.180353356890459, Timesteps: 283, Epsilon: 0.004739336492890996, Alpha: 0.0032175032175032173\n",
      "Episode 1546, Avg Reward : -19.755, Timesteps: 50, Epsilon: 0.0009881422924901185, Alpha: 0.003215434083601286\n",
      "Episode 1547, Avg Reward : -19.755, Timesteps: 50, Epsilon: 0.000987166831194472, Alpha: 0.003213367609254499\n",
      "Episode 1548, Avg Reward : -19.755, Timesteps: 50, Epsilon: 0.0009861932938856016, Alpha: 0.0032113037893384717\n",
      "Episode 1549, Avg Reward : -3.180353356890459, Timesteps: 283, Epsilon: 0.004716981132075472, Alpha: 0.0032092426187419767\n",
      "Episode 1550, Avg Reward : -19.755, Timesteps: 50, Epsilon: 0.0009852216748768474, Alpha: 0.0032071840923669015\n",
      "Episode 1551, Avg Reward : -19.755, Timesteps: 50, Epsilon: 0.0009842519685039372, Alpha: 0.003205128205128205\n",
      "Episode 1552, Avg Reward : -19.755, Timesteps: 50, Epsilon: 0.0009832841691248771, Alpha: 0.0032030749519538757\n",
      "Episode 1553, Avg Reward : -3.180353356890459, Timesteps: 283, Epsilon: 0.004694835680751174, Alpha: 0.0032010243277848915\n",
      "Episode 1554, Avg Reward : -19.755, Timesteps: 50, Epsilon: 0.000982318271119843, Alpha: 0.003198976327575176\n",
      "Episode 1555, Avg Reward : -19.755, Timesteps: 50, Epsilon: 0.0009813542688910696, Alpha: 0.00319693094629156\n",
      "Episode 1556, Avg Reward : -1.5277861163227018, Timesteps: 533, Epsilon: 0.1, Alpha: 0.003194888178913738\n",
      "Episode 1557, Avg Reward : -19.755, Timesteps: 50, Epsilon: 0.011235955056179775, Alpha: 0.0031928480204342275\n",
      "Episode 1558, Avg Reward : -19.755, Timesteps: 50, Epsilon: 0.000980392156862745, Alpha: 0.003190810465858328\n",
      "Episode 1559, Avg Reward : -19.755, Timesteps: 50, Epsilon: 0.0009794319294809011, Alpha: 0.0031887755102040813\n",
      "Episode 1560, Avg Reward : -3.180353356890459, Timesteps: 283, Epsilon: 0.004672897196261683, Alpha: 0.0031867431485022306\n",
      "Episode 1561, Avg Reward : -19.755, Timesteps: 50, Epsilon: 0.0009784735812133072, Alpha: 0.0031847133757961785\n",
      "Episode 1562, Avg Reward : -19.755, Timesteps: 50, Epsilon: 0.0009775171065493646, Alpha: 0.003182686187141948\n",
      "Episode 1563, Avg Reward : -19.755, Timesteps: 50, Epsilon: 0.0009765625, Alpha: 0.0031806615776081427\n"
     ]
    },
    {
     "name": "stderr",
     "output_type": "stream",
     "text": [
      " 16%|█▌        | 1577/10000 [00:16<01:17, 108.21it/s]"
     ]
    },
    {
     "name": "stdout",
     "output_type": "stream",
     "text": [
      "Episode 1564, Avg Reward : -3.180353356890459, Timesteps: 283, Epsilon: 0.004651162790697674, Alpha: 0.0031786395422759056\n",
      "Episode 1565, Avg Reward : -19.755, Timesteps: 50, Epsilon: 0.0009756097560975611, Alpha: 0.0031766200762388818\n",
      "Episode 1566, Avg Reward : -19.755, Timesteps: 50, Epsilon: 0.0009746588693957116, Alpha: 0.0031746031746031746\n",
      "Episode 1567, Avg Reward : -3.180353356890459, Timesteps: 283, Epsilon: 0.004629629629629629, Alpha: 0.0031725888324873096\n",
      "Episode 1568, Avg Reward : -19.755, Timesteps: 50, Epsilon: 0.0009737098344693282, Alpha: 0.0031705770450221942\n",
      "Episode 1569, Avg Reward : -19.755, Timesteps: 50, Epsilon: 0.000972762645914397, Alpha: 0.0031685678073510772\n",
      "Episode 1570, Avg Reward : -19.755, Timesteps: 50, Epsilon: 0.0009718172983479105, Alpha: 0.003166561114629512\n",
      "Episode 1571, Avg Reward : -1.5400377358490571, Timesteps: 530, Epsilon: 0.026315789473684213, Alpha: 0.0031645569620253164\n",
      "Episode 1572, Avg Reward : -19.755, Timesteps: 50, Epsilon: 0.0009708737864077671, Alpha: 0.003162555344718533\n",
      "Episode 1573, Avg Reward : -19.755, Timesteps: 50, Epsilon: 0.011111111111111112, Alpha: 0.003160556257901391\n",
      "Episode 1574, Avg Reward : -19.755, Timesteps: 50, Epsilon: 0.0009699321047526674, Alpha: 0.0031585596967782688\n",
      "Episode 1575, Avg Reward : -3.180353356890459, Timesteps: 283, Epsilon: 0.02127659574468085, Alpha: 0.0031565656565656565\n",
      "Episode 1576, Avg Reward : -19.755, Timesteps: 50, Epsilon: 0.0009689922480620155, Alpha: 0.0031545741324921135\n",
      "Episode 1577, Avg Reward : -19.755, Timesteps: 50, Epsilon: 0.000968054211035818, Alpha: 0.0031525851197982345\n",
      "Episode 1578, Avg Reward : -3.180353356890459, Timesteps: 283, Epsilon: 0.004608294930875576, Alpha: 0.0031505986137366103\n",
      "Episode 1579, Avg Reward : -19.755, Timesteps: 50, Epsilon: 0.0009671179883945841, Alpha: 0.003148614609571788\n",
      "Episode 1580, Avg Reward : -19.755, Timesteps: 50, Epsilon: 0.0009661835748792271, Alpha: 0.003146633102580239\n",
      "Episode 1581, Avg Reward : -19.755, Timesteps: 50, Epsilon: 0.0009652509652509654, Alpha: 0.0031446540880503146\n",
      "Episode 1582, Avg Reward : -3.180353356890459, Timesteps: 283, Epsilon: 0.0045871559633027525, Alpha: 0.0031426775612822125\n",
      "Episode 1583, Avg Reward : -19.755, Timesteps: 50, Epsilon: 0.0009643201542912247, Alpha: 0.00314070351758794\n",
      "Episode 1584, Avg Reward : -19.755, Timesteps: 50, Epsilon: 0.0009633911368015415, Alpha: 0.003138731952291274\n",
      "Episode 1585, Avg Reward : -19.755, Timesteps: 50, Epsilon: 0.0009624639076034649, Alpha: 0.003136762860727729\n",
      "Episode 1586, Avg Reward : -3.180353356890459, Timesteps: 283, Epsilon: 0.004566210045662101, Alpha: 0.003134796238244514\n",
      "Episode 1587, Avg Reward : -19.755, Timesteps: 50, Epsilon: 0.0009615384615384616, Alpha: 0.0031328320802005015\n",
      "Episode 1588, Avg Reward : -19.755, Timesteps: 50, Epsilon: 0.0009606147934678195, Alpha: 0.003130870381966187"
     ]
    },
    {
     "name": "stderr",
     "output_type": "stream",
     "text": [
      " 16%|█▌        | 1604/10000 [00:16<01:18, 106.37it/s]"
     ]
    },
    {
     "name": "stdout",
     "output_type": "stream",
     "text": [
      "\n",
      "Episode 1589, Avg Reward : -19.755, Timesteps: 50, Epsilon: 0.0009596928982725529, Alpha: 0.0031289111389236545\n",
      "Episode 1590, Avg Reward : -1.5998828125, Timesteps: 512, Epsilon: 0.025641025641025644, Alpha: 0.0031269543464665416\n",
      "Episode 1591, Avg Reward : -19.755, Timesteps: 50, Epsilon: 0.0009587727708533078, Alpha: 0.003125\n",
      "Episode 1592, Avg Reward : -19.755, Timesteps: 50, Epsilon: 0.0009578544061302681, Alpha: 0.0031230480949406623\n",
      "Episode 1593, Avg Reward : -3.180353356890459, Timesteps: 283, Epsilon: 0.004545454545454546, Alpha: 0.0031210986267166045\n",
      "Episode 1594, Avg Reward : -19.755, Timesteps: 50, Epsilon: 0.0009569377990430622, Alpha: 0.003119151590767311\n",
      "Episode 1595, Avg Reward : -19.755, Timesteps: 50, Epsilon: 0.0009560229445506693, Alpha: 0.0031172069825436406\n",
      "Episode 1596, Avg Reward : -19.755, Timesteps: 50, Epsilon: 0.0009551098376313277, Alpha: 0.003115264797507788\n",
      "Episode 1597, Avg Reward : -3.180353356890459, Timesteps: 283, Epsilon: 0.004524886877828054, Alpha: 0.0031133250311332506\n",
      "Episode 1598, Avg Reward : -19.755, Timesteps: 50, Epsilon: 0.0009541984732824428, Alpha: 0.003111387678904792\n",
      "Episode 1599, Avg Reward : -19.755, Timesteps: 50, Epsilon: 0.01098901098901099, Alpha: 0.0031094527363184077\n",
      "Episode 1600, Avg Reward : -19.755, Timesteps: 50, Epsilon: 0.0009532888465204957, Alpha: 0.0031075201988812924\n",
      "Episode 1601, Avg Reward : -3.180353356890459, Timesteps: 283, Epsilon: 0.0045045045045045045, Alpha: 0.003105590062111801\n",
      "Episode 1602, Avg Reward : -19.755, Timesteps: 50, Epsilon: 0.0009523809523809524, Alpha: 0.0031036623215394167\n",
      "Episode 1603, Avg Reward : -19.755, Timesteps: 50, Epsilon: 0.0009514747859181733, Alpha: 0.003101736972704715\n",
      "Episode 1604, Avg Reward : -1.5998828125, Timesteps: 512, Epsilon: 0.025, Alpha: 0.00309981401115933\n",
      "Episode 1605, Avg Reward : -19.755, Timesteps: 50, Epsilon: 0.0009505703422053232, Alpha: 0.003097893432465923\n",
      "Episode 1606, Avg Reward : -19.755, Timesteps: 50, Epsilon: 0.000949667616334283, Alpha: 0.0030959752321981426\n",
      "Episode 1607, Avg Reward : -19.755, Timesteps: 50, Epsilon: 0.0009487666034155598, Alpha: 0.003094059405940594\n",
      "Episode 1608, Avg Reward : -3.180353356890459, Timesteps: 283, Epsilon: 0.020833333333333336, Alpha: 0.0030921459492888066\n",
      "Episode 1609, Avg Reward : -19.755, Timesteps: 50, Epsilon: 0.0009478672985781991, Alpha: 0.0030902348578491965\n",
      "Episode 1610, Avg Reward : -19.755, Timesteps: 50, Epsilon: 0.0009469696969696971, Alpha: 0.0030883261272390363\n",
      "Episode 1611, Avg Reward : -19.755, Timesteps: 50, Epsilon: 0.000946073793755913, Alpha: 0.0030864197530864196\n",
      "Episode 1612, Avg Reward : -3.180353356890459, Timesteps: 283, Epsilon: 0.004484304932735426, Alpha: 0.0030845157310302285"
     ]
    },
    {
     "name": "stderr",
     "output_type": "stream",
     "text": [
      " 16%|█▋        | 1629/10000 [00:17<01:16, 108.83it/s]"
     ]
    },
    {
     "name": "stdout",
     "output_type": "stream",
     "text": [
      "\n",
      "Episode 1613, Avg Reward : -19.755, Timesteps: 50, Epsilon: 0.000945179584120983, Alpha: 0.0030826140567200987\n",
      "Episode 1614, Avg Reward : -19.755, Timesteps: 50, Epsilon: 0.0009442870632672333, Alpha: 0.0030807147258163892\n",
      "Episode 1615, Avg Reward : -19.755, Timesteps: 50, Epsilon: 0.010869565217391306, Alpha: 0.0030788177339901475\n",
      "Episode 1616, Avg Reward : -3.180353356890459, Timesteps: 283, Epsilon: 0.004464285714285715, Alpha: 0.003076923076923077\n",
      "Episode 1617, Avg Reward : -19.755, Timesteps: 50, Epsilon: 0.0009433962264150943, Alpha: 0.003075030750307503\n",
      "Episode 1618, Avg Reward : -19.755, Timesteps: 50, Epsilon: 0.0009425070688030161, Alpha: 0.0030731407498463433\n",
      "Episode 1619, Avg Reward : -3.180353356890459, Timesteps: 283, Epsilon: 0.0044444444444444444, Alpha: 0.003071253071253071\n",
      "Episode 1620, Avg Reward : -19.755, Timesteps: 50, Epsilon: 0.0009416195856873824, Alpha: 0.003069367710251688\n",
      "Episode 1621, Avg Reward : -19.755, Timesteps: 50, Epsilon: 0.0009407337723424271, Alpha: 0.003067484662576687\n",
      "Episode 1622, Avg Reward : -19.755, Timesteps: 50, Epsilon: 0.0009398496240601503, Alpha: 0.0030656039239730227\n",
      "Episode 1623, Avg Reward : -1.5998828125, Timesteps: 512, Epsilon: 0.02439024390243903, Alpha: 0.003063725490196079\n",
      "Episode 1624, Avg Reward : -19.755, Timesteps: 50, Epsilon: 0.0009389671361502348, Alpha: 0.003061849357011635\n",
      "Episode 1625, Avg Reward : -19.755, Timesteps: 50, Epsilon: 0.0009380863039399626, Alpha: 0.003059975520195838\n",
      "Episode 1626, Avg Reward : -19.755, Timesteps: 50, Epsilon: 0.0009372071227741331, Alpha: 0.0030581039755351682\n",
      "Episode 1627, Avg Reward : -3.180353356890459, Timesteps: 283, Epsilon: 0.004424778761061947, Alpha: 0.003056234718826406\n",
      "Episode 1628, Avg Reward : -19.755, Timesteps: 50, Epsilon: 0.0009363295880149814, Alpha: 0.0030543677458766036\n",
      "Episode 1629, Avg Reward : -19.755, Timesteps: 50, Epsilon: 0.0009354536950420954, Alpha: 0.0030525030525030525\n",
      "Episode 1630, Avg Reward : -3.024781144781145, Timesteps: 297, Epsilon: 0.023809523809523808, Alpha: 0.0030506406345332518\n",
      "Episode 1631, Avg Reward : -19.755, Timesteps: 50, Epsilon: 0.0009345794392523365, Alpha: 0.003048780487804878\n",
      "Episode 1632, Avg Reward : -19.755, Timesteps: 50, Epsilon: 0.0009337068160597574, Alpha: 0.0030469226081657527\n",
      "Episode 1633, Avg Reward : -19.755, Timesteps: 50, Epsilon: 0.0009328358208955224, Alpha: 0.0030450669914738127\n",
      "Episode 1634, Avg Reward : -3.180353356890459, Timesteps: 283, Epsilon: 0.02040816326530612, Alpha: 0.0030432136335970784\n"
     ]
    },
    {
     "name": "stderr",
     "output_type": "stream",
     "text": [
      " 17%|█▋        | 1655/10000 [00:17<01:15, 110.87it/s]"
     ]
    },
    {
     "name": "stdout",
     "output_type": "stream",
     "text": [
      "Episode 1635, Avg Reward : -19.755, Timesteps: 50, Epsilon: 0.0009319664492078286, Alpha: 0.003041362530413625\n",
      "Episode 1636, Avg Reward : -19.755, Timesteps: 50, Epsilon: 0.000931098696461825, Alpha: 0.00303951367781155\n",
      "Episode 1637, Avg Reward : -19.755, Timesteps: 50, Epsilon: 0.0009302325581395349, Alpha: 0.003037667071688943\n",
      "Episode 1638, Avg Reward : -3.180353356890459, Timesteps: 283, Epsilon: 0.004405286343612335, Alpha: 0.0030358227079538558\n",
      "Episode 1639, Avg Reward : -19.755, Timesteps: 50, Epsilon: 0.000929368029739777, Alpha: 0.003033980582524272\n",
      "Episode 1640, Avg Reward : -19.755, Timesteps: 50, Epsilon: 0.0009285051067780873, Alpha: 0.0030321406913280777\n",
      "Episode 1641, Avg Reward : -1.5998828125, Timesteps: 512, Epsilon: 0.023255813953488375, Alpha: 0.0030303030303030303\n",
      "Episode 1642, Avg Reward : -19.755, Timesteps: 50, Epsilon: 0.000927643784786642, Alpha: 0.0030284675953967293\n",
      "Episode 1643, Avg Reward : -19.755, Timesteps: 50, Epsilon: 0.01075268817204301, Alpha: 0.0030266343825665863\n",
      "Episode 1644, Avg Reward : -19.755, Timesteps: 50, Epsilon: 0.0009267840593141798, Alpha: 0.003024803387779794\n",
      "Episode 1645, Avg Reward : -19.755, Timesteps: 50, Epsilon: 0.000925925925925926, Alpha: 0.003022974607013301\n",
      "Episode 1646, Avg Reward : -3.180353356890459, Timesteps: 283, Epsilon: 0.0043859649122807015, Alpha: 0.0030211480362537764\n",
      "Episode 1647, Avg Reward : -19.755, Timesteps: 50, Epsilon: 0.0009250693802035154, Alpha: 0.0030193236714975845\n",
      "Episode 1648, Avg Reward : -19.755, Timesteps: 50, Epsilon: 0.0009242144177449168, Alpha: 0.0030175015087507548\n",
      "Episode 1649, Avg Reward : -19.755, Timesteps: 50, Epsilon: 0.0009233610341643583, Alpha: 0.0030156815440289505\n",
      "Episode 1650, Avg Reward : -3.180353356890459, Timesteps: 283, Epsilon: 0.0043668122270742364, Alpha: 0.003013863773357444\n",
      "Episode 1651, Avg Reward : -19.755, Timesteps: 50, Epsilon: 0.0009225092250922509, Alpha: 0.0030120481927710845\n",
      "Episode 1652, Avg Reward : -19.755, Timesteps: 50, Epsilon: 0.0009216589861751152, Alpha: 0.0030102347983142685\n",
      "Episode 1653, Avg Reward : -3.180353356890459, Timesteps: 283, Epsilon: 0.004347826086956522, Alpha: 0.0030084235860409147\n",
      "Episode 1654, Avg Reward : -19.755, Timesteps: 50, Epsilon: 0.0009208103130755066, Alpha: 0.0030066145520144315\n",
      "Episode 1655, Avg Reward : -19.755, Timesteps: 50, Epsilon: 0.0009199632014719411, Alpha: 0.003004807692307692\n",
      "Episode 1656, Avg Reward : -19.755, Timesteps: 50, Epsilon: 0.0009191176470588236, Alpha: 0.003003003003003003\n",
      "Episode 1657, Avg Reward : -1.1221802325581398, Timesteps: 688, Epsilon: 0.01694915254237288, Alpha: 0.003001200480192077\n",
      "Episode 1658, Avg Reward : -19.755, Timesteps: 50, Epsilon: 0.010638297872340425, Alpha: 0.002999400119976005\n",
      "Episode 1659, Avg Reward : -19.755, Timesteps: 50, Epsilon: 0.0009182736455463728, Alpha: 0.002997601918465228\n",
      "Episode 1660, Avg Reward : -19.755, Timesteps: 50, Epsilon: 0.0009174311926605505, Alpha: 0.0029958058717795086"
     ]
    },
    {
     "name": "stderr",
     "output_type": "stream",
     "text": [
      " 17%|█▋        | 1678/10000 [00:17<01:20, 103.52it/s]"
     ]
    },
    {
     "name": "stdout",
     "output_type": "stream",
     "text": [
      "\n",
      "Episode 1661, Avg Reward : -3.180353356890459, Timesteps: 283, Epsilon: 0.004329004329004329, Alpha: 0.0029940119760479044\n",
      "Episode 1662, Avg Reward : -19.755, Timesteps: 50, Epsilon: 0.0009165902841429882, Alpha: 0.0029922202274087375\n",
      "Episode 1663, Avg Reward : -19.755, Timesteps: 50, Epsilon: 0.0009157509157509158, Alpha: 0.0029904306220095694\n",
      "Episode 1664, Avg Reward : -3.180353356890459, Timesteps: 283, Epsilon: 0.004310344827586207, Alpha: 0.0029886431560071725\n",
      "Episode 1665, Avg Reward : -19.755, Timesteps: 50, Epsilon: 0.0009149130832570906, Alpha: 0.0029868578255675027\n",
      "Episode 1666, Avg Reward : -19.755, Timesteps: 50, Epsilon: 0.0009140767824497258, Alpha: 0.0029850746268656717\n",
      "Episode 1667, Avg Reward : -19.755, Timesteps: 50, Epsilon: 0.0009132420091324202, Alpha: 0.0029832935560859188\n",
      "Episode 1668, Avg Reward : -3.180353356890459, Timesteps: 283, Epsilon: 0.004291845493562232, Alpha: 0.0029815146094215863\n",
      "Episode 1669, Avg Reward : -19.755, Timesteps: 50, Epsilon: 0.0009124087591240877, Alpha: 0.0029797377830750892\n",
      "Episode 1670, Avg Reward : -19.755, Timesteps: 50, Epsilon: 0.0009115770282588879, Alpha: 0.0029779630732578916\n",
      "Episode 1671, Avg Reward : -19.755, Timesteps: 50, Epsilon: 0.0009107468123861568, Alpha: 0.002976190476190476\n",
      "Episode 1672, Avg Reward : -3.180353356890459, Timesteps: 283, Epsilon: 0.004273504273504274, Alpha: 0.0029744199881023203\n",
      "Episode 1673, Avg Reward : -19.755, Timesteps: 50, Epsilon: 0.0009099181073703367, Alpha: 0.002972651605231867\n",
      "Episode 1674, Avg Reward : -19.755, Timesteps: 50, Epsilon: 0.0009090909090909091, Alpha: 0.0029708853238265003\n",
      "Episode 1675, Avg Reward : -19.755, Timesteps: 50, Epsilon: 0.0009082652134423252, Alpha: 0.0029691211401425177\n",
      "Episode 1676, Avg Reward : -1.4981801470588236, Timesteps: 544, Epsilon: 0.016666666666666666, Alpha: 0.002967359050445104\n",
      "Episode 1677, Avg Reward : -19.755, Timesteps: 50, Epsilon: 0.0009074410163339384, Alpha: 0.0029655990510083037\n",
      "Episode 1678, Avg Reward : -19.755, Timesteps: 50, Epsilon: 0.0009066183136899366, Alpha: 0.0029638411381149973\n",
      "Episode 1679, Avg Reward : -3.180353356890459, Timesteps: 283, Epsilon: 0.00425531914893617, Alpha: 0.002962085308056872\n",
      "Episode 1680, Avg Reward : -19.755, Timesteps: 50, Epsilon: 0.0009057971014492754, Alpha: 0.002960331557134399\n",
      "Episode 1681, Avg Reward : -19.755, Timesteps: 50, Epsilon: 0.0009049773755656109, Alpha: 0.0029585798816568047\n",
      "Episode 1682, Avg Reward : -19.755, Timesteps: 50, Epsilon: 0.0009041591320072334, Alpha: 0.0029568302779420462\n",
      "Episode 1683, Avg Reward : -3.180353356890459, Timesteps: 283, Epsilon: 0.02, Alpha: 0.0029550827423167852\n",
      "Episode 1684, Avg Reward : -19.755, Timesteps: 50, Epsilon: 0.000903342366757001, Alpha: 0.0029533372711163615\n",
      "Episode 1685, Avg Reward : -19.755, Timesteps: 50, Epsilon: 0.0009025270758122744, Alpha: 0.0029515938606847697"
     ]
    },
    {
     "name": "stderr",
     "output_type": "stream",
     "text": [
      " 17%|█▋        | 1704/10000 [00:17<01:15, 109.77it/s]"
     ]
    },
    {
     "name": "stdout",
     "output_type": "stream",
     "text": [
      "\n",
      "Episode 1686, Avg Reward : -19.755, Timesteps: 50, Epsilon: 0.010526315789473684, Alpha: 0.0029498525073746312\n",
      "Episode 1687, Avg Reward : -3.180353356890459, Timesteps: 283, Epsilon: 0.00423728813559322, Alpha: 0.00294811320754717\n",
      "Episode 1688, Avg Reward : -19.755, Timesteps: 50, Epsilon: 0.0009017132551848512, Alpha: 0.0029463759575721863\n",
      "Episode 1689, Avg Reward : -19.755, Timesteps: 50, Epsilon: 0.0009009009009009009, Alpha: 0.0029446407538280327\n",
      "Episode 1690, Avg Reward : -1.5998828125, Timesteps: 512, Epsilon: 0.022727272727272728, Alpha: 0.002942907592701589\n",
      "Episode 1691, Avg Reward : -19.755, Timesteps: 50, Epsilon: 0.0009000900090009002, Alpha: 0.0029411764705882353\n",
      "Episode 1692, Avg Reward : -19.755, Timesteps: 50, Epsilon: 0.0008992805755395684, Alpha: 0.0029394473838918285\n",
      "Episode 1693, Avg Reward : -19.755, Timesteps: 50, Epsilon: 0.0008984725965858042, Alpha: 0.002937720329024677\n",
      "Episode 1694, Avg Reward : -3.180353356890459, Timesteps: 283, Epsilon: 0.0042194092827004225, Alpha: 0.002935995302407516\n",
      "Episode 1695, Avg Reward : -19.755, Timesteps: 50, Epsilon: 0.0008976660682226212, Alpha: 0.0029342723004694834\n",
      "Episode 1696, Avg Reward : -19.755, Timesteps: 50, Epsilon: 0.0008968609865470852, Alpha: 0.002932551319648094\n",
      "Episode 1697, Avg Reward : -19.755, Timesteps: 50, Epsilon: 0.000896057347670251, Alpha: 0.0029308323563892145\n",
      "Episode 1698, Avg Reward : -3.180353356890459, Timesteps: 283, Epsilon: 0.004201680672268907, Alpha: 0.0029291154071470417\n",
      "Episode 1699, Avg Reward : -19.755, Timesteps: 50, Epsilon: 0.0008952551477170994, Alpha: 0.0029274004683840747\n",
      "Episode 1700, Avg Reward : -19.755, Timesteps: 50, Epsilon: 0.000894454382826476, Alpha: 0.002925687536571094\n",
      "Episode 1701, Avg Reward : -3.180353356890459, Timesteps: 283, Epsilon: 0.004184100418410042, Alpha: 0.0029239766081871343\n",
      "Episode 1702, Avg Reward : -19.755, Timesteps: 50, Epsilon: 0.0008936550491510277, Alpha: 0.0029222676797194622\n",
      "Episode 1703, Avg Reward : -19.755, Timesteps: 50, Epsilon: 0.010416666666666668, Alpha: 0.0029205607476635517\n",
      "Episode 1704, Avg Reward : -19.755, Timesteps: 50, Epsilon: 0.0008928571428571429, Alpha: 0.002918855808523059\n",
      "Episode 1705, Avg Reward : -3.180353356890459, Timesteps: 283, Epsilon: 0.019607843137254905, Alpha: 0.0029171528588098016\n",
      "Episode 1706, Avg Reward : -19.755, Timesteps: 50, Epsilon: 0.0008920606601248886, Alpha: 0.0029154518950437317\n",
      "Episode 1707, Avg Reward : -19.755, Timesteps: 50, Epsilon: 0.0008912655971479501, Alpha: 0.002913752913752914\n",
      "Episode 1708, Avg Reward : -19.755, Timesteps: 50, Epsilon: 0.0008904719501335709, Alpha: 0.0029120559114735006\n",
      "Episode 1709, Avg Reward : -0.9326436781609192, Timesteps: 783, Epsilon: 0.045454545454545456, Alpha: 0.0029103608847497087"
     ]
    },
    {
     "name": "stderr",
     "output_type": "stream",
     "text": [
      " 17%|█▋        | 1727/10000 [00:18<01:23, 98.56it/s] "
     ]
    },
    {
     "name": "stdout",
     "output_type": "stream",
     "text": [
      "\n",
      "Episode 1710, Avg Reward : -19.755, Timesteps: 50, Epsilon: 0.0008896797153024911, Alpha: 0.0029086678301337987\n",
      "Episode 1711, Avg Reward : -19.755, Timesteps: 50, Epsilon: 0.0008888888888888889, Alpha: 0.0029069767441860465\n",
      "Episode 1712, Avg Reward : -2.613443113772455, Timesteps: 334, Epsilon: 0.09090909090909091, Alpha: 0.002905287623474724\n",
      "Episode 1713, Avg Reward : -19.755, Timesteps: 50, Epsilon: 0.0008880994671403199, Alpha: 0.0029036004645760743\n",
      "Episode 1714, Avg Reward : -19.755, Timesteps: 50, Epsilon: 0.0008873114463176575, Alpha: 0.002901915264074289\n",
      "Episode 1715, Avg Reward : -19.755, Timesteps: 50, Epsilon: 0.0008865248226950355, Alpha: 0.002900232018561485\n",
      "Episode 1716, Avg Reward : -3.180353356890459, Timesteps: 283, Epsilon: 0.004166666666666667, Alpha: 0.002898550724637681\n",
      "Episode 1717, Avg Reward : -19.755, Timesteps: 50, Epsilon: 0.0008857395925597874, Alpha: 0.0028968713789107765\n",
      "Episode 1718, Avg Reward : -19.755, Timesteps: 50, Epsilon: 0.0008849557522123895, Alpha: 0.002895193977996526\n",
      "Episode 1719, Avg Reward : -19.755, Timesteps: 50, Epsilon: 0.0008841732979664015, Alpha: 0.0028935185185185184\n",
      "Episode 1720, Avg Reward : -3.180353356890459, Timesteps: 283, Epsilon: 0.004149377593360996, Alpha: 0.002891844997108155\n",
      "Episode 1721, Avg Reward : -19.755, Timesteps: 50, Epsilon: 0.0008833922261484099, Alpha: 0.002890173410404624\n",
      "Episode 1722, Avg Reward : -19.755, Timesteps: 50, Epsilon: 0.00088261253309797, Alpha: 0.0028885037550548816\n",
      "Episode 1723, Avg Reward : -3.180353356890459, Timesteps: 283, Epsilon: 0.004132231404958678, Alpha: 0.002886836027713626\n",
      "Episode 1724, Avg Reward : -19.755, Timesteps: 50, Epsilon: 0.0008818342151675485, Alpha: 0.0028851702250432773\n",
      "Episode 1725, Avg Reward : -19.755, Timesteps: 50, Epsilon: 0.000881057268722467, Alpha: 0.0028835063437139563\n",
      "Episode 1726, Avg Reward : -19.755, Timesteps: 50, Epsilon: 0.0008802816901408452, Alpha: 0.002881844380403458\n",
      "Episode 1727, Avg Reward : -1.5964912280701755, Timesteps: 513, Epsilon: 0.034482758620689655, Alpha: 0.002880184331797235\n",
      "Episode 1728, Avg Reward : -19.755, Timesteps: 50, Epsilon: 0.0008795074758135445, Alpha: 0.0028785261945883708\n",
      "Episode 1729, Avg Reward : -19.755, Timesteps: 50, Epsilon: 0.0008787346221441125, Alpha: 0.00287686996547756\n",
      "Episode 1730, Avg Reward : -19.755, Timesteps: 50, Epsilon: 0.010309278350515465, Alpha: 0.0028752156411730877\n",
      "Episode 1731, Avg Reward : -3.180353356890459, Timesteps: 283, Epsilon: 0.00411522633744856, Alpha: 0.0028735632183908046\n",
      "Episode 1732, Avg Reward : -19.755, Timesteps: 50, Epsilon: 0.000877963125548727, Alpha: 0.002871912693854107\n",
      "Episode 1733, Avg Reward : -19.755, Timesteps: 50, Epsilon: 0.0008771929824561404, Alpha: 0.0028702640642939152"
     ]
    },
    {
     "name": "stderr",
     "output_type": "stream",
     "text": [
      " 18%|█▊        | 1750/10000 [00:18<01:19, 103.49it/s]"
     ]
    },
    {
     "name": "stdout",
     "output_type": "stream",
     "text": [
      "\n",
      "Episode 1734, Avg Reward : -3.180353356890459, Timesteps: 283, Epsilon: 0.004098360655737705, Alpha: 0.0028686173264486515\n",
      "Episode 1735, Avg Reward : -19.755, Timesteps: 50, Epsilon: 0.000876424189307625, Alpha: 0.00286697247706422\n",
      "Episode 1736, Avg Reward : -19.755, Timesteps: 50, Epsilon: 0.0008756567425569177, Alpha: 0.0028653295128939827\n",
      "Episode 1737, Avg Reward : -19.755, Timesteps: 50, Epsilon: 0.0008748906386701663, Alpha: 0.00286368843069874\n",
      "Episode 1738, Avg Reward : -3.180353356890459, Timesteps: 283, Epsilon: 0.004081632653061225, Alpha: 0.0028620492272467086\n",
      "Episode 1739, Avg Reward : -19.755, Timesteps: 50, Epsilon: 0.0008741258741258741, Alpha: 0.002860411899313501\n",
      "Episode 1740, Avg Reward : -19.755, Timesteps: 50, Epsilon: 0.0008733624454148472, Alpha: 0.002858776443682104\n",
      "Episode 1741, Avg Reward : -19.755, Timesteps: 50, Epsilon: 0.0008726003490401397, Alpha: 0.002857142857142857\n",
      "Episode 1742, Avg Reward : -4.523529411764706, Timesteps: 204, Epsilon: 0.09090909090909091, Alpha: 0.0028555111364934323\n",
      "Episode 1743, Avg Reward : -19.755, Timesteps: 50, Epsilon: 0.0008718395815170009, Alpha: 0.002853881278538813\n",
      "Episode 1744, Avg Reward : -19.755, Timesteps: 50, Epsilon: 0.0008710801393728224, Alpha: 0.002852253280091272\n",
      "Episode 1745, Avg Reward : -19.755, Timesteps: 50, Epsilon: 0.0008703220191470844, Alpha: 0.0028506271379703536\n",
      "Episode 1746, Avg Reward : -1.3521598639455776, Timesteps: 588, Epsilon: 0.04347826086956522, Alpha: 0.002849002849002849\n",
      "Episode 1747, Avg Reward : -19.755, Timesteps: 50, Epsilon: 0.01020408163265306, Alpha: 0.0028473804100227792\n",
      "Episode 1748, Avg Reward : -19.755, Timesteps: 50, Epsilon: 0.0008695652173913044, Alpha: 0.002845759817871372\n",
      "Episode 1749, Avg Reward : -19.755, Timesteps: 50, Epsilon: 0.0008688097306689836, Alpha: 0.002844141069397042\n",
      "Episode 1750, Avg Reward : -3.180353356890459, Timesteps: 283, Epsilon: 0.004065040650406504, Alpha: 0.0028425241614553724\n",
      "Episode 1751, Avg Reward : -19.755, Timesteps: 50, Epsilon: 0.0008680555555555556, Alpha: 0.002840909090909091\n",
      "Episode 1752, Avg Reward : -19.755, Timesteps: 50, Epsilon: 0.0008673026886383349, Alpha: 0.0028392958546280523\n",
      "Episode 1753, Avg Reward : -19.755, Timesteps: 50, Epsilon: 0.0008665511265164644, Alpha: 0.002837684449489217\n",
      "Episode 1754, Avg Reward : -3.180353356890459, Timesteps: 283, Epsilon: 0.004048582995951417, Alpha: 0.0028360748723766306\n",
      "Episode 1755, Avg Reward : -19.755, Timesteps: 50, Epsilon: 0.0008658008658008658, Alpha: 0.002834467120181406\n",
      "Episode 1756, Avg Reward : -19.755, Timesteps: 50, Epsilon: 0.000865051903114187, Alpha: 0.0028328611898017\n",
      "Episode 1757, Avg Reward : -3.180353356890459, Timesteps: 283, Epsilon: 0.004032258064516129, Alpha: 0.0028312570781426957"
     ]
    },
    {
     "name": "stderr",
     "output_type": "stream",
     "text": [
      " 18%|█▊        | 1776/10000 [00:18<01:17, 105.72it/s]"
     ]
    },
    {
     "name": "stdout",
     "output_type": "stream",
     "text": [
      "\n",
      "Episode 1758, Avg Reward : -19.755, Timesteps: 50, Epsilon: 0.000864304235090752, Alpha: 0.002829654782116582\n",
      "Episode 1759, Avg Reward : -19.755, Timesteps: 50, Epsilon: 0.0008635578583765113, Alpha: 0.002828054298642534\n",
      "Episode 1760, Avg Reward : -19.755, Timesteps: 50, Epsilon: 0.0008628127696289905, Alpha: 0.002826455624646693\n",
      "Episode 1761, Avg Reward : -3.180353356890459, Timesteps: 283, Epsilon: 0.004016064257028113, Alpha: 0.002824858757062147\n",
      "Episode 1762, Avg Reward : -19.755, Timesteps: 50, Epsilon: 0.0008620689655172415, Alpha: 0.0028232636928289105\n",
      "Episode 1763, Avg Reward : -19.755, Timesteps: 50, Epsilon: 0.0008613264427217917, Alpha: 0.0028216704288939053\n",
      "Episode 1764, Avg Reward : -19.755, Timesteps: 50, Epsilon: 0.0008605851979345956, Alpha: 0.0028200789622109417\n",
      "Episode 1765, Avg Reward : -3.5224124513618675, Timesteps: 257, Epsilon: 0.01639344262295082, Alpha: 0.002818489289740699\n",
      "Episode 1766, Avg Reward : -19.755, Timesteps: 50, Epsilon: 0.0008598452278589854, Alpha: 0.0028169014084507044\n",
      "Episode 1767, Avg Reward : -19.755, Timesteps: 50, Epsilon: 0.000859106529209622, Alpha: 0.0028153153153153156\n",
      "Episode 1768, Avg Reward : -1.5931128404669261, Timesteps: 514, Epsilon: 0.04166666666666667, Alpha: 0.002813731007315701\n",
      "Episode 1769, Avg Reward : -19.755, Timesteps: 50, Epsilon: 0.0008583690987124464, Alpha: 0.00281214848143982\n",
      "Episode 1770, Avg Reward : -19.755, Timesteps: 50, Epsilon: 0.0008576329331046313, Alpha: 0.0028105677346824056\n",
      "Episode 1771, Avg Reward : -19.755, Timesteps: 50, Epsilon: 0.000856898029134533, Alpha: 0.0028089887640449437\n",
      "Episode 1772, Avg Reward : -3.180353356890459, Timesteps: 283, Epsilon: 0.004, Alpha: 0.002807411566535654\n",
      "Episode 1773, Avg Reward : -19.755, Timesteps: 50, Epsilon: 0.0008561643835616439, Alpha: 0.0028058361391694727\n",
      "Episode 1774, Avg Reward : -19.755, Timesteps: 50, Epsilon: 0.000855431993156544, Alpha: 0.002804262478968031\n",
      "Episode 1775, Avg Reward : -19.755, Timesteps: 50, Epsilon: 0.010101010101010102, Alpha: 0.002802690582959641\n",
      "Episode 1776, Avg Reward : -3.180353356890459, Timesteps: 283, Epsilon: 0.019230769230769232, Alpha: 0.0028011204481792717\n",
      "Episode 1777, Avg Reward : -19.755, Timesteps: 50, Epsilon: 0.0008547008547008547, Alpha: 0.002799552071668533\n",
      "Episode 1778, Avg Reward : -19.755, Timesteps: 50, Epsilon: 0.0008539709649871905, Alpha: 0.002797985450475658\n",
      "Episode 1779, Avg Reward : -3.180353356890459, Timesteps: 283, Epsilon: 0.00398406374501992, Alpha: 0.0027964205816554807\n",
      "Episode 1780, Avg Reward : -19.755, Timesteps: 50, Epsilon: 0.0008532423208191126, Alpha: 0.002794857462269424\n",
      "Episode 1781, Avg Reward : -19.755, Timesteps: 50, Epsilon: 0.0008525149190110828, Alpha: 0.002793296089385475\n",
      "Episode 1782, Avg Reward : -19.755, Timesteps: 50, Epsilon: 0.0008517887563884157, Alpha: 0.0027917364600781687"
     ]
    },
    {
     "name": "stderr",
     "output_type": "stream",
     "text": [
      " 18%|█▊        | 1798/10000 [00:18<01:19, 102.56it/s]"
     ]
    },
    {
     "name": "stdout",
     "output_type": "stream",
     "text": [
      "\n",
      "Episode 1783, Avg Reward : -1.5931128404669261, Timesteps: 514, Epsilon: 0.04, Alpha: 0.0027901785714285715\n",
      "Episode 1784, Avg Reward : -19.755, Timesteps: 50, Epsilon: 0.0008510638297872341, Alpha: 0.002788622420524261\n",
      "Episode 1785, Avg Reward : -19.755, Timesteps: 50, Epsilon: 0.0008503401360544218, Alpha: 0.0027870680044593085\n",
      "Episode 1786, Avg Reward : -3.180353356890459, Timesteps: 283, Epsilon: 0.01886792452830189, Alpha: 0.002785515320334262\n",
      "Episode 1787, Avg Reward : -19.755, Timesteps: 50, Epsilon: 0.0008496176720475786, Alpha: 0.0027839643652561247\n",
      "Episode 1788, Avg Reward : -19.755, Timesteps: 50, Epsilon: 0.0008488964346349746, Alpha: 0.002782415136338342\n",
      "Episode 1789, Avg Reward : -19.755, Timesteps: 50, Epsilon: 0.0008481764206955047, Alpha: 0.0027808676307007783\n",
      "Episode 1790, Avg Reward : -3.180353356890459, Timesteps: 283, Epsilon: 0.003968253968253969, Alpha: 0.0027793218454697055\n",
      "Episode 1791, Avg Reward : -19.755, Timesteps: 50, Epsilon: 0.0008474576271186442, Alpha: 0.002777777777777778\n",
      "Episode 1792, Avg Reward : -19.755, Timesteps: 50, Epsilon: 0.01, Alpha: 0.00277623542476402\n",
      "Episode 1793, Avg Reward : -19.755, Timesteps: 50, Epsilon: 0.0008467400508044031, Alpha: 0.0027746947835738073\n",
      "Episode 1794, Avg Reward : -3.180353356890459, Timesteps: 283, Epsilon: 0.003952569169960474, Alpha: 0.002773155851358846\n",
      "Episode 1795, Avg Reward : -19.755, Timesteps: 50, Epsilon: 0.0008460236886632827, Alpha: 0.0027716186252771616\n",
      "Episode 1796, Avg Reward : -19.755, Timesteps: 50, Epsilon: 0.00084530853761623, Alpha: 0.002770083102493075\n",
      "Episode 1797, Avg Reward : -1.5931128404669261, Timesteps: 514, Epsilon: 0.038461538461538464, Alpha: 0.0027685492801771874\n",
      "Episode 1798, Avg Reward : -19.755, Timesteps: 50, Epsilon: 0.0008445945945945946, Alpha: 0.0027670171555063644\n",
      "Episode 1799, Avg Reward : -19.755, Timesteps: 50, Epsilon: 0.0008438818565400844, Alpha: 0.0027654867256637168\n",
      "Episode 1800, Avg Reward : -19.755, Timesteps: 50, Epsilon: 0.0008431703204047218, Alpha: 0.002763957987838585\n",
      "Episode 1801, Avg Reward : -3.180353356890459, Timesteps: 283, Epsilon: 0.003937007874015749, Alpha: 0.0027624309392265192\n",
      "Episode 1802, Avg Reward : -19.755, Timesteps: 50, Epsilon: 0.0008424599831508004, Alpha: 0.0027609055770292656\n",
      "Episode 1803, Avg Reward : -19.755, Timesteps: 50, Epsilon: 0.0008417508417508418, Alpha: 0.0027593818984547464\n",
      "Episode 1804, Avg Reward : -19.755, Timesteps: 50, Epsilon: 0.0008410428931875525, Alpha: 0.0027578599007170436\n",
      "Episode 1805, Avg Reward : -3.180353356890459, Timesteps: 283, Epsilon: 0.00392156862745098, Alpha: 0.0027563395810363835\n",
      "Episode 1806, Avg Reward : -19.755, Timesteps: 50, Epsilon: 0.0008403361344537816, Alpha: 0.0027548209366391185"
     ]
    },
    {
     "name": "stderr",
     "output_type": "stream",
     "text": [
      " 18%|█▊        | 1820/10000 [00:18<01:22, 98.63it/s] "
     ]
    },
    {
     "name": "stdout",
     "output_type": "stream",
     "text": [
      "\n",
      "Episode 1807, Avg Reward : -19.755, Timesteps: 50, Epsilon: 0.000839630562552477, Alpha: 0.0027533039647577094\n",
      "Episode 1808, Avg Reward : -2.181908396946565, Timesteps: 393, Epsilon: 0.00390625, Alpha: 0.00275178866263071\n",
      "Episode 1809, Avg Reward : -19.755, Timesteps: 50, Epsilon: 0.0008389261744966443, Alpha: 0.00275027502750275\n",
      "Episode 1810, Avg Reward : -19.755, Timesteps: 50, Epsilon: 0.0008382229673093044, Alpha: 0.002748763056624519\n",
      "Episode 1811, Avg Reward : -19.755, Timesteps: 50, Epsilon: 0.0008375209380234506, Alpha: 0.0027472527472527475\n",
      "Episode 1812, Avg Reward : -3.180353356890459, Timesteps: 283, Epsilon: 0.003891050583657588, Alpha: 0.0027457440966501922\n",
      "Episode 1813, Avg Reward : -19.755, Timesteps: 50, Epsilon: 0.0008368200836820084, Alpha: 0.0027442371020856204\n",
      "Episode 1814, Avg Reward : -19.755, Timesteps: 50, Epsilon: 0.0008361204013377927, Alpha: 0.0027427317608337905\n",
      "Episode 1815, Avg Reward : -19.755, Timesteps: 50, Epsilon: 0.0008354218880534671, Alpha: 0.0027412280701754384\n",
      "Episode 1816, Avg Reward : -1.5931128404669261, Timesteps: 514, Epsilon: 0.037037037037037035, Alpha: 0.0027397260273972603\n",
      "Episode 1817, Avg Reward : -19.755, Timesteps: 50, Epsilon: 0.0008347245409015025, Alpha: 0.002738225629791895\n",
      "Episode 1818, Avg Reward : -19.755, Timesteps: 50, Epsilon: 0.0008340283569641367, Alpha: 0.002736726874657909\n",
      "Episode 1819, Avg Reward : -3.180353356890459, Timesteps: 283, Epsilon: 0.003875968992248062, Alpha: 0.002735229759299781\n",
      "Episode 1820, Avg Reward : -19.755, Timesteps: 50, Epsilon: 0.0008333333333333334, Alpha: 0.002733734281027884\n",
      "Episode 1821, Avg Reward : -19.755, Timesteps: 50, Epsilon: 0.009900990099009901, Alpha: 0.00273224043715847\n",
      "Episode 1822, Avg Reward : -19.755, Timesteps: 50, Epsilon: 0.0008326394671107412, Alpha: 0.002730748225013654\n",
      "Episode 1823, Avg Reward : -3.180353356890459, Timesteps: 283, Epsilon: 0.0038610038610038615, Alpha: 0.0027292576419213977\n",
      "Episode 1824, Avg Reward : -19.755, Timesteps: 50, Epsilon: 0.0008319467554076539, Alpha: 0.0027277686852154935\n",
      "Episode 1825, Avg Reward : -19.755, Timesteps: 50, Epsilon: 0.0008312551953449709, Alpha: 0.0027262813522355507\n",
      "Episode 1826, Avg Reward : -19.755, Timesteps: 50, Epsilon: 0.0008305647840531562, Alpha: 0.0027247956403269754\n",
      "Episode 1827, Avg Reward : -3.180353356890459, Timesteps: 283, Epsilon: 0.0038461538461538464, Alpha: 0.0027233115468409588\n",
      "Episode 1828, Avg Reward : -19.755, Timesteps: 50, Epsilon: 0.0008298755186721993, Alpha: 0.0027218290691344584\n",
      "Episode 1829, Avg Reward : -19.755, Timesteps: 50, Epsilon: 0.0008291873963515756, Alpha: 0.0027203482045701846"
     ]
    },
    {
     "name": "stderr",
     "output_type": "stream",
     "text": [
      " 18%|█▊        | 1843/10000 [00:19<01:24, 96.50it/s]"
     ]
    },
    {
     "name": "stdout",
     "output_type": "stream",
     "text": [
      "\n",
      "Episode 1830, Avg Reward : -0.8934932349323489, Timesteps: 813, Epsilon: 0.016129032258064516, Alpha: 0.002718868950516585\n",
      "Episode 1831, Avg Reward : -19.755, Timesteps: 50, Epsilon: 0.0008285004142502072, Alpha: 0.002717391304347826\n",
      "Episode 1832, Avg Reward : -19.755, Timesteps: 50, Epsilon: 0.000827814569536424, Alpha: 0.002715915263443781\n",
      "Episode 1833, Avg Reward : -19.755, Timesteps: 50, Epsilon: 0.0008271298593879239, Alpha: 0.002714440825190011\n",
      "Episode 1834, Avg Reward : -3.180353356890459, Timesteps: 283, Epsilon: 0.0038314176245210726, Alpha: 0.0027129679869777536\n",
      "Episode 1835, Avg Reward : -19.755, Timesteps: 50, Epsilon: 0.0008264462809917356, Alpha: 0.0027114967462039045\n",
      "Episode 1836, Avg Reward : -19.755, Timesteps: 50, Epsilon: 0.0008257638315441784, Alpha: 0.0027100271002710027\n",
      "Episode 1837, Avg Reward : -19.755, Timesteps: 50, Epsilon: 0.009803921568627453, Alpha: 0.0027085590465872156\n",
      "Episode 1838, Avg Reward : -3.180353356890459, Timesteps: 283, Epsilon: 0.0038167938931297713, Alpha: 0.002707092582566324\n",
      "Episode 1839, Avg Reward : -19.755, Timesteps: 50, Epsilon: 0.0008250825082508251, Alpha: 0.0027056277056277055\n",
      "Episode 1840, Avg Reward : -19.755, Timesteps: 50, Epsilon: 0.0008244023083264633, Alpha: 0.0027041644131963224\n",
      "Episode 1841, Avg Reward : -3.180353356890459, Timesteps: 283, Epsilon: 0.0038022813688212928, Alpha: 0.002702702702702703\n",
      "Episode 1842, Avg Reward : -19.755, Timesteps: 50, Epsilon: 0.0008237232289950577, Alpha: 0.002701242571582928\n",
      "Episode 1843, Avg Reward : -19.755, Timesteps: 50, Epsilon: 0.000823045267489712, Alpha: 0.002699784017278618\n",
      "Episode 1844, Avg Reward : -19.755, Timesteps: 50, Epsilon: 0.0008223684210526316, Alpha: 0.002698327037236913\n",
      "Episode 1845, Avg Reward : -19.755, Timesteps: 50, Epsilon: 0.0008216926869350863, Alpha: 0.0026968716289104636\n",
      "Episode 1846, Avg Reward : -1.5897475728155341, Timesteps: 515, Epsilon: 0.07692307692307693, Alpha: 0.0026954177897574125\n",
      "Episode 1847, Avg Reward : -19.755, Timesteps: 50, Epsilon: 0.0008210180623973728, Alpha: 0.0026939655172413795\n",
      "Episode 1848, Avg Reward : -19.755, Timesteps: 50, Epsilon: 0.0008203445447087777, Alpha: 0.002692514808831449\n"
     ]
    },
    {
     "name": "stderr",
     "output_type": "stream",
     "text": [
      " 19%|█▊        | 1868/10000 [00:19<01:21, 100.34it/s]"
     ]
    },
    {
     "name": "stdout",
     "output_type": "stream",
     "text": [
      "Episode 1849, Avg Reward : -3.180353356890459, Timesteps: 283, Epsilon: 0.018518518518518517, Alpha: 0.0026910656620021526\n",
      "Episode 1850, Avg Reward : -19.755, Timesteps: 50, Epsilon: 0.000819672131147541, Alpha: 0.0026896180742334587\n",
      "Episode 1851, Avg Reward : -19.755, Timesteps: 50, Epsilon: 0.000819000819000819, Alpha: 0.002688172043010753\n",
      "Episode 1852, Avg Reward : -19.755, Timesteps: 50, Epsilon: 0.0008183306055646482, Alpha: 0.0026867275658248257\n",
      "Episode 1853, Avg Reward : -3.180353356890459, Timesteps: 283, Epsilon: 0.0037878787878787884, Alpha: 0.0026852846401718583\n",
      "Episode 1854, Avg Reward : -19.755, Timesteps: 50, Epsilon: 0.0008176614881439084, Alpha: 0.0026838432635534083\n",
      "Episode 1855, Avg Reward : -19.755, Timesteps: 50, Epsilon: 0.0008169934640522876, Alpha: 0.002682403433476395\n",
      "Episode 1856, Avg Reward : -19.755, Timesteps: 50, Epsilon: 0.0008163265306122449, Alpha: 0.002680965147453083\n",
      "Episode 1857, Avg Reward : -5.5963313609467455, Timesteps: 169, Epsilon: 0.05, Alpha: 0.0026795284030010718\n",
      "Episode 1858, Avg Reward : -19.755, Timesteps: 50, Epsilon: 0.0008156606851549756, Alpha: 0.0026780931976432784\n",
      "Episode 1859, Avg Reward : -19.755, Timesteps: 50, Epsilon: 0.000814995925020375, Alpha: 0.0026766595289079227\n",
      "Episode 1860, Avg Reward : -2.6884290030211484, Timesteps: 331, Epsilon: 0.018181818181818184, Alpha: 0.002675227394328518\n",
      "Episode 1861, Avg Reward : -19.755, Timesteps: 50, Epsilon: 0.0008143322475570033, Alpha: 0.00267379679144385\n",
      "Episode 1862, Avg Reward : -19.755, Timesteps: 50, Epsilon: 0.0008136696501220504, Alpha: 0.002672367717797969\n",
      "Episode 1863, Avg Reward : -19.755, Timesteps: 50, Epsilon: 0.0008130081300813008, Alpha: 0.002670940170940171\n",
      "Episode 1864, Avg Reward : -3.180353356890459, Timesteps: 283, Epsilon: 0.0037735849056603774, Alpha: 0.0026695141484249863\n",
      "Episode 1865, Avg Reward : -19.755, Timesteps: 50, Epsilon: 0.0008123476848090984, Alpha: 0.0026680896478121665\n",
      "Episode 1866, Avg Reward : -19.755, Timesteps: 50, Epsilon: 0.009708737864077669, Alpha: 0.0026666666666666666\n",
      "Episode 1867, Avg Reward : -19.755, Timesteps: 50, Epsilon: 0.0008116883116883117, Alpha: 0.0026652452025586353\n",
      "Episode 1868, Avg Reward : -1.5727692307692311, Timesteps: 520, Epsilon: 0.022222222222222223, Alpha: 0.002663825253063399\n",
      "Episode 1869, Avg Reward : -19.755, Timesteps: 50, Epsilon: 0.0008110300081103001, Alpha: 0.0026624068157614484\n",
      "Episode 1870, Avg Reward : -19.755, Timesteps: 50, Epsilon: 0.0008103727714748784, Alpha: 0.0026609898882384245\n",
      "Episode 1871, Avg Reward : -3.180353356890459, Timesteps: 283, Epsilon: 0.0037593984962406013, Alpha: 0.0026595744680851063\n",
      "Episode 1872, Avg Reward : -19.755, Timesteps: 50, Epsilon: 0.0008097165991902835, Alpha: 0.002658160552897395\n",
      "Episode 1873, Avg Reward : -19.755, Timesteps: 50, Epsilon: 0.0008090614886731392, Alpha: 0.002656748140276302\n",
      "Episode 1874, Avg Reward : -19.755, Timesteps: 50, Epsilon: 0.0008084074373484237, Alpha: 0.002655337227827934"
     ]
    },
    {
     "name": "stderr",
     "output_type": "stream",
     "text": [
      " 19%|█▉        | 1881/10000 [00:19<01:24, 96.42it/s] \n"
     ]
    },
    {
     "name": "stdout",
     "output_type": "stream",
     "text": [
      "\n",
      "Episode 1875, Avg Reward : -3.180353356890459, Timesteps: 283, Epsilon: 0.0037453183520599256, Alpha: 0.002653927813163482\n",
      "Episode 1876, Avg Reward : -19.755, Timesteps: 50, Epsilon: 0.0008077544426494346, Alpha: 0.002652519893899204\n",
      "Episode 1877, Avg Reward : -19.755, Timesteps: 50, Epsilon: 0.0008071025020177562, Alpha: 0.002651113467656416\n",
      "Episode 1878, Avg Reward : -3.180353356890459, Timesteps: 283, Epsilon: 0.0037313432835820895, Alpha: 0.002649708532061473\n",
      "Episode 1879, Avg Reward : -19.755, Timesteps: 50, Epsilon: 0.0008064516129032258, Alpha: 0.0026483050847457626\n",
      "Episode 1880, Avg Reward : -19.755, Timesteps: 50, Epsilon: 0.0008058017727639002, Alpha: 0.0026469031233456856\n",
      "Episode 1881, Avg Reward : -19.755, Timesteps: 50, Epsilon: 0.0008051529790660225, Alpha: 0.0026455026455026454\n"
     ]
    },
    {
     "ename": "KeyboardInterrupt",
     "evalue": "",
     "output_type": "error",
     "traceback": [
      "\u001b[0;31m---------------------------------------------------------------------------\u001b[0m",
      "\u001b[0;31mKeyboardInterrupt\u001b[0m                         Traceback (most recent call last)",
      "\u001b[0;32m<ipython-input-7-1e09fd4d4987>\u001b[0m in \u001b[0;36m<module>\u001b[0;34m\u001b[0m\n\u001b[1;32m     36\u001b[0m \u001b[0;34m\u001b[0m\u001b[0m\n\u001b[1;32m     37\u001b[0m         \u001b[0;31m# Choosing the next action\u001b[0m\u001b[0;34m\u001b[0m\u001b[0;34m\u001b[0m\u001b[0;34m\u001b[0m\u001b[0m\n\u001b[0;32m---> 38\u001b[0;31m         \u001b[0maction2\u001b[0m \u001b[0;34m=\u001b[0m \u001b[0mepsilon_greedy\u001b[0m\u001b[0;34m(\u001b[0m\u001b[0mQ\u001b[0m\u001b[0;34m,\u001b[0m \u001b[0mstate2\u001b[0m\u001b[0;34m[\u001b[0m\u001b[0;34m'state_id'\u001b[0m\u001b[0;34m]\u001b[0m\u001b[0;34m,\u001b[0m \u001b[0mn_actions\u001b[0m\u001b[0;34m,\u001b[0m \u001b[0mepsilon\u001b[0m\u001b[0;34m)\u001b[0m\u001b[0;34m\u001b[0m\u001b[0;34m\u001b[0m\u001b[0m\n\u001b[0m\u001b[1;32m     39\u001b[0m         \u001b[0msteps_per_state\u001b[0m \u001b[0;34m=\u001b[0m \u001b[0mupdate_steps_per_state\u001b[0m\u001b[0;34m(\u001b[0m\u001b[0msteps_per_state\u001b[0m\u001b[0;34m,\u001b[0m \u001b[0mstate2\u001b[0m\u001b[0;34m[\u001b[0m\u001b[0;34m'state_id'\u001b[0m\u001b[0;34m]\u001b[0m\u001b[0;34m)\u001b[0m\u001b[0;34m\u001b[0m\u001b[0;34m\u001b[0m\u001b[0m\n\u001b[1;32m     40\u001b[0m \u001b[0;34m\u001b[0m\u001b[0m\n",
      "\u001b[0;32m~/Projects/doggo/src/features/rl_tools.py\u001b[0m in \u001b[0;36mepsilon_greedy\u001b[0;34m(Q, state_id, n_actions, epsilon, Q2)\u001b[0m\n\u001b[1;32m     73\u001b[0m     \u001b[0;32melse\u001b[0m\u001b[0;34m:\u001b[0m\u001b[0;34m\u001b[0m\u001b[0;34m\u001b[0m\u001b[0m\n\u001b[1;32m     74\u001b[0m         \u001b[0;32mif\u001b[0m \u001b[0;32mnot\u001b[0m \u001b[0mQ2\u001b[0m\u001b[0;34m:\u001b[0m\u001b[0;34m\u001b[0m\u001b[0;34m\u001b[0m\u001b[0m\n\u001b[0;32m---> 75\u001b[0;31m             \u001b[0maction\u001b[0m \u001b[0;34m=\u001b[0m \u001b[0mselect_best_action\u001b[0m\u001b[0;34m(\u001b[0m\u001b[0mQ\u001b[0m\u001b[0;34m[\u001b[0m\u001b[0mstate_id\u001b[0m\u001b[0;34m]\u001b[0m\u001b[0;34m)\u001b[0m\u001b[0;34m\u001b[0m\u001b[0;34m\u001b[0m\u001b[0m\n\u001b[0m\u001b[1;32m     76\u001b[0m         \u001b[0;32melse\u001b[0m\u001b[0;34m:\u001b[0m\u001b[0;34m\u001b[0m\u001b[0;34m\u001b[0m\u001b[0m\n\u001b[1;32m     77\u001b[0m             \u001b[0maction\u001b[0m \u001b[0;34m=\u001b[0m \u001b[0mselect_best_action\u001b[0m\u001b[0;34m(\u001b[0m\u001b[0mQ\u001b[0m\u001b[0;34m[\u001b[0m\u001b[0mstate_id\u001b[0m\u001b[0;34m]\u001b[0m \u001b[0;34m+\u001b[0m \u001b[0mQ2\u001b[0m\u001b[0;34m[\u001b[0m\u001b[0mstate_id\u001b[0m\u001b[0;34m]\u001b[0m\u001b[0;34m)\u001b[0m\u001b[0;34m\u001b[0m\u001b[0;34m\u001b[0m\u001b[0m\n",
      "\u001b[0;32m~/Projects/doggo/src/features/rl_tools.py\u001b[0m in \u001b[0;36mselect_best_action\u001b[0;34m(Q_state)\u001b[0m\n\u001b[1;32m     55\u001b[0m     \u001b[0mwinner\u001b[0m \u001b[0;34m=\u001b[0m \u001b[0mnp\u001b[0m\u001b[0;34m.\u001b[0m\u001b[0margwhere\u001b[0m\u001b[0;34m(\u001b[0m\u001b[0mQ_state\u001b[0m \u001b[0;34m==\u001b[0m \u001b[0mnp\u001b[0m\u001b[0;34m.\u001b[0m\u001b[0mamax\u001b[0m\u001b[0;34m(\u001b[0m\u001b[0mQ_state\u001b[0m\u001b[0;34m)\u001b[0m\u001b[0;34m)\u001b[0m\u001b[0;34m\u001b[0m\u001b[0;34m\u001b[0m\u001b[0m\n\u001b[1;32m     56\u001b[0m     \u001b[0mwinner_list\u001b[0m \u001b[0;34m=\u001b[0m \u001b[0mwinner\u001b[0m\u001b[0;34m.\u001b[0m\u001b[0mflatten\u001b[0m\u001b[0;34m(\u001b[0m\u001b[0;34m)\u001b[0m\u001b[0;34m.\u001b[0m\u001b[0mtolist\u001b[0m\u001b[0;34m(\u001b[0m\u001b[0;34m)\u001b[0m\u001b[0;34m\u001b[0m\u001b[0;34m\u001b[0m\u001b[0m\n\u001b[0;32m---> 57\u001b[0;31m     \u001b[0maction\u001b[0m \u001b[0;34m=\u001b[0m \u001b[0mrandom\u001b[0m\u001b[0;34m.\u001b[0m\u001b[0mchoice\u001b[0m\u001b[0;34m(\u001b[0m\u001b[0mwinner_list\u001b[0m\u001b[0;34m)\u001b[0m\u001b[0;34m\u001b[0m\u001b[0;34m\u001b[0m\u001b[0m\n\u001b[0m\u001b[1;32m     58\u001b[0m     \u001b[0;32mreturn\u001b[0m \u001b[0maction\u001b[0m\u001b[0;34m\u001b[0m\u001b[0;34m\u001b[0m\u001b[0m\n\u001b[1;32m     59\u001b[0m \u001b[0;34m\u001b[0m\u001b[0m\n",
      "\u001b[0;32m~/Projects/doggo/.venv/lib/python3.7/random.py\u001b[0m in \u001b[0;36mchoice\u001b[0;34m(self, seq)\u001b[0m\n\u001b[1;32m    257\u001b[0m         \u001b[0;34m\"\"\"Choose a random element from a non-empty sequence.\"\"\"\u001b[0m\u001b[0;34m\u001b[0m\u001b[0;34m\u001b[0m\u001b[0m\n\u001b[1;32m    258\u001b[0m         \u001b[0;32mtry\u001b[0m\u001b[0;34m:\u001b[0m\u001b[0;34m\u001b[0m\u001b[0;34m\u001b[0m\u001b[0m\n\u001b[0;32m--> 259\u001b[0;31m             \u001b[0mi\u001b[0m \u001b[0;34m=\u001b[0m \u001b[0mself\u001b[0m\u001b[0;34m.\u001b[0m\u001b[0m_randbelow\u001b[0m\u001b[0;34m(\u001b[0m\u001b[0mlen\u001b[0m\u001b[0;34m(\u001b[0m\u001b[0mseq\u001b[0m\u001b[0;34m)\u001b[0m\u001b[0;34m)\u001b[0m\u001b[0;34m\u001b[0m\u001b[0;34m\u001b[0m\u001b[0m\n\u001b[0m\u001b[1;32m    260\u001b[0m         \u001b[0;32mexcept\u001b[0m \u001b[0mValueError\u001b[0m\u001b[0;34m:\u001b[0m\u001b[0;34m\u001b[0m\u001b[0;34m\u001b[0m\u001b[0m\n\u001b[1;32m    261\u001b[0m             \u001b[0;32mraise\u001b[0m \u001b[0mIndexError\u001b[0m\u001b[0;34m(\u001b[0m\u001b[0;34m'Cannot choose from an empty sequence'\u001b[0m\u001b[0;34m)\u001b[0m \u001b[0;32mfrom\u001b[0m \u001b[0;32mNone\u001b[0m\u001b[0;34m\u001b[0m\u001b[0;34m\u001b[0m\u001b[0m\n",
      "\u001b[0;31mKeyboardInterrupt\u001b[0m: "
     ]
    }
   ],
   "source": [
    "for episode in tqdm(range(params['n_episodes'])):\n",
    "    # episode = 0\n",
    "\n",
    "    evo_episode = {\n",
    "        'n_episode_steps': 0\n",
    "        , 'done': False\n",
    "        , 'episode_sum_reward': 0\n",
    "        , 'evolution_sum_happiness': 0\n",
    "    }\n",
    "\n",
    "    state1 = env_reset()\n",
    "    evo_episode['evolution_sum_happiness'] += get_happiness(state1)\n",
    "\n",
    "    # Update parameters\n",
    "    epsilon = get_epsilon(steps_per_state[state1['state_id']], params['init_epsilon'])\n",
    "    evo_training['checking']['evo_epsilon'].append(epsilon)\n",
    "    alpha = get_alpha(steps_per_state[state1['state_id']], params['init_alpha'])\n",
    "    evo_training['checking']['evo_alpha'].append(alpha)\n",
    "\n",
    "    action1 = epsilon_greedy(Q, state1['state_id'], n_actions, epsilon)\n",
    "    steps_per_state = update_steps_per_state(steps_per_state, state1['state_id'])\n",
    "\n",
    "    while (not evo_episode['done']) and (evo_episode['n_episode_steps'] < params['nmax_steps']):\n",
    "\n",
    "        # Getting the next state\n",
    "        state2, reward1, evo_episode['done'], info = env_step(state1, action1)\n",
    "\n",
    "        evo_episode['episode_sum_reward'] += reward1\n",
    "        evo_episode['evolution_sum_happiness'] += get_happiness(state2)\n",
    "        evo_training['checking']['empirical_return'].append(reward1)\n",
    "        evo_training['checking']['predicted_value'].append(Q[state1['state_id']][action1])\n",
    "\n",
    "        # Update parameters\n",
    "        epsilon = get_epsilon(steps_per_state[state2['state_id']], params['init_epsilon'])\n",
    "        evo_training['checking']['evo_epsilon'].append(epsilon)\n",
    "\n",
    "        # Choosing the next action\n",
    "        action2 = epsilon_greedy(Q, state2['state_id'], n_actions, epsilon)\n",
    "        steps_per_state = update_steps_per_state(steps_per_state, state2['state_id'])\n",
    "\n",
    "        # Learning the Q-value\n",
    "        method_params = {'alpha': alpha, 'gamma': params['gamma']}\n",
    "        Q = update_Q_SARSA(Q, state1['state_id'], action1, reward1, state2['state_id'], action2, method_params)\n",
    "\n",
    "        # Updating the respective values\n",
    "        state1 = state2\n",
    "        action1 = action2\n",
    "        evo_episode['n_episode_steps'] += 1\n",
    "\n",
    "\n",
    "    print('Episode {}, Avg Reward : {}, Timesteps: {}, Epsilon: {}, Alpha: {}'.format(\n",
    "        episode + 1,\n",
    "        evo_episode['episode_sum_reward'] / evo_episode['n_episode_steps'],\n",
    "        evo_episode['n_episode_steps'], epsilon, alpha))\n",
    "\n",
    "\n",
    "    evo_training['evo_avg_reward_per_step'].append(evo_episode['episode_sum_reward'] / evo_episode['n_episode_steps'])\n",
    "    evo_training['evo_n_steps'].append(evo_episode['n_episode_steps'])\n",
    "    evo_training['evo_avg_happiness'].append(evo_episode['evolution_sum_happiness'] / evo_episode['n_episode_steps'])\n",
    "\n",
    "    # display_analyse_Q(Q)"
   ]
  },
  {
   "cell_type": "code",
   "execution_count": 9,
   "metadata": {
    "ExecuteTime": {
     "end_time": "2020-05-14T07:49:33.803008Z",
     "start_time": "2020-05-14T07:49:33.792779Z"
    }
   },
   "outputs": [
    {
     "ename": "AttributeError",
     "evalue": "'list' object has no attribute 'plot'",
     "output_type": "error",
     "traceback": [
      "\u001b[0;31m---------------------------------------------------------------------------\u001b[0m",
      "\u001b[0;31mAttributeError\u001b[0m                            Traceback (most recent call last)",
      "\u001b[0;32m<ipython-input-9-5e882d1ee0d6>\u001b[0m in \u001b[0;36m<module>\u001b[0;34m\u001b[0m\n\u001b[0;32m----> 1\u001b[0;31m \u001b[0mevo_training\u001b[0m\u001b[0;34m[\u001b[0m\u001b[0;34m'checking'\u001b[0m\u001b[0;34m]\u001b[0m\u001b[0;34m[\u001b[0m\u001b[0;34m'evo_epsilon'\u001b[0m\u001b[0;34m]\u001b[0m\u001b[0;34m.\u001b[0m\u001b[0mplot\u001b[0m\u001b[0;34m(\u001b[0m\u001b[0;34m)\u001b[0m\u001b[0;34m\u001b[0m\u001b[0;34m\u001b[0m\u001b[0m\n\u001b[0m",
      "\u001b[0;31mAttributeError\u001b[0m: 'list' object has no attribute 'plot'"
     ]
    }
   ],
   "source": [
    ".plot()"
   ]
  },
  {
   "cell_type": "code",
   "execution_count": 11,
   "metadata": {
    "ExecuteTime": {
     "end_time": "2020-05-14T07:50:25.280209Z",
     "start_time": "2020-05-14T07:50:24.479643Z"
    }
   },
   "outputs": [
    {
     "data": {
      "image/png": "[encoded data removed]",
      "text/plain": [
       "<Figure size 432x288 with 1 Axes>"
      ]
     },
     "metadata": {
      "needs_background": "light"
     },
     "output_type": "display_data"
    }
   ],
   "source": [
    "import matplotlib.pyplot as plt\n",
    "\n",
    "y = evo_training['checking']['evo_epsilon']\n",
    "x = range(len(y))\n",
    "\n",
    "fig = plt.figure()\n",
    "plt.plot(x, y)\n",
    "plt.yscale('log')\n",
    "plt.title('Epsilon')\n",
    "plt.xlabel('Episode batch')\n",
    "plt.ylabel('Epsilon (log scale)')\n",
    "plt.grid(True)\n",
    "plt.tight_layout()\n",
    "plt.show()"
   ]
  },
  {
   "cell_type": "code",
   "execution_count": null,
   "metadata": {},
   "outputs": [],
   "source": [
    "# Add an min for epsilon (0.1 ?)\n",
    "# epsilon fixed (and compare with different plots)\n",
    "# fixed alpha /learning rate\n",
    "# decay rate -> multiplied by 0.99 every time\n",
    "# alpha_t(a) = 1 / (1 + k_a) with k_a the number of preceding selections of action a\n",
    "# ε-greedy VDBE-Boltzmann (http://www.tokic.com/www/tokicm/publikationen/papers/AdaptiveEpsilonGreedyExploration.pdf)"
   ]
  },
  {
   "cell_type": "code",
   "execution_count": 13,
   "metadata": {
    "ExecuteTime": {
     "end_time": "2020-05-14T11:42:39.114244Z",
     "start_time": "2020-05-14T11:42:39.108598Z"
    }
   },
   "outputs": [
    {
     "name": "stdout",
     "output_type": "stream",
     "text": [
      "{'method': 'SARSA', 'epsilon': {'init_epsilon': 1, 'decay_epsilon': 'per_state', 'min_epsilon': 0.1}, 'alpha': {'init_alpha': 1, 'decay_alpha': 'fixed', 'min_alpha': -1}, 'init_Q_type': 'ones', 'n_episodes': 1000000, 'nmax_steps': 1440, 'gamma': 0.95, 'render_episode': False, 'update_episode_division': 10}\n"
     ]
    }
   ],
   "source": [
    "method = 'sarsa'\n",
    "\n",
    "# Parametrisation\n",
    "params = json.loads(open('src/models/value_based/sarsa/{}.json'.format(method)).read())\n",
    "print(params)"
   ]
  },
  {
   "cell_type": "code",
   "execution_count": null,
   "metadata": {},
   "outputs": [],
   "source": [
    "def get_epsilon(params_epsilon, episode, steps_state):\n",
    "    \n",
    "    if params_epsilon['decay_epsilon'] == 'fixed':\n",
    "        epsilon = params_epsilon['init_epsilon']\n",
    "    elif params_epsilon['decay_epsilon'] == 'per_episode':\n",
    "        epsilon = params_epsilon['init_epsilon'] / (episode + 1)\n",
    "    elif params_epsilon['decay_epsilon'] == 'per_state':\n",
    "        epsilon = params_epsilon['init_epsilon'] / (steps_state + 1)\n",
    "    elif params_epsilon['decay_epsilon'] == 'rate':\n",
    "        epsilon = params_epsilon['init_epsilon'] * 0.99**episode\n",
    "    else:\n",
    "        print('Epsilon - Decay unknown')\n",
    "        \n",
    "    return max(epsilon, params_epsilon['min_epsilon'])"
   ]
  },
  {
   "cell_type": "code",
   "execution_count": null,
   "metadata": {},
   "outputs": [],
   "source": [
    "def get_alpha(params_alpha, episode, steps_state):\n",
    "    \n",
    "    if params_epsilon['decay_alpha'] == 'fixed':\n",
    "        alpha = params_epsilon['init_alpha']\n",
    "    elif params_epsilon['decay_alpha'] == 'per_episode':\n",
    "        alpha = params_epsilon['init_alpha'] / (episode + 1)\n",
    "    elif params_epsilon['decay_alpha'] == 'per_state':\n",
    "        alpha = params_epsilon['init_alpha'] / (steps_state + 1)\n",
    "    elif params_epsilon['decay_alpha'] == 'rate':\n",
    "        alpha = params_epsilon['init_alpha'] * 0.99**episode\n",
    "    else:\n",
    "        print('Alpha - Decay unknown')\n",
    "        \n",
    "    return max(alpha, params_epsilon['min_alpha'])"
   ]
  },
  {
   "cell_type": "code",
   "execution_count": 15,
   "metadata": {
    "ExecuteTime": {
     "end_time": "2020-05-14T12:20:16.314589Z",
     "start_time": "2020-05-14T12:20:16.307584Z"
    }
   },
   "outputs": [
    {
     "data": {
      "text/plain": [
       "268895"
      ]
     },
     "execution_count": 15,
     "metadata": {},
     "output_type": "execute_result"
    }
   ],
   "source": [
    "len(evo_training['checking']['evo_epsilon'])"
   ]
  },
  {
   "cell_type": "code",
   "execution_count": 16,
   "metadata": {
    "ExecuteTime": {
     "end_time": "2020-05-14T12:21:27.983678Z",
     "start_time": "2020-05-14T12:21:27.971434Z"
    }
   },
   "outputs": [],
   "source": [
    "from src.utils.maths import running_mean"
   ]
  },
  {
   "cell_type": "code",
   "execution_count": 17,
   "metadata": {
    "ExecuteTime": {
     "end_time": "2020-05-14T12:22:07.738435Z",
     "start_time": "2020-05-14T12:22:07.733062Z"
    }
   },
   "outputs": [],
   "source": [
    "evo_epsilon = evo_training['checking']['evo_epsilon']"
   ]
  },
  {
   "cell_type": "code",
   "execution_count": 42,
   "metadata": {
    "ExecuteTime": {
     "end_time": "2020-05-14T12:28:28.678240Z",
     "start_time": "2020-05-14T12:28:28.228554Z"
    }
   },
   "outputs": [
    {
     "data": {
      "image/png": "[encoded data removed]",
      "text/plain": [
       "<Figure size 432x288 with 1 Axes>"
      ]
     },
     "metadata": {
      "needs_background": "light"
     },
     "output_type": "display_data"
    }
   ],
   "source": [
    "def get_avg_n_points(list_points, n_points):\n",
    "    n_moving_points = int(np.ceil(len(list_points) / n_points))\n",
    "    y_all = running_mean(evo_epsilon, n_moving_points)\n",
    "    y = [list_points[0]] + [j for i,j in enumerate(y_all) if i % n_moving_points == 0] + [y_all[-1]]\n",
    "    return y\n",
    "\n",
    "y = get_avg_n_points(evo_epsilon, 100)\n",
    "x = range(len(y))\n",
    "\n",
    "fig = plt.figure()\n",
    "plt.plot(x, y)\n",
    "plt.yscale('log')\n",
    "plt.title('Epsilon')\n",
    "plt.xlabel('Episode batch')\n",
    "plt.ylabel('Epsilon (log scale)')\n",
    "plt.grid(True)\n",
    "plt.tight_layout()\n",
    "plt.show()"
   ]
  },
  {
   "cell_type": "code",
   "execution_count": 50,
   "metadata": {
    "ExecuteTime": {
     "end_time": "2020-05-14T12:40:18.346596Z",
     "start_time": "2020-05-14T12:40:18.342078Z"
    }
   },
   "outputs": [
    {
     "data": {
      "text/plain": [
       "array([0., 0., 0., 0.])"
      ]
     },
     "execution_count": 50,
     "metadata": {},
     "output_type": "execute_result"
    }
   ],
   "source": [
    "default_Q_values = np.full(\n",
    "    shape=4,\n",
    "    fill_value=float('0')\n",
    ")\n",
    "default_Q_values"
   ]
  },
  {
   "cell_type": "code",
   "execution_count": 46,
   "metadata": {
    "ExecuteTime": {
     "end_time": "2020-05-14T12:39:56.437069Z",
     "start_time": "2020-05-14T12:39:56.431134Z"
    }
   },
   "outputs": [
    {
     "data": {
      "text/plain": [
       "array([0., 0., 0., 0.])"
      ]
     },
     "execution_count": 46,
     "metadata": {},
     "output_type": "execute_result"
    }
   ],
   "source": [
    "default_Q_values = np.zeros(4)\n",
    "default_Q_values"
   ]
  },
  {
   "cell_type": "code",
   "execution_count": 56,
   "metadata": {
    "ExecuteTime": {
     "end_time": "2020-05-14T12:57:48.216671Z",
     "start_time": "2020-05-14T12:57:48.210762Z"
    }
   },
   "outputs": [
    {
     "data": {
      "text/plain": [
       "19.999999999999986"
      ]
     },
     "execution_count": 56,
     "metadata": {},
     "output_type": "execute_result"
    }
   ],
   "source": [
    "V_max = get_discounted_reward(t=0, l_rewards_episode=np.ones(params['nmax_steps']), gamma=params['gamma'])\n",
    "V_max"
   ]
  },
  {
   "cell_type": "code",
   "execution_count": 53,
   "metadata": {
    "ExecuteTime": {
     "end_time": "2020-05-14T12:56:41.810922Z",
     "start_time": "2020-05-14T12:56:41.804601Z"
    }
   },
   "outputs": [],
   "source": [
    "from src.features.rl_tools import get_discounted_reward"
   ]
  },
  {
   "cell_type": "code",
   "execution_count": 60,
   "metadata": {
    "ExecuteTime": {
     "end_time": "2020-05-14T13:28:36.793796Z",
     "start_time": "2020-05-14T13:28:36.783185Z"
    }
   },
   "outputs": [
    {
     "data": {
      "text/plain": [
       "1.5553079898367456e+67"
      ]
     },
     "execution_count": 60,
     "metadata": {},
     "output_type": "execute_result"
    }
   ],
   "source": []
  },
  {
   "cell_type": "code",
   "execution_count": null,
   "metadata": {},
   "outputs": [],
   "source": [
    "parmas"
   ]
  }
 ],
 "metadata": {
  "hide_input": false,
  "kernelspec": {
   "display_name": "doggo",
   "language": "python",
   "name": "doggo"
  },
  "language_info": {
   "codemirror_mode": {
    "name": "ipython",
    "version": 3
   },
   "file_extension": ".py",
   "mimetype": "text/x-python",
   "name": "python",
   "nbconvert_exporter": "python",
   "pygments_lexer": "ipython3",
   "version": "3.7.5"
  },
  "toc": {
   "base_numbering": 1,
   "nav_menu": {},
   "number_sections": true,
   "sideBar": true,
   "skip_h1_title": false,
   "title_cell": "Table of Contents",
   "title_sidebar": "Contents",
   "toc_cell": false,
   "toc_position": {},
   "toc_section_display": true,
   "toc_window_display": false
  }
 },
 "nbformat": 4,
 "nbformat_minor": 2
}
