{
 "cells": [
  {
   "cell_type": "code",
   "execution_count": 1,
   "metadata": {
    "ExecuteTime": {
     "end_time": "2020-04-23T17:13:10.905867Z",
     "start_time": "2020-04-23T17:13:10.312810Z"
    }
   },
   "outputs": [],
   "source": [
    "import numpy as np\n",
    "import pandas as pd\n",
    "import random\n",
    "import matplotlib.pyplot as plt\n",
    "from tqdm.auto import trange"
   ]
  },
  {
   "cell_type": "markdown",
   "metadata": {
    "ExecuteTime": {
     "end_time": "2020-04-21T12:06:30.647525Z",
     "start_time": "2020-04-21T12:06:30.644740Z"
    }
   },
   "source": [
    "# Functions for creating a dog"
   ]
  },
  {
   "cell_type": "code",
   "execution_count": 2,
   "metadata": {
    "ExecuteTime": {
     "end_time": "2020-04-23T17:13:10.912950Z",
     "start_time": "2020-04-23T17:13:10.908399Z"
    }
   },
   "outputs": [],
   "source": [
    "WALKING_TIME = 0\n",
    "EATING_TIME = 0\n",
    "PLAYING_TIME = 0\n",
    "\n",
    "food_consumption_rate = 1.0 / (30 * 3600)\n",
    "affection_consumption_rate = 1.0 / (50 * 3600)\n",
    "walking_fat_converge_rate = 0.2\n",
    "walking_affection_converge_rate = 0.4\n",
    "playing_fat_converge_rate = 0.1\n",
    "playing_affection_converge_rate = 0.20\n",
    "eating_food_increase = 0.6\n",
    "eating_fat_increase = 0.25"
   ]
  },
  {
   "cell_type": "code",
   "execution_count": 3,
   "metadata": {
    "ExecuteTime": {
     "end_time": "2020-04-23T17:13:10.941552Z",
     "start_time": "2020-04-23T17:13:10.916011Z"
    }
   },
   "outputs": [],
   "source": [
    "def apply_decreasing_rate(value: float, rate: float) -> float:\n",
    "    \"\"\"\n",
    "    Apply a decreasing rate to a value\n",
    "    :param value: current value\n",
    "    :param rate: per second\n",
    "    :return: updated value\n",
    "    \"\"\"\n",
    "    return value - (60 * rate)\n",
    "\n",
    "def converge(value: float, target: float, ratio: float) -> float:\n",
    "    diff: float = (target - value) * ratio\n",
    "    return transform_to_dec(value + diff)\n",
    "\n",
    "def update_walking(dog_table_row):\n",
    "    update_fat = converge(dog_table_row.iloc[0]['fat'], 0.0, walking_fat_converge_rate)\n",
    "    update_affection = converge(dog_table_row.iloc[0]['affection'], 1.0, walking_affection_converge_rate)\n",
    "    return (update_fat, update_affection)\n",
    "\n",
    "def update_feeding(dog_table_row):\n",
    "    update_food = min(dog_table_row.iloc[0]['food'] + eating_food_increase, 1.0)\n",
    "    update_fat = min(dog_table_row.iloc[0]['fat'] + eating_fat_increase, 1.0)\n",
    "    return (update_food, update_fat)\n",
    "\n",
    "def update_playing(dog_table_row):\n",
    "    update_fat = converge(dog_table_row.iloc[0]['fat'], 0.0, playing_fat_converge_rate)\n",
    "    update_affection = converge(dog_table_row.iloc[0]['affection'], 1.0, playing_affection_converge_rate)\n",
    "    return (update_fat, update_affection)\n",
    "\n",
    "def update_food(dog_table_row):\n",
    "    return transform_to_dec(max(\n",
    "        0.0,\n",
    "        apply_decreasing_rate(dog_table_row.iloc[0]['food'], food_consumption_rate)\n",
    "    ))\n",
    "\n",
    "def update_affection(dog_table_row):\n",
    "    return transform_to_dec(max(\n",
    "        0.0,\n",
    "        apply_decreasing_rate(dog_table_row.iloc[0]['affection'], affection_consumption_rate)\n",
    "    ))\n",
    "\n",
    "def update_happiness(dog_table_row) -> float:  # between 0 and 1\n",
    "    return min(\n",
    "        dog_table_row.iloc[0]['food'],\n",
    "        1.0 - dog_table_row.iloc[0]['fat'],\n",
    "        dog_table_row.iloc[0]['affection']\n",
    "    )\n",
    "\n",
    "def update_alive(dog_table_row):\n",
    "    return dog_table_row.iloc[0]['alive'] & (dog_table_row.iloc[0]['happiness'] > 0.0)\n",
    "\n",
    "def new_state_after_1_minute(dog_table, action_taken='NO ACTION'):\n",
    "    \n",
    "    dog_table_row = dog_table.tail(1)\n",
    "    new_state_dog_id = dog_table_row.iloc[0]['dog_id']\n",
    "    \n",
    "    new_state_food = update_food(dog_table_row)\n",
    "    new_state_fat = dog_table_row.iloc[0]['fat']\n",
    "    new_state_affection = update_affection(dog_table_row)\n",
    "    \n",
    "    new_state_last_action_taken = dog_table_row.iloc[0]['last_action_taken']\n",
    "    new_state_can_action_be_taken = dog_table_row.iloc[0]['can_action_be_taken']\n",
    "    new_state_minutes_since_last_action = dog_table_row.iloc[0]['minutes_since_last_action']\n",
    "    \n",
    "    new_state_minute = dog_table_row.iloc[0]['minute'] + 1\n",
    "    new_state_minutes_since_last_action = dog_table_row.iloc[0]['minutes_since_last_action'] + 1\n",
    "    \n",
    "    new_state_happiness = update_happiness(dog_table_row)\n",
    "    new_state_alive = update_alive(dog_table_row)\n",
    "    \n",
    "    if ((action_taken != 'NO ACTION') & (dog_table_row.iloc[0]['can_action_be_taken'])):\n",
    "        new_state_last_action_taken = action_taken\n",
    "        new_state_can_action_be_taken = False\n",
    "        new_state_minutes_since_last_action = 0\n",
    "    \n",
    "    if ((dog_table_row.iloc[0]['last_action_taken'] == 'WALKING') &\n",
    "        (dog_table_row.iloc[0]['minutes_since_last_action'] == WALKING_TIME)):\n",
    "        new_state_fat, new_state_affection = update_walking(dog_table_row)\n",
    "        new_state_last_action_taken = 'NO ACTION'\n",
    "        new_state_can_action_be_taken = True\n",
    "        new_state_minutes_since_last_action = 0        \n",
    "\n",
    "    if ((dog_table_row.iloc[0]['last_action_taken'] == 'FEEDING') &\n",
    "        (dog_table_row.iloc[0]['minutes_since_last_action'] == EATING_TIME)):\n",
    "        new_state_food, new_state_fat = update_feeding(dog_table_row)\n",
    "        new_state_last_action_taken = 'NO ACTION'\n",
    "        new_state_can_action_be_taken = True\n",
    "        new_state_minutes_since_last_action = 0\n",
    "\n",
    "    if ((dog_table_row.iloc[0]['last_action_taken'] == 'PLAYING') &\n",
    "        (dog_table_row.iloc[0]['minutes_since_last_action'] == PLAYING_TIME)):\n",
    "        new_state_fat, new_state_affection = update_playing(dog_table_row)\n",
    "        new_state_last_action_taken = 'NO ACTION'\n",
    "        new_state_can_action_be_taken = True\n",
    "        new_state_minutes_since_last_action = 0\n",
    "        \n",
    "    dog_table = dog_table.append({\n",
    "        'dog_id': new_state_dog_id,\n",
    "        'minute': new_state_minute,\n",
    "        'happiness': new_state_happiness,\n",
    "        'food': transform_to_dec(new_state_food),\n",
    "        'fat': transform_to_dec(new_state_fat),\n",
    "        'affection': transform_to_dec(new_state_affection),\n",
    "        'alive': new_state_alive,\n",
    "        'can_action_be_taken': new_state_can_action_be_taken, \n",
    "        'last_action_taken': new_state_last_action_taken,\n",
    "        'minutes_since_last_action': new_state_minutes_since_last_action\n",
    "        }, ignore_index=True)\n",
    "    \n",
    "    return dog_table"
   ]
  },
  {
   "cell_type": "markdown",
   "metadata": {},
   "source": [
    "# Functions for RL"
   ]
  },
  {
   "cell_type": "markdown",
   "metadata": {},
   "source": [
    "## Initialize dog"
   ]
  },
  {
   "cell_type": "code",
   "execution_count": 4,
   "metadata": {
    "ExecuteTime": {
     "end_time": "2020-04-23T17:13:10.952283Z",
     "start_time": "2020-04-23T17:13:10.944859Z"
    }
   },
   "outputs": [],
   "source": [
    "def init_dog_table(type_init='real'):\n",
    "\n",
    "    dog_table = pd.DataFrame(columns=[\n",
    "        'dog_id', 'minute',\n",
    "        'happiness', 'food', 'fat', 'affection',\n",
    "        'alive', 'can_action_be_taken', 'last_action_taken', 'minutes_since_last_action'\n",
    "    ])\n",
    "\n",
    "    if type_init == 'real':\n",
    "        dog_table = dog_table.append({\n",
    "            'dog_id': 1, 'minute': 0,\n",
    "            'happiness': 0,\n",
    "            'food': transform_to_dec(0.5), \n",
    "            'fat': transform_to_dec(0), \n",
    "            'affection': transform_to_dec(0.5),\n",
    "            'alive': True, 'can_action_be_taken': True, 'last_action_taken': 'NO ACTION', 'minutes_since_last_action': 0\n",
    "            }, ignore_index=True)\n",
    "\n",
    "    if type_init == 'random':\n",
    "        dog_table = dog_table.append({\n",
    "            'dog_id': 1, 'minute': 0,\n",
    "            'happiness': 0,\n",
    "            'food': transform_to_dec(random.random()), \n",
    "            'fat': transform_to_dec(random.random()), \n",
    "            'affection': transform_to_dec(random.random()),\n",
    "            'alive': True, 'can_action_be_taken': True, 'last_action_taken': 'NO ACTION', 'minutes_since_last_action': 0\n",
    "            }, ignore_index=True)\n",
    "    \n",
    "    dog_table['happiness'] = update_happiness(dog_table)\n",
    "    \n",
    "    return dog_table"
   ]
  },
  {
   "cell_type": "markdown",
   "metadata": {},
   "source": [
    "## Choose action"
   ]
  },
  {
   "cell_type": "code",
   "execution_count": 5,
   "metadata": {
    "ExecuteTime": {
     "end_time": "2020-04-23T17:13:10.960714Z",
     "start_time": "2020-04-23T17:13:10.955301Z"
    }
   },
   "outputs": [],
   "source": [
    "def choose_action(state, Q, action_space, epsilon):\n",
    "    \n",
    "    if np.random.uniform(0, 1) < epsilon:\n",
    "        action = random.choices(range(len(action_space)), k = 1)[0]\n",
    "    \n",
    "    else:\n",
    "        state_q = get_state_q(state,0)\n",
    "        listy = Q[state_q, :]\n",
    "        winner = np.argwhere(listy == np.amax(listy))\n",
    "        winner_list = winner.flatten().tolist()\n",
    "        action = random.choices(winner_list, k = 1)[0]\n",
    "    \n",
    "    return action"
   ]
  },
  {
   "cell_type": "markdown",
   "metadata": {},
   "source": [
    "## Run an episode"
   ]
  },
  {
   "cell_type": "code",
   "execution_count": 6,
   "metadata": {
    "ExecuteTime": {
     "end_time": "2020-04-23T17:13:10.968395Z",
     "start_time": "2020-04-23T17:13:10.963011Z"
    }
   },
   "outputs": [],
   "source": [
    "def create_episode(Q, max_steps, epsilon):\n",
    "    \n",
    "    dog_table = init_dog_table()\n",
    "    state = dog_table.tail(1)\n",
    "\n",
    "    t = 0\n",
    "    while ((state.iloc[0]['alive']) & (t < max_steps)):\n",
    "        t += 1\n",
    "        action = choose_action(\n",
    "            state = state,\n",
    "            Q = Q,\n",
    "            action_space = action_space,\n",
    "            epsilon = epsilon\n",
    "        )\n",
    "        dog_table = new_state_after_1_minute(dog_table, action_taken = action_space[action])\n",
    "        state = dog_table.tail(1)\n",
    "\n",
    "    return dog_table"
   ]
  },
  {
   "cell_type": "markdown",
   "metadata": {},
   "source": [
    "## Make state for Q"
   ]
  },
  {
   "cell_type": "code",
   "execution_count": 7,
   "metadata": {
    "ExecuteTime": {
     "end_time": "2020-04-23T17:13:10.974505Z",
     "start_time": "2020-04-23T17:13:10.971552Z"
    }
   },
   "outputs": [],
   "source": [
    "def transform_to_dec(value, dec=100):\n",
    "    return np.floor(dec*value)/dec"
   ]
  },
  {
   "cell_type": "code",
   "execution_count": 8,
   "metadata": {
    "ExecuteTime": {
     "end_time": "2020-04-23T17:13:10.983716Z",
     "start_time": "2020-04-23T17:13:10.979474Z"
    }
   },
   "outputs": [],
   "source": [
    "def get_state_q(current_state, t):\n",
    "    return int('{:02d}{:02d}{:02d}'.format(\n",
    "        min(99,int(current_state.iloc[t]['food']*100)),\n",
    "        min(99,int(current_state.iloc[t]['fat']*100)),\n",
    "        min(99,int(current_state.iloc[t]['affection']*100))\n",
    "    ))"
   ]
  },
  {
   "cell_type": "markdown",
   "metadata": {},
   "source": [
    "## State action reward"
   ]
  },
  {
   "cell_type": "code",
   "execution_count": 9,
   "metadata": {
    "ExecuteTime": {
     "end_time": "2020-04-23T17:13:10.992869Z",
     "start_time": "2020-04-23T17:13:10.987874Z"
    }
   },
   "outputs": [],
   "source": [
    "def state_action_reward(dog_table, t, action_space):\n",
    "    \n",
    "    state_t = get_state_q(dog_table, t)\n",
    "\n",
    "    action_t_name = dog_table.iloc[t]['last_action_taken'] if (\n",
    "        dog_table.iloc[t]['minutes_since_last_action'] == 0\n",
    "    ) else 'NO ACTION'\n",
    "    \n",
    "    action_t = action_space.index(action_t_name)\n",
    "\n",
    "    reward_t = dog_table.loc[dog_table['minute'] == t].iloc[0]['happiness']\n",
    "\n",
    "    state_t_1 = get_state_q(dog_table, t + 1)\n",
    "    \n",
    "    return (state_t, action_t, reward_t, state_t_1)\n"
   ]
  },
  {
   "cell_type": "markdown",
   "metadata": {},
   "source": [
    "## Update Q function"
   ]
  },
  {
   "cell_type": "code",
   "execution_count": 22,
   "metadata": {
    "ExecuteTime": {
     "end_time": "2020-04-23T17:32:18.396876Z",
     "start_time": "2020-04-23T17:32:18.391783Z"
    }
   },
   "outputs": [],
   "source": [
    "# Function to learn the Q-value\n",
    "def update(Q, state_t, reward_t, action_t, state_t_1, gamma, alpha):\n",
    "    \n",
    "    #print('Q[state_t, action_t]')\n",
    "    #print(Q[state_t, action_t])\n",
    "    \n",
    "    #print('alpha, gamma')\n",
    "    #print(alpha, gamma)\n",
    "\n",
    "    #print('reward_t')\n",
    "    #print(reward_t)\n",
    "\n",
    "    #print('max(Q[state_t_1,])')\n",
    "    #print(max(Q[state_t_1,]))\n",
    "\n",
    "    #print('reward_t + gamma * max(Q[state_t_1,]) - Q[state_t, action_t]')\n",
    "    #print(reward_t + gamma * max(Q[state_t_1,]) - Q[state_t, action_t])\n",
    "\n",
    "    #print('alpha * (reward_t + gamma * max(Q[state_t_1,]) - Q[state_t, action_t])')\n",
    "    #print(alpha * (reward_t + gamma * max(Q[state_t_1,]) - Q[state_t, action_t]))\n",
    "\n",
    "    #print('Q[state_t, action_t] + alpha * (reward_t + gamma * max(Q[state_t_1,]) - Q[state_t, action_t])')\n",
    "    #print(Q[state_t, action_t] + alpha * (reward_t + gamma * max(Q[state_t_1,]) - Q[state_t, action_t]))\n",
    "\n",
    "    Q[state_t, action_t] = Q[state_t, action_t] + alpha * (reward_t + gamma * max(Q[state_t_1,]) - Q[state_t, action_t])\n",
    "    \n",
    "    #print('New Q[state_t, action_t]')\n",
    "    #print(Q[state_t, action_t])\n",
    "\n",
    "    return Q"
   ]
  },
  {
   "cell_type": "markdown",
   "metadata": {},
   "source": [
    "## Plots"
   ]
  },
  {
   "cell_type": "code",
   "execution_count": 11,
   "metadata": {
    "ExecuteTime": {
     "end_time": "2020-04-23T17:13:11.014617Z",
     "start_time": "2020-04-23T17:13:11.008022Z"
    }
   },
   "outputs": [],
   "source": [
    "def intermediate_plots(len_steps_plot, all_overall_reward_t):\n",
    "    \n",
    "    # Create some mock data\n",
    "    fig, ax1 = plt.subplots()\n",
    "\n",
    "    color = 'tab:red'\n",
    "    ax1.set_xlabel('episodes')\n",
    "    ax1.set_ylabel('nber steps', color=color)\n",
    "    ax1.plot(range(len(len_steps_plot)), len_steps_plot, color=color)\n",
    "    ax1.tick_params(axis='y', labelcolor=color)\n",
    "\n",
    "    ax2 = ax1.twinx()  # instantiate a second axes that shares the same x-axis\n",
    "\n",
    "    color = 'tab:blue'\n",
    "    ax2.set_ylabel('average reward', color=color)  # we already handled the x-label with ax1\n",
    "    ax2.plot(range(len(all_overall_reward_t)), all_overall_reward_t, color=color)\n",
    "    ax2.tick_params(axis='y', labelcolor=color)\n",
    "\n",
    "    fig.tight_layout()  # otherwise the right y-label is slightly clipped\n",
    "    plt.show()"
   ]
  },
  {
   "cell_type": "code",
   "execution_count": 32,
   "metadata": {
    "ExecuteTime": {
     "end_time": "2020-04-23T21:27:31.759493Z",
     "start_time": "2020-04-23T21:27:31.750744Z"
    }
   },
   "outputs": [],
   "source": [
    "def display_analyse_Q(Q):\n",
    "    \n",
    "    analyse_Q = pd.DataFrame(columns=[\n",
    "        'state_id', 'food_id', 'fat_id', 'affection_id',\n",
    "        'no_action', 'walking', 'feeding', 'playing',\n",
    "    ])\n",
    "\n",
    "    for i in trange(Q.shape[0]):\n",
    "        analyse_Q = analyse_Q.append({\n",
    "            'state_id': int(i),\n",
    "            'food_id': int(np.floor(i/10000)),\n",
    "            'fat_id': int(np.floor(i/100 % 100)),\n",
    "            'affection_id': int(np.floor(i % 100)),\n",
    "            'no_action': Q[i,0],\n",
    "            'walking': Q[i,1],\n",
    "            'feeding': Q[i,2],\n",
    "            'playing': Q[i,3]\n",
    "            }, ignore_index=True)\n",
    "\n",
    "    analyse_Q.groupby('food_id').agg({\n",
    "        'no_action': 'mean',\n",
    "        'walking': 'mean',\n",
    "        'feeding': 'mean',\n",
    "        'playing': 'mean'\n",
    "    }).plot()\n",
    "\n",
    "    analyse_Q.groupby('fat_id').agg({\n",
    "        'no_action': 'mean',\n",
    "        'walking': 'mean',\n",
    "        'feeding': 'mean',\n",
    "        'playing': 'mean'\n",
    "    }).plot()\n",
    "\n",
    "    analyse_Q.groupby('affection_id').agg({\n",
    "        'no_action': 'mean',\n",
    "        'walking': 'mean',\n",
    "        'feeding': 'mean',\n",
    "        'playing': 'mean'\n",
    "    }).plot()"
   ]
  },
  {
   "cell_type": "markdown",
   "metadata": {},
   "source": [
    "# This is where things are done"
   ]
  },
  {
   "cell_type": "code",
   "execution_count": 13,
   "metadata": {
    "ExecuteTime": {
     "end_time": "2020-04-23T17:13:11.032149Z",
     "start_time": "2020-04-23T17:13:11.028677Z"
    }
   },
   "outputs": [],
   "source": [
    "observation_space_n = 100*100*100\n",
    "action_space = ['NO ACTION', 'WALKING', 'FEEDING', 'PLAYING']\n",
    "action_space_n = len(action_space)"
   ]
  },
  {
   "cell_type": "code",
   "execution_count": 14,
   "metadata": {
    "ExecuteTime": {
     "end_time": "2020-04-23T17:13:11.052781Z",
     "start_time": "2020-04-23T17:13:11.034288Z"
    }
   },
   "outputs": [],
   "source": [
    "Q = np.full(\n",
    "    shape=(observation_space_n, action_space_n),\n",
    "    fill_value=3.25\n",
    ")"
   ]
  },
  {
   "cell_type": "markdown",
   "metadata": {},
   "source": [
    "## Get average reward"
   ]
  },
  {
   "cell_type": "code",
   "execution_count": 15,
   "metadata": {
    "ExecuteTime": {
     "end_time": "2020-04-23T17:13:56.074161Z",
     "start_time": "2020-04-23T17:13:11.054920Z"
    }
   },
   "outputs": [
    {
     "data": {
      "application/vnd.jupyter.widget-view+json": {
       "model_id": "2cf6735336314e809aad057016af7d2b",
       "version_major": 2,
       "version_minor": 0
      },
      "text/plain": [
       "HBox(children=(FloatProgress(value=0.0), HTML(value='')))"
      ]
     },
     "metadata": {},
     "output_type": "display_data"
    },
    {
     "ename": "KeyboardInterrupt",
     "evalue": "",
     "output_type": "error",
     "traceback": [
      "\u001b[0;31m---------------------------------------------------------------------------\u001b[0m",
      "\u001b[0;31mKeyboardInterrupt\u001b[0m                         Traceback (most recent call last)",
      "\u001b[0;32m<ipython-input-15-d3fe1e04a978>\u001b[0m in \u001b[0;36m<module>\u001b[0;34m\u001b[0m\n\u001b[1;32m      2\u001b[0m \u001b[0mavg_reward\u001b[0m \u001b[0;34m=\u001b[0m \u001b[0;34m[\u001b[0m\u001b[0;34m]\u001b[0m\u001b[0;34m\u001b[0m\u001b[0;34m\u001b[0m\u001b[0m\n\u001b[1;32m      3\u001b[0m \u001b[0;32mfor\u001b[0m \u001b[0mi\u001b[0m \u001b[0;32min\u001b[0m \u001b[0mtrange\u001b[0m\u001b[0;34m(\u001b[0m\u001b[0;36m100\u001b[0m\u001b[0;34m)\u001b[0m\u001b[0;34m:\u001b[0m\u001b[0;34m\u001b[0m\u001b[0;34m\u001b[0m\u001b[0m\n\u001b[0;32m----> 4\u001b[0;31m     \u001b[0mdog_table\u001b[0m \u001b[0;34m=\u001b[0m \u001b[0mcreate_episode\u001b[0m\u001b[0;34m(\u001b[0m\u001b[0mQ\u001b[0m \u001b[0;34m=\u001b[0m \u001b[0mQ\u001b[0m\u001b[0;34m,\u001b[0m \u001b[0mmax_steps\u001b[0m \u001b[0;34m=\u001b[0m \u001b[0mmax_steps\u001b[0m\u001b[0;34m,\u001b[0m \u001b[0mepsilon\u001b[0m \u001b[0;34m=\u001b[0m \u001b[0;36m1\u001b[0m\u001b[0;34m)\u001b[0m\u001b[0;34m\u001b[0m\u001b[0;34m\u001b[0m\u001b[0m\n\u001b[0m\u001b[1;32m      5\u001b[0m     \u001b[0;32mfor\u001b[0m \u001b[0mt\u001b[0m \u001b[0;32min\u001b[0m \u001b[0mrange\u001b[0m\u001b[0;34m(\u001b[0m\u001b[0mlen\u001b[0m\u001b[0;34m(\u001b[0m\u001b[0mdog_table\u001b[0m\u001b[0;34m)\u001b[0m\u001b[0;34m-\u001b[0m\u001b[0;36m1\u001b[0m\u001b[0;34m)\u001b[0m\u001b[0;34m:\u001b[0m\u001b[0;34m\u001b[0m\u001b[0;34m\u001b[0m\u001b[0m\n\u001b[1;32m      6\u001b[0m         \u001b[0mreward_t\u001b[0m \u001b[0;34m=\u001b[0m \u001b[0mdog_table\u001b[0m\u001b[0;34m.\u001b[0m\u001b[0miloc\u001b[0m\u001b[0;34m[\u001b[0m\u001b[0mt\u001b[0m\u001b[0;34m]\u001b[0m\u001b[0;34m[\u001b[0m\u001b[0;34m'happiness'\u001b[0m\u001b[0;34m]\u001b[0m\u001b[0;34m\u001b[0m\u001b[0;34m\u001b[0m\u001b[0m\n",
      "\u001b[0;32m<ipython-input-6-e2a5bd2bf4af>\u001b[0m in \u001b[0;36mcreate_episode\u001b[0;34m(Q, max_steps, epsilon)\u001b[0m\n\u001b[1;32m     13\u001b[0m             \u001b[0mepsilon\u001b[0m \u001b[0;34m=\u001b[0m \u001b[0mepsilon\u001b[0m\u001b[0;34m\u001b[0m\u001b[0;34m\u001b[0m\u001b[0m\n\u001b[1;32m     14\u001b[0m         )\n\u001b[0;32m---> 15\u001b[0;31m         \u001b[0mdog_table\u001b[0m \u001b[0;34m=\u001b[0m \u001b[0mnew_state_after_1_minute\u001b[0m\u001b[0;34m(\u001b[0m\u001b[0mdog_table\u001b[0m\u001b[0;34m,\u001b[0m \u001b[0maction_taken\u001b[0m \u001b[0;34m=\u001b[0m \u001b[0maction_space\u001b[0m\u001b[0;34m[\u001b[0m\u001b[0maction\u001b[0m\u001b[0;34m]\u001b[0m\u001b[0;34m)\u001b[0m\u001b[0;34m\u001b[0m\u001b[0;34m\u001b[0m\u001b[0m\n\u001b[0m\u001b[1;32m     16\u001b[0m         \u001b[0mstate\u001b[0m \u001b[0;34m=\u001b[0m \u001b[0mdog_table\u001b[0m\u001b[0;34m.\u001b[0m\u001b[0mtail\u001b[0m\u001b[0;34m(\u001b[0m\u001b[0;36m1\u001b[0m\u001b[0;34m)\u001b[0m\u001b[0;34m\u001b[0m\u001b[0;34m\u001b[0m\u001b[0m\n\u001b[1;32m     17\u001b[0m \u001b[0;34m\u001b[0m\u001b[0m\n",
      "\u001b[0;32m<ipython-input-3-34f5807be771>\u001b[0m in \u001b[0;36mnew_state_after_1_minute\u001b[0;34m(dog_table, action_taken)\u001b[0m\n\u001b[1;32m     54\u001b[0m     \u001b[0mnew_state_dog_id\u001b[0m \u001b[0;34m=\u001b[0m \u001b[0mdog_table_row\u001b[0m\u001b[0;34m.\u001b[0m\u001b[0miloc\u001b[0m\u001b[0;34m[\u001b[0m\u001b[0;36m0\u001b[0m\u001b[0;34m]\u001b[0m\u001b[0;34m[\u001b[0m\u001b[0;34m'dog_id'\u001b[0m\u001b[0;34m]\u001b[0m\u001b[0;34m\u001b[0m\u001b[0;34m\u001b[0m\u001b[0m\n\u001b[1;32m     55\u001b[0m \u001b[0;34m\u001b[0m\u001b[0m\n\u001b[0;32m---> 56\u001b[0;31m     \u001b[0mnew_state_food\u001b[0m \u001b[0;34m=\u001b[0m \u001b[0mupdate_food\u001b[0m\u001b[0;34m(\u001b[0m\u001b[0mdog_table_row\u001b[0m\u001b[0;34m)\u001b[0m\u001b[0;34m\u001b[0m\u001b[0;34m\u001b[0m\u001b[0m\n\u001b[0m\u001b[1;32m     57\u001b[0m     \u001b[0mnew_state_fat\u001b[0m \u001b[0;34m=\u001b[0m \u001b[0mdog_table_row\u001b[0m\u001b[0;34m.\u001b[0m\u001b[0miloc\u001b[0m\u001b[0;34m[\u001b[0m\u001b[0;36m0\u001b[0m\u001b[0;34m]\u001b[0m\u001b[0;34m[\u001b[0m\u001b[0;34m'fat'\u001b[0m\u001b[0;34m]\u001b[0m\u001b[0;34m\u001b[0m\u001b[0;34m\u001b[0m\u001b[0m\n\u001b[1;32m     58\u001b[0m     \u001b[0mnew_state_affection\u001b[0m \u001b[0;34m=\u001b[0m \u001b[0mupdate_affection\u001b[0m\u001b[0;34m(\u001b[0m\u001b[0mdog_table_row\u001b[0m\u001b[0;34m)\u001b[0m\u001b[0;34m\u001b[0m\u001b[0;34m\u001b[0m\u001b[0m\n",
      "\u001b[0;32m<ipython-input-3-34f5807be771>\u001b[0m in \u001b[0;36mupdate_food\u001b[0;34m(dog_table_row)\u001b[0m\n\u001b[1;32m     30\u001b[0m     return transform_to_dec(max(\n\u001b[1;32m     31\u001b[0m         \u001b[0;36m0.0\u001b[0m\u001b[0;34m,\u001b[0m\u001b[0;34m\u001b[0m\u001b[0;34m\u001b[0m\u001b[0m\n\u001b[0;32m---> 32\u001b[0;31m         \u001b[0mapply_decreasing_rate\u001b[0m\u001b[0;34m(\u001b[0m\u001b[0mdog_table_row\u001b[0m\u001b[0;34m.\u001b[0m\u001b[0miloc\u001b[0m\u001b[0;34m[\u001b[0m\u001b[0;36m0\u001b[0m\u001b[0;34m]\u001b[0m\u001b[0;34m[\u001b[0m\u001b[0;34m'food'\u001b[0m\u001b[0;34m]\u001b[0m\u001b[0;34m,\u001b[0m \u001b[0mfood_consumption_rate\u001b[0m\u001b[0;34m)\u001b[0m\u001b[0;34m\u001b[0m\u001b[0;34m\u001b[0m\u001b[0m\n\u001b[0m\u001b[1;32m     33\u001b[0m     ))\n\u001b[1;32m     34\u001b[0m \u001b[0;34m\u001b[0m\u001b[0m\n",
      "\u001b[0;32m~/Projects/nlp_testing/.venv/lib/python3.7/site-packages/pandas/core/indexing.py\u001b[0m in \u001b[0;36m__getitem__\u001b[0;34m(self, key)\u001b[0m\n\u001b[1;32m   1422\u001b[0m \u001b[0;34m\u001b[0m\u001b[0m\n\u001b[1;32m   1423\u001b[0m             \u001b[0mmaybe_callable\u001b[0m \u001b[0;34m=\u001b[0m \u001b[0mcom\u001b[0m\u001b[0;34m.\u001b[0m\u001b[0mapply_if_callable\u001b[0m\u001b[0;34m(\u001b[0m\u001b[0mkey\u001b[0m\u001b[0;34m,\u001b[0m \u001b[0mself\u001b[0m\u001b[0;34m.\u001b[0m\u001b[0mobj\u001b[0m\u001b[0;34m)\u001b[0m\u001b[0;34m\u001b[0m\u001b[0;34m\u001b[0m\u001b[0m\n\u001b[0;32m-> 1424\u001b[0;31m             \u001b[0;32mreturn\u001b[0m \u001b[0mself\u001b[0m\u001b[0;34m.\u001b[0m\u001b[0m_getitem_axis\u001b[0m\u001b[0;34m(\u001b[0m\u001b[0mmaybe_callable\u001b[0m\u001b[0;34m,\u001b[0m \u001b[0maxis\u001b[0m\u001b[0;34m=\u001b[0m\u001b[0maxis\u001b[0m\u001b[0;34m)\u001b[0m\u001b[0;34m\u001b[0m\u001b[0;34m\u001b[0m\u001b[0m\n\u001b[0m\u001b[1;32m   1425\u001b[0m \u001b[0;34m\u001b[0m\u001b[0m\n\u001b[1;32m   1426\u001b[0m     \u001b[0;32mdef\u001b[0m \u001b[0m_is_scalar_access\u001b[0m\u001b[0;34m(\u001b[0m\u001b[0mself\u001b[0m\u001b[0;34m,\u001b[0m \u001b[0mkey\u001b[0m\u001b[0;34m:\u001b[0m \u001b[0mTuple\u001b[0m\u001b[0;34m)\u001b[0m\u001b[0;34m:\u001b[0m\u001b[0;34m\u001b[0m\u001b[0;34m\u001b[0m\u001b[0m\n",
      "\u001b[0;32m~/Projects/nlp_testing/.venv/lib/python3.7/site-packages/pandas/core/indexing.py\u001b[0m in \u001b[0;36m_getitem_axis\u001b[0;34m(self, key, axis)\u001b[0m\n\u001b[1;32m   2157\u001b[0m             \u001b[0mself\u001b[0m\u001b[0;34m.\u001b[0m\u001b[0m_validate_integer\u001b[0m\u001b[0;34m(\u001b[0m\u001b[0mkey\u001b[0m\u001b[0;34m,\u001b[0m \u001b[0maxis\u001b[0m\u001b[0;34m)\u001b[0m\u001b[0;34m\u001b[0m\u001b[0;34m\u001b[0m\u001b[0m\n\u001b[1;32m   2158\u001b[0m \u001b[0;34m\u001b[0m\u001b[0m\n\u001b[0;32m-> 2159\u001b[0;31m             \u001b[0;32mreturn\u001b[0m \u001b[0mself\u001b[0m\u001b[0;34m.\u001b[0m\u001b[0m_get_loc\u001b[0m\u001b[0;34m(\u001b[0m\u001b[0mkey\u001b[0m\u001b[0;34m,\u001b[0m \u001b[0maxis\u001b[0m\u001b[0;34m=\u001b[0m\u001b[0maxis\u001b[0m\u001b[0;34m)\u001b[0m\u001b[0;34m\u001b[0m\u001b[0;34m\u001b[0m\u001b[0m\n\u001b[0m\u001b[1;32m   2160\u001b[0m \u001b[0;34m\u001b[0m\u001b[0m\n\u001b[1;32m   2161\u001b[0m     \u001b[0;31m# raise_missing is included for compat with the parent class signature\u001b[0m\u001b[0;34m\u001b[0m\u001b[0;34m\u001b[0m\u001b[0;34m\u001b[0m\u001b[0m\n",
      "\u001b[0;32m~/Projects/nlp_testing/.venv/lib/python3.7/site-packages/pandas/core/indexing.py\u001b[0m in \u001b[0;36m_get_loc\u001b[0;34m(self, key, axis)\u001b[0m\n\u001b[1;32m    161\u001b[0m \u001b[0;34m\u001b[0m\u001b[0m\n\u001b[1;32m    162\u001b[0m     \u001b[0;32mdef\u001b[0m \u001b[0m_get_loc\u001b[0m\u001b[0;34m(\u001b[0m\u001b[0mself\u001b[0m\u001b[0;34m,\u001b[0m \u001b[0mkey\u001b[0m\u001b[0;34m:\u001b[0m \u001b[0mint\u001b[0m\u001b[0;34m,\u001b[0m \u001b[0maxis\u001b[0m\u001b[0;34m:\u001b[0m \u001b[0mint\u001b[0m\u001b[0;34m)\u001b[0m\u001b[0;34m:\u001b[0m\u001b[0;34m\u001b[0m\u001b[0;34m\u001b[0m\u001b[0m\n\u001b[0;32m--> 163\u001b[0;31m         \u001b[0;32mreturn\u001b[0m \u001b[0mself\u001b[0m\u001b[0;34m.\u001b[0m\u001b[0mobj\u001b[0m\u001b[0;34m.\u001b[0m\u001b[0m_ixs\u001b[0m\u001b[0;34m(\u001b[0m\u001b[0mkey\u001b[0m\u001b[0;34m,\u001b[0m \u001b[0maxis\u001b[0m\u001b[0;34m=\u001b[0m\u001b[0maxis\u001b[0m\u001b[0;34m)\u001b[0m\u001b[0;34m\u001b[0m\u001b[0;34m\u001b[0m\u001b[0m\n\u001b[0m\u001b[1;32m    164\u001b[0m \u001b[0;34m\u001b[0m\u001b[0m\n\u001b[1;32m    165\u001b[0m     \u001b[0;32mdef\u001b[0m \u001b[0m_slice\u001b[0m\u001b[0;34m(\u001b[0m\u001b[0mself\u001b[0m\u001b[0;34m,\u001b[0m \u001b[0mobj\u001b[0m\u001b[0;34m,\u001b[0m \u001b[0maxis\u001b[0m\u001b[0;34m:\u001b[0m \u001b[0mint\u001b[0m\u001b[0;34m,\u001b[0m \u001b[0mkind\u001b[0m\u001b[0;34m=\u001b[0m\u001b[0;32mNone\u001b[0m\u001b[0;34m)\u001b[0m\u001b[0;34m:\u001b[0m\u001b[0;34m\u001b[0m\u001b[0;34m\u001b[0m\u001b[0m\n",
      "\u001b[0;32m~/Projects/nlp_testing/.venv/lib/python3.7/site-packages/pandas/core/frame.py\u001b[0m in \u001b[0;36m_ixs\u001b[0;34m(self, i, axis)\u001b[0m\n\u001b[1;32m   2938\u001b[0m                 \u001b[0mindex\u001b[0m\u001b[0;34m=\u001b[0m\u001b[0mself\u001b[0m\u001b[0;34m.\u001b[0m\u001b[0mcolumns\u001b[0m\u001b[0;34m,\u001b[0m\u001b[0;34m\u001b[0m\u001b[0;34m\u001b[0m\u001b[0m\n\u001b[1;32m   2939\u001b[0m                 \u001b[0mname\u001b[0m\u001b[0;34m=\u001b[0m\u001b[0mself\u001b[0m\u001b[0;34m.\u001b[0m\u001b[0mindex\u001b[0m\u001b[0;34m[\u001b[0m\u001b[0mi\u001b[0m\u001b[0;34m]\u001b[0m\u001b[0;34m,\u001b[0m\u001b[0;34m\u001b[0m\u001b[0;34m\u001b[0m\u001b[0m\n\u001b[0;32m-> 2940\u001b[0;31m                 \u001b[0mdtype\u001b[0m\u001b[0;34m=\u001b[0m\u001b[0mnew_values\u001b[0m\u001b[0;34m.\u001b[0m\u001b[0mdtype\u001b[0m\u001b[0;34m,\u001b[0m\u001b[0;34m\u001b[0m\u001b[0;34m\u001b[0m\u001b[0m\n\u001b[0m\u001b[1;32m   2941\u001b[0m             )\n\u001b[1;32m   2942\u001b[0m             \u001b[0mresult\u001b[0m\u001b[0;34m.\u001b[0m\u001b[0m_set_is_copy\u001b[0m\u001b[0;34m(\u001b[0m\u001b[0mself\u001b[0m\u001b[0;34m,\u001b[0m \u001b[0mcopy\u001b[0m\u001b[0;34m=\u001b[0m\u001b[0mcopy\u001b[0m\u001b[0;34m)\u001b[0m\u001b[0;34m\u001b[0m\u001b[0;34m\u001b[0m\u001b[0m\n",
      "\u001b[0;32m~/Projects/nlp_testing/.venv/lib/python3.7/site-packages/pandas/core/series.py\u001b[0m in \u001b[0;36m__init__\u001b[0;34m(self, data, index, dtype, name, copy, fastpath)\u001b[0m\n\u001b[1;32m    312\u001b[0m                     \u001b[0mdata\u001b[0m \u001b[0;34m=\u001b[0m \u001b[0mdata\u001b[0m\u001b[0;34m.\u001b[0m\u001b[0mcopy\u001b[0m\u001b[0;34m(\u001b[0m\u001b[0;34m)\u001b[0m\u001b[0;34m\u001b[0m\u001b[0;34m\u001b[0m\u001b[0m\n\u001b[1;32m    313\u001b[0m             \u001b[0;32melse\u001b[0m\u001b[0;34m:\u001b[0m\u001b[0;34m\u001b[0m\u001b[0;34m\u001b[0m\u001b[0m\n\u001b[0;32m--> 314\u001b[0;31m                 \u001b[0mdata\u001b[0m \u001b[0;34m=\u001b[0m \u001b[0msanitize_array\u001b[0m\u001b[0;34m(\u001b[0m\u001b[0mdata\u001b[0m\u001b[0;34m,\u001b[0m \u001b[0mindex\u001b[0m\u001b[0;34m,\u001b[0m \u001b[0mdtype\u001b[0m\u001b[0;34m,\u001b[0m \u001b[0mcopy\u001b[0m\u001b[0;34m,\u001b[0m \u001b[0mraise_cast_failure\u001b[0m\u001b[0;34m=\u001b[0m\u001b[0;32mTrue\u001b[0m\u001b[0;34m)\u001b[0m\u001b[0;34m\u001b[0m\u001b[0;34m\u001b[0m\u001b[0m\n\u001b[0m\u001b[1;32m    315\u001b[0m \u001b[0;34m\u001b[0m\u001b[0m\n\u001b[1;32m    316\u001b[0m                 \u001b[0mdata\u001b[0m \u001b[0;34m=\u001b[0m \u001b[0mSingleBlockManager\u001b[0m\u001b[0;34m(\u001b[0m\u001b[0mdata\u001b[0m\u001b[0;34m,\u001b[0m \u001b[0mindex\u001b[0m\u001b[0;34m,\u001b[0m \u001b[0mfastpath\u001b[0m\u001b[0;34m=\u001b[0m\u001b[0;32mTrue\u001b[0m\u001b[0;34m)\u001b[0m\u001b[0;34m\u001b[0m\u001b[0;34m\u001b[0m\u001b[0m\n",
      "\u001b[0;32m~/Projects/nlp_testing/.venv/lib/python3.7/site-packages/pandas/core/internals/construction.py\u001b[0m in \u001b[0;36msanitize_array\u001b[0;34m(data, index, dtype, copy, raise_cast_failure)\u001b[0m\n\u001b[1;32m    717\u001b[0m     \u001b[0;31m# the result that we want\u001b[0m\u001b[0;34m\u001b[0m\u001b[0;34m\u001b[0m\u001b[0;34m\u001b[0m\u001b[0m\n\u001b[1;32m    718\u001b[0m     \u001b[0;32melif\u001b[0m \u001b[0msubarr\u001b[0m\u001b[0;34m.\u001b[0m\u001b[0mndim\u001b[0m \u001b[0;34m==\u001b[0m \u001b[0;36m1\u001b[0m\u001b[0;34m:\u001b[0m\u001b[0;34m\u001b[0m\u001b[0;34m\u001b[0m\u001b[0m\n\u001b[0;32m--> 719\u001b[0;31m         \u001b[0;32mif\u001b[0m \u001b[0mindex\u001b[0m \u001b[0;32mis\u001b[0m \u001b[0;32mnot\u001b[0m \u001b[0;32mNone\u001b[0m\u001b[0;34m:\u001b[0m\u001b[0;34m\u001b[0m\u001b[0;34m\u001b[0m\u001b[0m\n\u001b[0m\u001b[1;32m    720\u001b[0m \u001b[0;34m\u001b[0m\u001b[0m\n\u001b[1;32m    721\u001b[0m             \u001b[0;31m# a 1-element ndarray\u001b[0m\u001b[0;34m\u001b[0m\u001b[0;34m\u001b[0m\u001b[0;34m\u001b[0m\u001b[0m\n",
      "\u001b[0;31mKeyboardInterrupt\u001b[0m: "
     ]
    }
   ],
   "source": [
    "max_steps = 1000\n",
    "avg_reward = []\n",
    "for i in trange(100):\n",
    "    dog_table = create_episode(Q = Q, max_steps = max_steps, epsilon = 1)\n",
    "    for t in range(len(dog_table)-1):\n",
    "        reward_t = dog_table.iloc[t]['happiness']\n",
    "        avg_reward.append(reward_t)    "
   ]
  },
  {
   "cell_type": "code",
   "execution_count": null,
   "metadata": {
    "ExecuteTime": {
     "end_time": "2020-04-23T17:13:56.076928Z",
     "start_time": "2020-04-23T17:13:10.370Z"
    }
   },
   "outputs": [],
   "source": [
    "avg_reward_init = np.mean(avg_reward)\n",
    "avg_reward_init"
   ]
  },
  {
   "cell_type": "markdown",
   "metadata": {},
   "source": [
    "## Find Q(state,action) value function"
   ]
  },
  {
   "cell_type": "code",
   "execution_count": 34,
   "metadata": {
    "ExecuteTime": {
     "end_time": "2020-04-23T23:49:07.274782Z",
     "start_time": "2020-04-23T23:49:07.271910Z"
    }
   },
   "outputs": [],
   "source": [
    "max_steps = 1000000\n",
    "epsilon_initial = 0.5\n",
    "alpha_initial = 0.5\n",
    "gamma = 1\n",
    "convergence = False"
   ]
  },
  {
   "cell_type": "code",
   "execution_count": 17,
   "metadata": {
    "ExecuteTime": {
     "end_time": "2020-04-23T17:14:01.403612Z",
     "start_time": "2020-04-23T17:14:01.386653Z"
    }
   },
   "outputs": [],
   "source": [
    "Q = np.full(\n",
    "    shape=(observation_space_n, action_space_n),\n",
    "    fill_value=10.0#avg_reward_init\n",
    ")"
   ]
  },
  {
   "cell_type": "code",
   "execution_count": 18,
   "metadata": {
    "ExecuteTime": {
     "end_time": "2020-04-23T17:14:01.953361Z",
     "start_time": "2020-04-23T17:14:01.931008Z"
    }
   },
   "outputs": [],
   "source": [
    "Q_previous = Q.copy()\n",
    "(all_overall_reward, all_overall_reward_plot) = ([], [])\n",
    "(all_overall_reward_t, all_overall_reward_t_plot) = ([], [])\n",
    "(len_steps, len_steps_plot) = ([], [])\n",
    "nber_steps = 0"
   ]
  },
  {
   "cell_type": "code",
   "execution_count": 35,
   "metadata": {
    "ExecuteTime": {
     "end_time": "2020-04-24T06:52:15.305516Z",
     "start_time": "2020-04-23T23:49:26.016225Z"
    }
   },
   "outputs": [
    {
     "name": "stdout",
     "output_type": "stream",
     "text": [
      "Iter.    3400 - Steps   262487 - Eps. 0.500000 - Alp. 0.500000 - Dist. 174.80587 - Total R. 35.256 - Avg R. 0.457\n",
      "10001\n",
      "Iter.    3500 - Steps   270508 - Eps. 0.500000 - Alp. 0.500000 - Dist. 183.44459 - Total R. 38.314 - Avg R. 0.462\n",
      "10001\n",
      "Iter.    3600 - Steps   279092 - Eps. 0.500000 - Alp. 0.500000 - Dist. 194.18114 - Total R. 41.916 - Avg R. 0.475\n",
      "10001\n",
      "Iter.    3700 - Steps   286428 - Eps. 0.500000 - Alp. 0.500000 - Dist. 179.16666 - Total R. 35.412 - Avg R. 0.467\n",
      "10001\n",
      "Iter.    3800 - Steps   295115 - Eps. 0.500000 - Alp. 0.500000 - Dist. 210.12677 - Total R. 41.949 - Avg R. 0.465\n",
      "10001\n",
      "Iter.    3900 - Steps   302727 - Eps. 0.500000 - Alp. 0.500000 - Dist. 195.94533 - Total R. 36.362 - Avg R. 0.459\n",
      "10001\n",
      "Iter.    4000 - Steps   310461 - Eps. 0.500000 - Alp. 0.500000 - Dist. 198.89980 - Total R. 37.514 - Avg R. 0.470\n",
      "10001\n",
      "Iter.    4100 - Steps   318274 - Eps. 0.500000 - Alp. 0.500000 - Dist. 201.28408 - Total R. 37.953 - Avg R. 0.468\n",
      "10001\n",
      "Iter.    4200 - Steps   325678 - Eps. 0.500000 - Alp. 0.500000 - Dist. 202.16868 - Total R. 36.020 - Avg R. 0.461\n",
      "10001\n",
      "Iter.    4300 - Steps   334231 - Eps. 0.500000 - Alp. 0.500000 - Dist. 224.17232 - Total R. 41.992 - Avg R. 0.477\n",
      "10001\n",
      "Iter.    4400 - Steps   342173 - Eps. 0.500000 - Alp. 0.500000 - Dist. 219.89805 - Total R. 38.724 - Avg R. 0.468\n",
      "10001\n",
      "Iter.    4500 - Steps   349451 - Eps. 0.500000 - Alp. 0.500000 - Dist. 214.46381 - Total R. 34.676 - Avg R. 0.463\n",
      "10001\n",
      "Iter.    4600 - Steps   356678 - Eps. 0.500000 - Alp. 0.500000 - Dist. 216.50058 - Total R. 34.854 - Avg R. 0.465\n",
      "10001\n",
      "Iter.    4700 - Steps   363792 - Eps. 0.500000 - Alp. 0.500000 - Dist. 218.63550 - Total R. 34.096 - Avg R. 0.459\n",
      "10001\n",
      "Iter.    4800 - Steps   371843 - Eps. 0.500000 - Alp. 0.500000 - Dist. 241.70023 - Total R. 38.603 - Avg R. 0.459\n",
      "10001\n",
      "Iter.    4900 - Steps   379373 - Eps. 0.500000 - Alp. 0.500000 - Dist. 238.35918 - Total R. 35.848 - Avg R. 0.461\n",
      "10001\n",
      "Iter.    5000 - Steps   386580 - Eps. 0.500000 - Alp. 0.500000 - Dist. 228.42346 - Total R. 33.985 - Avg R. 0.456\n",
      "10001\n",
      "Iter.    5100 - Steps   393933 - Eps. 0.500000 - Alp. 0.500000 - Dist. 232.55172 - Total R. 35.334 - Avg R. 0.462\n",
      "10001\n",
      "Iter.    5200 - Steps   401817 - Eps. 0.500000 - Alp. 0.500000 - Dist. 267.83552 - Total R. 37.085 - Avg R. 0.450\n",
      "10001\n",
      "Iter.    5300 - Steps   408839 - Eps. 0.500000 - Alp. 0.500000 - Dist. 247.96405 - Total R. 34.034 - Avg R. 0.468\n",
      "10001\n",
      "Iter.    5400 - Steps   416383 - Eps. 0.500000 - Alp. 0.500000 - Dist. 264.92923 - Total R. 35.810 - Avg R. 0.459\n",
      "37\n",
      "Iter.    5500 - Steps   424046 - Eps. 0.500000 - Alp. 0.500000 - Dist. 271.48122 - Total R. 36.993 - Avg R. 0.460\n",
      "10001\n",
      "Iter.    5600 - Steps   432032 - Eps. 0.500000 - Alp. 0.500000 - Dist. 280.04554 - Total R. 39.409 - Avg R. 0.478\n",
      "10001\n",
      "Iter.    5700 - Steps   438397 - Eps. 0.500000 - Alp. 0.500000 - Dist. 252.88229 - Total R. 30.429 - Avg R. 0.457\n",
      "10001\n",
      "Iter.    5800 - Steps   446120 - Eps. 0.500000 - Alp. 0.500000 - Dist. 278.49639 - Total R. 37.031 - Avg R. 0.460\n",
      "37\n",
      "Iter.    5900 - Steps   454519 - Eps. 0.500000 - Alp. 0.500000 - Dist. 291.06767 - Total R. 40.369 - Avg R. 0.457\n",
      "10001\n",
      "Iter.    6000 - Steps   461647 - Eps. 0.500000 - Alp. 0.500000 - Dist. 276.87047 - Total R. 34.096 - Avg R. 0.461\n",
      "21\n",
      "Iter.    6100 - Steps   468641 - Eps. 0.500000 - Alp. 0.500000 - Dist. 285.79268 - Total R. 34.428 - Avg R. 0.476\n",
      "10001\n",
      "Iter.    6200 - Steps   476303 - Eps. 0.500000 - Alp. 0.500000 - Dist. 295.65801 - Total R. 36.996 - Avg R. 0.464\n",
      "10001\n",
      "Iter.    6300 - Steps   483763 - Eps. 0.500000 - Alp. 0.500000 - Dist. 297.25146 - Total R. 36.017 - Avg R. 0.459\n",
      "27\n",
      "Iter.    6400 - Steps   491411 - Eps. 0.500000 - Alp. 0.500000 - Dist. 305.39447 - Total R. 37.221 - Avg R. 0.469\n",
      "10001\n",
      "Iter.    6500 - Steps   497950 - Eps. 0.500000 - Alp. 0.500000 - Dist. 286.70827 - Total R. 31.548 - Avg R. 0.463\n",
      "10001\n",
      "Iter.    6600 - Steps   504148 - Eps. 0.500000 - Alp. 0.500000 - Dist. 283.48161 - Total R. 29.166 - Avg R. 0.451\n",
      "10001\n",
      "Iter.    6700 - Steps   511707 - Eps. 0.500000 - Alp. 0.500000 - Dist. 326.52264 - Total R. 36.864 - Avg R. 0.463\n",
      "27\n",
      "Iter.    6800 - Steps   518992 - Eps. 0.500000 - Alp. 0.500000 - Dist. 306.34178 - Total R. 34.986 - Avg R. 0.459\n",
      "10001\n",
      "Iter.    6900 - Steps   526380 - Eps. 0.500000 - Alp. 0.500000 - Dist. 321.60414 - Total R. 35.124 - Avg R. 0.456\n",
      "10001\n",
      "Iter.    7000 - Steps   533856 - Eps. 0.500000 - Alp. 0.500000 - Dist. 322.83861 - Total R. 35.723 - Avg R. 0.453\n",
      "10001\n",
      "Iter.    7100 - Steps   541740 - Eps. 0.500000 - Alp. 0.500000 - Dist. 349.33457 - Total R. 37.838 - Avg R. 0.461\n",
      "27\n",
      "Iter.    7200 - Steps   549429 - Eps. 0.500000 - Alp. 0.500000 - Dist. 333.89984 - Total R. 36.847 - Avg R. 0.460\n",
      "34\n",
      "Iter.    7300 - Steps   557668 - Eps. 0.500000 - Alp. 0.500000 - Dist. 369.13730 - Total R. 39.754 - Avg R. 0.464\n",
      "10001\n",
      "Iter.    7400 - Steps   565403 - Eps. 0.500000 - Alp. 0.500000 - Dist. 352.76961 - Total R. 37.765 - Avg R. 0.466\n",
      "10001\n",
      "Iter.    7500 - Steps   572794 - Eps. 0.500000 - Alp. 0.500000 - Dist. 327.91809 - Total R. 35.607 - Avg R. 0.460\n",
      "10001\n",
      "Iter.    7600 - Steps   580639 - Eps. 0.500000 - Alp. 0.500000 - Dist. 365.74352 - Total R. 38.777 - Avg R. 0.474\n",
      "10001\n",
      "Iter.    7700 - Steps   588628 - Eps. 0.500000 - Alp. 0.500000 - Dist. 372.57046 - Total R. 38.720 - Avg R. 0.458\n",
      "10001\n",
      "Iter.    7800 - Steps   596990 - Eps. 0.500000 - Alp. 0.500000 - Dist. 382.99829 - Total R. 39.825 - Avg R. 0.467\n",
      "10001\n",
      "Iter.    7900 - Steps   605645 - Eps. 0.500000 - Alp. 0.500000 - Dist. 400.87280 - Total R. 41.883 - Avg R. 0.464\n",
      "10001\n",
      "Iter.    8000 - Steps   613559 - Eps. 0.500000 - Alp. 0.500000 - Dist. 392.98185 - Total R. 38.791 - Avg R. 0.472\n",
      "10001\n",
      "Iter.    8100 - Steps   620882 - Eps. 0.500000 - Alp. 0.500000 - Dist. 368.27409 - Total R. 34.991 - Avg R. 0.462\n",
      "10001\n",
      "Iter.    8200 - Steps   628136 - Eps. 0.500000 - Alp. 0.500000 - Dist. 388.52943 - Total R. 35.824 - Avg R. 0.475\n",
      "10001\n",
      "Iter.    8300 - Steps   636426 - Eps. 0.500000 - Alp. 0.500000 - Dist. 413.67840 - Total R. 40.136 - Avg R. 0.464\n",
      "10001\n",
      "Iter.    8400 - Steps   643704 - Eps. 0.500000 - Alp. 0.500000 - Dist. 401.79064 - Total R. 35.567 - Avg R. 0.467\n",
      "10001\n",
      "Iter.    8500 - Steps   651255 - Eps. 0.500000 - Alp. 0.500000 - Dist. 410.47963 - Total R. 36.664 - Avg R. 0.466\n",
      "10001\n",
      "Iter.    8600 - Steps   659111 - Eps. 0.500000 - Alp. 0.500000 - Dist. 419.59053 - Total R. 38.298 - Avg R. 0.468\n",
      "10001\n",
      "Iter.    8700 - Steps   666251 - Eps. 0.500000 - Alp. 0.500000 - Dist. 410.72330 - Total R. 34.361 - Avg R. 0.460\n",
      "21\n",
      "Iter.    8800 - Steps   673831 - Eps. 0.500000 - Alp. 0.500000 - Dist. 447.67916 - Total R. 37.034 - Avg R. 0.469\n",
      "10001\n",
      "Iter.    8900 - Steps   681262 - Eps. 0.500000 - Alp. 0.500000 - Dist. 426.51777 - Total R. 35.822 - Avg R. 0.466\n",
      "10001\n",
      "Iter.    9000 - Steps   688817 - Eps. 0.500000 - Alp. 0.500000 - Dist. 445.64823 - Total R. 37.068 - Avg R. 0.470\n",
      "10001\n",
      "Iter.    9100 - Steps   696441 - Eps. 0.500000 - Alp. 0.500000 - Dist. 446.57528 - Total R. 36.992 - Avg R. 0.464\n",
      "10001\n",
      "Iter.    9200 - Steps   704353 - Eps. 0.500000 - Alp. 0.500000 - Dist. 428.37489 - Total R. 38.574 - Avg R. 0.468\n",
      "10001\n",
      "Iter.    9300 - Steps   712258 - Eps. 0.500000 - Alp. 0.500000 - Dist. 454.98688 - Total R. 39.620 - Avg R. 0.480\n",
      "10001\n",
      "Iter.    9400 - Steps   719955 - Eps. 0.500000 - Alp. 0.500000 - Dist. 442.88691 - Total R. 37.309 - Avg R. 0.469\n",
      "10001\n",
      "Iter.    9500 - Steps   728360 - Eps. 0.500000 - Alp. 0.500000 - Dist. 485.63129 - Total R. 41.315 - Avg R. 0.473\n",
      "10001\n",
      "Iter.    9600 - Steps   736069 - Eps. 0.500000 - Alp. 0.500000 - Dist. 449.03984 - Total R. 36.937 - Avg R. 0.459\n",
      "10001\n",
      "Iter.    9700 - Steps   743960 - Eps. 0.500000 - Alp. 0.500000 - Dist. 478.08868 - Total R. 37.904 - Avg R. 0.464\n",
      "10001\n",
      "Iter.    9800 - Steps   752278 - Eps. 0.500000 - Alp. 0.500000 - Dist. 498.00205 - Total R. 40.607 - Avg R. 0.468\n",
      "10001\n",
      "Iter.    9900 - Steps   760524 - Eps. 0.500000 - Alp. 0.500000 - Dist. 500.38819 - Total R. 40.760 - Avg R. 0.472\n",
      "10001\n",
      "Iter.   10000 - Steps   767728 - Eps. 0.500000 - Alp. 0.500000 - Dist. 469.88989 - Total R. 34.429 - Avg R. 0.466\n",
      "10001\n",
      "Iter.   10100 - Steps   780423 - Eps. 0.250000 - Alp. 0.500000 - Dist. 623.91530 - Total R. 61.171 - Avg R. 0.463\n",
      "10001\n",
      "Iter.   10200 - Steps   792752 - Eps. 0.250000 - Alp. 0.500000 - Dist. 757.79850 - Total R. 58.555 - Avg R. 0.461\n"
     ]
    },
    {
     "name": "stdout",
     "output_type": "stream",
     "text": [
      "29\n",
      "Iter.   10300 - Steps   804715 - Eps. 0.250000 - Alp. 0.500000 - Dist. 829.08522 - Total R. 56.175 - Avg R. 0.453\n",
      "10001\n",
      "Iter.   10400 - Steps   816542 - Eps. 0.250000 - Alp. 0.500000 - Dist. 823.61803 - Total R. 54.950 - Avg R. 0.451\n",
      "10001\n",
      "Iter.   10500 - Steps   830100 - Eps. 0.250000 - Alp. 0.500000 - Dist. 982.91801 - Total R. 63.193 - Avg R. 0.454\n",
      "10001\n",
      "Iter.   10600 - Steps   842006 - Eps. 0.250000 - Alp. 0.500000 - Dist. 944.97807 - Total R. 54.297 - Avg R. 0.445\n",
      "10001\n",
      "Iter.   10700 - Steps   852178 - Eps. 0.250000 - Alp. 0.500000 - Dist. 811.17638 - Total R. 46.771 - Avg R. 0.444\n",
      "10001\n",
      "Iter.   10800 - Steps   862398 - Eps. 0.250000 - Alp. 0.500000 - Dist. 851.96379 - Total R. 46.681 - Avg R. 0.444\n",
      "10001\n",
      "Iter.   10900 - Steps   873427 - Eps. 0.250000 - Alp. 0.500000 - Dist. 861.43949 - Total R. 50.917 - Avg R. 0.447\n",
      "10001\n",
      "Iter.   11000 - Steps   885608 - Eps. 0.250000 - Alp. 0.500000 - Dist. 998.53180 - Total R. 55.552 - Avg R. 0.442\n",
      "10001\n",
      "Iter.   11100 - Steps   896965 - Eps. 0.250000 - Alp. 0.500000 - Dist. 939.55798 - Total R. 51.627 - Avg R. 0.440\n",
      "10001\n",
      "Iter.   11200 - Steps   909942 - Eps. 0.250000 - Alp. 0.500000 - Dist. 985.91833 - Total R. 59.857 - Avg R. 0.445\n",
      "10001\n",
      "Iter.   11300 - Steps   921294 - Eps. 0.250000 - Alp. 0.500000 - Dist. 985.05503 - Total R. 52.530 - Avg R. 0.445\n",
      "10001\n",
      "Iter.   11400 - Steps   932321 - Eps. 0.250000 - Alp. 0.500000 - Dist. 949.59058 - Total R. 51.175 - Avg R. 0.451\n",
      "26\n",
      "Iter.   11500 - Steps   941582 - Eps. 0.250000 - Alp. 0.500000 - Dist. 859.77591 - Total R. 41.497 - Avg R. 0.432\n",
      "10001\n",
      "Iter.   11600 - Steps   951121 - Eps. 0.250000 - Alp. 0.500000 - Dist. 903.02747 - Total R. 43.884 - Avg R. 0.441\n",
      "10001\n",
      "Iter.   11700 - Steps   962105 - Eps. 0.250000 - Alp. 0.500000 - Dist. 922.81332 - Total R. 51.265 - Avg R. 0.455\n",
      "36\n",
      "Iter.   11800 - Steps   973495 - Eps. 0.250000 - Alp. 0.500000 - Dist. 1066.58167 - Total R. 52.702 - Avg R. 0.440\n",
      "10001\n",
      "Iter.   11900 - Steps   985197 - Eps. 0.250000 - Alp. 0.500000 - Dist. 1091.41358 - Total R. 54.348 - Avg R. 0.447\n",
      "10001\n",
      "Iter.   12000 - Steps   996235 - Eps. 0.250000 - Alp. 0.500000 - Dist. 981.12259 - Total R. 51.311 - Avg R. 0.445\n",
      "10001\n",
      "Iter.   12100 - Steps  1006704 - Eps. 0.250000 - Alp. 0.500000 - Dist. 944.48950 - Total R. 48.770 - Avg R. 0.447\n",
      "10001\n",
      "Iter.   12200 - Steps  1017524 - Eps. 0.250000 - Alp. 0.500000 - Dist. 997.71647 - Total R. 49.615 - Avg R. 0.439\n",
      "10001\n",
      "Iter.   12300 - Steps  1028103 - Eps. 0.250000 - Alp. 0.500000 - Dist. 998.72196 - Total R. 49.080 - Avg R. 0.446\n",
      "10001\n",
      "Iter.   12400 - Steps  1038761 - Eps. 0.250000 - Alp. 0.500000 - Dist. 938.64308 - Total R. 48.500 - Avg R. 0.444\n",
      "10001\n",
      "Iter.   12500 - Steps  1051220 - Eps. 0.250000 - Alp. 0.500000 - Dist. 1116.46145 - Total R. 57.845 - Avg R. 0.450\n",
      "10001\n",
      "Iter.   12600 - Steps  1061218 - Eps. 0.250000 - Alp. 0.500000 - Dist. 943.99791 - Total R. 46.316 - Avg R. 0.449\n",
      "10001\n",
      "Iter.   12700 - Steps  1070949 - Eps. 0.250000 - Alp. 0.500000 - Dist. 978.01568 - Total R. 44.854 - Avg R. 0.446\n",
      "10001\n",
      "Iter.   12800 - Steps  1081104 - Eps. 0.250000 - Alp. 0.500000 - Dist. 1029.68690 - Total R. 46.508 - Avg R. 0.440\n",
      "10001\n",
      "Iter.   12900 - Steps  1091853 - Eps. 0.250000 - Alp. 0.500000 - Dist. 1037.58187 - Total R. 50.187 - Avg R. 0.451\n",
      "10001\n",
      "Iter.   13000 - Steps  1103287 - Eps. 0.250000 - Alp. 0.500000 - Dist. 1048.09239 - Total R. 52.610 - Avg R. 0.447\n",
      "30\n",
      "Iter.   13100 - Steps  1114198 - Eps. 0.250000 - Alp. 0.500000 - Dist. 1074.72471 - Total R. 50.591 - Avg R. 0.449\n",
      "10001\n",
      "Iter.   13200 - Steps  1123897 - Eps. 0.250000 - Alp. 0.500000 - Dist. 982.31669 - Total R. 44.112 - Avg R. 0.442\n",
      "10001\n",
      "Iter.   13300 - Steps  1134141 - Eps. 0.250000 - Alp. 0.500000 - Dist. 1076.11114 - Total R. 47.653 - Avg R. 0.451\n",
      "10001\n",
      "Iter.   13400 - Steps  1144292 - Eps. 0.250000 - Alp. 0.500000 - Dist. 1029.05934 - Total R. 46.309 - Avg R. 0.438\n",
      "10001\n",
      "Iter.   13500 - Steps  1155317 - Eps. 0.250000 - Alp. 0.500000 - Dist. 1144.84669 - Total R. 50.616 - Avg R. 0.441\n",
      "10001\n",
      "Iter.   13600 - Steps  1166421 - Eps. 0.250000 - Alp. 0.500000 - Dist. 1094.99453 - Total R. 50.614 - Avg R. 0.437\n",
      "10001\n",
      "Iter.   13700 - Steps  1177183 - Eps. 0.250000 - Alp. 0.500000 - Dist. 1074.89097 - Total R. 49.578 - Avg R. 0.440\n",
      "10001\n",
      "Iter.   13800 - Steps  1187178 - Eps. 0.250000 - Alp. 0.500000 - Dist. 1037.05892 - Total R. 44.944 - Avg R. 0.432\n",
      "10001\n",
      "Iter.   13900 - Steps  1198293 - Eps. 0.250000 - Alp. 0.500000 - Dist. 1125.27206 - Total R. 51.305 - Avg R. 0.443\n",
      "10001\n",
      "Iter.   14000 - Steps  1208021 - Eps. 0.250000 - Alp. 0.500000 - Dist. 1021.84490 - Total R. 44.762 - Avg R. 0.441\n",
      "10001\n",
      "Iter.   14100 - Steps  1218333 - Eps. 0.250000 - Alp. 0.500000 - Dist. 1055.78739 - Total R. 47.341 - Avg R. 0.441\n",
      "10001\n",
      "Iter.   14200 - Steps  1228889 - Eps. 0.250000 - Alp. 0.500000 - Dist. 1107.60064 - Total R. 48.054 - Avg R. 0.443\n",
      "10001\n",
      "Iter.   14300 - Steps  1238268 - Eps. 0.250000 - Alp. 0.500000 - Dist. 1046.56602 - Total R. 42.834 - Avg R. 0.440\n",
      "10001\n",
      "Iter.   14400 - Steps  1248443 - Eps. 0.250000 - Alp. 0.500000 - Dist. 1085.63300 - Total R. 46.406 - Avg R. 0.439\n",
      "10001\n",
      "Iter.   14500 - Steps  1258321 - Eps. 0.250000 - Alp. 0.500000 - Dist. 1044.87742 - Total R. 45.596 - Avg R. 0.445\n",
      "10001\n",
      "Iter.   14600 - Steps  1268443 - Eps. 0.250000 - Alp. 0.500000 - Dist. 1084.91385 - Total R. 46.436 - Avg R. 0.439\n",
      "10001\n",
      "Iter.   14700 - Steps  1279601 - Eps. 0.250000 - Alp. 0.500000 - Dist. 1146.92404 - Total R. 52.021 - Avg R. 0.449\n",
      "10001\n",
      "Iter.   14800 - Steps  1289130 - Eps. 0.250000 - Alp. 0.500000 - Dist. 1004.93688 - Total R. 43.567 - Avg R. 0.439\n",
      "10001\n",
      "Iter.   14900 - Steps  1299826 - Eps. 0.250000 - Alp. 0.500000 - Dist. 1057.73241 - Total R. 49.281 - Avg R. 0.445\n",
      "10001\n",
      "Iter.   15000 - Steps  1309321 - Eps. 0.250000 - Alp. 0.500000 - Dist. 1027.08576 - Total R. 43.051 - Avg R. 0.436\n",
      "10001\n",
      "Iter.   15100 - Steps  1319860 - Eps. 0.250000 - Alp. 0.500000 - Dist. 1074.08130 - Total R. 48.163 - Avg R. 0.438\n",
      "10001\n",
      "Iter.   15200 - Steps  1330894 - Eps. 0.250000 - Alp. 0.500000 - Dist. 1119.66039 - Total R. 51.241 - Avg R. 0.448\n",
      "10001\n",
      "Iter.   15300 - Steps  1341593 - Eps. 0.250000 - Alp. 0.500000 - Dist. 1167.10163 - Total R. 49.683 - Avg R. 0.443\n",
      "10001\n",
      "Iter.   15400 - Steps  1351417 - Eps. 0.250000 - Alp. 0.500000 - Dist. 1150.85738 - Total R. 45.819 - Avg R. 0.446\n",
      "10001\n",
      "Iter.   15500 - Steps  1361600 - Eps. 0.250000 - Alp. 0.500000 - Dist. 1086.16698 - Total R. 47.524 - Avg R. 0.448\n",
      "10001\n",
      "Iter.   15600 - Steps  1371743 - Eps. 0.250000 - Alp. 0.500000 - Dist. 1187.66169 - Total R. 47.852 - Avg R. 0.450\n",
      "10001\n",
      "Iter.   15700 - Steps  1381977 - Eps. 0.250000 - Alp. 0.500000 - Dist. 1100.65933 - Total R. 48.388 - Avg R. 0.453\n",
      "10001\n",
      "Iter.   15800 - Steps  1393040 - Eps. 0.250000 - Alp. 0.500000 - Dist. 1139.17108 - Total R. 51.236 - Avg R. 0.442\n",
      "10001\n",
      "Iter.   15900 - Steps  1402798 - Eps. 0.250000 - Alp. 0.500000 - Dist. 1127.42744 - Total R. 44.795 - Avg R. 0.441\n",
      "10001\n",
      "Iter.   16000 - Steps  1412800 - Eps. 0.250000 - Alp. 0.500000 - Dist. 1120.05405 - Total R. 46.826 - Avg R. 0.450\n",
      "10001\n",
      "Iter.   16100 - Steps  1421770 - Eps. 0.250000 - Alp. 0.500000 - Dist. 1057.66460 - Total R. 41.804 - Avg R. 0.443\n",
      "10001\n",
      "Iter.   16200 - Steps  1431968 - Eps. 0.250000 - Alp. 0.500000 - Dist. 1127.32268 - Total R. 47.112 - Avg R. 0.438\n",
      "38\n",
      "Iter.   16300 - Steps  1440783 - Eps. 0.250000 - Alp. 0.500000 - Dist. 1172.71864 - Total R. 40.907 - Avg R. 0.441\n",
      "10001\n",
      "Iter.   16400 - Steps  1451204 - Eps. 0.250000 - Alp. 0.500000 - Dist. 1168.47890 - Total R. 48.335 - Avg R. 0.448\n",
      "10001\n"
     ]
    },
    {
     "ename": "KeyboardInterrupt",
     "evalue": "",
     "output_type": "error",
     "traceback": [
      "\u001b[0;31m---------------------------------------------------------------------------\u001b[0m",
      "\u001b[0;31mKeyboardInterrupt\u001b[0m                         Traceback (most recent call last)",
      "\u001b[0;32m<ipython-input-35-7e966c0b7a45>\u001b[0m in \u001b[0;36m<module>\u001b[0;34m\u001b[0m\n\u001b[1;32m      6\u001b[0m     \u001b[0malpha\u001b[0m \u001b[0;34m=\u001b[0m \u001b[0malpha_initial\u001b[0m\u001b[0;34m\u001b[0m\u001b[0;34m\u001b[0m\u001b[0m\n\u001b[1;32m      7\u001b[0m \u001b[0;34m\u001b[0m\u001b[0m\n\u001b[0;32m----> 8\u001b[0;31m     \u001b[0mdog_table\u001b[0m \u001b[0;34m=\u001b[0m \u001b[0mcreate_episode\u001b[0m\u001b[0;34m(\u001b[0m\u001b[0mQ\u001b[0m \u001b[0;34m=\u001b[0m \u001b[0mQ\u001b[0m\u001b[0;34m,\u001b[0m \u001b[0mmax_steps\u001b[0m \u001b[0;34m=\u001b[0m \u001b[0mmax_steps\u001b[0m\u001b[0;34m,\u001b[0m \u001b[0mepsilon\u001b[0m \u001b[0;34m=\u001b[0m \u001b[0mepsilon\u001b[0m\u001b[0;34m)\u001b[0m\u001b[0;34m\u001b[0m\u001b[0;34m\u001b[0m\u001b[0m\n\u001b[0m\u001b[1;32m      9\u001b[0m     \u001b[0;31m#print(dog_table)\u001b[0m\u001b[0;34m\u001b[0m\u001b[0;34m\u001b[0m\u001b[0;34m\u001b[0m\u001b[0m\n\u001b[1;32m     10\u001b[0m \u001b[0;34m\u001b[0m\u001b[0m\n",
      "\u001b[0;32m<ipython-input-6-e2a5bd2bf4af>\u001b[0m in \u001b[0;36mcreate_episode\u001b[0;34m(Q, max_steps, epsilon)\u001b[0m\n\u001b[1;32m     13\u001b[0m             \u001b[0mepsilon\u001b[0m \u001b[0;34m=\u001b[0m \u001b[0mepsilon\u001b[0m\u001b[0;34m\u001b[0m\u001b[0;34m\u001b[0m\u001b[0m\n\u001b[1;32m     14\u001b[0m         )\n\u001b[0;32m---> 15\u001b[0;31m         \u001b[0mdog_table\u001b[0m \u001b[0;34m=\u001b[0m \u001b[0mnew_state_after_1_minute\u001b[0m\u001b[0;34m(\u001b[0m\u001b[0mdog_table\u001b[0m\u001b[0;34m,\u001b[0m \u001b[0maction_taken\u001b[0m \u001b[0;34m=\u001b[0m \u001b[0maction_space\u001b[0m\u001b[0;34m[\u001b[0m\u001b[0maction\u001b[0m\u001b[0;34m]\u001b[0m\u001b[0;34m)\u001b[0m\u001b[0;34m\u001b[0m\u001b[0;34m\u001b[0m\u001b[0m\n\u001b[0m\u001b[1;32m     16\u001b[0m         \u001b[0mstate\u001b[0m \u001b[0;34m=\u001b[0m \u001b[0mdog_table\u001b[0m\u001b[0;34m.\u001b[0m\u001b[0mtail\u001b[0m\u001b[0;34m(\u001b[0m\u001b[0;36m1\u001b[0m\u001b[0;34m)\u001b[0m\u001b[0;34m\u001b[0m\u001b[0;34m\u001b[0m\u001b[0m\n\u001b[1;32m     17\u001b[0m \u001b[0;34m\u001b[0m\u001b[0m\n",
      "\u001b[0;32m<ipython-input-3-34f5807be771>\u001b[0m in \u001b[0;36mnew_state_after_1_minute\u001b[0;34m(dog_table, action_taken)\u001b[0m\n\u001b[1;32m     65\u001b[0m     \u001b[0mnew_state_minutes_since_last_action\u001b[0m \u001b[0;34m=\u001b[0m \u001b[0mdog_table_row\u001b[0m\u001b[0;34m.\u001b[0m\u001b[0miloc\u001b[0m\u001b[0;34m[\u001b[0m\u001b[0;36m0\u001b[0m\u001b[0;34m]\u001b[0m\u001b[0;34m[\u001b[0m\u001b[0;34m'minutes_since_last_action'\u001b[0m\u001b[0;34m]\u001b[0m \u001b[0;34m+\u001b[0m \u001b[0;36m1\u001b[0m\u001b[0;34m\u001b[0m\u001b[0;34m\u001b[0m\u001b[0m\n\u001b[1;32m     66\u001b[0m \u001b[0;34m\u001b[0m\u001b[0m\n\u001b[0;32m---> 67\u001b[0;31m     \u001b[0mnew_state_happiness\u001b[0m \u001b[0;34m=\u001b[0m \u001b[0mupdate_happiness\u001b[0m\u001b[0;34m(\u001b[0m\u001b[0mdog_table_row\u001b[0m\u001b[0;34m)\u001b[0m\u001b[0;34m\u001b[0m\u001b[0;34m\u001b[0m\u001b[0m\n\u001b[0m\u001b[1;32m     68\u001b[0m     \u001b[0mnew_state_alive\u001b[0m \u001b[0;34m=\u001b[0m \u001b[0mupdate_alive\u001b[0m\u001b[0;34m(\u001b[0m\u001b[0mdog_table_row\u001b[0m\u001b[0;34m)\u001b[0m\u001b[0;34m\u001b[0m\u001b[0;34m\u001b[0m\u001b[0m\n\u001b[1;32m     69\u001b[0m \u001b[0;34m\u001b[0m\u001b[0m\n",
      "\u001b[0;32m<ipython-input-3-34f5807be771>\u001b[0m in \u001b[0;36mupdate_happiness\u001b[0;34m(dog_table_row)\u001b[0m\n\u001b[1;32m     41\u001b[0m \u001b[0;32mdef\u001b[0m \u001b[0mupdate_happiness\u001b[0m\u001b[0;34m(\u001b[0m\u001b[0mdog_table_row\u001b[0m\u001b[0;34m)\u001b[0m \u001b[0;34m->\u001b[0m \u001b[0mfloat\u001b[0m\u001b[0;34m:\u001b[0m  \u001b[0;31m# between 0 and 1\u001b[0m\u001b[0;34m\u001b[0m\u001b[0;34m\u001b[0m\u001b[0m\n\u001b[1;32m     42\u001b[0m     return min(\n\u001b[0;32m---> 43\u001b[0;31m         \u001b[0mdog_table_row\u001b[0m\u001b[0;34m.\u001b[0m\u001b[0miloc\u001b[0m\u001b[0;34m[\u001b[0m\u001b[0;36m0\u001b[0m\u001b[0;34m]\u001b[0m\u001b[0;34m[\u001b[0m\u001b[0;34m'food'\u001b[0m\u001b[0;34m]\u001b[0m\u001b[0;34m,\u001b[0m\u001b[0;34m\u001b[0m\u001b[0;34m\u001b[0m\u001b[0m\n\u001b[0m\u001b[1;32m     44\u001b[0m         \u001b[0;36m1.0\u001b[0m \u001b[0;34m-\u001b[0m \u001b[0mdog_table_row\u001b[0m\u001b[0;34m.\u001b[0m\u001b[0miloc\u001b[0m\u001b[0;34m[\u001b[0m\u001b[0;36m0\u001b[0m\u001b[0;34m]\u001b[0m\u001b[0;34m[\u001b[0m\u001b[0;34m'fat'\u001b[0m\u001b[0;34m]\u001b[0m\u001b[0;34m,\u001b[0m\u001b[0;34m\u001b[0m\u001b[0;34m\u001b[0m\u001b[0m\n\u001b[1;32m     45\u001b[0m         \u001b[0mdog_table_row\u001b[0m\u001b[0;34m.\u001b[0m\u001b[0miloc\u001b[0m\u001b[0;34m[\u001b[0m\u001b[0;36m0\u001b[0m\u001b[0;34m]\u001b[0m\u001b[0;34m[\u001b[0m\u001b[0;34m'affection'\u001b[0m\u001b[0;34m]\u001b[0m\u001b[0;34m\u001b[0m\u001b[0;34m\u001b[0m\u001b[0m\n",
      "\u001b[0;32m~/Projects/nlp_testing/.venv/lib/python3.7/site-packages/pandas/core/indexing.py\u001b[0m in \u001b[0;36m__getitem__\u001b[0;34m(self, key)\u001b[0m\n\u001b[1;32m   1422\u001b[0m \u001b[0;34m\u001b[0m\u001b[0m\n\u001b[1;32m   1423\u001b[0m             \u001b[0mmaybe_callable\u001b[0m \u001b[0;34m=\u001b[0m \u001b[0mcom\u001b[0m\u001b[0;34m.\u001b[0m\u001b[0mapply_if_callable\u001b[0m\u001b[0;34m(\u001b[0m\u001b[0mkey\u001b[0m\u001b[0;34m,\u001b[0m \u001b[0mself\u001b[0m\u001b[0;34m.\u001b[0m\u001b[0mobj\u001b[0m\u001b[0;34m)\u001b[0m\u001b[0;34m\u001b[0m\u001b[0;34m\u001b[0m\u001b[0m\n\u001b[0;32m-> 1424\u001b[0;31m             \u001b[0;32mreturn\u001b[0m \u001b[0mself\u001b[0m\u001b[0;34m.\u001b[0m\u001b[0m_getitem_axis\u001b[0m\u001b[0;34m(\u001b[0m\u001b[0mmaybe_callable\u001b[0m\u001b[0;34m,\u001b[0m \u001b[0maxis\u001b[0m\u001b[0;34m=\u001b[0m\u001b[0maxis\u001b[0m\u001b[0;34m)\u001b[0m\u001b[0;34m\u001b[0m\u001b[0;34m\u001b[0m\u001b[0m\n\u001b[0m\u001b[1;32m   1425\u001b[0m \u001b[0;34m\u001b[0m\u001b[0m\n\u001b[1;32m   1426\u001b[0m     \u001b[0;32mdef\u001b[0m \u001b[0m_is_scalar_access\u001b[0m\u001b[0;34m(\u001b[0m\u001b[0mself\u001b[0m\u001b[0;34m,\u001b[0m \u001b[0mkey\u001b[0m\u001b[0;34m:\u001b[0m \u001b[0mTuple\u001b[0m\u001b[0;34m)\u001b[0m\u001b[0;34m:\u001b[0m\u001b[0;34m\u001b[0m\u001b[0;34m\u001b[0m\u001b[0m\n",
      "\u001b[0;32m~/Projects/nlp_testing/.venv/lib/python3.7/site-packages/pandas/core/indexing.py\u001b[0m in \u001b[0;36m_getitem_axis\u001b[0;34m(self, key, axis)\u001b[0m\n\u001b[1;32m   2157\u001b[0m             \u001b[0mself\u001b[0m\u001b[0;34m.\u001b[0m\u001b[0m_validate_integer\u001b[0m\u001b[0;34m(\u001b[0m\u001b[0mkey\u001b[0m\u001b[0;34m,\u001b[0m \u001b[0maxis\u001b[0m\u001b[0;34m)\u001b[0m\u001b[0;34m\u001b[0m\u001b[0;34m\u001b[0m\u001b[0m\n\u001b[1;32m   2158\u001b[0m \u001b[0;34m\u001b[0m\u001b[0m\n\u001b[0;32m-> 2159\u001b[0;31m             \u001b[0;32mreturn\u001b[0m \u001b[0mself\u001b[0m\u001b[0;34m.\u001b[0m\u001b[0m_get_loc\u001b[0m\u001b[0;34m(\u001b[0m\u001b[0mkey\u001b[0m\u001b[0;34m,\u001b[0m \u001b[0maxis\u001b[0m\u001b[0;34m=\u001b[0m\u001b[0maxis\u001b[0m\u001b[0;34m)\u001b[0m\u001b[0;34m\u001b[0m\u001b[0;34m\u001b[0m\u001b[0m\n\u001b[0m\u001b[1;32m   2160\u001b[0m \u001b[0;34m\u001b[0m\u001b[0m\n\u001b[1;32m   2161\u001b[0m     \u001b[0;31m# raise_missing is included for compat with the parent class signature\u001b[0m\u001b[0;34m\u001b[0m\u001b[0;34m\u001b[0m\u001b[0;34m\u001b[0m\u001b[0m\n",
      "\u001b[0;32m~/Projects/nlp_testing/.venv/lib/python3.7/site-packages/pandas/core/indexing.py\u001b[0m in \u001b[0;36m_get_loc\u001b[0;34m(self, key, axis)\u001b[0m\n\u001b[1;32m    161\u001b[0m \u001b[0;34m\u001b[0m\u001b[0m\n\u001b[1;32m    162\u001b[0m     \u001b[0;32mdef\u001b[0m \u001b[0m_get_loc\u001b[0m\u001b[0;34m(\u001b[0m\u001b[0mself\u001b[0m\u001b[0;34m,\u001b[0m \u001b[0mkey\u001b[0m\u001b[0;34m:\u001b[0m \u001b[0mint\u001b[0m\u001b[0;34m,\u001b[0m \u001b[0maxis\u001b[0m\u001b[0;34m:\u001b[0m \u001b[0mint\u001b[0m\u001b[0;34m)\u001b[0m\u001b[0;34m:\u001b[0m\u001b[0;34m\u001b[0m\u001b[0;34m\u001b[0m\u001b[0m\n\u001b[0;32m--> 163\u001b[0;31m         \u001b[0;32mreturn\u001b[0m \u001b[0mself\u001b[0m\u001b[0;34m.\u001b[0m\u001b[0mobj\u001b[0m\u001b[0;34m.\u001b[0m\u001b[0m_ixs\u001b[0m\u001b[0;34m(\u001b[0m\u001b[0mkey\u001b[0m\u001b[0;34m,\u001b[0m \u001b[0maxis\u001b[0m\u001b[0;34m=\u001b[0m\u001b[0maxis\u001b[0m\u001b[0;34m)\u001b[0m\u001b[0;34m\u001b[0m\u001b[0;34m\u001b[0m\u001b[0m\n\u001b[0m\u001b[1;32m    164\u001b[0m \u001b[0;34m\u001b[0m\u001b[0m\n\u001b[1;32m    165\u001b[0m     \u001b[0;32mdef\u001b[0m \u001b[0m_slice\u001b[0m\u001b[0;34m(\u001b[0m\u001b[0mself\u001b[0m\u001b[0;34m,\u001b[0m \u001b[0mobj\u001b[0m\u001b[0;34m,\u001b[0m \u001b[0maxis\u001b[0m\u001b[0;34m:\u001b[0m \u001b[0mint\u001b[0m\u001b[0;34m,\u001b[0m \u001b[0mkind\u001b[0m\u001b[0;34m=\u001b[0m\u001b[0;32mNone\u001b[0m\u001b[0;34m)\u001b[0m\u001b[0;34m:\u001b[0m\u001b[0;34m\u001b[0m\u001b[0;34m\u001b[0m\u001b[0m\n",
      "\u001b[0;32m~/Projects/nlp_testing/.venv/lib/python3.7/site-packages/pandas/core/frame.py\u001b[0m in \u001b[0;36m_ixs\u001b[0;34m(self, i, axis)\u001b[0m\n\u001b[1;32m   2928\u001b[0m         \u001b[0;32mif\u001b[0m \u001b[0maxis\u001b[0m \u001b[0;34m==\u001b[0m \u001b[0;36m0\u001b[0m\u001b[0;34m:\u001b[0m\u001b[0;34m\u001b[0m\u001b[0;34m\u001b[0m\u001b[0m\n\u001b[1;32m   2929\u001b[0m             \u001b[0mlabel\u001b[0m \u001b[0;34m=\u001b[0m \u001b[0mself\u001b[0m\u001b[0;34m.\u001b[0m\u001b[0mindex\u001b[0m\u001b[0;34m[\u001b[0m\u001b[0mi\u001b[0m\u001b[0;34m]\u001b[0m\u001b[0;34m\u001b[0m\u001b[0;34m\u001b[0m\u001b[0m\n\u001b[0;32m-> 2930\u001b[0;31m             \u001b[0mnew_values\u001b[0m \u001b[0;34m=\u001b[0m \u001b[0mself\u001b[0m\u001b[0;34m.\u001b[0m\u001b[0m_data\u001b[0m\u001b[0;34m.\u001b[0m\u001b[0mfast_xs\u001b[0m\u001b[0;34m(\u001b[0m\u001b[0mi\u001b[0m\u001b[0;34m)\u001b[0m\u001b[0;34m\u001b[0m\u001b[0;34m\u001b[0m\u001b[0m\n\u001b[0m\u001b[1;32m   2931\u001b[0m             \u001b[0;32mif\u001b[0m \u001b[0mis_scalar\u001b[0m\u001b[0;34m(\u001b[0m\u001b[0mnew_values\u001b[0m\u001b[0;34m)\u001b[0m\u001b[0;34m:\u001b[0m\u001b[0;34m\u001b[0m\u001b[0;34m\u001b[0m\u001b[0m\n\u001b[1;32m   2932\u001b[0m                 \u001b[0;32mreturn\u001b[0m \u001b[0mnew_values\u001b[0m\u001b[0;34m\u001b[0m\u001b[0;34m\u001b[0m\u001b[0m\n",
      "\u001b[0;32m~/Projects/nlp_testing/.venv/lib/python3.7/site-packages/pandas/core/internals/managers.py\u001b[0m in \u001b[0;36mfast_xs\u001b[0;34m(self, loc)\u001b[0m\n\u001b[1;32m    909\u001b[0m             \u001b[0;31m# Such assignment may incorrectly coerce NaT to None\u001b[0m\u001b[0;34m\u001b[0m\u001b[0;34m\u001b[0m\u001b[0;34m\u001b[0m\u001b[0m\n\u001b[1;32m    910\u001b[0m             \u001b[0;31m# result[blk.mgr_locs] = blk._slice((slice(None), loc))\u001b[0m\u001b[0;34m\u001b[0m\u001b[0;34m\u001b[0m\u001b[0;34m\u001b[0m\u001b[0m\n\u001b[0;32m--> 911\u001b[0;31m             \u001b[0;32mfor\u001b[0m \u001b[0mi\u001b[0m\u001b[0;34m,\u001b[0m \u001b[0mrl\u001b[0m \u001b[0;32min\u001b[0m \u001b[0menumerate\u001b[0m\u001b[0;34m(\u001b[0m\u001b[0mblk\u001b[0m\u001b[0;34m.\u001b[0m\u001b[0mmgr_locs\u001b[0m\u001b[0;34m)\u001b[0m\u001b[0;34m:\u001b[0m\u001b[0;34m\u001b[0m\u001b[0;34m\u001b[0m\u001b[0m\n\u001b[0m\u001b[1;32m    912\u001b[0m                 \u001b[0mresult\u001b[0m\u001b[0;34m[\u001b[0m\u001b[0mrl\u001b[0m\u001b[0;34m]\u001b[0m \u001b[0;34m=\u001b[0m \u001b[0mblk\u001b[0m\u001b[0;34m.\u001b[0m\u001b[0m_try_coerce_result\u001b[0m\u001b[0;34m(\u001b[0m\u001b[0mblk\u001b[0m\u001b[0;34m.\u001b[0m\u001b[0miget\u001b[0m\u001b[0;34m(\u001b[0m\u001b[0;34m(\u001b[0m\u001b[0mi\u001b[0m\u001b[0;34m,\u001b[0m \u001b[0mloc\u001b[0m\u001b[0;34m)\u001b[0m\u001b[0;34m)\u001b[0m\u001b[0;34m)\u001b[0m\u001b[0;34m\u001b[0m\u001b[0;34m\u001b[0m\u001b[0m\n\u001b[1;32m    913\u001b[0m \u001b[0;34m\u001b[0m\u001b[0m\n",
      "\u001b[0;31mKeyboardInterrupt\u001b[0m: "
     ]
    }
   ],
   "source": [
    "# Starting with Q-learning\n",
    "\n",
    "while not convergence:\n",
    "    \n",
    "    epsilon = epsilon_initial / np.ceil( (len(all_overall_reward)+1) / 10000)\n",
    "    alpha = alpha_initial\n",
    "    \n",
    "    dog_table = create_episode(Q = Q, max_steps = max_steps, epsilon = epsilon)\n",
    "    #print(dog_table)\n",
    "\n",
    "    for t in range(len(dog_table)-1):\n",
    "        (state_t, action_t, reward_t, state_t_1) = state_action_reward(dog_table, t, action_space)\n",
    "\n",
    "        Q = update(Q, state_t, reward_t, action_t, state_t_1, gamma = 1, alpha = alpha)\n",
    "    \n",
    "    overall_reward = sum(dog_table['happiness'])\n",
    "    \n",
    "    all_overall_reward.append(overall_reward)\n",
    "    all_overall_reward_t.append(overall_reward/len(dog_table))\n",
    "    len_steps.append(len(dog_table)-1)\n",
    "    nber_steps += len(dog_table)-1\n",
    "    \n",
    "    # print(episode, t, overall_reward, overall_reward/t)\n",
    "    if len(all_overall_reward) % 100 == 0:\n",
    "        \n",
    "        all_overall_reward_plot.append(np.mean(all_overall_reward[-100:]))\n",
    "        all_overall_reward_t_plot.append(np.mean(all_overall_reward_t[-100:]))\n",
    "        len_steps_plot.append(np.mean(len_steps[-100:]))\n",
    "        \n",
    "        distance_q_matrices = np.linalg.norm(Q_previous - Q)\n",
    "        convergence = distance_q_matrices < 0.00001\n",
    "        Q_previous = Q.copy()\n",
    "        \n",
    "        print('Iter. {:7d} - Steps {:8d} - Eps. {:0.6f} - Alp. {:0.6f} - Dist. {:06.5f} - Total R. {:06.3f} - Avg R. {:0.3f}'.format(\n",
    "            len(all_overall_reward),\n",
    "            nber_steps,\n",
    "            epsilon, alpha,\n",
    "            distance_q_matrices,\n",
    "            np.mean(all_overall_reward[-100:]),\n",
    "            np.mean(all_overall_reward_t[-100:])\n",
    "        ))\n",
    "        #intermediate_plots(len_steps_plot, all_overall_reward_t_plot)\n",
    "        \n",
    "        dog_table_100 = create_episode(Q = Q, max_steps = 10000, epsilon = 0)\n",
    "        \n",
    "        dog_table_100.to_csv('dog_table/dog_table'+str(len(all_overall_reward))+'.csv', sep=',')\n",
    "        print(len(dog_table_100))\n",
    "\n",
    "    if len(all_overall_reward) % 100000000 == 0:\n",
    "        display_analyse_Q(Q)\n"
   ]
  },
  {
   "cell_type": "markdown",
   "metadata": {},
   "source": [
    "## Analysis"
   ]
  },
  {
   "cell_type": "code",
   "execution_count": null,
   "metadata": {
    "ExecuteTime": {
     "end_time": "2020-04-23T17:13:56.085244Z",
     "start_time": "2020-04-23T17:13:10.391Z"
    }
   },
   "outputs": [],
   "source": [
    "dog_table_100 = create_episode(Q = Q, max_steps = 10000, epsilon = 0)\n",
    "dog_table_100"
   ]
  },
  {
   "cell_type": "code",
   "execution_count": null,
   "metadata": {
    "ExecuteTime": {
     "end_time": "2020-04-23T17:13:56.086786Z",
     "start_time": "2020-04-23T17:13:10.395Z"
    }
   },
   "outputs": [],
   "source": [
    "dog_table_100.to_csv('dog_table'+str(len(all_overall_reward))+'.csv', sep=',')\n",
    "print(len(dog_table_100))\n"
   ]
  },
  {
   "cell_type": "code",
   "execution_count": 27,
   "metadata": {
    "ExecuteTime": {
     "end_time": "2020-04-23T18:54:35.543060Z",
     "start_time": "2020-04-23T18:54:35.538529Z"
    }
   },
   "outputs": [
    {
     "data": {
      "text/plain": [
       "array([22.1693298 , 21.95484588, 19.2094487 , 22.11607393])"
      ]
     },
     "execution_count": 27,
     "metadata": {},
     "output_type": "execute_result"
    }
   ],
   "source": [
    "Q[490049,:]"
   ]
  },
  {
   "cell_type": "code",
   "execution_count": null,
   "metadata": {
    "ExecuteTime": {
     "end_time": "2020-04-23T17:13:56.090253Z",
     "start_time": "2020-04-23T17:13:10.402Z"
    }
   },
   "outputs": [],
   "source": [
    "listy = Q[500051, :]\n",
    "winner = np.argwhere(listy == np.amax(listy))\n",
    "winner_list = winner.flatten().tolist()\n",
    "action = random.choices(winner_list, k = 1)[0]\n",
    "action"
   ]
  },
  {
   "cell_type": "code",
   "execution_count": null,
   "metadata": {
    "ExecuteTime": {
     "end_time": "2020-04-23T17:13:56.091821Z",
     "start_time": "2020-04-23T17:13:10.405Z"
    }
   },
   "outputs": [],
   "source": [
    "action = np.argmax(Q[state_q, :])"
   ]
  },
  {
   "cell_type": "code",
   "execution_count": 38,
   "metadata": {
    "ExecuteTime": {
     "end_time": "2020-04-24T11:23:53.599792Z",
     "start_time": "2020-04-24T11:23:53.586651Z"
    }
   },
   "outputs": [
    {
     "name": "stdout",
     "output_type": "stream",
     "text": [
      "[10. 10. 10. ... 10. 10. 10.]\n",
      "11.197822666367424\n",
      "[10. 10. 10. ... 10. 10. 10.]\n",
      "10.710290950799594\n",
      "[10. 10. 10. ... 10. 10. 10.]\n",
      "11.030782747531367\n",
      "[10. 10. 10. ... 10. 10. 10.]\n",
      "10.687791479142733\n"
     ]
    }
   ],
   "source": [
    "for i in range(Q.shape[1]):\n",
    "    print(Q[:,i])\n",
    "    print(np.mean(Q[:,i]))"
   ]
  },
  {
   "cell_type": "code",
   "execution_count": null,
   "metadata": {
    "ExecuteTime": {
     "end_time": "2020-04-23T17:13:56.094846Z",
     "start_time": "2020-04-23T17:13:10.411Z"
    }
   },
   "outputs": [],
   "source": [
    "dog_table = create_episode(\n",
    "        Q = Q,\n",
    "        max_steps = max_steps,\n",
    "        epsilon = 0)\n",
    "dog_table"
   ]
  },
  {
   "cell_type": "code",
   "execution_count": null,
   "metadata": {
    "ExecuteTime": {
     "end_time": "2020-04-23T17:13:56.096669Z",
     "start_time": "2020-04-23T17:13:10.414Z"
    }
   },
   "outputs": [],
   "source": [
    "sum(dog_table['happiness'])"
   ]
  },
  {
   "cell_type": "code",
   "execution_count": 29,
   "metadata": {
    "ExecuteTime": {
     "end_time": "2020-04-23T18:54:49.439146Z",
     "start_time": "2020-04-23T18:54:49.119971Z"
    }
   },
   "outputs": [
    {
     "data": {
      "image/png": "[encoded data removed]",
      "text/plain": [
       "<Figure size 432x288 with 2 Axes>"
      ]
     },
     "metadata": {
      "needs_background": "light"
     },
     "output_type": "display_data"
    }
   ],
   "source": [
    "intermediate_plots(len_steps_plot, all_overall_reward_t_plot)"
   ]
  },
  {
   "cell_type": "code",
   "execution_count": 36,
   "metadata": {
    "ExecuteTime": {
     "end_time": "2020-04-24T09:16:00.532239Z",
     "start_time": "2020-04-24T06:53:17.737508Z"
    }
   },
   "outputs": [
    {
     "data": {
      "application/vnd.jupyter.widget-view+json": {
       "model_id": "a1025570f90b403da9de0437960da1da",
       "version_major": 2,
       "version_minor": 0
      },
      "text/plain": [
       "HBox(children=(FloatProgress(value=0.0, max=1000000.0), HTML(value='')))"
      ]
     },
     "metadata": {},
     "output_type": "display_data"
    },
    {
     "name": "stdout",
     "output_type": "stream",
     "text": [
      "\n"
     ]
    },
    {
     "data": {
      "image/png": "[encoded data removed]",
      "text/plain": [
       "<Figure size 432x288 with 1 Axes>"
      ]
     },
     "metadata": {
      "needs_background": "light"
     },
     "output_type": "display_data"
    },
    {
     "data": {
      "image/png": "[encoded data removed]",
      "text/plain": [
       "<Figure size 432x288 with 1 Axes>"
      ]
     },
     "metadata": {
      "needs_background": "light"
     },
     "output_type": "display_data"
    },
    {
     "data": {
      "image/png": "[encoded data removed]",
      "text/plain": [
       "<Figure size 432x288 with 1 Axes>"
      ]
     },
     "metadata": {
      "needs_background": "light"
     },
     "output_type": "display_data"
    }
   ],
   "source": [
    "display_analyse_Q(Q)"
   ]
  },
  {
   "cell_type": "code",
   "execution_count": null,
   "metadata": {},
   "outputs": [],
   "source": []
  }
 ],
 "metadata": {
  "hide_input": false,
  "kernelspec": {
   "display_name": ".venv",
   "language": "python",
   "name": ".venv"
  },
  "language_info": {
   "codemirror_mode": {
    "name": "ipython",
    "version": 3
   },
   "file_extension": ".py",
   "mimetype": "text/x-python",
   "name": "python",
   "nbconvert_exporter": "python",
   "pygments_lexer": "ipython3",
   "version": "3.7.5"
  },
  "toc": {
   "base_numbering": 1,
   "nav_menu": {},
   "number_sections": true,
   "sideBar": true,
   "skip_h1_title": false,
   "title_cell": "Table of Contents",
   "title_sidebar": "Contents",
   "toc_cell": false,
   "toc_position": {},
   "toc_section_display": true,
   "toc_window_display": false
  }
 },
 "nbformat": 4,
 "nbformat_minor": 2
}
