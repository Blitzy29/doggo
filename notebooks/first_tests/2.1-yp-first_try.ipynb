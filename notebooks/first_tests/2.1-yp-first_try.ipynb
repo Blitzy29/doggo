{
 "cells": [
  {
   "cell_type": "code",
   "execution_count": 31,
   "metadata": {
    "ExecuteTime": {
     "end_time": "2020-04-21T17:29:41.193348Z",
     "start_time": "2020-04-21T17:29:41.186830Z"
    }
   },
   "outputs": [],
   "source": [
    "import numpy as np\n",
    "import pandas as pd\n",
    "import random\n",
    "import matplotlib.pyplot as plt\n",
    "from tqdm.notebook import tqdm"
   ]
  },
  {
   "cell_type": "markdown",
   "metadata": {
    "ExecuteTime": {
     "end_time": "2020-04-21T12:06:30.647525Z",
     "start_time": "2020-04-21T12:06:30.644740Z"
    }
   },
   "source": [
    "# Functions for creating a dog"
   ]
  },
  {
   "cell_type": "code",
   "execution_count": 2,
   "metadata": {
    "ExecuteTime": {
     "end_time": "2020-04-21T17:07:32.923438Z",
     "start_time": "2020-04-21T17:07:32.918871Z"
    }
   },
   "outputs": [],
   "source": [
    "WALKING_TIME = 15\n",
    "EATING_TIME = 1\n",
    "PLAYING_TIME = 4\n",
    "\n",
    "food_consumption_rate = 1.0 / (30 * 3600)\n",
    "affection_consumption_rate = 1.0 / (50 * 3600)\n",
    "walking_fat_converge_rate = 0.2\n",
    "walking_affection_converge_rate = 0.4\n",
    "playing_fat_converge_rate = 0.1\n",
    "playing_affection_converge_rate = 0.20\n",
    "eating_food_increase = 0.6\n",
    "eating_fat_increase = 0.25"
   ]
  },
  {
   "cell_type": "code",
   "execution_count": 3,
   "metadata": {
    "ExecuteTime": {
     "end_time": "2020-04-21T17:07:34.237743Z",
     "start_time": "2020-04-21T17:07:34.207139Z"
    }
   },
   "outputs": [],
   "source": [
    "def transform_to_dec(value):\n",
    "    return np.floor(100*value)/100\n",
    "\n",
    "def apply_decreasing_rate(value: float, rate: float) -> float:\n",
    "    \"\"\"\n",
    "    Apply a decreasing rate to a value\n",
    "    :param value: current value\n",
    "    :param rate: per second\n",
    "    :return: updated value\n",
    "    \"\"\"\n",
    "    return value - (60 * rate)\n",
    "\n",
    "def converge(value: float, target: float, ratio: float) -> float:\n",
    "    diff: float = (target - value) * ratio\n",
    "    return value + diff\n",
    "\n",
    "def update_walking(dog_table_row):\n",
    "    update_fat = converge(dog_table_row.iloc[0]['fat'], 0.0, walking_fat_converge_rate)\n",
    "    update_affection = converge(dog_table_row.iloc[0]['affection'], 1.0, walking_affection_converge_rate)\n",
    "    return (update_fat, update_affection)\n",
    "\n",
    "def update_feeding(dog_table_row):\n",
    "    update_food = min(dog_table_row.iloc[0]['food'] + eating_food_increase, 1.0)\n",
    "    update_fat = min(dog_table_row.iloc[0]['fat'] + eating_fat_increase, 1.0)\n",
    "    return (update_food, update_fat)\n",
    "\n",
    "def update_playing(dog_table_row):\n",
    "    update_fat = converge(dog_table_row.iloc[0]['fat'], 0.0, playing_fat_converge_rate)\n",
    "    update_affection = converge(dog_table_row.iloc[0]['affection'], 1.0, playing_affection_converge_rate)\n",
    "    return (update_fat, update_affection)\n",
    "\n",
    "def update_food(dog_table_row):\n",
    "    return transform_to_dec(max(\n",
    "        0.0,\n",
    "        apply_decreasing_rate(dog_table_row.iloc[0]['food'], food_consumption_rate)\n",
    "    ))\n",
    "\n",
    "def update_affection(dog_table_row):\n",
    "    return transform_to_dec(max(\n",
    "        0.0,\n",
    "        apply_decreasing_rate(dog_table_row.iloc[0]['affection'], affection_consumption_rate)\n",
    "    ))\n",
    "\n",
    "def update_happiness(dog_table_row) -> float:  # between 0 and 1\n",
    "    return min(\n",
    "        dog_table_row.iloc[0]['food'],\n",
    "        1.0 - dog_table_row.iloc[0]['fat'],\n",
    "        dog_table_row.iloc[0]['affection']\n",
    "    )\n",
    "\n",
    "def update_alive(dog_table_row):\n",
    "    return dog_table_row.iloc[0]['alive'] & (dog_table_row.iloc[0]['happiness'] > 0.0)\n",
    "\n",
    "def new_state_after_1_minute(dog_table, action_taken='NO ACTION'):\n",
    "    \n",
    "    dog_table_row = dog_table.tail(1)\n",
    "    new_state_dog_id = dog_table_row.iloc[0]['dog_id']\n",
    "\n",
    "    new_state_fat = dog_table_row.iloc[0]['fat']\n",
    "    new_state_last_action_taken = dog_table_row.iloc[0]['last_action_taken']\n",
    "    new_state_can_action_be_taken = dog_table_row.iloc[0]['can_action_be_taken']\n",
    "    new_state_minutes_since_last_action = dog_table_row.iloc[0]['minutes_since_last_action']\n",
    "    \n",
    "    new_state_minute = dog_table_row.iloc[0]['minute'] + 1\n",
    "    new_state_minutes_since_last_action = dog_table_row.iloc[0]['minutes_since_last_action'] + 1\n",
    "    \n",
    "    new_state_food = update_food(dog_table_row)\n",
    "    new_state_affection = update_affection(dog_table_row)\n",
    "    new_state_happiness = update_happiness(dog_table_row)\n",
    "    new_state_alive = update_alive(dog_table_row)\n",
    "    \n",
    "    if ((action_taken != 'NO ACTION') & (dog_table_row.iloc[0]['can_action_be_taken'])):\n",
    "        new_state_last_action_taken = action_taken\n",
    "        new_state_can_action_be_taken = False\n",
    "        new_state_minutes_since_last_action = 0\n",
    "    \n",
    "    if ((dog_table_row.iloc[0]['last_action_taken'] == 'WALKING') &\n",
    "        (dog_table_row.iloc[0]['minutes_since_last_action'] == WALKING_TIME)):\n",
    "        new_state_fat, new_state_affection = update_walking(dog_table_row)\n",
    "        new_state_last_action_taken = 'NO ACTION'\n",
    "        new_state_can_action_be_taken = True\n",
    "        new_state_minutes_since_last_action = 0        \n",
    "\n",
    "    if ((dog_table_row.iloc[0]['last_action_taken'] == 'FEEDING') &\n",
    "        (dog_table_row.iloc[0]['minutes_since_last_action'] == EATING_TIME)):\n",
    "        new_state_food, new_state_fat = update_feeding(dog_table_row)\n",
    "        new_state_last_action_taken = 'NO ACTION'\n",
    "        new_state_can_action_be_taken = True\n",
    "        new_state_minutes_since_last_action = 0\n",
    "\n",
    "    if ((dog_table_row.iloc[0]['last_action_taken'] == 'PLAYING') &\n",
    "        (dog_table_row.iloc[0]['minutes_since_last_action'] == PLAYING_TIME)):\n",
    "        new_state_fat, new_state_affection = update_playing(dog_table_row)\n",
    "        new_state_last_action_taken = 'NO ACTION'\n",
    "        new_state_can_action_be_taken = True\n",
    "        new_state_minutes_since_last_action = 0\n",
    "\n",
    "\n",
    "    dog_table = dog_table.append({\n",
    "        'dog_id': new_state_dog_id,\n",
    "        'minute': new_state_minute,\n",
    "        'happiness': new_state_happiness,\n",
    "        'food': new_state_food,\n",
    "        'fat': new_state_fat,\n",
    "        'affection': new_state_affection,\n",
    "        'alive': new_state_alive,\n",
    "        'can_action_be_taken': new_state_can_action_be_taken, \n",
    "        'last_action_taken': new_state_last_action_taken,\n",
    "        'minutes_since_last_action': new_state_minutes_since_last_action\n",
    "        }, ignore_index=True)\n",
    "    \n",
    "    return dog_table"
   ]
  },
  {
   "cell_type": "markdown",
   "metadata": {},
   "source": [
    "# Functions for RL"
   ]
  },
  {
   "cell_type": "markdown",
   "metadata": {},
   "source": [
    "## Initialize dog"
   ]
  },
  {
   "cell_type": "code",
   "execution_count": 4,
   "metadata": {
    "ExecuteTime": {
     "end_time": "2020-04-21T17:07:36.138898Z",
     "start_time": "2020-04-21T17:07:36.133983Z"
    }
   },
   "outputs": [],
   "source": [
    "def init_dog_table():\n",
    "\n",
    "    dog_table = pd.DataFrame(columns=[\n",
    "        'dog_id', 'minute',\n",
    "        'happiness', 'food', 'fat', 'affection',\n",
    "        'alive', 'can_action_be_taken', 'last_action_taken', 'minutes_since_last_action'\n",
    "    ])\n",
    "\n",
    "    dog_table = dog_table.append({\n",
    "        'dog_id': 1, 'minute': 0,\n",
    "        'happiness': 0.50, 'food': 0.50, 'fat': 0, 'affection': 0.50,\n",
    "        'alive': True, 'can_action_be_taken': True, 'last_action_taken': 'NO ACTION', 'minutes_since_last_action': 0\n",
    "        }, ignore_index=True)\n",
    "    \n",
    "    return dog_table"
   ]
  },
  {
   "cell_type": "markdown",
   "metadata": {},
   "source": [
    "## Choose action"
   ]
  },
  {
   "cell_type": "code",
   "execution_count": 5,
   "metadata": {
    "ExecuteTime": {
     "end_time": "2020-04-21T17:07:37.777259Z",
     "start_time": "2020-04-21T17:07:37.772764Z"
    }
   },
   "outputs": [],
   "source": [
    "epsilon = 0.3\n",
    "\n",
    "def choose_action(state, Q, action_space):\n",
    "    state_q = get_state_q(state)\n",
    "    if np.random.uniform(0, 1) < epsilon:\n",
    "        action = random.choices(range(len(action_space)), k = 1)[0]\n",
    "    else:\n",
    "        action = np.argmax(Q[state_q, :])\n",
    "    return action"
   ]
  },
  {
   "cell_type": "markdown",
   "metadata": {},
   "source": [
    "## Update Q function"
   ]
  },
  {
   "cell_type": "code",
   "execution_count": 6,
   "metadata": {
    "ExecuteTime": {
     "end_time": "2020-04-21T17:07:39.593962Z",
     "start_time": "2020-04-21T17:07:39.589476Z"
    }
   },
   "outputs": [],
   "source": [
    "def get_state_q(current_state):\n",
    "    return int('{:02d}{:02d}{:02d}'.format(\n",
    "        min(99,int(current_state.iloc[0]['food']*100)),\n",
    "        min(99,int(current_state.iloc[0]['fat']*100)),\n",
    "        min(99,int(current_state.iloc[0]['affection']*100))\n",
    "    ))"
   ]
  },
  {
   "cell_type": "code",
   "execution_count": 7,
   "metadata": {
    "ExecuteTime": {
     "end_time": "2020-04-21T17:07:40.934338Z",
     "start_time": "2020-04-21T17:07:40.928957Z"
    }
   },
   "outputs": [],
   "source": [
    "# Function to learn the Q-value\n",
    "alpha = 0.85\n",
    "gamma = 0.95\n",
    "\n",
    "def update(Q, state, state2, reward, action, action2):\n",
    "    \n",
    "    state_q = get_state_q(state)\n",
    "    state2_q = get_state_q(state2)\n",
    "    \n",
    "    predict = Q[state_q, action]\n",
    "    target = reward + gamma * Q[state2_q, action2]\n",
    "    \n",
    "    Q[state_q, action] = Q[state_q, action] + alpha * (target - predict)\n",
    "    \n",
    "    #print(Q[state_q, action])\n",
    "    \n",
    "    return Q"
   ]
  },
  {
   "cell_type": "markdown",
   "metadata": {},
   "source": [
    "## Define reward"
   ]
  },
  {
   "cell_type": "code",
   "execution_count": 8,
   "metadata": {
    "ExecuteTime": {
     "end_time": "2020-04-21T17:07:42.586581Z",
     "start_time": "2020-04-21T17:07:42.581576Z"
    }
   },
   "outputs": [],
   "source": [
    "def define_reward(state, cnt_limit = 20):\n",
    "    \n",
    "    dog_table_next_hour = state.copy()\n",
    "    cnt = 0\n",
    "    \n",
    "    while ((dog_table_next_hour.tail(1).iloc[0]['alive']) & (cnt < cnt_limit)):\n",
    "        cnt += 1\n",
    "        dog_table_next_hour = new_state_after_1_minute(dog_table_next_hour, action_taken='NO ACTION')\n",
    "\n",
    "    average_happiness = dog_table_next_hour['happiness'].sum()/cnt_limit\n",
    "    \n",
    "    return average_happiness"
   ]
  },
  {
   "cell_type": "markdown",
   "metadata": {},
   "source": [
    "# Q value function - initialisation"
   ]
  },
  {
   "cell_type": "code",
   "execution_count": 9,
   "metadata": {
    "ExecuteTime": {
     "end_time": "2020-04-21T17:07:44.153210Z",
     "start_time": "2020-04-21T17:07:44.149599Z"
    }
   },
   "outputs": [],
   "source": [
    "observation_space_n = 100*100*100\n",
    "action_space = ['NO ACTION', 'WALKING', 'FEEDING', 'PLAYING']\n",
    "action_space_n = len(action_space)"
   ]
  },
  {
   "cell_type": "markdown",
   "metadata": {},
   "source": [
    "# This is where things are done"
   ]
  },
  {
   "cell_type": "code",
   "execution_count": 20,
   "metadata": {
    "ExecuteTime": {
     "end_time": "2020-04-21T17:11:46.589246Z",
     "start_time": "2020-04-21T17:11:46.571379Z"
    }
   },
   "outputs": [],
   "source": [
    "Q = np.zeros((observation_space_n, action_space_n))"
   ]
  },
  {
   "cell_type": "code",
   "execution_count": 21,
   "metadata": {
    "ExecuteTime": {
     "end_time": "2020-04-21T17:11:46.861232Z",
     "start_time": "2020-04-21T17:11:46.858485Z"
    }
   },
   "outputs": [],
   "source": [
    "all_overall_reward = []\n",
    "all_overall_reward_t = []"
   ]
  },
  {
   "cell_type": "code",
   "execution_count": 35,
   "metadata": {
    "ExecuteTime": {
     "end_time": "2020-04-21T17:32:51.806961Z",
     "start_time": "2020-04-21T17:32:51.800780Z"
    }
   },
   "outputs": [],
   "source": [
    "max_steps = 1000\n",
    "total_episodes = 100"
   ]
  },
  {
   "cell_type": "code",
   "execution_count": 40,
   "metadata": {
    "ExecuteTime": {
     "end_time": "2020-04-21T17:42:28.508690Z",
     "start_time": "2020-04-21T17:42:25.788840Z"
    }
   },
   "outputs": [
    {
     "data": {
      "application/vnd.jupyter.widget-view+json": {
       "model_id": "07f8d48af4204537a777f4746e6e630c",
       "version_major": 2,
       "version_minor": 0
      },
      "text/plain": [
       "HBox(children=(FloatProgress(value=0.0), HTML(value='')))"
      ]
     },
     "metadata": {},
     "output_type": "display_data"
    },
    {
     "ename": "KeyboardInterrupt",
     "evalue": "",
     "output_type": "error",
     "traceback": [
      "\u001b[0;31m---------------------------------------------------------------------------\u001b[0m",
      "\u001b[0;31mKeyboardInterrupt\u001b[0m                         Traceback (most recent call last)",
      "\u001b[0;32m<ipython-input-40-7d19972b9f96>\u001b[0m in \u001b[0;36m<module>\u001b[0;34m\u001b[0m\n\u001b[1;32m     24\u001b[0m         \u001b[0mstate2\u001b[0m \u001b[0;34m=\u001b[0m \u001b[0mdog_table\u001b[0m\u001b[0;34m.\u001b[0m\u001b[0mtail\u001b[0m\u001b[0;34m(\u001b[0m\u001b[0;36m1\u001b[0m\u001b[0;34m)\u001b[0m\u001b[0;34m\u001b[0m\u001b[0;34m\u001b[0m\u001b[0m\n\u001b[1;32m     25\u001b[0m \u001b[0;34m\u001b[0m\u001b[0m\n\u001b[0;32m---> 26\u001b[0;31m         \u001b[0mreward\u001b[0m \u001b[0;34m=\u001b[0m \u001b[0mdefine_reward\u001b[0m\u001b[0;34m(\u001b[0m\u001b[0mstate2\u001b[0m\u001b[0;34m)\u001b[0m\u001b[0;34m\u001b[0m\u001b[0;34m\u001b[0m\u001b[0m\n\u001b[0m\u001b[1;32m     27\u001b[0m         \u001b[0moverall_reward\u001b[0m \u001b[0;34m+=\u001b[0m \u001b[0mreward\u001b[0m\u001b[0;34m\u001b[0m\u001b[0;34m\u001b[0m\u001b[0m\n\u001b[1;32m     28\u001b[0m \u001b[0;34m\u001b[0m\u001b[0m\n",
      "\u001b[0;32m<ipython-input-8-2036104961dc>\u001b[0m in \u001b[0;36mdefine_reward\u001b[0;34m(state, cnt_limit)\u001b[0m\n\u001b[1;32m      6\u001b[0m     \u001b[0;32mwhile\u001b[0m \u001b[0;34m(\u001b[0m\u001b[0;34m(\u001b[0m\u001b[0mdog_table_next_hour\u001b[0m\u001b[0;34m.\u001b[0m\u001b[0mtail\u001b[0m\u001b[0;34m(\u001b[0m\u001b[0;36m1\u001b[0m\u001b[0;34m)\u001b[0m\u001b[0;34m.\u001b[0m\u001b[0miloc\u001b[0m\u001b[0;34m[\u001b[0m\u001b[0;36m0\u001b[0m\u001b[0;34m]\u001b[0m\u001b[0;34m[\u001b[0m\u001b[0;34m'alive'\u001b[0m\u001b[0;34m]\u001b[0m\u001b[0;34m)\u001b[0m \u001b[0;34m&\u001b[0m \u001b[0;34m(\u001b[0m\u001b[0mcnt\u001b[0m \u001b[0;34m<\u001b[0m \u001b[0mcnt_limit\u001b[0m\u001b[0;34m)\u001b[0m\u001b[0;34m)\u001b[0m\u001b[0;34m:\u001b[0m\u001b[0;34m\u001b[0m\u001b[0;34m\u001b[0m\u001b[0m\n\u001b[1;32m      7\u001b[0m         \u001b[0mcnt\u001b[0m \u001b[0;34m+=\u001b[0m \u001b[0;36m1\u001b[0m\u001b[0;34m\u001b[0m\u001b[0;34m\u001b[0m\u001b[0m\n\u001b[0;32m----> 8\u001b[0;31m         \u001b[0mdog_table_next_hour\u001b[0m \u001b[0;34m=\u001b[0m \u001b[0mnew_state_after_1_minute\u001b[0m\u001b[0;34m(\u001b[0m\u001b[0mdog_table_next_hour\u001b[0m\u001b[0;34m,\u001b[0m \u001b[0maction_taken\u001b[0m\u001b[0;34m=\u001b[0m\u001b[0;34m'NO ACTION'\u001b[0m\u001b[0;34m)\u001b[0m\u001b[0;34m\u001b[0m\u001b[0;34m\u001b[0m\u001b[0m\n\u001b[0m\u001b[1;32m      9\u001b[0m \u001b[0;34m\u001b[0m\u001b[0m\n\u001b[1;32m     10\u001b[0m     \u001b[0maverage_happiness\u001b[0m \u001b[0;34m=\u001b[0m \u001b[0mdog_table_next_hour\u001b[0m\u001b[0;34m[\u001b[0m\u001b[0;34m'happiness'\u001b[0m\u001b[0;34m]\u001b[0m\u001b[0;34m.\u001b[0m\u001b[0msum\u001b[0m\u001b[0;34m(\u001b[0m\u001b[0;34m)\u001b[0m\u001b[0;34m/\u001b[0m\u001b[0mcnt_limit\u001b[0m\u001b[0;34m\u001b[0m\u001b[0;34m\u001b[0m\u001b[0m\n",
      "\u001b[0;32m<ipython-input-3-5a5cfdbadfa7>\u001b[0m in \u001b[0;36mnew_state_after_1_minute\u001b[0;34m(dog_table, action_taken)\u001b[0m\n\u001b[1;32m    108\u001b[0m         \u001b[0;34m'last_action_taken'\u001b[0m\u001b[0;34m:\u001b[0m \u001b[0mnew_state_last_action_taken\u001b[0m\u001b[0;34m,\u001b[0m\u001b[0;34m\u001b[0m\u001b[0;34m\u001b[0m\u001b[0m\n\u001b[1;32m    109\u001b[0m         \u001b[0;34m'minutes_since_last_action'\u001b[0m\u001b[0;34m:\u001b[0m \u001b[0mnew_state_minutes_since_last_action\u001b[0m\u001b[0;34m\u001b[0m\u001b[0;34m\u001b[0m\u001b[0m\n\u001b[0;32m--> 110\u001b[0;31m         }, ignore_index=True)\n\u001b[0m\u001b[1;32m    111\u001b[0m \u001b[0;34m\u001b[0m\u001b[0m\n\u001b[1;32m    112\u001b[0m     \u001b[0;32mreturn\u001b[0m \u001b[0mdog_table\u001b[0m\u001b[0;34m\u001b[0m\u001b[0;34m\u001b[0m\u001b[0m\n",
      "\u001b[0;32m~/Projects/nlp_testing/.venv/lib/python3.7/site-packages/pandas/core/frame.py\u001b[0m in \u001b[0;36mappend\u001b[0;34m(self, other, ignore_index, verify_integrity, sort)\u001b[0m\n\u001b[1;32m   7136\u001b[0m             \u001b[0mignore_index\u001b[0m\u001b[0;34m=\u001b[0m\u001b[0mignore_index\u001b[0m\u001b[0;34m,\u001b[0m\u001b[0;34m\u001b[0m\u001b[0;34m\u001b[0m\u001b[0m\n\u001b[1;32m   7137\u001b[0m             \u001b[0mverify_integrity\u001b[0m\u001b[0;34m=\u001b[0m\u001b[0mverify_integrity\u001b[0m\u001b[0;34m,\u001b[0m\u001b[0;34m\u001b[0m\u001b[0;34m\u001b[0m\u001b[0m\n\u001b[0;32m-> 7138\u001b[0;31m             \u001b[0msort\u001b[0m\u001b[0;34m=\u001b[0m\u001b[0msort\u001b[0m\u001b[0;34m,\u001b[0m\u001b[0;34m\u001b[0m\u001b[0;34m\u001b[0m\u001b[0m\n\u001b[0m\u001b[1;32m   7139\u001b[0m         )\n\u001b[1;32m   7140\u001b[0m \u001b[0;34m\u001b[0m\u001b[0m\n",
      "\u001b[0;32m~/Projects/nlp_testing/.venv/lib/python3.7/site-packages/pandas/core/reshape/concat.py\u001b[0m in \u001b[0;36mconcat\u001b[0;34m(objs, axis, join, join_axes, ignore_index, keys, levels, names, verify_integrity, sort, copy)\u001b[0m\n\u001b[1;32m    256\u001b[0m     )\n\u001b[1;32m    257\u001b[0m \u001b[0;34m\u001b[0m\u001b[0m\n\u001b[0;32m--> 258\u001b[0;31m     \u001b[0;32mreturn\u001b[0m \u001b[0mop\u001b[0m\u001b[0;34m.\u001b[0m\u001b[0mget_result\u001b[0m\u001b[0;34m(\u001b[0m\u001b[0;34m)\u001b[0m\u001b[0;34m\u001b[0m\u001b[0;34m\u001b[0m\u001b[0m\n\u001b[0m\u001b[1;32m    259\u001b[0m \u001b[0;34m\u001b[0m\u001b[0m\n\u001b[1;32m    260\u001b[0m \u001b[0;34m\u001b[0m\u001b[0m\n",
      "\u001b[0;32m~/Projects/nlp_testing/.venv/lib/python3.7/site-packages/pandas/core/reshape/concat.py\u001b[0m in \u001b[0;36mget_result\u001b[0;34m(self)\u001b[0m\n\u001b[1;32m    471\u001b[0m \u001b[0;34m\u001b[0m\u001b[0m\n\u001b[1;32m    472\u001b[0m             new_data = concatenate_block_managers(\n\u001b[0;32m--> 473\u001b[0;31m                 \u001b[0mmgrs_indexers\u001b[0m\u001b[0;34m,\u001b[0m \u001b[0mself\u001b[0m\u001b[0;34m.\u001b[0m\u001b[0mnew_axes\u001b[0m\u001b[0;34m,\u001b[0m \u001b[0mconcat_axis\u001b[0m\u001b[0;34m=\u001b[0m\u001b[0mself\u001b[0m\u001b[0;34m.\u001b[0m\u001b[0maxis\u001b[0m\u001b[0;34m,\u001b[0m \u001b[0mcopy\u001b[0m\u001b[0;34m=\u001b[0m\u001b[0mself\u001b[0m\u001b[0;34m.\u001b[0m\u001b[0mcopy\u001b[0m\u001b[0;34m\u001b[0m\u001b[0;34m\u001b[0m\u001b[0m\n\u001b[0m\u001b[1;32m    474\u001b[0m             )\n\u001b[1;32m    475\u001b[0m             \u001b[0;32mif\u001b[0m \u001b[0;32mnot\u001b[0m \u001b[0mself\u001b[0m\u001b[0;34m.\u001b[0m\u001b[0mcopy\u001b[0m\u001b[0;34m:\u001b[0m\u001b[0;34m\u001b[0m\u001b[0;34m\u001b[0m\u001b[0m\n",
      "\u001b[0;32m~/Projects/nlp_testing/.venv/lib/python3.7/site-packages/pandas/core/internals/managers.py\u001b[0m in \u001b[0;36mconcatenate_block_managers\u001b[0;34m(mgrs_indexers, axes, concat_axis, copy)\u001b[0m\n\u001b[1;32m   2052\u001b[0m         \u001b[0;32melse\u001b[0m\u001b[0;34m:\u001b[0m\u001b[0;34m\u001b[0m\u001b[0;34m\u001b[0m\u001b[0m\n\u001b[1;32m   2053\u001b[0m             b = make_block(\n\u001b[0;32m-> 2054\u001b[0;31m                 \u001b[0mconcatenate_join_units\u001b[0m\u001b[0;34m(\u001b[0m\u001b[0mjoin_units\u001b[0m\u001b[0;34m,\u001b[0m \u001b[0mconcat_axis\u001b[0m\u001b[0;34m,\u001b[0m \u001b[0mcopy\u001b[0m\u001b[0;34m=\u001b[0m\u001b[0mcopy\u001b[0m\u001b[0;34m)\u001b[0m\u001b[0;34m,\u001b[0m\u001b[0;34m\u001b[0m\u001b[0;34m\u001b[0m\u001b[0m\n\u001b[0m\u001b[1;32m   2055\u001b[0m                 \u001b[0mplacement\u001b[0m\u001b[0;34m=\u001b[0m\u001b[0mplacement\u001b[0m\u001b[0;34m,\u001b[0m\u001b[0;34m\u001b[0m\u001b[0;34m\u001b[0m\u001b[0m\n\u001b[1;32m   2056\u001b[0m             )\n",
      "\u001b[0;32m~/Projects/nlp_testing/.venv/lib/python3.7/site-packages/pandas/core/internals/concat.py\u001b[0m in \u001b[0;36mconcatenate_join_units\u001b[0;34m(join_units, concat_axis, copy)\u001b[0m\n\u001b[1;32m    251\u001b[0m     to_concat = [\n\u001b[1;32m    252\u001b[0m         \u001b[0mju\u001b[0m\u001b[0;34m.\u001b[0m\u001b[0mget_reindexed_values\u001b[0m\u001b[0;34m(\u001b[0m\u001b[0mempty_dtype\u001b[0m\u001b[0;34m=\u001b[0m\u001b[0mempty_dtype\u001b[0m\u001b[0;34m,\u001b[0m \u001b[0mupcasted_na\u001b[0m\u001b[0;34m=\u001b[0m\u001b[0mupcasted_na\u001b[0m\u001b[0;34m)\u001b[0m\u001b[0;34m\u001b[0m\u001b[0;34m\u001b[0m\u001b[0m\n\u001b[0;32m--> 253\u001b[0;31m         \u001b[0;32mfor\u001b[0m \u001b[0mju\u001b[0m \u001b[0;32min\u001b[0m \u001b[0mjoin_units\u001b[0m\u001b[0;34m\u001b[0m\u001b[0;34m\u001b[0m\u001b[0m\n\u001b[0m\u001b[1;32m    254\u001b[0m     ]\n\u001b[1;32m    255\u001b[0m \u001b[0;34m\u001b[0m\u001b[0m\n",
      "\u001b[0;32m~/Projects/nlp_testing/.venv/lib/python3.7/site-packages/pandas/core/internals/concat.py\u001b[0m in \u001b[0;36m<listcomp>\u001b[0;34m(.0)\u001b[0m\n\u001b[1;32m    251\u001b[0m     to_concat = [\n\u001b[1;32m    252\u001b[0m         \u001b[0mju\u001b[0m\u001b[0;34m.\u001b[0m\u001b[0mget_reindexed_values\u001b[0m\u001b[0;34m(\u001b[0m\u001b[0mempty_dtype\u001b[0m\u001b[0;34m=\u001b[0m\u001b[0mempty_dtype\u001b[0m\u001b[0;34m,\u001b[0m \u001b[0mupcasted_na\u001b[0m\u001b[0;34m=\u001b[0m\u001b[0mupcasted_na\u001b[0m\u001b[0;34m)\u001b[0m\u001b[0;34m\u001b[0m\u001b[0;34m\u001b[0m\u001b[0m\n\u001b[0;32m--> 253\u001b[0;31m         \u001b[0;32mfor\u001b[0m \u001b[0mju\u001b[0m \u001b[0;32min\u001b[0m \u001b[0mjoin_units\u001b[0m\u001b[0;34m\u001b[0m\u001b[0;34m\u001b[0m\u001b[0m\n\u001b[0m\u001b[1;32m    254\u001b[0m     ]\n\u001b[1;32m    255\u001b[0m \u001b[0;34m\u001b[0m\u001b[0m\n",
      "\u001b[0;32m~/Projects/nlp_testing/.venv/lib/python3.7/site-packages/pandas/core/internals/concat.py\u001b[0m in \u001b[0;36mget_reindexed_values\u001b[0;34m(self, empty_dtype, upcasted_na)\u001b[0m\n\u001b[1;32m    234\u001b[0m         \u001b[0;32melse\u001b[0m\u001b[0;34m:\u001b[0m\u001b[0;34m\u001b[0m\u001b[0;34m\u001b[0m\u001b[0m\n\u001b[1;32m    235\u001b[0m             \u001b[0;32mfor\u001b[0m \u001b[0max\u001b[0m\u001b[0;34m,\u001b[0m \u001b[0mindexer\u001b[0m \u001b[0;32min\u001b[0m \u001b[0mself\u001b[0m\u001b[0;34m.\u001b[0m\u001b[0mindexers\u001b[0m\u001b[0;34m.\u001b[0m\u001b[0mitems\u001b[0m\u001b[0;34m(\u001b[0m\u001b[0;34m)\u001b[0m\u001b[0;34m:\u001b[0m\u001b[0;34m\u001b[0m\u001b[0;34m\u001b[0m\u001b[0m\n\u001b[0;32m--> 236\u001b[0;31m                 \u001b[0mvalues\u001b[0m \u001b[0;34m=\u001b[0m \u001b[0malgos\u001b[0m\u001b[0;34m.\u001b[0m\u001b[0mtake_nd\u001b[0m\u001b[0;34m(\u001b[0m\u001b[0mvalues\u001b[0m\u001b[0;34m,\u001b[0m \u001b[0mindexer\u001b[0m\u001b[0;34m,\u001b[0m \u001b[0maxis\u001b[0m\u001b[0;34m=\u001b[0m\u001b[0max\u001b[0m\u001b[0;34m,\u001b[0m \u001b[0mfill_value\u001b[0m\u001b[0;34m=\u001b[0m\u001b[0mfill_value\u001b[0m\u001b[0;34m)\u001b[0m\u001b[0;34m\u001b[0m\u001b[0;34m\u001b[0m\u001b[0m\n\u001b[0m\u001b[1;32m    237\u001b[0m \u001b[0;34m\u001b[0m\u001b[0m\n\u001b[1;32m    238\u001b[0m         \u001b[0;32mreturn\u001b[0m \u001b[0mvalues\u001b[0m\u001b[0;34m\u001b[0m\u001b[0;34m\u001b[0m\u001b[0m\n",
      "\u001b[0;32m~/Projects/nlp_testing/.venv/lib/python3.7/site-packages/pandas/core/algorithms.py\u001b[0m in \u001b[0;36mtake_nd\u001b[0;34m(arr, indexer, axis, out, fill_value, mask_info, allow_fill)\u001b[0m\n\u001b[1;32m   1717\u001b[0m \u001b[0;34m\u001b[0m\u001b[0m\n\u001b[1;32m   1718\u001b[0m     func = _get_take_nd_function(\n\u001b[0;32m-> 1719\u001b[0;31m         \u001b[0marr\u001b[0m\u001b[0;34m.\u001b[0m\u001b[0mndim\u001b[0m\u001b[0;34m,\u001b[0m \u001b[0marr\u001b[0m\u001b[0;34m.\u001b[0m\u001b[0mdtype\u001b[0m\u001b[0;34m,\u001b[0m \u001b[0mout\u001b[0m\u001b[0;34m.\u001b[0m\u001b[0mdtype\u001b[0m\u001b[0;34m,\u001b[0m \u001b[0maxis\u001b[0m\u001b[0;34m=\u001b[0m\u001b[0maxis\u001b[0m\u001b[0;34m,\u001b[0m \u001b[0mmask_info\u001b[0m\u001b[0;34m=\u001b[0m\u001b[0mmask_info\u001b[0m\u001b[0;34m\u001b[0m\u001b[0;34m\u001b[0m\u001b[0m\n\u001b[0m\u001b[1;32m   1720\u001b[0m     )\n\u001b[1;32m   1721\u001b[0m     \u001b[0mfunc\u001b[0m\u001b[0;34m(\u001b[0m\u001b[0marr\u001b[0m\u001b[0;34m,\u001b[0m \u001b[0mindexer\u001b[0m\u001b[0;34m,\u001b[0m \u001b[0mout\u001b[0m\u001b[0;34m,\u001b[0m \u001b[0mfill_value\u001b[0m\u001b[0;34m)\u001b[0m\u001b[0;34m\u001b[0m\u001b[0;34m\u001b[0m\u001b[0m\n",
      "\u001b[0;32m~/Projects/nlp_testing/.venv/lib/python3.7/site-packages/pandas/core/algorithms.py\u001b[0m in \u001b[0;36m_get_take_nd_function\u001b[0;34m(ndim, arr_dtype, out_dtype, axis, mask_info)\u001b[0m\n\u001b[1;32m   1486\u001b[0m         \u001b[0;32melif\u001b[0m \u001b[0mndim\u001b[0m \u001b[0;34m==\u001b[0m \u001b[0;36m2\u001b[0m\u001b[0;34m:\u001b[0m\u001b[0;34m\u001b[0m\u001b[0;34m\u001b[0m\u001b[0m\n\u001b[1;32m   1487\u001b[0m             \u001b[0;32mif\u001b[0m \u001b[0maxis\u001b[0m \u001b[0;34m==\u001b[0m \u001b[0;36m0\u001b[0m\u001b[0;34m:\u001b[0m\u001b[0;34m\u001b[0m\u001b[0;34m\u001b[0m\u001b[0m\n\u001b[0;32m-> 1488\u001b[0;31m                 \u001b[0mfunc\u001b[0m \u001b[0;34m=\u001b[0m \u001b[0m_take_2d_axis0_dict\u001b[0m\u001b[0;34m.\u001b[0m\u001b[0mget\u001b[0m\u001b[0;34m(\u001b[0m\u001b[0mtup\u001b[0m\u001b[0;34m,\u001b[0m \u001b[0;32mNone\u001b[0m\u001b[0;34m)\u001b[0m\u001b[0;34m\u001b[0m\u001b[0;34m\u001b[0m\u001b[0m\n\u001b[0m\u001b[1;32m   1489\u001b[0m             \u001b[0;32melse\u001b[0m\u001b[0;34m:\u001b[0m\u001b[0;34m\u001b[0m\u001b[0;34m\u001b[0m\u001b[0m\n\u001b[1;32m   1490\u001b[0m                 \u001b[0mfunc\u001b[0m \u001b[0;34m=\u001b[0m \u001b[0m_take_2d_axis1_dict\u001b[0m\u001b[0;34m.\u001b[0m\u001b[0mget\u001b[0m\u001b[0;34m(\u001b[0m\u001b[0mtup\u001b[0m\u001b[0;34m,\u001b[0m \u001b[0;32mNone\u001b[0m\u001b[0;34m)\u001b[0m\u001b[0;34m\u001b[0m\u001b[0;34m\u001b[0m\u001b[0m\n",
      "\u001b[0;31mKeyboardInterrupt\u001b[0m: "
     ]
    }
   ],
   "source": [
    "# Starting the SARSA learning\n",
    "for episode in trange(total_episodes):\n",
    "    \n",
    "    t = 0\n",
    "    overall_reward = 0\n",
    "    \n",
    "    dog_table = init_dog_table()\n",
    "    state1 = dog_table.tail(1)\n",
    "    \n",
    "    action1 = choose_action(\n",
    "        state = state1,\n",
    "        Q = Q,\n",
    "        action_space = action_space)\n",
    "\n",
    "    for i in range(max_steps):\n",
    "        \n",
    "        if not (state1.iloc[0]['alive']):\n",
    "            break\n",
    "        \n",
    "        #Getting the next state\n",
    "        dog_table = new_state_after_1_minute(\n",
    "            dog_table,\n",
    "            action_taken = action_space[action1])        \n",
    "        state2 = dog_table.tail(1)\n",
    "        \n",
    "        reward = define_reward(state2)\n",
    "        overall_reward += reward\n",
    "        \n",
    "        #Choosing the next action \n",
    "        action2 = choose_action(\n",
    "            state = state2,\n",
    "            Q = Q,\n",
    "            action_space = action_space)\n",
    "        \n",
    "        #Learning the Q-value \n",
    "        Q = update(\n",
    "            Q = Q,\n",
    "            state = state1,\n",
    "            state2 = state2,\n",
    "            reward = reward,\n",
    "            action = action1, \n",
    "            action2 = action2)\n",
    "  \n",
    "        state1 = state2 \n",
    "        action1 = action2 \n",
    "          \n",
    "        #Updating the respective vaLues \n",
    "        t += 1\n",
    "    \n",
    "    all_overall_reward.append(overall_reward)\n",
    "    all_overall_reward_t.append(overall_reward/t)\n",
    "    \n",
    "    print(episode, t, overall_reward, overall_reward/t)\n",
    "    \n",
    "    if len(all_overall_reward) % 10 == 0:\n",
    "        \n",
    "        plt.figure()\n",
    "        plt.plot(range(len(all_overall_reward)), all_overall_reward)\n",
    "        plt.show()\n",
    "\n",
    "        plt.figure()\n",
    "        plt.plot(range(len(all_overall_reward_t)), all_overall_reward_t)\n",
    "        plt.show()\n",
    "\n",
    "    \n",
    "    #for j in range(Q.shape[1]):\n",
    "    #    no_action = []\n",
    "    #    for i in range(Q.shape[0]):\n",
    "    #        no_action.append(Q[i,j])\n",
    "    #    plt.plot(range(Q.shape[0]), no_action)\n",
    "    #plt.show()\n"
   ]
  },
  {
   "cell_type": "code",
   "execution_count": null,
   "metadata": {
    "ExecuteTime": {
     "end_time": "2020-04-21T17:01:10.909410Z",
     "start_time": "2020-04-21T17:01:10.717540Z"
    }
   },
   "outputs": [],
   "source": [
    "plt.figure()\n",
    "plt.plot(range(len(all_overall_reward)), all_overall_reward)\n",
    "plt.show()"
   ]
  },
  {
   "cell_type": "code",
   "execution_count": null,
   "metadata": {
    "ExecuteTime": {
     "end_time": "2020-04-21T16:38:56.231457Z",
     "start_time": "2020-04-21T16:38:52.664547Z"
    }
   },
   "outputs": [],
   "source": [
    "for j in range(Q.shape[1]):\n",
    "    no_action = []\n",
    "    for i in range(Q.shape[0]):\n",
    "        no_action.append(Q[i,j])\n",
    "    plt.plot(range(Q.shape[0]), no_action)"
   ]
  },
  {
   "cell_type": "code",
   "execution_count": null,
   "metadata": {},
   "outputs": [],
   "source": []
  }
 ],
 "metadata": {
  "hide_input": false,
  "kernelspec": {
   "display_name": ".venv",
   "language": "python",
   "name": ".venv"
  },
  "language_info": {
   "codemirror_mode": {
    "name": "ipython",
    "version": 3
   },
   "file_extension": ".py",
   "mimetype": "text/x-python",
   "name": "python",
   "nbconvert_exporter": "python",
   "pygments_lexer": "ipython3",
   "version": "3.7.5"
  },
  "toc": {
   "base_numbering": 1,
   "nav_menu": {},
   "number_sections": true,
   "sideBar": true,
   "skip_h1_title": false,
   "title_cell": "Table of Contents",
   "title_sidebar": "Contents",
   "toc_cell": false,
   "toc_position": {},
   "toc_section_display": true,
   "toc_window_display": false
  }
 },
 "nbformat": 4,
 "nbformat_minor": 2
}
